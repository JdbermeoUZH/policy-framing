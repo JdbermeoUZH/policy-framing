{
 "cells": [
  {
   "cell_type": "code",
   "execution_count": 1,
   "metadata": {
    "collapsed": true
   },
   "outputs": [
    {
     "name": "stderr",
     "output_type": "stream",
     "text": [
      "/home/juanbermeo/anaconda3/envs/Framing/lib/python3.9/site-packages/tqdm/auto.py:22: TqdmWarning: IProgress not found. Please update jupyter and ipywidgets. See https://ipywidgets.readthedocs.io/en/stable/user_install.html\n",
      "  from .autonotebook import tqdm as notebook_tqdm\n"
     ]
    }
   ],
   "source": [
    "import os\n",
    "\n",
    "import numpy as np\n",
    "import pandas as pd\n",
    "import spacy\n",
    "from sklearn.feature_extraction.text import TfidfVectorizer\n",
    "\n",
    "from InputDataset import FramingArticleDataset"
   ]
  },
  {
   "cell_type": "markdown",
   "source": [
    "# Test tokenizer, lemmatization, stopword and punctuation removal with Spacy"
   ],
   "metadata": {
    "collapsed": false
   }
  },
  {
   "cell_type": "code",
   "execution_count": 2,
   "outputs": [],
   "source": [
    "en_nlp = spacy.load('en_core_web_sm')"
   ],
   "metadata": {
    "collapsed": false
   }
  },
  {
   "cell_type": "code",
   "execution_count": 3,
   "outputs": [
    {
     "name": "stderr",
     "output_type": "stream",
     "text": [
      "433it [00:00, 35075.39it/s]\n"
     ]
    }
   ],
   "source": [
    "sem_eval_train = FramingArticleDataset(data_dir='data', language='en', subtask=2, split='train')\n",
    "sem_eval_train.separate_title_content(remove_raw_data_col=False)"
   ],
   "metadata": {
    "collapsed": false
   }
  },
  {
   "cell_type": "markdown",
   "source": [
    "## Generate TF-IDF features"
   ],
   "metadata": {
    "collapsed": false
   }
  },
  {
   "cell_type": "code",
   "execution_count": 4,
   "outputs": [],
   "source": [
    "lemmatize_rm_punct_and_stop = lambda str: [token.lemma_ for token in en_nlp(str) if not token.is_punct and not token.is_stop]"
   ],
   "metadata": {
    "collapsed": false
   }
  },
  {
   "cell_type": "code",
   "execution_count": 5,
   "outputs": [],
   "source": [
    "tf_idf_vectorizer = TfidfVectorizer(tokenizer=lemmatize_rm_punct_and_stop, analyzer='word', max_df=0.95, min_df=5, max_features=None, use_idf=True, smooth_idf=True, sublinear_tf=False)"
   ],
   "metadata": {
    "collapsed": false
   }
  },
  {
   "cell_type": "code",
   "execution_count": 6,
   "outputs": [
    {
     "name": "stdout",
     "output_type": "stream",
     "text": [
      "1.6 µs ± 37.5 ns per loop (mean ± std. dev. of 7 runs, 1,000,000 loops each)\n"
     ]
    }
   ],
   "source": [
    "%timeit tf_idf_vectorizer = TfidfVectorizer(tokenizer=lemmatize_rm_punct_and_stop, analyzer='word', max_df=1, min_df=1, max_features=None, use_idf=True, smooth_idf=True, sublinear_tf=False)"
   ],
   "metadata": {
    "collapsed": false
   }
  },
  {
   "cell_type": "code",
   "execution_count": 7,
   "outputs": [
    {
     "name": "stderr",
     "output_type": "stream",
     "text": [
      "/home/juanbermeo/anaconda3/envs/Framing/lib/python3.9/site-packages/sklearn/feature_extraction/text.py:524: UserWarning: The parameter 'token_pattern' will not be used since 'tokenizer' is not None'\n",
      "  warnings.warn(\n"
     ]
    },
    {
     "data": {
      "text/plain": "TfidfVectorizer(max_df=0.95, min_df=5,\n                tokenizer=<function <lambda> at 0x7fd9236e4af0>)",
      "text/html": "<style>#sk-container-id-1 {color: black;background-color: white;}#sk-container-id-1 pre{padding: 0;}#sk-container-id-1 div.sk-toggleable {background-color: white;}#sk-container-id-1 label.sk-toggleable__label {cursor: pointer;display: block;width: 100%;margin-bottom: 0;padding: 0.3em;box-sizing: border-box;text-align: center;}#sk-container-id-1 label.sk-toggleable__label-arrow:before {content: \"▸\";float: left;margin-right: 0.25em;color: #696969;}#sk-container-id-1 label.sk-toggleable__label-arrow:hover:before {color: black;}#sk-container-id-1 div.sk-estimator:hover label.sk-toggleable__label-arrow:before {color: black;}#sk-container-id-1 div.sk-toggleable__content {max-height: 0;max-width: 0;overflow: hidden;text-align: left;background-color: #f0f8ff;}#sk-container-id-1 div.sk-toggleable__content pre {margin: 0.2em;color: black;border-radius: 0.25em;background-color: #f0f8ff;}#sk-container-id-1 input.sk-toggleable__control:checked~div.sk-toggleable__content {max-height: 200px;max-width: 100%;overflow: auto;}#sk-container-id-1 input.sk-toggleable__control:checked~label.sk-toggleable__label-arrow:before {content: \"▾\";}#sk-container-id-1 div.sk-estimator input.sk-toggleable__control:checked~label.sk-toggleable__label {background-color: #d4ebff;}#sk-container-id-1 div.sk-label input.sk-toggleable__control:checked~label.sk-toggleable__label {background-color: #d4ebff;}#sk-container-id-1 input.sk-hidden--visually {border: 0;clip: rect(1px 1px 1px 1px);clip: rect(1px, 1px, 1px, 1px);height: 1px;margin: -1px;overflow: hidden;padding: 0;position: absolute;width: 1px;}#sk-container-id-1 div.sk-estimator {font-family: monospace;background-color: #f0f8ff;border: 1px dotted black;border-radius: 0.25em;box-sizing: border-box;margin-bottom: 0.5em;}#sk-container-id-1 div.sk-estimator:hover {background-color: #d4ebff;}#sk-container-id-1 div.sk-parallel-item::after {content: \"\";width: 100%;border-bottom: 1px solid gray;flex-grow: 1;}#sk-container-id-1 div.sk-label:hover label.sk-toggleable__label {background-color: #d4ebff;}#sk-container-id-1 div.sk-serial::before {content: \"\";position: absolute;border-left: 1px solid gray;box-sizing: border-box;top: 0;bottom: 0;left: 50%;z-index: 0;}#sk-container-id-1 div.sk-serial {display: flex;flex-direction: column;align-items: center;background-color: white;padding-right: 0.2em;padding-left: 0.2em;position: relative;}#sk-container-id-1 div.sk-item {position: relative;z-index: 1;}#sk-container-id-1 div.sk-parallel {display: flex;align-items: stretch;justify-content: center;background-color: white;position: relative;}#sk-container-id-1 div.sk-item::before, #sk-container-id-1 div.sk-parallel-item::before {content: \"\";position: absolute;border-left: 1px solid gray;box-sizing: border-box;top: 0;bottom: 0;left: 50%;z-index: -1;}#sk-container-id-1 div.sk-parallel-item {display: flex;flex-direction: column;z-index: 1;position: relative;background-color: white;}#sk-container-id-1 div.sk-parallel-item:first-child::after {align-self: flex-end;width: 50%;}#sk-container-id-1 div.sk-parallel-item:last-child::after {align-self: flex-start;width: 50%;}#sk-container-id-1 div.sk-parallel-item:only-child::after {width: 0;}#sk-container-id-1 div.sk-dashed-wrapped {border: 1px dashed gray;margin: 0 0.4em 0.5em 0.4em;box-sizing: border-box;padding-bottom: 0.4em;background-color: white;}#sk-container-id-1 div.sk-label label {font-family: monospace;font-weight: bold;display: inline-block;line-height: 1.2em;}#sk-container-id-1 div.sk-label-container {text-align: center;}#sk-container-id-1 div.sk-container {/* jupyter's `normalize.less` sets `[hidden] { display: none; }` but bootstrap.min.css set `[hidden] { display: none !important; }` so we also need the `!important` here to be able to override the default hidden behavior on the sphinx rendered scikit-learn.org. See: https://github.com/scikit-learn/scikit-learn/issues/21755 */display: inline-block !important;position: relative;}#sk-container-id-1 div.sk-text-repr-fallback {display: none;}</style><div id=\"sk-container-id-1\" class=\"sk-top-container\"><div class=\"sk-text-repr-fallback\"><pre>TfidfVectorizer(max_df=0.95, min_df=5,\n                tokenizer=&lt;function &lt;lambda&gt; at 0x7fd9236e4af0&gt;)</pre><b>In a Jupyter environment, please rerun this cell to show the HTML representation or trust the notebook. <br />On GitHub, the HTML representation is unable to render, please try loading this page with nbviewer.org.</b></div><div class=\"sk-container\" hidden><div class=\"sk-item\"><div class=\"sk-estimator sk-toggleable\"><input class=\"sk-toggleable__control sk-hidden--visually\" id=\"sk-estimator-id-1\" type=\"checkbox\" checked><label for=\"sk-estimator-id-1\" class=\"sk-toggleable__label sk-toggleable__label-arrow\">TfidfVectorizer</label><div class=\"sk-toggleable__content\"><pre>TfidfVectorizer(max_df=0.95, min_df=5,\n                tokenizer=&lt;function &lt;lambda&gt; at 0x7fd9236e4af0&gt;)</pre></div></div></div></div></div>"
     },
     "execution_count": 7,
     "metadata": {},
     "output_type": "execute_result"
    }
   ],
   "source": [
    "tf_idf_vectorizer.fit(sem_eval_train.df.raw_text.to_list())"
   ],
   "metadata": {
    "collapsed": false
   }
  },
  {
   "cell_type": "code",
   "execution_count": 8,
   "outputs": [
    {
     "name": "stderr",
     "output_type": "stream",
     "text": [
      "/home/juanbermeo/anaconda3/envs/Framing/lib/python3.9/site-packages/sklearn/utils/deprecation.py:87: FutureWarning: Function get_feature_names is deprecated; get_feature_names is deprecated in 1.0 and will be removed in 1.2. Please use get_feature_names_out instead.\n",
      "  warnings.warn(msg, category=FutureWarning)\n"
     ]
    },
    {
     "data": {
      "text/plain": "4348"
     },
     "execution_count": 8,
     "metadata": {},
     "output_type": "execute_result"
    }
   ],
   "source": [
    "len(tf_idf_vectorizer.get_feature_names())"
   ],
   "metadata": {
    "collapsed": false
   }
  },
  {
   "cell_type": "code",
   "execution_count": 9,
   "outputs": [
    {
     "data": {
      "text/plain": "['\\n\\n\\n',\n '\\n\\n\\n\\n',\n '\\n\\n\\n\\n\\n',\n ' ',\n '$',\n '+',\n '1',\n '1,000',\n '1.2',\n '10',\n '10,000',\n '100',\n '100,000',\n '11',\n '11th',\n '12',\n '120',\n '13',\n '14',\n '15',\n '150',\n '16',\n '17',\n '18',\n '19',\n '1960',\n '1961',\n '1965',\n '1976',\n '1979',\n '1980',\n '1982',\n '1983',\n '1990',\n '1990s',\n '1993',\n '1994',\n '1995',\n '1997',\n '1998',\n '19th',\n '1st',\n '2',\n '2,000',\n '20',\n '200',\n '2000',\n '2001',\n '2002',\n '2003',\n '2004',\n '2005',\n '2006',\n '2007',\n '2008',\n '2009',\n '2010',\n '2011',\n '2012',\n '2013',\n '2014',\n '2015',\n '2016',\n '2017',\n '2018',\n '2019',\n '2020',\n '21',\n '22',\n '23',\n '24',\n '24/7',\n '25',\n '26',\n '27',\n '28',\n '29',\n '3',\n '30',\n '300',\n '31',\n '32',\n '32nd',\n '33',\n '34',\n '35',\n '36',\n '38',\n '39',\n '3d',\n '4',\n '40',\n '45',\n '46',\n '47',\n '48',\n '49',\n '5',\n '5,000',\n '50',\n '50,000',\n '500',\n '51',\n '53',\n '54',\n '55',\n '58',\n '5th',\n '6',\n '60',\n '600',\n '66',\n '7',\n '70',\n '700',\n '73',\n '75',\n '8',\n '80',\n '800',\n '84',\n '9',\n '9/11',\n '90',\n '91',\n '911',\n '@realdonaldtrump',\n 'a.',\n 'abandon',\n 'abc',\n 'abdul',\n 'abedin',\n 'abet',\n 'abide',\n 'ability',\n 'able',\n 'abnormal',\n 'abortion',\n 'abroad',\n 'absolute',\n 'absolutely',\n 'absurd',\n 'abu',\n 'abuse',\n 'abuser',\n 'abusive',\n 'academic',\n 'accelerate',\n 'accept',\n 'acceptable',\n 'acceptance',\n 'access',\n 'accident',\n 'accidentally',\n 'accommodate',\n 'accommodation',\n 'accompany',\n 'accomplish',\n 'accord',\n 'account',\n 'accountability',\n 'accountable',\n 'accurate',\n 'accusation',\n 'accuse',\n 'accuser',\n 'achieve',\n 'achievement',\n 'acknowledge',\n 'acosta',\n 'acquire',\n 'acquit',\n 'act',\n 'action',\n 'active',\n 'actively',\n 'activism',\n 'activist',\n 'activity',\n 'actor',\n 'actual',\n 'actually',\n 'ad',\n 'adam',\n 'add',\n 'addition',\n 'additional',\n 'additionally',\n 'address',\n 'adhere',\n 'adl',\n 'administer',\n 'administration',\n 'administrative',\n 'administrator',\n 'admission',\n 'admit',\n 'adolf',\n 'adopt',\n 'adult',\n 'adulterer',\n 'adultery',\n 'advance',\n 'advanced',\n 'advantage',\n 'adversary',\n 'advice',\n 'advise',\n 'adviser',\n 'advisor',\n 'advocate',\n 'affair',\n 'affect',\n 'affected',\n 'affidavit',\n 'affiliate',\n 'affiliation',\n 'affirm',\n 'afford',\n 'afghanistan',\n 'afp',\n 'afraid',\n 'africa',\n 'african',\n 'aftermath',\n 'afternoon',\n 'ag',\n 'age',\n 'agency',\n 'agenda',\n 'agent',\n 'aggravated',\n 'aggression',\n 'aggressive',\n 'aggressively',\n 'ago',\n 'agree',\n 'agreement',\n 'ahead',\n 'ai',\n 'aid',\n 'aide',\n 'aim',\n 'air',\n 'airborne',\n 'aircraft',\n 'aire',\n 'airport',\n 'aka',\n 'akbar',\n 'al',\n 'alabama',\n 'alan',\n 'alarm',\n 'albeit',\n 'alcohol',\n 'alert',\n 'alex',\n 'alexander',\n 'alexandria',\n 'ali',\n 'alien',\n 'align',\n 'alike',\n 'alive',\n 'allah',\n 'allahu',\n 'allegation',\n 'allege',\n 'alleged',\n 'allegedly',\n 'allen',\n 'alliance',\n 'allow',\n 'ally',\n 'alongside',\n 'altar',\n 'alter',\n 'alternative',\n 'altogether',\n 'amazing',\n 'amazon.com',\n 'ambassador',\n 'ambella',\n 'amber',\n 'ambiguous',\n 'ambition',\n 'amend',\n 'amendment',\n 'america',\n 'american',\n 'americans',\n 'amid',\n 'ammo',\n 'ammunition',\n 'amnesty',\n 'amoris',\n 'amount',\n 'amy',\n 'analysis',\n 'analyst',\n 'analyze',\n 'anchor',\n 'ancient',\n 'and/or',\n 'anderson',\n 'andrew',\n 'angeles',\n 'anger',\n 'angry',\n 'animal',\n 'anita',\n 'anniversary',\n 'announce',\n 'announcement',\n 'annual',\n 'anonymity',\n 'answer',\n 'anthony',\n 'anti',\n 'antibiotic',\n 'anticipate',\n 'antonio',\n 'anxious',\n 'anybody',\n 'anymore',\n 'anytime',\n 'ap',\n 'apart',\n 'apartment',\n 'apologist',\n 'apologize',\n 'apology',\n 'apostasy',\n 'apostle',\n 'apostolic',\n 'apparatus',\n 'apparent',\n 'apparently',\n 'appeal',\n 'appear',\n 'appearance',\n 'appeasement',\n 'applaud',\n 'applause',\n 'apple',\n 'application',\n 'apply',\n 'appoint',\n 'appointee',\n 'appointment',\n 'appreciate',\n 'apprehend',\n 'approach',\n 'appropriate',\n 'approval',\n 'approve',\n 'approximately',\n 'april',\n 'ar-15',\n 'arab',\n 'arabia',\n 'arabic',\n 'arch',\n 'archbishop',\n 'archdiocese',\n 'area',\n 'argue',\n 'argument',\n 'arise',\n 'arizona',\n 'arm',\n 'armed',\n 'army',\n 'arrange',\n 'arrangement',\n 'arrest',\n 'arrival',\n 'arrive',\n 'art',\n 'article',\n 'aside',\n 'ask',\n 'aspect',\n 'assad',\n 'assange',\n 'assassinate',\n 'assassination',\n 'assault',\n 'assemble',\n 'assembly',\n 'assert',\n 'assertion',\n 'assessment',\n 'asset',\n 'assign',\n 'assignment',\n 'assist',\n 'assistance',\n 'assistant',\n 'associate',\n 'associated',\n 'association',\n 'assume',\n 'assumption',\n 'assurance',\n 'assure',\n 'astonishing',\n 'asylum',\n 'athanasius',\n 'atlanta',\n 'atmosphere',\n 'atrocity',\n 'attach',\n 'attack',\n 'attacker',\n 'attempt',\n 'attend',\n 'attendance',\n 'attention',\n 'attitude',\n 'attorney',\n 'attract',\n 'attribute',\n 'audience',\n 'audio',\n 'auditory',\n 'aug',\n 'august',\n 'australia',\n 'australian',\n 'austria',\n 'authentic',\n 'author',\n 'authoritarian',\n 'authority',\n 'authorize',\n 'auto',\n 'automatic',\n 'autopsy',\n 'auxiliary',\n 'avail',\n 'available',\n 'average',\n 'avoid',\n 'await',\n 'award',\n 'aware',\n 'away',\n 'ayatollah',\n 'b',\n 'b.',\n 'baby',\n 'back',\n 'background',\n 'backlash',\n 'bacteria',\n 'bad',\n 'badly',\n 'bag',\n 'bail',\n 'balance',\n 'balanced',\n 'ball',\n 'ballistic',\n 'ballot',\n 'ban',\n 'bank',\n 'banking',\n 'bar',\n 'barack',\n 'barb',\n 'barely',\n 'barr',\n 'barrel',\n 'barrier',\n 'barro',\n 'barros',\n 'base',\n 'bashar',\n 'basic',\n 'basically',\n 'basis',\n 'bat',\n 'battery',\n 'battle',\n 'bay',\n 'bbc',\n 'bds',\n 'beach',\n 'beacon',\n 'bear',\n 'beast',\n 'beat',\n 'beautiful',\n 'bed',\n 'beg',\n 'begin',\n 'beginning',\n 'behalf',\n 'behave',\n 'behavior',\n 'beijing',\n 'belief',\n 'believe',\n 'believer',\n 'belong',\n 'ben',\n 'bench',\n 'bend',\n 'benedict',\n 'benefit',\n 'bergoglian',\n 'bergoglio',\n 'bernie',\n 'bet',\n 'betray',\n 'betrayal',\n 'bias',\n 'biased',\n 'bible',\n 'biblical',\n 'bid',\n 'big',\n 'bigotry',\n 'bikoro',\n 'bill',\n 'billion',\n 'bind',\n 'biological',\n 'bishop',\n 'bit',\n 'bite',\n 'bitter',\n 'bizarre',\n 'black',\n 'blame',\n 'blank',\n 'blasey',\n 'blasphemy',\n 'blast',\n 'blatant',\n 'blatantly',\n 'bleeding',\n 'bless',\n 'blessing',\n 'blind',\n 'block',\n 'blog',\n 'blogger',\n 'blood',\n 'blow',\n 'blue',\n 'blueprint',\n 'board',\n 'bob',\n 'bodily',\n 'body',\n 'bogus',\n 'bolster',\n 'bolton',\n 'bomb',\n 'bombshell',\n 'bond',\n 'bone',\n 'book',\n 'booker',\n 'boost',\n 'boot',\n 'border',\n 'boss',\n 'boston',\n 'botham',\n 'bother',\n 'bottle',\n 'boundary',\n 'bow',\n 'box',\n 'boy',\n 'boycott',\n 'brain',\n 'branch',\n 'brave',\n 'brazil',\n 'breach',\n 'break',\n 'breaking',\n 'breitbart',\n 'brennan',\n 'brett',\n 'brexit',\n 'brian',\n 'bridge',\n 'brief',\n 'briefing',\n 'briefly',\n 'bright',\n 'bring',\n 'britain',\n 'british',\n 'broad',\n 'broadcast',\n 'brother',\n 'brotherhood',\n 'broward',\n 'bruce',\n 'brush',\n 'brussels',\n 'bubonic',\n 'buchanan',\n 'budapest',\n 'budget',\n 'buenos',\n 'build',\n 'building',\n 'bullet',\n 'bully',\n 'bump',\n 'burden',\n 'bureau',\n 'burke',\n 'burn',\n 'bury',\n 'bus',\n 'bush',\n 'business',\n 'busy',\n 'buy',\n 'bypass',\n 'c',\n 'c.',\n 'cable',\n 'caliber',\n 'calif',\n 'california',\n 'call',\n 'caller',\n 'calumny',\n 'camera',\n 'camp',\n 'campaign',\n 'campos',\n 'campus',\n 'canada',\n 'canadian',\n 'cancel',\n 'candidate',\n 'canon',\n 'canonical',\n 'canterbury',\n 'capability',\n 'capable',\n 'capacity',\n 'capital',\n 'capitol',\n 'capture',\n 'car',\n 'caravan',\n 'card',\n 'cardinal',\n 'care',\n 'career',\n 'careful',\n 'carefully',\n 'carlo',\n 'carlos',\n 'carlson',\n 'carolina',\n 'carry',\n 'carter',\n 'case',\n 'cash',\n 'casino',\n 'cast',\n 'castro',\n 'catastrophic',\n 'catch',\n 'catechism',\n 'categorically',\n 'category',\n 'catholic',\n 'catholicism',\n 'caucus',\n 'cause',\n 'cave',\n 'cbc',\n 'cbs',\n 'cease',\n 'celebrate',\n 'celebration',\n 'cell',\n 'censor',\n 'censorship',\n 'center',\n 'central',\n 'centre',\n 'century',\n 'ceremony',\n 'certain',\n 'certainly',\n 'certainty',\n 'certify',\n 'chain',\n 'chair',\n 'chairman',\n 'challenge',\n 'champion',\n 'chance',\n 'chancellor',\n 'change',\n 'channel',\n 'chant',\n 'chaos',\n 'chapter',\n 'character',\n 'characterize',\n 'charge',\n 'charity',\n 'charles',\n 'check',\n 'chicago',\n 'chief',\n 'child',\n 'chile',\n 'chilean',\n 'china',\n 'chinese',\n 'chip',\n 'choice',\n 'choose',\n 'chop',\n 'chris',\n 'christ',\n 'christian',\n 'christianity',\n 'christine',\n 'christopher',\n 'chuck',\n 'church',\n 'cia',\n 'circle',\n 'circuit',\n 'circulate',\n 'circumstance',\n 'circumvent',\n 'circus',\n 'cite',\n 'citizen',\n 'city',\n 'civic',\n 'civil',\n 'civilian',\n 'civilization',\n 'claim',\n 'clarence',\n 'clarification',\n 'clarify',\n 'clarity',\n 'clark',\n 'clash',\n 'class',\n 'classic',\n 'classified',\n 'classify',\n 'clause',\n 'clayton',\n 'clean',\n 'clear',\n 'clearly',\n 'clergy',\n 'cleric',\n 'clerical',\n 'click',\n 'client',\n 'cliff',\n 'climate',\n 'climb',\n 'clinical',\n 'clinton',\n 'clip',\n 'close',\n 'closed',\n 'closely',\n 'closing',\n 'clothe',\n 'clothing',\n 'cloud',\n 'cnn',\n 'co',\n 'coalition',\n 'coast',\n 'code',\n 'cody',\n 'coin',\n 'coincidence',\n 'cold',\n 'collaborate',\n 'collaborator',\n 'collapse',\n 'colleague',\n 'collect',\n 'collection',\n 'college',\n 'collins',\n 'collude',\n 'collusion',\n 'color',\n 'columbia',\n 'columbus',\n 'column',\n 'columnist',\n 'combat',\n 'combination',\n 'combine',\n 'come',\n 'comeback',\n 'comedian',\n 'comedy',\n 'comey',\n 'comfort',\n 'comfortable',\n 'command',\n 'commander',\n 'commandment',\n 'comment',\n 'commentary',\n 'commentator',\n 'commercial',\n 'commission',\n 'commit',\n 'commitment',\n 'committee',\n 'common',\n 'commonly',\n 'communicate',\n 'communication',\n 'communion',\n 'communism',\n 'communist',\n 'community',\n 'company',\n 'compare',\n 'comparison',\n 'compile',\n 'complain',\n 'complaint',\n 'complement',\n 'complete',\n 'completely',\n 'complex',\n 'compliance',\n 'complicit',\n 'complicity',\n 'comply',\n 'component',\n 'compound',\n 'comprehensive',\n 'compromise',\n 'computer',\n 'conceal',\n 'concealment',\n 'concede',\n 'concentration',\n 'concept',\n 'concern',\n 'concerned',\n 'concert',\n 'concession',\n 'conciliar',\n 'conclave',\n 'conclude',\n 'conclusion',\n 'concoct',\n 'concrete',\n 'condemn',\n 'condemnation',\n 'condition',\n 'condone',\n 'conduct',\n 'conference',\n 'confess',\n 'confession',\n 'confidence',\n 'confident',\n 'confidential',\n 'confine',\n 'confinement',\n 'confirm',\n 'confirmation',\n 'conflict',\n 'confront',\n 'confrontation',\n 'confusion',\n 'congo',\n 'congratulation',\n 'congregation',\n 'congress',\n 'congressional',\n 'congressman',\n 'conjunction',\n 'connect',\n 'connecticut',\n 'connection',\n 'conquer',\n 'conquest',\n 'conscience',\n 'consecrate',\n 'consecutive',\n 'consensus',\n 'consent',\n 'consequence',\n 'consequently',\n 'conservative',\n 'consider',\n 'considerable',\n 'consideration',\n 'consistent',\n 'consistently',\n 'conspiracy',\n 'conspire',\n 'constant',\n 'constantly',\n 'constituent',\n 'constitute',\n 'constitution',\n 'constitution.com',\n 'constitutional',\n 'consulate',\n 'consult',\n 'consultant',\n 'contact',\n 'contain',\n 'contemplative',\n 'contend',\n 'content',\n 'contentious',\n 'contest',\n 'context',\n 'continent',\n 'continue',\n 'continued',\n 'continuity',\n 'continuous',\n 'continuously',\n 'contract',\n 'contradict',\n 'contradiction',\n 'contradictory',\n 'contrary',\n 'contrast',\n 'contribute',\n 'contribution',\n 'control',\n 'controversial',\n 'controversy',\n 'conversation',\n 'conversion',\n 'convert',\n 'convey',\n 'convict',\n 'conviction',\n 'convince',\n 'cool',\n 'cooperate',\n 'cooperation',\n 'coordinate',\n 'coordination',\n 'coordinator',\n 'cop',\n 'cope',\n 'copy',\n 'cor',\n 'core',\n 'corner',\n 'corporate',\n 'corporation',\n 'corps',\n 'corpse',\n 'correct',\n 'correction',\n 'correctness',\n 'correspondent',\n 'corroborate',\n 'corrupt',\n 'corruption',\n 'cory',\n 'cost',\n 'cough',\n 'council',\n 'counsel',\n 'count',\n 'counter',\n 'counterpart',\n 'countless',\n 'country',\n 'county',\n 'coup',\n 'couple',\n 'courage',\n 'courageous',\n ...]"
     },
     "execution_count": 9,
     "metadata": {},
     "output_type": "execute_result"
    }
   ],
   "source": [
    "tf_idf_vectorizer.get_feature_names()"
   ],
   "metadata": {
    "collapsed": false
   }
  },
  {
   "cell_type": "code",
   "execution_count": 10,
   "outputs": [
    {
     "data": {
      "text/plain": "<2x4348 sparse matrix of type '<class 'numpy.float64'>'\n\twith 415 stored elements in Compressed Sparse Row format>"
     },
     "execution_count": 10,
     "metadata": {},
     "output_type": "execute_result"
    }
   ],
   "source": [
    "tf_idf_vectorizer.transform(sem_eval_train.df.raw_text.iloc[10:12])"
   ],
   "metadata": {
    "collapsed": false
   }
  }
 ],
 "metadata": {
  "kernelspec": {
   "display_name": "Python 3",
   "language": "python",
   "name": "python3"
  },
  "language_info": {
   "codemirror_mode": {
    "name": "ipython",
    "version": 2
   },
   "file_extension": ".py",
   "mimetype": "text/x-python",
   "name": "python",
   "nbconvert_exporter": "python",
   "pygments_lexer": "ipython2",
   "version": "2.7.6"
  }
 },
 "nbformat": 4,
 "nbformat_minor": 0
}
