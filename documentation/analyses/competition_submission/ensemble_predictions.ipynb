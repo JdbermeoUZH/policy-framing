{
 "cells": [
  {
   "cell_type": "code",
   "execution_count": 98,
   "metadata": {
    "collapsed": true
   },
   "outputs": [],
   "source": [
    "import os\n",
    "import re\n",
    "import glob\n",
    "\n",
    "import numpy as np\n",
    "import pandas as pd\n",
    "from sklearn.metrics import f1_score\n",
    "from sklearn.preprocessing import MultiLabelBinarizer\n",
    "\n",
    "LANGUAGES = ('en', 'it', 'fr', 'po', 'ru', 'ge')\n",
    "LABELS = ('Economic', 'Capacity_and_resources', 'Morality', 'Fairness_and_equality',\n",
    "          'Legality_Constitutionality_and_jurisprudence', 'Policy_prescription_and_evaluation', 'Crime_and_punishment',\n",
    "          'Security_and_defense', 'Health_and_safety', 'Quality_of_life', 'Cultural_identity', 'Public_opinion',\n",
    "          'Political', 'External_regulation_and_reputation')"
   ]
  },
  {
   "cell_type": "markdown",
   "source": [
    "# Load Data"
   ],
   "metadata": {
    "collapsed": false
   }
  },
  {
   "cell_type": "code",
   "execution_count": 79,
   "outputs": [],
   "source": [
    "base_dir = os.path.join('..', '..', '..','predictions')\n",
    "models_dir = os.path.join(base_dir, 'best_models')\n",
    "preds_dir = os.path.join(base_dir, 'predicted_instances')\n",
    "preprocessed_dir = os.path.join('..', '..', '..', 'data', 'preprocessed')"
   ],
   "metadata": {
    "collapsed": false
   }
  },
  {
   "cell_type": "code",
   "execution_count": 80,
   "outputs": [
    {
     "data": {
      "text/plain": "['input_ru_train_and_dev.csv',\n 'input_fr_train.csv',\n 'input_ru_dev.csv',\n 'input_fr_train_and_dev.csv',\n 'input_ru_train.csv',\n 'input_ge_train_and_dev.csv',\n 'input_fr_dev.csv',\n 'input_fr_test.csv',\n 'input_ge_dev.csv',\n 'input_it_train.csv',\n 'input_en_train.csv',\n 'input_it_test.csv',\n 'input_it_train_and_dev.csv',\n 'input_ge_test.csv',\n 'input_po_test.csv',\n 'input_it_dev.csv',\n 'input_en_train_and_dev.csv',\n 'input_en_test.csv',\n 'input_po_train_and_dev.csv',\n 'input_en_dev.csv',\n 'input_ru_test.csv',\n 'input_ge_train.csv',\n 'input_po_dev.csv',\n 'input_po_train.csv']"
     },
     "execution_count": 80,
     "metadata": {},
     "output_type": "execute_result"
    }
   ],
   "source": [
    "os.listdir(preprocessed_dir)"
   ],
   "metadata": {
    "collapsed": false
   }
  },
  {
   "cell_type": "markdown",
   "source": [
    "# Assess Performance of each model"
   ],
   "metadata": {
    "collapsed": false
   }
  },
  {
   "cell_type": "markdown",
   "source": [
    "# Voting Classifier\n",
    "\n",
    "## en"
   ],
   "metadata": {
    "collapsed": false
   }
  },
  {
   "cell_type": "code",
   "execution_count": 93,
   "outputs": [],
   "source": [
    "# load ground truth\n",
    "en_dev_df = pd.read_csv(os.path.join(preprocessed_dir, 'input_en_dev.csv'), index_col = 'id')\n",
    "en_train_dev_df = pd.read_csv(os.path.join(preprocessed_dir, 'input_en_train_and_dev.csv'), index_col = 'id')\n",
    "en_dev_df = en_dev_df[[]].join(en_train_dev_df)"
   ],
   "metadata": {
    "collapsed": false
   }
  },
  {
   "cell_type": "code",
   "execution_count": 96,
   "outputs": [],
   "source": [
    "mlb = MultiLabelBinarizer()\n",
    "mlb.fit([LABELS])\n",
    "y_dev = mlb.transform(en_dev_df.frames.str.split(','))\n",
    "y_dev_df = pd.DataFrame(y_dev, columns=LABELS, index=en_dev_df.index)"
   ],
   "metadata": {
    "collapsed": false
   }
  },
  {
   "cell_type": "code",
   "execution_count": 120,
   "outputs": [
    {
     "name": "stdout",
     "output_type": "stream",
     "text": [
      "SVM_sigmoid_BorderlineSMOTE\n",
      "f1 micro: 0.6907730673316708 \n",
      "\n",
      "ComplementNaiveBayes_ROS\n",
      "f1 micro: 0.6804878048780487 \n",
      "\n"
     ]
    }
   ],
   "source": [
    "train_dir = os.path.join(preds_dir, 'on_evalset_dev', 'en')\n",
    "df = None\n",
    "cols_to_use = list()\n",
    "for i, train_df_path_i in enumerate(glob.glob(os.path.join(train_dir, \"*.csv\"))):\n",
    "    exp_name = re.search(r'^[a-z]{2}_(([a-zA-Z]|_)+)+_y', os.path.basename(train_df_path_i)).group(1)\n",
    "    preds_i_df = pd.read_csv(train_df_path_i, index_col='id').add_prefix(exp_name)\n",
    "    f1_micro = f1_score(y_dev_df, preds_i_df, average='micro')\n",
    "\n",
    "    if f1_micro > 0.67:\n",
    "        print(exp_name)\n",
    "        print(f\"f1 micro: {f1_micro} \\n\")\n",
    "        cols_to_use += list(preds_i_df.columns)\n",
    "\n",
    "    if i == 0:\n",
    "        df = preds_i_df\n",
    "    else:\n",
    "        df = df.join(preds_i_df)"
   ],
   "metadata": {
    "collapsed": false
   }
  },
  {
   "cell_type": "code",
   "execution_count": 122,
   "outputs": [
    {
     "data": {
      "text/plain": "['SVM_sigmoid_BorderlineSMOTEEconomic',\n 'SVM_sigmoid_BorderlineSMOTECapacity_and_resources',\n 'SVM_sigmoid_BorderlineSMOTEMorality',\n 'SVM_sigmoid_BorderlineSMOTEFairness_and_equality',\n 'SVM_sigmoid_BorderlineSMOTELegality_Constitutionality_and_jurisprudence',\n 'SVM_sigmoid_BorderlineSMOTEPolicy_prescription_and_evaluation',\n 'SVM_sigmoid_BorderlineSMOTECrime_and_punishment',\n 'SVM_sigmoid_BorderlineSMOTESecurity_and_defense',\n 'SVM_sigmoid_BorderlineSMOTEHealth_and_safety',\n 'SVM_sigmoid_BorderlineSMOTEQuality_of_life',\n 'SVM_sigmoid_BorderlineSMOTECultural_identity',\n 'SVM_sigmoid_BorderlineSMOTEPublic_opinion',\n 'SVM_sigmoid_BorderlineSMOTEPolitical',\n 'SVM_sigmoid_BorderlineSMOTEExternal_regulation_and_reputation',\n 'ComplementNaiveBayes_ROSEconomic',\n 'ComplementNaiveBayes_ROSCapacity_and_resources',\n 'ComplementNaiveBayes_ROSMorality',\n 'ComplementNaiveBayes_ROSFairness_and_equality',\n 'ComplementNaiveBayes_ROSLegality_Constitutionality_and_jurisprudence',\n 'ComplementNaiveBayes_ROSPolicy_prescription_and_evaluation',\n 'ComplementNaiveBayes_ROSCrime_and_punishment',\n 'ComplementNaiveBayes_ROSSecurity_and_defense',\n 'ComplementNaiveBayes_ROSHealth_and_safety',\n 'ComplementNaiveBayes_ROSQuality_of_life',\n 'ComplementNaiveBayes_ROSCultural_identity',\n 'ComplementNaiveBayes_ROSPublic_opinion',\n 'ComplementNaiveBayes_ROSPolitical',\n 'ComplementNaiveBayes_ROSExternal_regulation_and_reputation']"
     },
     "execution_count": 122,
     "metadata": {},
     "output_type": "execute_result"
    }
   ],
   "source": [
    "cols_to_use"
   ],
   "metadata": {
    "collapsed": false
   }
  },
  {
   "cell_type": "code",
   "execution_count": 123,
   "outputs": [],
   "source": [
    "for i, label_i in enumerate(LABELS):\n",
    "    if i == 0:\n",
    "        voting_pred_df = pd.DataFrame(df[[col for col in df.columns if label_i in col and col in cols_to_use]].mean(axis=1).rename(label_i))\n",
    "    else:\n",
    "        voting_pred_df = voting_pred_df.join(df[[col for col in df.columns if label_i in col and col in cols_to_use]].mean(axis=1).rename(label_i))"
   ],
   "metadata": {
    "collapsed": false
   }
  },
  {
   "cell_type": "code",
   "execution_count": 124,
   "outputs": [
    {
     "data": {
      "text/plain": "0.6640106241699867"
     },
     "execution_count": 124,
     "metadata": {},
     "output_type": "execute_result"
    }
   ],
   "source": [
    "# models with f1-score above 0.67\n",
    "f1_score(y_dev_df, (voting_pred_df > 0.5).astype(int), average='micro')"
   ],
   "metadata": {
    "collapsed": false
   }
  },
  {
   "cell_type": "code",
   "execution_count": 114,
   "outputs": [
    {
     "data": {
      "text/plain": "0.6621067031463749"
     },
     "execution_count": 114,
     "metadata": {},
     "output_type": "execute_result"
    }
   ],
   "source": [
    "# models with f1-score above 0.65\n",
    "f1_score(y_dev_df, (voting_pred_df > 0.5).astype(int), average='micro')"
   ],
   "metadata": {
    "collapsed": false
   }
  },
  {
   "cell_type": "code",
   "execution_count": 109,
   "outputs": [
    {
     "data": {
      "text/plain": "0.6471408647140865"
     },
     "execution_count": 109,
     "metadata": {},
     "output_type": "execute_result"
    }
   ],
   "source": [
    "# All models\n",
    "f1_score(y_dev_df, (voting_pred_df > 0.5).astype(int), average='micro')"
   ],
   "metadata": {
    "collapsed": false
   }
  },
  {
   "cell_type": "code",
   "execution_count": null,
   "outputs": [],
   "source": [],
   "metadata": {
    "collapsed": false
   }
  },
  {
   "cell_type": "code",
   "execution_count": 59,
   "outputs": [
    {
     "data": {
      "text/plain": "           Economic\nid                 \n832947852       0.0\n814403783       0.0\n830359136       0.0\n813949697       0.0\n833032366       0.0\n...             ...\n832947600       0.0\n832984694       0.0\n832971448       0.0\n813602345       0.0\n830821478       0.0\n\n[83 rows x 1 columns]",
      "text/html": "<div>\n<style scoped>\n    .dataframe tbody tr th:only-of-type {\n        vertical-align: middle;\n    }\n\n    .dataframe tbody tr th {\n        vertical-align: top;\n    }\n\n    .dataframe thead th {\n        text-align: right;\n    }\n</style>\n<table border=\"1\" class=\"dataframe\">\n  <thead>\n    <tr style=\"text-align: right;\">\n      <th></th>\n      <th>Economic</th>\n    </tr>\n    <tr>\n      <th>id</th>\n      <th></th>\n    </tr>\n  </thead>\n  <tbody>\n    <tr>\n      <th>832947852</th>\n      <td>0.0</td>\n    </tr>\n    <tr>\n      <th>814403783</th>\n      <td>0.0</td>\n    </tr>\n    <tr>\n      <th>830359136</th>\n      <td>0.0</td>\n    </tr>\n    <tr>\n      <th>813949697</th>\n      <td>0.0</td>\n    </tr>\n    <tr>\n      <th>833032366</th>\n      <td>0.0</td>\n    </tr>\n    <tr>\n      <th>...</th>\n      <td>...</td>\n    </tr>\n    <tr>\n      <th>832947600</th>\n      <td>0.0</td>\n    </tr>\n    <tr>\n      <th>832984694</th>\n      <td>0.0</td>\n    </tr>\n    <tr>\n      <th>832971448</th>\n      <td>0.0</td>\n    </tr>\n    <tr>\n      <th>813602345</th>\n      <td>0.0</td>\n    </tr>\n    <tr>\n      <th>830821478</th>\n      <td>0.0</td>\n    </tr>\n  </tbody>\n</table>\n<p>83 rows × 1 columns</p>\n</div>"
     },
     "execution_count": 59,
     "metadata": {},
     "output_type": "execute_result"
    }
   ],
   "source": [
    "voting_pred_df"
   ],
   "metadata": {
    "collapsed": false
   }
  },
  {
   "cell_type": "markdown",
   "source": [
    "# Sacked linear regression ensemble"
   ],
   "metadata": {
    "collapsed": false
   }
  },
  {
   "cell_type": "code",
   "execution_count": null,
   "outputs": [],
   "source": [],
   "metadata": {
    "collapsed": false
   }
  }
 ],
 "metadata": {
  "kernelspec": {
   "display_name": "Python 3",
   "language": "python",
   "name": "python3"
  },
  "language_info": {
   "codemirror_mode": {
    "name": "ipython",
    "version": 2
   },
   "file_extension": ".py",
   "mimetype": "text/x-python",
   "name": "python",
   "nbconvert_exporter": "python",
   "pygments_lexer": "ipython2",
   "version": "2.7.6"
  }
 },
 "nbformat": 4,
 "nbformat_minor": 0
}
