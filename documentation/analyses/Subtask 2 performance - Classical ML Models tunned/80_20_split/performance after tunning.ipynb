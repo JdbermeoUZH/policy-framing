{
 "cells": [
  {
   "cell_type": "code",
   "execution_count": 1,
   "id": "ac7fd1c8-16ff-43f2-a049-a27d37ea2653",
   "metadata": {},
   "outputs": [],
   "source": [
    "import os\n",
    "import glob\n",
    "\n",
    "from IPython.display import display, Markdown\n",
    "import pandas as pd"
   ]
  },
  {
   "cell_type": "markdown",
   "id": "0e3de210-17ae-42af-a361-fff5a0f66735",
   "metadata": {},
   "source": [
    "# Group types of models (experiment type and model type) and pick best performing in terms of f1-score per unit of analysis and report them in a table\n"
   ]
  },
  {
   "cell_type": "code",
   "execution_count": 3,
   "id": "fd704f0c-6f9a-47d2-b05b-150230e363d7",
   "metadata": {},
   "outputs": [],
   "source": [
    "df_filepaths = glob.glob('./experiment_results/*.csv')"
   ]
  },
  {
   "cell_type": "code",
   "execution_count": 4,
   "id": "052e0fec-9ad0-470c-9cd4-8d276e0b83e4",
   "metadata": {},
   "outputs": [],
   "source": [
    "exps_df = pd.concat([pd.read_csv(df_filepath) for df_filepath in df_filepaths])"
   ]
  },
  {
   "cell_type": "code",
   "execution_count": 5,
   "id": "0400d68b-3edd-4a2b-b782-218ce26c5c25",
   "metadata": {},
   "outputs": [],
   "source": [
    "exps_df.model_type = exps_df.model_type.str.strip('¶')"
   ]
  },
  {
   "cell_type": "code",
   "execution_count": 6,
   "id": "e97a4f9d-b3dd-4f68-9a56-ba53a2c34c71",
   "metadata": {},
   "outputs": [
    {
     "data": {
      "text/plain": "(2427, 19)"
     },
     "execution_count": 6,
     "metadata": {},
     "output_type": "execute_result"
    }
   ],
   "source": [
    "exps_df.shape"
   ]
  },
  {
   "cell_type": "code",
   "execution_count": 8,
   "id": "aeafd295-0172-4bb5-9f7e-39e7fb009c90",
   "metadata": {},
   "outputs": [],
   "source": [
    "def get_best_models(df, grouping_criterion):\n",
    "    return df.reset_index().loc[df.reset_index().groupby(grouping_criterion)['test_f1_micro'].idxmax().dropna()]\\\n",
    "        .set_index(grouping_criterion)"
   ]
  },
  {
   "cell_type": "markdown",
   "id": "6a452c68-3d2e-43a1-b820-a7688df2cd33",
   "metadata": {
    "tags": []
   },
   "source": [
    "### Generate the tables to report"
   ]
  },
  {
   "cell_type": "code",
   "execution_count": 27,
   "id": "9c97b164-c359-40ea-b974-a0dc65c1db60",
   "metadata": {},
   "outputs": [],
   "source": [
    "def display_performance_table(df, metric, index_cols=['model_type'], display_=True):\n",
    "    report_table = df.reset_index().copy()\n",
    "    report_table['result'] = report_table[f'test_{metric}'].map(lambda x: f'{x:.3f}')\n",
    "    report_table['col_title'] = report_table.unit_of_analysis.str.split('_').str.join(' ') \n",
    "    report_table['col_title'] = pd.Categorical(\n",
    "        report_table.col_title,\n",
    "        categories=['title', 'title and first paragraph', 'title and 5 sentences', 'title and 10 sentences',\n",
    "                    'title and first sentence each paragraph', 'raw text'],\n",
    "        ordered=True)\n",
    "    report_table = report_table[index_cols + ['col_title', 'result']]\\\n",
    "        .pivot_table(index=index_cols, columns=['col_title'], values=['result'], aggfunc='first', fill_value=0)\\\n",
    "        .droplevel(0, axis=1)\n",
    "\n",
    "    report_table.columns.names = [None]\n",
    "\n",
    "    # Highlight best scoring models according to their average\n",
    "    mean_perf_arr = report_table.applymap(lambda x: float(str(x).split(' ')[0])).to_numpy()\n",
    "    highlight_mask = mean_perf_arr == mean_perf_arr.max()\n",
    "    report_table_arr = report_table.to_numpy()  # Note it passes the array by reference\n",
    "    report_table_arr[highlight_mask] = '**' + report_table_arr[highlight_mask] + '**'\n",
    "\n",
    "    if display_:\n",
    "        display(Markdown(report_table.to_markdown()))\n",
    "    \n",
    "    return report_table"
   ]
  },
  {
   "cell_type": "markdown",
   "id": "6f14e8da-1acf-4114-9cfd-eeaa97261f68",
   "metadata": {},
   "source": [
    "### Generate tables for all languages"
   ]
  },
  {
   "cell_type": "code",
   "execution_count": 28,
   "id": "bea51df3-87ed-4ace-ad56-25d235b5cd65",
   "metadata": {},
   "outputs": [],
   "source": [
    "metrics_to_report = ['f1_micro', 'recall_micro', 'precision_micro', 'accuracy'] "
   ]
  },
  {
   "cell_type": "code",
   "execution_count": 29,
   "id": "1650fa17-5ccc-439a-9818-d61bf369ca1a",
   "metadata": {},
   "outputs": [],
   "source": [
    "language_dict = {'en': 'English', 'it': 'Italian', 'fr': 'French', 'po': 'Polish', 'ru': 'Russian', 'ge': 'German'}"
   ]
  },
  {
   "cell_type": "code",
   "execution_count": 30,
   "id": "143ecba4-ffb9-45e9-869c-87d16caea017",
   "metadata": {
    "tags": []
   },
   "outputs": [],
   "source": [
    "def display_metrics_and_write_to_file(df, grouping_criterion, output_dir):\n",
    "    os.makedirs(output_dir, exist_ok=True)\n",
    "    best_model_dfs_list = []\n",
    "    report_tables_dfs_dict = {metric: [] for metric in metrics_to_report}\n",
    "\n",
    "    for language, results_df in df.groupby('language'):\n",
    "        best_models_df = get_best_models(results_df, grouping_criterion + ['unit_of_analysis'])\n",
    "        best_model_dfs_list.append(best_models_df.copy())\n",
    "\n",
    "        display(Markdown(f'# {language_dict[language]}'))\n",
    "        \n",
    "        for metric in metrics_to_report:\n",
    "            os.makedirs(os.path.join(output_dir, metric), exist_ok=True)\n",
    "\n",
    "            output_dir_markdown = os.path.join(output_dir, metric, 'markdown')\n",
    "            output_dir_latex = os.path.join(output_dir, metric, 'latex')\n",
    "            output_dir_csv = os.path.join(output_dir, metric, 'csv')\n",
    "\n",
    "            os.makedirs(output_dir_markdown, exist_ok=True)\n",
    "            os.makedirs(output_dir_latex, exist_ok=True)\n",
    "            os.makedirs(output_dir_csv, exist_ok=True)\n",
    "\n",
    "            display(Markdown(f'## {metric}'))\n",
    "\n",
    "            report_table = display_performance_table(df=best_models_df, index_cols=grouping_criterion, metric=metric, display_=True)\n",
    "\n",
    "            # Export as markdown\n",
    "            markdown_file = open(os.path.join(output_dir_markdown, f\"{language_dict[language]}_{metric}.md\"), \"w\")\n",
    "            report_table.reset_index().to_markdown(markdown_file, index=False)\n",
    "            markdown_file.close()\n",
    "\n",
    "            # Export as latex table\n",
    "            latex_file = open(os.path.join(output_dir_latex, f\"{language_dict[language]}_{metric}.tex\"), \"w\")\n",
    "            report_table.reset_index().to_latex(latex_file, index=False)\n",
    "            latex_file.close()\n",
    "\n",
    "            # Export as csv\n",
    "            report_table.to_csv(os.path.join(output_dir_csv, f\"{language_dict[language]}_{metric}.csv\"))\n",
    "\n",
    "            # Stack all languages into single table\n",
    "            report_table['language'] = language\n",
    "            report_table = report_table.reset_index().set_index(['language'] + grouping_criterion)\n",
    "\n",
    "            report_tables_dfs_dict[metric].append(report_table)\n",
    "\n",
    "    # Store a csv with all the metrics and parameters of the best runs per language per grouping_criterion\n",
    "    pd.concat(best_model_dfs_list)\\\n",
    "        .reset_index().set_index(['language'] + grouping_criterion).sort_index()\\\n",
    "        .to_csv(os.path.join(output_dir, 'best_exp_params_metrics_per_language.csv'))\n",
    "\n",
    "    # Report or store unified table\n",
    "    display(Markdown(f'# All 6 Languages'))\n",
    "    for metric in metrics_to_report:\n",
    "        display(Markdown(f'## {metric}'))\n",
    "        multi_language_report_table_metric = pd.concat(report_tables_dfs_dict[metric])\n",
    "        display(Markdown(multi_language_report_table_metric.reset_index().to_markdown(index=False)))\n",
    "\n",
    "        output_dir_markdown = os.path.join(output_dir, metric, 'markdown')\n",
    "        output_dir_latex = os.path.join(output_dir, metric, 'latex')\n",
    "        output_dir_csv = os.path.join(output_dir, metric, 'csv')\n",
    "\n",
    "        # Export as markdown\n",
    "        markdown_file = open(os.path.join(output_dir_markdown, f\"all_6_languages_{metric}.md\"), \"w\")\n",
    "        multi_language_report_table_metric.reset_index().to_markdown(markdown_file, index=False)\n",
    "        markdown_file.close()\n",
    "\n",
    "        # Export as latex table\n",
    "        latex_file = open(os.path.join(output_dir_latex, f\"all_6_languages_{metric}.tex\"), \"w\")\n",
    "        multi_language_report_table_metric.reset_index().to_latex(latex_file, index=False)\n",
    "        latex_file.close()\n",
    "\n",
    "        # Export as csv\n",
    "        multi_language_report_table_metric.to_csv(os.path.join(output_dir_csv, f\"all_6_languages_{metric}.csv\"))"
   ]
  },
  {
   "cell_type": "markdown",
   "id": "2f01d754-49ba-4c74-8220-2e144f624044",
   "metadata": {},
   "source": [
    "# Per model type"
   ]
  },
  {
   "cell_type": "code",
   "execution_count": 31,
   "id": "e5abb824-f93a-44fd-8203-a0b84224b0fa",
   "metadata": {
    "tags": []
   },
   "outputs": [
    {
     "data": {
      "text/plain": "<IPython.core.display.Markdown object>",
      "text/markdown": "# English"
     },
     "metadata": {},
     "output_type": "display_data"
    },
    {
     "data": {
      "text/plain": "<IPython.core.display.Markdown object>",
      "text/markdown": "## f1_micro"
     },
     "metadata": {},
     "output_type": "display_data"
    },
    {
     "data": {
      "text/plain": "<IPython.core.display.Markdown object>",
      "text/markdown": "| model_type                   |   title |   title and first paragraph |   title and 5 sentences |   title and 10 sentences |   title and first sentence each paragraph | raw text   |\n|:-----------------------------|--------:|----------------------------:|------------------------:|-------------------------:|------------------------------------------:|:-----------|\n| KNN                          |   0     |                       0.608 |                   0.664 |                    0.683 |                                     0.631 | 0.677      |\n| LinearSVM                    |   0     |                       0.674 |                   0.689 |                    0.703 |                                     0.664 | 0.697      |\n| LogisticRegression           |   0.565 |                       0.628 |                   0.621 |                    0.642 |                                     0.683 | 0.684      |\n| LogisticRegressionElasticNet |   0     |                       0.641 |                   0.642 |                    0.657 |                                     0.683 | 0.693      |\n| LogisticRegressionLasso      |   0.542 |                       0.631 |                   0.653 |                    0.634 |                                     0.664 | 0.664      |\n| LogisticRegressionRidge      |   0.621 |                       0.657 |                   0.673 |                    0.698 |                                     0.669 | 0.696      |\n| NaiveBayes                   |   0     |                       0     |                   0.692 |                    0.693 |                                     0.687 | **0.705**  |\n| RandomForest                 |   0     |                       0     |                   0.64  |                    0.65  |                                     0.646 | 0.695      |\n| RidgeClassifier              |   0     |                       0.638 |                   0.672 |                    0.69  |                                     0.653 | 0.675      |\n| SVM                          |   0     |                       0.68  |                   0.689 |                    0.689 |                                     0.679 | 0.696      |\n| XGBoost                      |   0     |                       0.65  |                   0.657 |                    0.661 |                                     0.66  | 0.684      |"
     },
     "metadata": {},
     "output_type": "display_data"
    },
    {
     "name": "stderr",
     "output_type": "stream",
     "text": [
      "/tmp/ipykernel_13564/3322418740.py:34: FutureWarning: In future versions `DataFrame.to_latex` is expected to utilise the base implementation of `Styler.to_latex` for formatting and rendering. The arguments signature may therefore change. It is recommended instead to use `DataFrame.style.to_latex` which also contains additional functionality.\n",
      "  report_table.reset_index().to_latex(latex_file, index=False)\n"
     ]
    },
    {
     "data": {
      "text/plain": "<IPython.core.display.Markdown object>",
      "text/markdown": "## recall_micro"
     },
     "metadata": {},
     "output_type": "display_data"
    },
    {
     "data": {
      "text/plain": "<IPython.core.display.Markdown object>",
      "text/markdown": "| model_type                   |   title |   title and first paragraph |   title and 5 sentences |   title and 10 sentences |   title and first sentence each paragraph | raw text   |\n|:-----------------------------|--------:|----------------------------:|------------------------:|-------------------------:|------------------------------------------:|:-----------|\n| KNN                          |   0     |                       0.555 |                   0.66  |                    0.699 |                                     0.555 | 0.638      |\n| LinearSVM                    |   0     |                       0.665 |                   0.665 |                    0.697 |                                     0.621 | 0.667      |\n| LogisticRegression           |   0.548 |                       0.611 |                   0.614 |                    0.638 |                                     0.677 | 0.648      |\n| LogisticRegressionElasticNet |   0     |                       0.619 |                   0.645 |                    0.641 |                                     0.65  | 0.653      |\n| LogisticRegressionLasso      |   0.491 |                       0.601 |                   0.619 |                    0.606 |                                     0.628 | 0.636      |\n| LogisticRegressionRidge      |   0.611 |                       0.611 |                   0.648 |                    0.692 |                                     0.631 | 0.660      |\n| NaiveBayes                   |   0     |                       0     |                   0.655 |                    0.667 |                                     0.653 | 0.694      |\n| RandomForest                 |   0     |                       0     |                   0.621 |                    0.623 |                                     0.592 | 0.675      |\n| RidgeClassifier              |   0     |                       0.579 |                   0.623 |                    0.648 |                                     0.614 | 0.643      |\n| SVM                          |   0     |                       0.628 |                   0.66  |                    0.66  |                                     0.631 | 0.680      |\n| XGBoost                      |   0     |                       0.68  |                   0.689 |                    0.694 |                                     0.655 | **0.711**  |"
     },
     "metadata": {},
     "output_type": "display_data"
    },
    {
     "name": "stderr",
     "output_type": "stream",
     "text": [
      "/tmp/ipykernel_13564/3322418740.py:34: FutureWarning: In future versions `DataFrame.to_latex` is expected to utilise the base implementation of `Styler.to_latex` for formatting and rendering. The arguments signature may therefore change. It is recommended instead to use `DataFrame.style.to_latex` which also contains additional functionality.\n",
      "  report_table.reset_index().to_latex(latex_file, index=False)\n"
     ]
    },
    {
     "data": {
      "text/plain": "<IPython.core.display.Markdown object>",
      "text/markdown": "## precision_micro"
     },
     "metadata": {},
     "output_type": "display_data"
    },
    {
     "data": {
      "text/plain": "<IPython.core.display.Markdown object>",
      "text/markdown": "| model_type                   |   title |   title and first paragraph |   title and 5 sentences |   title and 10 sentences | title and first sentence each paragraph   |   raw text |\n|:-----------------------------|--------:|----------------------------:|------------------------:|-------------------------:|:------------------------------------------|-----------:|\n| KNN                          |   0     |                       0.732 |                   0.676 |                    0.679 | **0.790**                                 |      0.77  |\n| LinearSVM                    |   0     |                       0.693 |                   0.739 |                    0.726 | 0.733                                     |      0.746 |\n| LogisticRegression           |   0.604 |                       0.66  |                   0.636 |                    0.656 | 0.701                                     |      0.742 |\n| LogisticRegressionElasticNet |   0     |                       0.677 |                   0.649 |                    0.685 | 0.737                                     |      0.755 |\n| LogisticRegressionLasso      |   0.623 |                       0.678 |                   0.701 |                    0.673 | 0.723                                     |      0.714 |\n| LogisticRegressionRidge      |   0.644 |                       0.734 |                   0.747 |                    0.713 | 0.728                                     |      0.752 |\n| NaiveBayes                   |   0     |                       0     |                   0.749 |                    0.729 | 0.747                                     |      0.728 |\n| RandomForest                 |   0     |                       0     |                   0.684 |                    0.692 | 0.752                                     |      0.729 |\n| RidgeClassifier              |   0     |                       0.744 |                   0.752 |                    0.755 | 0.718                                     |      0.726 |\n| SVM                          |   0     |                       0.756 |                   0.737 |                    0.732 | 0.757                                     |      0.737 |\n| XGBoost                      |   0     |                       0.634 |                   0.649 |                    0.664 | 0.682                                     |      0.672 |"
     },
     "metadata": {},
     "output_type": "display_data"
    },
    {
     "name": "stderr",
     "output_type": "stream",
     "text": [
      "/tmp/ipykernel_13564/3322418740.py:34: FutureWarning: In future versions `DataFrame.to_latex` is expected to utilise the base implementation of `Styler.to_latex` for formatting and rendering. The arguments signature may therefore change. It is recommended instead to use `DataFrame.style.to_latex` which also contains additional functionality.\n",
      "  report_table.reset_index().to_latex(latex_file, index=False)\n"
     ]
    },
    {
     "data": {
      "text/plain": "<IPython.core.display.Markdown object>",
      "text/markdown": "## accuracy"
     },
     "metadata": {},
     "output_type": "display_data"
    },
    {
     "data": {
      "text/plain": "<IPython.core.display.Markdown object>",
      "text/markdown": "| model_type                   |   title | title and first paragraph   |   title and 5 sentences | title and 10 sentences   |   title and first sentence each paragraph | raw text   |\n|:-----------------------------|--------:|:----------------------------|------------------------:|:-------------------------|------------------------------------------:|:-----------|\n| KNN                          |   0     | **0.126**                   |                   0.019 | 0.058                    |                                     0.097 | 0.107      |\n| LinearSVM                    |   0     | 0.058                       |                   0.087 | 0.049                    |                                     0.117 | 0.068      |\n| LogisticRegression           |   0.029 | 0.039                       |                   0.049 | 0.019                    |                                     0.068 | 0.068      |\n| LogisticRegressionElasticNet |   0     | 0.058                       |                   0.058 | 0.049                    |                                     0.117 | 0.087      |\n| LogisticRegressionLasso      |   0.049 | 0.058                       |                   0.068 | 0.068                    |                                     0.058 | 0.068      |\n| LogisticRegressionRidge      |   0.058 | 0.117                       |                   0.107 | 0.078                    |                                     0.087 | 0.058      |\n| NaiveBayes                   |   0     | 0                           |                   0.087 | 0.107                    |                                     0.097 | 0.068      |\n| RandomForest                 |   0     | 0                           |                   0.117 | 0.049                    |                                     0.117 | 0.117      |\n| RidgeClassifier              |   0     | 0.117                       |                   0.117 | **0.126**                |                                     0.087 | 0.078      |\n| SVM                          |   0     | 0.087                       |                   0.097 | 0.097                    |                                     0.078 | 0.058      |\n| XGBoost                      |   0     | 0.049                       |                   0.039 | 0.107                    |                                     0.078 | **0.126**  |"
     },
     "metadata": {},
     "output_type": "display_data"
    },
    {
     "name": "stderr",
     "output_type": "stream",
     "text": [
      "/tmp/ipykernel_13564/3322418740.py:34: FutureWarning: In future versions `DataFrame.to_latex` is expected to utilise the base implementation of `Styler.to_latex` for formatting and rendering. The arguments signature may therefore change. It is recommended instead to use `DataFrame.style.to_latex` which also contains additional functionality.\n",
      "  report_table.reset_index().to_latex(latex_file, index=False)\n"
     ]
    },
    {
     "data": {
      "text/plain": "<IPython.core.display.Markdown object>",
      "text/markdown": "# French"
     },
     "metadata": {},
     "output_type": "display_data"
    },
    {
     "data": {
      "text/plain": "<IPython.core.display.Markdown object>",
      "text/markdown": "## f1_micro"
     },
     "metadata": {},
     "output_type": "display_data"
    },
    {
     "data": {
      "text/plain": "<IPython.core.display.Markdown object>",
      "text/markdown": "| model_type                   |   title |   title and first paragraph |   title and 5 sentences |   title and 10 sentences |   title and first sentence each paragraph | raw text   |\n|:-----------------------------|--------:|----------------------------:|------------------------:|-------------------------:|------------------------------------------:|:-----------|\n| KNN                          |   0.278 |                       0.344 |                   0.217 |                    0.415 |                                     0.344 | 0.437      |\n| LinearSVM                    |   0.27  |                       0.408 |                   0.36  |                    0.325 |                                     0.366 | 0.389      |\n| LogisticRegression           |   0.295 |                       0.428 |                   0.362 |                    0.356 |                                     0.354 | 0.402      |\n| LogisticRegressionElasticNet |   0.28  |                       0.436 |                   0.364 |                    0.314 |                                     0.401 | 0.398      |\n| LogisticRegressionLasso      |   0.279 |                       0.423 |                   0.374 |                    0.369 |                                     0.389 | 0.382      |\n| LogisticRegressionRidge      |   0.316 |                       0.424 |                   0.396 |                    0.324 |                                     0.365 | **0.452**  |\n| NaiveBayes                   |   0.358 |                       0.388 |                   0.391 |                    0.365 |                                     0.431 | 0.400      |\n| RandomForest                 |   0.306 |                       0.395 |                   0.361 |                    0.365 |                                     0.394 | 0.437      |\n| RidgeClassifier              |   0.332 |                       0.412 |                   0.35  |                    0.288 |                                     0.319 | 0.317      |\n| SVM                          |   0.371 |                       0.398 |                   0.374 |                    0.353 |                                     0.365 | 0.381      |\n| XGBoost                      |   0.346 |                       0.371 |                   0.374 |                    0.375 |                                     0.373 | 0.448      |"
     },
     "metadata": {},
     "output_type": "display_data"
    },
    {
     "name": "stderr",
     "output_type": "stream",
     "text": [
      "/tmp/ipykernel_13564/3322418740.py:34: FutureWarning: In future versions `DataFrame.to_latex` is expected to utilise the base implementation of `Styler.to_latex` for formatting and rendering. The arguments signature may therefore change. It is recommended instead to use `DataFrame.style.to_latex` which also contains additional functionality.\n",
      "  report_table.reset_index().to_latex(latex_file, index=False)\n"
     ]
    },
    {
     "data": {
      "text/plain": "<IPython.core.display.Markdown object>",
      "text/markdown": "## recall_micro"
     },
     "metadata": {},
     "output_type": "display_data"
    },
    {
     "data": {
      "text/plain": "<IPython.core.display.Markdown object>",
      "text/markdown": "| model_type                   | title     |   title and first paragraph |   title and 5 sentences |   title and 10 sentences |   title and first sentence each paragraph |   raw text |\n|:-----------------------------|:----------|----------------------------:|------------------------:|-------------------------:|------------------------------------------:|-----------:|\n| KNN                          | 0.254     |                       0.31  |                   0.198 |                    0.397 |                                     0.341 |      0.492 |\n| LinearSVM                    | 0.270     |                       0.381 |                   0.357 |                    0.294 |                                     0.357 |      0.365 |\n| LogisticRegression           | 0.294     |                       0.413 |                   0.365 |                    0.325 |                                     0.357 |      0.381 |\n| LogisticRegressionElasticNet | 0.246     |                       0.437 |                   0.357 |                    0.27  |                                     0.397 |      0.365 |\n| LogisticRegressionLasso      | 0.246     |                       0.405 |                   0.333 |                    0.357 |                                     0.357 |      0.373 |\n| LogisticRegressionRidge      | 0.333     |                       0.389 |                   0.405 |                    0.286 |                                     0.349 |      0.5   |\n| NaiveBayes                   | 0.381     |                       0.397 |                   0.389 |                    0.341 |                                     0.444 |      0.413 |\n| RandomForest                 | **0.556** |                       0.532 |                   0.452 |                    0.397 |                                     0.421 |      0.421 |\n| RidgeClassifier              | 0.333     |                       0.397 |                   0.325 |                    0.246 |                                     0.294 |      0.278 |\n| SVM                          | 0.381     |                       0.413 |                   0.381 |                    0.317 |                                     0.357 |      0.349 |\n| XGBoost                      | 0.437     |                       0.444 |                   0.373 |                    0.397 |                                     0.397 |      0.476 |"
     },
     "metadata": {},
     "output_type": "display_data"
    },
    {
     "name": "stderr",
     "output_type": "stream",
     "text": [
      "/tmp/ipykernel_13564/3322418740.py:34: FutureWarning: In future versions `DataFrame.to_latex` is expected to utilise the base implementation of `Styler.to_latex` for formatting and rendering. The arguments signature may therefore change. It is recommended instead to use `DataFrame.style.to_latex` which also contains additional functionality.\n",
      "  report_table.reset_index().to_latex(latex_file, index=False)\n"
     ]
    },
    {
     "data": {
      "text/plain": "<IPython.core.display.Markdown object>",
      "text/markdown": "## precision_micro"
     },
     "metadata": {},
     "output_type": "display_data"
    },
    {
     "data": {
      "text/plain": "<IPython.core.display.Markdown object>",
      "text/markdown": "| model_type                   |   title |   title and first paragraph |   title and 5 sentences | title and 10 sentences   |   title and first sentence each paragraph |   raw text |\n|:-----------------------------|--------:|----------------------------:|------------------------:|:-------------------------|------------------------------------------:|-----------:|\n| KNN                          |   0.363 |                       0.454 |                   0.281 | 0.482                    |                                     0.469 |      0.434 |\n| LinearSVM                    |   0.356 |                       0.495 |                   0.39  | 0.472                    |                                     0.42  |      0.505 |\n| LogisticRegression           |   0.36  |                       0.478 |                   0.376 | 0.450                    |                                     0.369 |      0.525 |\n| LogisticRegressionElasticNet |   0.42  |                       0.467 |                   0.425 | 0.478                    |                                     0.463 |      0.505 |\n| LogisticRegressionLasso      |   0.454 |                       0.542 |                   0.529 | 0.486                    |                                     0.481 |      0.447 |\n| LogisticRegressionRidge      |   0.365 |                       0.526 |                   0.438 | 0.481                    |                                     0.422 |      0.56  |\n| NaiveBayes                   |   0.394 |                       0.426 |                   0.444 | 0.441                    |                                     0.535 |      0.485 |\n| RandomForest                 |   0.42  |                       0.459 |                   0.357 | 0.386                    |                                     0.437 |      0.529 |\n| RidgeClassifier              |   0.401 |                       0.502 |                   0.473 | 0.434                    |                                     0.382 |      0.407 |\n| SVM                          |   0.424 |                       0.419 |                   0.412 | **0.573**                |                                     0.431 |      0.476 |\n| XGBoost                      |   0.338 |                       0.427 |                   0.459 | 0.413                    |                                     0.422 |      0.481 |"
     },
     "metadata": {},
     "output_type": "display_data"
    },
    {
     "name": "stderr",
     "output_type": "stream",
     "text": [
      "/tmp/ipykernel_13564/3322418740.py:34: FutureWarning: In future versions `DataFrame.to_latex` is expected to utilise the base implementation of `Styler.to_latex` for formatting and rendering. The arguments signature may therefore change. It is recommended instead to use `DataFrame.style.to_latex` which also contains additional functionality.\n",
      "  report_table.reset_index().to_latex(latex_file, index=False)\n"
     ]
    },
    {
     "data": {
      "text/plain": "<IPython.core.display.Markdown object>",
      "text/markdown": "## accuracy"
     },
     "metadata": {},
     "output_type": "display_data"
    },
    {
     "data": {
      "text/plain": "<IPython.core.display.Markdown object>",
      "text/markdown": "| model_type                   |   title |   title and first paragraph |   title and 5 sentences |   title and 10 sentences |   title and first sentence each paragraph | raw text   |\n|:-----------------------------|--------:|----------------------------:|------------------------:|-------------------------:|------------------------------------------:|:-----------|\n| KNN                          |   0.048 |                       0.048 |                   0.024 |                    0.071 |                                     0     | 0.048      |\n| LinearSVM                    |   0     |                       0.071 |                   0.024 |                    0.048 |                                     0     | **0.143**  |\n| LogisticRegression           |   0     |                       0.048 |                   0.048 |                    0.095 |                                     0     | 0.095      |\n| LogisticRegressionElasticNet |   0.024 |                       0.024 |                   0.024 |                    0.071 |                                     0.024 | 0.119      |\n| LogisticRegressionLasso      |   0.024 |                       0.024 |                   0.024 |                    0.024 |                                     0.071 | 0.095      |\n| LogisticRegressionRidge      |   0     |                       0.071 |                   0     |                    0.024 |                                     0     | 0.024      |\n| NaiveBayes                   |   0.024 |                       0     |                   0.024 |                    0.048 |                                     0.048 | 0.071      |\n| RandomForest                 |   0     |                       0     |                   0     |                    0     |                                     0     | 0.024      |\n| RidgeClassifier              |   0     |                       0.048 |                   0.048 |                    0.048 |                                     0     | 0.071      |\n| SVM                          |   0.024 |                       0     |                   0.024 |                    0.024 |                                     0.024 | 0.119      |\n| XGBoost                      |   0.024 |                       0.024 |                   0     |                    0.024 |                                     0.024 | 0.024      |"
     },
     "metadata": {},
     "output_type": "display_data"
    },
    {
     "name": "stderr",
     "output_type": "stream",
     "text": [
      "/tmp/ipykernel_13564/3322418740.py:34: FutureWarning: In future versions `DataFrame.to_latex` is expected to utilise the base implementation of `Styler.to_latex` for formatting and rendering. The arguments signature may therefore change. It is recommended instead to use `DataFrame.style.to_latex` which also contains additional functionality.\n",
      "  report_table.reset_index().to_latex(latex_file, index=False)\n"
     ]
    },
    {
     "data": {
      "text/plain": "<IPython.core.display.Markdown object>",
      "text/markdown": "# German"
     },
     "metadata": {},
     "output_type": "display_data"
    },
    {
     "data": {
      "text/plain": "<IPython.core.display.Markdown object>",
      "text/markdown": "## f1_micro"
     },
     "metadata": {},
     "output_type": "display_data"
    },
    {
     "data": {
      "text/plain": "<IPython.core.display.Markdown object>",
      "text/markdown": "| model_type                   |   title |   title and first paragraph |   title and 5 sentences |   title and 10 sentences |   title and first sentence each paragraph | raw text   |\n|:-----------------------------|--------:|----------------------------:|------------------------:|-------------------------:|------------------------------------------:|:-----------|\n| KNN                          |   0.156 |                       0.361 |                   0.388 |                    0.379 |                                     0.417 | 0.449      |\n| LinearSVM                    |   0.364 |                       0.458 |                   0.48  |                    0.462 |                                     0.433 | 0.452      |\n| LogisticRegression           |   0.347 |                       0.465 |                   0.443 |                    0.489 |                                     0.439 | 0.518      |\n| LogisticRegressionElasticNet |   0.339 |                       0.469 |                   0.455 |                    0.474 |                                     0.447 | 0.534      |\n| LogisticRegressionLasso      |   0.348 |                       0.467 |                   0.449 |                    0.463 |                                     0.458 | 0.542      |\n| LogisticRegressionRidge      |   0.363 |                       0.514 |                   0.445 |                    0.483 |                                     0.457 | 0.523      |\n| NaiveBayes                   |   0.337 |                       0.494 |                   0.485 |                    0.484 |                                     0.529 | 0.488      |\n| RandomForest                 |   0.389 |                       0.522 |                   0.527 |                    0.511 |                                     0.499 | 0.541      |\n| RidgeClassifier              |   0.353 |                       0.46  |                   0.427 |                    0.449 |                                     0.485 | 0.477      |\n| SVM                          |   0.397 |                       0.5   |                   0.465 |                    0.501 |                                     0.532 | 0.526      |\n| XGBoost                      |   0.475 |                       0.55  |                   0.501 |                    0.509 |                                     0.501 | **0.567**  |"
     },
     "metadata": {},
     "output_type": "display_data"
    },
    {
     "name": "stderr",
     "output_type": "stream",
     "text": [
      "/tmp/ipykernel_13564/3322418740.py:34: FutureWarning: In future versions `DataFrame.to_latex` is expected to utilise the base implementation of `Styler.to_latex` for formatting and rendering. The arguments signature may therefore change. It is recommended instead to use `DataFrame.style.to_latex` which also contains additional functionality.\n",
      "  report_table.reset_index().to_latex(latex_file, index=False)\n"
     ]
    },
    {
     "data": {
      "text/plain": "<IPython.core.display.Markdown object>",
      "text/markdown": "## recall_micro"
     },
     "metadata": {},
     "output_type": "display_data"
    },
    {
     "data": {
      "text/plain": "<IPython.core.display.Markdown object>",
      "text/markdown": "| model_type                   | title     |   title and first paragraph |   title and 5 sentences |   title and 10 sentences |   title and first sentence each paragraph | raw text   |\n|:-----------------------------|:----------|----------------------------:|------------------------:|-------------------------:|------------------------------------------:|:-----------|\n| KNN                          | 0.140     |                       0.36  |                   0.366 |                    0.36  |                                     0.436 | 0.471      |\n| LinearSVM                    | 0.331     |                       0.453 |                   0.465 |                    0.442 |                                     0.43  | 0.453      |\n| LogisticRegression           | 0.314     |                       0.448 |                   0.43  |                    0.488 |                                     0.442 | 0.535      |\n| LogisticRegressionElasticNet | 0.297     |                       0.436 |                   0.43  |                    0.453 |                                     0.453 | 0.552      |\n| LogisticRegressionLasso      | 0.314     |                       0.448 |                   0.407 |                    0.436 |                                     0.436 | 0.552      |\n| LogisticRegressionRidge      | 0.331     |                       0.517 |                   0.43  |                    0.471 |                                     0.477 | 0.558      |\n| NaiveBayes                   | 0.267     |                       0.488 |                   0.483 |                    0.483 |                                     0.576 | 0.500      |\n| RandomForest                 | 0.477     |                       0.587 |                   0.558 |                    0.506 |                                     0.483 | 0.512      |\n| RidgeClassifier              | 0.320     |                       0.442 |                   0.395 |                    0.424 |                                     0.471 | 0.448      |\n| SVM                          | 0.366     |                       0.506 |                   0.442 |                    0.506 |                                     0.535 | 0.517      |\n| XGBoost                      | **0.622** |                       0.616 |                   0.529 |                    0.517 |                                     0.535 | **0.622**  |"
     },
     "metadata": {},
     "output_type": "display_data"
    },
    {
     "name": "stderr",
     "output_type": "stream",
     "text": [
      "/tmp/ipykernel_13564/3322418740.py:34: FutureWarning: In future versions `DataFrame.to_latex` is expected to utilise the base implementation of `Styler.to_latex` for formatting and rendering. The arguments signature may therefore change. It is recommended instead to use `DataFrame.style.to_latex` which also contains additional functionality.\n",
      "  report_table.reset_index().to_latex(latex_file, index=False)\n"
     ]
    },
    {
     "data": {
      "text/plain": "<IPython.core.display.Markdown object>",
      "text/markdown": "## precision_micro"
     },
     "metadata": {},
     "output_type": "display_data"
    },
    {
     "data": {
      "text/plain": "<IPython.core.display.Markdown object>",
      "text/markdown": "| model_type                   |   title | title and first paragraph   |   title and 5 sentences |   title and 10 sentences |   title and first sentence each paragraph |   raw text |\n|:-----------------------------|--------:|:----------------------------|------------------------:|-------------------------:|------------------------------------------:|-----------:|\n| KNN                          |   0.309 | 0.371                       |                   0.426 |                    0.417 |                                     0.402 |      0.492 |\n| LinearSVM                    |   0.462 | 0.518                       |                   0.528 |                    0.514 |                                     0.465 |      0.503 |\n| LogisticRegression           |   0.459 | 0.535                       |                   0.492 |                    0.527 |                                     0.45  |      0.516 |\n| LogisticRegressionElasticNet |   0.499 | **0.617**                   |                   0.499 |                    0.532 |                                     0.468 |      0.535 |\n| LogisticRegressionLasso      |   0.454 | 0.599                       |                   0.512 |                    0.504 |                                     0.508 |      0.552 |\n| LogisticRegressionRidge      |   0.458 | 0.550                       |                   0.493 |                    0.521 |                                     0.451 |      0.52  |\n| NaiveBayes                   |   0.493 | 0.566                       |                   0.522 |                    0.511 |                                     0.5   |      0.536 |\n| RandomForest                 |   0.523 | 0.562                       |                   0.534 |                    0.542 |                                     0.549 |      0.593 |\n| RidgeClassifier              |   0.48  | 0.549                       |                   0.512 |                    0.5   |                                     0.575 |      0.552 |\n| SVM                          |   0.49  | 0.528                       |                   0.576 |                    0.557 |                                     0.545 |      0.55  |\n| XGBoost                      |   0.436 | 0.555                       |                   0.507 |                    0.547 |                                     0.55  |      0.549 |"
     },
     "metadata": {},
     "output_type": "display_data"
    },
    {
     "name": "stderr",
     "output_type": "stream",
     "text": [
      "/tmp/ipykernel_13564/3322418740.py:34: FutureWarning: In future versions `DataFrame.to_latex` is expected to utilise the base implementation of `Styler.to_latex` for formatting and rendering. The arguments signature may therefore change. It is recommended instead to use `DataFrame.style.to_latex` which also contains additional functionality.\n",
      "  report_table.reset_index().to_latex(latex_file, index=False)\n"
     ]
    },
    {
     "data": {
      "text/plain": "<IPython.core.display.Markdown object>",
      "text/markdown": "## accuracy"
     },
     "metadata": {},
     "output_type": "display_data"
    },
    {
     "data": {
      "text/plain": "<IPython.core.display.Markdown object>",
      "text/markdown": "| model_type                   |   title |   title and first paragraph |   title and 5 sentences |   title and 10 sentences |   title and first sentence each paragraph | raw text   |\n|:-----------------------------|--------:|----------------------------:|------------------------:|-------------------------:|------------------------------------------:|:-----------|\n| KNN                          |   0.029 |                           0 |                       0 |                    0     |                                     0     | 0.029      |\n| LinearSVM                    |   0     |                           0 |                       0 |                    0     |                                     0     | 0.000      |\n| LogisticRegression           |   0     |                           0 |                       0 |                    0     |                                     0     | 0.000      |\n| LogisticRegressionElasticNet |   0     |                           0 |                       0 |                    0     |                                     0.029 | 0.000      |\n| LogisticRegressionLasso      |   0     |                           0 |                       0 |                    0     |                                     0     | 0.000      |\n| LogisticRegressionRidge      |   0     |                           0 |                       0 |                    0     |                                     0     | 0.029      |\n| NaiveBayes                   |   0     |                           0 |                       0 |                    0     |                                     0     | **0.057**  |\n| RandomForest                 |   0     |                           0 |                       0 |                    0.029 |                                     0     | 0.029      |\n| RidgeClassifier              |   0     |                           0 |                       0 |                    0     |                                     0     | 0.029      |\n| SVM                          |   0     |                           0 |                       0 |                    0     |                                     0.029 | 0.029      |\n| XGBoost                      |   0.029 |                           0 |                       0 |                    0     |                                     0     | 0.000      |"
     },
     "metadata": {},
     "output_type": "display_data"
    },
    {
     "name": "stderr",
     "output_type": "stream",
     "text": [
      "/tmp/ipykernel_13564/3322418740.py:34: FutureWarning: In future versions `DataFrame.to_latex` is expected to utilise the base implementation of `Styler.to_latex` for formatting and rendering. The arguments signature may therefore change. It is recommended instead to use `DataFrame.style.to_latex` which also contains additional functionality.\n",
      "  report_table.reset_index().to_latex(latex_file, index=False)\n"
     ]
    },
    {
     "data": {
      "text/plain": "<IPython.core.display.Markdown object>",
      "text/markdown": "# Italian"
     },
     "metadata": {},
     "output_type": "display_data"
    },
    {
     "data": {
      "text/plain": "<IPython.core.display.Markdown object>",
      "text/markdown": "## f1_micro"
     },
     "metadata": {},
     "output_type": "display_data"
    },
    {
     "data": {
      "text/plain": "<IPython.core.display.Markdown object>",
      "text/markdown": "| model_type                   |   title |   title and first paragraph |   title and 5 sentences |   title and 10 sentences |   title and first sentence each paragraph | raw text   |\n|:-----------------------------|--------:|----------------------------:|------------------------:|-------------------------:|------------------------------------------:|:-----------|\n| KNN                          |   0.391 |                       0.364 |                   0.322 |                    0.549 |                                     0.379 | 0.470      |\n| LinearSVM                    |   0.441 |                       0.428 |                   0.472 |                    0.486 |                                     0.414 | 0.552      |\n| LogisticRegression           |   0.444 |                       0.444 |                   0.442 |                    0.498 |                                     0.488 | 0.558      |\n| LogisticRegressionElasticNet |   0.416 |                       0.431 |                   0.464 |                    0.483 |                                     0.479 | 0.552      |\n| LogisticRegressionLasso      |   0.388 |                       0.467 |                   0.468 |                    0.474 |                                     0.488 | 0.507      |\n| LogisticRegressionRidge      |   0.429 |                       0.432 |                   0.472 |                    0.498 |                                     0.444 | 0.538      |\n| NaiveBayes                   |   0.512 |                       0.481 |                   0.474 |                    0.475 |                                     0.484 | 0.537      |\n| RandomForest                 |   0.441 |                       0.497 |                   0.501 |                    0.519 |                                     0.516 | **0.561**  |\n| RidgeClassifier              |   0.439 |                       0.439 |                   0.452 |                    0.467 |                                     0.462 | 0.534      |\n| SVM                          |   0.485 |                       0.485 |                   0.5   |                    0.524 |                                     0.514 | 0.533      |\n| XGBoost                      |   0.411 |                       0.468 |                   0.48  |                    0.501 |                                     0.508 | 0.535      |"
     },
     "metadata": {},
     "output_type": "display_data"
    },
    {
     "name": "stderr",
     "output_type": "stream",
     "text": [
      "/tmp/ipykernel_13564/3322418740.py:34: FutureWarning: In future versions `DataFrame.to_latex` is expected to utilise the base implementation of `Styler.to_latex` for formatting and rendering. The arguments signature may therefore change. It is recommended instead to use `DataFrame.style.to_latex` which also contains additional functionality.\n",
      "  report_table.reset_index().to_latex(latex_file, index=False)\n"
     ]
    },
    {
     "data": {
      "text/plain": "<IPython.core.display.Markdown object>",
      "text/markdown": "## recall_micro"
     },
     "metadata": {},
     "output_type": "display_data"
    },
    {
     "data": {
      "text/plain": "<IPython.core.display.Markdown object>",
      "text/markdown": "| model_type                   |   title |   title and first paragraph |   title and 5 sentences | title and 10 sentences   |   title and first sentence each paragraph |   raw text |\n|:-----------------------------|--------:|----------------------------:|------------------------:|:-------------------------|------------------------------------------:|-----------:|\n| KNN                          |   0.357 |                       0.343 |                   0.257 | **0.661**                |                                     0.348 |      0.465 |\n| LinearSVM                    |   0.443 |                       0.413 |                   0.457 | 0.448                    |                                     0.365 |      0.53  |\n| LogisticRegression           |   0.43  |                       0.443 |                   0.43  | 0.517                    |                                     0.474 |      0.565 |\n| LogisticRegressionElasticNet |   0.4   |                       0.422 |                   0.439 | 0.461                    |                                     0.422 |      0.522 |\n| LogisticRegressionLasso      |   0.348 |                       0.439 |                   0.474 | 0.435                    |                                     0.461 |      0.474 |\n| LogisticRegressionRidge      |   0.422 |                       0.417 |                   0.452 | 0.478                    |                                     0.413 |      0.509 |\n| NaiveBayes                   |   0.561 |                       0.491 |                   0.439 | 0.435                    |                                     0.47  |      0.526 |\n| RandomForest                 |   0.478 |                       0.526 |                   0.565 | 0.509                    |                                     0.522 |      0.509 |\n| RidgeClassifier              |   0.443 |                       0.413 |                   0.404 | 0.413                    |                                     0.404 |      0.465 |\n| SVM                          |   0.513 |                       0.491 |                   0.452 | 0.487                    |                                     0.474 |      0.483 |\n| XGBoost                      |   0.522 |                       0.548 |                   0.526 | 0.574                    |                                     0.517 |      0.57  |"
     },
     "metadata": {},
     "output_type": "display_data"
    },
    {
     "name": "stderr",
     "output_type": "stream",
     "text": [
      "/tmp/ipykernel_13564/3322418740.py:34: FutureWarning: In future versions `DataFrame.to_latex` is expected to utilise the base implementation of `Styler.to_latex` for formatting and rendering. The arguments signature may therefore change. It is recommended instead to use `DataFrame.style.to_latex` which also contains additional functionality.\n",
      "  report_table.reset_index().to_latex(latex_file, index=False)\n"
     ]
    },
    {
     "data": {
      "text/plain": "<IPython.core.display.Markdown object>",
      "text/markdown": "## precision_micro"
     },
     "metadata": {},
     "output_type": "display_data"
    },
    {
     "data": {
      "text/plain": "<IPython.core.display.Markdown object>",
      "text/markdown": "| model_type                   |   title |   title and first paragraph |   title and 5 sentences |   title and 10 sentences |   title and first sentence each paragraph | raw text   |\n|:-----------------------------|--------:|----------------------------:|------------------------:|-------------------------:|------------------------------------------:|:-----------|\n| KNN                          |   0.451 |                       0.42  |                   0.496 |                    0.49  |                                     0.471 | 0.560      |\n| LinearSVM                    |   0.46  |                       0.47  |                   0.508 |                    0.556 |                                     0.537 | 0.614      |\n| LogisticRegression           |   0.479 |                       0.463 |                   0.471 |                    0.492 |                                     0.549 | 0.578      |\n| LogisticRegressionElasticNet |   0.465 |                       0.463 |                   0.509 |                    0.517 |                                     0.668 | 0.643      |\n| LogisticRegressionLasso      |   0.49  |                       0.515 |                   0.479 |                    0.55  |                                     0.57  | 0.616      |\n| LogisticRegressionRidge      |   0.467 |                       0.476 |                   0.52  |                    0.532 |                                     0.55  | 0.626      |\n| NaiveBayes                   |   0.487 |                       0.496 |                   0.546 |                    0.568 |                                     0.602 | 0.595      |\n| RandomForest                 |   0.473 |                       0.493 |                   0.477 |                    0.54  |                                     0.532 | 0.667      |\n| RidgeClassifier              |   0.462 |                       0.493 |                   0.551 |                    0.581 |                                     0.602 | **0.722**  |\n| SVM                          |   0.486 |                       0.508 |                   0.575 |                    0.637 |                                     0.612 | 0.631      |\n| XGBoost                      |   0.353 |                       0.417 |                   0.448 |                    0.453 |                                     0.512 | 0.527      |"
     },
     "metadata": {},
     "output_type": "display_data"
    },
    {
     "name": "stderr",
     "output_type": "stream",
     "text": [
      "/tmp/ipykernel_13564/3322418740.py:34: FutureWarning: In future versions `DataFrame.to_latex` is expected to utilise the base implementation of `Styler.to_latex` for formatting and rendering. The arguments signature may therefore change. It is recommended instead to use `DataFrame.style.to_latex` which also contains additional functionality.\n",
      "  report_table.reset_index().to_latex(latex_file, index=False)\n"
     ]
    },
    {
     "data": {
      "text/plain": "<IPython.core.display.Markdown object>",
      "text/markdown": "## accuracy"
     },
     "metadata": {},
     "output_type": "display_data"
    },
    {
     "data": {
      "text/plain": "<IPython.core.display.Markdown object>",
      "text/markdown": "| model_type                   |   title |   title and first paragraph |   title and 5 sentences |   title and 10 sentences |   title and first sentence each paragraph | raw text   |\n|:-----------------------------|--------:|----------------------------:|------------------------:|-------------------------:|------------------------------------------:|:-----------|\n| KNN                          |   0.017 |                       0.067 |                   0.05  |                    0.017 |                                     0.067 | 0.117      |\n| LinearSVM                    |   0.017 |                       0.083 |                   0.033 |                    0.067 |                                     0.05  | 0.083      |\n| LogisticRegression           |   0.067 |                       0.05  |                   0.05  |                    0.033 |                                     0.033 | 0.050      |\n| LogisticRegressionElasticNet |   0.033 |                       0.083 |                   0.05  |                    0.067 |                                     0.083 | 0.100      |\n| LogisticRegressionLasso      |   0.083 |                       0.033 |                   0.033 |                    0.05  |                                     0.067 | 0.050      |\n| LogisticRegressionRidge      |   0.033 |                       0.083 |                   0.033 |                    0.017 |                                     0.067 | 0.100      |\n| NaiveBayes                   |   0.033 |                       0.067 |                   0.05  |                    0.067 |                                     0.067 | 0.083      |\n| RandomForest                 |   0     |                       0     |                   0.033 |                    0.067 |                                     0.017 | 0.067      |\n| RidgeClassifier              |   0.05  |                       0.083 |                   0.067 |                    0.067 |                                     0.083 | **0.150**  |\n| SVM                          |   0.033 |                       0.05  |                   0.067 |                    0.067 |                                     0.083 | 0.083      |\n| XGBoost                      |   0     |                       0     |                   0.033 |                    0.05  |                                     0     | 0.050      |"
     },
     "metadata": {},
     "output_type": "display_data"
    },
    {
     "name": "stderr",
     "output_type": "stream",
     "text": [
      "/tmp/ipykernel_13564/3322418740.py:34: FutureWarning: In future versions `DataFrame.to_latex` is expected to utilise the base implementation of `Styler.to_latex` for formatting and rendering. The arguments signature may therefore change. It is recommended instead to use `DataFrame.style.to_latex` which also contains additional functionality.\n",
      "  report_table.reset_index().to_latex(latex_file, index=False)\n"
     ]
    },
    {
     "data": {
      "text/plain": "<IPython.core.display.Markdown object>",
      "text/markdown": "# Polish"
     },
     "metadata": {},
     "output_type": "display_data"
    },
    {
     "data": {
      "text/plain": "<IPython.core.display.Markdown object>",
      "text/markdown": "## f1_micro"
     },
     "metadata": {},
     "output_type": "display_data"
    },
    {
     "data": {
      "text/plain": "<IPython.core.display.Markdown object>",
      "text/markdown": "| model_type                   |   title |   title and first paragraph |   title and 5 sentences |   title and 10 sentences |   title and first sentence each paragraph | raw text   |\n|:-----------------------------|--------:|----------------------------:|------------------------:|-------------------------:|------------------------------------------:|:-----------|\n| KNN                          |   0.482 |                       0.429 |                   0.428 |                    0.39  |                                     0.066 | 0.462      |\n| LinearSVM                    |   0.545 |                       0.48  |                   0.537 |                    0.557 |                                     0.572 | 0.601      |\n| LogisticRegression           |   0.54  |                       0.486 |                   0.535 |                    0.545 |                                     0.553 | 0.629      |\n| LogisticRegressionElasticNet |   0.543 |                       0.502 |                   0.554 |                    0.533 |                                     0.566 | 0.623      |\n| LogisticRegressionLasso      |   0.422 |                       0.494 |                   0.5   |                    0.549 |                                     0.547 | **0.652**  |\n| LogisticRegressionRidge      |   0.553 |                       0.506 |                   0.554 |                    0.556 |                                     0.596 | 0.606      |\n| NaiveBayes                   |   0.537 |                       0.505 |                   0.526 |                    0.552 |                                     0.61  | 0.624      |\n| RandomForest                 |   0.379 |                       0.528 |                   0.544 |                    0.519 |                                     0.58  | 0.640      |\n| RidgeClassifier              |   0.561 |                       0.503 |                   0.509 |                    0.531 |                                     0.592 | 0.590      |\n| SVM                          |   0.55  |                       0.541 |                   0.527 |                    0.539 |                                     0.599 | 0.614      |\n| XGBoost                      |   0.57  |                       0.563 |                   0.564 |                    0.563 |                                     0.59  | 0.649      |"
     },
     "metadata": {},
     "output_type": "display_data"
    },
    {
     "name": "stderr",
     "output_type": "stream",
     "text": [
      "/tmp/ipykernel_13564/3322418740.py:34: FutureWarning: In future versions `DataFrame.to_latex` is expected to utilise the base implementation of `Styler.to_latex` for formatting and rendering. The arguments signature may therefore change. It is recommended instead to use `DataFrame.style.to_latex` which also contains additional functionality.\n",
      "  report_table.reset_index().to_latex(latex_file, index=False)\n"
     ]
    },
    {
     "data": {
      "text/plain": "<IPython.core.display.Markdown object>",
      "text/markdown": "## recall_micro"
     },
     "metadata": {},
     "output_type": "display_data"
    },
    {
     "data": {
      "text/plain": "<IPython.core.display.Markdown object>",
      "text/markdown": "| model_type                   |   title |   title and first paragraph |   title and 5 sentences |   title and 10 sentences |   title and first sentence each paragraph | raw text   |\n|:-----------------------------|--------:|----------------------------:|------------------------:|-------------------------:|------------------------------------------:|:-----------|\n| KNN                          |   0.451 |                       0.427 |                   0.388 |                    0.335 |                                     0.097 | 0.403      |\n| LinearSVM                    |   0.558 |                       0.471 |                   0.539 |                    0.558 |                                     0.568 | 0.597      |\n| LogisticRegression           |   0.524 |                       0.485 |                   0.563 |                    0.534 |                                     0.544 | 0.655      |\n| LogisticRegressionElasticNet |   0.519 |                       0.495 |                   0.553 |                    0.51  |                                     0.573 | 0.641      |\n| LogisticRegressionLasso      |   0.35  |                       0.427 |                   0.466 |                    0.519 |                                     0.529 | **0.733**  |\n| LogisticRegressionRidge      |   0.578 |                       0.549 |                   0.549 |                    0.544 |                                     0.621 | 0.612      |\n| NaiveBayes                   |   0.49  |                       0.481 |                   0.524 |                    0.549 |                                     0.626 | 0.646      |\n| RandomForest                 |   0.398 |                       0.539 |                   0.553 |                    0.524 |                                     0.505 | 0.563      |\n| RidgeClassifier              |   0.534 |                       0.505 |                   0.51  |                    0.49  |                                     0.578 | 0.558      |\n| SVM                          |   0.549 |                       0.539 |                   0.524 |                    0.524 |                                     0.597 | 0.558      |\n| XGBoost                      |   0.728 |                       0.67  |                   0.646 |                    0.626 |                                     0.617 | 0.709      |"
     },
     "metadata": {},
     "output_type": "display_data"
    },
    {
     "name": "stderr",
     "output_type": "stream",
     "text": [
      "/tmp/ipykernel_13564/3322418740.py:34: FutureWarning: In future versions `DataFrame.to_latex` is expected to utilise the base implementation of `Styler.to_latex` for formatting and rendering. The arguments signature may therefore change. It is recommended instead to use `DataFrame.style.to_latex` which also contains additional functionality.\n",
      "  report_table.reset_index().to_latex(latex_file, index=False)\n"
     ]
    },
    {
     "data": {
      "text/plain": "<IPython.core.display.Markdown object>",
      "text/markdown": "## precision_micro"
     },
     "metadata": {},
     "output_type": "display_data"
    },
    {
     "data": {
      "text/plain": "<IPython.core.display.Markdown object>",
      "text/markdown": "| model_type                   |   title |   title and first paragraph |   title and 5 sentences |   title and 10 sentences |   title and first sentence each paragraph | raw text   |\n|:-----------------------------|--------:|----------------------------:|------------------------:|-------------------------:|------------------------------------------:|:-----------|\n| KNN                          |   0.583 |                       0.453 |                   0.575 |                    0.51  |                                     0.05  | 0.577      |\n| LinearSVM                    |   0.549 |                       0.52  |                   0.586 |                    0.593 |                                     0.67  | 0.685      |\n| LogisticRegression           |   0.584 |                       0.516 |                   0.536 |                    0.571 |                                     0.621 | 0.645      |\n| LogisticRegressionElasticNet |   0.619 |                       0.542 |                   0.602 |                    0.586 |                                     0.597 | 0.667      |\n| LogisticRegressionLasso      |   0.614 |                       0.614 |                   0.585 |                    0.614 |                                     0.601 | 0.624      |\n| LogisticRegressionRidge      |   0.549 |                       0.515 |                   0.62  |                    0.608 |                                     0.61  | 0.669      |\n| NaiveBayes                   |   0.625 |                       0.564 |                   0.567 |                    0.584 |                                     0.624 | 0.658      |\n| RandomForest                 |   0.636 |                       0.591 |                   0.57  |                    0.54  |                                     0.709 | **0.784**  |\n| RidgeClassifier              |   0.625 |                       0.526 |                   0.554 |                    0.657 |                                     0.724 | 0.713      |\n| SVM                          |   0.569 |                       0.581 |                   0.625 |                    0.579 |                                     0.733 | 0.737      |\n| XGBoost                      |   0.501 |                       0.524 |                   0.535 |                    0.55  |                                     0.601 | 0.640      |"
     },
     "metadata": {},
     "output_type": "display_data"
    },
    {
     "name": "stderr",
     "output_type": "stream",
     "text": [
      "/tmp/ipykernel_13564/3322418740.py:34: FutureWarning: In future versions `DataFrame.to_latex` is expected to utilise the base implementation of `Styler.to_latex` for formatting and rendering. The arguments signature may therefore change. It is recommended instead to use `DataFrame.style.to_latex` which also contains additional functionality.\n",
      "  report_table.reset_index().to_latex(latex_file, index=False)\n"
     ]
    },
    {
     "data": {
      "text/plain": "<IPython.core.display.Markdown object>",
      "text/markdown": "## accuracy"
     },
     "metadata": {},
     "output_type": "display_data"
    },
    {
     "data": {
      "text/plain": "<IPython.core.display.Markdown object>",
      "text/markdown": "| model_type                   |   title |   title and first paragraph | title and 5 sentences   |   title and 10 sentences |   title and first sentence each paragraph | raw text   |\n|:-----------------------------|--------:|----------------------------:|:------------------------|-------------------------:|------------------------------------------:|:-----------|\n| KNN                          |       0 |                       0     | 0.000                   |                    0.026 |                                     0.026 | 0.026      |\n| LinearSVM                    |       0 |                       0.026 | 0.026                   |                    0.026 |                                     0.026 | **0.051**  |\n| LogisticRegression           |       0 |                       0     | 0.000                   |                    0.026 |                                     0     | **0.051**  |\n| LogisticRegressionElasticNet |       0 |                       0     | 0.026                   |                    0.026 |                                     0     | 0.026      |\n| LogisticRegressionLasso      |       0 |                       0     | 0.000                   |                    0.026 |                                     0     | 0.026      |\n| LogisticRegressionRidge      |       0 |                       0     | 0.026                   |                    0.026 |                                     0     | 0.026      |\n| NaiveBayes                   |       0 |                       0     | 0.026                   |                    0.026 |                                     0     | 0.026      |\n| RandomForest                 |       0 |                       0     | 0.026                   |                    0.026 |                                     0.026 | 0.026      |\n| RidgeClassifier              |       0 |                       0     | 0.026                   |                    0.026 |                                     0.026 | 0.026      |\n| SVM                          |       0 |                       0     | **0.051**               |                    0.026 |                                     0.026 | **0.051**  |\n| XGBoost                      |       0 |                       0     | 0.000                   |                    0     |                                     0     | 0.026      |"
     },
     "metadata": {},
     "output_type": "display_data"
    },
    {
     "name": "stderr",
     "output_type": "stream",
     "text": [
      "/tmp/ipykernel_13564/3322418740.py:34: FutureWarning: In future versions `DataFrame.to_latex` is expected to utilise the base implementation of `Styler.to_latex` for formatting and rendering. The arguments signature may therefore change. It is recommended instead to use `DataFrame.style.to_latex` which also contains additional functionality.\n",
      "  report_table.reset_index().to_latex(latex_file, index=False)\n"
     ]
    },
    {
     "data": {
      "text/plain": "<IPython.core.display.Markdown object>",
      "text/markdown": "# Russian"
     },
     "metadata": {},
     "output_type": "display_data"
    },
    {
     "data": {
      "text/plain": "<IPython.core.display.Markdown object>",
      "text/markdown": "## f1_micro"
     },
     "metadata": {},
     "output_type": "display_data"
    },
    {
     "data": {
      "text/plain": "<IPython.core.display.Markdown object>",
      "text/markdown": "| model_type                   |   title |   title and first paragraph |   title and 5 sentences |   title and 10 sentences |   title and first sentence each paragraph | raw text   |\n|:-----------------------------|--------:|----------------------------:|------------------------:|-------------------------:|------------------------------------------:|:-----------|\n| KNN                          |   0.275 |                       0.203 |                   0.27  |                    0.3   |                                     0.323 | 0.258      |\n| LinearSVM                    |   0.324 |                       0.347 |                   0.273 |                    0.369 |                                     0.324 | 0.353      |\n| LogisticRegression           |   0.354 |                       0.314 |                   0.299 |                    0.329 |                                     0.3   | 0.381      |\n| LogisticRegressionElasticNet |   0.331 |                       0.366 |                   0.339 |                    0.352 |                                     0.3   | 0.402      |\n| LogisticRegressionLasso      |   0.309 |                       0.307 |                   0.283 |                    0.39  |                                     0.316 | 0.411      |\n| LogisticRegressionRidge      |   0.345 |                       0.359 |                   0.343 |                    0.346 |                                     0.311 | 0.371      |\n| NaiveBayes                   |   0.363 |                       0.317 |                   0.33  |                    0.372 |                                     0.351 | 0.398      |\n| RandomForest                 |   0.3   |                       0.311 |                   0.313 |                    0.277 |                                     0.341 | 0.324      |\n| RidgeClassifier              |   0.333 |                       0.365 |                   0.299 |                    0.333 |                                     0.318 | 0.338      |\n| SVM                          |   0.388 |                       0.435 |                   0.365 |                    0.354 |                                     0.364 | 0.379      |\n| XGBoost                      |   0.275 |                       0.259 |                   0.32  |                    0.347 |                                     0.367 | **0.454**  |"
     },
     "metadata": {},
     "output_type": "display_data"
    },
    {
     "name": "stderr",
     "output_type": "stream",
     "text": [
      "/tmp/ipykernel_13564/3322418740.py:34: FutureWarning: In future versions `DataFrame.to_latex` is expected to utilise the base implementation of `Styler.to_latex` for formatting and rendering. The arguments signature may therefore change. It is recommended instead to use `DataFrame.style.to_latex` which also contains additional functionality.\n",
      "  report_table.reset_index().to_latex(latex_file, index=False)\n"
     ]
    },
    {
     "data": {
      "text/plain": "<IPython.core.display.Markdown object>",
      "text/markdown": "## recall_micro"
     },
     "metadata": {},
     "output_type": "display_data"
    },
    {
     "data": {
      "text/plain": "<IPython.core.display.Markdown object>",
      "text/markdown": "| model_type                   | title     |   title and first paragraph |   title and 5 sentences |   title and 10 sentences |   title and first sentence each paragraph | raw text   |\n|:-----------------------------|:----------|----------------------------:|------------------------:|-------------------------:|------------------------------------------:|:-----------|\n| KNN                          | 0.256     |                       0.174 |                   0.267 |                    0.279 |                                     0.326 | 0.233      |\n| LinearSVM                    | 0.314     |                       0.349 |                   0.221 |                    0.326 |                                     0.267 | 0.326      |\n| LogisticRegression           | 0.360     |                       0.302 |                   0.256 |                    0.326 |                                     0.267 | 0.395      |\n| LogisticRegressionElasticNet | 0.314     |                       0.337 |                   0.314 |                    0.326 |                                     0.267 | 0.372      |\n| LogisticRegressionLasso      | 0.233     |                       0.326 |                   0.256 |                    0.419 |                                     0.302 | 0.395      |\n| LogisticRegressionRidge      | 0.349     |                       0.337 |                   0.326 |                    0.302 |                                     0.256 | 0.337      |\n| NaiveBayes                   | 0.419     |                       0.302 |                   0.256 |                    0.326 |                                     0.337 | 0.360      |\n| RandomForest                 | **0.535** |                       0.477 |                   0.326 |                    0.233 |                                     0.326 | 0.302      |\n| RidgeClassifier              | 0.326     |                       0.36  |                   0.244 |                    0.279 |                                     0.267 | 0.291      |\n| SVM                          | 0.419     |                       0.465 |                   0.326 |                    0.302 |                                     0.326 | 0.326      |\n| XGBoost                      | 0.407     |                       0.326 |                   0.337 |                    0.36  |                                     0.372 | **0.535**  |"
     },
     "metadata": {},
     "output_type": "display_data"
    },
    {
     "name": "stderr",
     "output_type": "stream",
     "text": [
      "/tmp/ipykernel_13564/3322418740.py:34: FutureWarning: In future versions `DataFrame.to_latex` is expected to utilise the base implementation of `Styler.to_latex` for formatting and rendering. The arguments signature may therefore change. It is recommended instead to use `DataFrame.style.to_latex` which also contains additional functionality.\n",
      "  report_table.reset_index().to_latex(latex_file, index=False)\n"
     ]
    },
    {
     "data": {
      "text/plain": "<IPython.core.display.Markdown object>",
      "text/markdown": "## precision_micro"
     },
     "metadata": {},
     "output_type": "display_data"
    },
    {
     "data": {
      "text/plain": "<IPython.core.display.Markdown object>",
      "text/markdown": "| model_type                   |   title |   title and first paragraph |   title and 5 sentences |   title and 10 sentences |   title and first sentence each paragraph | raw text   |\n|:-----------------------------|--------:|----------------------------:|------------------------:|-------------------------:|------------------------------------------:|:-----------|\n| KNN                          |   0.413 |                       0.342 |                   0.298 |                    0.362 |                                     0.375 | 0.317      |\n| LinearSVM                    |   0.392 |                       0.41  |                   0.376 |                    0.444 |                                     0.452 | 0.459      |\n| LogisticRegression           |   0.403 |                       0.376 |                   0.436 |                    0.355 |                                     0.38  | 0.401      |\n| LogisticRegressionElasticNet |   0.457 |                       0.459 |                   0.447 |                    0.411 |                                     0.368 | 0.461      |\n| LogisticRegressionLasso      |   0.539 |                       0.331 |                   0.362 |                    0.388 |                                     0.358 | 0.464      |\n| LogisticRegressionRidge      |   0.39  |                       0.455 |                   0.447 |                    0.422 |                                     0.446 | 0.470      |\n| NaiveBayes                   |   0.358 |                       0.421 |                   0.476 |                    0.453 |                                     0.405 | **0.567**  |\n| RandomForest                 |   0.245 |                       0.246 |                   0.313 |                    0.366 |                                     0.402 | 0.409      |\n| RidgeClassifier              |   0.398 |                       0.43  |                   0.42  |                    0.441 |                                     0.448 | 0.422      |\n| SVM                          |   0.385 |                       0.474 |                   0.498 |                    0.497 |                                     0.526 | 0.555      |\n| XGBoost                      |   0.335 |                       0.264 |                   0.354 |                    0.385 |                                     0.4   | 0.452      |"
     },
     "metadata": {},
     "output_type": "display_data"
    },
    {
     "name": "stderr",
     "output_type": "stream",
     "text": [
      "/tmp/ipykernel_13564/3322418740.py:34: FutureWarning: In future versions `DataFrame.to_latex` is expected to utilise the base implementation of `Styler.to_latex` for formatting and rendering. The arguments signature may therefore change. It is recommended instead to use `DataFrame.style.to_latex` which also contains additional functionality.\n",
      "  report_table.reset_index().to_latex(latex_file, index=False)\n"
     ]
    },
    {
     "data": {
      "text/plain": "<IPython.core.display.Markdown object>",
      "text/markdown": "## accuracy"
     },
     "metadata": {},
     "output_type": "display_data"
    },
    {
     "data": {
      "text/plain": "<IPython.core.display.Markdown object>",
      "text/markdown": "| model_type                   |   title |   title and first paragraph | title and 5 sentences   |   title and 10 sentences |   title and first sentence each paragraph | raw text   |\n|:-----------------------------|--------:|----------------------------:|:------------------------|-------------------------:|------------------------------------------:|:-----------|\n| KNN                          |   0     |                       0.026 | 0.079                   |                    0.105 |                                     0.053 | 0.079      |\n| LinearSVM                    |   0     |                       0.053 | 0.053                   |                    0.105 |                                     0.053 | 0.105      |\n| LogisticRegression           |   0     |                       0.053 | 0.053                   |                    0     |                                     0.053 | 0.105      |\n| LogisticRegressionElasticNet |   0     |                       0.079 | 0.053                   |                    0.079 |                                     0.079 | **0.158**  |\n| LogisticRegressionLasso      |   0.026 |                       0.026 | 0.053                   |                    0.053 |                                     0.053 | 0.132      |\n| LogisticRegressionRidge      |   0     |                       0.079 | 0.026                   |                    0.079 |                                     0.079 | 0.105      |\n| NaiveBayes                   |   0     |                       0.053 | **0.158**               |                    0.132 |                                     0.053 | 0.079      |\n| RandomForest                 |   0     |                       0     | 0.000                   |                    0.026 |                                     0.053 | 0.105      |\n| RidgeClassifier              |   0.026 |                       0.079 | 0.132                   |                    0.053 |                                     0.053 | 0.079      |\n| SVM                          |   0     |                       0.053 | **0.158**               |                    0.053 |                                     0.105 | 0.053      |\n| XGBoost                      |   0.026 |                       0     | 0.053                   |                    0.105 |                                     0.132 | **0.158**  |"
     },
     "metadata": {},
     "output_type": "display_data"
    },
    {
     "name": "stderr",
     "output_type": "stream",
     "text": [
      "/tmp/ipykernel_13564/3322418740.py:34: FutureWarning: In future versions `DataFrame.to_latex` is expected to utilise the base implementation of `Styler.to_latex` for formatting and rendering. The arguments signature may therefore change. It is recommended instead to use `DataFrame.style.to_latex` which also contains additional functionality.\n",
      "  report_table.reset_index().to_latex(latex_file, index=False)\n"
     ]
    },
    {
     "data": {
      "text/plain": "<IPython.core.display.Markdown object>",
      "text/markdown": "# All 6 Languages"
     },
     "metadata": {},
     "output_type": "display_data"
    },
    {
     "data": {
      "text/plain": "<IPython.core.display.Markdown object>",
      "text/markdown": "## f1_micro"
     },
     "metadata": {},
     "output_type": "display_data"
    },
    {
     "data": {
      "text/plain": "<IPython.core.display.Markdown object>",
      "text/markdown": "| language   | model_type                   |   title |   title and first paragraph |   title and 5 sentences |   title and 10 sentences |   title and first sentence each paragraph | raw text   |\n|:-----------|:-----------------------------|--------:|----------------------------:|------------------------:|-------------------------:|------------------------------------------:|:-----------|\n| en         | KNN                          |   0     |                       0.608 |                   0.664 |                    0.683 |                                     0.631 | 0.677      |\n| en         | LinearSVM                    |   0     |                       0.674 |                   0.689 |                    0.703 |                                     0.664 | 0.697      |\n| en         | LogisticRegression           |   0.565 |                       0.628 |                   0.621 |                    0.642 |                                     0.683 | 0.684      |\n| en         | LogisticRegressionElasticNet |   0     |                       0.641 |                   0.642 |                    0.657 |                                     0.683 | 0.693      |\n| en         | LogisticRegressionLasso      |   0.542 |                       0.631 |                   0.653 |                    0.634 |                                     0.664 | 0.664      |\n| en         | LogisticRegressionRidge      |   0.621 |                       0.657 |                   0.673 |                    0.698 |                                     0.669 | 0.696      |\n| en         | NaiveBayes                   |   0     |                       0     |                   0.692 |                    0.693 |                                     0.687 | **0.705**  |\n| en         | RandomForest                 |   0     |                       0     |                   0.64  |                    0.65  |                                     0.646 | 0.695      |\n| en         | RidgeClassifier              |   0     |                       0.638 |                   0.672 |                    0.69  |                                     0.653 | 0.675      |\n| en         | SVM                          |   0     |                       0.68  |                   0.689 |                    0.689 |                                     0.679 | 0.696      |\n| en         | XGBoost                      |   0     |                       0.65  |                   0.657 |                    0.661 |                                     0.66  | 0.684      |\n| fr         | KNN                          |   0.278 |                       0.344 |                   0.217 |                    0.415 |                                     0.344 | 0.437      |\n| fr         | LinearSVM                    |   0.27  |                       0.408 |                   0.36  |                    0.325 |                                     0.366 | 0.389      |\n| fr         | LogisticRegression           |   0.295 |                       0.428 |                   0.362 |                    0.356 |                                     0.354 | 0.402      |\n| fr         | LogisticRegressionElasticNet |   0.28  |                       0.436 |                   0.364 |                    0.314 |                                     0.401 | 0.398      |\n| fr         | LogisticRegressionLasso      |   0.279 |                       0.423 |                   0.374 |                    0.369 |                                     0.389 | 0.382      |\n| fr         | LogisticRegressionRidge      |   0.316 |                       0.424 |                   0.396 |                    0.324 |                                     0.365 | **0.452**  |\n| fr         | NaiveBayes                   |   0.358 |                       0.388 |                   0.391 |                    0.365 |                                     0.431 | 0.400      |\n| fr         | RandomForest                 |   0.306 |                       0.395 |                   0.361 |                    0.365 |                                     0.394 | 0.437      |\n| fr         | RidgeClassifier              |   0.332 |                       0.412 |                   0.35  |                    0.288 |                                     0.319 | 0.317      |\n| fr         | SVM                          |   0.371 |                       0.398 |                   0.374 |                    0.353 |                                     0.365 | 0.381      |\n| fr         | XGBoost                      |   0.346 |                       0.371 |                   0.374 |                    0.375 |                                     0.373 | 0.448      |\n| ge         | KNN                          |   0.156 |                       0.361 |                   0.388 |                    0.379 |                                     0.417 | 0.449      |\n| ge         | LinearSVM                    |   0.364 |                       0.458 |                   0.48  |                    0.462 |                                     0.433 | 0.452      |\n| ge         | LogisticRegression           |   0.347 |                       0.465 |                   0.443 |                    0.489 |                                     0.439 | 0.518      |\n| ge         | LogisticRegressionElasticNet |   0.339 |                       0.469 |                   0.455 |                    0.474 |                                     0.447 | 0.534      |\n| ge         | LogisticRegressionLasso      |   0.348 |                       0.467 |                   0.449 |                    0.463 |                                     0.458 | 0.542      |\n| ge         | LogisticRegressionRidge      |   0.363 |                       0.514 |                   0.445 |                    0.483 |                                     0.457 | 0.523      |\n| ge         | NaiveBayes                   |   0.337 |                       0.494 |                   0.485 |                    0.484 |                                     0.529 | 0.488      |\n| ge         | RandomForest                 |   0.389 |                       0.522 |                   0.527 |                    0.511 |                                     0.499 | 0.541      |\n| ge         | RidgeClassifier              |   0.353 |                       0.46  |                   0.427 |                    0.449 |                                     0.485 | 0.477      |\n| ge         | SVM                          |   0.397 |                       0.5   |                   0.465 |                    0.501 |                                     0.532 | 0.526      |\n| ge         | XGBoost                      |   0.475 |                       0.55  |                   0.501 |                    0.509 |                                     0.501 | **0.567**  |\n| it         | KNN                          |   0.391 |                       0.364 |                   0.322 |                    0.549 |                                     0.379 | 0.470      |\n| it         | LinearSVM                    |   0.441 |                       0.428 |                   0.472 |                    0.486 |                                     0.414 | 0.552      |\n| it         | LogisticRegression           |   0.444 |                       0.444 |                   0.442 |                    0.498 |                                     0.488 | 0.558      |\n| it         | LogisticRegressionElasticNet |   0.416 |                       0.431 |                   0.464 |                    0.483 |                                     0.479 | 0.552      |\n| it         | LogisticRegressionLasso      |   0.388 |                       0.467 |                   0.468 |                    0.474 |                                     0.488 | 0.507      |\n| it         | LogisticRegressionRidge      |   0.429 |                       0.432 |                   0.472 |                    0.498 |                                     0.444 | 0.538      |\n| it         | NaiveBayes                   |   0.512 |                       0.481 |                   0.474 |                    0.475 |                                     0.484 | 0.537      |\n| it         | RandomForest                 |   0.441 |                       0.497 |                   0.501 |                    0.519 |                                     0.516 | **0.561**  |\n| it         | RidgeClassifier              |   0.439 |                       0.439 |                   0.452 |                    0.467 |                                     0.462 | 0.534      |\n| it         | SVM                          |   0.485 |                       0.485 |                   0.5   |                    0.524 |                                     0.514 | 0.533      |\n| it         | XGBoost                      |   0.411 |                       0.468 |                   0.48  |                    0.501 |                                     0.508 | 0.535      |\n| po         | KNN                          |   0.482 |                       0.429 |                   0.428 |                    0.39  |                                     0.066 | 0.462      |\n| po         | LinearSVM                    |   0.545 |                       0.48  |                   0.537 |                    0.557 |                                     0.572 | 0.601      |\n| po         | LogisticRegression           |   0.54  |                       0.486 |                   0.535 |                    0.545 |                                     0.553 | 0.629      |\n| po         | LogisticRegressionElasticNet |   0.543 |                       0.502 |                   0.554 |                    0.533 |                                     0.566 | 0.623      |\n| po         | LogisticRegressionLasso      |   0.422 |                       0.494 |                   0.5   |                    0.549 |                                     0.547 | **0.652**  |\n| po         | LogisticRegressionRidge      |   0.553 |                       0.506 |                   0.554 |                    0.556 |                                     0.596 | 0.606      |\n| po         | NaiveBayes                   |   0.537 |                       0.505 |                   0.526 |                    0.552 |                                     0.61  | 0.624      |\n| po         | RandomForest                 |   0.379 |                       0.528 |                   0.544 |                    0.519 |                                     0.58  | 0.640      |\n| po         | RidgeClassifier              |   0.561 |                       0.503 |                   0.509 |                    0.531 |                                     0.592 | 0.590      |\n| po         | SVM                          |   0.55  |                       0.541 |                   0.527 |                    0.539 |                                     0.599 | 0.614      |\n| po         | XGBoost                      |   0.57  |                       0.563 |                   0.564 |                    0.563 |                                     0.59  | 0.649      |\n| ru         | KNN                          |   0.275 |                       0.203 |                   0.27  |                    0.3   |                                     0.323 | 0.258      |\n| ru         | LinearSVM                    |   0.324 |                       0.347 |                   0.273 |                    0.369 |                                     0.324 | 0.353      |\n| ru         | LogisticRegression           |   0.354 |                       0.314 |                   0.299 |                    0.329 |                                     0.3   | 0.381      |\n| ru         | LogisticRegressionElasticNet |   0.331 |                       0.366 |                   0.339 |                    0.352 |                                     0.3   | 0.402      |\n| ru         | LogisticRegressionLasso      |   0.309 |                       0.307 |                   0.283 |                    0.39  |                                     0.316 | 0.411      |\n| ru         | LogisticRegressionRidge      |   0.345 |                       0.359 |                   0.343 |                    0.346 |                                     0.311 | 0.371      |\n| ru         | NaiveBayes                   |   0.363 |                       0.317 |                   0.33  |                    0.372 |                                     0.351 | 0.398      |\n| ru         | RandomForest                 |   0.3   |                       0.311 |                   0.313 |                    0.277 |                                     0.341 | 0.324      |\n| ru         | RidgeClassifier              |   0.333 |                       0.365 |                   0.299 |                    0.333 |                                     0.318 | 0.338      |\n| ru         | SVM                          |   0.388 |                       0.435 |                   0.365 |                    0.354 |                                     0.364 | 0.379      |\n| ru         | XGBoost                      |   0.275 |                       0.259 |                   0.32  |                    0.347 |                                     0.367 | **0.454**  |"
     },
     "metadata": {},
     "output_type": "display_data"
    },
    {
     "name": "stderr",
     "output_type": "stream",
     "text": [
      "/tmp/ipykernel_13564/3322418740.py:69: FutureWarning: In future versions `DataFrame.to_latex` is expected to utilise the base implementation of `Styler.to_latex` for formatting and rendering. The arguments signature may therefore change. It is recommended instead to use `DataFrame.style.to_latex` which also contains additional functionality.\n",
      "  multi_language_report_table_metric.reset_index().to_latex(latex_file, index=False)\n"
     ]
    },
    {
     "data": {
      "text/plain": "<IPython.core.display.Markdown object>",
      "text/markdown": "## recall_micro"
     },
     "metadata": {},
     "output_type": "display_data"
    },
    {
     "data": {
      "text/plain": "<IPython.core.display.Markdown object>",
      "text/markdown": "| language   | model_type                   | title     |   title and first paragraph |   title and 5 sentences | title and 10 sentences   |   title and first sentence each paragraph | raw text   |\n|:-----------|:-----------------------------|:----------|----------------------------:|------------------------:|:-------------------------|------------------------------------------:|:-----------|\n| en         | KNN                          | 0         |                       0.555 |                   0.66  | 0.699                    |                                     0.555 | 0.638      |\n| en         | LinearSVM                    | 0         |                       0.665 |                   0.665 | 0.697                    |                                     0.621 | 0.667      |\n| en         | LogisticRegression           | 0.548     |                       0.611 |                   0.614 | 0.638                    |                                     0.677 | 0.648      |\n| en         | LogisticRegressionElasticNet | 0         |                       0.619 |                   0.645 | 0.641                    |                                     0.65  | 0.653      |\n| en         | LogisticRegressionLasso      | 0.491     |                       0.601 |                   0.619 | 0.606                    |                                     0.628 | 0.636      |\n| en         | LogisticRegressionRidge      | 0.611     |                       0.611 |                   0.648 | 0.692                    |                                     0.631 | 0.660      |\n| en         | NaiveBayes                   | 0         |                       0     |                   0.655 | 0.667                    |                                     0.653 | 0.694      |\n| en         | RandomForest                 | 0         |                       0     |                   0.621 | 0.623                    |                                     0.592 | 0.675      |\n| en         | RidgeClassifier              | 0         |                       0.579 |                   0.623 | 0.648                    |                                     0.614 | 0.643      |\n| en         | SVM                          | 0         |                       0.628 |                   0.66  | 0.660                    |                                     0.631 | 0.680      |\n| en         | XGBoost                      | 0         |                       0.68  |                   0.689 | 0.694                    |                                     0.655 | **0.711**  |\n| fr         | KNN                          | 0.254     |                       0.31  |                   0.198 | 0.397                    |                                     0.341 | 0.492      |\n| fr         | LinearSVM                    | 0.270     |                       0.381 |                   0.357 | 0.294                    |                                     0.357 | 0.365      |\n| fr         | LogisticRegression           | 0.294     |                       0.413 |                   0.365 | 0.325                    |                                     0.357 | 0.381      |\n| fr         | LogisticRegressionElasticNet | 0.246     |                       0.437 |                   0.357 | 0.270                    |                                     0.397 | 0.365      |\n| fr         | LogisticRegressionLasso      | 0.246     |                       0.405 |                   0.333 | 0.357                    |                                     0.357 | 0.373      |\n| fr         | LogisticRegressionRidge      | 0.333     |                       0.389 |                   0.405 | 0.286                    |                                     0.349 | 0.500      |\n| fr         | NaiveBayes                   | 0.381     |                       0.397 |                   0.389 | 0.341                    |                                     0.444 | 0.413      |\n| fr         | RandomForest                 | **0.556** |                       0.532 |                   0.452 | 0.397                    |                                     0.421 | 0.421      |\n| fr         | RidgeClassifier              | 0.333     |                       0.397 |                   0.325 | 0.246                    |                                     0.294 | 0.278      |\n| fr         | SVM                          | 0.381     |                       0.413 |                   0.381 | 0.317                    |                                     0.357 | 0.349      |\n| fr         | XGBoost                      | 0.437     |                       0.444 |                   0.373 | 0.397                    |                                     0.397 | 0.476      |\n| ge         | KNN                          | 0.140     |                       0.36  |                   0.366 | 0.360                    |                                     0.436 | 0.471      |\n| ge         | LinearSVM                    | 0.331     |                       0.453 |                   0.465 | 0.442                    |                                     0.43  | 0.453      |\n| ge         | LogisticRegression           | 0.314     |                       0.448 |                   0.43  | 0.488                    |                                     0.442 | 0.535      |\n| ge         | LogisticRegressionElasticNet | 0.297     |                       0.436 |                   0.43  | 0.453                    |                                     0.453 | 0.552      |\n| ge         | LogisticRegressionLasso      | 0.314     |                       0.448 |                   0.407 | 0.436                    |                                     0.436 | 0.552      |\n| ge         | LogisticRegressionRidge      | 0.331     |                       0.517 |                   0.43  | 0.471                    |                                     0.477 | 0.558      |\n| ge         | NaiveBayes                   | 0.267     |                       0.488 |                   0.483 | 0.483                    |                                     0.576 | 0.500      |\n| ge         | RandomForest                 | 0.477     |                       0.587 |                   0.558 | 0.506                    |                                     0.483 | 0.512      |\n| ge         | RidgeClassifier              | 0.320     |                       0.442 |                   0.395 | 0.424                    |                                     0.471 | 0.448      |\n| ge         | SVM                          | 0.366     |                       0.506 |                   0.442 | 0.506                    |                                     0.535 | 0.517      |\n| ge         | XGBoost                      | **0.622** |                       0.616 |                   0.529 | 0.517                    |                                     0.535 | **0.622**  |\n| it         | KNN                          | 0.357     |                       0.343 |                   0.257 | **0.661**                |                                     0.348 | 0.465      |\n| it         | LinearSVM                    | 0.443     |                       0.413 |                   0.457 | 0.448                    |                                     0.365 | 0.530      |\n| it         | LogisticRegression           | 0.430     |                       0.443 |                   0.43  | 0.517                    |                                     0.474 | 0.565      |\n| it         | LogisticRegressionElasticNet | 0.400     |                       0.422 |                   0.439 | 0.461                    |                                     0.422 | 0.522      |\n| it         | LogisticRegressionLasso      | 0.348     |                       0.439 |                   0.474 | 0.435                    |                                     0.461 | 0.474      |\n| it         | LogisticRegressionRidge      | 0.422     |                       0.417 |                   0.452 | 0.478                    |                                     0.413 | 0.509      |\n| it         | NaiveBayes                   | 0.561     |                       0.491 |                   0.439 | 0.435                    |                                     0.47  | 0.526      |\n| it         | RandomForest                 | 0.478     |                       0.526 |                   0.565 | 0.509                    |                                     0.522 | 0.509      |\n| it         | RidgeClassifier              | 0.443     |                       0.413 |                   0.404 | 0.413                    |                                     0.404 | 0.465      |\n| it         | SVM                          | 0.513     |                       0.491 |                   0.452 | 0.487                    |                                     0.474 | 0.483      |\n| it         | XGBoost                      | 0.522     |                       0.548 |                   0.526 | 0.574                    |                                     0.517 | 0.570      |\n| po         | KNN                          | 0.451     |                       0.427 |                   0.388 | 0.335                    |                                     0.097 | 0.403      |\n| po         | LinearSVM                    | 0.558     |                       0.471 |                   0.539 | 0.558                    |                                     0.568 | 0.597      |\n| po         | LogisticRegression           | 0.524     |                       0.485 |                   0.563 | 0.534                    |                                     0.544 | 0.655      |\n| po         | LogisticRegressionElasticNet | 0.519     |                       0.495 |                   0.553 | 0.510                    |                                     0.573 | 0.641      |\n| po         | LogisticRegressionLasso      | 0.350     |                       0.427 |                   0.466 | 0.519                    |                                     0.529 | **0.733**  |\n| po         | LogisticRegressionRidge      | 0.578     |                       0.549 |                   0.549 | 0.544                    |                                     0.621 | 0.612      |\n| po         | NaiveBayes                   | 0.490     |                       0.481 |                   0.524 | 0.549                    |                                     0.626 | 0.646      |\n| po         | RandomForest                 | 0.398     |                       0.539 |                   0.553 | 0.524                    |                                     0.505 | 0.563      |\n| po         | RidgeClassifier              | 0.534     |                       0.505 |                   0.51  | 0.490                    |                                     0.578 | 0.558      |\n| po         | SVM                          | 0.549     |                       0.539 |                   0.524 | 0.524                    |                                     0.597 | 0.558      |\n| po         | XGBoost                      | 0.728     |                       0.67  |                   0.646 | 0.626                    |                                     0.617 | 0.709      |\n| ru         | KNN                          | 0.256     |                       0.174 |                   0.267 | 0.279                    |                                     0.326 | 0.233      |\n| ru         | LinearSVM                    | 0.314     |                       0.349 |                   0.221 | 0.326                    |                                     0.267 | 0.326      |\n| ru         | LogisticRegression           | 0.360     |                       0.302 |                   0.256 | 0.326                    |                                     0.267 | 0.395      |\n| ru         | LogisticRegressionElasticNet | 0.314     |                       0.337 |                   0.314 | 0.326                    |                                     0.267 | 0.372      |\n| ru         | LogisticRegressionLasso      | 0.233     |                       0.326 |                   0.256 | 0.419                    |                                     0.302 | 0.395      |\n| ru         | LogisticRegressionRidge      | 0.349     |                       0.337 |                   0.326 | 0.302                    |                                     0.256 | 0.337      |\n| ru         | NaiveBayes                   | 0.419     |                       0.302 |                   0.256 | 0.326                    |                                     0.337 | 0.360      |\n| ru         | RandomForest                 | **0.535** |                       0.477 |                   0.326 | 0.233                    |                                     0.326 | 0.302      |\n| ru         | RidgeClassifier              | 0.326     |                       0.36  |                   0.244 | 0.279                    |                                     0.267 | 0.291      |\n| ru         | SVM                          | 0.419     |                       0.465 |                   0.326 | 0.302                    |                                     0.326 | 0.326      |\n| ru         | XGBoost                      | 0.407     |                       0.326 |                   0.337 | 0.360                    |                                     0.372 | **0.535**  |"
     },
     "metadata": {},
     "output_type": "display_data"
    },
    {
     "name": "stderr",
     "output_type": "stream",
     "text": [
      "/tmp/ipykernel_13564/3322418740.py:69: FutureWarning: In future versions `DataFrame.to_latex` is expected to utilise the base implementation of `Styler.to_latex` for formatting and rendering. The arguments signature may therefore change. It is recommended instead to use `DataFrame.style.to_latex` which also contains additional functionality.\n",
      "  multi_language_report_table_metric.reset_index().to_latex(latex_file, index=False)\n"
     ]
    },
    {
     "data": {
      "text/plain": "<IPython.core.display.Markdown object>",
      "text/markdown": "## precision_micro"
     },
     "metadata": {},
     "output_type": "display_data"
    },
    {
     "data": {
      "text/plain": "<IPython.core.display.Markdown object>",
      "text/markdown": "| language   | model_type                   |   title | title and first paragraph   |   title and 5 sentences | title and 10 sentences   | title and first sentence each paragraph   | raw text   |\n|:-----------|:-----------------------------|--------:|:----------------------------|------------------------:|:-------------------------|:------------------------------------------|:-----------|\n| en         | KNN                          |   0     | 0.732                       |                   0.676 | 0.679                    | **0.790**                                 | 0.770      |\n| en         | LinearSVM                    |   0     | 0.693                       |                   0.739 | 0.726                    | 0.733                                     | 0.746      |\n| en         | LogisticRegression           |   0.604 | 0.660                       |                   0.636 | 0.656                    | 0.701                                     | 0.742      |\n| en         | LogisticRegressionElasticNet |   0     | 0.677                       |                   0.649 | 0.685                    | 0.737                                     | 0.755      |\n| en         | LogisticRegressionLasso      |   0.623 | 0.678                       |                   0.701 | 0.673                    | 0.723                                     | 0.714      |\n| en         | LogisticRegressionRidge      |   0.644 | 0.734                       |                   0.747 | 0.713                    | 0.728                                     | 0.752      |\n| en         | NaiveBayes                   |   0     | 0                           |                   0.749 | 0.729                    | 0.747                                     | 0.728      |\n| en         | RandomForest                 |   0     | 0                           |                   0.684 | 0.692                    | 0.752                                     | 0.729      |\n| en         | RidgeClassifier              |   0     | 0.744                       |                   0.752 | 0.755                    | 0.718                                     | 0.726      |\n| en         | SVM                          |   0     | 0.756                       |                   0.737 | 0.732                    | 0.757                                     | 0.737      |\n| en         | XGBoost                      |   0     | 0.634                       |                   0.649 | 0.664                    | 0.682                                     | 0.672      |\n| fr         | KNN                          |   0.363 | 0.454                       |                   0.281 | 0.482                    | 0.469                                     | 0.434      |\n| fr         | LinearSVM                    |   0.356 | 0.495                       |                   0.39  | 0.472                    | 0.420                                     | 0.505      |\n| fr         | LogisticRegression           |   0.36  | 0.478                       |                   0.376 | 0.450                    | 0.369                                     | 0.525      |\n| fr         | LogisticRegressionElasticNet |   0.42  | 0.467                       |                   0.425 | 0.478                    | 0.463                                     | 0.505      |\n| fr         | LogisticRegressionLasso      |   0.454 | 0.542                       |                   0.529 | 0.486                    | 0.481                                     | 0.447      |\n| fr         | LogisticRegressionRidge      |   0.365 | 0.526                       |                   0.438 | 0.481                    | 0.422                                     | 0.560      |\n| fr         | NaiveBayes                   |   0.394 | 0.426                       |                   0.444 | 0.441                    | 0.535                                     | 0.485      |\n| fr         | RandomForest                 |   0.42  | 0.459                       |                   0.357 | 0.386                    | 0.437                                     | 0.529      |\n| fr         | RidgeClassifier              |   0.401 | 0.502                       |                   0.473 | 0.434                    | 0.382                                     | 0.407      |\n| fr         | SVM                          |   0.424 | 0.419                       |                   0.412 | **0.573**                | 0.431                                     | 0.476      |\n| fr         | XGBoost                      |   0.338 | 0.427                       |                   0.459 | 0.413                    | 0.422                                     | 0.481      |\n| ge         | KNN                          |   0.309 | 0.371                       |                   0.426 | 0.417                    | 0.402                                     | 0.492      |\n| ge         | LinearSVM                    |   0.462 | 0.518                       |                   0.528 | 0.514                    | 0.465                                     | 0.503      |\n| ge         | LogisticRegression           |   0.459 | 0.535                       |                   0.492 | 0.527                    | 0.450                                     | 0.516      |\n| ge         | LogisticRegressionElasticNet |   0.499 | **0.617**                   |                   0.499 | 0.532                    | 0.468                                     | 0.535      |\n| ge         | LogisticRegressionLasso      |   0.454 | 0.599                       |                   0.512 | 0.504                    | 0.508                                     | 0.552      |\n| ge         | LogisticRegressionRidge      |   0.458 | 0.550                       |                   0.493 | 0.521                    | 0.451                                     | 0.520      |\n| ge         | NaiveBayes                   |   0.493 | 0.566                       |                   0.522 | 0.511                    | 0.500                                     | 0.536      |\n| ge         | RandomForest                 |   0.523 | 0.562                       |                   0.534 | 0.542                    | 0.549                                     | 0.593      |\n| ge         | RidgeClassifier              |   0.48  | 0.549                       |                   0.512 | 0.500                    | 0.575                                     | 0.552      |\n| ge         | SVM                          |   0.49  | 0.528                       |                   0.576 | 0.557                    | 0.545                                     | 0.550      |\n| ge         | XGBoost                      |   0.436 | 0.555                       |                   0.507 | 0.547                    | 0.550                                     | 0.549      |\n| it         | KNN                          |   0.451 | 0.420                       |                   0.496 | 0.490                    | 0.471                                     | 0.560      |\n| it         | LinearSVM                    |   0.46  | 0.470                       |                   0.508 | 0.556                    | 0.537                                     | 0.614      |\n| it         | LogisticRegression           |   0.479 | 0.463                       |                   0.471 | 0.492                    | 0.549                                     | 0.578      |\n| it         | LogisticRegressionElasticNet |   0.465 | 0.463                       |                   0.509 | 0.517                    | 0.668                                     | 0.643      |\n| it         | LogisticRegressionLasso      |   0.49  | 0.515                       |                   0.479 | 0.550                    | 0.570                                     | 0.616      |\n| it         | LogisticRegressionRidge      |   0.467 | 0.476                       |                   0.52  | 0.532                    | 0.550                                     | 0.626      |\n| it         | NaiveBayes                   |   0.487 | 0.496                       |                   0.546 | 0.568                    | 0.602                                     | 0.595      |\n| it         | RandomForest                 |   0.473 | 0.493                       |                   0.477 | 0.540                    | 0.532                                     | 0.667      |\n| it         | RidgeClassifier              |   0.462 | 0.493                       |                   0.551 | 0.581                    | 0.602                                     | **0.722**  |\n| it         | SVM                          |   0.486 | 0.508                       |                   0.575 | 0.637                    | 0.612                                     | 0.631      |\n| it         | XGBoost                      |   0.353 | 0.417                       |                   0.448 | 0.453                    | 0.512                                     | 0.527      |\n| po         | KNN                          |   0.583 | 0.453                       |                   0.575 | 0.510                    | 0.050                                     | 0.577      |\n| po         | LinearSVM                    |   0.549 | 0.520                       |                   0.586 | 0.593                    | 0.670                                     | 0.685      |\n| po         | LogisticRegression           |   0.584 | 0.516                       |                   0.536 | 0.571                    | 0.621                                     | 0.645      |\n| po         | LogisticRegressionElasticNet |   0.619 | 0.542                       |                   0.602 | 0.586                    | 0.597                                     | 0.667      |\n| po         | LogisticRegressionLasso      |   0.614 | 0.614                       |                   0.585 | 0.614                    | 0.601                                     | 0.624      |\n| po         | LogisticRegressionRidge      |   0.549 | 0.515                       |                   0.62  | 0.608                    | 0.610                                     | 0.669      |\n| po         | NaiveBayes                   |   0.625 | 0.564                       |                   0.567 | 0.584                    | 0.624                                     | 0.658      |\n| po         | RandomForest                 |   0.636 | 0.591                       |                   0.57  | 0.540                    | 0.709                                     | **0.784**  |\n| po         | RidgeClassifier              |   0.625 | 0.526                       |                   0.554 | 0.657                    | 0.724                                     | 0.713      |\n| po         | SVM                          |   0.569 | 0.581                       |                   0.625 | 0.579                    | 0.733                                     | 0.737      |\n| po         | XGBoost                      |   0.501 | 0.524                       |                   0.535 | 0.550                    | 0.601                                     | 0.640      |\n| ru         | KNN                          |   0.413 | 0.342                       |                   0.298 | 0.362                    | 0.375                                     | 0.317      |\n| ru         | LinearSVM                    |   0.392 | 0.410                       |                   0.376 | 0.444                    | 0.452                                     | 0.459      |\n| ru         | LogisticRegression           |   0.403 | 0.376                       |                   0.436 | 0.355                    | 0.380                                     | 0.401      |\n| ru         | LogisticRegressionElasticNet |   0.457 | 0.459                       |                   0.447 | 0.411                    | 0.368                                     | 0.461      |\n| ru         | LogisticRegressionLasso      |   0.539 | 0.331                       |                   0.362 | 0.388                    | 0.358                                     | 0.464      |\n| ru         | LogisticRegressionRidge      |   0.39  | 0.455                       |                   0.447 | 0.422                    | 0.446                                     | 0.470      |\n| ru         | NaiveBayes                   |   0.358 | 0.421                       |                   0.476 | 0.453                    | 0.405                                     | **0.567**  |\n| ru         | RandomForest                 |   0.245 | 0.246                       |                   0.313 | 0.366                    | 0.402                                     | 0.409      |\n| ru         | RidgeClassifier              |   0.398 | 0.430                       |                   0.42  | 0.441                    | 0.448                                     | 0.422      |\n| ru         | SVM                          |   0.385 | 0.474                       |                   0.498 | 0.497                    | 0.526                                     | 0.555      |\n| ru         | XGBoost                      |   0.335 | 0.264                       |                   0.354 | 0.385                    | 0.400                                     | 0.452      |"
     },
     "metadata": {},
     "output_type": "display_data"
    },
    {
     "name": "stderr",
     "output_type": "stream",
     "text": [
      "/tmp/ipykernel_13564/3322418740.py:69: FutureWarning: In future versions `DataFrame.to_latex` is expected to utilise the base implementation of `Styler.to_latex` for formatting and rendering. The arguments signature may therefore change. It is recommended instead to use `DataFrame.style.to_latex` which also contains additional functionality.\n",
      "  multi_language_report_table_metric.reset_index().to_latex(latex_file, index=False)\n"
     ]
    },
    {
     "data": {
      "text/plain": "<IPython.core.display.Markdown object>",
      "text/markdown": "## accuracy"
     },
     "metadata": {},
     "output_type": "display_data"
    },
    {
     "data": {
      "text/plain": "<IPython.core.display.Markdown object>",
      "text/markdown": "| language   | model_type                   |   title | title and first paragraph   | title and 5 sentences   | title and 10 sentences   |   title and first sentence each paragraph | raw text   |\n|:-----------|:-----------------------------|--------:|:----------------------------|:------------------------|:-------------------------|------------------------------------------:|:-----------|\n| en         | KNN                          |   0     | **0.126**                   | 0.019                   | 0.058                    |                                     0.097 | 0.107      |\n| en         | LinearSVM                    |   0     | 0.058                       | 0.087                   | 0.049                    |                                     0.117 | 0.068      |\n| en         | LogisticRegression           |   0.029 | 0.039                       | 0.049                   | 0.019                    |                                     0.068 | 0.068      |\n| en         | LogisticRegressionElasticNet |   0     | 0.058                       | 0.058                   | 0.049                    |                                     0.117 | 0.087      |\n| en         | LogisticRegressionLasso      |   0.049 | 0.058                       | 0.068                   | 0.068                    |                                     0.058 | 0.068      |\n| en         | LogisticRegressionRidge      |   0.058 | 0.117                       | 0.107                   | 0.078                    |                                     0.087 | 0.058      |\n| en         | NaiveBayes                   |   0     | 0                           | 0.087                   | 0.107                    |                                     0.097 | 0.068      |\n| en         | RandomForest                 |   0     | 0                           | 0.117                   | 0.049                    |                                     0.117 | 0.117      |\n| en         | RidgeClassifier              |   0     | 0.117                       | 0.117                   | **0.126**                |                                     0.087 | 0.078      |\n| en         | SVM                          |   0     | 0.087                       | 0.097                   | 0.097                    |                                     0.078 | 0.058      |\n| en         | XGBoost                      |   0     | 0.049                       | 0.039                   | 0.107                    |                                     0.078 | **0.126**  |\n| fr         | KNN                          |   0.048 | 0.048                       | 0.024                   | 0.071                    |                                     0     | 0.048      |\n| fr         | LinearSVM                    |   0     | 0.071                       | 0.024                   | 0.048                    |                                     0     | **0.143**  |\n| fr         | LogisticRegression           |   0     | 0.048                       | 0.048                   | 0.095                    |                                     0     | 0.095      |\n| fr         | LogisticRegressionElasticNet |   0.024 | 0.024                       | 0.024                   | 0.071                    |                                     0.024 | 0.119      |\n| fr         | LogisticRegressionLasso      |   0.024 | 0.024                       | 0.024                   | 0.024                    |                                     0.071 | 0.095      |\n| fr         | LogisticRegressionRidge      |   0     | 0.071                       | 0.000                   | 0.024                    |                                     0     | 0.024      |\n| fr         | NaiveBayes                   |   0.024 | 0.000                       | 0.024                   | 0.048                    |                                     0.048 | 0.071      |\n| fr         | RandomForest                 |   0     | 0.000                       | 0.000                   | 0.000                    |                                     0     | 0.024      |\n| fr         | RidgeClassifier              |   0     | 0.048                       | 0.048                   | 0.048                    |                                     0     | 0.071      |\n| fr         | SVM                          |   0.024 | 0.000                       | 0.024                   | 0.024                    |                                     0.024 | 0.119      |\n| fr         | XGBoost                      |   0.024 | 0.024                       | 0.000                   | 0.024                    |                                     0.024 | 0.024      |\n| ge         | KNN                          |   0.029 | 0.000                       | 0.000                   | 0.000                    |                                     0     | 0.029      |\n| ge         | LinearSVM                    |   0     | 0.000                       | 0.000                   | 0.000                    |                                     0     | 0.000      |\n| ge         | LogisticRegression           |   0     | 0.000                       | 0.000                   | 0.000                    |                                     0     | 0.000      |\n| ge         | LogisticRegressionElasticNet |   0     | 0.000                       | 0.000                   | 0.000                    |                                     0.029 | 0.000      |\n| ge         | LogisticRegressionLasso      |   0     | 0.000                       | 0.000                   | 0.000                    |                                     0     | 0.000      |\n| ge         | LogisticRegressionRidge      |   0     | 0.000                       | 0.000                   | 0.000                    |                                     0     | 0.029      |\n| ge         | NaiveBayes                   |   0     | 0.000                       | 0.000                   | 0.000                    |                                     0     | **0.057**  |\n| ge         | RandomForest                 |   0     | 0.000                       | 0.000                   | 0.029                    |                                     0     | 0.029      |\n| ge         | RidgeClassifier              |   0     | 0.000                       | 0.000                   | 0.000                    |                                     0     | 0.029      |\n| ge         | SVM                          |   0     | 0.000                       | 0.000                   | 0.000                    |                                     0.029 | 0.029      |\n| ge         | XGBoost                      |   0.029 | 0.000                       | 0.000                   | 0.000                    |                                     0     | 0.000      |\n| it         | KNN                          |   0.017 | 0.067                       | 0.050                   | 0.017                    |                                     0.067 | 0.117      |\n| it         | LinearSVM                    |   0.017 | 0.083                       | 0.033                   | 0.067                    |                                     0.05  | 0.083      |\n| it         | LogisticRegression           |   0.067 | 0.050                       | 0.050                   | 0.033                    |                                     0.033 | 0.050      |\n| it         | LogisticRegressionElasticNet |   0.033 | 0.083                       | 0.050                   | 0.067                    |                                     0.083 | 0.100      |\n| it         | LogisticRegressionLasso      |   0.083 | 0.033                       | 0.033                   | 0.050                    |                                     0.067 | 0.050      |\n| it         | LogisticRegressionRidge      |   0.033 | 0.083                       | 0.033                   | 0.017                    |                                     0.067 | 0.100      |\n| it         | NaiveBayes                   |   0.033 | 0.067                       | 0.050                   | 0.067                    |                                     0.067 | 0.083      |\n| it         | RandomForest                 |   0     | 0.000                       | 0.033                   | 0.067                    |                                     0.017 | 0.067      |\n| it         | RidgeClassifier              |   0.05  | 0.083                       | 0.067                   | 0.067                    |                                     0.083 | **0.150**  |\n| it         | SVM                          |   0.033 | 0.050                       | 0.067                   | 0.067                    |                                     0.083 | 0.083      |\n| it         | XGBoost                      |   0     | 0.000                       | 0.033                   | 0.050                    |                                     0     | 0.050      |\n| po         | KNN                          |   0     | 0.000                       | 0.000                   | 0.026                    |                                     0.026 | 0.026      |\n| po         | LinearSVM                    |   0     | 0.026                       | 0.026                   | 0.026                    |                                     0.026 | **0.051**  |\n| po         | LogisticRegression           |   0     | 0.000                       | 0.000                   | 0.026                    |                                     0     | **0.051**  |\n| po         | LogisticRegressionElasticNet |   0     | 0.000                       | 0.026                   | 0.026                    |                                     0     | 0.026      |\n| po         | LogisticRegressionLasso      |   0     | 0.000                       | 0.000                   | 0.026                    |                                     0     | 0.026      |\n| po         | LogisticRegressionRidge      |   0     | 0.000                       | 0.026                   | 0.026                    |                                     0     | 0.026      |\n| po         | NaiveBayes                   |   0     | 0.000                       | 0.026                   | 0.026                    |                                     0     | 0.026      |\n| po         | RandomForest                 |   0     | 0.000                       | 0.026                   | 0.026                    |                                     0.026 | 0.026      |\n| po         | RidgeClassifier              |   0     | 0.000                       | 0.026                   | 0.026                    |                                     0.026 | 0.026      |\n| po         | SVM                          |   0     | 0.000                       | **0.051**               | 0.026                    |                                     0.026 | **0.051**  |\n| po         | XGBoost                      |   0     | 0.000                       | 0.000                   | 0.000                    |                                     0     | 0.026      |\n| ru         | KNN                          |   0     | 0.026                       | 0.079                   | 0.105                    |                                     0.053 | 0.079      |\n| ru         | LinearSVM                    |   0     | 0.053                       | 0.053                   | 0.105                    |                                     0.053 | 0.105      |\n| ru         | LogisticRegression           |   0     | 0.053                       | 0.053                   | 0.000                    |                                     0.053 | 0.105      |\n| ru         | LogisticRegressionElasticNet |   0     | 0.079                       | 0.053                   | 0.079                    |                                     0.079 | **0.158**  |\n| ru         | LogisticRegressionLasso      |   0.026 | 0.026                       | 0.053                   | 0.053                    |                                     0.053 | 0.132      |\n| ru         | LogisticRegressionRidge      |   0     | 0.079                       | 0.026                   | 0.079                    |                                     0.079 | 0.105      |\n| ru         | NaiveBayes                   |   0     | 0.053                       | **0.158**               | 0.132                    |                                     0.053 | 0.079      |\n| ru         | RandomForest                 |   0     | 0.000                       | 0.000                   | 0.026                    |                                     0.053 | 0.105      |\n| ru         | RidgeClassifier              |   0.026 | 0.079                       | 0.132                   | 0.053                    |                                     0.053 | 0.079      |\n| ru         | SVM                          |   0     | 0.053                       | **0.158**               | 0.053                    |                                     0.105 | 0.053      |\n| ru         | XGBoost                      |   0.026 | 0.000                       | 0.053                   | 0.105                    |                                     0.132 | **0.158**  |"
     },
     "metadata": {},
     "output_type": "display_data"
    },
    {
     "name": "stderr",
     "output_type": "stream",
     "text": [
      "/tmp/ipykernel_13564/3322418740.py:69: FutureWarning: In future versions `DataFrame.to_latex` is expected to utilise the base implementation of `Styler.to_latex` for formatting and rendering. The arguments signature may therefore change. It is recommended instead to use `DataFrame.style.to_latex` which also contains additional functionality.\n",
      "  multi_language_report_table_metric.reset_index().to_latex(latex_file, index=False)\n"
     ]
    }
   ],
   "source": [
    "display_metrics_and_write_to_file(df=exps_df, grouping_criterion=['model_type'], output_dir='per_model_type_tables')\n",
    "#display_metrics_and_write_to_file(df=exps_df, grouping_criterion=['model_type','model_subtype'], output_dir='per_model_subtype_tables')\n",
    "#display_metrics_and_write_to_file(df=exps_df, grouping_criterion=['model_type','model_subtype', 'model_name'], output_dir='per_exp_name_tables')"
   ]
  },
  {
   "cell_type": "markdown",
   "id": "640b2258-e83b-498f-9807-3c12e08afa53",
   "metadata": {},
   "source": [
    "\n",
    "# Per model sub-type"
   ]
  },
  {
   "cell_type": "code",
   "execution_count": 32,
   "id": "39998e4e-3ee4-4186-98c4-f6dfa2af373d",
   "metadata": {
    "tags": []
   },
   "outputs": [],
   "source": [
    "%%capture\n",
    "display_metrics_and_write_to_file(df=exps_df, grouping_criterion=['model_type','model_subtype'], output_dir='per_model_subtype_tables')"
   ]
  },
  {
   "cell_type": "markdown",
   "id": "dd7454d7-f749-4f54-ba43-4f08bc8adef7",
   "metadata": {},
   "source": [
    "# Per model sub-type and exp name"
   ]
  },
  {
   "cell_type": "code",
   "execution_count": 33,
   "id": "04becbf0-d6f7-458c-8bcb-d52324ffc32d",
   "metadata": {
    "tags": []
   },
   "outputs": [],
   "source": [
    "%%capture\n",
    "display_metrics_and_write_to_file(df=exps_df, grouping_criterion=['model_type','model_subtype', 'model_name'], output_dir='per_exp_name_tables')"
   ]
  },
  {
   "cell_type": "code",
   "execution_count": null,
   "outputs": [],
   "source": [],
   "metadata": {
    "collapsed": false
   }
  }
 ],
 "metadata": {
  "kernelspec": {
   "display_name": "Python 3 (ipykernel)",
   "language": "python",
   "name": "python3"
  },
  "language_info": {
   "codemirror_mode": {
    "name": "ipython",
    "version": 3
   },
   "file_extension": ".py",
   "mimetype": "text/x-python",
   "name": "python",
   "nbconvert_exporter": "python",
   "pygments_lexer": "ipython3",
   "version": "3.9.13"
  }
 },
 "nbformat": 4,
 "nbformat_minor": 5
}
