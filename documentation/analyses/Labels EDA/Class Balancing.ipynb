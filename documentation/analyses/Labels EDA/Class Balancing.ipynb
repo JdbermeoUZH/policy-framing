{
 "cells": [
  {
   "cell_type": "code",
   "execution_count": 1,
   "metadata": {
    "collapsed": true
   },
   "outputs": [],
   "source": [
    "import os\n",
    "os.chdir('../../../')"
   ]
  },
  {
   "cell_type": "code",
   "execution_count": 2,
   "outputs": [
    {
     "name": "stderr",
     "output_type": "stream",
     "text": [
      "/home/juanbermeo/anaconda3/envs/Framing/lib/python3.9/site-packages/tqdm/auto.py:22: TqdmWarning: IProgress not found. Please update jupyter and ipywidgets. See https://ipywidgets.readthedocs.io/en/stable/user_install.html\n",
      "  from .autonotebook import tqdm as notebook_tqdm\n"
     ]
    }
   ],
   "source": [
    "from typing import Tuple\n",
    "\n",
    "import spacy\n",
    "import numpy as np\n",
    "import pandas as pd\n",
    "from sklearn.preprocessing import MultiLabelBinarizer\n",
    "from iterstrat.ml_stratifiers import MultilabelStratifiedKFold"
   ],
   "metadata": {
    "collapsed": false
   }
  },
  {
   "cell_type": "code",
   "execution_count": 3,
   "outputs": [],
   "source": [
    "from preprocessing.BOWPipeline import BOWPipeline, basic_tokenizing_and_cleaning\n",
    "from benchmark_subtask_2 import LABELS"
   ],
   "metadata": {
    "collapsed": false
   }
  },
  {
   "cell_type": "markdown",
   "source": [
    "# Test different class balancing algorithms"
   ],
   "metadata": {
    "collapsed": false
   }
  },
  {
   "cell_type": "markdown",
   "source": [
    "## Let's test it on the largest dataset and its largest version (raw_text)\n",
    "\n",
    "### Prepare and split the data"
   ],
   "metadata": {
    "collapsed": false
   }
  },
  {
   "cell_type": "code",
   "execution_count": 4,
   "outputs": [
    {
     "data": {
      "text/plain": "MultiLabelBinarizer()",
      "text/html": "<style>#sk-container-id-1 {color: black;background-color: white;}#sk-container-id-1 pre{padding: 0;}#sk-container-id-1 div.sk-toggleable {background-color: white;}#sk-container-id-1 label.sk-toggleable__label {cursor: pointer;display: block;width: 100%;margin-bottom: 0;padding: 0.3em;box-sizing: border-box;text-align: center;}#sk-container-id-1 label.sk-toggleable__label-arrow:before {content: \"▸\";float: left;margin-right: 0.25em;color: #696969;}#sk-container-id-1 label.sk-toggleable__label-arrow:hover:before {color: black;}#sk-container-id-1 div.sk-estimator:hover label.sk-toggleable__label-arrow:before {color: black;}#sk-container-id-1 div.sk-toggleable__content {max-height: 0;max-width: 0;overflow: hidden;text-align: left;background-color: #f0f8ff;}#sk-container-id-1 div.sk-toggleable__content pre {margin: 0.2em;color: black;border-radius: 0.25em;background-color: #f0f8ff;}#sk-container-id-1 input.sk-toggleable__control:checked~div.sk-toggleable__content {max-height: 200px;max-width: 100%;overflow: auto;}#sk-container-id-1 input.sk-toggleable__control:checked~label.sk-toggleable__label-arrow:before {content: \"▾\";}#sk-container-id-1 div.sk-estimator input.sk-toggleable__control:checked~label.sk-toggleable__label {background-color: #d4ebff;}#sk-container-id-1 div.sk-label input.sk-toggleable__control:checked~label.sk-toggleable__label {background-color: #d4ebff;}#sk-container-id-1 input.sk-hidden--visually {border: 0;clip: rect(1px 1px 1px 1px);clip: rect(1px, 1px, 1px, 1px);height: 1px;margin: -1px;overflow: hidden;padding: 0;position: absolute;width: 1px;}#sk-container-id-1 div.sk-estimator {font-family: monospace;background-color: #f0f8ff;border: 1px dotted black;border-radius: 0.25em;box-sizing: border-box;margin-bottom: 0.5em;}#sk-container-id-1 div.sk-estimator:hover {background-color: #d4ebff;}#sk-container-id-1 div.sk-parallel-item::after {content: \"\";width: 100%;border-bottom: 1px solid gray;flex-grow: 1;}#sk-container-id-1 div.sk-label:hover label.sk-toggleable__label {background-color: #d4ebff;}#sk-container-id-1 div.sk-serial::before {content: \"\";position: absolute;border-left: 1px solid gray;box-sizing: border-box;top: 0;bottom: 0;left: 50%;z-index: 0;}#sk-container-id-1 div.sk-serial {display: flex;flex-direction: column;align-items: center;background-color: white;padding-right: 0.2em;padding-left: 0.2em;position: relative;}#sk-container-id-1 div.sk-item {position: relative;z-index: 1;}#sk-container-id-1 div.sk-parallel {display: flex;align-items: stretch;justify-content: center;background-color: white;position: relative;}#sk-container-id-1 div.sk-item::before, #sk-container-id-1 div.sk-parallel-item::before {content: \"\";position: absolute;border-left: 1px solid gray;box-sizing: border-box;top: 0;bottom: 0;left: 50%;z-index: -1;}#sk-container-id-1 div.sk-parallel-item {display: flex;flex-direction: column;z-index: 1;position: relative;background-color: white;}#sk-container-id-1 div.sk-parallel-item:first-child::after {align-self: flex-end;width: 50%;}#sk-container-id-1 div.sk-parallel-item:last-child::after {align-self: flex-start;width: 50%;}#sk-container-id-1 div.sk-parallel-item:only-child::after {width: 0;}#sk-container-id-1 div.sk-dashed-wrapped {border: 1px dashed gray;margin: 0 0.4em 0.5em 0.4em;box-sizing: border-box;padding-bottom: 0.4em;background-color: white;}#sk-container-id-1 div.sk-label label {font-family: monospace;font-weight: bold;display: inline-block;line-height: 1.2em;}#sk-container-id-1 div.sk-label-container {text-align: center;}#sk-container-id-1 div.sk-container {/* jupyter's `normalize.less` sets `[hidden] { display: none; }` but bootstrap.min.css set `[hidden] { display: none !important; }` so we also need the `!important` here to be able to override the default hidden behavior on the sphinx rendered scikit-learn.org. See: https://github.com/scikit-learn/scikit-learn/issues/21755 */display: inline-block !important;position: relative;}#sk-container-id-1 div.sk-text-repr-fallback {display: none;}</style><div id=\"sk-container-id-1\" class=\"sk-top-container\"><div class=\"sk-text-repr-fallback\"><pre>MultiLabelBinarizer()</pre><b>In a Jupyter environment, please rerun this cell to show the HTML representation or trust the notebook. <br />On GitHub, the HTML representation is unable to render, please try loading this page with nbviewer.org.</b></div><div class=\"sk-container\" hidden><div class=\"sk-item\"><div class=\"sk-estimator sk-toggleable\"><input class=\"sk-toggleable__control sk-hidden--visually\" id=\"sk-estimator-id-1\" type=\"checkbox\" checked><label for=\"sk-estimator-id-1\" class=\"sk-toggleable__label sk-toggleable__label-arrow\">MultiLabelBinarizer</label><div class=\"sk-toggleable__content\"><pre>MultiLabelBinarizer()</pre></div></div></div></div></div>"
     },
     "execution_count": 4,
     "metadata": {},
     "output_type": "execute_result"
    }
   ],
   "source": [
    "# Load example dataset\n",
    "DATA_DIR = os.path.join('data', 'preprocessed')\n",
    "en_train_df = pd.read_csv(os.path.join(DATA_DIR, 'input_en_train.csv'), index_col='id')\n",
    "\n",
    "# Create objects that will preprocess the data\n",
    "en_nlp = spacy.load('en_core_web_sm')\n",
    "preproc_pipeline = BOWPipeline(\n",
    "    tokenizer=lambda string: basic_tokenizing_and_cleaning(string, spacy_nlp_model=en_nlp),\n",
    ")\n",
    "\n",
    "mlb = MultiLabelBinarizer()\n",
    "mlb.fit([LABELS])"
   ],
   "metadata": {
    "collapsed": false
   }
  },
  {
   "cell_type": "code",
   "execution_count": 5,
   "outputs": [],
   "source": [
    "X = preproc_pipeline.pipeline.fit_transform(en_train_df.raw_text)\n",
    "y = mlb.transform(en_train_df.frames.str.lower().str.split(','))"
   ],
   "metadata": {
    "collapsed": false
   }
  },
  {
   "cell_type": "code",
   "execution_count": 6,
   "outputs": [],
   "source": [
    "stratified_kfold_splitter = MultilabelStratifiedKFold(n_splits=3, shuffle=True, random_state=123)\n",
    "train_idx, test_idx = next(stratified_kfold_splitter.split(X, y))\n",
    "X_train, y_train = X[train_idx], y[train_idx]\n",
    "X_test, y_test = X[test_idx], y[test_idx]"
   ],
   "metadata": {
    "collapsed": false
   }
  },
  {
   "cell_type": "markdown",
   "source": [
    "## Create a class to preprocess and calculate basic metrics of a multilabel dataset"
   ],
   "metadata": {
    "collapsed": false
   }
  },
  {
   "cell_type": "code",
   "execution_count": 107,
   "outputs": [],
   "source": [
    "def calculate_scrumble(label_mask: np.ndarray, imb_rations: np.ndarray):\n",
    "    instance_level_ir = label_mask * imb_rations\n",
    "    scrumble_score_lbls = 1 - (1/instance_level_ir.mean(axis=1, where=label_mask)) * np.power(instance_level_ir.prod(axis=1, where=label_mask), 1/label_mask.sum(axis=1))\n",
    "    scrumble_score = scrumble_score_lbls.mean()\n",
    "\n",
    "    return instance_level_ir, scrumble_score_lbls, scrumble_score\n",
    "\n",
    "class MultiLabelDataset:\n",
    "    def __init__(self, x, y, labels: Tuple[str, ...], binarized=False):\n",
    "        self.features = x\n",
    "        self.target = y\n",
    "        self.labels = labels\n",
    "        self.label2idx = {label: idx for idx, label in enumerate(labels)}\n",
    "        if binarized:\n",
    "            self.binarized_target = y\n",
    "        else:\n",
    "            self._mlb = MultiLabelBinarizer()\n",
    "            self._mlb.fit([labels])\n",
    "            self.binarized_target = self._mlb.fit_transform(y)\n",
    "\n",
    "        self.characteristics, self.majority_labels, self.minority_labels =\\\n",
    "            self._calculate_multilabel_metrics()\n",
    "\n",
    "    def _calculate_multilabel_metrics(self):\n",
    "        rel_freq = {\n",
    "            label: rel_freq for label, rel_freq in\n",
    "            zip(self.labels, self.binarized_target.sum(axis=0) / self.binarized_target.shape[0])\n",
    "        }\n",
    "\n",
    "        rel_freq_array = np.array(list(rel_freq.values()))\n",
    "        max_freq = rel_freq_array.max()\n",
    "        imb_ratio = {label: max_freq/rel_freq for label, rel_freq in rel_freq.items()}\n",
    "        imb_ratio_array = np.array(list(imb_ratio.values()))\n",
    "        mean_imb_ratio = imb_ratio_array.mean()\n",
    "        cv_ir = imb_ratio_array.std() / mean_imb_ratio\n",
    "\n",
    "        instance_level_ir, scrumble_score_lbls, scrumble_score = \\\n",
    "        calculate_scrumble(label_mask=self.binarized_target.astype(bool),\n",
    "                               imb_rations=np.array(list(imb_ratio.values())))\n",
    "\n",
    "        characteristics = {\n",
    "            'relative_frequencies': rel_freq, 'imbalanced_ratios': imb_ratio,\n",
    "            'mean_imbalanced_ratio': mean_imb_ratio, 'IR_coef_of_variation': cv_ir,\n",
    "            'instance_level_ir': instance_level_ir, 'scrumble_score_lbls': scrumble_score_lbls,\n",
    "            'scrumble_score': scrumble_score\n",
    "        }\n",
    "        majority_labels = [label for label, imb_ratio in imb_ratio.items() if imb_ratio <= mean_imb_ratio]\n",
    "        minority_labels = [label for label, imb_ratio in imb_ratio.items() if imb_ratio > mean_imb_ratio]\n",
    "\n",
    "\n",
    "        return characteristics, majority_labels, minority_labels\n",
    "\n",
    "    def print_report(self):\n",
    "        print(f'Majority labels: {self.majority_labels}')\n",
    "        print(f'Minority labels: {self.minority_labels}')\n",
    "        print(f'mean_imbalanced_ratio: {self.characteristics[\"mean_imbalanced_ratio\"]}')\n",
    "        print(f'scrumble_score: {self.characteristics[\"scrumble_score\"]}')\n",
    "        print(f'IR_coef_of_variation: {self.characteristics[\"IR_coef_of_variation\"]}')\n",
    "        print(f'imbalanced_ratios\" {self.characteristics[\"imbalanced_ratios\"]}')\n"
   ],
   "metadata": {
    "collapsed": false
   }
  },
  {
   "cell_type": "code",
   "execution_count": 108,
   "outputs": [],
   "source": [
    "mlb_dataset = MultiLabelDataset(x=X, y=en_train_df.frames.str.lower().str.split(','), labels=LABELS)"
   ],
   "metadata": {
    "collapsed": false
   }
  },
  {
   "cell_type": "code",
   "execution_count": 109,
   "outputs": [
    {
     "name": "stdout",
     "output_type": "stream",
     "text": [
      "Majority labels: ['security_and_defense', 'policy_prescription_and_evaluation', 'capacity_and_resources', 'economic', 'cultural_identity', 'health_and_safety', 'quality_of_life', 'legality_constitutionality_and_jurisprudence', 'public_opinion', 'external_regulation_and_reputation']\n",
      "Minority labels: ['fairness_and_equality', 'crime_and_punishment', 'morality', 'political']\n",
      "mean_imbalanced_ratio: 3.8333414890009467\n",
      "scrumble_score: 0.1054402803404845\n",
      "IR_coef_of_variation: 0.813248130779685\n",
      "imbalanced_ratios\" {'fairness_and_equality': 8.03448275862069, 'security_and_defense': 1.0309734513274338, 'crime_and_punishment': 7.516129032258066, 'morality': 8.321428571428573, 'policy_prescription_and_evaluation': 1.9416666666666669, 'capacity_and_resources': 2.043859649122807, 'economic': 3.819672131147541, 'cultural_identity': 1.1592039800995027, 'health_and_safety': 1.1534653465346536, 'quality_of_life': 3.5846153846153848, 'legality_constitutionality_and_jurisprudence': 1.0, 'political': 10.130434782608697, 'public_opinion': 2.67816091954023, 'external_regulation_and_reputation': 1.2526881720430108}\n"
     ]
    }
   ],
   "source": [
    "mlb_dataset.print_report()"
   ],
   "metadata": {
    "collapsed": false
   }
  },
  {
   "cell_type": "code",
   "execution_count": 28,
   "outputs": [
    {
     "data": {
      "text/plain": "['security_and_defense',\n 'policy_prescription_and_evaluation',\n 'capacity_and_resources',\n 'economic',\n 'cultural_identity',\n 'health_and_safety',\n 'quality_of_life',\n 'legality_constitutionality_and_jurisprudence',\n 'public_opinion',\n 'external_regulation_and_reputation']"
     },
     "execution_count": 28,
     "metadata": {},
     "output_type": "execute_result"
    }
   ],
   "source": [
    "mlb_dataset.majority_labels"
   ],
   "metadata": {
    "collapsed": false
   }
  },
  {
   "cell_type": "code",
   "execution_count": 29,
   "outputs": [
    {
     "data": {
      "text/plain": "['fairness_and_equality', 'crime_and_punishment', 'morality', 'political']"
     },
     "execution_count": 29,
     "metadata": {},
     "output_type": "execute_result"
    }
   ],
   "source": [
    "mlb_dataset.minority_labels"
   ],
   "metadata": {
    "collapsed": false
   }
  },
  {
   "cell_type": "code",
   "execution_count": 30,
   "outputs": [
    {
     "data": {
      "text/plain": "3.8333414890009467"
     },
     "execution_count": 30,
     "metadata": {},
     "output_type": "execute_result"
    }
   ],
   "source": [
    "mlb_dataset.characteristics['mean_imbalanced_ratio']"
   ],
   "metadata": {
    "collapsed": false
   }
  },
  {
   "cell_type": "code",
   "execution_count": 31,
   "outputs": [
    {
     "data": {
      "text/plain": "0.1054402803404845"
     },
     "execution_count": 31,
     "metadata": {},
     "output_type": "execute_result"
    }
   ],
   "source": [
    "mlb_dataset.characteristics['scrumble_score']"
   ],
   "metadata": {
    "collapsed": false
   }
  },
  {
   "cell_type": "code",
   "execution_count": 32,
   "outputs": [
    {
     "data": {
      "text/plain": "0.813248130779685"
     },
     "execution_count": 32,
     "metadata": {},
     "output_type": "execute_result"
    }
   ],
   "source": [
    "mlb_dataset.characteristics['IR_coef_of_variation']"
   ],
   "metadata": {
    "collapsed": false
   }
  },
  {
   "cell_type": "markdown",
   "source": [
    "It does not seem to suffer from a lot of coupling between majority and minority classes, as measured by scrumble score higher than 0.1. It seems we would not have to artificially split samples into two, particularly when we are treating each label as independent"
   ],
   "metadata": {
    "collapsed": false
   }
  },
  {
   "cell_type": "markdown",
   "source": [
    "### Test oversampling techniques (particularly time-wise)"
   ],
   "metadata": {
    "collapsed": false
   }
  },
  {
   "cell_type": "markdown",
   "source": [
    "#### Test the heuristic of continually upsampling in decreasing order of class frequency"
   ],
   "metadata": {
    "collapsed": false
   }
  },
  {
   "cell_type": "code",
   "execution_count": 7,
   "outputs": [],
   "source": [
    "from imblearn.over_sampling import RandomOverSampler, SMOTE, ADASYN\n",
    "from imblearn.under_sampling import RandomUnderSampler"
   ],
   "metadata": {
    "collapsed": false
   }
  },
  {
   "cell_type": "code",
   "execution_count": 24,
   "outputs": [],
   "source": [
    "order_series = pd.Series(mlb_dataset.characteristics['imbalanced_ratios']).sort_values(ascending=False)"
   ],
   "metadata": {
    "collapsed": false
   }
  },
  {
   "cell_type": "code",
   "execution_count": 39,
   "outputs": [],
   "source": [
    "ros = RandomOverSampler(random_state=42)\n",
    "smote = SMOTE(random_state=42)\n",
    "adasyn = ADASYN(random_state=42)"
   ],
   "metadata": {
    "collapsed": false
   }
  },
  {
   "cell_type": "code",
   "execution_count": 89,
   "outputs": [],
   "source": [
    "X_res = mlb_dataset.features.copy()\n",
    "y_res = mlb_dataset.binarized_target.copy()\n",
    "y_res_idxs = np.arange(0, y_res.shape[0]).reshape((y_res.shape[0], 1))"
   ],
   "metadata": {
    "collapsed": false
   }
  },
  {
   "cell_type": "code",
   "execution_count": 90,
   "outputs": [],
   "source": [
    "for label, imb_ratio in pd.Series(mlb_dataset.characteristics['imbalanced_ratios']).sort_values(ascending=False).iteritems():\n",
    "    label_idx = mlb_dataset.label2idx[label]\n",
    "    y_res_idxs, _ = ros.fit_resample(y_res_idxs, y_res[:, label_idx])\n",
    "\n",
    "    # prepare for next iteration\n",
    "    y_res = y_res[y_res_idxs[:, 0]]\n",
    "    y_res_idxs = np.arange(0, y_res.shape[0]).reshape((y_res.shape[0], 1))"
   ],
   "metadata": {
    "collapsed": false
   }
  },
  {
   "cell_type": "code",
   "execution_count": 110,
   "outputs": [],
   "source": [
    "mlb_dataset_resampled = MultiLabelDataset(x=y_res, y=y_res, labels=LABELS, binarized=True)"
   ],
   "metadata": {
    "collapsed": false
   }
  },
  {
   "cell_type": "code",
   "execution_count": 111,
   "outputs": [
    {
     "name": "stdout",
     "output_type": "stream",
     "text": [
      "Majority labels: ['security_and_defense', 'crime_and_punishment', 'policy_prescription_and_evaluation', 'capacity_and_resources', 'cultural_identity', 'health_and_safety', 'legality_constitutionality_and_jurisprudence', 'political', 'external_regulation_and_reputation']\n",
      "Minority labels: ['fairness_and_equality', 'morality', 'economic', 'quality_of_life', 'public_opinion']\n",
      "mean_imbalanced_ratio: 1.79208517668352\n",
      "scrumble_score: 0.03861619207567673\n",
      "IR_coef_of_variation: 0.4316613250227376\n",
      "imbalanced_ratios\" {'fairness_and_equality': 3.3755034406572926, 'security_and_defense': 1.232450464682453, 'crime_and_punishment': 1.453852482578829, 'morality': 2.813847747678613, 'policy_prescription_and_evaluation': 1.4113237685594142, 'capacity_and_resources': 1.2305685136087527, 'economic': 3.3176276323825467, 'cultural_identity': 1.0, 'health_and_safety': 1.3097551392188032, 'quality_of_life': 2.0423170646800806, 'legality_constitutionality_and_jurisprudence': 1.2676335099349196, 'political': 1.476033290730323, 'public_opinion': 1.9131903681093632, 'external_regulation_and_reputation': 1.2450890507478904}\n"
     ]
    }
   ],
   "source": [
    "mlb_dataset_resampled.print_report()"
   ],
   "metadata": {
    "collapsed": false
   }
  },
  {
   "cell_type": "code",
   "execution_count": 112,
   "outputs": [
    {
     "name": "stdout",
     "output_type": "stream",
     "text": [
      "Majority labels: ['security_and_defense', 'policy_prescription_and_evaluation', 'capacity_and_resources', 'economic', 'cultural_identity', 'health_and_safety', 'quality_of_life', 'legality_constitutionality_and_jurisprudence', 'public_opinion', 'external_regulation_and_reputation']\n",
      "Minority labels: ['fairness_and_equality', 'crime_and_punishment', 'morality', 'political']\n",
      "mean_imbalanced_ratio: 3.8333414890009467\n",
      "scrumble_score: 0.1054402803404845\n",
      "IR_coef_of_variation: 0.813248130779685\n",
      "imbalanced_ratios\" {'fairness_and_equality': 8.03448275862069, 'security_and_defense': 1.0309734513274338, 'crime_and_punishment': 7.516129032258066, 'morality': 8.321428571428573, 'policy_prescription_and_evaluation': 1.9416666666666669, 'capacity_and_resources': 2.043859649122807, 'economic': 3.819672131147541, 'cultural_identity': 1.1592039800995027, 'health_and_safety': 1.1534653465346536, 'quality_of_life': 3.5846153846153848, 'legality_constitutionality_and_jurisprudence': 1.0, 'political': 10.130434782608697, 'public_opinion': 2.67816091954023, 'external_regulation_and_reputation': 1.2526881720430108}\n"
     ]
    }
   ],
   "source": [
    "mlb_dataset.print_report()"
   ],
   "metadata": {
    "collapsed": false
   }
  },
  {
   "cell_type": "markdown",
   "source": [
    "The number of samples increased by a lot, but the average imbalanced ratio and the individual imbalanced ratios where lowered significantly (avg from 3.83 to 1.79) and Scrumble score from (0.1 to 0.038). Let's try multiple rounds of upsampling"
   ],
   "metadata": {
    "collapsed": false
   }
  },
  {
   "cell_type": "code",
   "execution_count": 114,
   "outputs": [],
   "source": [
    "for label, imb_ratio in pd.Series(mlb_dataset.characteristics['imbalanced_ratios']).sort_values(ascending=False).iteritems():\n",
    "    label_idx = mlb_dataset.label2idx[label]\n",
    "    y_res_idxs, _ = ros.fit_resample(y_res_idxs, y_res[:, label_idx])\n",
    "\n",
    "    # prepare for next iteration\n",
    "    y_res = y_res[y_res_idxs[:, 0]]\n",
    "    y_res_idxs = np.arange(0, y_res.shape[0]).reshape((y_res.shape[0], 1))"
   ],
   "metadata": {
    "collapsed": false
   }
  },
  {
   "cell_type": "code",
   "execution_count": 115,
   "outputs": [
    {
     "data": {
      "text/plain": "(13472022, 1)"
     },
     "execution_count": 115,
     "metadata": {},
     "output_type": "execute_result"
    }
   ],
   "source": [
    "y_res_idxs.shape"
   ],
   "metadata": {
    "collapsed": false
   }
  },
  {
   "cell_type": "code",
   "execution_count": 116,
   "outputs": [],
   "source": [
    "mlb_dataset_resampled2 = MultiLabelDataset(x=y_res, y=y_res, labels=LABELS, binarized=True)"
   ],
   "metadata": {
    "collapsed": false
   }
  },
  {
   "cell_type": "code",
   "execution_count": 120,
   "outputs": [
    {
     "name": "stdout",
     "output_type": "stream",
     "text": [
      "Majority labels: ['security_and_defense', 'crime_and_punishment', 'policy_prescription_and_evaluation', 'capacity_and_resources', 'cultural_identity', 'health_and_safety', 'quality_of_life', 'legality_constitutionality_and_jurisprudence', 'external_regulation_and_reputation']\n",
      "Minority labels: ['fairness_and_equality', 'morality', 'economic', 'political', 'public_opinion']\n",
      "mean_imbalanced_ratio: 1.7508263353921591\n",
      "scrumble_score: 0.03190887859238276\n",
      "IR_coef_of_variation: 0.33611351359194136\n",
      "imbalanced_ratios\" {'fairness_and_equality': 2.9190524518532515, 'security_and_defense': 1.2711807066906269, 'crime_and_punishment': 1.6965074352038445, 'morality': 2.6220802747133654, 'policy_prescription_and_evaluation': 1.4820494415387344, 'capacity_and_resources': 1.1797287702798254, 'economic': 2.7077300231684447, 'cultural_identity': 1.0, 'health_and_safety': 1.2720886890284302, 'quality_of_life': 1.7038834784693122, 'legality_constitutionality_and_jurisprudence': 1.3253854543883612, 'political': 2.0707087317661053, 'public_opinion': 1.817649160632648, 'external_regulation_and_reputation': 1.4435240777572775}\n"
     ]
    }
   ],
   "source": [
    "mlb_dataset_resampled2.print_report()"
   ],
   "metadata": {
    "collapsed": false
   }
  },
  {
   "cell_type": "code",
   "execution_count": 122,
   "outputs": [
    {
     "data": {
      "text/plain": "{'fairness_and_equality': 0.06728538283062645,\n 'security_and_defense': 0.5243619489559165,\n 'crime_and_punishment': 0.07192575406032482,\n 'morality': 0.06496519721577726,\n 'policy_prescription_and_evaluation': 0.27842227378190254,\n 'capacity_and_resources': 0.26450116009280744,\n 'economic': 0.14153132250580047,\n 'cultural_identity': 0.46635730858468677,\n 'health_and_safety': 0.46867749419953597,\n 'quality_of_life': 0.15081206496519722,\n 'legality_constitutionality_and_jurisprudence': 0.5406032482598608,\n 'political': 0.05336426914153132,\n 'public_opinion': 0.20185614849187936,\n 'external_regulation_and_reputation': 0.43155452436194897}"
     },
     "execution_count": 122,
     "metadata": {},
     "output_type": "execute_result"
    }
   ],
   "source": [
    "mlb_dataset.characteristics['relative_frequencies']"
   ],
   "metadata": {
    "collapsed": false
   }
  },
  {
   "cell_type": "code",
   "execution_count": 121,
   "outputs": [
    {
     "data": {
      "text/plain": "{'fairness_and_equality': 0.18776954789417732,\n 'security_and_defense': 0.514273614340164,\n 'crime_and_punishment': 0.4359567167662031,\n 'morality': 0.2252491292360613,\n 'policy_prescription_and_evaluation': 0.44909380050646913,\n 'capacity_and_resources': 0.51506011080093,\n 'economic': 0.19104517601099366,\n 'cultural_identity': 0.6338167549674598,\n 'health_and_safety': 0.4839200366455494,\n 'quality_of_life': 0.31034199631815945,\n 'legality_constitutionality_and_jurisprudence': 0.5,\n 'political': 0.42940546053257045,\n 'public_opinion': 0.3312878663474586,\n 'external_regulation_and_reputation': 0.5090533521170584}"
     },
     "execution_count": 121,
     "metadata": {},
     "output_type": "execute_result"
    }
   ],
   "source": [
    "mlb_dataset_resampled.characteristics['relative_frequencies']"
   ],
   "metadata": {
    "collapsed": false
   }
  },
  {
   "cell_type": "code",
   "execution_count": 119,
   "outputs": [
    {
     "data": {
      "text/plain": "{'fairness_and_equality': 0.22702323378034864,\n 'security_and_defense': 0.5213206302661917,\n 'crime_and_punishment': 0.39062176412716665,\n 'morality': 0.2527354839533368,\n 'policy_prescription_and_evaluation': 0.44714616707128296,\n 'capacity_and_resources': 0.5617331236543408,\n 'economic': 0.24474106411049507,\n 'cultural_identity': 0.6626927271941806,\n 'health_and_safety': 0.5209485257669562,\n 'quality_of_life': 0.38893077817123517,\n 'legality_constitutionality_and_jurisprudence': 0.5,\n 'political': 0.3200318408031103,\n 'public_opinion': 0.36458781020399167,\n 'external_regulation_and_reputation': 0.45907978772599983}"
     },
     "execution_count": 119,
     "metadata": {},
     "output_type": "execute_result"
    }
   ],
   "source": [
    "mlb_dataset_resampled2.characteristics['relative_frequencies']"
   ],
   "metadata": {
    "collapsed": false
   }
  },
  {
   "cell_type": "markdown",
   "source": [
    "Alright, so unless we decouple some of them, we will not get cleaner upsamples, even if we iterate further"
   ],
   "metadata": {
    "collapsed": false
   }
  },
  {
   "cell_type": "markdown",
   "source": [
    "#### Test REMEDIAL decoupling\n",
    "\n",
    "It is just breaking instances into two, one that has only whatever minority samples are present and the other that only has the majority samples"
   ],
   "metadata": {
    "collapsed": false
   }
  },
  {
   "cell_type": "markdown",
   "source": [
    "#### Test MLSMOTE"
   ],
   "metadata": {
    "collapsed": false
   }
  },
  {
   "cell_type": "markdown",
   "source": [
    "#### Test MLSOL"
   ],
   "metadata": {
    "collapsed": false
   }
  },
  {
   "cell_type": "markdown",
   "source": [
    "### Do small comparison for all of them\n"
   ],
   "metadata": {
    "collapsed": false
   }
  },
  {
   "cell_type": "code",
   "execution_count": null,
   "outputs": [],
   "source": [],
   "metadata": {
    "collapsed": false
   }
  }
 ],
 "metadata": {
  "kernelspec": {
   "display_name": "Python 3",
   "language": "python",
   "name": "python3"
  },
  "language_info": {
   "codemirror_mode": {
    "name": "ipython",
    "version": 2
   },
   "file_extension": ".py",
   "mimetype": "text/x-python",
   "name": "python",
   "nbconvert_exporter": "python",
   "pygments_lexer": "ipython2",
   "version": "2.7.6"
  }
 },
 "nbformat": 4,
 "nbformat_minor": 0
}
