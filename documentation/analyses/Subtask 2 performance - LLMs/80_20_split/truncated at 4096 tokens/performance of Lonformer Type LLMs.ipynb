{
 "cells": [
  {
   "cell_type": "code",
   "execution_count": 1,
   "id": "ac7fd1c8-16ff-43f2-a049-a27d37ea2653",
   "metadata": {},
   "outputs": [],
   "source": [
    "import os\n",
    "import glob\n",
    "\n",
    "from IPython.display import display, Markdown\n",
    "import pandas as pd"
   ]
  },
  {
   "cell_type": "markdown",
   "id": "0e3de210-17ae-42af-a361-fff5a0f66735",
   "metadata": {},
   "source": [
    "# Group types of models (experiment type and model type) and pick best performing in terms of f1-score per unit of analysis and report them in a table\n"
   ]
  },
  {
   "cell_type": "code",
   "execution_count": 2,
   "id": "fd704f0c-6f9a-47d2-b05b-150230e363d7",
   "metadata": {},
   "outputs": [],
   "source": [
    "results_filepaths = glob.glob('./logged_performance_per_model/*/*raw*.csv')"
   ]
  },
  {
   "cell_type": "code",
   "execution_count": 3,
   "outputs": [
    {
     "data": {
      "text/plain": "['./logged_performance_per_model/AshtonIsNotHere-xlm-roberta-long-base-4096/truncated_raw_truncated_single_instance_AshtonIsNotHere_xlm-roberta-long-base-4096-raw_text_metrics.csv',\n './logged_performance_per_model/AshtonIsNotHere-xlm-roberta-long-base-4096/truncated_raw_truncated_single_instance_AshtonIsNotHere_xlm-roberta-long-base-4096-title_metrics.csv',\n './logged_performance_per_model/AshtonIsNotHere-xlm-roberta-long-base-4096/truncated_raw_truncated_single_instance_AshtonIsNotHere_xlm-roberta-long-base-4096-title_and_first_sentence_each_paragraph_metrics.csv',\n './logged_performance_per_model/AshtonIsNotHere-xlm-roberta-long-base-4096/truncated_raw_truncated_single_instance_AshtonIsNotHere_xlm-roberta-long-base-4096-title_and_10_sentences_metrics.csv',\n './logged_performance_per_model/AshtonIsNotHere-xlm-roberta-long-base-4096/truncated_raw_truncated_single_instance_AshtonIsNotHere_xlm-roberta-long-base-4096-title_and_5_sentences_metrics.csv',\n './logged_performance_per_model/AshtonIsNotHere-xlm-roberta-long-base-4096/truncated_raw_truncated_single_instance_AshtonIsNotHere_xlm-roberta-long-base-4096-title_and_first_paragraph_metrics.csv']"
     },
     "execution_count": 3,
     "metadata": {},
     "output_type": "execute_result"
    }
   ],
   "source": [
    "results_filepaths"
   ],
   "metadata": {
    "collapsed": false
   }
  },
  {
   "cell_type": "code",
   "execution_count": 4,
   "outputs": [
    {
     "data": {
      "text/plain": "                                                                                             f1_micro  \\\nlanguage model_name                                 unit_of_analysis                                    \nen       AshtonIsNotHere-xlm-roberta-long-base-4096 raw_text                                 0.684142   \n                                                    title                                    0.627717   \n                                                    title_and_10_sentences                   0.688396   \n                                                    title_and_5_sentences                    0.685083   \n                                                    title_and_first_paragraph                0.679195   \n                                                    title_and_first_sentence_each_paragraph  0.704150   \nfr       AshtonIsNotHere-xlm-roberta-long-base-4096 raw_text                                 0.537190   \n                                                    title                                    0.416667   \n                                                    title_and_10_sentences                   0.502128   \n                                                    title_and_5_sentences                    0.481481   \n                                                    title_and_first_paragraph                0.460829   \n                                                    title_and_first_sentence_each_paragraph  0.526316   \nge       AshtonIsNotHere-xlm-roberta-long-base-4096 raw_text                                 0.668657   \n                                                    title                                    0.553746   \n                                                    title_and_10_sentences                   0.618893   \n                                                    title_and_5_sentences                    0.612378   \n                                                    title_and_first_paragraph                0.589041   \n                                                    title_and_first_sentence_each_paragraph  0.617544   \nit       AshtonIsNotHere-xlm-roberta-long-base-4096 raw_text                                 0.650124   \n                                                    title                                    0.542199   \n                                                    title_and_10_sentences                   0.584856   \n                                                    title_and_5_sentences                    0.547804   \n                                                    title_and_first_paragraph                0.555270   \n                                                    title_and_first_sentence_each_paragraph  0.531915   \npo       AshtonIsNotHere-xlm-roberta-long-base-4096 raw_text                                 0.710744   \n                                                    title                                    0.537815   \n                                                    title_and_10_sentences                   0.628242   \n                                                    title_and_5_sentences                    0.591398   \n                                                    title_and_first_paragraph                0.590786   \n                                                    title_and_first_sentence_each_paragraph  0.620690   \nru       AshtonIsNotHere-xlm-roberta-long-base-4096 raw_text                                 0.518987   \n                                                    title                                    0.391608   \n                                                    title_and_10_sentences                   0.503311   \n                                                    title_and_5_sentences                    0.468966   \n                                                    title_and_first_paragraph                0.470588   \n                                                    title_and_first_sentence_each_paragraph  0.534247   \n\n                                                                                             precision_micro  \\\nlanguage model_name                                 unit_of_analysis                                           \nen       AshtonIsNotHere-xlm-roberta-long-base-4096 raw_text                                        0.737288   \n                                                    title                                           0.706422   \n                                                    title_and_10_sentences                          0.737430   \n                                                    title_and_5_sentences                           0.787302   \n                                                    title_and_first_paragraph                       0.752976   \n                                                    title_and_first_sentence_each_paragraph         0.778107   \nfr       AshtonIsNotHere-xlm-roberta-long-base-4096 raw_text                                        0.560345   \n                                                    title                                           0.500000   \n                                                    title_and_10_sentences                          0.541284   \n                                                    title_and_5_sentences                           0.577778   \n                                                    title_and_first_paragraph                       0.549451   \n                                                    title_and_first_sentence_each_paragraph         0.588235   \nge       AshtonIsNotHere-xlm-roberta-long-base-4096 raw_text                                        0.687117   \n                                                    title                                           0.629630   \n                                                    title_and_10_sentences                          0.703704   \n                                                    title_and_5_sentences                           0.696296   \n                                                    title_and_first_paragraph                       0.716667   \n                                                    title_and_first_sentence_each_paragraph         0.778761   \nit       AshtonIsNotHere-xlm-roberta-long-base-4096 raw_text                                        0.757225   \n                                                    title                                           0.658385   \n                                                    title_and_10_sentences                          0.732026   \n                                                    title_and_5_sentences                           0.675159   \n                                                    title_and_first_paragraph                       0.679245   \n                                                    title_and_first_sentence_each_paragraph         0.684932   \npo       AshtonIsNotHere-xlm-roberta-long-base-4096 raw_text                                        0.821656   \n                                                    title                                           0.635762   \n                                                    title_and_10_sentences                          0.773050   \n                                                    title_and_5_sentences                           0.662651   \n                                                    title_and_first_paragraph                       0.668712   \n                                                    title_and_first_sentence_each_paragraph         0.760563   \nru       AshtonIsNotHere-xlm-roberta-long-base-4096 raw_text                                        0.569444   \n                                                    title                                           0.491228   \n                                                    title_and_10_sentences                          0.584615   \n                                                    title_and_5_sentences                           0.576271   \n                                                    title_and_first_paragraph                       0.537313   \n                                                    title_and_first_sentence_each_paragraph         0.650000   \n\n                                                                                             recall_micro  \\\nlanguage model_name                                 unit_of_analysis                                        \nen       AshtonIsNotHere-xlm-roberta-long-base-4096 raw_text                                     0.638142   \n                                                    title                                        0.564792   \n                                                    title_and_10_sentences                       0.645477   \n                                                    title_and_5_sentences                        0.606357   \n                                                    title_and_first_paragraph                    0.618582   \n                                                    title_and_first_sentence_each_paragraph      0.643032   \nfr       AshtonIsNotHere-xlm-roberta-long-base-4096 raw_text                                     0.515873   \n                                                    title                                        0.357143   \n                                                    title_and_10_sentences                       0.468254   \n                                                    title_and_5_sentences                        0.412698   \n                                                    title_and_first_paragraph                    0.396825   \n                                                    title_and_first_sentence_each_paragraph      0.476190   \nge       AshtonIsNotHere-xlm-roberta-long-base-4096 raw_text                                     0.651163   \n                                                    title                                        0.494186   \n                                                    title_and_10_sentences                       0.552326   \n                                                    title_and_5_sentences                        0.546512   \n                                                    title_and_first_paragraph                    0.500000   \n                                                    title_and_first_sentence_each_paragraph      0.511628   \nit       AshtonIsNotHere-xlm-roberta-long-base-4096 raw_text                                     0.569565   \n                                                    title                                        0.460870   \n                                                    title_and_10_sentences                       0.486957   \n                                                    title_and_5_sentences                        0.460870   \n                                                    title_and_first_paragraph                    0.469565   \n                                                    title_and_first_sentence_each_paragraph      0.434783   \npo       AshtonIsNotHere-xlm-roberta-long-base-4096 raw_text                                     0.626214   \n                                                    title                                        0.466019   \n                                                    title_and_10_sentences                       0.529126   \n                                                    title_and_5_sentences                        0.533981   \n                                                    title_and_first_paragraph                    0.529126   \n                                                    title_and_first_sentence_each_paragraph      0.524272   \nru       AshtonIsNotHere-xlm-roberta-long-base-4096 raw_text                                     0.476744   \n                                                    title                                        0.325581   \n                                                    title_and_10_sentences                       0.441860   \n                                                    title_and_5_sentences                        0.395349   \n                                                    title_and_first_paragraph                    0.418605   \n                                                    title_and_first_sentence_each_paragraph      0.453488   \n\n                                                                                             f1_macro  \\\nlanguage model_name                                 unit_of_analysis                                    \nen       AshtonIsNotHere-xlm-roberta-long-base-4096 raw_text                                 0.522957   \n                                                    title                                    0.462368   \n                                                    title_and_10_sentences                   0.521331   \n                                                    title_and_5_sentences                    0.517980   \n                                                    title_and_first_paragraph                0.481295   \n                                                    title_and_first_sentence_each_paragraph  0.583106   \nfr       AshtonIsNotHere-xlm-roberta-long-base-4096 raw_text                                 0.444194   \n                                                    title                                    0.226350   \n                                                    title_and_10_sentences                   0.400744   \n                                                    title_and_5_sentences                    0.387088   \n                                                    title_and_first_paragraph                0.346210   \n                                                    title_and_first_sentence_each_paragraph  0.385613   \nge       AshtonIsNotHere-xlm-roberta-long-base-4096 raw_text                                 0.549938   \n                                                    title                                    0.396843   \n                                                    title_and_10_sentences                   0.496676   \n                                                    title_and_5_sentences                    0.443717   \n                                                    title_and_first_paragraph                0.445427   \n                                                    title_and_first_sentence_each_paragraph  0.469848   \nit       AshtonIsNotHere-xlm-roberta-long-base-4096 raw_text                                 0.542426   \n                                                    title                                    0.403677   \n                                                    title_and_10_sentences                   0.435127   \n                                                    title_and_5_sentences                    0.408372   \n                                                    title_and_first_paragraph                0.402842   \n                                                    title_and_first_sentence_each_paragraph  0.416771   \npo       AshtonIsNotHere-xlm-roberta-long-base-4096 raw_text                                 0.626236   \n                                                    title                                    0.476741   \n                                                    title_and_10_sentences                   0.571449   \n                                                    title_and_5_sentences                    0.513638   \n                                                    title_and_first_paragraph                0.516015   \n                                                    title_and_first_sentence_each_paragraph  0.534820   \nru       AshtonIsNotHere-xlm-roberta-long-base-4096 raw_text                                 0.375217   \n                                                    title                                    0.267766   \n                                                    title_and_10_sentences                   0.346564   \n                                                    title_and_5_sentences                    0.344280   \n                                                    title_and_first_paragraph                0.357011   \n                                                    title_and_first_sentence_each_paragraph  0.393270   \n\n                                                                                             precision_macro  \\\nlanguage model_name                                 unit_of_analysis                                           \nen       AshtonIsNotHere-xlm-roberta-long-base-4096 raw_text                                        0.574319   \n                                                    title                                           0.571385   \n                                                    title_and_10_sentences                          0.605306   \n                                                    title_and_5_sentences                           0.631508   \n                                                    title_and_first_paragraph                       0.608876   \n                                                    title_and_first_sentence_each_paragraph         0.715612   \nfr       AshtonIsNotHere-xlm-roberta-long-base-4096 raw_text                                        0.562330   \n                                                    title                                           0.268776   \n                                                    title_and_10_sentences                          0.541047   \n                                                    title_and_5_sentences                           0.539113   \n                                                    title_and_first_paragraph                       0.415675   \n                                                    title_and_first_sentence_each_paragraph         0.489650   \nge       AshtonIsNotHere-xlm-roberta-long-base-4096 raw_text                                        0.591511   \n                                                    title                                           0.452538   \n                                                    title_and_10_sentences                          0.580130   \n                                                    title_and_5_sentences                           0.528022   \n                                                    title_and_first_paragraph                       0.557703   \n                                                    title_and_first_sentence_each_paragraph         0.650536   \nit       AshtonIsNotHere-xlm-roberta-long-base-4096 raw_text                                        0.667772   \n                                                    title                                           0.509031   \n                                                    title_and_10_sentences                          0.531941   \n                                                    title_and_5_sentences                           0.487099   \n                                                    title_and_first_paragraph                       0.487749   \n                                                    title_and_first_sentence_each_paragraph         0.539260   \npo       AshtonIsNotHere-xlm-roberta-long-base-4096 raw_text                                        0.777173   \n                                                    title                                           0.613442   \n                                                    title_and_10_sentences                          0.749420   \n                                                    title_and_5_sentences                           0.590454   \n                                                    title_and_first_paragraph                       0.606956   \n                                                    title_and_first_sentence_each_paragraph         0.744406   \nru       AshtonIsNotHere-xlm-roberta-long-base-4096 raw_text                                        0.402041   \n                                                    title                                           0.292687   \n                                                    title_and_10_sentences                          0.363776   \n                                                    title_and_5_sentences                           0.400043   \n                                                    title_and_first_paragraph                       0.399016   \n                                                    title_and_first_sentence_each_paragraph         0.491071   \n\n                                                                                             recall_macro  \\\nlanguage model_name                                 unit_of_analysis                                        \nen       AshtonIsNotHere-xlm-roberta-long-base-4096 raw_text                                     0.493717   \n                                                    title                                        0.414542   \n                                                    title_and_10_sentences                       0.478738   \n                                                    title_and_5_sentences                        0.456047   \n                                                    title_and_first_paragraph                    0.430143   \n                                                    title_and_first_sentence_each_paragraph      0.528120   \nfr       AshtonIsNotHere-xlm-roberta-long-base-4096 raw_text                                     0.420883   \n                                                    title                                        0.228918   \n                                                    title_and_10_sentences                       0.377638   \n                                                    title_and_5_sentences                        0.342154   \n                                                    title_and_first_paragraph                    0.329378   \n                                                    title_and_first_sentence_each_paragraph      0.376444   \nge       AshtonIsNotHere-xlm-roberta-long-base-4096 raw_text                                     0.556938   \n                                                    title                                        0.391221   \n                                                    title_and_10_sentences                       0.460665   \n                                                    title_and_5_sentences                        0.424920   \n                                                    title_and_first_paragraph                    0.399246   \n                                                    title_and_first_sentence_each_paragraph      0.409823   \nit       AshtonIsNotHere-xlm-roberta-long-base-4096 raw_text                                     0.483687   \n                                                    title                                        0.359866   \n                                                    title_and_10_sentences                       0.393782   \n                                                    title_and_5_sentences                        0.364423   \n                                                    title_and_first_paragraph                    0.371533   \n                                                    title_and_first_sentence_each_paragraph      0.358878   \npo       AshtonIsNotHere-xlm-roberta-long-base-4096 raw_text                                     0.548868   \n                                                    title                                        0.420924   \n                                                    title_and_10_sentences                       0.508821   \n                                                    title_and_5_sentences                        0.489549   \n                                                    title_and_first_paragraph                    0.483294   \n                                                    title_and_first_sentence_each_paragraph      0.462951   \nru       AshtonIsNotHere-xlm-roberta-long-base-4096 raw_text                                     0.360034   \n                                                    title                                        0.264711   \n                                                    title_and_10_sentences                       0.350170   \n                                                    title_and_5_sentences                        0.323384   \n                                                    title_and_first_paragraph                    0.335969   \n                                                    title_and_first_sentence_each_paragraph      0.366582   \n\n                                                                                             accuracy  \nlanguage model_name                                 unit_of_analysis                                   \nen       AshtonIsNotHere-xlm-roberta-long-base-4096 raw_text                                 0.097087  \n                                                    title                                    0.067961  \n                                                    title_and_10_sentences                   0.097087  \n                                                    title_and_5_sentences                    0.116505  \n                                                    title_and_first_paragraph                0.097087  \n                                                    title_and_first_sentence_each_paragraph  0.126214  \nfr       AshtonIsNotHere-xlm-roberta-long-base-4096 raw_text                                 0.071429  \n                                                    title                                    0.071429  \n                                                    title_and_10_sentences                   0.023810  \n                                                    title_and_5_sentences                    0.095238  \n                                                    title_and_first_paragraph                0.095238  \n                                                    title_and_first_sentence_each_paragraph  0.119048  \nge       AshtonIsNotHere-xlm-roberta-long-base-4096 raw_text                                 0.028571  \n                                                    title                                    0.000000  \n                                                    title_and_10_sentences                   0.000000  \n                                                    title_and_5_sentences                    0.000000  \n                                                    title_and_first_paragraph                0.028571  \n                                                    title_and_first_sentence_each_paragraph  0.000000  \nit       AshtonIsNotHere-xlm-roberta-long-base-4096 raw_text                                 0.166667  \n                                                    title                                    0.083333  \n                                                    title_and_10_sentences                   0.133333  \n                                                    title_and_5_sentences                    0.133333  \n                                                    title_and_first_paragraph                0.116667  \n                                                    title_and_first_sentence_each_paragraph  0.116667  \npo       AshtonIsNotHere-xlm-roberta-long-base-4096 raw_text                                 0.051282  \n                                                    title                                    0.025641  \n                                                    title_and_10_sentences                   0.051282  \n                                                    title_and_5_sentences                    0.025641  \n                                                    title_and_first_paragraph                0.025641  \n                                                    title_and_first_sentence_each_paragraph  0.025641  \nru       AshtonIsNotHere-xlm-roberta-long-base-4096 raw_text                                 0.184211  \n                                                    title                                    0.078947  \n                                                    title_and_10_sentences                   0.210526  \n                                                    title_and_5_sentences                    0.157895  \n                                                    title_and_first_paragraph                0.210526  \n                                                    title_and_first_sentence_each_paragraph  0.236842  ",
      "text/html": "<div>\n<style scoped>\n    .dataframe tbody tr th:only-of-type {\n        vertical-align: middle;\n    }\n\n    .dataframe tbody tr th {\n        vertical-align: top;\n    }\n\n    .dataframe thead th {\n        text-align: right;\n    }\n</style>\n<table border=\"1\" class=\"dataframe\">\n  <thead>\n    <tr style=\"text-align: right;\">\n      <th></th>\n      <th></th>\n      <th></th>\n      <th>f1_micro</th>\n      <th>precision_micro</th>\n      <th>recall_micro</th>\n      <th>f1_macro</th>\n      <th>precision_macro</th>\n      <th>recall_macro</th>\n      <th>accuracy</th>\n    </tr>\n    <tr>\n      <th>language</th>\n      <th>model_name</th>\n      <th>unit_of_analysis</th>\n      <th></th>\n      <th></th>\n      <th></th>\n      <th></th>\n      <th></th>\n      <th></th>\n      <th></th>\n    </tr>\n  </thead>\n  <tbody>\n    <tr>\n      <th rowspan=\"6\" valign=\"top\">en</th>\n      <th rowspan=\"6\" valign=\"top\">AshtonIsNotHere-xlm-roberta-long-base-4096</th>\n      <th>raw_text</th>\n      <td>0.684142</td>\n      <td>0.737288</td>\n      <td>0.638142</td>\n      <td>0.522957</td>\n      <td>0.574319</td>\n      <td>0.493717</td>\n      <td>0.097087</td>\n    </tr>\n    <tr>\n      <th>title</th>\n      <td>0.627717</td>\n      <td>0.706422</td>\n      <td>0.564792</td>\n      <td>0.462368</td>\n      <td>0.571385</td>\n      <td>0.414542</td>\n      <td>0.067961</td>\n    </tr>\n    <tr>\n      <th>title_and_10_sentences</th>\n      <td>0.688396</td>\n      <td>0.737430</td>\n      <td>0.645477</td>\n      <td>0.521331</td>\n      <td>0.605306</td>\n      <td>0.478738</td>\n      <td>0.097087</td>\n    </tr>\n    <tr>\n      <th>title_and_5_sentences</th>\n      <td>0.685083</td>\n      <td>0.787302</td>\n      <td>0.606357</td>\n      <td>0.517980</td>\n      <td>0.631508</td>\n      <td>0.456047</td>\n      <td>0.116505</td>\n    </tr>\n    <tr>\n      <th>title_and_first_paragraph</th>\n      <td>0.679195</td>\n      <td>0.752976</td>\n      <td>0.618582</td>\n      <td>0.481295</td>\n      <td>0.608876</td>\n      <td>0.430143</td>\n      <td>0.097087</td>\n    </tr>\n    <tr>\n      <th>title_and_first_sentence_each_paragraph</th>\n      <td>0.704150</td>\n      <td>0.778107</td>\n      <td>0.643032</td>\n      <td>0.583106</td>\n      <td>0.715612</td>\n      <td>0.528120</td>\n      <td>0.126214</td>\n    </tr>\n    <tr>\n      <th rowspan=\"6\" valign=\"top\">fr</th>\n      <th rowspan=\"6\" valign=\"top\">AshtonIsNotHere-xlm-roberta-long-base-4096</th>\n      <th>raw_text</th>\n      <td>0.537190</td>\n      <td>0.560345</td>\n      <td>0.515873</td>\n      <td>0.444194</td>\n      <td>0.562330</td>\n      <td>0.420883</td>\n      <td>0.071429</td>\n    </tr>\n    <tr>\n      <th>title</th>\n      <td>0.416667</td>\n      <td>0.500000</td>\n      <td>0.357143</td>\n      <td>0.226350</td>\n      <td>0.268776</td>\n      <td>0.228918</td>\n      <td>0.071429</td>\n    </tr>\n    <tr>\n      <th>title_and_10_sentences</th>\n      <td>0.502128</td>\n      <td>0.541284</td>\n      <td>0.468254</td>\n      <td>0.400744</td>\n      <td>0.541047</td>\n      <td>0.377638</td>\n      <td>0.023810</td>\n    </tr>\n    <tr>\n      <th>title_and_5_sentences</th>\n      <td>0.481481</td>\n      <td>0.577778</td>\n      <td>0.412698</td>\n      <td>0.387088</td>\n      <td>0.539113</td>\n      <td>0.342154</td>\n      <td>0.095238</td>\n    </tr>\n    <tr>\n      <th>title_and_first_paragraph</th>\n      <td>0.460829</td>\n      <td>0.549451</td>\n      <td>0.396825</td>\n      <td>0.346210</td>\n      <td>0.415675</td>\n      <td>0.329378</td>\n      <td>0.095238</td>\n    </tr>\n    <tr>\n      <th>title_and_first_sentence_each_paragraph</th>\n      <td>0.526316</td>\n      <td>0.588235</td>\n      <td>0.476190</td>\n      <td>0.385613</td>\n      <td>0.489650</td>\n      <td>0.376444</td>\n      <td>0.119048</td>\n    </tr>\n    <tr>\n      <th rowspan=\"6\" valign=\"top\">ge</th>\n      <th rowspan=\"6\" valign=\"top\">AshtonIsNotHere-xlm-roberta-long-base-4096</th>\n      <th>raw_text</th>\n      <td>0.668657</td>\n      <td>0.687117</td>\n      <td>0.651163</td>\n      <td>0.549938</td>\n      <td>0.591511</td>\n      <td>0.556938</td>\n      <td>0.028571</td>\n    </tr>\n    <tr>\n      <th>title</th>\n      <td>0.553746</td>\n      <td>0.629630</td>\n      <td>0.494186</td>\n      <td>0.396843</td>\n      <td>0.452538</td>\n      <td>0.391221</td>\n      <td>0.000000</td>\n    </tr>\n    <tr>\n      <th>title_and_10_sentences</th>\n      <td>0.618893</td>\n      <td>0.703704</td>\n      <td>0.552326</td>\n      <td>0.496676</td>\n      <td>0.580130</td>\n      <td>0.460665</td>\n      <td>0.000000</td>\n    </tr>\n    <tr>\n      <th>title_and_5_sentences</th>\n      <td>0.612378</td>\n      <td>0.696296</td>\n      <td>0.546512</td>\n      <td>0.443717</td>\n      <td>0.528022</td>\n      <td>0.424920</td>\n      <td>0.000000</td>\n    </tr>\n    <tr>\n      <th>title_and_first_paragraph</th>\n      <td>0.589041</td>\n      <td>0.716667</td>\n      <td>0.500000</td>\n      <td>0.445427</td>\n      <td>0.557703</td>\n      <td>0.399246</td>\n      <td>0.028571</td>\n    </tr>\n    <tr>\n      <th>title_and_first_sentence_each_paragraph</th>\n      <td>0.617544</td>\n      <td>0.778761</td>\n      <td>0.511628</td>\n      <td>0.469848</td>\n      <td>0.650536</td>\n      <td>0.409823</td>\n      <td>0.000000</td>\n    </tr>\n    <tr>\n      <th rowspan=\"6\" valign=\"top\">it</th>\n      <th rowspan=\"6\" valign=\"top\">AshtonIsNotHere-xlm-roberta-long-base-4096</th>\n      <th>raw_text</th>\n      <td>0.650124</td>\n      <td>0.757225</td>\n      <td>0.569565</td>\n      <td>0.542426</td>\n      <td>0.667772</td>\n      <td>0.483687</td>\n      <td>0.166667</td>\n    </tr>\n    <tr>\n      <th>title</th>\n      <td>0.542199</td>\n      <td>0.658385</td>\n      <td>0.460870</td>\n      <td>0.403677</td>\n      <td>0.509031</td>\n      <td>0.359866</td>\n      <td>0.083333</td>\n    </tr>\n    <tr>\n      <th>title_and_10_sentences</th>\n      <td>0.584856</td>\n      <td>0.732026</td>\n      <td>0.486957</td>\n      <td>0.435127</td>\n      <td>0.531941</td>\n      <td>0.393782</td>\n      <td>0.133333</td>\n    </tr>\n    <tr>\n      <th>title_and_5_sentences</th>\n      <td>0.547804</td>\n      <td>0.675159</td>\n      <td>0.460870</td>\n      <td>0.408372</td>\n      <td>0.487099</td>\n      <td>0.364423</td>\n      <td>0.133333</td>\n    </tr>\n    <tr>\n      <th>title_and_first_paragraph</th>\n      <td>0.555270</td>\n      <td>0.679245</td>\n      <td>0.469565</td>\n      <td>0.402842</td>\n      <td>0.487749</td>\n      <td>0.371533</td>\n      <td>0.116667</td>\n    </tr>\n    <tr>\n      <th>title_and_first_sentence_each_paragraph</th>\n      <td>0.531915</td>\n      <td>0.684932</td>\n      <td>0.434783</td>\n      <td>0.416771</td>\n      <td>0.539260</td>\n      <td>0.358878</td>\n      <td>0.116667</td>\n    </tr>\n    <tr>\n      <th rowspan=\"6\" valign=\"top\">po</th>\n      <th rowspan=\"6\" valign=\"top\">AshtonIsNotHere-xlm-roberta-long-base-4096</th>\n      <th>raw_text</th>\n      <td>0.710744</td>\n      <td>0.821656</td>\n      <td>0.626214</td>\n      <td>0.626236</td>\n      <td>0.777173</td>\n      <td>0.548868</td>\n      <td>0.051282</td>\n    </tr>\n    <tr>\n      <th>title</th>\n      <td>0.537815</td>\n      <td>0.635762</td>\n      <td>0.466019</td>\n      <td>0.476741</td>\n      <td>0.613442</td>\n      <td>0.420924</td>\n      <td>0.025641</td>\n    </tr>\n    <tr>\n      <th>title_and_10_sentences</th>\n      <td>0.628242</td>\n      <td>0.773050</td>\n      <td>0.529126</td>\n      <td>0.571449</td>\n      <td>0.749420</td>\n      <td>0.508821</td>\n      <td>0.051282</td>\n    </tr>\n    <tr>\n      <th>title_and_5_sentences</th>\n      <td>0.591398</td>\n      <td>0.662651</td>\n      <td>0.533981</td>\n      <td>0.513638</td>\n      <td>0.590454</td>\n      <td>0.489549</td>\n      <td>0.025641</td>\n    </tr>\n    <tr>\n      <th>title_and_first_paragraph</th>\n      <td>0.590786</td>\n      <td>0.668712</td>\n      <td>0.529126</td>\n      <td>0.516015</td>\n      <td>0.606956</td>\n      <td>0.483294</td>\n      <td>0.025641</td>\n    </tr>\n    <tr>\n      <th>title_and_first_sentence_each_paragraph</th>\n      <td>0.620690</td>\n      <td>0.760563</td>\n      <td>0.524272</td>\n      <td>0.534820</td>\n      <td>0.744406</td>\n      <td>0.462951</td>\n      <td>0.025641</td>\n    </tr>\n    <tr>\n      <th rowspan=\"6\" valign=\"top\">ru</th>\n      <th rowspan=\"6\" valign=\"top\">AshtonIsNotHere-xlm-roberta-long-base-4096</th>\n      <th>raw_text</th>\n      <td>0.518987</td>\n      <td>0.569444</td>\n      <td>0.476744</td>\n      <td>0.375217</td>\n      <td>0.402041</td>\n      <td>0.360034</td>\n      <td>0.184211</td>\n    </tr>\n    <tr>\n      <th>title</th>\n      <td>0.391608</td>\n      <td>0.491228</td>\n      <td>0.325581</td>\n      <td>0.267766</td>\n      <td>0.292687</td>\n      <td>0.264711</td>\n      <td>0.078947</td>\n    </tr>\n    <tr>\n      <th>title_and_10_sentences</th>\n      <td>0.503311</td>\n      <td>0.584615</td>\n      <td>0.441860</td>\n      <td>0.346564</td>\n      <td>0.363776</td>\n      <td>0.350170</td>\n      <td>0.210526</td>\n    </tr>\n    <tr>\n      <th>title_and_5_sentences</th>\n      <td>0.468966</td>\n      <td>0.576271</td>\n      <td>0.395349</td>\n      <td>0.344280</td>\n      <td>0.400043</td>\n      <td>0.323384</td>\n      <td>0.157895</td>\n    </tr>\n    <tr>\n      <th>title_and_first_paragraph</th>\n      <td>0.470588</td>\n      <td>0.537313</td>\n      <td>0.418605</td>\n      <td>0.357011</td>\n      <td>0.399016</td>\n      <td>0.335969</td>\n      <td>0.210526</td>\n    </tr>\n    <tr>\n      <th>title_and_first_sentence_each_paragraph</th>\n      <td>0.534247</td>\n      <td>0.650000</td>\n      <td>0.453488</td>\n      <td>0.393270</td>\n      <td>0.491071</td>\n      <td>0.366582</td>\n      <td>0.236842</td>\n    </tr>\n  </tbody>\n</table>\n</div>"
     },
     "execution_count": 4,
     "metadata": {},
     "output_type": "execute_result"
    }
   ],
   "source": [
    "dfs_list = []\n",
    "for results_filepath in results_filepaths:\n",
    "    model_name = results_filepath.split('/')[-2]\n",
    "    results_df_i = pd.read_csv(results_filepath)\n",
    "    results_df_i['model_name'] = model_name\n",
    "    dfs_list.append(results_df_i)\n",
    "\n",
    "results_df = pd.concat(dfs_list).set_index(['language', 'model_name', 'unit_of_analysis']).sort_index()\n",
    "results_df"
   ],
   "metadata": {
    "collapsed": false
   }
  },
  {
   "cell_type": "code",
   "execution_count": 5,
   "outputs": [],
   "source": [
    "results_df.to_csv('performance_of_models.csv')"
   ],
   "metadata": {
    "collapsed": false
   }
  },
  {
   "cell_type": "markdown",
   "id": "6a452c68-3d2e-43a1-b820-a7688df2cd33",
   "metadata": {
    "tags": []
   },
   "source": [
    "### Generate the tables to report"
   ]
  },
  {
   "cell_type": "code",
   "execution_count": 6,
   "id": "9c97b164-c359-40ea-b974-a0dc65c1db60",
   "metadata": {},
   "outputs": [],
   "source": [
    "def display_performance_table(df, metric, index_cols=['model_name'], display_=True):\n",
    "    report_table = df.reset_index().copy()\n",
    "    report_table['result'] = report_table[f'{metric}'].map(lambda x: f'{x:.3f}')\n",
    "    report_table['col_title'] = report_table.unit_of_analysis.str.split('_').str.join(' ') \n",
    "    report_table['col_title'] = pd.Categorical(\n",
    "        report_table.col_title,\n",
    "        categories=['title', 'title and first paragraph', 'title and 5 sentences', 'title and 10 sentences',\n",
    "                    'title and first sentence each paragraph', 'raw text'],\n",
    "        ordered=True)\n",
    "    report_table = report_table[index_cols + ['col_title', 'result']]\\\n",
    "        .pivot_table(index=index_cols, columns=['col_title'], values=['result'], aggfunc='first', fill_value=0)\\\n",
    "        .droplevel(0, axis=1)\n",
    "\n",
    "    report_table.columns.names = [None]\n",
    "\n",
    "    # Highlight best scoring models according to their average\n",
    "    mean_perf_arr = report_table.applymap(lambda x: float(str(x).split(' ')[0])).to_numpy()\n",
    "    highlight_mask = mean_perf_arr == mean_perf_arr.max()\n",
    "    report_table_arr = report_table.to_numpy()  # Note it passes the array by reference\n",
    "    report_table_arr[highlight_mask] = '**' + report_table_arr[highlight_mask] + '**'\n",
    "\n",
    "    if display_:\n",
    "        display(Markdown(report_table.to_markdown()))\n",
    "    \n",
    "    return report_table"
   ]
  },
  {
   "cell_type": "code",
   "execution_count": 7,
   "outputs": [
    {
     "data": {
      "text/plain": "<IPython.core.display.Markdown object>",
      "text/markdown": "| model_name                                 |   title |   title and first paragraph |   title and 5 sentences |   title and 10 sentences | title and first sentence each paragraph   |   raw text |\n|:-------------------------------------------|--------:|----------------------------:|------------------------:|-------------------------:|:------------------------------------------|-----------:|\n| AshtonIsNotHere-xlm-roberta-long-base-4096 |   0.628 |                       0.679 |                   0.685 |                    0.688 | **0.704**                                 |      0.684 |"
     },
     "metadata": {},
     "output_type": "display_data"
    },
    {
     "data": {
      "text/plain": "                                            title title and first paragraph  \\\nmodel_name                                                                    \nAshtonIsNotHere-xlm-roberta-long-base-4096  0.628                     0.679   \n\n                                           title and 5 sentences  \\\nmodel_name                                                         \nAshtonIsNotHere-xlm-roberta-long-base-4096                 0.685   \n\n                                           title and 10 sentences  \\\nmodel_name                                                          \nAshtonIsNotHere-xlm-roberta-long-base-4096                  0.688   \n\n                                           title and first sentence each paragraph  \\\nmodel_name                                                                           \nAshtonIsNotHere-xlm-roberta-long-base-4096                               **0.704**   \n\n                                           raw text  \nmodel_name                                           \nAshtonIsNotHere-xlm-roberta-long-base-4096    0.684  ",
      "text/html": "<div>\n<style scoped>\n    .dataframe tbody tr th:only-of-type {\n        vertical-align: middle;\n    }\n\n    .dataframe tbody tr th {\n        vertical-align: top;\n    }\n\n    .dataframe thead th {\n        text-align: right;\n    }\n</style>\n<table border=\"1\" class=\"dataframe\">\n  <thead>\n    <tr style=\"text-align: right;\">\n      <th></th>\n      <th>title</th>\n      <th>title and first paragraph</th>\n      <th>title and 5 sentences</th>\n      <th>title and 10 sentences</th>\n      <th>title and first sentence each paragraph</th>\n      <th>raw text</th>\n    </tr>\n    <tr>\n      <th>model_name</th>\n      <th></th>\n      <th></th>\n      <th></th>\n      <th></th>\n      <th></th>\n      <th></th>\n    </tr>\n  </thead>\n  <tbody>\n    <tr>\n      <th>AshtonIsNotHere-xlm-roberta-long-base-4096</th>\n      <td>0.628</td>\n      <td>0.679</td>\n      <td>0.685</td>\n      <td>0.688</td>\n      <td>**0.704**</td>\n      <td>0.684</td>\n    </tr>\n  </tbody>\n</table>\n</div>"
     },
     "execution_count": 7,
     "metadata": {},
     "output_type": "execute_result"
    }
   ],
   "source": [
    "display_performance_table(df=results_df.loc['en'], metric='f1_micro', index_cols=['model_name'], display_=True)"
   ],
   "metadata": {
    "collapsed": false
   }
  },
  {
   "cell_type": "markdown",
   "id": "6f14e8da-1acf-4114-9cfd-eeaa97261f68",
   "metadata": {},
   "source": [
    "### Generate tables for all languages"
   ]
  },
  {
   "cell_type": "code",
   "execution_count": 8,
   "id": "bea51df3-87ed-4ace-ad56-25d235b5cd65",
   "metadata": {},
   "outputs": [],
   "source": [
    "metrics_to_report = ['f1_micro', 'recall_micro', 'precision_micro', 'accuracy']"
   ]
  },
  {
   "cell_type": "code",
   "execution_count": 9,
   "id": "1650fa17-5ccc-439a-9818-d61bf369ca1a",
   "metadata": {},
   "outputs": [],
   "source": [
    "language_dict = {'en': 'English', 'it': 'Italian', 'fr': 'French', 'po': 'Polish', 'ru': 'Russian', 'ge': 'German'}"
   ]
  },
  {
   "cell_type": "code",
   "execution_count": 10,
   "outputs": [
    {
     "data": {
      "text/plain": "                                                                                             f1_micro  \\\nlanguage model_name                                 unit_of_analysis                                    \nen       AshtonIsNotHere-xlm-roberta-long-base-4096 raw_text                                 0.684142   \n                                                    title                                    0.627717   \n                                                    title_and_10_sentences                   0.688396   \n                                                    title_and_5_sentences                    0.685083   \n                                                    title_and_first_paragraph                0.679195   \n                                                    title_and_first_sentence_each_paragraph  0.704150   \nfr       AshtonIsNotHere-xlm-roberta-long-base-4096 raw_text                                 0.537190   \n                                                    title                                    0.416667   \n                                                    title_and_10_sentences                   0.502128   \n                                                    title_and_5_sentences                    0.481481   \n                                                    title_and_first_paragraph                0.460829   \n                                                    title_and_first_sentence_each_paragraph  0.526316   \nge       AshtonIsNotHere-xlm-roberta-long-base-4096 raw_text                                 0.668657   \n                                                    title                                    0.553746   \n                                                    title_and_10_sentences                   0.618893   \n                                                    title_and_5_sentences                    0.612378   \n                                                    title_and_first_paragraph                0.589041   \n                                                    title_and_first_sentence_each_paragraph  0.617544   \nit       AshtonIsNotHere-xlm-roberta-long-base-4096 raw_text                                 0.650124   \n                                                    title                                    0.542199   \n                                                    title_and_10_sentences                   0.584856   \n                                                    title_and_5_sentences                    0.547804   \n                                                    title_and_first_paragraph                0.555270   \n                                                    title_and_first_sentence_each_paragraph  0.531915   \npo       AshtonIsNotHere-xlm-roberta-long-base-4096 raw_text                                 0.710744   \n                                                    title                                    0.537815   \n                                                    title_and_10_sentences                   0.628242   \n                                                    title_and_5_sentences                    0.591398   \n                                                    title_and_first_paragraph                0.590786   \n                                                    title_and_first_sentence_each_paragraph  0.620690   \nru       AshtonIsNotHere-xlm-roberta-long-base-4096 raw_text                                 0.518987   \n                                                    title                                    0.391608   \n                                                    title_and_10_sentences                   0.503311   \n                                                    title_and_5_sentences                    0.468966   \n                                                    title_and_first_paragraph                0.470588   \n                                                    title_and_first_sentence_each_paragraph  0.534247   \n\n                                                                                             precision_micro  \\\nlanguage model_name                                 unit_of_analysis                                           \nen       AshtonIsNotHere-xlm-roberta-long-base-4096 raw_text                                        0.737288   \n                                                    title                                           0.706422   \n                                                    title_and_10_sentences                          0.737430   \n                                                    title_and_5_sentences                           0.787302   \n                                                    title_and_first_paragraph                       0.752976   \n                                                    title_and_first_sentence_each_paragraph         0.778107   \nfr       AshtonIsNotHere-xlm-roberta-long-base-4096 raw_text                                        0.560345   \n                                                    title                                           0.500000   \n                                                    title_and_10_sentences                          0.541284   \n                                                    title_and_5_sentences                           0.577778   \n                                                    title_and_first_paragraph                       0.549451   \n                                                    title_and_first_sentence_each_paragraph         0.588235   \nge       AshtonIsNotHere-xlm-roberta-long-base-4096 raw_text                                        0.687117   \n                                                    title                                           0.629630   \n                                                    title_and_10_sentences                          0.703704   \n                                                    title_and_5_sentences                           0.696296   \n                                                    title_and_first_paragraph                       0.716667   \n                                                    title_and_first_sentence_each_paragraph         0.778761   \nit       AshtonIsNotHere-xlm-roberta-long-base-4096 raw_text                                        0.757225   \n                                                    title                                           0.658385   \n                                                    title_and_10_sentences                          0.732026   \n                                                    title_and_5_sentences                           0.675159   \n                                                    title_and_first_paragraph                       0.679245   \n                                                    title_and_first_sentence_each_paragraph         0.684932   \npo       AshtonIsNotHere-xlm-roberta-long-base-4096 raw_text                                        0.821656   \n                                                    title                                           0.635762   \n                                                    title_and_10_sentences                          0.773050   \n                                                    title_and_5_sentences                           0.662651   \n                                                    title_and_first_paragraph                       0.668712   \n                                                    title_and_first_sentence_each_paragraph         0.760563   \nru       AshtonIsNotHere-xlm-roberta-long-base-4096 raw_text                                        0.569444   \n                                                    title                                           0.491228   \n                                                    title_and_10_sentences                          0.584615   \n                                                    title_and_5_sentences                           0.576271   \n                                                    title_and_first_paragraph                       0.537313   \n                                                    title_and_first_sentence_each_paragraph         0.650000   \n\n                                                                                             recall_micro  \\\nlanguage model_name                                 unit_of_analysis                                        \nen       AshtonIsNotHere-xlm-roberta-long-base-4096 raw_text                                     0.638142   \n                                                    title                                        0.564792   \n                                                    title_and_10_sentences                       0.645477   \n                                                    title_and_5_sentences                        0.606357   \n                                                    title_and_first_paragraph                    0.618582   \n                                                    title_and_first_sentence_each_paragraph      0.643032   \nfr       AshtonIsNotHere-xlm-roberta-long-base-4096 raw_text                                     0.515873   \n                                                    title                                        0.357143   \n                                                    title_and_10_sentences                       0.468254   \n                                                    title_and_5_sentences                        0.412698   \n                                                    title_and_first_paragraph                    0.396825   \n                                                    title_and_first_sentence_each_paragraph      0.476190   \nge       AshtonIsNotHere-xlm-roberta-long-base-4096 raw_text                                     0.651163   \n                                                    title                                        0.494186   \n                                                    title_and_10_sentences                       0.552326   \n                                                    title_and_5_sentences                        0.546512   \n                                                    title_and_first_paragraph                    0.500000   \n                                                    title_and_first_sentence_each_paragraph      0.511628   \nit       AshtonIsNotHere-xlm-roberta-long-base-4096 raw_text                                     0.569565   \n                                                    title                                        0.460870   \n                                                    title_and_10_sentences                       0.486957   \n                                                    title_and_5_sentences                        0.460870   \n                                                    title_and_first_paragraph                    0.469565   \n                                                    title_and_first_sentence_each_paragraph      0.434783   \npo       AshtonIsNotHere-xlm-roberta-long-base-4096 raw_text                                     0.626214   \n                                                    title                                        0.466019   \n                                                    title_and_10_sentences                       0.529126   \n                                                    title_and_5_sentences                        0.533981   \n                                                    title_and_first_paragraph                    0.529126   \n                                                    title_and_first_sentence_each_paragraph      0.524272   \nru       AshtonIsNotHere-xlm-roberta-long-base-4096 raw_text                                     0.476744   \n                                                    title                                        0.325581   \n                                                    title_and_10_sentences                       0.441860   \n                                                    title_and_5_sentences                        0.395349   \n                                                    title_and_first_paragraph                    0.418605   \n                                                    title_and_first_sentence_each_paragraph      0.453488   \n\n                                                                                             f1_macro  \\\nlanguage model_name                                 unit_of_analysis                                    \nen       AshtonIsNotHere-xlm-roberta-long-base-4096 raw_text                                 0.522957   \n                                                    title                                    0.462368   \n                                                    title_and_10_sentences                   0.521331   \n                                                    title_and_5_sentences                    0.517980   \n                                                    title_and_first_paragraph                0.481295   \n                                                    title_and_first_sentence_each_paragraph  0.583106   \nfr       AshtonIsNotHere-xlm-roberta-long-base-4096 raw_text                                 0.444194   \n                                                    title                                    0.226350   \n                                                    title_and_10_sentences                   0.400744   \n                                                    title_and_5_sentences                    0.387088   \n                                                    title_and_first_paragraph                0.346210   \n                                                    title_and_first_sentence_each_paragraph  0.385613   \nge       AshtonIsNotHere-xlm-roberta-long-base-4096 raw_text                                 0.549938   \n                                                    title                                    0.396843   \n                                                    title_and_10_sentences                   0.496676   \n                                                    title_and_5_sentences                    0.443717   \n                                                    title_and_first_paragraph                0.445427   \n                                                    title_and_first_sentence_each_paragraph  0.469848   \nit       AshtonIsNotHere-xlm-roberta-long-base-4096 raw_text                                 0.542426   \n                                                    title                                    0.403677   \n                                                    title_and_10_sentences                   0.435127   \n                                                    title_and_5_sentences                    0.408372   \n                                                    title_and_first_paragraph                0.402842   \n                                                    title_and_first_sentence_each_paragraph  0.416771   \npo       AshtonIsNotHere-xlm-roberta-long-base-4096 raw_text                                 0.626236   \n                                                    title                                    0.476741   \n                                                    title_and_10_sentences                   0.571449   \n                                                    title_and_5_sentences                    0.513638   \n                                                    title_and_first_paragraph                0.516015   \n                                                    title_and_first_sentence_each_paragraph  0.534820   \nru       AshtonIsNotHere-xlm-roberta-long-base-4096 raw_text                                 0.375217   \n                                                    title                                    0.267766   \n                                                    title_and_10_sentences                   0.346564   \n                                                    title_and_5_sentences                    0.344280   \n                                                    title_and_first_paragraph                0.357011   \n                                                    title_and_first_sentence_each_paragraph  0.393270   \n\n                                                                                             precision_macro  \\\nlanguage model_name                                 unit_of_analysis                                           \nen       AshtonIsNotHere-xlm-roberta-long-base-4096 raw_text                                        0.574319   \n                                                    title                                           0.571385   \n                                                    title_and_10_sentences                          0.605306   \n                                                    title_and_5_sentences                           0.631508   \n                                                    title_and_first_paragraph                       0.608876   \n                                                    title_and_first_sentence_each_paragraph         0.715612   \nfr       AshtonIsNotHere-xlm-roberta-long-base-4096 raw_text                                        0.562330   \n                                                    title                                           0.268776   \n                                                    title_and_10_sentences                          0.541047   \n                                                    title_and_5_sentences                           0.539113   \n                                                    title_and_first_paragraph                       0.415675   \n                                                    title_and_first_sentence_each_paragraph         0.489650   \nge       AshtonIsNotHere-xlm-roberta-long-base-4096 raw_text                                        0.591511   \n                                                    title                                           0.452538   \n                                                    title_and_10_sentences                          0.580130   \n                                                    title_and_5_sentences                           0.528022   \n                                                    title_and_first_paragraph                       0.557703   \n                                                    title_and_first_sentence_each_paragraph         0.650536   \nit       AshtonIsNotHere-xlm-roberta-long-base-4096 raw_text                                        0.667772   \n                                                    title                                           0.509031   \n                                                    title_and_10_sentences                          0.531941   \n                                                    title_and_5_sentences                           0.487099   \n                                                    title_and_first_paragraph                       0.487749   \n                                                    title_and_first_sentence_each_paragraph         0.539260   \npo       AshtonIsNotHere-xlm-roberta-long-base-4096 raw_text                                        0.777173   \n                                                    title                                           0.613442   \n                                                    title_and_10_sentences                          0.749420   \n                                                    title_and_5_sentences                           0.590454   \n                                                    title_and_first_paragraph                       0.606956   \n                                                    title_and_first_sentence_each_paragraph         0.744406   \nru       AshtonIsNotHere-xlm-roberta-long-base-4096 raw_text                                        0.402041   \n                                                    title                                           0.292687   \n                                                    title_and_10_sentences                          0.363776   \n                                                    title_and_5_sentences                           0.400043   \n                                                    title_and_first_paragraph                       0.399016   \n                                                    title_and_first_sentence_each_paragraph         0.491071   \n\n                                                                                             recall_macro  \\\nlanguage model_name                                 unit_of_analysis                                        \nen       AshtonIsNotHere-xlm-roberta-long-base-4096 raw_text                                     0.493717   \n                                                    title                                        0.414542   \n                                                    title_and_10_sentences                       0.478738   \n                                                    title_and_5_sentences                        0.456047   \n                                                    title_and_first_paragraph                    0.430143   \n                                                    title_and_first_sentence_each_paragraph      0.528120   \nfr       AshtonIsNotHere-xlm-roberta-long-base-4096 raw_text                                     0.420883   \n                                                    title                                        0.228918   \n                                                    title_and_10_sentences                       0.377638   \n                                                    title_and_5_sentences                        0.342154   \n                                                    title_and_first_paragraph                    0.329378   \n                                                    title_and_first_sentence_each_paragraph      0.376444   \nge       AshtonIsNotHere-xlm-roberta-long-base-4096 raw_text                                     0.556938   \n                                                    title                                        0.391221   \n                                                    title_and_10_sentences                       0.460665   \n                                                    title_and_5_sentences                        0.424920   \n                                                    title_and_first_paragraph                    0.399246   \n                                                    title_and_first_sentence_each_paragraph      0.409823   \nit       AshtonIsNotHere-xlm-roberta-long-base-4096 raw_text                                     0.483687   \n                                                    title                                        0.359866   \n                                                    title_and_10_sentences                       0.393782   \n                                                    title_and_5_sentences                        0.364423   \n                                                    title_and_first_paragraph                    0.371533   \n                                                    title_and_first_sentence_each_paragraph      0.358878   \npo       AshtonIsNotHere-xlm-roberta-long-base-4096 raw_text                                     0.548868   \n                                                    title                                        0.420924   \n                                                    title_and_10_sentences                       0.508821   \n                                                    title_and_5_sentences                        0.489549   \n                                                    title_and_first_paragraph                    0.483294   \n                                                    title_and_first_sentence_each_paragraph      0.462951   \nru       AshtonIsNotHere-xlm-roberta-long-base-4096 raw_text                                     0.360034   \n                                                    title                                        0.264711   \n                                                    title_and_10_sentences                       0.350170   \n                                                    title_and_5_sentences                        0.323384   \n                                                    title_and_first_paragraph                    0.335969   \n                                                    title_and_first_sentence_each_paragraph      0.366582   \n\n                                                                                             accuracy  \nlanguage model_name                                 unit_of_analysis                                   \nen       AshtonIsNotHere-xlm-roberta-long-base-4096 raw_text                                 0.097087  \n                                                    title                                    0.067961  \n                                                    title_and_10_sentences                   0.097087  \n                                                    title_and_5_sentences                    0.116505  \n                                                    title_and_first_paragraph                0.097087  \n                                                    title_and_first_sentence_each_paragraph  0.126214  \nfr       AshtonIsNotHere-xlm-roberta-long-base-4096 raw_text                                 0.071429  \n                                                    title                                    0.071429  \n                                                    title_and_10_sentences                   0.023810  \n                                                    title_and_5_sentences                    0.095238  \n                                                    title_and_first_paragraph                0.095238  \n                                                    title_and_first_sentence_each_paragraph  0.119048  \nge       AshtonIsNotHere-xlm-roberta-long-base-4096 raw_text                                 0.028571  \n                                                    title                                    0.000000  \n                                                    title_and_10_sentences                   0.000000  \n                                                    title_and_5_sentences                    0.000000  \n                                                    title_and_first_paragraph                0.028571  \n                                                    title_and_first_sentence_each_paragraph  0.000000  \nit       AshtonIsNotHere-xlm-roberta-long-base-4096 raw_text                                 0.166667  \n                                                    title                                    0.083333  \n                                                    title_and_10_sentences                   0.133333  \n                                                    title_and_5_sentences                    0.133333  \n                                                    title_and_first_paragraph                0.116667  \n                                                    title_and_first_sentence_each_paragraph  0.116667  \npo       AshtonIsNotHere-xlm-roberta-long-base-4096 raw_text                                 0.051282  \n                                                    title                                    0.025641  \n                                                    title_and_10_sentences                   0.051282  \n                                                    title_and_5_sentences                    0.025641  \n                                                    title_and_first_paragraph                0.025641  \n                                                    title_and_first_sentence_each_paragraph  0.025641  \nru       AshtonIsNotHere-xlm-roberta-long-base-4096 raw_text                                 0.184211  \n                                                    title                                    0.078947  \n                                                    title_and_10_sentences                   0.210526  \n                                                    title_and_5_sentences                    0.157895  \n                                                    title_and_first_paragraph                0.210526  \n                                                    title_and_first_sentence_each_paragraph  0.236842  ",
      "text/html": "<div>\n<style scoped>\n    .dataframe tbody tr th:only-of-type {\n        vertical-align: middle;\n    }\n\n    .dataframe tbody tr th {\n        vertical-align: top;\n    }\n\n    .dataframe thead th {\n        text-align: right;\n    }\n</style>\n<table border=\"1\" class=\"dataframe\">\n  <thead>\n    <tr style=\"text-align: right;\">\n      <th></th>\n      <th></th>\n      <th></th>\n      <th>f1_micro</th>\n      <th>precision_micro</th>\n      <th>recall_micro</th>\n      <th>f1_macro</th>\n      <th>precision_macro</th>\n      <th>recall_macro</th>\n      <th>accuracy</th>\n    </tr>\n    <tr>\n      <th>language</th>\n      <th>model_name</th>\n      <th>unit_of_analysis</th>\n      <th></th>\n      <th></th>\n      <th></th>\n      <th></th>\n      <th></th>\n      <th></th>\n      <th></th>\n    </tr>\n  </thead>\n  <tbody>\n    <tr>\n      <th rowspan=\"6\" valign=\"top\">en</th>\n      <th rowspan=\"6\" valign=\"top\">AshtonIsNotHere-xlm-roberta-long-base-4096</th>\n      <th>raw_text</th>\n      <td>0.684142</td>\n      <td>0.737288</td>\n      <td>0.638142</td>\n      <td>0.522957</td>\n      <td>0.574319</td>\n      <td>0.493717</td>\n      <td>0.097087</td>\n    </tr>\n    <tr>\n      <th>title</th>\n      <td>0.627717</td>\n      <td>0.706422</td>\n      <td>0.564792</td>\n      <td>0.462368</td>\n      <td>0.571385</td>\n      <td>0.414542</td>\n      <td>0.067961</td>\n    </tr>\n    <tr>\n      <th>title_and_10_sentences</th>\n      <td>0.688396</td>\n      <td>0.737430</td>\n      <td>0.645477</td>\n      <td>0.521331</td>\n      <td>0.605306</td>\n      <td>0.478738</td>\n      <td>0.097087</td>\n    </tr>\n    <tr>\n      <th>title_and_5_sentences</th>\n      <td>0.685083</td>\n      <td>0.787302</td>\n      <td>0.606357</td>\n      <td>0.517980</td>\n      <td>0.631508</td>\n      <td>0.456047</td>\n      <td>0.116505</td>\n    </tr>\n    <tr>\n      <th>title_and_first_paragraph</th>\n      <td>0.679195</td>\n      <td>0.752976</td>\n      <td>0.618582</td>\n      <td>0.481295</td>\n      <td>0.608876</td>\n      <td>0.430143</td>\n      <td>0.097087</td>\n    </tr>\n    <tr>\n      <th>title_and_first_sentence_each_paragraph</th>\n      <td>0.704150</td>\n      <td>0.778107</td>\n      <td>0.643032</td>\n      <td>0.583106</td>\n      <td>0.715612</td>\n      <td>0.528120</td>\n      <td>0.126214</td>\n    </tr>\n    <tr>\n      <th rowspan=\"6\" valign=\"top\">fr</th>\n      <th rowspan=\"6\" valign=\"top\">AshtonIsNotHere-xlm-roberta-long-base-4096</th>\n      <th>raw_text</th>\n      <td>0.537190</td>\n      <td>0.560345</td>\n      <td>0.515873</td>\n      <td>0.444194</td>\n      <td>0.562330</td>\n      <td>0.420883</td>\n      <td>0.071429</td>\n    </tr>\n    <tr>\n      <th>title</th>\n      <td>0.416667</td>\n      <td>0.500000</td>\n      <td>0.357143</td>\n      <td>0.226350</td>\n      <td>0.268776</td>\n      <td>0.228918</td>\n      <td>0.071429</td>\n    </tr>\n    <tr>\n      <th>title_and_10_sentences</th>\n      <td>0.502128</td>\n      <td>0.541284</td>\n      <td>0.468254</td>\n      <td>0.400744</td>\n      <td>0.541047</td>\n      <td>0.377638</td>\n      <td>0.023810</td>\n    </tr>\n    <tr>\n      <th>title_and_5_sentences</th>\n      <td>0.481481</td>\n      <td>0.577778</td>\n      <td>0.412698</td>\n      <td>0.387088</td>\n      <td>0.539113</td>\n      <td>0.342154</td>\n      <td>0.095238</td>\n    </tr>\n    <tr>\n      <th>title_and_first_paragraph</th>\n      <td>0.460829</td>\n      <td>0.549451</td>\n      <td>0.396825</td>\n      <td>0.346210</td>\n      <td>0.415675</td>\n      <td>0.329378</td>\n      <td>0.095238</td>\n    </tr>\n    <tr>\n      <th>title_and_first_sentence_each_paragraph</th>\n      <td>0.526316</td>\n      <td>0.588235</td>\n      <td>0.476190</td>\n      <td>0.385613</td>\n      <td>0.489650</td>\n      <td>0.376444</td>\n      <td>0.119048</td>\n    </tr>\n    <tr>\n      <th rowspan=\"6\" valign=\"top\">ge</th>\n      <th rowspan=\"6\" valign=\"top\">AshtonIsNotHere-xlm-roberta-long-base-4096</th>\n      <th>raw_text</th>\n      <td>0.668657</td>\n      <td>0.687117</td>\n      <td>0.651163</td>\n      <td>0.549938</td>\n      <td>0.591511</td>\n      <td>0.556938</td>\n      <td>0.028571</td>\n    </tr>\n    <tr>\n      <th>title</th>\n      <td>0.553746</td>\n      <td>0.629630</td>\n      <td>0.494186</td>\n      <td>0.396843</td>\n      <td>0.452538</td>\n      <td>0.391221</td>\n      <td>0.000000</td>\n    </tr>\n    <tr>\n      <th>title_and_10_sentences</th>\n      <td>0.618893</td>\n      <td>0.703704</td>\n      <td>0.552326</td>\n      <td>0.496676</td>\n      <td>0.580130</td>\n      <td>0.460665</td>\n      <td>0.000000</td>\n    </tr>\n    <tr>\n      <th>title_and_5_sentences</th>\n      <td>0.612378</td>\n      <td>0.696296</td>\n      <td>0.546512</td>\n      <td>0.443717</td>\n      <td>0.528022</td>\n      <td>0.424920</td>\n      <td>0.000000</td>\n    </tr>\n    <tr>\n      <th>title_and_first_paragraph</th>\n      <td>0.589041</td>\n      <td>0.716667</td>\n      <td>0.500000</td>\n      <td>0.445427</td>\n      <td>0.557703</td>\n      <td>0.399246</td>\n      <td>0.028571</td>\n    </tr>\n    <tr>\n      <th>title_and_first_sentence_each_paragraph</th>\n      <td>0.617544</td>\n      <td>0.778761</td>\n      <td>0.511628</td>\n      <td>0.469848</td>\n      <td>0.650536</td>\n      <td>0.409823</td>\n      <td>0.000000</td>\n    </tr>\n    <tr>\n      <th rowspan=\"6\" valign=\"top\">it</th>\n      <th rowspan=\"6\" valign=\"top\">AshtonIsNotHere-xlm-roberta-long-base-4096</th>\n      <th>raw_text</th>\n      <td>0.650124</td>\n      <td>0.757225</td>\n      <td>0.569565</td>\n      <td>0.542426</td>\n      <td>0.667772</td>\n      <td>0.483687</td>\n      <td>0.166667</td>\n    </tr>\n    <tr>\n      <th>title</th>\n      <td>0.542199</td>\n      <td>0.658385</td>\n      <td>0.460870</td>\n      <td>0.403677</td>\n      <td>0.509031</td>\n      <td>0.359866</td>\n      <td>0.083333</td>\n    </tr>\n    <tr>\n      <th>title_and_10_sentences</th>\n      <td>0.584856</td>\n      <td>0.732026</td>\n      <td>0.486957</td>\n      <td>0.435127</td>\n      <td>0.531941</td>\n      <td>0.393782</td>\n      <td>0.133333</td>\n    </tr>\n    <tr>\n      <th>title_and_5_sentences</th>\n      <td>0.547804</td>\n      <td>0.675159</td>\n      <td>0.460870</td>\n      <td>0.408372</td>\n      <td>0.487099</td>\n      <td>0.364423</td>\n      <td>0.133333</td>\n    </tr>\n    <tr>\n      <th>title_and_first_paragraph</th>\n      <td>0.555270</td>\n      <td>0.679245</td>\n      <td>0.469565</td>\n      <td>0.402842</td>\n      <td>0.487749</td>\n      <td>0.371533</td>\n      <td>0.116667</td>\n    </tr>\n    <tr>\n      <th>title_and_first_sentence_each_paragraph</th>\n      <td>0.531915</td>\n      <td>0.684932</td>\n      <td>0.434783</td>\n      <td>0.416771</td>\n      <td>0.539260</td>\n      <td>0.358878</td>\n      <td>0.116667</td>\n    </tr>\n    <tr>\n      <th rowspan=\"6\" valign=\"top\">po</th>\n      <th rowspan=\"6\" valign=\"top\">AshtonIsNotHere-xlm-roberta-long-base-4096</th>\n      <th>raw_text</th>\n      <td>0.710744</td>\n      <td>0.821656</td>\n      <td>0.626214</td>\n      <td>0.626236</td>\n      <td>0.777173</td>\n      <td>0.548868</td>\n      <td>0.051282</td>\n    </tr>\n    <tr>\n      <th>title</th>\n      <td>0.537815</td>\n      <td>0.635762</td>\n      <td>0.466019</td>\n      <td>0.476741</td>\n      <td>0.613442</td>\n      <td>0.420924</td>\n      <td>0.025641</td>\n    </tr>\n    <tr>\n      <th>title_and_10_sentences</th>\n      <td>0.628242</td>\n      <td>0.773050</td>\n      <td>0.529126</td>\n      <td>0.571449</td>\n      <td>0.749420</td>\n      <td>0.508821</td>\n      <td>0.051282</td>\n    </tr>\n    <tr>\n      <th>title_and_5_sentences</th>\n      <td>0.591398</td>\n      <td>0.662651</td>\n      <td>0.533981</td>\n      <td>0.513638</td>\n      <td>0.590454</td>\n      <td>0.489549</td>\n      <td>0.025641</td>\n    </tr>\n    <tr>\n      <th>title_and_first_paragraph</th>\n      <td>0.590786</td>\n      <td>0.668712</td>\n      <td>0.529126</td>\n      <td>0.516015</td>\n      <td>0.606956</td>\n      <td>0.483294</td>\n      <td>0.025641</td>\n    </tr>\n    <tr>\n      <th>title_and_first_sentence_each_paragraph</th>\n      <td>0.620690</td>\n      <td>0.760563</td>\n      <td>0.524272</td>\n      <td>0.534820</td>\n      <td>0.744406</td>\n      <td>0.462951</td>\n      <td>0.025641</td>\n    </tr>\n    <tr>\n      <th rowspan=\"6\" valign=\"top\">ru</th>\n      <th rowspan=\"6\" valign=\"top\">AshtonIsNotHere-xlm-roberta-long-base-4096</th>\n      <th>raw_text</th>\n      <td>0.518987</td>\n      <td>0.569444</td>\n      <td>0.476744</td>\n      <td>0.375217</td>\n      <td>0.402041</td>\n      <td>0.360034</td>\n      <td>0.184211</td>\n    </tr>\n    <tr>\n      <th>title</th>\n      <td>0.391608</td>\n      <td>0.491228</td>\n      <td>0.325581</td>\n      <td>0.267766</td>\n      <td>0.292687</td>\n      <td>0.264711</td>\n      <td>0.078947</td>\n    </tr>\n    <tr>\n      <th>title_and_10_sentences</th>\n      <td>0.503311</td>\n      <td>0.584615</td>\n      <td>0.441860</td>\n      <td>0.346564</td>\n      <td>0.363776</td>\n      <td>0.350170</td>\n      <td>0.210526</td>\n    </tr>\n    <tr>\n      <th>title_and_5_sentences</th>\n      <td>0.468966</td>\n      <td>0.576271</td>\n      <td>0.395349</td>\n      <td>0.344280</td>\n      <td>0.400043</td>\n      <td>0.323384</td>\n      <td>0.157895</td>\n    </tr>\n    <tr>\n      <th>title_and_first_paragraph</th>\n      <td>0.470588</td>\n      <td>0.537313</td>\n      <td>0.418605</td>\n      <td>0.357011</td>\n      <td>0.399016</td>\n      <td>0.335969</td>\n      <td>0.210526</td>\n    </tr>\n    <tr>\n      <th>title_and_first_sentence_each_paragraph</th>\n      <td>0.534247</td>\n      <td>0.650000</td>\n      <td>0.453488</td>\n      <td>0.393270</td>\n      <td>0.491071</td>\n      <td>0.366582</td>\n      <td>0.236842</td>\n    </tr>\n  </tbody>\n</table>\n</div>"
     },
     "execution_count": 10,
     "metadata": {},
     "output_type": "execute_result"
    }
   ],
   "source": [
    "results_df"
   ],
   "metadata": {
    "collapsed": false
   }
  },
  {
   "cell_type": "code",
   "execution_count": 11,
   "id": "143ecba4-ffb9-45e9-869c-87d16caea017",
   "metadata": {
    "tags": []
   },
   "outputs": [],
   "source": [
    "def display_metrics_and_write_to_file(df, grouping_criterion, output_dir):\n",
    "    os.makedirs(output_dir, exist_ok=True)\n",
    "    report_tables_dfs_dict = {metric: [] for metric in metrics_to_report}\n",
    "\n",
    "    for language, results_df in df.groupby(level=0):\n",
    "        display(Markdown(f'# {language_dict[language]}'))\n",
    "        \n",
    "        for metric in metrics_to_report:\n",
    "            os.makedirs(os.path.join(output_dir, metric), exist_ok=True)\n",
    "\n",
    "            output_dir_markdown = os.path.join(output_dir, metric, 'markdown')\n",
    "            output_dir_latex = os.path.join(output_dir, metric, 'latex')\n",
    "            output_dir_csv = os.path.join(output_dir, metric, 'csv')\n",
    "\n",
    "            os.makedirs(output_dir_markdown, exist_ok=True)\n",
    "            os.makedirs(output_dir_latex, exist_ok=True)\n",
    "            os.makedirs(output_dir_csv, exist_ok=True)\n",
    "\n",
    "            display(Markdown(f'## {metric}'))\n",
    "\n",
    "            report_table = display_performance_table(df=results_df, index_cols=grouping_criterion, metric=metric, display_=True)\n",
    "\n",
    "            # Export as markdown\n",
    "            markdown_file = open(os.path.join(output_dir_markdown, f\"{language_dict[language]}_{metric}.md\"), \"w\")\n",
    "            report_table.reset_index().to_markdown(markdown_file, index=False)\n",
    "            markdown_file.close()\n",
    "\n",
    "            # Export as latex table\n",
    "            latex_file = open(os.path.join(output_dir_latex, f\"{language_dict[language]}_{metric}.tex\"), \"w\")\n",
    "            report_table.reset_index().to_latex(latex_file, index=False)\n",
    "            latex_file.close()\n",
    "\n",
    "            # Export as csv\n",
    "            report_table.to_csv(os.path.join(output_dir_csv, f\"{language_dict[language]}_{metric}.csv\"))\n",
    "\n",
    "            # Stack all languages into single table\n",
    "            report_table['language'] = language\n",
    "            report_table = report_table.reset_index().set_index(['language'] + grouping_criterion)\n",
    "\n",
    "            report_tables_dfs_dict[metric].append(report_table)\n",
    "\n",
    "    # Report or store unified table\n",
    "    display(Markdown(f'# All 6 Languages'))\n",
    "    for metric in metrics_to_report:\n",
    "        display(Markdown(f'## {metric}'))\n",
    "        multi_language_report_table_metric = pd.concat(report_tables_dfs_dict[metric])\n",
    "        display(Markdown(multi_language_report_table_metric.reset_index().to_markdown(index=False)))\n",
    "\n",
    "        output_dir_markdown = os.path.join(output_dir, metric, 'markdown')\n",
    "        output_dir_latex = os.path.join(output_dir, metric, 'latex')\n",
    "        output_dir_csv = os.path.join(output_dir, metric, 'csv')\n",
    "\n",
    "        # Export as markdown\n",
    "        markdown_file = open(os.path.join(output_dir_markdown, f\"all_6_languages_{metric}.md\"), \"w\")\n",
    "        multi_language_report_table_metric.reset_index().to_markdown(markdown_file, index=False)\n",
    "        markdown_file.close()\n",
    "\n",
    "        # Export as latex table\n",
    "        latex_file = open(os.path.join(output_dir_latex, f\"all_6_languages_{metric}.tex\"), \"w\")\n",
    "        multi_language_report_table_metric.reset_index().to_latex(latex_file, index=False)\n",
    "        latex_file.close()\n",
    "\n",
    "        # Export as csv\n",
    "        multi_language_report_table_metric.to_csv(os.path.join(output_dir_csv, f\"all_6_languages_{metric}.csv\"))"
   ]
  },
  {
   "cell_type": "markdown",
   "id": "2f01d754-49ba-4c74-8220-2e144f624044",
   "metadata": {},
   "source": [
    "# Per model type"
   ]
  },
  {
   "cell_type": "code",
   "execution_count": 12,
   "id": "e5abb824-f93a-44fd-8203-a0b84224b0fa",
   "metadata": {
    "tags": []
   },
   "outputs": [
    {
     "data": {
      "text/plain": "<IPython.core.display.Markdown object>",
      "text/markdown": "# English"
     },
     "metadata": {},
     "output_type": "display_data"
    },
    {
     "data": {
      "text/plain": "<IPython.core.display.Markdown object>",
      "text/markdown": "## f1_micro"
     },
     "metadata": {},
     "output_type": "display_data"
    },
    {
     "data": {
      "text/plain": "<IPython.core.display.Markdown object>",
      "text/markdown": "| model_name                                 |   title |   title and first paragraph |   title and 5 sentences |   title and 10 sentences | title and first sentence each paragraph   |   raw text |\n|:-------------------------------------------|--------:|----------------------------:|------------------------:|-------------------------:|:------------------------------------------|-----------:|\n| AshtonIsNotHere-xlm-roberta-long-base-4096 |   0.628 |                       0.679 |                   0.685 |                    0.688 | **0.704**                                 |      0.684 |"
     },
     "metadata": {},
     "output_type": "display_data"
    },
    {
     "name": "stderr",
     "output_type": "stream",
     "text": [
      "/tmp/ipykernel_17775/2331756451.py:30: FutureWarning: In future versions `DataFrame.to_latex` is expected to utilise the base implementation of `Styler.to_latex` for formatting and rendering. The arguments signature may therefore change. It is recommended instead to use `DataFrame.style.to_latex` which also contains additional functionality.\n",
      "  report_table.reset_index().to_latex(latex_file, index=False)\n"
     ]
    },
    {
     "data": {
      "text/plain": "<IPython.core.display.Markdown object>",
      "text/markdown": "## recall_micro"
     },
     "metadata": {},
     "output_type": "display_data"
    },
    {
     "data": {
      "text/plain": "<IPython.core.display.Markdown object>",
      "text/markdown": "| model_name                                 |   title |   title and first paragraph |   title and 5 sentences | title and 10 sentences   |   title and first sentence each paragraph |   raw text |\n|:-------------------------------------------|--------:|----------------------------:|------------------------:|:-------------------------|------------------------------------------:|-----------:|\n| AshtonIsNotHere-xlm-roberta-long-base-4096 |   0.565 |                       0.619 |                   0.606 | **0.645**                |                                     0.643 |      0.638 |"
     },
     "metadata": {},
     "output_type": "display_data"
    },
    {
     "name": "stderr",
     "output_type": "stream",
     "text": [
      "/tmp/ipykernel_17775/2331756451.py:30: FutureWarning: In future versions `DataFrame.to_latex` is expected to utilise the base implementation of `Styler.to_latex` for formatting and rendering. The arguments signature may therefore change. It is recommended instead to use `DataFrame.style.to_latex` which also contains additional functionality.\n",
      "  report_table.reset_index().to_latex(latex_file, index=False)\n"
     ]
    },
    {
     "data": {
      "text/plain": "<IPython.core.display.Markdown object>",
      "text/markdown": "## precision_micro"
     },
     "metadata": {},
     "output_type": "display_data"
    },
    {
     "data": {
      "text/plain": "<IPython.core.display.Markdown object>",
      "text/markdown": "| model_name                                 |   title |   title and first paragraph | title and 5 sentences   |   title and 10 sentences |   title and first sentence each paragraph |   raw text |\n|:-------------------------------------------|--------:|----------------------------:|:------------------------|-------------------------:|------------------------------------------:|-----------:|\n| AshtonIsNotHere-xlm-roberta-long-base-4096 |   0.706 |                       0.753 | **0.787**               |                    0.737 |                                     0.778 |      0.737 |"
     },
     "metadata": {},
     "output_type": "display_data"
    },
    {
     "name": "stderr",
     "output_type": "stream",
     "text": [
      "/tmp/ipykernel_17775/2331756451.py:30: FutureWarning: In future versions `DataFrame.to_latex` is expected to utilise the base implementation of `Styler.to_latex` for formatting and rendering. The arguments signature may therefore change. It is recommended instead to use `DataFrame.style.to_latex` which also contains additional functionality.\n",
      "  report_table.reset_index().to_latex(latex_file, index=False)\n"
     ]
    },
    {
     "data": {
      "text/plain": "<IPython.core.display.Markdown object>",
      "text/markdown": "## accuracy"
     },
     "metadata": {},
     "output_type": "display_data"
    },
    {
     "data": {
      "text/plain": "<IPython.core.display.Markdown object>",
      "text/markdown": "| model_name                                 |   title |   title and first paragraph |   title and 5 sentences |   title and 10 sentences | title and first sentence each paragraph   |   raw text |\n|:-------------------------------------------|--------:|----------------------------:|------------------------:|-------------------------:|:------------------------------------------|-----------:|\n| AshtonIsNotHere-xlm-roberta-long-base-4096 |   0.068 |                       0.097 |                   0.117 |                    0.097 | **0.126**                                 |      0.097 |"
     },
     "metadata": {},
     "output_type": "display_data"
    },
    {
     "name": "stderr",
     "output_type": "stream",
     "text": [
      "/tmp/ipykernel_17775/2331756451.py:30: FutureWarning: In future versions `DataFrame.to_latex` is expected to utilise the base implementation of `Styler.to_latex` for formatting and rendering. The arguments signature may therefore change. It is recommended instead to use `DataFrame.style.to_latex` which also contains additional functionality.\n",
      "  report_table.reset_index().to_latex(latex_file, index=False)\n"
     ]
    },
    {
     "data": {
      "text/plain": "<IPython.core.display.Markdown object>",
      "text/markdown": "# French"
     },
     "metadata": {},
     "output_type": "display_data"
    },
    {
     "data": {
      "text/plain": "<IPython.core.display.Markdown object>",
      "text/markdown": "## f1_micro"
     },
     "metadata": {},
     "output_type": "display_data"
    },
    {
     "data": {
      "text/plain": "<IPython.core.display.Markdown object>",
      "text/markdown": "| model_name                                 |   title |   title and first paragraph |   title and 5 sentences |   title and 10 sentences |   title and first sentence each paragraph | raw text   |\n|:-------------------------------------------|--------:|----------------------------:|------------------------:|-------------------------:|------------------------------------------:|:-----------|\n| AshtonIsNotHere-xlm-roberta-long-base-4096 |   0.417 |                       0.461 |                   0.481 |                    0.502 |                                     0.526 | **0.537**  |"
     },
     "metadata": {},
     "output_type": "display_data"
    },
    {
     "name": "stderr",
     "output_type": "stream",
     "text": [
      "/tmp/ipykernel_17775/2331756451.py:30: FutureWarning: In future versions `DataFrame.to_latex` is expected to utilise the base implementation of `Styler.to_latex` for formatting and rendering. The arguments signature may therefore change. It is recommended instead to use `DataFrame.style.to_latex` which also contains additional functionality.\n",
      "  report_table.reset_index().to_latex(latex_file, index=False)\n"
     ]
    },
    {
     "data": {
      "text/plain": "<IPython.core.display.Markdown object>",
      "text/markdown": "## recall_micro"
     },
     "metadata": {},
     "output_type": "display_data"
    },
    {
     "data": {
      "text/plain": "<IPython.core.display.Markdown object>",
      "text/markdown": "| model_name                                 |   title |   title and first paragraph |   title and 5 sentences |   title and 10 sentences |   title and first sentence each paragraph | raw text   |\n|:-------------------------------------------|--------:|----------------------------:|------------------------:|-------------------------:|------------------------------------------:|:-----------|\n| AshtonIsNotHere-xlm-roberta-long-base-4096 |   0.357 |                       0.397 |                   0.413 |                    0.468 |                                     0.476 | **0.516**  |"
     },
     "metadata": {},
     "output_type": "display_data"
    },
    {
     "name": "stderr",
     "output_type": "stream",
     "text": [
      "/tmp/ipykernel_17775/2331756451.py:30: FutureWarning: In future versions `DataFrame.to_latex` is expected to utilise the base implementation of `Styler.to_latex` for formatting and rendering. The arguments signature may therefore change. It is recommended instead to use `DataFrame.style.to_latex` which also contains additional functionality.\n",
      "  report_table.reset_index().to_latex(latex_file, index=False)\n"
     ]
    },
    {
     "data": {
      "text/plain": "<IPython.core.display.Markdown object>",
      "text/markdown": "## precision_micro"
     },
     "metadata": {},
     "output_type": "display_data"
    },
    {
     "data": {
      "text/plain": "<IPython.core.display.Markdown object>",
      "text/markdown": "| model_name                                 |   title |   title and first paragraph |   title and 5 sentences |   title and 10 sentences | title and first sentence each paragraph   |   raw text |\n|:-------------------------------------------|--------:|----------------------------:|------------------------:|-------------------------:|:------------------------------------------|-----------:|\n| AshtonIsNotHere-xlm-roberta-long-base-4096 |     0.5 |                       0.549 |                   0.578 |                    0.541 | **0.588**                                 |       0.56 |"
     },
     "metadata": {},
     "output_type": "display_data"
    },
    {
     "name": "stderr",
     "output_type": "stream",
     "text": [
      "/tmp/ipykernel_17775/2331756451.py:30: FutureWarning: In future versions `DataFrame.to_latex` is expected to utilise the base implementation of `Styler.to_latex` for formatting and rendering. The arguments signature may therefore change. It is recommended instead to use `DataFrame.style.to_latex` which also contains additional functionality.\n",
      "  report_table.reset_index().to_latex(latex_file, index=False)\n"
     ]
    },
    {
     "data": {
      "text/plain": "<IPython.core.display.Markdown object>",
      "text/markdown": "## accuracy"
     },
     "metadata": {},
     "output_type": "display_data"
    },
    {
     "data": {
      "text/plain": "<IPython.core.display.Markdown object>",
      "text/markdown": "| model_name                                 |   title |   title and first paragraph |   title and 5 sentences |   title and 10 sentences | title and first sentence each paragraph   |   raw text |\n|:-------------------------------------------|--------:|----------------------------:|------------------------:|-------------------------:|:------------------------------------------|-----------:|\n| AshtonIsNotHere-xlm-roberta-long-base-4096 |   0.071 |                       0.095 |                   0.095 |                    0.024 | **0.119**                                 |      0.071 |"
     },
     "metadata": {},
     "output_type": "display_data"
    },
    {
     "name": "stderr",
     "output_type": "stream",
     "text": [
      "/tmp/ipykernel_17775/2331756451.py:30: FutureWarning: In future versions `DataFrame.to_latex` is expected to utilise the base implementation of `Styler.to_latex` for formatting and rendering. The arguments signature may therefore change. It is recommended instead to use `DataFrame.style.to_latex` which also contains additional functionality.\n",
      "  report_table.reset_index().to_latex(latex_file, index=False)\n"
     ]
    },
    {
     "data": {
      "text/plain": "<IPython.core.display.Markdown object>",
      "text/markdown": "# German"
     },
     "metadata": {},
     "output_type": "display_data"
    },
    {
     "data": {
      "text/plain": "<IPython.core.display.Markdown object>",
      "text/markdown": "## f1_micro"
     },
     "metadata": {},
     "output_type": "display_data"
    },
    {
     "data": {
      "text/plain": "<IPython.core.display.Markdown object>",
      "text/markdown": "| model_name                                 |   title |   title and first paragraph |   title and 5 sentences |   title and 10 sentences |   title and first sentence each paragraph | raw text   |\n|:-------------------------------------------|--------:|----------------------------:|------------------------:|-------------------------:|------------------------------------------:|:-----------|\n| AshtonIsNotHere-xlm-roberta-long-base-4096 |   0.554 |                       0.589 |                   0.612 |                    0.619 |                                     0.618 | **0.669**  |"
     },
     "metadata": {},
     "output_type": "display_data"
    },
    {
     "name": "stderr",
     "output_type": "stream",
     "text": [
      "/tmp/ipykernel_17775/2331756451.py:30: FutureWarning: In future versions `DataFrame.to_latex` is expected to utilise the base implementation of `Styler.to_latex` for formatting and rendering. The arguments signature may therefore change. It is recommended instead to use `DataFrame.style.to_latex` which also contains additional functionality.\n",
      "  report_table.reset_index().to_latex(latex_file, index=False)\n"
     ]
    },
    {
     "data": {
      "text/plain": "<IPython.core.display.Markdown object>",
      "text/markdown": "## recall_micro"
     },
     "metadata": {},
     "output_type": "display_data"
    },
    {
     "data": {
      "text/plain": "<IPython.core.display.Markdown object>",
      "text/markdown": "| model_name                                 |   title |   title and first paragraph |   title and 5 sentences |   title and 10 sentences |   title and first sentence each paragraph | raw text   |\n|:-------------------------------------------|--------:|----------------------------:|------------------------:|-------------------------:|------------------------------------------:|:-----------|\n| AshtonIsNotHere-xlm-roberta-long-base-4096 |   0.494 |                         0.5 |                   0.547 |                    0.552 |                                     0.512 | **0.651**  |"
     },
     "metadata": {},
     "output_type": "display_data"
    },
    {
     "name": "stderr",
     "output_type": "stream",
     "text": [
      "/tmp/ipykernel_17775/2331756451.py:30: FutureWarning: In future versions `DataFrame.to_latex` is expected to utilise the base implementation of `Styler.to_latex` for formatting and rendering. The arguments signature may therefore change. It is recommended instead to use `DataFrame.style.to_latex` which also contains additional functionality.\n",
      "  report_table.reset_index().to_latex(latex_file, index=False)\n"
     ]
    },
    {
     "data": {
      "text/plain": "<IPython.core.display.Markdown object>",
      "text/markdown": "## precision_micro"
     },
     "metadata": {},
     "output_type": "display_data"
    },
    {
     "data": {
      "text/plain": "<IPython.core.display.Markdown object>",
      "text/markdown": "| model_name                                 |   title |   title and first paragraph |   title and 5 sentences |   title and 10 sentences | title and first sentence each paragraph   |   raw text |\n|:-------------------------------------------|--------:|----------------------------:|------------------------:|-------------------------:|:------------------------------------------|-----------:|\n| AshtonIsNotHere-xlm-roberta-long-base-4096 |    0.63 |                       0.717 |                   0.696 |                    0.704 | **0.779**                                 |      0.687 |"
     },
     "metadata": {},
     "output_type": "display_data"
    },
    {
     "name": "stderr",
     "output_type": "stream",
     "text": [
      "/tmp/ipykernel_17775/2331756451.py:30: FutureWarning: In future versions `DataFrame.to_latex` is expected to utilise the base implementation of `Styler.to_latex` for formatting and rendering. The arguments signature may therefore change. It is recommended instead to use `DataFrame.style.to_latex` which also contains additional functionality.\n",
      "  report_table.reset_index().to_latex(latex_file, index=False)\n"
     ]
    },
    {
     "data": {
      "text/plain": "<IPython.core.display.Markdown object>",
      "text/markdown": "## accuracy"
     },
     "metadata": {},
     "output_type": "display_data"
    },
    {
     "data": {
      "text/plain": "<IPython.core.display.Markdown object>",
      "text/markdown": "| model_name                                 |   title | title and first paragraph   |   title and 5 sentences |   title and 10 sentences |   title and first sentence each paragraph | raw text   |\n|:-------------------------------------------|--------:|:----------------------------|------------------------:|-------------------------:|------------------------------------------:|:-----------|\n| AshtonIsNotHere-xlm-roberta-long-base-4096 |       0 | **0.029**                   |                       0 |                        0 |                                         0 | **0.029**  |"
     },
     "metadata": {},
     "output_type": "display_data"
    },
    {
     "name": "stderr",
     "output_type": "stream",
     "text": [
      "/tmp/ipykernel_17775/2331756451.py:30: FutureWarning: In future versions `DataFrame.to_latex` is expected to utilise the base implementation of `Styler.to_latex` for formatting and rendering. The arguments signature may therefore change. It is recommended instead to use `DataFrame.style.to_latex` which also contains additional functionality.\n",
      "  report_table.reset_index().to_latex(latex_file, index=False)\n"
     ]
    },
    {
     "data": {
      "text/plain": "<IPython.core.display.Markdown object>",
      "text/markdown": "# Italian"
     },
     "metadata": {},
     "output_type": "display_data"
    },
    {
     "data": {
      "text/plain": "<IPython.core.display.Markdown object>",
      "text/markdown": "## f1_micro"
     },
     "metadata": {},
     "output_type": "display_data"
    },
    {
     "data": {
      "text/plain": "<IPython.core.display.Markdown object>",
      "text/markdown": "| model_name                                 |   title |   title and first paragraph |   title and 5 sentences |   title and 10 sentences |   title and first sentence each paragraph | raw text   |\n|:-------------------------------------------|--------:|----------------------------:|------------------------:|-------------------------:|------------------------------------------:|:-----------|\n| AshtonIsNotHere-xlm-roberta-long-base-4096 |   0.542 |                       0.555 |                   0.548 |                    0.585 |                                     0.532 | **0.650**  |"
     },
     "metadata": {},
     "output_type": "display_data"
    },
    {
     "name": "stderr",
     "output_type": "stream",
     "text": [
      "/tmp/ipykernel_17775/2331756451.py:30: FutureWarning: In future versions `DataFrame.to_latex` is expected to utilise the base implementation of `Styler.to_latex` for formatting and rendering. The arguments signature may therefore change. It is recommended instead to use `DataFrame.style.to_latex` which also contains additional functionality.\n",
      "  report_table.reset_index().to_latex(latex_file, index=False)\n"
     ]
    },
    {
     "data": {
      "text/plain": "<IPython.core.display.Markdown object>",
      "text/markdown": "## recall_micro"
     },
     "metadata": {},
     "output_type": "display_data"
    },
    {
     "data": {
      "text/plain": "<IPython.core.display.Markdown object>",
      "text/markdown": "| model_name                                 |   title |   title and first paragraph |   title and 5 sentences |   title and 10 sentences |   title and first sentence each paragraph | raw text   |\n|:-------------------------------------------|--------:|----------------------------:|------------------------:|-------------------------:|------------------------------------------:|:-----------|\n| AshtonIsNotHere-xlm-roberta-long-base-4096 |   0.461 |                        0.47 |                   0.461 |                    0.487 |                                     0.435 | **0.570**  |"
     },
     "metadata": {},
     "output_type": "display_data"
    },
    {
     "name": "stderr",
     "output_type": "stream",
     "text": [
      "/tmp/ipykernel_17775/2331756451.py:30: FutureWarning: In future versions `DataFrame.to_latex` is expected to utilise the base implementation of `Styler.to_latex` for formatting and rendering. The arguments signature may therefore change. It is recommended instead to use `DataFrame.style.to_latex` which also contains additional functionality.\n",
      "  report_table.reset_index().to_latex(latex_file, index=False)\n"
     ]
    },
    {
     "data": {
      "text/plain": "<IPython.core.display.Markdown object>",
      "text/markdown": "## precision_micro"
     },
     "metadata": {},
     "output_type": "display_data"
    },
    {
     "data": {
      "text/plain": "<IPython.core.display.Markdown object>",
      "text/markdown": "| model_name                                 |   title |   title and first paragraph |   title and 5 sentences |   title and 10 sentences |   title and first sentence each paragraph | raw text   |\n|:-------------------------------------------|--------:|----------------------------:|------------------------:|-------------------------:|------------------------------------------:|:-----------|\n| AshtonIsNotHere-xlm-roberta-long-base-4096 |   0.658 |                       0.679 |                   0.675 |                    0.732 |                                     0.685 | **0.757**  |"
     },
     "metadata": {},
     "output_type": "display_data"
    },
    {
     "name": "stderr",
     "output_type": "stream",
     "text": [
      "/tmp/ipykernel_17775/2331756451.py:30: FutureWarning: In future versions `DataFrame.to_latex` is expected to utilise the base implementation of `Styler.to_latex` for formatting and rendering. The arguments signature may therefore change. It is recommended instead to use `DataFrame.style.to_latex` which also contains additional functionality.\n",
      "  report_table.reset_index().to_latex(latex_file, index=False)\n"
     ]
    },
    {
     "data": {
      "text/plain": "<IPython.core.display.Markdown object>",
      "text/markdown": "## accuracy"
     },
     "metadata": {},
     "output_type": "display_data"
    },
    {
     "data": {
      "text/plain": "<IPython.core.display.Markdown object>",
      "text/markdown": "| model_name                                 |   title |   title and first paragraph |   title and 5 sentences |   title and 10 sentences |   title and first sentence each paragraph | raw text   |\n|:-------------------------------------------|--------:|----------------------------:|------------------------:|-------------------------:|------------------------------------------:|:-----------|\n| AshtonIsNotHere-xlm-roberta-long-base-4096 |   0.083 |                       0.117 |                   0.133 |                    0.133 |                                     0.117 | **0.167**  |"
     },
     "metadata": {},
     "output_type": "display_data"
    },
    {
     "name": "stderr",
     "output_type": "stream",
     "text": [
      "/tmp/ipykernel_17775/2331756451.py:30: FutureWarning: In future versions `DataFrame.to_latex` is expected to utilise the base implementation of `Styler.to_latex` for formatting and rendering. The arguments signature may therefore change. It is recommended instead to use `DataFrame.style.to_latex` which also contains additional functionality.\n",
      "  report_table.reset_index().to_latex(latex_file, index=False)\n"
     ]
    },
    {
     "data": {
      "text/plain": "<IPython.core.display.Markdown object>",
      "text/markdown": "# Polish"
     },
     "metadata": {},
     "output_type": "display_data"
    },
    {
     "data": {
      "text/plain": "<IPython.core.display.Markdown object>",
      "text/markdown": "## f1_micro"
     },
     "metadata": {},
     "output_type": "display_data"
    },
    {
     "data": {
      "text/plain": "<IPython.core.display.Markdown object>",
      "text/markdown": "| model_name                                 |   title |   title and first paragraph |   title and 5 sentences |   title and 10 sentences |   title and first sentence each paragraph | raw text   |\n|:-------------------------------------------|--------:|----------------------------:|------------------------:|-------------------------:|------------------------------------------:|:-----------|\n| AshtonIsNotHere-xlm-roberta-long-base-4096 |   0.538 |                       0.591 |                   0.591 |                    0.628 |                                     0.621 | **0.711**  |"
     },
     "metadata": {},
     "output_type": "display_data"
    },
    {
     "name": "stderr",
     "output_type": "stream",
     "text": [
      "/tmp/ipykernel_17775/2331756451.py:30: FutureWarning: In future versions `DataFrame.to_latex` is expected to utilise the base implementation of `Styler.to_latex` for formatting and rendering. The arguments signature may therefore change. It is recommended instead to use `DataFrame.style.to_latex` which also contains additional functionality.\n",
      "  report_table.reset_index().to_latex(latex_file, index=False)\n"
     ]
    },
    {
     "data": {
      "text/plain": "<IPython.core.display.Markdown object>",
      "text/markdown": "## recall_micro"
     },
     "metadata": {},
     "output_type": "display_data"
    },
    {
     "data": {
      "text/plain": "<IPython.core.display.Markdown object>",
      "text/markdown": "| model_name                                 |   title |   title and first paragraph |   title and 5 sentences |   title and 10 sentences |   title and first sentence each paragraph | raw text   |\n|:-------------------------------------------|--------:|----------------------------:|------------------------:|-------------------------:|------------------------------------------:|:-----------|\n| AshtonIsNotHere-xlm-roberta-long-base-4096 |   0.466 |                       0.529 |                   0.534 |                    0.529 |                                     0.524 | **0.626**  |"
     },
     "metadata": {},
     "output_type": "display_data"
    },
    {
     "name": "stderr",
     "output_type": "stream",
     "text": [
      "/tmp/ipykernel_17775/2331756451.py:30: FutureWarning: In future versions `DataFrame.to_latex` is expected to utilise the base implementation of `Styler.to_latex` for formatting and rendering. The arguments signature may therefore change. It is recommended instead to use `DataFrame.style.to_latex` which also contains additional functionality.\n",
      "  report_table.reset_index().to_latex(latex_file, index=False)\n"
     ]
    },
    {
     "data": {
      "text/plain": "<IPython.core.display.Markdown object>",
      "text/markdown": "## precision_micro"
     },
     "metadata": {},
     "output_type": "display_data"
    },
    {
     "data": {
      "text/plain": "<IPython.core.display.Markdown object>",
      "text/markdown": "| model_name                                 |   title |   title and first paragraph |   title and 5 sentences |   title and 10 sentences |   title and first sentence each paragraph | raw text   |\n|:-------------------------------------------|--------:|----------------------------:|------------------------:|-------------------------:|------------------------------------------:|:-----------|\n| AshtonIsNotHere-xlm-roberta-long-base-4096 |   0.636 |                       0.669 |                   0.663 |                    0.773 |                                     0.761 | **0.822**  |"
     },
     "metadata": {},
     "output_type": "display_data"
    },
    {
     "name": "stderr",
     "output_type": "stream",
     "text": [
      "/tmp/ipykernel_17775/2331756451.py:30: FutureWarning: In future versions `DataFrame.to_latex` is expected to utilise the base implementation of `Styler.to_latex` for formatting and rendering. The arguments signature may therefore change. It is recommended instead to use `DataFrame.style.to_latex` which also contains additional functionality.\n",
      "  report_table.reset_index().to_latex(latex_file, index=False)\n"
     ]
    },
    {
     "data": {
      "text/plain": "<IPython.core.display.Markdown object>",
      "text/markdown": "## accuracy"
     },
     "metadata": {},
     "output_type": "display_data"
    },
    {
     "data": {
      "text/plain": "<IPython.core.display.Markdown object>",
      "text/markdown": "| model_name                                 |   title |   title and first paragraph |   title and 5 sentences | title and 10 sentences   |   title and first sentence each paragraph | raw text   |\n|:-------------------------------------------|--------:|----------------------------:|------------------------:|:-------------------------|------------------------------------------:|:-----------|\n| AshtonIsNotHere-xlm-roberta-long-base-4096 |   0.026 |                       0.026 |                   0.026 | **0.051**                |                                     0.026 | **0.051**  |"
     },
     "metadata": {},
     "output_type": "display_data"
    },
    {
     "name": "stderr",
     "output_type": "stream",
     "text": [
      "/tmp/ipykernel_17775/2331756451.py:30: FutureWarning: In future versions `DataFrame.to_latex` is expected to utilise the base implementation of `Styler.to_latex` for formatting and rendering. The arguments signature may therefore change. It is recommended instead to use `DataFrame.style.to_latex` which also contains additional functionality.\n",
      "  report_table.reset_index().to_latex(latex_file, index=False)\n"
     ]
    },
    {
     "data": {
      "text/plain": "<IPython.core.display.Markdown object>",
      "text/markdown": "# Russian"
     },
     "metadata": {},
     "output_type": "display_data"
    },
    {
     "data": {
      "text/plain": "<IPython.core.display.Markdown object>",
      "text/markdown": "## f1_micro"
     },
     "metadata": {},
     "output_type": "display_data"
    },
    {
     "data": {
      "text/plain": "<IPython.core.display.Markdown object>",
      "text/markdown": "| model_name                                 |   title |   title and first paragraph |   title and 5 sentences |   title and 10 sentences | title and first sentence each paragraph   |   raw text |\n|:-------------------------------------------|--------:|----------------------------:|------------------------:|-------------------------:|:------------------------------------------|-----------:|\n| AshtonIsNotHere-xlm-roberta-long-base-4096 |   0.392 |                       0.471 |                   0.469 |                    0.503 | **0.534**                                 |      0.519 |"
     },
     "metadata": {},
     "output_type": "display_data"
    },
    {
     "name": "stderr",
     "output_type": "stream",
     "text": [
      "/tmp/ipykernel_17775/2331756451.py:30: FutureWarning: In future versions `DataFrame.to_latex` is expected to utilise the base implementation of `Styler.to_latex` for formatting and rendering. The arguments signature may therefore change. It is recommended instead to use `DataFrame.style.to_latex` which also contains additional functionality.\n",
      "  report_table.reset_index().to_latex(latex_file, index=False)\n"
     ]
    },
    {
     "data": {
      "text/plain": "<IPython.core.display.Markdown object>",
      "text/markdown": "## recall_micro"
     },
     "metadata": {},
     "output_type": "display_data"
    },
    {
     "data": {
      "text/plain": "<IPython.core.display.Markdown object>",
      "text/markdown": "| model_name                                 |   title |   title and first paragraph |   title and 5 sentences |   title and 10 sentences |   title and first sentence each paragraph | raw text   |\n|:-------------------------------------------|--------:|----------------------------:|------------------------:|-------------------------:|------------------------------------------:|:-----------|\n| AshtonIsNotHere-xlm-roberta-long-base-4096 |   0.326 |                       0.419 |                   0.395 |                    0.442 |                                     0.453 | **0.477**  |"
     },
     "metadata": {},
     "output_type": "display_data"
    },
    {
     "name": "stderr",
     "output_type": "stream",
     "text": [
      "/tmp/ipykernel_17775/2331756451.py:30: FutureWarning: In future versions `DataFrame.to_latex` is expected to utilise the base implementation of `Styler.to_latex` for formatting and rendering. The arguments signature may therefore change. It is recommended instead to use `DataFrame.style.to_latex` which also contains additional functionality.\n",
      "  report_table.reset_index().to_latex(latex_file, index=False)\n"
     ]
    },
    {
     "data": {
      "text/plain": "<IPython.core.display.Markdown object>",
      "text/markdown": "## precision_micro"
     },
     "metadata": {},
     "output_type": "display_data"
    },
    {
     "data": {
      "text/plain": "<IPython.core.display.Markdown object>",
      "text/markdown": "| model_name                                 |   title |   title and first paragraph |   title and 5 sentences |   title and 10 sentences | title and first sentence each paragraph   |   raw text |\n|:-------------------------------------------|--------:|----------------------------:|------------------------:|-------------------------:|:------------------------------------------|-----------:|\n| AshtonIsNotHere-xlm-roberta-long-base-4096 |   0.491 |                       0.537 |                   0.576 |                    0.585 | **0.650**                                 |      0.569 |"
     },
     "metadata": {},
     "output_type": "display_data"
    },
    {
     "name": "stderr",
     "output_type": "stream",
     "text": [
      "/tmp/ipykernel_17775/2331756451.py:30: FutureWarning: In future versions `DataFrame.to_latex` is expected to utilise the base implementation of `Styler.to_latex` for formatting and rendering. The arguments signature may therefore change. It is recommended instead to use `DataFrame.style.to_latex` which also contains additional functionality.\n",
      "  report_table.reset_index().to_latex(latex_file, index=False)\n"
     ]
    },
    {
     "data": {
      "text/plain": "<IPython.core.display.Markdown object>",
      "text/markdown": "## accuracy"
     },
     "metadata": {},
     "output_type": "display_data"
    },
    {
     "data": {
      "text/plain": "<IPython.core.display.Markdown object>",
      "text/markdown": "| model_name                                 |   title |   title and first paragraph |   title and 5 sentences |   title and 10 sentences | title and first sentence each paragraph   |   raw text |\n|:-------------------------------------------|--------:|----------------------------:|------------------------:|-------------------------:|:------------------------------------------|-----------:|\n| AshtonIsNotHere-xlm-roberta-long-base-4096 |   0.079 |                       0.211 |                   0.158 |                    0.211 | **0.237**                                 |      0.184 |"
     },
     "metadata": {},
     "output_type": "display_data"
    },
    {
     "name": "stderr",
     "output_type": "stream",
     "text": [
      "/tmp/ipykernel_17775/2331756451.py:30: FutureWarning: In future versions `DataFrame.to_latex` is expected to utilise the base implementation of `Styler.to_latex` for formatting and rendering. The arguments signature may therefore change. It is recommended instead to use `DataFrame.style.to_latex` which also contains additional functionality.\n",
      "  report_table.reset_index().to_latex(latex_file, index=False)\n"
     ]
    },
    {
     "data": {
      "text/plain": "<IPython.core.display.Markdown object>",
      "text/markdown": "# All 6 Languages"
     },
     "metadata": {},
     "output_type": "display_data"
    },
    {
     "data": {
      "text/plain": "<IPython.core.display.Markdown object>",
      "text/markdown": "## f1_micro"
     },
     "metadata": {},
     "output_type": "display_data"
    },
    {
     "data": {
      "text/plain": "<IPython.core.display.Markdown object>",
      "text/markdown": "| language   | model_name                                 |   title |   title and first paragraph |   title and 5 sentences |   title and 10 sentences | title and first sentence each paragraph   | raw text   |\n|:-----------|:-------------------------------------------|--------:|----------------------------:|------------------------:|-------------------------:|:------------------------------------------|:-----------|\n| en         | AshtonIsNotHere-xlm-roberta-long-base-4096 |   0.628 |                       0.679 |                   0.685 |                    0.688 | **0.704**                                 | 0.684      |\n| fr         | AshtonIsNotHere-xlm-roberta-long-base-4096 |   0.417 |                       0.461 |                   0.481 |                    0.502 | 0.526                                     | **0.537**  |\n| ge         | AshtonIsNotHere-xlm-roberta-long-base-4096 |   0.554 |                       0.589 |                   0.612 |                    0.619 | 0.618                                     | **0.669**  |\n| it         | AshtonIsNotHere-xlm-roberta-long-base-4096 |   0.542 |                       0.555 |                   0.548 |                    0.585 | 0.532                                     | **0.650**  |\n| po         | AshtonIsNotHere-xlm-roberta-long-base-4096 |   0.538 |                       0.591 |                   0.591 |                    0.628 | 0.621                                     | **0.711**  |\n| ru         | AshtonIsNotHere-xlm-roberta-long-base-4096 |   0.392 |                       0.471 |                   0.469 |                    0.503 | **0.534**                                 | 0.519      |"
     },
     "metadata": {},
     "output_type": "display_data"
    },
    {
     "name": "stderr",
     "output_type": "stream",
     "text": [
      "/tmp/ipykernel_17775/2331756451.py:60: FutureWarning: In future versions `DataFrame.to_latex` is expected to utilise the base implementation of `Styler.to_latex` for formatting and rendering. The arguments signature may therefore change. It is recommended instead to use `DataFrame.style.to_latex` which also contains additional functionality.\n",
      "  multi_language_report_table_metric.reset_index().to_latex(latex_file, index=False)\n"
     ]
    },
    {
     "data": {
      "text/plain": "<IPython.core.display.Markdown object>",
      "text/markdown": "## recall_micro"
     },
     "metadata": {},
     "output_type": "display_data"
    },
    {
     "data": {
      "text/plain": "<IPython.core.display.Markdown object>",
      "text/markdown": "| language   | model_name                                 |   title |   title and first paragraph |   title and 5 sentences | title and 10 sentences   |   title and first sentence each paragraph | raw text   |\n|:-----------|:-------------------------------------------|--------:|----------------------------:|------------------------:|:-------------------------|------------------------------------------:|:-----------|\n| en         | AshtonIsNotHere-xlm-roberta-long-base-4096 |   0.565 |                       0.619 |                   0.606 | **0.645**                |                                     0.643 | 0.638      |\n| fr         | AshtonIsNotHere-xlm-roberta-long-base-4096 |   0.357 |                       0.397 |                   0.413 | 0.468                    |                                     0.476 | **0.516**  |\n| ge         | AshtonIsNotHere-xlm-roberta-long-base-4096 |   0.494 |                       0.5   |                   0.547 | 0.552                    |                                     0.512 | **0.651**  |\n| it         | AshtonIsNotHere-xlm-roberta-long-base-4096 |   0.461 |                       0.47  |                   0.461 | 0.487                    |                                     0.435 | **0.570**  |\n| po         | AshtonIsNotHere-xlm-roberta-long-base-4096 |   0.466 |                       0.529 |                   0.534 | 0.529                    |                                     0.524 | **0.626**  |\n| ru         | AshtonIsNotHere-xlm-roberta-long-base-4096 |   0.326 |                       0.419 |                   0.395 | 0.442                    |                                     0.453 | **0.477**  |"
     },
     "metadata": {},
     "output_type": "display_data"
    },
    {
     "name": "stderr",
     "output_type": "stream",
     "text": [
      "/tmp/ipykernel_17775/2331756451.py:60: FutureWarning: In future versions `DataFrame.to_latex` is expected to utilise the base implementation of `Styler.to_latex` for formatting and rendering. The arguments signature may therefore change. It is recommended instead to use `DataFrame.style.to_latex` which also contains additional functionality.\n",
      "  multi_language_report_table_metric.reset_index().to_latex(latex_file, index=False)\n"
     ]
    },
    {
     "data": {
      "text/plain": "<IPython.core.display.Markdown object>",
      "text/markdown": "## precision_micro"
     },
     "metadata": {},
     "output_type": "display_data"
    },
    {
     "data": {
      "text/plain": "<IPython.core.display.Markdown object>",
      "text/markdown": "| language   | model_name                                 |   title |   title and first paragraph | title and 5 sentences   |   title and 10 sentences | title and first sentence each paragraph   | raw text   |\n|:-----------|:-------------------------------------------|--------:|----------------------------:|:------------------------|-------------------------:|:------------------------------------------|:-----------|\n| en         | AshtonIsNotHere-xlm-roberta-long-base-4096 |   0.706 |                       0.753 | **0.787**               |                    0.737 | 0.778                                     | 0.737      |\n| fr         | AshtonIsNotHere-xlm-roberta-long-base-4096 |   0.5   |                       0.549 | 0.578                   |                    0.541 | **0.588**                                 | 0.560      |\n| ge         | AshtonIsNotHere-xlm-roberta-long-base-4096 |   0.63  |                       0.717 | 0.696                   |                    0.704 | **0.779**                                 | 0.687      |\n| it         | AshtonIsNotHere-xlm-roberta-long-base-4096 |   0.658 |                       0.679 | 0.675                   |                    0.732 | 0.685                                     | **0.757**  |\n| po         | AshtonIsNotHere-xlm-roberta-long-base-4096 |   0.636 |                       0.669 | 0.663                   |                    0.773 | 0.761                                     | **0.822**  |\n| ru         | AshtonIsNotHere-xlm-roberta-long-base-4096 |   0.491 |                       0.537 | 0.576                   |                    0.585 | **0.650**                                 | 0.569      |"
     },
     "metadata": {},
     "output_type": "display_data"
    },
    {
     "name": "stderr",
     "output_type": "stream",
     "text": [
      "/tmp/ipykernel_17775/2331756451.py:60: FutureWarning: In future versions `DataFrame.to_latex` is expected to utilise the base implementation of `Styler.to_latex` for formatting and rendering. The arguments signature may therefore change. It is recommended instead to use `DataFrame.style.to_latex` which also contains additional functionality.\n",
      "  multi_language_report_table_metric.reset_index().to_latex(latex_file, index=False)\n"
     ]
    },
    {
     "data": {
      "text/plain": "<IPython.core.display.Markdown object>",
      "text/markdown": "## accuracy"
     },
     "metadata": {},
     "output_type": "display_data"
    },
    {
     "data": {
      "text/plain": "<IPython.core.display.Markdown object>",
      "text/markdown": "| language   | model_name                                 |   title | title and first paragraph   |   title and 5 sentences | title and 10 sentences   | title and first sentence each paragraph   | raw text   |\n|:-----------|:-------------------------------------------|--------:|:----------------------------|------------------------:|:-------------------------|:------------------------------------------|:-----------|\n| en         | AshtonIsNotHere-xlm-roberta-long-base-4096 |   0.068 | 0.097                       |                   0.117 | 0.097                    | **0.126**                                 | 0.097      |\n| fr         | AshtonIsNotHere-xlm-roberta-long-base-4096 |   0.071 | 0.095                       |                   0.095 | 0.024                    | **0.119**                                 | 0.071      |\n| ge         | AshtonIsNotHere-xlm-roberta-long-base-4096 |   0     | **0.029**                   |                   0     | 0.000                    | 0.000                                     | **0.029**  |\n| it         | AshtonIsNotHere-xlm-roberta-long-base-4096 |   0.083 | 0.117                       |                   0.133 | 0.133                    | 0.117                                     | **0.167**  |\n| po         | AshtonIsNotHere-xlm-roberta-long-base-4096 |   0.026 | 0.026                       |                   0.026 | **0.051**                | 0.026                                     | **0.051**  |\n| ru         | AshtonIsNotHere-xlm-roberta-long-base-4096 |   0.079 | 0.211                       |                   0.158 | 0.211                    | **0.237**                                 | 0.184      |"
     },
     "metadata": {},
     "output_type": "display_data"
    },
    {
     "name": "stderr",
     "output_type": "stream",
     "text": [
      "/tmp/ipykernel_17775/2331756451.py:60: FutureWarning: In future versions `DataFrame.to_latex` is expected to utilise the base implementation of `Styler.to_latex` for formatting and rendering. The arguments signature may therefore change. It is recommended instead to use `DataFrame.style.to_latex` which also contains additional functionality.\n",
      "  multi_language_report_table_metric.reset_index().to_latex(latex_file, index=False)\n"
     ]
    }
   ],
   "source": [
    "display_metrics_and_write_to_file(df=results_df, grouping_criterion=['model_name'], output_dir='per_model_name_tables')"
   ]
  }
 ],
 "metadata": {
  "kernelspec": {
   "display_name": "Python 3 (ipykernel)",
   "language": "python",
   "name": "python3"
  },
  "language_info": {
   "codemirror_mode": {
    "name": "ipython",
    "version": 3
   },
   "file_extension": ".py",
   "mimetype": "text/x-python",
   "name": "python",
   "nbconvert_exporter": "python",
   "pygments_lexer": "ipython3",
   "version": "3.9.13"
  }
 },
 "nbformat": 4,
 "nbformat_minor": 5
}
