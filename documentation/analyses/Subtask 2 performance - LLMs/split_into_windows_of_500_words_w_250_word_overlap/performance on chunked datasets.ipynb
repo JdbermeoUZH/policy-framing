{
 "cells": [
  {
   "cell_type": "code",
   "execution_count": 14,
   "id": "ac7fd1c8-16ff-43f2-a049-a27d37ea2653",
   "metadata": {},
   "outputs": [],
   "source": [
    "import os\n",
    "import glob\n",
    "\n",
    "from IPython.display import display, Markdown\n",
    "import pandas as pd"
   ]
  },
  {
   "cell_type": "markdown",
   "source": [
    "# Fix Nan error in std measured for the metrics (use the prdicted scores recorded)"
   ],
   "metadata": {
    "collapsed": false
   }
  },
  {
   "cell_type": "code",
   "execution_count": 18,
   "outputs": [],
   "source": [
    "model_results_dir = glob.glob('./logged_performance_per_model/*')"
   ],
   "metadata": {
    "collapsed": false
   }
  },
  {
   "cell_type": "code",
   "execution_count": 26,
   "outputs": [],
   "source": [
    "for model_dir in model_results_dir:\n",
    "    prediction_filepaths = glob.glob(f'{model_dir}/prediction_scores/*.csv')\n",
    "\n",
    "    for prediction_filepath in prediction_filepaths:\n",
    "        analysis_unit = 2\n",
    "        break\n",
    "    break"
   ],
   "metadata": {
    "collapsed": false
   }
  },
  {
   "cell_type": "code",
   "execution_count": 27,
   "outputs": [
    {
     "data": {
      "text/plain": "'./logged_performance_per_model/distilbert-base-multilingual-cased/prediction_scores/multilingual_fit_chunked_pred_scores_test_fold_3_po.csv'"
     },
     "execution_count": 27,
     "metadata": {},
     "output_type": "execute_result"
    }
   ],
   "source": [
    "prediction_filepath.split('/')[-1].split()"
   ],
   "metadata": {
    "collapsed": false
   }
  },
  {
   "cell_type": "code",
   "execution_count": 15,
   "outputs": [],
   "source": [
    "pred_scores = glob.glob('./logged_performance_per_model/*/prediction_scores/*.csv')"
   ],
   "metadata": {
    "collapsed": false
   }
  },
  {
   "cell_type": "code",
   "execution_count": 24,
   "outputs": [
    {
     "data": {
      "text/plain": "              0         1         2         3         4         5         6  \\\nid                                                                            \n241    0.000029  0.340945  0.000147  0.115598  0.000210  0.002918  0.004900   \n243    0.000980  0.102169  0.000108  0.000400  0.000049  0.000352  0.000045   \n2413   0.070560  0.000855  0.000172  0.975025  0.017289  0.036765  0.008565   \n2413   0.000135  0.128284  0.070594  0.040483  0.000840  0.000268  0.000433   \n2415   0.003161  0.045200  0.000372  0.000074  0.005121  0.000032  0.000032   \n...         ...       ...       ...       ...       ...       ...       ...   \n24178  0.000434  0.008445  0.003384  0.000294  0.010663  0.000001  0.000012   \n24181  0.504213  0.001882  0.000006  0.087540  0.004176  0.000025  0.015292   \n24184  0.000492  0.003698  0.001255  0.682195  0.074103  0.000775  0.000134   \n24185  0.001283  0.000091  0.000879  0.000773  0.007437  0.000006  0.000056   \n24191  0.000160  0.002819  0.000032  0.358358  0.041466  0.020379  0.000249   \n\n              7         8         9        10        11        12        13  \nid                                                                           \n241    0.017213  0.002128  0.000176  0.060845  0.000742  0.027296  0.001883  \n243    0.001222  0.001895  0.000819  0.003158  0.000147  0.000428  0.468434  \n2413   0.004318  0.001351  0.000425  0.006484  0.085441  0.054763  0.034473  \n2413   0.032315  0.094752  0.000014  0.004483  0.002199  0.000221  0.006018  \n2415   0.000117  0.000129  0.000270  0.002908  0.000059  0.000053  0.997557  \n...         ...       ...       ...       ...       ...       ...       ...  \n24178  0.000010  0.000159  0.000418  0.394627  0.002071  0.000007  0.957648  \n24181  0.003656  0.016812  0.000597  0.878793  0.008567  0.010542  0.045125  \n24184  0.000294  0.043057  0.000085  0.002233  0.000215  0.013227  0.000047  \n24185  0.000546  0.003145  0.000007  0.004051  0.000377  0.000048  0.002689  \n24191  0.000310  0.141013  0.000555  0.008745  0.001086  0.000230  0.001255  \n\n[129 rows x 14 columns]",
      "text/html": "<div>\n<style scoped>\n    .dataframe tbody tr th:only-of-type {\n        vertical-align: middle;\n    }\n\n    .dataframe tbody tr th {\n        vertical-align: top;\n    }\n\n    .dataframe thead th {\n        text-align: right;\n    }\n</style>\n<table border=\"1\" class=\"dataframe\">\n  <thead>\n    <tr style=\"text-align: right;\">\n      <th></th>\n      <th>0</th>\n      <th>1</th>\n      <th>2</th>\n      <th>3</th>\n      <th>4</th>\n      <th>5</th>\n      <th>6</th>\n      <th>7</th>\n      <th>8</th>\n      <th>9</th>\n      <th>10</th>\n      <th>11</th>\n      <th>12</th>\n      <th>13</th>\n    </tr>\n    <tr>\n      <th>id</th>\n      <th></th>\n      <th></th>\n      <th></th>\n      <th></th>\n      <th></th>\n      <th></th>\n      <th></th>\n      <th></th>\n      <th></th>\n      <th></th>\n      <th></th>\n      <th></th>\n      <th></th>\n      <th></th>\n    </tr>\n  </thead>\n  <tbody>\n    <tr>\n      <th>241</th>\n      <td>0.000029</td>\n      <td>0.340945</td>\n      <td>0.000147</td>\n      <td>0.115598</td>\n      <td>0.000210</td>\n      <td>0.002918</td>\n      <td>0.004900</td>\n      <td>0.017213</td>\n      <td>0.002128</td>\n      <td>0.000176</td>\n      <td>0.060845</td>\n      <td>0.000742</td>\n      <td>0.027296</td>\n      <td>0.001883</td>\n    </tr>\n    <tr>\n      <th>243</th>\n      <td>0.000980</td>\n      <td>0.102169</td>\n      <td>0.000108</td>\n      <td>0.000400</td>\n      <td>0.000049</td>\n      <td>0.000352</td>\n      <td>0.000045</td>\n      <td>0.001222</td>\n      <td>0.001895</td>\n      <td>0.000819</td>\n      <td>0.003158</td>\n      <td>0.000147</td>\n      <td>0.000428</td>\n      <td>0.468434</td>\n    </tr>\n    <tr>\n      <th>2413</th>\n      <td>0.070560</td>\n      <td>0.000855</td>\n      <td>0.000172</td>\n      <td>0.975025</td>\n      <td>0.017289</td>\n      <td>0.036765</td>\n      <td>0.008565</td>\n      <td>0.004318</td>\n      <td>0.001351</td>\n      <td>0.000425</td>\n      <td>0.006484</td>\n      <td>0.085441</td>\n      <td>0.054763</td>\n      <td>0.034473</td>\n    </tr>\n    <tr>\n      <th>2413</th>\n      <td>0.000135</td>\n      <td>0.128284</td>\n      <td>0.070594</td>\n      <td>0.040483</td>\n      <td>0.000840</td>\n      <td>0.000268</td>\n      <td>0.000433</td>\n      <td>0.032315</td>\n      <td>0.094752</td>\n      <td>0.000014</td>\n      <td>0.004483</td>\n      <td>0.002199</td>\n      <td>0.000221</td>\n      <td>0.006018</td>\n    </tr>\n    <tr>\n      <th>2415</th>\n      <td>0.003161</td>\n      <td>0.045200</td>\n      <td>0.000372</td>\n      <td>0.000074</td>\n      <td>0.005121</td>\n      <td>0.000032</td>\n      <td>0.000032</td>\n      <td>0.000117</td>\n      <td>0.000129</td>\n      <td>0.000270</td>\n      <td>0.002908</td>\n      <td>0.000059</td>\n      <td>0.000053</td>\n      <td>0.997557</td>\n    </tr>\n    <tr>\n      <th>...</th>\n      <td>...</td>\n      <td>...</td>\n      <td>...</td>\n      <td>...</td>\n      <td>...</td>\n      <td>...</td>\n      <td>...</td>\n      <td>...</td>\n      <td>...</td>\n      <td>...</td>\n      <td>...</td>\n      <td>...</td>\n      <td>...</td>\n      <td>...</td>\n    </tr>\n    <tr>\n      <th>24178</th>\n      <td>0.000434</td>\n      <td>0.008445</td>\n      <td>0.003384</td>\n      <td>0.000294</td>\n      <td>0.010663</td>\n      <td>0.000001</td>\n      <td>0.000012</td>\n      <td>0.000010</td>\n      <td>0.000159</td>\n      <td>0.000418</td>\n      <td>0.394627</td>\n      <td>0.002071</td>\n      <td>0.000007</td>\n      <td>0.957648</td>\n    </tr>\n    <tr>\n      <th>24181</th>\n      <td>0.504213</td>\n      <td>0.001882</td>\n      <td>0.000006</td>\n      <td>0.087540</td>\n      <td>0.004176</td>\n      <td>0.000025</td>\n      <td>0.015292</td>\n      <td>0.003656</td>\n      <td>0.016812</td>\n      <td>0.000597</td>\n      <td>0.878793</td>\n      <td>0.008567</td>\n      <td>0.010542</td>\n      <td>0.045125</td>\n    </tr>\n    <tr>\n      <th>24184</th>\n      <td>0.000492</td>\n      <td>0.003698</td>\n      <td>0.001255</td>\n      <td>0.682195</td>\n      <td>0.074103</td>\n      <td>0.000775</td>\n      <td>0.000134</td>\n      <td>0.000294</td>\n      <td>0.043057</td>\n      <td>0.000085</td>\n      <td>0.002233</td>\n      <td>0.000215</td>\n      <td>0.013227</td>\n      <td>0.000047</td>\n    </tr>\n    <tr>\n      <th>24185</th>\n      <td>0.001283</td>\n      <td>0.000091</td>\n      <td>0.000879</td>\n      <td>0.000773</td>\n      <td>0.007437</td>\n      <td>0.000006</td>\n      <td>0.000056</td>\n      <td>0.000546</td>\n      <td>0.003145</td>\n      <td>0.000007</td>\n      <td>0.004051</td>\n      <td>0.000377</td>\n      <td>0.000048</td>\n      <td>0.002689</td>\n    </tr>\n    <tr>\n      <th>24191</th>\n      <td>0.000160</td>\n      <td>0.002819</td>\n      <td>0.000032</td>\n      <td>0.358358</td>\n      <td>0.041466</td>\n      <td>0.020379</td>\n      <td>0.000249</td>\n      <td>0.000310</td>\n      <td>0.141013</td>\n      <td>0.000555</td>\n      <td>0.008745</td>\n      <td>0.001086</td>\n      <td>0.000230</td>\n      <td>0.001255</td>\n    </tr>\n  </tbody>\n</table>\n<p>129 rows × 14 columns</p>\n</div>"
     },
     "execution_count": 24,
     "metadata": {},
     "output_type": "execute_result"
    }
   ],
   "source": [
    "a = pd.read_csv( './logged_performance_per_model/EleutherAI-gpt-neo-125M/prediction_scores/multilingual_fit_chunked_pred_scores_test_fold_2_ru.csv', index_col='id')\n",
    "a"
   ],
   "metadata": {
    "collapsed": false
   }
  },
  {
   "cell_type": "markdown",
   "id": "0e3de210-17ae-42af-a361-fff5a0f66735",
   "metadata": {},
   "source": [
    "# Group types of models (experiment type and model type) and pick best performing in terms of f1-score per unit of analysis and report them in a table\n"
   ]
  },
  {
   "cell_type": "code",
   "execution_count": null,
   "id": "fd704f0c-6f9a-47d2-b05b-150230e363d7",
   "metadata": {},
   "outputs": [],
   "source": [
    "results_filepaths_mean_pred = glob.glob('./logged_performance_per_model/*/*agg_mean*.csv')\n",
    "results_filepaths_majority_pred = glob.glob('./logged_performance_per_model/*/*agg_majority*.csv')"
   ]
  },
  {
   "cell_type": "code",
   "execution_count": null,
   "outputs": [],
   "source": [
    "def conantenate_results(filepath_list):\n",
    "    dfs_list = []\n",
    "    for results_filepath in filepath_list:\n",
    "        model_name = results_filepath.split('/')[-2]\n",
    "        results_df_i = pd.read_csv(results_filepath)\n",
    "        results_df_i['model_name'] = model_name\n",
    "        dfs_list.append(results_df_i)\n",
    "\n",
    "    results_df_ = pd.concat(dfs_list).set_index(['language', 'model_name', 'unit_of_analysis']).sort_index()\n",
    "    results_df_.rename(columns={'f1-mico_mean': 'f1-micro_mean', 'f1-mico_std': 'f1-micro_std'}, inplace=True)\n",
    "\n",
    "    return results_df_"
   ],
   "metadata": {
    "collapsed": false
   }
  },
  {
   "cell_type": "code",
   "execution_count": null,
   "outputs": [],
   "source": [
    "results_mean_pred_df = conantenate_results(results_filepaths_mean_pred)\n",
    "results_majority_vote_pred_df = conantenate_results(results_filepaths_majority_pred)"
   ],
   "metadata": {
    "collapsed": false
   }
  },
  {
   "cell_type": "markdown",
   "id": "6a452c68-3d2e-43a1-b820-a7688df2cd33",
   "metadata": {
    "tags": []
   },
   "source": [
    "### Generate the tables to report"
   ]
  },
  {
   "cell_type": "code",
   "execution_count": null,
   "id": "9c97b164-c359-40ea-b974-a0dc65c1db60",
   "metadata": {},
   "outputs": [],
   "source": [
    "def display_performance_table(df, metric, index_cols=['model_name'], display_=True):\n",
    "    report_table = df.reset_index().copy()\n",
    "    report_table['result'] = report_table[f'{metric}_mean'].map(lambda x: f'{x:.2f}') + \\\n",
    "    ' $\\pm$ ' + report_table[f'{metric}_std'].map(lambda x: f'{x:.2f}')\n",
    "    report_table['col_title'] = report_table.unit_of_analysis.str.split('_').str.join(' ') \n",
    "    report_table['col_title'] = pd.Categorical(\n",
    "        report_table.col_title,\n",
    "        categories=['title', 'title and first paragraph', 'title and 5 sentences', 'title and 10 sentences',\n",
    "                    'title and first sentence each paragraph', 'raw text'],\n",
    "        ordered=True)\n",
    "    report_table = report_table[index_cols + ['col_title', 'result']]\\\n",
    "        .pivot_table(index=index_cols, columns=['col_title'], values=['result'], aggfunc='first', fill_value=0)\\\n",
    "        .droplevel(0, axis=1)\n",
    "\n",
    "    report_table.columns.names = [None]\n",
    "\n",
    "    # Highlight best scoring models according to their average\n",
    "    mean_perf_arr = report_table.applymap(lambda x: float(str(x).split(' ')[0])).to_numpy()\n",
    "    highlight_mask = mean_perf_arr == mean_perf_arr.max()\n",
    "    report_table_arr = report_table.to_numpy()  # Note it passes the array by reference\n",
    "    report_table_arr[highlight_mask] = '**' + report_table_arr[highlight_mask] + '**'\n",
    "\n",
    "    if display_:\n",
    "        display(Markdown(report_table.to_markdown()))\n",
    "    \n",
    "    return report_table"
   ]
  },
  {
   "cell_type": "markdown",
   "id": "6f14e8da-1acf-4114-9cfd-eeaa97261f68",
   "metadata": {},
   "source": [
    "### Generate tables for all languages"
   ]
  },
  {
   "cell_type": "code",
   "execution_count": null,
   "id": "bea51df3-87ed-4ace-ad56-25d235b5cd65",
   "metadata": {},
   "outputs": [],
   "source": [
    "metrics_to_report = ['f1-micro', 'recall-micro', 'precision-micro', 'roc-auc', 'accuracy']"
   ]
  },
  {
   "cell_type": "code",
   "execution_count": null,
   "id": "1650fa17-5ccc-439a-9818-d61bf369ca1a",
   "metadata": {},
   "outputs": [],
   "source": [
    "language_dict = {'en': 'English', 'it': 'Italian', 'fr': 'French', 'po': 'Polish', 'ru': 'Russian', 'ge': 'German'}"
   ]
  },
  {
   "cell_type": "code",
   "execution_count": null,
   "id": "143ecba4-ffb9-45e9-869c-87d16caea017",
   "metadata": {
    "tags": []
   },
   "outputs": [],
   "source": [
    "def display_metrics_and_write_to_file(df, grouping_criterion, output_dir):\n",
    "    os.makedirs(output_dir, exist_ok=True)\n",
    "    report_tables_dfs_dict = {metric: [] for metric in metrics_to_report}\n",
    "\n",
    "    for language, results_df in df.groupby(level=0):\n",
    "        display(Markdown(f'# {language_dict[language]}'))\n",
    "        \n",
    "        for metric in metrics_to_report:\n",
    "            os.makedirs(os.path.join(output_dir, metric), exist_ok=True)\n",
    "\n",
    "            output_dir_markdown = os.path.join(output_dir, metric, 'markdown')\n",
    "            output_dir_latex = os.path.join(output_dir, metric, 'latex')\n",
    "            output_dir_csv = os.path.join(output_dir, metric, 'csv')\n",
    "\n",
    "            os.makedirs(output_dir_markdown, exist_ok=True)\n",
    "            os.makedirs(output_dir_latex, exist_ok=True)\n",
    "            os.makedirs(output_dir_csv, exist_ok=True)\n",
    "\n",
    "            display(Markdown(f'## {metric}'))\n",
    "\n",
    "            report_table = display_performance_table(df=results_df, index_cols=grouping_criterion, metric=metric, display_=True)\n",
    "\n",
    "            # Export as markdown\n",
    "            markdown_file = open(os.path.join(output_dir_markdown, f\"{language_dict[language]}_{metric}.md\"), \"w\")\n",
    "            report_table.reset_index().to_markdown(markdown_file, index=False)\n",
    "            markdown_file.close()\n",
    "\n",
    "            # Export as latex table\n",
    "            latex_file = open(os.path.join(output_dir_latex, f\"{language_dict[language]}_{metric}.tex\"), \"w\")\n",
    "            report_table.reset_index().to_latex(latex_file, index=False)\n",
    "            latex_file.close()\n",
    "\n",
    "            # Export as csv\n",
    "            report_table.to_csv(os.path.join(output_dir_csv, f\"{language_dict[language]}_{metric}.csv\"))\n",
    "\n",
    "            # Stack all languages into single table\n",
    "            report_table['language'] = language\n",
    "            report_table = report_table.reset_index().set_index(['language'] + grouping_criterion)\n",
    "\n",
    "            report_tables_dfs_dict[metric].append(report_table)\n",
    "\n",
    "    # Report or store unified table\n",
    "    display(Markdown(f'# All 6 Languages'))\n",
    "    for metric in metrics_to_report:\n",
    "        display(Markdown(f'## {metric}'))\n",
    "        multi_language_report_table_metric = pd.concat(report_tables_dfs_dict[metric])\n",
    "        display(Markdown(multi_language_report_table_metric.reset_index().to_markdown(index=False)))\n",
    "\n",
    "        output_dir_markdown = os.path.join(output_dir, metric, 'markdown')\n",
    "        output_dir_latex = os.path.join(output_dir, metric, 'latex')\n",
    "        output_dir_csv = os.path.join(output_dir, metric, 'csv')\n",
    "\n",
    "        # Export as markdown\n",
    "        markdown_file = open(os.path.join(output_dir_markdown, f\"all_6_languages_{metric}.md\"), \"w\")\n",
    "        multi_language_report_table_metric.reset_index().to_markdown(markdown_file, index=False)\n",
    "        markdown_file.close()\n",
    "\n",
    "        # Export as latex table\n",
    "        latex_file = open(os.path.join(output_dir_latex, f\"all_6_languages_{metric}.tex\"), \"w\")\n",
    "        multi_language_report_table_metric.reset_index().to_latex(latex_file, index=False)\n",
    "        latex_file.close()\n",
    "\n",
    "        # Export as csv\n",
    "        multi_language_report_table_metric.to_csv(os.path.join(output_dir_csv, f\"all_6_languages_{metric}.csv\"))"
   ]
  },
  {
   "cell_type": "markdown",
   "id": "2f01d754-49ba-4c74-8220-2e144f624044",
   "metadata": {},
   "source": [
    "# Per model type"
   ]
  },
  {
   "cell_type": "code",
   "execution_count": null,
   "id": "e5abb824-f93a-44fd-8203-a0b84224b0fa",
   "metadata": {
    "tags": []
   },
   "outputs": [],
   "source": [
    "display_metrics_and_write_to_file(df=results_mean_pred_df, grouping_criterion=['model_name'], output_dir='per_model_name_tables_mean_prediction')"
   ]
  },
  {
   "cell_type": "code",
   "execution_count": null,
   "outputs": [],
   "source": [
    "display_metrics_and_write_to_file(df=results_majority_vote_pred_df, grouping_criterion=['model_name'], output_dir='per_model_name_tables_majority_voting')"
   ],
   "metadata": {
    "collapsed": false
   }
  }
 ],
 "metadata": {
  "kernelspec": {
   "display_name": "Python 3 (ipykernel)",
   "language": "python",
   "name": "python3"
  },
  "language_info": {
   "codemirror_mode": {
    "name": "ipython",
    "version": 3
   },
   "file_extension": ".py",
   "mimetype": "text/x-python",
   "name": "python",
   "nbconvert_exporter": "python",
   "pygments_lexer": "ipython3",
   "version": "3.9.13"
  }
 },
 "nbformat": 4,
 "nbformat_minor": 5
}
