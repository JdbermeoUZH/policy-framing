{
 "cells": [
  {
   "cell_type": "code",
   "execution_count": 1,
   "id": "ac7fd1c8-16ff-43f2-a049-a27d37ea2653",
   "metadata": {},
   "outputs": [],
   "source": [
    "import os\n",
    "import glob\n",
    "\n",
    "from IPython.display import display, Markdown\n",
    "import pandas as pd"
   ]
  },
  {
   "cell_type": "markdown",
   "id": "0e3de210-17ae-42af-a361-fff5a0f66735",
   "metadata": {},
   "source": [
    "# Group types of models (experiment type and model type) and pick best performing in terms of f1-score per unit of analysis and report them in a table\n"
   ]
  },
  {
   "cell_type": "code",
   "execution_count": 2,
   "id": "fd704f0c-6f9a-47d2-b05b-150230e363d7",
   "metadata": {},
   "outputs": [],
   "source": [
    "results_filepaths = glob.glob('./logged_performance_per_model/*/*agg*.csv')"
   ]
  },
  {
   "cell_type": "code",
   "execution_count": 3,
   "outputs": [
    {
     "data": {
      "text/plain": "['./logged_performance_per_model/AshtonIsNotHere-xlm-roberta-long-base-4096/multilingual_fit_trunc_512_tokens_agg_AshtonIsNotHere_xlm-roberta-long-base-4096-title_and_first_paragraph_metrics.csv',\n './logged_performance_per_model/AshtonIsNotHere-xlm-roberta-long-base-4096/multilingual_fit_trunc_512_tokens_agg_AshtonIsNotHere_xlm-roberta-long-base-4096-title_and_5_sentences_metrics.csv',\n './logged_performance_per_model/AshtonIsNotHere-xlm-roberta-long-base-4096/multilingual_fit_trunc_512_tokens_agg_AshtonIsNotHere_xlm-roberta-long-base-4096-title_metrics.csv',\n './logged_performance_per_model/AshtonIsNotHere-xlm-roberta-long-base-4096/multilingual_fit_trunc_512_tokens_agg_AshtonIsNotHere_xlm-roberta-long-base-4096-raw_text_metrics.csv',\n './logged_performance_per_model/AshtonIsNotHere-xlm-roberta-long-base-4096/multilingual_fit_trunc_512_tokens_agg_AshtonIsNotHere_xlm-roberta-long-base-4096-title_and_first_sentence_each_paragraph_metrics.csv',\n './logged_performance_per_model/AshtonIsNotHere-xlm-roberta-long-base-4096/multilingual_fit_trunc_512_tokens_agg_AshtonIsNotHere_xlm-roberta-long-base-4096-title_and_10_sentences_metrics.csv']"
     },
     "execution_count": 3,
     "metadata": {},
     "output_type": "execute_result"
    }
   ],
   "source": [
    "results_filepaths"
   ],
   "metadata": {
    "collapsed": false
   }
  },
  {
   "cell_type": "code",
   "execution_count": 4,
   "outputs": [
    {
     "data": {
      "text/plain": "                                                                                             f1-micro_mean  \\\nlanguage model_name                                 unit_of_analysis                                         \nen       AshtonIsNotHere-xlm-roberta-long-base-4096 raw_text                                      0.700232   \n                                                    title                                         0.640544   \n                                                    title_and_10_sentences                        0.698109   \n                                                    title_and_5_sentences                         0.685517   \n                                                    title_and_first_paragraph                     0.683085   \n                                                    title_and_first_sentence_each_paragraph       0.690757   \nfr       AshtonIsNotHere-xlm-roberta-long-base-4096 raw_text                                      0.567744   \n                                                    title                                         0.485518   \n                                                    title_and_10_sentences                        0.546452   \n                                                    title_and_5_sentences                         0.531221   \n                                                    title_and_first_paragraph                     0.539356   \n                                                    title_and_first_sentence_each_paragraph       0.562919   \nge       AshtonIsNotHere-xlm-roberta-long-base-4096 raw_text                                      0.658114   \n                                                    title                                         0.481710   \n                                                    title_and_10_sentences                        0.603854   \n                                                    title_and_5_sentences                         0.594598   \n                                                    title_and_first_paragraph                     0.577792   \n                                                    title_and_first_sentence_each_paragraph       0.607281   \nit       AshtonIsNotHere-xlm-roberta-long-base-4096 raw_text                                      0.612195   \n                                                    title                                         0.473615   \n                                                    title_and_10_sentences                        0.572918   \n                                                    title_and_5_sentences                         0.552236   \n                                                    title_and_first_paragraph                     0.522629   \n                                                    title_and_first_sentence_each_paragraph       0.559655   \npo       AshtonIsNotHere-xlm-roberta-long-base-4096 raw_text                                      0.669834   \n                                                    title                                         0.513491   \n                                                    title_and_10_sentences                        0.635858   \n                                                    title_and_5_sentences                         0.610558   \n                                                    title_and_first_paragraph                     0.583600   \n                                                    title_and_first_sentence_each_paragraph       0.637180   \nru       AshtonIsNotHere-xlm-roberta-long-base-4096 raw_text                                      0.534972   \n                                                    title                                         0.395327   \n                                                    title_and_10_sentences                        0.474459   \n                                                    title_and_5_sentences                         0.501664   \n                                                    title_and_first_paragraph                     0.463473   \n                                                    title_and_first_sentence_each_paragraph       0.488408   \n\n                                                                                             f1-micro_std  \\\nlanguage model_name                                 unit_of_analysis                                        \nen       AshtonIsNotHere-xlm-roberta-long-base-4096 raw_text                                     0.017693   \n                                                    title                                        0.016595   \n                                                    title_and_10_sentences                       0.018925   \n                                                    title_and_5_sentences                        0.014000   \n                                                    title_and_first_paragraph                    0.011545   \n                                                    title_and_first_sentence_each_paragraph      0.017427   \nfr       AshtonIsNotHere-xlm-roberta-long-base-4096 raw_text                                     0.025649   \n                                                    title                                        0.021662   \n                                                    title_and_10_sentences                       0.016293   \n                                                    title_and_5_sentences                        0.022245   \n                                                    title_and_first_paragraph                    0.030282   \n                                                    title_and_first_sentence_each_paragraph      0.023132   \nge       AshtonIsNotHere-xlm-roberta-long-base-4096 raw_text                                     0.001306   \n                                                    title                                        0.052231   \n                                                    title_and_10_sentences                       0.007190   \n                                                    title_and_5_sentences                        0.020215   \n                                                    title_and_first_paragraph                    0.019728   \n                                                    title_and_first_sentence_each_paragraph      0.016786   \nit       AshtonIsNotHere-xlm-roberta-long-base-4096 raw_text                                     0.047880   \n                                                    title                                        0.035123   \n                                                    title_and_10_sentences                       0.037349   \n                                                    title_and_5_sentences                        0.012114   \n                                                    title_and_first_paragraph                    0.048530   \n                                                    title_and_first_sentence_each_paragraph      0.040672   \npo       AshtonIsNotHere-xlm-roberta-long-base-4096 raw_text                                     0.012217   \n                                                    title                                        0.028432   \n                                                    title_and_10_sentences                       0.019076   \n                                                    title_and_5_sentences                        0.014343   \n                                                    title_and_first_paragraph                    0.028596   \n                                                    title_and_first_sentence_each_paragraph      0.015941   \nru       AshtonIsNotHere-xlm-roberta-long-base-4096 raw_text                                     0.012050   \n                                                    title                                        0.058352   \n                                                    title_and_10_sentences                       0.021087   \n                                                    title_and_5_sentences                        0.060664   \n                                                    title_and_first_paragraph                    0.046791   \n                                                    title_and_first_sentence_each_paragraph      0.011606   \n\n                                                                                             precision-micro_mean  \\\nlanguage model_name                                 unit_of_analysis                                                \nen       AshtonIsNotHere-xlm-roberta-long-base-4096 raw_text                                             0.761467   \n                                                    title                                                0.701902   \n                                                    title_and_10_sentences                               0.759254   \n                                                    title_and_5_sentences                                0.743276   \n                                                    title_and_first_paragraph                            0.737381   \n                                                    title_and_first_sentence_each_paragraph              0.754040   \nfr       AshtonIsNotHere-xlm-roberta-long-base-4096 raw_text                                             0.640610   \n                                                    title                                                0.570946   \n                                                    title_and_10_sentences                               0.617749   \n                                                    title_and_5_sentences                                0.607852   \n                                                    title_and_first_paragraph                            0.628561   \n                                                    title_and_first_sentence_each_paragraph              0.646810   \nge       AshtonIsNotHere-xlm-roberta-long-base-4096 raw_text                                             0.730018   \n                                                    title                                                0.590813   \n                                                    title_and_10_sentences                               0.676591   \n                                                    title_and_5_sentences                                0.671363   \n                                                    title_and_first_paragraph                            0.640463   \n                                                    title_and_first_sentence_each_paragraph              0.676769   \nit       AshtonIsNotHere-xlm-roberta-long-base-4096 raw_text                                             0.656173   \n                                                    title                                                0.577392   \n                                                    title_and_10_sentences                               0.625061   \n                                                    title_and_5_sentences                                0.630771   \n                                                    title_and_first_paragraph                            0.604855   \n                                                    title_and_first_sentence_each_paragraph              0.638994   \npo       AshtonIsNotHere-xlm-roberta-long-base-4096 raw_text                                             0.724459   \n                                                    title                                                0.604448   \n                                                    title_and_10_sentences                               0.699975   \n                                                    title_and_5_sentences                                0.678991   \n                                                    title_and_first_paragraph                            0.640895   \n                                                    title_and_first_sentence_each_paragraph              0.725053   \nru       AshtonIsNotHere-xlm-roberta-long-base-4096 raw_text                                             0.626496   \n                                                    title                                                0.476394   \n                                                    title_and_10_sentences                               0.573272   \n                                                    title_and_5_sentences                                0.602481   \n                                                    title_and_first_paragraph                            0.548480   \n                                                    title_and_first_sentence_each_paragraph              0.616178   \n\n                                                                                             precision-micro_std  \\\nlanguage model_name                                 unit_of_analysis                                               \nen       AshtonIsNotHere-xlm-roberta-long-base-4096 raw_text                                            0.023577   \n                                                    title                                               0.018175   \n                                                    title_and_10_sentences                              0.020781   \n                                                    title_and_5_sentences                               0.008821   \n                                                    title_and_first_paragraph                           0.004895   \n                                                    title_and_first_sentence_each_paragraph             0.033417   \nfr       AshtonIsNotHere-xlm-roberta-long-base-4096 raw_text                                            0.045529   \n                                                    title                                               0.054597   \n                                                    title_and_10_sentences                              0.026329   \n                                                    title_and_5_sentences                               0.009220   \n                                                    title_and_first_paragraph                           0.012873   \n                                                    title_and_first_sentence_each_paragraph             0.023751   \nge       AshtonIsNotHere-xlm-roberta-long-base-4096 raw_text                                            0.026825   \n                                                    title                                               0.052795   \n                                                    title_and_10_sentences                              0.040462   \n                                                    title_and_5_sentences                               0.052224   \n                                                    title_and_first_paragraph                           0.028195   \n                                                    title_and_first_sentence_each_paragraph             0.037952   \nit       AshtonIsNotHere-xlm-roberta-long-base-4096 raw_text                                            0.059035   \n                                                    title                                               0.013597   \n                                                    title_and_10_sentences                              0.051033   \n                                                    title_and_5_sentences                               0.047971   \n                                                    title_and_first_paragraph                           0.040024   \n                                                    title_and_first_sentence_each_paragraph             0.038461   \npo       AshtonIsNotHere-xlm-roberta-long-base-4096 raw_text                                            0.053863   \n                                                    title                                               0.072449   \n                                                    title_and_10_sentences                              0.085904   \n                                                    title_and_5_sentences                               0.067358   \n                                                    title_and_first_paragraph                           0.071666   \n                                                    title_and_first_sentence_each_paragraph             0.066407   \nru       AshtonIsNotHere-xlm-roberta-long-base-4096 raw_text                                            0.025672   \n                                                    title                                               0.064519   \n                                                    title_and_10_sentences                              0.047289   \n                                                    title_and_5_sentences                               0.059128   \n                                                    title_and_first_paragraph                           0.040643   \n                                                    title_and_first_sentence_each_paragraph             0.019378   \n\n                                                                                             recall-micro_mean  \\\nlanguage model_name                                 unit_of_analysis                                             \nen       AshtonIsNotHere-xlm-roberta-long-base-4096 raw_text                                          0.648438   \n                                                    title                                             0.589115   \n                                                    title_and_10_sentences                            0.646090   \n                                                    title_and_5_sentences                             0.636175   \n                                                    title_and_first_paragraph                         0.636308   \n                                                    title_and_first_sentence_each_paragraph           0.637525   \nfr       AshtonIsNotHere-xlm-roberta-long-base-4096 raw_text                                          0.511100   \n                                                    title                                             0.424682   \n                                                    title_and_10_sentences                            0.490205   \n                                                    title_and_5_sentences                             0.472361   \n                                                    title_and_first_paragraph                         0.474360   \n                                                    title_and_first_sentence_each_paragraph           0.500675   \nge       AshtonIsNotHere-xlm-roberta-long-base-4096 raw_text                                          0.599954   \n                                                    title                                             0.407633   \n                                                    title_and_10_sentences                            0.546604   \n                                                    title_and_5_sentences                             0.534730   \n                                                    title_and_first_paragraph                         0.526367   \n                                                    title_and_first_sentence_each_paragraph           0.551501   \nit       AshtonIsNotHere-xlm-roberta-long-base-4096 raw_text                                          0.573932   \n                                                    title                                             0.402472   \n                                                    title_and_10_sentences                            0.528968   \n                                                    title_and_5_sentences                             0.492530   \n                                                    title_and_first_paragraph                         0.460414   \n                                                    title_and_first_sentence_each_paragraph           0.497965   \npo       AshtonIsNotHere-xlm-roberta-long-base-4096 raw_text                                          0.624978   \n                                                    title                                             0.450099   \n                                                    title_and_10_sentences                            0.587454   \n                                                    title_and_5_sentences                             0.560287   \n                                                    title_and_first_paragraph                         0.537953   \n                                                    title_and_first_sentence_each_paragraph           0.571576   \nru       AshtonIsNotHere-xlm-roberta-long-base-4096 raw_text                                          0.468459   \n                                                    title                                             0.337914   \n                                                    title_and_10_sentences                            0.405790   \n                                                    title_and_5_sentences                             0.430562   \n                                                    title_and_first_paragraph                         0.401831   \n                                                    title_and_first_sentence_each_paragraph           0.405339   \n\n                                                                                             recall-micro_std  \\\nlanguage model_name                                 unit_of_analysis                                            \nen       AshtonIsNotHere-xlm-roberta-long-base-4096 raw_text                                         0.021702   \n                                                    title                                            0.017033   \n                                                    title_and_10_sentences                           0.017688   \n                                                    title_and_5_sentences                            0.018743   \n                                                    title_and_first_paragraph                        0.016408   \n                                                    title_and_first_sentence_each_paragraph          0.006938   \nfr       AshtonIsNotHere-xlm-roberta-long-base-4096 raw_text                                         0.031319   \n                                                    title                                            0.028072   \n                                                    title_and_10_sentences                           0.016283   \n                                                    title_and_5_sentences                            0.032692   \n                                                    title_and_first_paragraph                        0.050874   \n                                                    title_and_first_sentence_each_paragraph          0.046793   \nge       AshtonIsNotHere-xlm-roberta-long-base-4096 raw_text                                         0.019197   \n                                                    title                                            0.054769   \n                                                    title_and_10_sentences                           0.018944   \n                                                    title_and_5_sentences                            0.011037   \n                                                    title_and_first_paragraph                        0.014410   \n                                                    title_and_first_sentence_each_paragraph          0.017477   \nit       AshtonIsNotHere-xlm-roberta-long-base-4096 raw_text                                         0.039979   \n                                                    title                                            0.045801   \n                                                    title_and_10_sentences                           0.027051   \n                                                    title_and_5_sentences                            0.011478   \n                                                    title_and_first_paragraph                        0.052352   \n                                                    title_and_first_sentence_each_paragraph          0.041486   \npo       AshtonIsNotHere-xlm-roberta-long-base-4096 raw_text                                         0.018952   \n                                                    title                                            0.039501   \n                                                    title_and_10_sentences                           0.029156   \n                                                    title_and_5_sentences                            0.050617   \n                                                    title_and_first_paragraph                        0.010270   \n                                                    title_and_first_sentence_each_paragraph          0.033894   \nru       AshtonIsNotHere-xlm-roberta-long-base-4096 raw_text                                         0.033669   \n                                                    title                                            0.052944   \n                                                    title_and_10_sentences                           0.020947   \n                                                    title_and_5_sentences                            0.061681   \n                                                    title_and_first_paragraph                        0.050535   \n                                                    title_and_first_sentence_each_paragraph          0.023093   \n\n                                                                                             roc-auc_mean  \\\nlanguage model_name                                 unit_of_analysis                                        \nen       AshtonIsNotHere-xlm-roberta-long-base-4096 raw_text                                     0.784366   \n                                                    title                                        0.745626   \n                                                    title_and_10_sentences                       0.783018   \n                                                    title_and_5_sentences                        0.775029   \n                                                    title_and_first_paragraph                    0.773741   \n                                                    title_and_first_sentence_each_paragraph      0.778087   \nfr       AshtonIsNotHere-xlm-roberta-long-base-4096 raw_text                                     0.716110   \n                                                    title                                        0.668546   \n                                                    title_and_10_sentences                       0.703736   \n                                                    title_and_5_sentences                        0.694846   \n                                                    title_and_first_paragraph                    0.699109   \n                                                    title_and_first_sentence_each_paragraph      0.713142   \nge       AshtonIsNotHere-xlm-roberta-long-base-4096 raw_text                                     0.749629   \n                                                    title                                        0.640200   \n                                                    title_and_10_sentences                       0.713896   \n                                                    title_and_5_sentences                        0.707104   \n                                                    title_and_first_paragraph                    0.696255   \n                                                    title_and_first_sentence_each_paragraph      0.716008   \nit       AshtonIsNotHere-xlm-roberta-long-base-4096 raw_text                                     0.730199   \n                                                    title                                        0.646121   \n                                                    title_and_10_sentences                       0.704657   \n                                                    title_and_5_sentences                        0.691270   \n                                                    title_and_first_paragraph                    0.674134   \n                                                    title_and_first_sentence_each_paragraph      0.696281   \npo       AshtonIsNotHere-xlm-roberta-long-base-4096 raw_text                                     0.747282   \n                                                    title                                        0.643471   \n                                                    title_and_10_sentences                       0.723344   \n                                                    title_and_5_sentences                        0.704926   \n                                                    title_and_first_paragraph                    0.685947   \n                                                    title_and_first_sentence_each_paragraph      0.725728   \nru       AshtonIsNotHere-xlm-roberta-long-base-4096 raw_text                                     0.704546   \n                                                    title                                        0.629739   \n                                                    title_and_10_sentences                       0.670750   \n                                                    title_and_5_sentences                        0.685104   \n                                                    title_and_first_paragraph                    0.665984   \n                                                    title_and_first_sentence_each_paragraph      0.675674   \n\n                                                                                             roc-auc_std  \\\nlanguage model_name                                 unit_of_analysis                                       \nen       AshtonIsNotHere-xlm-roberta-long-base-4096 raw_text                                    0.009515   \n                                                    title                                       0.009161   \n                                                    title_and_10_sentences                      0.010038   \n                                                    title_and_5_sentences                       0.007465   \n                                                    title_and_first_paragraph                   0.006178   \n                                                    title_and_first_sentence_each_paragraph     0.007673   \nfr       AshtonIsNotHere-xlm-roberta-long-base-4096 raw_text                                    0.018342   \n                                                    title                                       0.009455   \n                                                    title_and_10_sentences                      0.012123   \n                                                    title_and_5_sentences                       0.014543   \n                                                    title_and_first_paragraph                   0.021089   \n                                                    title_and_first_sentence_each_paragraph     0.019190   \nge       AshtonIsNotHere-xlm-roberta-long-base-4096 raw_text                                    0.004787   \n                                                    title                                       0.026667   \n                                                    title_and_10_sentences                      0.003181   \n                                                    title_and_5_sentences                       0.015403   \n                                                    title_and_first_paragraph                   0.009333   \n                                                    title_and_first_sentence_each_paragraph     0.008700   \nit       AshtonIsNotHere-xlm-roberta-long-base-4096 raw_text                                    0.031243   \n                                                    title                                       0.018339   \n                                                    title_and_10_sentences                      0.024033   \n                                                    title_and_5_sentences                       0.008372   \n                                                    title_and_first_paragraph                   0.028641   \n                                                    title_and_first_sentence_each_paragraph     0.025401   \npo       AshtonIsNotHere-xlm-roberta-long-base-4096 raw_text                                    0.002324   \n                                                    title                                       0.014308   \n                                                    title_and_10_sentences                      0.010119   \n                                                    title_and_5_sentences                       0.005807   \n                                                    title_and_first_paragraph                   0.014960   \n                                                    title_and_first_sentence_each_paragraph     0.005868   \nru       AshtonIsNotHere-xlm-roberta-long-base-4096 raw_text                                    0.014174   \n                                                    title                                       0.028728   \n                                                    title_and_10_sentences                      0.011075   \n                                                    title_and_5_sentences                       0.031318   \n                                                    title_and_first_paragraph                   0.024193   \n                                                    title_and_first_sentence_each_paragraph     0.009114   \n\n                                                                                             accuracy_mean  \\\nlanguage model_name                                 unit_of_analysis                                         \nen       AshtonIsNotHere-xlm-roberta-long-base-4096 raw_text                                      0.112845   \n                                                    title                                         0.075899   \n                                                    title_and_10_sentences                        0.105014   \n                                                    title_and_5_sentences                         0.110930   \n                                                    title_and_first_paragraph                     0.073961   \n                                                    title_and_first_sentence_each_paragraph       0.103087   \nfr       AshtonIsNotHere-xlm-roberta-long-base-4096 raw_text                                      0.071026   \n                                                    title                                         0.080751   \n                                                    title_and_10_sentences                        0.071093   \n                                                    title_and_5_sentences                         0.080550   \n                                                    title_and_first_paragraph                     0.089940   \n                                                    title_and_first_sentence_each_paragraph       0.113816   \nge       AshtonIsNotHere-xlm-roberta-long-base-4096 raw_text                                      0.124976   \n                                                    title                                         0.045490   \n                                                    title_and_10_sentences                        0.051237   \n                                                    title_and_5_sentences                         0.057082   \n                                                    title_and_first_paragraph                     0.073933   \n                                                    title_and_first_sentence_each_paragraph       0.079778   \nit       AshtonIsNotHere-xlm-roberta-long-base-4096 raw_text                                      0.095710   \n                                                    title                                         0.056106   \n                                                    title_and_10_sentences                        0.092409   \n                                                    title_and_5_sentences                         0.099010   \n                                                    title_and_first_paragraph                     0.062706   \n                                                    title_and_first_sentence_each_paragraph       0.075908   \npo       AshtonIsNotHere-xlm-roberta-long-base-4096 raw_text                                      0.072196   \n                                                    title                                         0.041186   \n                                                    title_and_10_sentences                        0.066987   \n                                                    title_and_5_sentences                         0.056571   \n                                                    title_and_first_paragraph                     0.041186   \n                                                    title_and_first_sentence_each_paragraph       0.061779   \nru       AshtonIsNotHere-xlm-roberta-long-base-4096 raw_text                                      0.167907   \n                                                    title                                         0.073495   \n                                                    title_and_10_sentences                        0.104993   \n                                                    title_and_5_sentences                         0.104911   \n                                                    title_and_first_paragraph                     0.115410   \n                                                    title_and_first_sentence_each_paragraph       0.115410   \n\n                                                                                             accuracy_std  \nlanguage model_name                                 unit_of_analysis                                       \nen       AshtonIsNotHere-xlm-roberta-long-base-4096 raw_text                                     0.003577  \n                                                    title                                        0.011883  \n                                                    title_and_10_sentences                       0.035328  \n                                                    title_and_5_sentences                        0.015781  \n                                                    title_and_first_paragraph                    0.014897  \n                                                    title_and_first_sentence_each_paragraph      0.014404  \nfr       AshtonIsNotHere-xlm-roberta-long-base-4096 raw_text                                     0.037574  \n                                                    title                                        0.036272  \n                                                    title_and_10_sentences                       0.000581  \n                                                    title_and_5_sentences                        0.035878  \n                                                    title_and_first_paragraph                    0.029101  \n                                                    title_and_first_sentence_each_paragraph      0.014995  \nge       AshtonIsNotHere-xlm-roberta-long-base-4096 raw_text                                     0.009252  \n                                                    title                                        0.025991  \n                                                    title_and_10_sentences                       0.017537  \n                                                    title_and_5_sentences                        0.052550  \n                                                    title_and_first_paragraph                    0.035526  \n                                                    title_and_first_sentence_each_paragraph      0.043608  \nit       AshtonIsNotHere-xlm-roberta-long-base-4096 raw_text                                     0.034771  \n                                                    title                                        0.005716  \n                                                    title_and_10_sentences                       0.020611  \n                                                    title_and_5_sentences                        0.029703  \n                                                    title_and_first_paragraph                    0.024917  \n                                                    title_and_first_sentence_each_paragraph      0.020611  \npo       AshtonIsNotHere-xlm-roberta-long-base-4096 raw_text                                     0.009249  \n                                                    title                                        0.008605  \n                                                    title_and_10_sentences                       0.008618  \n                                                    title_and_5_sentences                        0.023238  \n                                                    title_and_first_paragraph                    0.017627  \n                                                    title_and_first_sentence_each_paragraph      0.015025  \nru       AshtonIsNotHere-xlm-roberta-long-base-4096 raw_text                                     0.061285  \n                                                    title                                        0.033500  \n                                                    title_and_10_sentences                       0.046537  \n                                                    title_and_5_sentences                        0.033778  \n                                                    title_and_first_paragraph                    0.037516  \n                                                    title_and_first_sentence_each_paragraph      0.037516  ",
      "text/html": "<div>\n<style scoped>\n    .dataframe tbody tr th:only-of-type {\n        vertical-align: middle;\n    }\n\n    .dataframe tbody tr th {\n        vertical-align: top;\n    }\n\n    .dataframe thead th {\n        text-align: right;\n    }\n</style>\n<table border=\"1\" class=\"dataframe\">\n  <thead>\n    <tr style=\"text-align: right;\">\n      <th></th>\n      <th></th>\n      <th></th>\n      <th>f1-micro_mean</th>\n      <th>f1-micro_std</th>\n      <th>precision-micro_mean</th>\n      <th>precision-micro_std</th>\n      <th>recall-micro_mean</th>\n      <th>recall-micro_std</th>\n      <th>roc-auc_mean</th>\n      <th>roc-auc_std</th>\n      <th>accuracy_mean</th>\n      <th>accuracy_std</th>\n    </tr>\n    <tr>\n      <th>language</th>\n      <th>model_name</th>\n      <th>unit_of_analysis</th>\n      <th></th>\n      <th></th>\n      <th></th>\n      <th></th>\n      <th></th>\n      <th></th>\n      <th></th>\n      <th></th>\n      <th></th>\n      <th></th>\n    </tr>\n  </thead>\n  <tbody>\n    <tr>\n      <th rowspan=\"6\" valign=\"top\">en</th>\n      <th rowspan=\"6\" valign=\"top\">AshtonIsNotHere-xlm-roberta-long-base-4096</th>\n      <th>raw_text</th>\n      <td>0.700232</td>\n      <td>0.017693</td>\n      <td>0.761467</td>\n      <td>0.023577</td>\n      <td>0.648438</td>\n      <td>0.021702</td>\n      <td>0.784366</td>\n      <td>0.009515</td>\n      <td>0.112845</td>\n      <td>0.003577</td>\n    </tr>\n    <tr>\n      <th>title</th>\n      <td>0.640544</td>\n      <td>0.016595</td>\n      <td>0.701902</td>\n      <td>0.018175</td>\n      <td>0.589115</td>\n      <td>0.017033</td>\n      <td>0.745626</td>\n      <td>0.009161</td>\n      <td>0.075899</td>\n      <td>0.011883</td>\n    </tr>\n    <tr>\n      <th>title_and_10_sentences</th>\n      <td>0.698109</td>\n      <td>0.018925</td>\n      <td>0.759254</td>\n      <td>0.020781</td>\n      <td>0.646090</td>\n      <td>0.017688</td>\n      <td>0.783018</td>\n      <td>0.010038</td>\n      <td>0.105014</td>\n      <td>0.035328</td>\n    </tr>\n    <tr>\n      <th>title_and_5_sentences</th>\n      <td>0.685517</td>\n      <td>0.014000</td>\n      <td>0.743276</td>\n      <td>0.008821</td>\n      <td>0.636175</td>\n      <td>0.018743</td>\n      <td>0.775029</td>\n      <td>0.007465</td>\n      <td>0.110930</td>\n      <td>0.015781</td>\n    </tr>\n    <tr>\n      <th>title_and_first_paragraph</th>\n      <td>0.683085</td>\n      <td>0.011545</td>\n      <td>0.737381</td>\n      <td>0.004895</td>\n      <td>0.636308</td>\n      <td>0.016408</td>\n      <td>0.773741</td>\n      <td>0.006178</td>\n      <td>0.073961</td>\n      <td>0.014897</td>\n    </tr>\n    <tr>\n      <th>title_and_first_sentence_each_paragraph</th>\n      <td>0.690757</td>\n      <td>0.017427</td>\n      <td>0.754040</td>\n      <td>0.033417</td>\n      <td>0.637525</td>\n      <td>0.006938</td>\n      <td>0.778087</td>\n      <td>0.007673</td>\n      <td>0.103087</td>\n      <td>0.014404</td>\n    </tr>\n    <tr>\n      <th rowspan=\"6\" valign=\"top\">fr</th>\n      <th rowspan=\"6\" valign=\"top\">AshtonIsNotHere-xlm-roberta-long-base-4096</th>\n      <th>raw_text</th>\n      <td>0.567744</td>\n      <td>0.025649</td>\n      <td>0.640610</td>\n      <td>0.045529</td>\n      <td>0.511100</td>\n      <td>0.031319</td>\n      <td>0.716110</td>\n      <td>0.018342</td>\n      <td>0.071026</td>\n      <td>0.037574</td>\n    </tr>\n    <tr>\n      <th>title</th>\n      <td>0.485518</td>\n      <td>0.021662</td>\n      <td>0.570946</td>\n      <td>0.054597</td>\n      <td>0.424682</td>\n      <td>0.028072</td>\n      <td>0.668546</td>\n      <td>0.009455</td>\n      <td>0.080751</td>\n      <td>0.036272</td>\n    </tr>\n    <tr>\n      <th>title_and_10_sentences</th>\n      <td>0.546452</td>\n      <td>0.016293</td>\n      <td>0.617749</td>\n      <td>0.026329</td>\n      <td>0.490205</td>\n      <td>0.016283</td>\n      <td>0.703736</td>\n      <td>0.012123</td>\n      <td>0.071093</td>\n      <td>0.000581</td>\n    </tr>\n    <tr>\n      <th>title_and_5_sentences</th>\n      <td>0.531221</td>\n      <td>0.022245</td>\n      <td>0.607852</td>\n      <td>0.009220</td>\n      <td>0.472361</td>\n      <td>0.032692</td>\n      <td>0.694846</td>\n      <td>0.014543</td>\n      <td>0.080550</td>\n      <td>0.035878</td>\n    </tr>\n    <tr>\n      <th>title_and_first_paragraph</th>\n      <td>0.539356</td>\n      <td>0.030282</td>\n      <td>0.628561</td>\n      <td>0.012873</td>\n      <td>0.474360</td>\n      <td>0.050874</td>\n      <td>0.699109</td>\n      <td>0.021089</td>\n      <td>0.089940</td>\n      <td>0.029101</td>\n    </tr>\n    <tr>\n      <th>title_and_first_sentence_each_paragraph</th>\n      <td>0.562919</td>\n      <td>0.023132</td>\n      <td>0.646810</td>\n      <td>0.023751</td>\n      <td>0.500675</td>\n      <td>0.046793</td>\n      <td>0.713142</td>\n      <td>0.019190</td>\n      <td>0.113816</td>\n      <td>0.014995</td>\n    </tr>\n    <tr>\n      <th rowspan=\"6\" valign=\"top\">ge</th>\n      <th rowspan=\"6\" valign=\"top\">AshtonIsNotHere-xlm-roberta-long-base-4096</th>\n      <th>raw_text</th>\n      <td>0.658114</td>\n      <td>0.001306</td>\n      <td>0.730018</td>\n      <td>0.026825</td>\n      <td>0.599954</td>\n      <td>0.019197</td>\n      <td>0.749629</td>\n      <td>0.004787</td>\n      <td>0.124976</td>\n      <td>0.009252</td>\n    </tr>\n    <tr>\n      <th>title</th>\n      <td>0.481710</td>\n      <td>0.052231</td>\n      <td>0.590813</td>\n      <td>0.052795</td>\n      <td>0.407633</td>\n      <td>0.054769</td>\n      <td>0.640200</td>\n      <td>0.026667</td>\n      <td>0.045490</td>\n      <td>0.025991</td>\n    </tr>\n    <tr>\n      <th>title_and_10_sentences</th>\n      <td>0.603854</td>\n      <td>0.007190</td>\n      <td>0.676591</td>\n      <td>0.040462</td>\n      <td>0.546604</td>\n      <td>0.018944</td>\n      <td>0.713896</td>\n      <td>0.003181</td>\n      <td>0.051237</td>\n      <td>0.017537</td>\n    </tr>\n    <tr>\n      <th>title_and_5_sentences</th>\n      <td>0.594598</td>\n      <td>0.020215</td>\n      <td>0.671363</td>\n      <td>0.052224</td>\n      <td>0.534730</td>\n      <td>0.011037</td>\n      <td>0.707104</td>\n      <td>0.015403</td>\n      <td>0.057082</td>\n      <td>0.052550</td>\n    </tr>\n    <tr>\n      <th>title_and_first_paragraph</th>\n      <td>0.577792</td>\n      <td>0.019728</td>\n      <td>0.640463</td>\n      <td>0.028195</td>\n      <td>0.526367</td>\n      <td>0.014410</td>\n      <td>0.696255</td>\n      <td>0.009333</td>\n      <td>0.073933</td>\n      <td>0.035526</td>\n    </tr>\n    <tr>\n      <th>title_and_first_sentence_each_paragraph</th>\n      <td>0.607281</td>\n      <td>0.016786</td>\n      <td>0.676769</td>\n      <td>0.037952</td>\n      <td>0.551501</td>\n      <td>0.017477</td>\n      <td>0.716008</td>\n      <td>0.008700</td>\n      <td>0.079778</td>\n      <td>0.043608</td>\n    </tr>\n    <tr>\n      <th rowspan=\"6\" valign=\"top\">it</th>\n      <th rowspan=\"6\" valign=\"top\">AshtonIsNotHere-xlm-roberta-long-base-4096</th>\n      <th>raw_text</th>\n      <td>0.612195</td>\n      <td>0.047880</td>\n      <td>0.656173</td>\n      <td>0.059035</td>\n      <td>0.573932</td>\n      <td>0.039979</td>\n      <td>0.730199</td>\n      <td>0.031243</td>\n      <td>0.095710</td>\n      <td>0.034771</td>\n    </tr>\n    <tr>\n      <th>title</th>\n      <td>0.473615</td>\n      <td>0.035123</td>\n      <td>0.577392</td>\n      <td>0.013597</td>\n      <td>0.402472</td>\n      <td>0.045801</td>\n      <td>0.646121</td>\n      <td>0.018339</td>\n      <td>0.056106</td>\n      <td>0.005716</td>\n    </tr>\n    <tr>\n      <th>title_and_10_sentences</th>\n      <td>0.572918</td>\n      <td>0.037349</td>\n      <td>0.625061</td>\n      <td>0.051033</td>\n      <td>0.528968</td>\n      <td>0.027051</td>\n      <td>0.704657</td>\n      <td>0.024033</td>\n      <td>0.092409</td>\n      <td>0.020611</td>\n    </tr>\n    <tr>\n      <th>title_and_5_sentences</th>\n      <td>0.552236</td>\n      <td>0.012114</td>\n      <td>0.630771</td>\n      <td>0.047971</td>\n      <td>0.492530</td>\n      <td>0.011478</td>\n      <td>0.691270</td>\n      <td>0.008372</td>\n      <td>0.099010</td>\n      <td>0.029703</td>\n    </tr>\n    <tr>\n      <th>title_and_first_paragraph</th>\n      <td>0.522629</td>\n      <td>0.048530</td>\n      <td>0.604855</td>\n      <td>0.040024</td>\n      <td>0.460414</td>\n      <td>0.052352</td>\n      <td>0.674134</td>\n      <td>0.028641</td>\n      <td>0.062706</td>\n      <td>0.024917</td>\n    </tr>\n    <tr>\n      <th>title_and_first_sentence_each_paragraph</th>\n      <td>0.559655</td>\n      <td>0.040672</td>\n      <td>0.638994</td>\n      <td>0.038461</td>\n      <td>0.497965</td>\n      <td>0.041486</td>\n      <td>0.696281</td>\n      <td>0.025401</td>\n      <td>0.075908</td>\n      <td>0.020611</td>\n    </tr>\n    <tr>\n      <th rowspan=\"6\" valign=\"top\">po</th>\n      <th rowspan=\"6\" valign=\"top\">AshtonIsNotHere-xlm-roberta-long-base-4096</th>\n      <th>raw_text</th>\n      <td>0.669834</td>\n      <td>0.012217</td>\n      <td>0.724459</td>\n      <td>0.053863</td>\n      <td>0.624978</td>\n      <td>0.018952</td>\n      <td>0.747282</td>\n      <td>0.002324</td>\n      <td>0.072196</td>\n      <td>0.009249</td>\n    </tr>\n    <tr>\n      <th>title</th>\n      <td>0.513491</td>\n      <td>0.028432</td>\n      <td>0.604448</td>\n      <td>0.072449</td>\n      <td>0.450099</td>\n      <td>0.039501</td>\n      <td>0.643471</td>\n      <td>0.014308</td>\n      <td>0.041186</td>\n      <td>0.008605</td>\n    </tr>\n    <tr>\n      <th>title_and_10_sentences</th>\n      <td>0.635858</td>\n      <td>0.019076</td>\n      <td>0.699975</td>\n      <td>0.085904</td>\n      <td>0.587454</td>\n      <td>0.029156</td>\n      <td>0.723344</td>\n      <td>0.010119</td>\n      <td>0.066987</td>\n      <td>0.008618</td>\n    </tr>\n    <tr>\n      <th>title_and_5_sentences</th>\n      <td>0.610558</td>\n      <td>0.014343</td>\n      <td>0.678991</td>\n      <td>0.067358</td>\n      <td>0.560287</td>\n      <td>0.050617</td>\n      <td>0.704926</td>\n      <td>0.005807</td>\n      <td>0.056571</td>\n      <td>0.023238</td>\n    </tr>\n    <tr>\n      <th>title_and_first_paragraph</th>\n      <td>0.583600</td>\n      <td>0.028596</td>\n      <td>0.640895</td>\n      <td>0.071666</td>\n      <td>0.537953</td>\n      <td>0.010270</td>\n      <td>0.685947</td>\n      <td>0.014960</td>\n      <td>0.041186</td>\n      <td>0.017627</td>\n    </tr>\n    <tr>\n      <th>title_and_first_sentence_each_paragraph</th>\n      <td>0.637180</td>\n      <td>0.015941</td>\n      <td>0.725053</td>\n      <td>0.066407</td>\n      <td>0.571576</td>\n      <td>0.033894</td>\n      <td>0.725728</td>\n      <td>0.005868</td>\n      <td>0.061779</td>\n      <td>0.015025</td>\n    </tr>\n    <tr>\n      <th rowspan=\"6\" valign=\"top\">ru</th>\n      <th rowspan=\"6\" valign=\"top\">AshtonIsNotHere-xlm-roberta-long-base-4096</th>\n      <th>raw_text</th>\n      <td>0.534972</td>\n      <td>0.012050</td>\n      <td>0.626496</td>\n      <td>0.025672</td>\n      <td>0.468459</td>\n      <td>0.033669</td>\n      <td>0.704546</td>\n      <td>0.014174</td>\n      <td>0.167907</td>\n      <td>0.061285</td>\n    </tr>\n    <tr>\n      <th>title</th>\n      <td>0.395327</td>\n      <td>0.058352</td>\n      <td>0.476394</td>\n      <td>0.064519</td>\n      <td>0.337914</td>\n      <td>0.052944</td>\n      <td>0.629739</td>\n      <td>0.028728</td>\n      <td>0.073495</td>\n      <td>0.033500</td>\n    </tr>\n    <tr>\n      <th>title_and_10_sentences</th>\n      <td>0.474459</td>\n      <td>0.021087</td>\n      <td>0.573272</td>\n      <td>0.047289</td>\n      <td>0.405790</td>\n      <td>0.020947</td>\n      <td>0.670750</td>\n      <td>0.011075</td>\n      <td>0.104993</td>\n      <td>0.046537</td>\n    </tr>\n    <tr>\n      <th>title_and_5_sentences</th>\n      <td>0.501664</td>\n      <td>0.060664</td>\n      <td>0.602481</td>\n      <td>0.059128</td>\n      <td>0.430562</td>\n      <td>0.061681</td>\n      <td>0.685104</td>\n      <td>0.031318</td>\n      <td>0.104911</td>\n      <td>0.033778</td>\n    </tr>\n    <tr>\n      <th>title_and_first_paragraph</th>\n      <td>0.463473</td>\n      <td>0.046791</td>\n      <td>0.548480</td>\n      <td>0.040643</td>\n      <td>0.401831</td>\n      <td>0.050535</td>\n      <td>0.665984</td>\n      <td>0.024193</td>\n      <td>0.115410</td>\n      <td>0.037516</td>\n    </tr>\n    <tr>\n      <th>title_and_first_sentence_each_paragraph</th>\n      <td>0.488408</td>\n      <td>0.011606</td>\n      <td>0.616178</td>\n      <td>0.019378</td>\n      <td>0.405339</td>\n      <td>0.023093</td>\n      <td>0.675674</td>\n      <td>0.009114</td>\n      <td>0.115410</td>\n      <td>0.037516</td>\n    </tr>\n  </tbody>\n</table>\n</div>"
     },
     "execution_count": 4,
     "metadata": {},
     "output_type": "execute_result"
    }
   ],
   "source": [
    "dfs_list = []\n",
    "for results_filepath in results_filepaths:\n",
    "    model_name = results_filepath.split('/')[-2]\n",
    "    results_df_i = pd.read_csv(results_filepath)\n",
    "    results_df_i['model_name'] = model_name\n",
    "    dfs_list.append(results_df_i)\n",
    "\n",
    "results_df = pd.concat(dfs_list).set_index(['language', 'model_name', 'unit_of_analysis']).sort_index()\n",
    "results_df.rename(columns={'f1-mico_mean': 'f1-micro_mean', 'f1-mico_std': 'f1-micro_std'}, inplace=True)\n",
    "results_df"
   ],
   "metadata": {
    "collapsed": false
   }
  },
  {
   "cell_type": "code",
   "execution_count": 5,
   "outputs": [],
   "source": [
    "results_df.to_csv('performance_of_models.csv')"
   ],
   "metadata": {
    "collapsed": false
   }
  },
  {
   "cell_type": "markdown",
   "id": "6a452c68-3d2e-43a1-b820-a7688df2cd33",
   "metadata": {
    "tags": []
   },
   "source": [
    "### Generate the tables to report"
   ]
  },
  {
   "cell_type": "code",
   "execution_count": 6,
   "id": "9c97b164-c359-40ea-b974-a0dc65c1db60",
   "metadata": {},
   "outputs": [],
   "source": [
    "def display_performance_table(df, metric, index_cols=['model_name'], display_=True):\n",
    "    report_table = df.reset_index().copy()\n",
    "    report_table['result'] = report_table[f'{metric}_mean'].map(lambda x: f'{x:.2f}') + \\\n",
    "    ' $\\pm$ ' + report_table[f'{metric}_std'].map(lambda x: f'{x:.2f}')\n",
    "    report_table['col_title'] = report_table.unit_of_analysis.str.split('_').str.join(' ') \n",
    "    report_table['col_title'] = pd.Categorical(\n",
    "        report_table.col_title,\n",
    "        categories=['title', 'title and first paragraph', 'title and 5 sentences', 'title and 10 sentences',\n",
    "                    'title and first sentence each paragraph', 'raw text'],\n",
    "        ordered=True)\n",
    "    report_table = report_table[index_cols + ['col_title', 'result']]\\\n",
    "        .pivot_table(index=index_cols, columns=['col_title'], values=['result'], aggfunc='first', fill_value=0)\\\n",
    "        .droplevel(0, axis=1)\n",
    "\n",
    "    report_table.columns.names = [None]\n",
    "\n",
    "    # Highlight best scoring models according to their average\n",
    "    mean_perf_arr = report_table.applymap(lambda x: float(str(x).split(' ')[0])).to_numpy()\n",
    "    highlight_mask = mean_perf_arr == mean_perf_arr.max()\n",
    "    report_table_arr = report_table.to_numpy()  # Note it passes the array by reference\n",
    "    report_table_arr[highlight_mask] = '**' + report_table_arr[highlight_mask] + '**'\n",
    "\n",
    "    if display_:\n",
    "        display(Markdown(report_table.to_markdown()))\n",
    "    \n",
    "    return report_table"
   ]
  },
  {
   "cell_type": "code",
   "execution_count": 7,
   "outputs": [
    {
     "data": {
      "text/plain": "<IPython.core.display.Markdown object>",
      "text/markdown": "| model_name                                 | title           | title and first paragraph   | title and 5 sentences   | title and 10 sentences   | title and first sentence each paragraph   | raw text            |\n|:-------------------------------------------|:----------------|:----------------------------|:------------------------|:-------------------------|:------------------------------------------|:--------------------|\n| AshtonIsNotHere-xlm-roberta-long-base-4096 | 0.64 $\\pm$ 0.02 | 0.68 $\\pm$ 0.01             | 0.69 $\\pm$ 0.01         | **0.70 $\\pm$ 0.02**      | 0.69 $\\pm$ 0.02                           | **0.70 $\\pm$ 0.02** |"
     },
     "metadata": {},
     "output_type": "display_data"
    },
    {
     "data": {
      "text/plain": "                                                      title  \\\nmodel_name                                                    \nAshtonIsNotHere-xlm-roberta-long-base-4096  0.64 $\\pm$ 0.02   \n\n                                           title and first paragraph  \\\nmodel_name                                                             \nAshtonIsNotHere-xlm-roberta-long-base-4096           0.68 $\\pm$ 0.01   \n\n                                           title and 5 sentences  \\\nmodel_name                                                         \nAshtonIsNotHere-xlm-roberta-long-base-4096       0.69 $\\pm$ 0.01   \n\n                                           title and 10 sentences  \\\nmodel_name                                                          \nAshtonIsNotHere-xlm-roberta-long-base-4096    **0.70 $\\pm$ 0.02**   \n\n                                           title and first sentence each paragraph  \\\nmodel_name                                                                           \nAshtonIsNotHere-xlm-roberta-long-base-4096                         0.69 $\\pm$ 0.02   \n\n                                                       raw text  \nmodel_name                                                       \nAshtonIsNotHere-xlm-roberta-long-base-4096  **0.70 $\\pm$ 0.02**  ",
      "text/html": "<div>\n<style scoped>\n    .dataframe tbody tr th:only-of-type {\n        vertical-align: middle;\n    }\n\n    .dataframe tbody tr th {\n        vertical-align: top;\n    }\n\n    .dataframe thead th {\n        text-align: right;\n    }\n</style>\n<table border=\"1\" class=\"dataframe\">\n  <thead>\n    <tr style=\"text-align: right;\">\n      <th></th>\n      <th>title</th>\n      <th>title and first paragraph</th>\n      <th>title and 5 sentences</th>\n      <th>title and 10 sentences</th>\n      <th>title and first sentence each paragraph</th>\n      <th>raw text</th>\n    </tr>\n    <tr>\n      <th>model_name</th>\n      <th></th>\n      <th></th>\n      <th></th>\n      <th></th>\n      <th></th>\n      <th></th>\n    </tr>\n  </thead>\n  <tbody>\n    <tr>\n      <th>AshtonIsNotHere-xlm-roberta-long-base-4096</th>\n      <td>0.64 $\\pm$ 0.02</td>\n      <td>0.68 $\\pm$ 0.01</td>\n      <td>0.69 $\\pm$ 0.01</td>\n      <td>**0.70 $\\pm$ 0.02**</td>\n      <td>0.69 $\\pm$ 0.02</td>\n      <td>**0.70 $\\pm$ 0.02**</td>\n    </tr>\n  </tbody>\n</table>\n</div>"
     },
     "execution_count": 7,
     "metadata": {},
     "output_type": "execute_result"
    }
   ],
   "source": [
    "display_performance_table(df=results_df.loc['en'], metric='f1-micro', index_cols=['model_name'], display_=True)"
   ],
   "metadata": {
    "collapsed": false
   }
  },
  {
   "cell_type": "markdown",
   "id": "6f14e8da-1acf-4114-9cfd-eeaa97261f68",
   "metadata": {},
   "source": [
    "### Generate tables for all languages"
   ]
  },
  {
   "cell_type": "code",
   "execution_count": 8,
   "id": "bea51df3-87ed-4ace-ad56-25d235b5cd65",
   "metadata": {},
   "outputs": [],
   "source": [
    "metrics_to_report = ['f1-micro', 'recall-micro', 'precision-micro', 'roc-auc', 'accuracy']"
   ]
  },
  {
   "cell_type": "code",
   "execution_count": 9,
   "id": "1650fa17-5ccc-439a-9818-d61bf369ca1a",
   "metadata": {},
   "outputs": [],
   "source": [
    "language_dict = {'en': 'English', 'it': 'Italian', 'fr': 'French', 'po': 'Polish', 'ru': 'Russian', 'ge': 'German'}"
   ]
  },
  {
   "cell_type": "code",
   "execution_count": 10,
   "outputs": [
    {
     "data": {
      "text/plain": "                                                                                             f1-micro_mean  \\\nlanguage model_name                                 unit_of_analysis                                         \nen       AshtonIsNotHere-xlm-roberta-long-base-4096 raw_text                                      0.700232   \n                                                    title                                         0.640544   \n                                                    title_and_10_sentences                        0.698109   \n                                                    title_and_5_sentences                         0.685517   \n                                                    title_and_first_paragraph                     0.683085   \n                                                    title_and_first_sentence_each_paragraph       0.690757   \nfr       AshtonIsNotHere-xlm-roberta-long-base-4096 raw_text                                      0.567744   \n                                                    title                                         0.485518   \n                                                    title_and_10_sentences                        0.546452   \n                                                    title_and_5_sentences                         0.531221   \n                                                    title_and_first_paragraph                     0.539356   \n                                                    title_and_first_sentence_each_paragraph       0.562919   \nge       AshtonIsNotHere-xlm-roberta-long-base-4096 raw_text                                      0.658114   \n                                                    title                                         0.481710   \n                                                    title_and_10_sentences                        0.603854   \n                                                    title_and_5_sentences                         0.594598   \n                                                    title_and_first_paragraph                     0.577792   \n                                                    title_and_first_sentence_each_paragraph       0.607281   \nit       AshtonIsNotHere-xlm-roberta-long-base-4096 raw_text                                      0.612195   \n                                                    title                                         0.473615   \n                                                    title_and_10_sentences                        0.572918   \n                                                    title_and_5_sentences                         0.552236   \n                                                    title_and_first_paragraph                     0.522629   \n                                                    title_and_first_sentence_each_paragraph       0.559655   \npo       AshtonIsNotHere-xlm-roberta-long-base-4096 raw_text                                      0.669834   \n                                                    title                                         0.513491   \n                                                    title_and_10_sentences                        0.635858   \n                                                    title_and_5_sentences                         0.610558   \n                                                    title_and_first_paragraph                     0.583600   \n                                                    title_and_first_sentence_each_paragraph       0.637180   \nru       AshtonIsNotHere-xlm-roberta-long-base-4096 raw_text                                      0.534972   \n                                                    title                                         0.395327   \n                                                    title_and_10_sentences                        0.474459   \n                                                    title_and_5_sentences                         0.501664   \n                                                    title_and_first_paragraph                     0.463473   \n                                                    title_and_first_sentence_each_paragraph       0.488408   \n\n                                                                                             f1-micro_std  \\\nlanguage model_name                                 unit_of_analysis                                        \nen       AshtonIsNotHere-xlm-roberta-long-base-4096 raw_text                                     0.017693   \n                                                    title                                        0.016595   \n                                                    title_and_10_sentences                       0.018925   \n                                                    title_and_5_sentences                        0.014000   \n                                                    title_and_first_paragraph                    0.011545   \n                                                    title_and_first_sentence_each_paragraph      0.017427   \nfr       AshtonIsNotHere-xlm-roberta-long-base-4096 raw_text                                     0.025649   \n                                                    title                                        0.021662   \n                                                    title_and_10_sentences                       0.016293   \n                                                    title_and_5_sentences                        0.022245   \n                                                    title_and_first_paragraph                    0.030282   \n                                                    title_and_first_sentence_each_paragraph      0.023132   \nge       AshtonIsNotHere-xlm-roberta-long-base-4096 raw_text                                     0.001306   \n                                                    title                                        0.052231   \n                                                    title_and_10_sentences                       0.007190   \n                                                    title_and_5_sentences                        0.020215   \n                                                    title_and_first_paragraph                    0.019728   \n                                                    title_and_first_sentence_each_paragraph      0.016786   \nit       AshtonIsNotHere-xlm-roberta-long-base-4096 raw_text                                     0.047880   \n                                                    title                                        0.035123   \n                                                    title_and_10_sentences                       0.037349   \n                                                    title_and_5_sentences                        0.012114   \n                                                    title_and_first_paragraph                    0.048530   \n                                                    title_and_first_sentence_each_paragraph      0.040672   \npo       AshtonIsNotHere-xlm-roberta-long-base-4096 raw_text                                     0.012217   \n                                                    title                                        0.028432   \n                                                    title_and_10_sentences                       0.019076   \n                                                    title_and_5_sentences                        0.014343   \n                                                    title_and_first_paragraph                    0.028596   \n                                                    title_and_first_sentence_each_paragraph      0.015941   \nru       AshtonIsNotHere-xlm-roberta-long-base-4096 raw_text                                     0.012050   \n                                                    title                                        0.058352   \n                                                    title_and_10_sentences                       0.021087   \n                                                    title_and_5_sentences                        0.060664   \n                                                    title_and_first_paragraph                    0.046791   \n                                                    title_and_first_sentence_each_paragraph      0.011606   \n\n                                                                                             precision-micro_mean  \\\nlanguage model_name                                 unit_of_analysis                                                \nen       AshtonIsNotHere-xlm-roberta-long-base-4096 raw_text                                             0.761467   \n                                                    title                                                0.701902   \n                                                    title_and_10_sentences                               0.759254   \n                                                    title_and_5_sentences                                0.743276   \n                                                    title_and_first_paragraph                            0.737381   \n                                                    title_and_first_sentence_each_paragraph              0.754040   \nfr       AshtonIsNotHere-xlm-roberta-long-base-4096 raw_text                                             0.640610   \n                                                    title                                                0.570946   \n                                                    title_and_10_sentences                               0.617749   \n                                                    title_and_5_sentences                                0.607852   \n                                                    title_and_first_paragraph                            0.628561   \n                                                    title_and_first_sentence_each_paragraph              0.646810   \nge       AshtonIsNotHere-xlm-roberta-long-base-4096 raw_text                                             0.730018   \n                                                    title                                                0.590813   \n                                                    title_and_10_sentences                               0.676591   \n                                                    title_and_5_sentences                                0.671363   \n                                                    title_and_first_paragraph                            0.640463   \n                                                    title_and_first_sentence_each_paragraph              0.676769   \nit       AshtonIsNotHere-xlm-roberta-long-base-4096 raw_text                                             0.656173   \n                                                    title                                                0.577392   \n                                                    title_and_10_sentences                               0.625061   \n                                                    title_and_5_sentences                                0.630771   \n                                                    title_and_first_paragraph                            0.604855   \n                                                    title_and_first_sentence_each_paragraph              0.638994   \npo       AshtonIsNotHere-xlm-roberta-long-base-4096 raw_text                                             0.724459   \n                                                    title                                                0.604448   \n                                                    title_and_10_sentences                               0.699975   \n                                                    title_and_5_sentences                                0.678991   \n                                                    title_and_first_paragraph                            0.640895   \n                                                    title_and_first_sentence_each_paragraph              0.725053   \nru       AshtonIsNotHere-xlm-roberta-long-base-4096 raw_text                                             0.626496   \n                                                    title                                                0.476394   \n                                                    title_and_10_sentences                               0.573272   \n                                                    title_and_5_sentences                                0.602481   \n                                                    title_and_first_paragraph                            0.548480   \n                                                    title_and_first_sentence_each_paragraph              0.616178   \n\n                                                                                             precision-micro_std  \\\nlanguage model_name                                 unit_of_analysis                                               \nen       AshtonIsNotHere-xlm-roberta-long-base-4096 raw_text                                            0.023577   \n                                                    title                                               0.018175   \n                                                    title_and_10_sentences                              0.020781   \n                                                    title_and_5_sentences                               0.008821   \n                                                    title_and_first_paragraph                           0.004895   \n                                                    title_and_first_sentence_each_paragraph             0.033417   \nfr       AshtonIsNotHere-xlm-roberta-long-base-4096 raw_text                                            0.045529   \n                                                    title                                               0.054597   \n                                                    title_and_10_sentences                              0.026329   \n                                                    title_and_5_sentences                               0.009220   \n                                                    title_and_first_paragraph                           0.012873   \n                                                    title_and_first_sentence_each_paragraph             0.023751   \nge       AshtonIsNotHere-xlm-roberta-long-base-4096 raw_text                                            0.026825   \n                                                    title                                               0.052795   \n                                                    title_and_10_sentences                              0.040462   \n                                                    title_and_5_sentences                               0.052224   \n                                                    title_and_first_paragraph                           0.028195   \n                                                    title_and_first_sentence_each_paragraph             0.037952   \nit       AshtonIsNotHere-xlm-roberta-long-base-4096 raw_text                                            0.059035   \n                                                    title                                               0.013597   \n                                                    title_and_10_sentences                              0.051033   \n                                                    title_and_5_sentences                               0.047971   \n                                                    title_and_first_paragraph                           0.040024   \n                                                    title_and_first_sentence_each_paragraph             0.038461   \npo       AshtonIsNotHere-xlm-roberta-long-base-4096 raw_text                                            0.053863   \n                                                    title                                               0.072449   \n                                                    title_and_10_sentences                              0.085904   \n                                                    title_and_5_sentences                               0.067358   \n                                                    title_and_first_paragraph                           0.071666   \n                                                    title_and_first_sentence_each_paragraph             0.066407   \nru       AshtonIsNotHere-xlm-roberta-long-base-4096 raw_text                                            0.025672   \n                                                    title                                               0.064519   \n                                                    title_and_10_sentences                              0.047289   \n                                                    title_and_5_sentences                               0.059128   \n                                                    title_and_first_paragraph                           0.040643   \n                                                    title_and_first_sentence_each_paragraph             0.019378   \n\n                                                                                             recall-micro_mean  \\\nlanguage model_name                                 unit_of_analysis                                             \nen       AshtonIsNotHere-xlm-roberta-long-base-4096 raw_text                                          0.648438   \n                                                    title                                             0.589115   \n                                                    title_and_10_sentences                            0.646090   \n                                                    title_and_5_sentences                             0.636175   \n                                                    title_and_first_paragraph                         0.636308   \n                                                    title_and_first_sentence_each_paragraph           0.637525   \nfr       AshtonIsNotHere-xlm-roberta-long-base-4096 raw_text                                          0.511100   \n                                                    title                                             0.424682   \n                                                    title_and_10_sentences                            0.490205   \n                                                    title_and_5_sentences                             0.472361   \n                                                    title_and_first_paragraph                         0.474360   \n                                                    title_and_first_sentence_each_paragraph           0.500675   \nge       AshtonIsNotHere-xlm-roberta-long-base-4096 raw_text                                          0.599954   \n                                                    title                                             0.407633   \n                                                    title_and_10_sentences                            0.546604   \n                                                    title_and_5_sentences                             0.534730   \n                                                    title_and_first_paragraph                         0.526367   \n                                                    title_and_first_sentence_each_paragraph           0.551501   \nit       AshtonIsNotHere-xlm-roberta-long-base-4096 raw_text                                          0.573932   \n                                                    title                                             0.402472   \n                                                    title_and_10_sentences                            0.528968   \n                                                    title_and_5_sentences                             0.492530   \n                                                    title_and_first_paragraph                         0.460414   \n                                                    title_and_first_sentence_each_paragraph           0.497965   \npo       AshtonIsNotHere-xlm-roberta-long-base-4096 raw_text                                          0.624978   \n                                                    title                                             0.450099   \n                                                    title_and_10_sentences                            0.587454   \n                                                    title_and_5_sentences                             0.560287   \n                                                    title_and_first_paragraph                         0.537953   \n                                                    title_and_first_sentence_each_paragraph           0.571576   \nru       AshtonIsNotHere-xlm-roberta-long-base-4096 raw_text                                          0.468459   \n                                                    title                                             0.337914   \n                                                    title_and_10_sentences                            0.405790   \n                                                    title_and_5_sentences                             0.430562   \n                                                    title_and_first_paragraph                         0.401831   \n                                                    title_and_first_sentence_each_paragraph           0.405339   \n\n                                                                                             recall-micro_std  \\\nlanguage model_name                                 unit_of_analysis                                            \nen       AshtonIsNotHere-xlm-roberta-long-base-4096 raw_text                                         0.021702   \n                                                    title                                            0.017033   \n                                                    title_and_10_sentences                           0.017688   \n                                                    title_and_5_sentences                            0.018743   \n                                                    title_and_first_paragraph                        0.016408   \n                                                    title_and_first_sentence_each_paragraph          0.006938   \nfr       AshtonIsNotHere-xlm-roberta-long-base-4096 raw_text                                         0.031319   \n                                                    title                                            0.028072   \n                                                    title_and_10_sentences                           0.016283   \n                                                    title_and_5_sentences                            0.032692   \n                                                    title_and_first_paragraph                        0.050874   \n                                                    title_and_first_sentence_each_paragraph          0.046793   \nge       AshtonIsNotHere-xlm-roberta-long-base-4096 raw_text                                         0.019197   \n                                                    title                                            0.054769   \n                                                    title_and_10_sentences                           0.018944   \n                                                    title_and_5_sentences                            0.011037   \n                                                    title_and_first_paragraph                        0.014410   \n                                                    title_and_first_sentence_each_paragraph          0.017477   \nit       AshtonIsNotHere-xlm-roberta-long-base-4096 raw_text                                         0.039979   \n                                                    title                                            0.045801   \n                                                    title_and_10_sentences                           0.027051   \n                                                    title_and_5_sentences                            0.011478   \n                                                    title_and_first_paragraph                        0.052352   \n                                                    title_and_first_sentence_each_paragraph          0.041486   \npo       AshtonIsNotHere-xlm-roberta-long-base-4096 raw_text                                         0.018952   \n                                                    title                                            0.039501   \n                                                    title_and_10_sentences                           0.029156   \n                                                    title_and_5_sentences                            0.050617   \n                                                    title_and_first_paragraph                        0.010270   \n                                                    title_and_first_sentence_each_paragraph          0.033894   \nru       AshtonIsNotHere-xlm-roberta-long-base-4096 raw_text                                         0.033669   \n                                                    title                                            0.052944   \n                                                    title_and_10_sentences                           0.020947   \n                                                    title_and_5_sentences                            0.061681   \n                                                    title_and_first_paragraph                        0.050535   \n                                                    title_and_first_sentence_each_paragraph          0.023093   \n\n                                                                                             roc-auc_mean  \\\nlanguage model_name                                 unit_of_analysis                                        \nen       AshtonIsNotHere-xlm-roberta-long-base-4096 raw_text                                     0.784366   \n                                                    title                                        0.745626   \n                                                    title_and_10_sentences                       0.783018   \n                                                    title_and_5_sentences                        0.775029   \n                                                    title_and_first_paragraph                    0.773741   \n                                                    title_and_first_sentence_each_paragraph      0.778087   \nfr       AshtonIsNotHere-xlm-roberta-long-base-4096 raw_text                                     0.716110   \n                                                    title                                        0.668546   \n                                                    title_and_10_sentences                       0.703736   \n                                                    title_and_5_sentences                        0.694846   \n                                                    title_and_first_paragraph                    0.699109   \n                                                    title_and_first_sentence_each_paragraph      0.713142   \nge       AshtonIsNotHere-xlm-roberta-long-base-4096 raw_text                                     0.749629   \n                                                    title                                        0.640200   \n                                                    title_and_10_sentences                       0.713896   \n                                                    title_and_5_sentences                        0.707104   \n                                                    title_and_first_paragraph                    0.696255   \n                                                    title_and_first_sentence_each_paragraph      0.716008   \nit       AshtonIsNotHere-xlm-roberta-long-base-4096 raw_text                                     0.730199   \n                                                    title                                        0.646121   \n                                                    title_and_10_sentences                       0.704657   \n                                                    title_and_5_sentences                        0.691270   \n                                                    title_and_first_paragraph                    0.674134   \n                                                    title_and_first_sentence_each_paragraph      0.696281   \npo       AshtonIsNotHere-xlm-roberta-long-base-4096 raw_text                                     0.747282   \n                                                    title                                        0.643471   \n                                                    title_and_10_sentences                       0.723344   \n                                                    title_and_5_sentences                        0.704926   \n                                                    title_and_first_paragraph                    0.685947   \n                                                    title_and_first_sentence_each_paragraph      0.725728   \nru       AshtonIsNotHere-xlm-roberta-long-base-4096 raw_text                                     0.704546   \n                                                    title                                        0.629739   \n                                                    title_and_10_sentences                       0.670750   \n                                                    title_and_5_sentences                        0.685104   \n                                                    title_and_first_paragraph                    0.665984   \n                                                    title_and_first_sentence_each_paragraph      0.675674   \n\n                                                                                             roc-auc_std  \\\nlanguage model_name                                 unit_of_analysis                                       \nen       AshtonIsNotHere-xlm-roberta-long-base-4096 raw_text                                    0.009515   \n                                                    title                                       0.009161   \n                                                    title_and_10_sentences                      0.010038   \n                                                    title_and_5_sentences                       0.007465   \n                                                    title_and_first_paragraph                   0.006178   \n                                                    title_and_first_sentence_each_paragraph     0.007673   \nfr       AshtonIsNotHere-xlm-roberta-long-base-4096 raw_text                                    0.018342   \n                                                    title                                       0.009455   \n                                                    title_and_10_sentences                      0.012123   \n                                                    title_and_5_sentences                       0.014543   \n                                                    title_and_first_paragraph                   0.021089   \n                                                    title_and_first_sentence_each_paragraph     0.019190   \nge       AshtonIsNotHere-xlm-roberta-long-base-4096 raw_text                                    0.004787   \n                                                    title                                       0.026667   \n                                                    title_and_10_sentences                      0.003181   \n                                                    title_and_5_sentences                       0.015403   \n                                                    title_and_first_paragraph                   0.009333   \n                                                    title_and_first_sentence_each_paragraph     0.008700   \nit       AshtonIsNotHere-xlm-roberta-long-base-4096 raw_text                                    0.031243   \n                                                    title                                       0.018339   \n                                                    title_and_10_sentences                      0.024033   \n                                                    title_and_5_sentences                       0.008372   \n                                                    title_and_first_paragraph                   0.028641   \n                                                    title_and_first_sentence_each_paragraph     0.025401   \npo       AshtonIsNotHere-xlm-roberta-long-base-4096 raw_text                                    0.002324   \n                                                    title                                       0.014308   \n                                                    title_and_10_sentences                      0.010119   \n                                                    title_and_5_sentences                       0.005807   \n                                                    title_and_first_paragraph                   0.014960   \n                                                    title_and_first_sentence_each_paragraph     0.005868   \nru       AshtonIsNotHere-xlm-roberta-long-base-4096 raw_text                                    0.014174   \n                                                    title                                       0.028728   \n                                                    title_and_10_sentences                      0.011075   \n                                                    title_and_5_sentences                       0.031318   \n                                                    title_and_first_paragraph                   0.024193   \n                                                    title_and_first_sentence_each_paragraph     0.009114   \n\n                                                                                             accuracy_mean  \\\nlanguage model_name                                 unit_of_analysis                                         \nen       AshtonIsNotHere-xlm-roberta-long-base-4096 raw_text                                      0.112845   \n                                                    title                                         0.075899   \n                                                    title_and_10_sentences                        0.105014   \n                                                    title_and_5_sentences                         0.110930   \n                                                    title_and_first_paragraph                     0.073961   \n                                                    title_and_first_sentence_each_paragraph       0.103087   \nfr       AshtonIsNotHere-xlm-roberta-long-base-4096 raw_text                                      0.071026   \n                                                    title                                         0.080751   \n                                                    title_and_10_sentences                        0.071093   \n                                                    title_and_5_sentences                         0.080550   \n                                                    title_and_first_paragraph                     0.089940   \n                                                    title_and_first_sentence_each_paragraph       0.113816   \nge       AshtonIsNotHere-xlm-roberta-long-base-4096 raw_text                                      0.124976   \n                                                    title                                         0.045490   \n                                                    title_and_10_sentences                        0.051237   \n                                                    title_and_5_sentences                         0.057082   \n                                                    title_and_first_paragraph                     0.073933   \n                                                    title_and_first_sentence_each_paragraph       0.079778   \nit       AshtonIsNotHere-xlm-roberta-long-base-4096 raw_text                                      0.095710   \n                                                    title                                         0.056106   \n                                                    title_and_10_sentences                        0.092409   \n                                                    title_and_5_sentences                         0.099010   \n                                                    title_and_first_paragraph                     0.062706   \n                                                    title_and_first_sentence_each_paragraph       0.075908   \npo       AshtonIsNotHere-xlm-roberta-long-base-4096 raw_text                                      0.072196   \n                                                    title                                         0.041186   \n                                                    title_and_10_sentences                        0.066987   \n                                                    title_and_5_sentences                         0.056571   \n                                                    title_and_first_paragraph                     0.041186   \n                                                    title_and_first_sentence_each_paragraph       0.061779   \nru       AshtonIsNotHere-xlm-roberta-long-base-4096 raw_text                                      0.167907   \n                                                    title                                         0.073495   \n                                                    title_and_10_sentences                        0.104993   \n                                                    title_and_5_sentences                         0.104911   \n                                                    title_and_first_paragraph                     0.115410   \n                                                    title_and_first_sentence_each_paragraph       0.115410   \n\n                                                                                             accuracy_std  \nlanguage model_name                                 unit_of_analysis                                       \nen       AshtonIsNotHere-xlm-roberta-long-base-4096 raw_text                                     0.003577  \n                                                    title                                        0.011883  \n                                                    title_and_10_sentences                       0.035328  \n                                                    title_and_5_sentences                        0.015781  \n                                                    title_and_first_paragraph                    0.014897  \n                                                    title_and_first_sentence_each_paragraph      0.014404  \nfr       AshtonIsNotHere-xlm-roberta-long-base-4096 raw_text                                     0.037574  \n                                                    title                                        0.036272  \n                                                    title_and_10_sentences                       0.000581  \n                                                    title_and_5_sentences                        0.035878  \n                                                    title_and_first_paragraph                    0.029101  \n                                                    title_and_first_sentence_each_paragraph      0.014995  \nge       AshtonIsNotHere-xlm-roberta-long-base-4096 raw_text                                     0.009252  \n                                                    title                                        0.025991  \n                                                    title_and_10_sentences                       0.017537  \n                                                    title_and_5_sentences                        0.052550  \n                                                    title_and_first_paragraph                    0.035526  \n                                                    title_and_first_sentence_each_paragraph      0.043608  \nit       AshtonIsNotHere-xlm-roberta-long-base-4096 raw_text                                     0.034771  \n                                                    title                                        0.005716  \n                                                    title_and_10_sentences                       0.020611  \n                                                    title_and_5_sentences                        0.029703  \n                                                    title_and_first_paragraph                    0.024917  \n                                                    title_and_first_sentence_each_paragraph      0.020611  \npo       AshtonIsNotHere-xlm-roberta-long-base-4096 raw_text                                     0.009249  \n                                                    title                                        0.008605  \n                                                    title_and_10_sentences                       0.008618  \n                                                    title_and_5_sentences                        0.023238  \n                                                    title_and_first_paragraph                    0.017627  \n                                                    title_and_first_sentence_each_paragraph      0.015025  \nru       AshtonIsNotHere-xlm-roberta-long-base-4096 raw_text                                     0.061285  \n                                                    title                                        0.033500  \n                                                    title_and_10_sentences                       0.046537  \n                                                    title_and_5_sentences                        0.033778  \n                                                    title_and_first_paragraph                    0.037516  \n                                                    title_and_first_sentence_each_paragraph      0.037516  ",
      "text/html": "<div>\n<style scoped>\n    .dataframe tbody tr th:only-of-type {\n        vertical-align: middle;\n    }\n\n    .dataframe tbody tr th {\n        vertical-align: top;\n    }\n\n    .dataframe thead th {\n        text-align: right;\n    }\n</style>\n<table border=\"1\" class=\"dataframe\">\n  <thead>\n    <tr style=\"text-align: right;\">\n      <th></th>\n      <th></th>\n      <th></th>\n      <th>f1-micro_mean</th>\n      <th>f1-micro_std</th>\n      <th>precision-micro_mean</th>\n      <th>precision-micro_std</th>\n      <th>recall-micro_mean</th>\n      <th>recall-micro_std</th>\n      <th>roc-auc_mean</th>\n      <th>roc-auc_std</th>\n      <th>accuracy_mean</th>\n      <th>accuracy_std</th>\n    </tr>\n    <tr>\n      <th>language</th>\n      <th>model_name</th>\n      <th>unit_of_analysis</th>\n      <th></th>\n      <th></th>\n      <th></th>\n      <th></th>\n      <th></th>\n      <th></th>\n      <th></th>\n      <th></th>\n      <th></th>\n      <th></th>\n    </tr>\n  </thead>\n  <tbody>\n    <tr>\n      <th rowspan=\"6\" valign=\"top\">en</th>\n      <th rowspan=\"6\" valign=\"top\">AshtonIsNotHere-xlm-roberta-long-base-4096</th>\n      <th>raw_text</th>\n      <td>0.700232</td>\n      <td>0.017693</td>\n      <td>0.761467</td>\n      <td>0.023577</td>\n      <td>0.648438</td>\n      <td>0.021702</td>\n      <td>0.784366</td>\n      <td>0.009515</td>\n      <td>0.112845</td>\n      <td>0.003577</td>\n    </tr>\n    <tr>\n      <th>title</th>\n      <td>0.640544</td>\n      <td>0.016595</td>\n      <td>0.701902</td>\n      <td>0.018175</td>\n      <td>0.589115</td>\n      <td>0.017033</td>\n      <td>0.745626</td>\n      <td>0.009161</td>\n      <td>0.075899</td>\n      <td>0.011883</td>\n    </tr>\n    <tr>\n      <th>title_and_10_sentences</th>\n      <td>0.698109</td>\n      <td>0.018925</td>\n      <td>0.759254</td>\n      <td>0.020781</td>\n      <td>0.646090</td>\n      <td>0.017688</td>\n      <td>0.783018</td>\n      <td>0.010038</td>\n      <td>0.105014</td>\n      <td>0.035328</td>\n    </tr>\n    <tr>\n      <th>title_and_5_sentences</th>\n      <td>0.685517</td>\n      <td>0.014000</td>\n      <td>0.743276</td>\n      <td>0.008821</td>\n      <td>0.636175</td>\n      <td>0.018743</td>\n      <td>0.775029</td>\n      <td>0.007465</td>\n      <td>0.110930</td>\n      <td>0.015781</td>\n    </tr>\n    <tr>\n      <th>title_and_first_paragraph</th>\n      <td>0.683085</td>\n      <td>0.011545</td>\n      <td>0.737381</td>\n      <td>0.004895</td>\n      <td>0.636308</td>\n      <td>0.016408</td>\n      <td>0.773741</td>\n      <td>0.006178</td>\n      <td>0.073961</td>\n      <td>0.014897</td>\n    </tr>\n    <tr>\n      <th>title_and_first_sentence_each_paragraph</th>\n      <td>0.690757</td>\n      <td>0.017427</td>\n      <td>0.754040</td>\n      <td>0.033417</td>\n      <td>0.637525</td>\n      <td>0.006938</td>\n      <td>0.778087</td>\n      <td>0.007673</td>\n      <td>0.103087</td>\n      <td>0.014404</td>\n    </tr>\n    <tr>\n      <th rowspan=\"6\" valign=\"top\">fr</th>\n      <th rowspan=\"6\" valign=\"top\">AshtonIsNotHere-xlm-roberta-long-base-4096</th>\n      <th>raw_text</th>\n      <td>0.567744</td>\n      <td>0.025649</td>\n      <td>0.640610</td>\n      <td>0.045529</td>\n      <td>0.511100</td>\n      <td>0.031319</td>\n      <td>0.716110</td>\n      <td>0.018342</td>\n      <td>0.071026</td>\n      <td>0.037574</td>\n    </tr>\n    <tr>\n      <th>title</th>\n      <td>0.485518</td>\n      <td>0.021662</td>\n      <td>0.570946</td>\n      <td>0.054597</td>\n      <td>0.424682</td>\n      <td>0.028072</td>\n      <td>0.668546</td>\n      <td>0.009455</td>\n      <td>0.080751</td>\n      <td>0.036272</td>\n    </tr>\n    <tr>\n      <th>title_and_10_sentences</th>\n      <td>0.546452</td>\n      <td>0.016293</td>\n      <td>0.617749</td>\n      <td>0.026329</td>\n      <td>0.490205</td>\n      <td>0.016283</td>\n      <td>0.703736</td>\n      <td>0.012123</td>\n      <td>0.071093</td>\n      <td>0.000581</td>\n    </tr>\n    <tr>\n      <th>title_and_5_sentences</th>\n      <td>0.531221</td>\n      <td>0.022245</td>\n      <td>0.607852</td>\n      <td>0.009220</td>\n      <td>0.472361</td>\n      <td>0.032692</td>\n      <td>0.694846</td>\n      <td>0.014543</td>\n      <td>0.080550</td>\n      <td>0.035878</td>\n    </tr>\n    <tr>\n      <th>title_and_first_paragraph</th>\n      <td>0.539356</td>\n      <td>0.030282</td>\n      <td>0.628561</td>\n      <td>0.012873</td>\n      <td>0.474360</td>\n      <td>0.050874</td>\n      <td>0.699109</td>\n      <td>0.021089</td>\n      <td>0.089940</td>\n      <td>0.029101</td>\n    </tr>\n    <tr>\n      <th>title_and_first_sentence_each_paragraph</th>\n      <td>0.562919</td>\n      <td>0.023132</td>\n      <td>0.646810</td>\n      <td>0.023751</td>\n      <td>0.500675</td>\n      <td>0.046793</td>\n      <td>0.713142</td>\n      <td>0.019190</td>\n      <td>0.113816</td>\n      <td>0.014995</td>\n    </tr>\n    <tr>\n      <th rowspan=\"6\" valign=\"top\">ge</th>\n      <th rowspan=\"6\" valign=\"top\">AshtonIsNotHere-xlm-roberta-long-base-4096</th>\n      <th>raw_text</th>\n      <td>0.658114</td>\n      <td>0.001306</td>\n      <td>0.730018</td>\n      <td>0.026825</td>\n      <td>0.599954</td>\n      <td>0.019197</td>\n      <td>0.749629</td>\n      <td>0.004787</td>\n      <td>0.124976</td>\n      <td>0.009252</td>\n    </tr>\n    <tr>\n      <th>title</th>\n      <td>0.481710</td>\n      <td>0.052231</td>\n      <td>0.590813</td>\n      <td>0.052795</td>\n      <td>0.407633</td>\n      <td>0.054769</td>\n      <td>0.640200</td>\n      <td>0.026667</td>\n      <td>0.045490</td>\n      <td>0.025991</td>\n    </tr>\n    <tr>\n      <th>title_and_10_sentences</th>\n      <td>0.603854</td>\n      <td>0.007190</td>\n      <td>0.676591</td>\n      <td>0.040462</td>\n      <td>0.546604</td>\n      <td>0.018944</td>\n      <td>0.713896</td>\n      <td>0.003181</td>\n      <td>0.051237</td>\n      <td>0.017537</td>\n    </tr>\n    <tr>\n      <th>title_and_5_sentences</th>\n      <td>0.594598</td>\n      <td>0.020215</td>\n      <td>0.671363</td>\n      <td>0.052224</td>\n      <td>0.534730</td>\n      <td>0.011037</td>\n      <td>0.707104</td>\n      <td>0.015403</td>\n      <td>0.057082</td>\n      <td>0.052550</td>\n    </tr>\n    <tr>\n      <th>title_and_first_paragraph</th>\n      <td>0.577792</td>\n      <td>0.019728</td>\n      <td>0.640463</td>\n      <td>0.028195</td>\n      <td>0.526367</td>\n      <td>0.014410</td>\n      <td>0.696255</td>\n      <td>0.009333</td>\n      <td>0.073933</td>\n      <td>0.035526</td>\n    </tr>\n    <tr>\n      <th>title_and_first_sentence_each_paragraph</th>\n      <td>0.607281</td>\n      <td>0.016786</td>\n      <td>0.676769</td>\n      <td>0.037952</td>\n      <td>0.551501</td>\n      <td>0.017477</td>\n      <td>0.716008</td>\n      <td>0.008700</td>\n      <td>0.079778</td>\n      <td>0.043608</td>\n    </tr>\n    <tr>\n      <th rowspan=\"6\" valign=\"top\">it</th>\n      <th rowspan=\"6\" valign=\"top\">AshtonIsNotHere-xlm-roberta-long-base-4096</th>\n      <th>raw_text</th>\n      <td>0.612195</td>\n      <td>0.047880</td>\n      <td>0.656173</td>\n      <td>0.059035</td>\n      <td>0.573932</td>\n      <td>0.039979</td>\n      <td>0.730199</td>\n      <td>0.031243</td>\n      <td>0.095710</td>\n      <td>0.034771</td>\n    </tr>\n    <tr>\n      <th>title</th>\n      <td>0.473615</td>\n      <td>0.035123</td>\n      <td>0.577392</td>\n      <td>0.013597</td>\n      <td>0.402472</td>\n      <td>0.045801</td>\n      <td>0.646121</td>\n      <td>0.018339</td>\n      <td>0.056106</td>\n      <td>0.005716</td>\n    </tr>\n    <tr>\n      <th>title_and_10_sentences</th>\n      <td>0.572918</td>\n      <td>0.037349</td>\n      <td>0.625061</td>\n      <td>0.051033</td>\n      <td>0.528968</td>\n      <td>0.027051</td>\n      <td>0.704657</td>\n      <td>0.024033</td>\n      <td>0.092409</td>\n      <td>0.020611</td>\n    </tr>\n    <tr>\n      <th>title_and_5_sentences</th>\n      <td>0.552236</td>\n      <td>0.012114</td>\n      <td>0.630771</td>\n      <td>0.047971</td>\n      <td>0.492530</td>\n      <td>0.011478</td>\n      <td>0.691270</td>\n      <td>0.008372</td>\n      <td>0.099010</td>\n      <td>0.029703</td>\n    </tr>\n    <tr>\n      <th>title_and_first_paragraph</th>\n      <td>0.522629</td>\n      <td>0.048530</td>\n      <td>0.604855</td>\n      <td>0.040024</td>\n      <td>0.460414</td>\n      <td>0.052352</td>\n      <td>0.674134</td>\n      <td>0.028641</td>\n      <td>0.062706</td>\n      <td>0.024917</td>\n    </tr>\n    <tr>\n      <th>title_and_first_sentence_each_paragraph</th>\n      <td>0.559655</td>\n      <td>0.040672</td>\n      <td>0.638994</td>\n      <td>0.038461</td>\n      <td>0.497965</td>\n      <td>0.041486</td>\n      <td>0.696281</td>\n      <td>0.025401</td>\n      <td>0.075908</td>\n      <td>0.020611</td>\n    </tr>\n    <tr>\n      <th rowspan=\"6\" valign=\"top\">po</th>\n      <th rowspan=\"6\" valign=\"top\">AshtonIsNotHere-xlm-roberta-long-base-4096</th>\n      <th>raw_text</th>\n      <td>0.669834</td>\n      <td>0.012217</td>\n      <td>0.724459</td>\n      <td>0.053863</td>\n      <td>0.624978</td>\n      <td>0.018952</td>\n      <td>0.747282</td>\n      <td>0.002324</td>\n      <td>0.072196</td>\n      <td>0.009249</td>\n    </tr>\n    <tr>\n      <th>title</th>\n      <td>0.513491</td>\n      <td>0.028432</td>\n      <td>0.604448</td>\n      <td>0.072449</td>\n      <td>0.450099</td>\n      <td>0.039501</td>\n      <td>0.643471</td>\n      <td>0.014308</td>\n      <td>0.041186</td>\n      <td>0.008605</td>\n    </tr>\n    <tr>\n      <th>title_and_10_sentences</th>\n      <td>0.635858</td>\n      <td>0.019076</td>\n      <td>0.699975</td>\n      <td>0.085904</td>\n      <td>0.587454</td>\n      <td>0.029156</td>\n      <td>0.723344</td>\n      <td>0.010119</td>\n      <td>0.066987</td>\n      <td>0.008618</td>\n    </tr>\n    <tr>\n      <th>title_and_5_sentences</th>\n      <td>0.610558</td>\n      <td>0.014343</td>\n      <td>0.678991</td>\n      <td>0.067358</td>\n      <td>0.560287</td>\n      <td>0.050617</td>\n      <td>0.704926</td>\n      <td>0.005807</td>\n      <td>0.056571</td>\n      <td>0.023238</td>\n    </tr>\n    <tr>\n      <th>title_and_first_paragraph</th>\n      <td>0.583600</td>\n      <td>0.028596</td>\n      <td>0.640895</td>\n      <td>0.071666</td>\n      <td>0.537953</td>\n      <td>0.010270</td>\n      <td>0.685947</td>\n      <td>0.014960</td>\n      <td>0.041186</td>\n      <td>0.017627</td>\n    </tr>\n    <tr>\n      <th>title_and_first_sentence_each_paragraph</th>\n      <td>0.637180</td>\n      <td>0.015941</td>\n      <td>0.725053</td>\n      <td>0.066407</td>\n      <td>0.571576</td>\n      <td>0.033894</td>\n      <td>0.725728</td>\n      <td>0.005868</td>\n      <td>0.061779</td>\n      <td>0.015025</td>\n    </tr>\n    <tr>\n      <th rowspan=\"6\" valign=\"top\">ru</th>\n      <th rowspan=\"6\" valign=\"top\">AshtonIsNotHere-xlm-roberta-long-base-4096</th>\n      <th>raw_text</th>\n      <td>0.534972</td>\n      <td>0.012050</td>\n      <td>0.626496</td>\n      <td>0.025672</td>\n      <td>0.468459</td>\n      <td>0.033669</td>\n      <td>0.704546</td>\n      <td>0.014174</td>\n      <td>0.167907</td>\n      <td>0.061285</td>\n    </tr>\n    <tr>\n      <th>title</th>\n      <td>0.395327</td>\n      <td>0.058352</td>\n      <td>0.476394</td>\n      <td>0.064519</td>\n      <td>0.337914</td>\n      <td>0.052944</td>\n      <td>0.629739</td>\n      <td>0.028728</td>\n      <td>0.073495</td>\n      <td>0.033500</td>\n    </tr>\n    <tr>\n      <th>title_and_10_sentences</th>\n      <td>0.474459</td>\n      <td>0.021087</td>\n      <td>0.573272</td>\n      <td>0.047289</td>\n      <td>0.405790</td>\n      <td>0.020947</td>\n      <td>0.670750</td>\n      <td>0.011075</td>\n      <td>0.104993</td>\n      <td>0.046537</td>\n    </tr>\n    <tr>\n      <th>title_and_5_sentences</th>\n      <td>0.501664</td>\n      <td>0.060664</td>\n      <td>0.602481</td>\n      <td>0.059128</td>\n      <td>0.430562</td>\n      <td>0.061681</td>\n      <td>0.685104</td>\n      <td>0.031318</td>\n      <td>0.104911</td>\n      <td>0.033778</td>\n    </tr>\n    <tr>\n      <th>title_and_first_paragraph</th>\n      <td>0.463473</td>\n      <td>0.046791</td>\n      <td>0.548480</td>\n      <td>0.040643</td>\n      <td>0.401831</td>\n      <td>0.050535</td>\n      <td>0.665984</td>\n      <td>0.024193</td>\n      <td>0.115410</td>\n      <td>0.037516</td>\n    </tr>\n    <tr>\n      <th>title_and_first_sentence_each_paragraph</th>\n      <td>0.488408</td>\n      <td>0.011606</td>\n      <td>0.616178</td>\n      <td>0.019378</td>\n      <td>0.405339</td>\n      <td>0.023093</td>\n      <td>0.675674</td>\n      <td>0.009114</td>\n      <td>0.115410</td>\n      <td>0.037516</td>\n    </tr>\n  </tbody>\n</table>\n</div>"
     },
     "execution_count": 10,
     "metadata": {},
     "output_type": "execute_result"
    }
   ],
   "source": [
    "results_df"
   ],
   "metadata": {
    "collapsed": false
   }
  },
  {
   "cell_type": "code",
   "execution_count": 11,
   "id": "143ecba4-ffb9-45e9-869c-87d16caea017",
   "metadata": {
    "tags": []
   },
   "outputs": [],
   "source": [
    "def display_metrics_and_write_to_file(df, grouping_criterion, output_dir):\n",
    "    os.makedirs(output_dir, exist_ok=True)\n",
    "    report_tables_dfs_dict = {metric: [] for metric in metrics_to_report}\n",
    "\n",
    "    for language, results_df in df.groupby(level=0):\n",
    "        display(Markdown(f'# {language_dict[language]}'))\n",
    "        \n",
    "        for metric in metrics_to_report:\n",
    "            os.makedirs(os.path.join(output_dir, metric), exist_ok=True)\n",
    "\n",
    "            output_dir_markdown = os.path.join(output_dir, metric, 'markdown')\n",
    "            output_dir_latex = os.path.join(output_dir, metric, 'latex')\n",
    "            output_dir_csv = os.path.join(output_dir, metric, 'csv')\n",
    "\n",
    "            os.makedirs(output_dir_markdown, exist_ok=True)\n",
    "            os.makedirs(output_dir_latex, exist_ok=True)\n",
    "            os.makedirs(output_dir_csv, exist_ok=True)\n",
    "\n",
    "            display(Markdown(f'## {metric}'))\n",
    "\n",
    "            report_table = display_performance_table(df=results_df, index_cols=grouping_criterion, metric=metric, display_=True)\n",
    "\n",
    "            # Export as markdown\n",
    "            markdown_file = open(os.path.join(output_dir_markdown, f\"{language_dict[language]}_{metric}.md\"), \"w\")\n",
    "            report_table.reset_index().to_markdown(markdown_file, index=False)\n",
    "            markdown_file.close()\n",
    "\n",
    "            # Export as latex table\n",
    "            latex_file = open(os.path.join(output_dir_latex, f\"{language_dict[language]}_{metric}.tex\"), \"w\")\n",
    "            report_table.reset_index().to_latex(latex_file, index=False)\n",
    "            latex_file.close()\n",
    "\n",
    "            # Export as csv\n",
    "            report_table.to_csv(os.path.join(output_dir_csv, f\"{language_dict[language]}_{metric}.csv\"))\n",
    "\n",
    "            # Stack all languages into single table\n",
    "            report_table['language'] = language\n",
    "            report_table = report_table.reset_index().set_index(['language'] + grouping_criterion)\n",
    "\n",
    "            report_tables_dfs_dict[metric].append(report_table)\n",
    "\n",
    "    # Report or store unified table\n",
    "    display(Markdown(f'# All 6 Languages'))\n",
    "    for metric in metrics_to_report:\n",
    "        display(Markdown(f'## {metric}'))\n",
    "        multi_language_report_table_metric = pd.concat(report_tables_dfs_dict[metric])\n",
    "        display(Markdown(multi_language_report_table_metric.reset_index().to_markdown(index=False)))\n",
    "\n",
    "        output_dir_markdown = os.path.join(output_dir, metric, 'markdown')\n",
    "        output_dir_latex = os.path.join(output_dir, metric, 'latex')\n",
    "        output_dir_csv = os.path.join(output_dir, metric, 'csv')\n",
    "\n",
    "        # Export as markdown\n",
    "        markdown_file = open(os.path.join(output_dir_markdown, f\"all_6_languages_{metric}.md\"), \"w\")\n",
    "        multi_language_report_table_metric.reset_index().to_markdown(markdown_file, index=False)\n",
    "        markdown_file.close()\n",
    "\n",
    "        # Export as latex table\n",
    "        latex_file = open(os.path.join(output_dir_latex, f\"all_6_languages_{metric}.tex\"), \"w\")\n",
    "        multi_language_report_table_metric.reset_index().to_latex(latex_file, index=False)\n",
    "        latex_file.close()\n",
    "\n",
    "        # Export as csv\n",
    "        multi_language_report_table_metric.to_csv(os.path.join(output_dir_csv, f\"all_6_languages_{metric}.csv\"))"
   ]
  },
  {
   "cell_type": "markdown",
   "id": "2f01d754-49ba-4c74-8220-2e144f624044",
   "metadata": {},
   "source": [
    "# Per model type"
   ]
  },
  {
   "cell_type": "code",
   "execution_count": 12,
   "id": "e5abb824-f93a-44fd-8203-a0b84224b0fa",
   "metadata": {
    "tags": []
   },
   "outputs": [
    {
     "data": {
      "text/plain": "<IPython.core.display.Markdown object>",
      "text/markdown": "# English"
     },
     "metadata": {},
     "output_type": "display_data"
    },
    {
     "data": {
      "text/plain": "<IPython.core.display.Markdown object>",
      "text/markdown": "## f1-micro"
     },
     "metadata": {},
     "output_type": "display_data"
    },
    {
     "data": {
      "text/plain": "<IPython.core.display.Markdown object>",
      "text/markdown": "| model_name                                 | title           | title and first paragraph   | title and 5 sentences   | title and 10 sentences   | title and first sentence each paragraph   | raw text            |\n|:-------------------------------------------|:----------------|:----------------------------|:------------------------|:-------------------------|:------------------------------------------|:--------------------|\n| AshtonIsNotHere-xlm-roberta-long-base-4096 | 0.64 $\\pm$ 0.02 | 0.68 $\\pm$ 0.01             | 0.69 $\\pm$ 0.01         | **0.70 $\\pm$ 0.02**      | 0.69 $\\pm$ 0.02                           | **0.70 $\\pm$ 0.02** |"
     },
     "metadata": {},
     "output_type": "display_data"
    },
    {
     "name": "stderr",
     "output_type": "stream",
     "text": [
      "/tmp/ipykernel_65223/2331756451.py:30: FutureWarning: In future versions `DataFrame.to_latex` is expected to utilise the base implementation of `Styler.to_latex` for formatting and rendering. The arguments signature may therefore change. It is recommended instead to use `DataFrame.style.to_latex` which also contains additional functionality.\n",
      "  report_table.reset_index().to_latex(latex_file, index=False)\n"
     ]
    },
    {
     "data": {
      "text/plain": "<IPython.core.display.Markdown object>",
      "text/markdown": "## recall-micro"
     },
     "metadata": {},
     "output_type": "display_data"
    },
    {
     "data": {
      "text/plain": "<IPython.core.display.Markdown object>",
      "text/markdown": "| model_name                                 | title           | title and first paragraph   | title and 5 sentences   | title and 10 sentences   | title and first sentence each paragraph   | raw text            |\n|:-------------------------------------------|:----------------|:----------------------------|:------------------------|:-------------------------|:------------------------------------------|:--------------------|\n| AshtonIsNotHere-xlm-roberta-long-base-4096 | 0.59 $\\pm$ 0.02 | 0.64 $\\pm$ 0.02             | 0.64 $\\pm$ 0.02         | **0.65 $\\pm$ 0.02**      | 0.64 $\\pm$ 0.01                           | **0.65 $\\pm$ 0.02** |"
     },
     "metadata": {},
     "output_type": "display_data"
    },
    {
     "name": "stderr",
     "output_type": "stream",
     "text": [
      "/tmp/ipykernel_65223/2331756451.py:30: FutureWarning: In future versions `DataFrame.to_latex` is expected to utilise the base implementation of `Styler.to_latex` for formatting and rendering. The arguments signature may therefore change. It is recommended instead to use `DataFrame.style.to_latex` which also contains additional functionality.\n",
      "  report_table.reset_index().to_latex(latex_file, index=False)\n"
     ]
    },
    {
     "data": {
      "text/plain": "<IPython.core.display.Markdown object>",
      "text/markdown": "## precision-micro"
     },
     "metadata": {},
     "output_type": "display_data"
    },
    {
     "data": {
      "text/plain": "<IPython.core.display.Markdown object>",
      "text/markdown": "| model_name                                 | title           | title and first paragraph   | title and 5 sentences   | title and 10 sentences   | title and first sentence each paragraph   | raw text            |\n|:-------------------------------------------|:----------------|:----------------------------|:------------------------|:-------------------------|:------------------------------------------|:--------------------|\n| AshtonIsNotHere-xlm-roberta-long-base-4096 | 0.70 $\\pm$ 0.02 | 0.74 $\\pm$ 0.00             | 0.74 $\\pm$ 0.01         | **0.76 $\\pm$ 0.02**      | 0.75 $\\pm$ 0.03                           | **0.76 $\\pm$ 0.02** |"
     },
     "metadata": {},
     "output_type": "display_data"
    },
    {
     "name": "stderr",
     "output_type": "stream",
     "text": [
      "/tmp/ipykernel_65223/2331756451.py:30: FutureWarning: In future versions `DataFrame.to_latex` is expected to utilise the base implementation of `Styler.to_latex` for formatting and rendering. The arguments signature may therefore change. It is recommended instead to use `DataFrame.style.to_latex` which also contains additional functionality.\n",
      "  report_table.reset_index().to_latex(latex_file, index=False)\n"
     ]
    },
    {
     "data": {
      "text/plain": "<IPython.core.display.Markdown object>",
      "text/markdown": "## roc-auc"
     },
     "metadata": {},
     "output_type": "display_data"
    },
    {
     "data": {
      "text/plain": "<IPython.core.display.Markdown object>",
      "text/markdown": "| model_name                                 | title           | title and first paragraph   | title and 5 sentences   | title and 10 sentences   | title and first sentence each paragraph   | raw text            |\n|:-------------------------------------------|:----------------|:----------------------------|:------------------------|:-------------------------|:------------------------------------------|:--------------------|\n| AshtonIsNotHere-xlm-roberta-long-base-4096 | 0.75 $\\pm$ 0.01 | 0.77 $\\pm$ 0.01             | **0.78 $\\pm$ 0.01**     | **0.78 $\\pm$ 0.01**      | **0.78 $\\pm$ 0.01**                       | **0.78 $\\pm$ 0.01** |"
     },
     "metadata": {},
     "output_type": "display_data"
    },
    {
     "name": "stderr",
     "output_type": "stream",
     "text": [
      "/tmp/ipykernel_65223/2331756451.py:30: FutureWarning: In future versions `DataFrame.to_latex` is expected to utilise the base implementation of `Styler.to_latex` for formatting and rendering. The arguments signature may therefore change. It is recommended instead to use `DataFrame.style.to_latex` which also contains additional functionality.\n",
      "  report_table.reset_index().to_latex(latex_file, index=False)\n"
     ]
    },
    {
     "data": {
      "text/plain": "<IPython.core.display.Markdown object>",
      "text/markdown": "## accuracy"
     },
     "metadata": {},
     "output_type": "display_data"
    },
    {
     "data": {
      "text/plain": "<IPython.core.display.Markdown object>",
      "text/markdown": "| model_name                                 | title           | title and first paragraph   | title and 5 sentences   | title and 10 sentences   | title and first sentence each paragraph   | raw text            |\n|:-------------------------------------------|:----------------|:----------------------------|:------------------------|:-------------------------|:------------------------------------------|:--------------------|\n| AshtonIsNotHere-xlm-roberta-long-base-4096 | 0.08 $\\pm$ 0.01 | 0.07 $\\pm$ 0.01             | **0.11 $\\pm$ 0.02**     | **0.11 $\\pm$ 0.04**      | 0.10 $\\pm$ 0.01                           | **0.11 $\\pm$ 0.00** |"
     },
     "metadata": {},
     "output_type": "display_data"
    },
    {
     "name": "stderr",
     "output_type": "stream",
     "text": [
      "/tmp/ipykernel_65223/2331756451.py:30: FutureWarning: In future versions `DataFrame.to_latex` is expected to utilise the base implementation of `Styler.to_latex` for formatting and rendering. The arguments signature may therefore change. It is recommended instead to use `DataFrame.style.to_latex` which also contains additional functionality.\n",
      "  report_table.reset_index().to_latex(latex_file, index=False)\n"
     ]
    },
    {
     "data": {
      "text/plain": "<IPython.core.display.Markdown object>",
      "text/markdown": "# French"
     },
     "metadata": {},
     "output_type": "display_data"
    },
    {
     "data": {
      "text/plain": "<IPython.core.display.Markdown object>",
      "text/markdown": "## f1-micro"
     },
     "metadata": {},
     "output_type": "display_data"
    },
    {
     "data": {
      "text/plain": "<IPython.core.display.Markdown object>",
      "text/markdown": "| model_name                                 | title           | title and first paragraph   | title and 5 sentences   | title and 10 sentences   | title and first sentence each paragraph   | raw text            |\n|:-------------------------------------------|:----------------|:----------------------------|:------------------------|:-------------------------|:------------------------------------------|:--------------------|\n| AshtonIsNotHere-xlm-roberta-long-base-4096 | 0.49 $\\pm$ 0.02 | 0.54 $\\pm$ 0.03             | 0.53 $\\pm$ 0.02         | 0.55 $\\pm$ 0.02          | 0.56 $\\pm$ 0.02                           | **0.57 $\\pm$ 0.03** |"
     },
     "metadata": {},
     "output_type": "display_data"
    },
    {
     "name": "stderr",
     "output_type": "stream",
     "text": [
      "/tmp/ipykernel_65223/2331756451.py:30: FutureWarning: In future versions `DataFrame.to_latex` is expected to utilise the base implementation of `Styler.to_latex` for formatting and rendering. The arguments signature may therefore change. It is recommended instead to use `DataFrame.style.to_latex` which also contains additional functionality.\n",
      "  report_table.reset_index().to_latex(latex_file, index=False)\n"
     ]
    },
    {
     "data": {
      "text/plain": "<IPython.core.display.Markdown object>",
      "text/markdown": "## recall-micro"
     },
     "metadata": {},
     "output_type": "display_data"
    },
    {
     "data": {
      "text/plain": "<IPython.core.display.Markdown object>",
      "text/markdown": "| model_name                                 | title           | title and first paragraph   | title and 5 sentences   | title and 10 sentences   | title and first sentence each paragraph   | raw text            |\n|:-------------------------------------------|:----------------|:----------------------------|:------------------------|:-------------------------|:------------------------------------------|:--------------------|\n| AshtonIsNotHere-xlm-roberta-long-base-4096 | 0.42 $\\pm$ 0.03 | 0.47 $\\pm$ 0.05             | 0.47 $\\pm$ 0.03         | 0.49 $\\pm$ 0.02          | 0.50 $\\pm$ 0.05                           | **0.51 $\\pm$ 0.03** |"
     },
     "metadata": {},
     "output_type": "display_data"
    },
    {
     "name": "stderr",
     "output_type": "stream",
     "text": [
      "/tmp/ipykernel_65223/2331756451.py:30: FutureWarning: In future versions `DataFrame.to_latex` is expected to utilise the base implementation of `Styler.to_latex` for formatting and rendering. The arguments signature may therefore change. It is recommended instead to use `DataFrame.style.to_latex` which also contains additional functionality.\n",
      "  report_table.reset_index().to_latex(latex_file, index=False)\n"
     ]
    },
    {
     "data": {
      "text/plain": "<IPython.core.display.Markdown object>",
      "text/markdown": "## precision-micro"
     },
     "metadata": {},
     "output_type": "display_data"
    },
    {
     "data": {
      "text/plain": "<IPython.core.display.Markdown object>",
      "text/markdown": "| model_name                                 | title           | title and first paragraph   | title and 5 sentences   | title and 10 sentences   | title and first sentence each paragraph   | raw text        |\n|:-------------------------------------------|:----------------|:----------------------------|:------------------------|:-------------------------|:------------------------------------------|:----------------|\n| AshtonIsNotHere-xlm-roberta-long-base-4096 | 0.57 $\\pm$ 0.05 | 0.63 $\\pm$ 0.01             | 0.61 $\\pm$ 0.01         | 0.62 $\\pm$ 0.03          | **0.65 $\\pm$ 0.02**                       | 0.64 $\\pm$ 0.05 |"
     },
     "metadata": {},
     "output_type": "display_data"
    },
    {
     "name": "stderr",
     "output_type": "stream",
     "text": [
      "/tmp/ipykernel_65223/2331756451.py:30: FutureWarning: In future versions `DataFrame.to_latex` is expected to utilise the base implementation of `Styler.to_latex` for formatting and rendering. The arguments signature may therefore change. It is recommended instead to use `DataFrame.style.to_latex` which also contains additional functionality.\n",
      "  report_table.reset_index().to_latex(latex_file, index=False)\n"
     ]
    },
    {
     "data": {
      "text/plain": "<IPython.core.display.Markdown object>",
      "text/markdown": "## roc-auc"
     },
     "metadata": {},
     "output_type": "display_data"
    },
    {
     "data": {
      "text/plain": "<IPython.core.display.Markdown object>",
      "text/markdown": "| model_name                                 | title           | title and first paragraph   | title and 5 sentences   | title and 10 sentences   | title and first sentence each paragraph   | raw text            |\n|:-------------------------------------------|:----------------|:----------------------------|:------------------------|:-------------------------|:------------------------------------------|:--------------------|\n| AshtonIsNotHere-xlm-roberta-long-base-4096 | 0.67 $\\pm$ 0.01 | 0.70 $\\pm$ 0.02             | 0.69 $\\pm$ 0.01         | 0.70 $\\pm$ 0.01          | 0.71 $\\pm$ 0.02                           | **0.72 $\\pm$ 0.02** |"
     },
     "metadata": {},
     "output_type": "display_data"
    },
    {
     "name": "stderr",
     "output_type": "stream",
     "text": [
      "/tmp/ipykernel_65223/2331756451.py:30: FutureWarning: In future versions `DataFrame.to_latex` is expected to utilise the base implementation of `Styler.to_latex` for formatting and rendering. The arguments signature may therefore change. It is recommended instead to use `DataFrame.style.to_latex` which also contains additional functionality.\n",
      "  report_table.reset_index().to_latex(latex_file, index=False)\n"
     ]
    },
    {
     "data": {
      "text/plain": "<IPython.core.display.Markdown object>",
      "text/markdown": "## accuracy"
     },
     "metadata": {},
     "output_type": "display_data"
    },
    {
     "data": {
      "text/plain": "<IPython.core.display.Markdown object>",
      "text/markdown": "| model_name                                 | title           | title and first paragraph   | title and 5 sentences   | title and 10 sentences   | title and first sentence each paragraph   | raw text        |\n|:-------------------------------------------|:----------------|:----------------------------|:------------------------|:-------------------------|:------------------------------------------|:----------------|\n| AshtonIsNotHere-xlm-roberta-long-base-4096 | 0.08 $\\pm$ 0.04 | 0.09 $\\pm$ 0.03             | 0.08 $\\pm$ 0.04         | 0.07 $\\pm$ 0.00          | **0.11 $\\pm$ 0.01**                       | 0.07 $\\pm$ 0.04 |"
     },
     "metadata": {},
     "output_type": "display_data"
    },
    {
     "name": "stderr",
     "output_type": "stream",
     "text": [
      "/tmp/ipykernel_65223/2331756451.py:30: FutureWarning: In future versions `DataFrame.to_latex` is expected to utilise the base implementation of `Styler.to_latex` for formatting and rendering. The arguments signature may therefore change. It is recommended instead to use `DataFrame.style.to_latex` which also contains additional functionality.\n",
      "  report_table.reset_index().to_latex(latex_file, index=False)\n"
     ]
    },
    {
     "data": {
      "text/plain": "<IPython.core.display.Markdown object>",
      "text/markdown": "# German"
     },
     "metadata": {},
     "output_type": "display_data"
    },
    {
     "data": {
      "text/plain": "<IPython.core.display.Markdown object>",
      "text/markdown": "## f1-micro"
     },
     "metadata": {},
     "output_type": "display_data"
    },
    {
     "data": {
      "text/plain": "<IPython.core.display.Markdown object>",
      "text/markdown": "| model_name                                 | title           | title and first paragraph   | title and 5 sentences   | title and 10 sentences   | title and first sentence each paragraph   | raw text            |\n|:-------------------------------------------|:----------------|:----------------------------|:------------------------|:-------------------------|:------------------------------------------|:--------------------|\n| AshtonIsNotHere-xlm-roberta-long-base-4096 | 0.48 $\\pm$ 0.05 | 0.58 $\\pm$ 0.02             | 0.59 $\\pm$ 0.02         | 0.60 $\\pm$ 0.01          | 0.61 $\\pm$ 0.02                           | **0.66 $\\pm$ 0.00** |"
     },
     "metadata": {},
     "output_type": "display_data"
    },
    {
     "name": "stderr",
     "output_type": "stream",
     "text": [
      "/tmp/ipykernel_65223/2331756451.py:30: FutureWarning: In future versions `DataFrame.to_latex` is expected to utilise the base implementation of `Styler.to_latex` for formatting and rendering. The arguments signature may therefore change. It is recommended instead to use `DataFrame.style.to_latex` which also contains additional functionality.\n",
      "  report_table.reset_index().to_latex(latex_file, index=False)\n"
     ]
    },
    {
     "data": {
      "text/plain": "<IPython.core.display.Markdown object>",
      "text/markdown": "## recall-micro"
     },
     "metadata": {},
     "output_type": "display_data"
    },
    {
     "data": {
      "text/plain": "<IPython.core.display.Markdown object>",
      "text/markdown": "| model_name                                 | title           | title and first paragraph   | title and 5 sentences   | title and 10 sentences   | title and first sentence each paragraph   | raw text            |\n|:-------------------------------------------|:----------------|:----------------------------|:------------------------|:-------------------------|:------------------------------------------|:--------------------|\n| AshtonIsNotHere-xlm-roberta-long-base-4096 | 0.41 $\\pm$ 0.05 | 0.53 $\\pm$ 0.01             | 0.53 $\\pm$ 0.01         | 0.55 $\\pm$ 0.02          | 0.55 $\\pm$ 0.02                           | **0.60 $\\pm$ 0.02** |"
     },
     "metadata": {},
     "output_type": "display_data"
    },
    {
     "name": "stderr",
     "output_type": "stream",
     "text": [
      "/tmp/ipykernel_65223/2331756451.py:30: FutureWarning: In future versions `DataFrame.to_latex` is expected to utilise the base implementation of `Styler.to_latex` for formatting and rendering. The arguments signature may therefore change. It is recommended instead to use `DataFrame.style.to_latex` which also contains additional functionality.\n",
      "  report_table.reset_index().to_latex(latex_file, index=False)\n"
     ]
    },
    {
     "data": {
      "text/plain": "<IPython.core.display.Markdown object>",
      "text/markdown": "## precision-micro"
     },
     "metadata": {},
     "output_type": "display_data"
    },
    {
     "data": {
      "text/plain": "<IPython.core.display.Markdown object>",
      "text/markdown": "| model_name                                 | title           | title and first paragraph   | title and 5 sentences   | title and 10 sentences   | title and first sentence each paragraph   | raw text            |\n|:-------------------------------------------|:----------------|:----------------------------|:------------------------|:-------------------------|:------------------------------------------|:--------------------|\n| AshtonIsNotHere-xlm-roberta-long-base-4096 | 0.59 $\\pm$ 0.05 | 0.64 $\\pm$ 0.03             | 0.67 $\\pm$ 0.05         | 0.68 $\\pm$ 0.04          | 0.68 $\\pm$ 0.04                           | **0.73 $\\pm$ 0.03** |"
     },
     "metadata": {},
     "output_type": "display_data"
    },
    {
     "name": "stderr",
     "output_type": "stream",
     "text": [
      "/tmp/ipykernel_65223/2331756451.py:30: FutureWarning: In future versions `DataFrame.to_latex` is expected to utilise the base implementation of `Styler.to_latex` for formatting and rendering. The arguments signature may therefore change. It is recommended instead to use `DataFrame.style.to_latex` which also contains additional functionality.\n",
      "  report_table.reset_index().to_latex(latex_file, index=False)\n"
     ]
    },
    {
     "data": {
      "text/plain": "<IPython.core.display.Markdown object>",
      "text/markdown": "## roc-auc"
     },
     "metadata": {},
     "output_type": "display_data"
    },
    {
     "data": {
      "text/plain": "<IPython.core.display.Markdown object>",
      "text/markdown": "| model_name                                 | title           | title and first paragraph   | title and 5 sentences   | title and 10 sentences   | title and first sentence each paragraph   | raw text            |\n|:-------------------------------------------|:----------------|:----------------------------|:------------------------|:-------------------------|:------------------------------------------|:--------------------|\n| AshtonIsNotHere-xlm-roberta-long-base-4096 | 0.64 $\\pm$ 0.03 | 0.70 $\\pm$ 0.01             | 0.71 $\\pm$ 0.02         | 0.71 $\\pm$ 0.00          | 0.72 $\\pm$ 0.01                           | **0.75 $\\pm$ 0.00** |"
     },
     "metadata": {},
     "output_type": "display_data"
    },
    {
     "name": "stderr",
     "output_type": "stream",
     "text": [
      "/tmp/ipykernel_65223/2331756451.py:30: FutureWarning: In future versions `DataFrame.to_latex` is expected to utilise the base implementation of `Styler.to_latex` for formatting and rendering. The arguments signature may therefore change. It is recommended instead to use `DataFrame.style.to_latex` which also contains additional functionality.\n",
      "  report_table.reset_index().to_latex(latex_file, index=False)\n"
     ]
    },
    {
     "data": {
      "text/plain": "<IPython.core.display.Markdown object>",
      "text/markdown": "## accuracy"
     },
     "metadata": {},
     "output_type": "display_data"
    },
    {
     "data": {
      "text/plain": "<IPython.core.display.Markdown object>",
      "text/markdown": "| model_name                                 | title           | title and first paragraph   | title and 5 sentences   | title and 10 sentences   | title and first sentence each paragraph   | raw text            |\n|:-------------------------------------------|:----------------|:----------------------------|:------------------------|:-------------------------|:------------------------------------------|:--------------------|\n| AshtonIsNotHere-xlm-roberta-long-base-4096 | 0.05 $\\pm$ 0.03 | 0.07 $\\pm$ 0.04             | 0.06 $\\pm$ 0.05         | 0.05 $\\pm$ 0.02          | 0.08 $\\pm$ 0.04                           | **0.12 $\\pm$ 0.01** |"
     },
     "metadata": {},
     "output_type": "display_data"
    },
    {
     "name": "stderr",
     "output_type": "stream",
     "text": [
      "/tmp/ipykernel_65223/2331756451.py:30: FutureWarning: In future versions `DataFrame.to_latex` is expected to utilise the base implementation of `Styler.to_latex` for formatting and rendering. The arguments signature may therefore change. It is recommended instead to use `DataFrame.style.to_latex` which also contains additional functionality.\n",
      "  report_table.reset_index().to_latex(latex_file, index=False)\n"
     ]
    },
    {
     "data": {
      "text/plain": "<IPython.core.display.Markdown object>",
      "text/markdown": "# Italian"
     },
     "metadata": {},
     "output_type": "display_data"
    },
    {
     "data": {
      "text/plain": "<IPython.core.display.Markdown object>",
      "text/markdown": "## f1-micro"
     },
     "metadata": {},
     "output_type": "display_data"
    },
    {
     "data": {
      "text/plain": "<IPython.core.display.Markdown object>",
      "text/markdown": "| model_name                                 | title           | title and first paragraph   | title and 5 sentences   | title and 10 sentences   | title and first sentence each paragraph   | raw text            |\n|:-------------------------------------------|:----------------|:----------------------------|:------------------------|:-------------------------|:------------------------------------------|:--------------------|\n| AshtonIsNotHere-xlm-roberta-long-base-4096 | 0.47 $\\pm$ 0.04 | 0.52 $\\pm$ 0.05             | 0.55 $\\pm$ 0.01         | 0.57 $\\pm$ 0.04          | 0.56 $\\pm$ 0.04                           | **0.61 $\\pm$ 0.05** |"
     },
     "metadata": {},
     "output_type": "display_data"
    },
    {
     "name": "stderr",
     "output_type": "stream",
     "text": [
      "/tmp/ipykernel_65223/2331756451.py:30: FutureWarning: In future versions `DataFrame.to_latex` is expected to utilise the base implementation of `Styler.to_latex` for formatting and rendering. The arguments signature may therefore change. It is recommended instead to use `DataFrame.style.to_latex` which also contains additional functionality.\n",
      "  report_table.reset_index().to_latex(latex_file, index=False)\n"
     ]
    },
    {
     "data": {
      "text/plain": "<IPython.core.display.Markdown object>",
      "text/markdown": "## recall-micro"
     },
     "metadata": {},
     "output_type": "display_data"
    },
    {
     "data": {
      "text/plain": "<IPython.core.display.Markdown object>",
      "text/markdown": "| model_name                                 | title           | title and first paragraph   | title and 5 sentences   | title and 10 sentences   | title and first sentence each paragraph   | raw text            |\n|:-------------------------------------------|:----------------|:----------------------------|:------------------------|:-------------------------|:------------------------------------------|:--------------------|\n| AshtonIsNotHere-xlm-roberta-long-base-4096 | 0.40 $\\pm$ 0.05 | 0.46 $\\pm$ 0.05             | 0.49 $\\pm$ 0.01         | 0.53 $\\pm$ 0.03          | 0.50 $\\pm$ 0.04                           | **0.57 $\\pm$ 0.04** |"
     },
     "metadata": {},
     "output_type": "display_data"
    },
    {
     "name": "stderr",
     "output_type": "stream",
     "text": [
      "/tmp/ipykernel_65223/2331756451.py:30: FutureWarning: In future versions `DataFrame.to_latex` is expected to utilise the base implementation of `Styler.to_latex` for formatting and rendering. The arguments signature may therefore change. It is recommended instead to use `DataFrame.style.to_latex` which also contains additional functionality.\n",
      "  report_table.reset_index().to_latex(latex_file, index=False)\n"
     ]
    },
    {
     "data": {
      "text/plain": "<IPython.core.display.Markdown object>",
      "text/markdown": "## precision-micro"
     },
     "metadata": {},
     "output_type": "display_data"
    },
    {
     "data": {
      "text/plain": "<IPython.core.display.Markdown object>",
      "text/markdown": "| model_name                                 | title           | title and first paragraph   | title and 5 sentences   | title and 10 sentences   | title and first sentence each paragraph   | raw text            |\n|:-------------------------------------------|:----------------|:----------------------------|:------------------------|:-------------------------|:------------------------------------------|:--------------------|\n| AshtonIsNotHere-xlm-roberta-long-base-4096 | 0.58 $\\pm$ 0.01 | 0.60 $\\pm$ 0.04             | 0.63 $\\pm$ 0.05         | 0.63 $\\pm$ 0.05          | 0.64 $\\pm$ 0.04                           | **0.66 $\\pm$ 0.06** |"
     },
     "metadata": {},
     "output_type": "display_data"
    },
    {
     "name": "stderr",
     "output_type": "stream",
     "text": [
      "/tmp/ipykernel_65223/2331756451.py:30: FutureWarning: In future versions `DataFrame.to_latex` is expected to utilise the base implementation of `Styler.to_latex` for formatting and rendering. The arguments signature may therefore change. It is recommended instead to use `DataFrame.style.to_latex` which also contains additional functionality.\n",
      "  report_table.reset_index().to_latex(latex_file, index=False)\n"
     ]
    },
    {
     "data": {
      "text/plain": "<IPython.core.display.Markdown object>",
      "text/markdown": "## roc-auc"
     },
     "metadata": {},
     "output_type": "display_data"
    },
    {
     "data": {
      "text/plain": "<IPython.core.display.Markdown object>",
      "text/markdown": "| model_name                                 | title           | title and first paragraph   | title and 5 sentences   | title and 10 sentences   | title and first sentence each paragraph   | raw text            |\n|:-------------------------------------------|:----------------|:----------------------------|:------------------------|:-------------------------|:------------------------------------------|:--------------------|\n| AshtonIsNotHere-xlm-roberta-long-base-4096 | 0.65 $\\pm$ 0.02 | 0.67 $\\pm$ 0.03             | 0.69 $\\pm$ 0.01         | 0.70 $\\pm$ 0.02          | 0.70 $\\pm$ 0.03                           | **0.73 $\\pm$ 0.03** |"
     },
     "metadata": {},
     "output_type": "display_data"
    },
    {
     "name": "stderr",
     "output_type": "stream",
     "text": [
      "/tmp/ipykernel_65223/2331756451.py:30: FutureWarning: In future versions `DataFrame.to_latex` is expected to utilise the base implementation of `Styler.to_latex` for formatting and rendering. The arguments signature may therefore change. It is recommended instead to use `DataFrame.style.to_latex` which also contains additional functionality.\n",
      "  report_table.reset_index().to_latex(latex_file, index=False)\n"
     ]
    },
    {
     "data": {
      "text/plain": "<IPython.core.display.Markdown object>",
      "text/markdown": "## accuracy"
     },
     "metadata": {},
     "output_type": "display_data"
    },
    {
     "data": {
      "text/plain": "<IPython.core.display.Markdown object>",
      "text/markdown": "| model_name                                 | title           | title and first paragraph   | title and 5 sentences   | title and 10 sentences   | title and first sentence each paragraph   | raw text            |\n|:-------------------------------------------|:----------------|:----------------------------|:------------------------|:-------------------------|:------------------------------------------|:--------------------|\n| AshtonIsNotHere-xlm-roberta-long-base-4096 | 0.06 $\\pm$ 0.01 | 0.06 $\\pm$ 0.02             | **0.10 $\\pm$ 0.03**     | 0.09 $\\pm$ 0.02          | 0.08 $\\pm$ 0.02                           | **0.10 $\\pm$ 0.03** |"
     },
     "metadata": {},
     "output_type": "display_data"
    },
    {
     "name": "stderr",
     "output_type": "stream",
     "text": [
      "/tmp/ipykernel_65223/2331756451.py:30: FutureWarning: In future versions `DataFrame.to_latex` is expected to utilise the base implementation of `Styler.to_latex` for formatting and rendering. The arguments signature may therefore change. It is recommended instead to use `DataFrame.style.to_latex` which also contains additional functionality.\n",
      "  report_table.reset_index().to_latex(latex_file, index=False)\n"
     ]
    },
    {
     "data": {
      "text/plain": "<IPython.core.display.Markdown object>",
      "text/markdown": "# Polish"
     },
     "metadata": {},
     "output_type": "display_data"
    },
    {
     "data": {
      "text/plain": "<IPython.core.display.Markdown object>",
      "text/markdown": "## f1-micro"
     },
     "metadata": {},
     "output_type": "display_data"
    },
    {
     "data": {
      "text/plain": "<IPython.core.display.Markdown object>",
      "text/markdown": "| model_name                                 | title           | title and first paragraph   | title and 5 sentences   | title and 10 sentences   | title and first sentence each paragraph   | raw text            |\n|:-------------------------------------------|:----------------|:----------------------------|:------------------------|:-------------------------|:------------------------------------------|:--------------------|\n| AshtonIsNotHere-xlm-roberta-long-base-4096 | 0.51 $\\pm$ 0.03 | 0.58 $\\pm$ 0.03             | 0.61 $\\pm$ 0.01         | 0.64 $\\pm$ 0.02          | 0.64 $\\pm$ 0.02                           | **0.67 $\\pm$ 0.01** |"
     },
     "metadata": {},
     "output_type": "display_data"
    },
    {
     "name": "stderr",
     "output_type": "stream",
     "text": [
      "/tmp/ipykernel_65223/2331756451.py:30: FutureWarning: In future versions `DataFrame.to_latex` is expected to utilise the base implementation of `Styler.to_latex` for formatting and rendering. The arguments signature may therefore change. It is recommended instead to use `DataFrame.style.to_latex` which also contains additional functionality.\n",
      "  report_table.reset_index().to_latex(latex_file, index=False)\n"
     ]
    },
    {
     "data": {
      "text/plain": "<IPython.core.display.Markdown object>",
      "text/markdown": "## recall-micro"
     },
     "metadata": {},
     "output_type": "display_data"
    },
    {
     "data": {
      "text/plain": "<IPython.core.display.Markdown object>",
      "text/markdown": "| model_name                                 | title           | title and first paragraph   | title and 5 sentences   | title and 10 sentences   | title and first sentence each paragraph   | raw text            |\n|:-------------------------------------------|:----------------|:----------------------------|:------------------------|:-------------------------|:------------------------------------------|:--------------------|\n| AshtonIsNotHere-xlm-roberta-long-base-4096 | 0.45 $\\pm$ 0.04 | 0.54 $\\pm$ 0.01             | 0.56 $\\pm$ 0.05         | 0.59 $\\pm$ 0.03          | 0.57 $\\pm$ 0.03                           | **0.62 $\\pm$ 0.02** |"
     },
     "metadata": {},
     "output_type": "display_data"
    },
    {
     "name": "stderr",
     "output_type": "stream",
     "text": [
      "/tmp/ipykernel_65223/2331756451.py:30: FutureWarning: In future versions `DataFrame.to_latex` is expected to utilise the base implementation of `Styler.to_latex` for formatting and rendering. The arguments signature may therefore change. It is recommended instead to use `DataFrame.style.to_latex` which also contains additional functionality.\n",
      "  report_table.reset_index().to_latex(latex_file, index=False)\n"
     ]
    },
    {
     "data": {
      "text/plain": "<IPython.core.display.Markdown object>",
      "text/markdown": "## precision-micro"
     },
     "metadata": {},
     "output_type": "display_data"
    },
    {
     "data": {
      "text/plain": "<IPython.core.display.Markdown object>",
      "text/markdown": "| model_name                                 | title           | title and first paragraph   | title and 5 sentences   | title and 10 sentences   | title and first sentence each paragraph   | raw text        |\n|:-------------------------------------------|:----------------|:----------------------------|:------------------------|:-------------------------|:------------------------------------------|:----------------|\n| AshtonIsNotHere-xlm-roberta-long-base-4096 | 0.60 $\\pm$ 0.07 | 0.64 $\\pm$ 0.07             | 0.68 $\\pm$ 0.07         | 0.70 $\\pm$ 0.09          | **0.73 $\\pm$ 0.07**                       | 0.72 $\\pm$ 0.05 |"
     },
     "metadata": {},
     "output_type": "display_data"
    },
    {
     "name": "stderr",
     "output_type": "stream",
     "text": [
      "/tmp/ipykernel_65223/2331756451.py:30: FutureWarning: In future versions `DataFrame.to_latex` is expected to utilise the base implementation of `Styler.to_latex` for formatting and rendering. The arguments signature may therefore change. It is recommended instead to use `DataFrame.style.to_latex` which also contains additional functionality.\n",
      "  report_table.reset_index().to_latex(latex_file, index=False)\n"
     ]
    },
    {
     "data": {
      "text/plain": "<IPython.core.display.Markdown object>",
      "text/markdown": "## roc-auc"
     },
     "metadata": {},
     "output_type": "display_data"
    },
    {
     "data": {
      "text/plain": "<IPython.core.display.Markdown object>",
      "text/markdown": "| model_name                                 | title           | title and first paragraph   | title and 5 sentences   | title and 10 sentences   | title and first sentence each paragraph   | raw text            |\n|:-------------------------------------------|:----------------|:----------------------------|:------------------------|:-------------------------|:------------------------------------------|:--------------------|\n| AshtonIsNotHere-xlm-roberta-long-base-4096 | 0.64 $\\pm$ 0.01 | 0.69 $\\pm$ 0.01             | 0.70 $\\pm$ 0.01         | 0.72 $\\pm$ 0.01          | 0.73 $\\pm$ 0.01                           | **0.75 $\\pm$ 0.00** |"
     },
     "metadata": {},
     "output_type": "display_data"
    },
    {
     "name": "stderr",
     "output_type": "stream",
     "text": [
      "/tmp/ipykernel_65223/2331756451.py:30: FutureWarning: In future versions `DataFrame.to_latex` is expected to utilise the base implementation of `Styler.to_latex` for formatting and rendering. The arguments signature may therefore change. It is recommended instead to use `DataFrame.style.to_latex` which also contains additional functionality.\n",
      "  report_table.reset_index().to_latex(latex_file, index=False)\n"
     ]
    },
    {
     "data": {
      "text/plain": "<IPython.core.display.Markdown object>",
      "text/markdown": "## accuracy"
     },
     "metadata": {},
     "output_type": "display_data"
    },
    {
     "data": {
      "text/plain": "<IPython.core.display.Markdown object>",
      "text/markdown": "| model_name                                 | title           | title and first paragraph   | title and 5 sentences   | title and 10 sentences   | title and first sentence each paragraph   | raw text            |\n|:-------------------------------------------|:----------------|:----------------------------|:------------------------|:-------------------------|:------------------------------------------|:--------------------|\n| AshtonIsNotHere-xlm-roberta-long-base-4096 | 0.04 $\\pm$ 0.01 | 0.04 $\\pm$ 0.02             | 0.06 $\\pm$ 0.02         | **0.07 $\\pm$ 0.01**      | 0.06 $\\pm$ 0.02                           | **0.07 $\\pm$ 0.01** |"
     },
     "metadata": {},
     "output_type": "display_data"
    },
    {
     "name": "stderr",
     "output_type": "stream",
     "text": [
      "/tmp/ipykernel_65223/2331756451.py:30: FutureWarning: In future versions `DataFrame.to_latex` is expected to utilise the base implementation of `Styler.to_latex` for formatting and rendering. The arguments signature may therefore change. It is recommended instead to use `DataFrame.style.to_latex` which also contains additional functionality.\n",
      "  report_table.reset_index().to_latex(latex_file, index=False)\n"
     ]
    },
    {
     "data": {
      "text/plain": "<IPython.core.display.Markdown object>",
      "text/markdown": "# Russian"
     },
     "metadata": {},
     "output_type": "display_data"
    },
    {
     "data": {
      "text/plain": "<IPython.core.display.Markdown object>",
      "text/markdown": "## f1-micro"
     },
     "metadata": {},
     "output_type": "display_data"
    },
    {
     "data": {
      "text/plain": "<IPython.core.display.Markdown object>",
      "text/markdown": "| model_name                                 | title           | title and first paragraph   | title and 5 sentences   | title and 10 sentences   | title and first sentence each paragraph   | raw text            |\n|:-------------------------------------------|:----------------|:----------------------------|:------------------------|:-------------------------|:------------------------------------------|:--------------------|\n| AshtonIsNotHere-xlm-roberta-long-base-4096 | 0.40 $\\pm$ 0.06 | 0.46 $\\pm$ 0.05             | 0.50 $\\pm$ 0.06         | 0.47 $\\pm$ 0.02          | 0.49 $\\pm$ 0.01                           | **0.53 $\\pm$ 0.01** |"
     },
     "metadata": {},
     "output_type": "display_data"
    },
    {
     "name": "stderr",
     "output_type": "stream",
     "text": [
      "/tmp/ipykernel_65223/2331756451.py:30: FutureWarning: In future versions `DataFrame.to_latex` is expected to utilise the base implementation of `Styler.to_latex` for formatting and rendering. The arguments signature may therefore change. It is recommended instead to use `DataFrame.style.to_latex` which also contains additional functionality.\n",
      "  report_table.reset_index().to_latex(latex_file, index=False)\n"
     ]
    },
    {
     "data": {
      "text/plain": "<IPython.core.display.Markdown object>",
      "text/markdown": "## recall-micro"
     },
     "metadata": {},
     "output_type": "display_data"
    },
    {
     "data": {
      "text/plain": "<IPython.core.display.Markdown object>",
      "text/markdown": "| model_name                                 | title           | title and first paragraph   | title and 5 sentences   | title and 10 sentences   | title and first sentence each paragraph   | raw text            |\n|:-------------------------------------------|:----------------|:----------------------------|:------------------------|:-------------------------|:------------------------------------------|:--------------------|\n| AshtonIsNotHere-xlm-roberta-long-base-4096 | 0.34 $\\pm$ 0.05 | 0.40 $\\pm$ 0.05             | 0.43 $\\pm$ 0.06         | 0.41 $\\pm$ 0.02          | 0.41 $\\pm$ 0.02                           | **0.47 $\\pm$ 0.03** |"
     },
     "metadata": {},
     "output_type": "display_data"
    },
    {
     "name": "stderr",
     "output_type": "stream",
     "text": [
      "/tmp/ipykernel_65223/2331756451.py:30: FutureWarning: In future versions `DataFrame.to_latex` is expected to utilise the base implementation of `Styler.to_latex` for formatting and rendering. The arguments signature may therefore change. It is recommended instead to use `DataFrame.style.to_latex` which also contains additional functionality.\n",
      "  report_table.reset_index().to_latex(latex_file, index=False)\n"
     ]
    },
    {
     "data": {
      "text/plain": "<IPython.core.display.Markdown object>",
      "text/markdown": "## precision-micro"
     },
     "metadata": {},
     "output_type": "display_data"
    },
    {
     "data": {
      "text/plain": "<IPython.core.display.Markdown object>",
      "text/markdown": "| model_name                                 | title           | title and first paragraph   | title and 5 sentences   | title and 10 sentences   | title and first sentence each paragraph   | raw text            |\n|:-------------------------------------------|:----------------|:----------------------------|:------------------------|:-------------------------|:------------------------------------------|:--------------------|\n| AshtonIsNotHere-xlm-roberta-long-base-4096 | 0.48 $\\pm$ 0.06 | 0.55 $\\pm$ 0.04             | 0.60 $\\pm$ 0.06         | 0.57 $\\pm$ 0.05          | 0.62 $\\pm$ 0.02                           | **0.63 $\\pm$ 0.03** |"
     },
     "metadata": {},
     "output_type": "display_data"
    },
    {
     "name": "stderr",
     "output_type": "stream",
     "text": [
      "/tmp/ipykernel_65223/2331756451.py:30: FutureWarning: In future versions `DataFrame.to_latex` is expected to utilise the base implementation of `Styler.to_latex` for formatting and rendering. The arguments signature may therefore change. It is recommended instead to use `DataFrame.style.to_latex` which also contains additional functionality.\n",
      "  report_table.reset_index().to_latex(latex_file, index=False)\n"
     ]
    },
    {
     "data": {
      "text/plain": "<IPython.core.display.Markdown object>",
      "text/markdown": "## roc-auc"
     },
     "metadata": {},
     "output_type": "display_data"
    },
    {
     "data": {
      "text/plain": "<IPython.core.display.Markdown object>",
      "text/markdown": "| model_name                                 | title           | title and first paragraph   | title and 5 sentences   | title and 10 sentences   | title and first sentence each paragraph   | raw text            |\n|:-------------------------------------------|:----------------|:----------------------------|:------------------------|:-------------------------|:------------------------------------------|:--------------------|\n| AshtonIsNotHere-xlm-roberta-long-base-4096 | 0.63 $\\pm$ 0.03 | 0.67 $\\pm$ 0.02             | 0.69 $\\pm$ 0.03         | 0.67 $\\pm$ 0.01          | 0.68 $\\pm$ 0.01                           | **0.70 $\\pm$ 0.01** |"
     },
     "metadata": {},
     "output_type": "display_data"
    },
    {
     "name": "stderr",
     "output_type": "stream",
     "text": [
      "/tmp/ipykernel_65223/2331756451.py:30: FutureWarning: In future versions `DataFrame.to_latex` is expected to utilise the base implementation of `Styler.to_latex` for formatting and rendering. The arguments signature may therefore change. It is recommended instead to use `DataFrame.style.to_latex` which also contains additional functionality.\n",
      "  report_table.reset_index().to_latex(latex_file, index=False)\n"
     ]
    },
    {
     "data": {
      "text/plain": "<IPython.core.display.Markdown object>",
      "text/markdown": "## accuracy"
     },
     "metadata": {},
     "output_type": "display_data"
    },
    {
     "data": {
      "text/plain": "<IPython.core.display.Markdown object>",
      "text/markdown": "| model_name                                 | title           | title and first paragraph   | title and 5 sentences   | title and 10 sentences   | title and first sentence each paragraph   | raw text            |\n|:-------------------------------------------|:----------------|:----------------------------|:------------------------|:-------------------------|:------------------------------------------|:--------------------|\n| AshtonIsNotHere-xlm-roberta-long-base-4096 | 0.07 $\\pm$ 0.03 | 0.12 $\\pm$ 0.04             | 0.10 $\\pm$ 0.03         | 0.10 $\\pm$ 0.05          | 0.12 $\\pm$ 0.04                           | **0.17 $\\pm$ 0.06** |"
     },
     "metadata": {},
     "output_type": "display_data"
    },
    {
     "name": "stderr",
     "output_type": "stream",
     "text": [
      "/tmp/ipykernel_65223/2331756451.py:30: FutureWarning: In future versions `DataFrame.to_latex` is expected to utilise the base implementation of `Styler.to_latex` for formatting and rendering. The arguments signature may therefore change. It is recommended instead to use `DataFrame.style.to_latex` which also contains additional functionality.\n",
      "  report_table.reset_index().to_latex(latex_file, index=False)\n"
     ]
    },
    {
     "data": {
      "text/plain": "<IPython.core.display.Markdown object>",
      "text/markdown": "# All 6 Languages"
     },
     "metadata": {},
     "output_type": "display_data"
    },
    {
     "data": {
      "text/plain": "<IPython.core.display.Markdown object>",
      "text/markdown": "## f1-micro"
     },
     "metadata": {},
     "output_type": "display_data"
    },
    {
     "data": {
      "text/plain": "<IPython.core.display.Markdown object>",
      "text/markdown": "| language   | model_name                                 | title           | title and first paragraph   | title and 5 sentences   | title and 10 sentences   | title and first sentence each paragraph   | raw text            |\n|:-----------|:-------------------------------------------|:----------------|:----------------------------|:------------------------|:-------------------------|:------------------------------------------|:--------------------|\n| en         | AshtonIsNotHere-xlm-roberta-long-base-4096 | 0.64 $\\pm$ 0.02 | 0.68 $\\pm$ 0.01             | 0.69 $\\pm$ 0.01         | **0.70 $\\pm$ 0.02**      | 0.69 $\\pm$ 0.02                           | **0.70 $\\pm$ 0.02** |\n| fr         | AshtonIsNotHere-xlm-roberta-long-base-4096 | 0.49 $\\pm$ 0.02 | 0.54 $\\pm$ 0.03             | 0.53 $\\pm$ 0.02         | 0.55 $\\pm$ 0.02          | 0.56 $\\pm$ 0.02                           | **0.57 $\\pm$ 0.03** |\n| ge         | AshtonIsNotHere-xlm-roberta-long-base-4096 | 0.48 $\\pm$ 0.05 | 0.58 $\\pm$ 0.02             | 0.59 $\\pm$ 0.02         | 0.60 $\\pm$ 0.01          | 0.61 $\\pm$ 0.02                           | **0.66 $\\pm$ 0.00** |\n| it         | AshtonIsNotHere-xlm-roberta-long-base-4096 | 0.47 $\\pm$ 0.04 | 0.52 $\\pm$ 0.05             | 0.55 $\\pm$ 0.01         | 0.57 $\\pm$ 0.04          | 0.56 $\\pm$ 0.04                           | **0.61 $\\pm$ 0.05** |\n| po         | AshtonIsNotHere-xlm-roberta-long-base-4096 | 0.51 $\\pm$ 0.03 | 0.58 $\\pm$ 0.03             | 0.61 $\\pm$ 0.01         | 0.64 $\\pm$ 0.02          | 0.64 $\\pm$ 0.02                           | **0.67 $\\pm$ 0.01** |\n| ru         | AshtonIsNotHere-xlm-roberta-long-base-4096 | 0.40 $\\pm$ 0.06 | 0.46 $\\pm$ 0.05             | 0.50 $\\pm$ 0.06         | 0.47 $\\pm$ 0.02          | 0.49 $\\pm$ 0.01                           | **0.53 $\\pm$ 0.01** |"
     },
     "metadata": {},
     "output_type": "display_data"
    },
    {
     "name": "stderr",
     "output_type": "stream",
     "text": [
      "/tmp/ipykernel_65223/2331756451.py:60: FutureWarning: In future versions `DataFrame.to_latex` is expected to utilise the base implementation of `Styler.to_latex` for formatting and rendering. The arguments signature may therefore change. It is recommended instead to use `DataFrame.style.to_latex` which also contains additional functionality.\n",
      "  multi_language_report_table_metric.reset_index().to_latex(latex_file, index=False)\n"
     ]
    },
    {
     "data": {
      "text/plain": "<IPython.core.display.Markdown object>",
      "text/markdown": "## recall-micro"
     },
     "metadata": {},
     "output_type": "display_data"
    },
    {
     "data": {
      "text/plain": "<IPython.core.display.Markdown object>",
      "text/markdown": "| language   | model_name                                 | title           | title and first paragraph   | title and 5 sentences   | title and 10 sentences   | title and first sentence each paragraph   | raw text            |\n|:-----------|:-------------------------------------------|:----------------|:----------------------------|:------------------------|:-------------------------|:------------------------------------------|:--------------------|\n| en         | AshtonIsNotHere-xlm-roberta-long-base-4096 | 0.59 $\\pm$ 0.02 | 0.64 $\\pm$ 0.02             | 0.64 $\\pm$ 0.02         | **0.65 $\\pm$ 0.02**      | 0.64 $\\pm$ 0.01                           | **0.65 $\\pm$ 0.02** |\n| fr         | AshtonIsNotHere-xlm-roberta-long-base-4096 | 0.42 $\\pm$ 0.03 | 0.47 $\\pm$ 0.05             | 0.47 $\\pm$ 0.03         | 0.49 $\\pm$ 0.02          | 0.50 $\\pm$ 0.05                           | **0.51 $\\pm$ 0.03** |\n| ge         | AshtonIsNotHere-xlm-roberta-long-base-4096 | 0.41 $\\pm$ 0.05 | 0.53 $\\pm$ 0.01             | 0.53 $\\pm$ 0.01         | 0.55 $\\pm$ 0.02          | 0.55 $\\pm$ 0.02                           | **0.60 $\\pm$ 0.02** |\n| it         | AshtonIsNotHere-xlm-roberta-long-base-4096 | 0.40 $\\pm$ 0.05 | 0.46 $\\pm$ 0.05             | 0.49 $\\pm$ 0.01         | 0.53 $\\pm$ 0.03          | 0.50 $\\pm$ 0.04                           | **0.57 $\\pm$ 0.04** |\n| po         | AshtonIsNotHere-xlm-roberta-long-base-4096 | 0.45 $\\pm$ 0.04 | 0.54 $\\pm$ 0.01             | 0.56 $\\pm$ 0.05         | 0.59 $\\pm$ 0.03          | 0.57 $\\pm$ 0.03                           | **0.62 $\\pm$ 0.02** |\n| ru         | AshtonIsNotHere-xlm-roberta-long-base-4096 | 0.34 $\\pm$ 0.05 | 0.40 $\\pm$ 0.05             | 0.43 $\\pm$ 0.06         | 0.41 $\\pm$ 0.02          | 0.41 $\\pm$ 0.02                           | **0.47 $\\pm$ 0.03** |"
     },
     "metadata": {},
     "output_type": "display_data"
    },
    {
     "name": "stderr",
     "output_type": "stream",
     "text": [
      "/tmp/ipykernel_65223/2331756451.py:60: FutureWarning: In future versions `DataFrame.to_latex` is expected to utilise the base implementation of `Styler.to_latex` for formatting and rendering. The arguments signature may therefore change. It is recommended instead to use `DataFrame.style.to_latex` which also contains additional functionality.\n",
      "  multi_language_report_table_metric.reset_index().to_latex(latex_file, index=False)\n"
     ]
    },
    {
     "data": {
      "text/plain": "<IPython.core.display.Markdown object>",
      "text/markdown": "## precision-micro"
     },
     "metadata": {},
     "output_type": "display_data"
    },
    {
     "data": {
      "text/plain": "<IPython.core.display.Markdown object>",
      "text/markdown": "| language   | model_name                                 | title           | title and first paragraph   | title and 5 sentences   | title and 10 sentences   | title and first sentence each paragraph   | raw text            |\n|:-----------|:-------------------------------------------|:----------------|:----------------------------|:------------------------|:-------------------------|:------------------------------------------|:--------------------|\n| en         | AshtonIsNotHere-xlm-roberta-long-base-4096 | 0.70 $\\pm$ 0.02 | 0.74 $\\pm$ 0.00             | 0.74 $\\pm$ 0.01         | **0.76 $\\pm$ 0.02**      | 0.75 $\\pm$ 0.03                           | **0.76 $\\pm$ 0.02** |\n| fr         | AshtonIsNotHere-xlm-roberta-long-base-4096 | 0.57 $\\pm$ 0.05 | 0.63 $\\pm$ 0.01             | 0.61 $\\pm$ 0.01         | 0.62 $\\pm$ 0.03          | **0.65 $\\pm$ 0.02**                       | 0.64 $\\pm$ 0.05     |\n| ge         | AshtonIsNotHere-xlm-roberta-long-base-4096 | 0.59 $\\pm$ 0.05 | 0.64 $\\pm$ 0.03             | 0.67 $\\pm$ 0.05         | 0.68 $\\pm$ 0.04          | 0.68 $\\pm$ 0.04                           | **0.73 $\\pm$ 0.03** |\n| it         | AshtonIsNotHere-xlm-roberta-long-base-4096 | 0.58 $\\pm$ 0.01 | 0.60 $\\pm$ 0.04             | 0.63 $\\pm$ 0.05         | 0.63 $\\pm$ 0.05          | 0.64 $\\pm$ 0.04                           | **0.66 $\\pm$ 0.06** |\n| po         | AshtonIsNotHere-xlm-roberta-long-base-4096 | 0.60 $\\pm$ 0.07 | 0.64 $\\pm$ 0.07             | 0.68 $\\pm$ 0.07         | 0.70 $\\pm$ 0.09          | **0.73 $\\pm$ 0.07**                       | 0.72 $\\pm$ 0.05     |\n| ru         | AshtonIsNotHere-xlm-roberta-long-base-4096 | 0.48 $\\pm$ 0.06 | 0.55 $\\pm$ 0.04             | 0.60 $\\pm$ 0.06         | 0.57 $\\pm$ 0.05          | 0.62 $\\pm$ 0.02                           | **0.63 $\\pm$ 0.03** |"
     },
     "metadata": {},
     "output_type": "display_data"
    },
    {
     "name": "stderr",
     "output_type": "stream",
     "text": [
      "/tmp/ipykernel_65223/2331756451.py:60: FutureWarning: In future versions `DataFrame.to_latex` is expected to utilise the base implementation of `Styler.to_latex` for formatting and rendering. The arguments signature may therefore change. It is recommended instead to use `DataFrame.style.to_latex` which also contains additional functionality.\n",
      "  multi_language_report_table_metric.reset_index().to_latex(latex_file, index=False)\n"
     ]
    },
    {
     "data": {
      "text/plain": "<IPython.core.display.Markdown object>",
      "text/markdown": "## roc-auc"
     },
     "metadata": {},
     "output_type": "display_data"
    },
    {
     "data": {
      "text/plain": "<IPython.core.display.Markdown object>",
      "text/markdown": "| language   | model_name                                 | title           | title and first paragraph   | title and 5 sentences   | title and 10 sentences   | title and first sentence each paragraph   | raw text            |\n|:-----------|:-------------------------------------------|:----------------|:----------------------------|:------------------------|:-------------------------|:------------------------------------------|:--------------------|\n| en         | AshtonIsNotHere-xlm-roberta-long-base-4096 | 0.75 $\\pm$ 0.01 | 0.77 $\\pm$ 0.01             | **0.78 $\\pm$ 0.01**     | **0.78 $\\pm$ 0.01**      | **0.78 $\\pm$ 0.01**                       | **0.78 $\\pm$ 0.01** |\n| fr         | AshtonIsNotHere-xlm-roberta-long-base-4096 | 0.67 $\\pm$ 0.01 | 0.70 $\\pm$ 0.02             | 0.69 $\\pm$ 0.01         | 0.70 $\\pm$ 0.01          | 0.71 $\\pm$ 0.02                           | **0.72 $\\pm$ 0.02** |\n| ge         | AshtonIsNotHere-xlm-roberta-long-base-4096 | 0.64 $\\pm$ 0.03 | 0.70 $\\pm$ 0.01             | 0.71 $\\pm$ 0.02         | 0.71 $\\pm$ 0.00          | 0.72 $\\pm$ 0.01                           | **0.75 $\\pm$ 0.00** |\n| it         | AshtonIsNotHere-xlm-roberta-long-base-4096 | 0.65 $\\pm$ 0.02 | 0.67 $\\pm$ 0.03             | 0.69 $\\pm$ 0.01         | 0.70 $\\pm$ 0.02          | 0.70 $\\pm$ 0.03                           | **0.73 $\\pm$ 0.03** |\n| po         | AshtonIsNotHere-xlm-roberta-long-base-4096 | 0.64 $\\pm$ 0.01 | 0.69 $\\pm$ 0.01             | 0.70 $\\pm$ 0.01         | 0.72 $\\pm$ 0.01          | 0.73 $\\pm$ 0.01                           | **0.75 $\\pm$ 0.00** |\n| ru         | AshtonIsNotHere-xlm-roberta-long-base-4096 | 0.63 $\\pm$ 0.03 | 0.67 $\\pm$ 0.02             | 0.69 $\\pm$ 0.03         | 0.67 $\\pm$ 0.01          | 0.68 $\\pm$ 0.01                           | **0.70 $\\pm$ 0.01** |"
     },
     "metadata": {},
     "output_type": "display_data"
    },
    {
     "name": "stderr",
     "output_type": "stream",
     "text": [
      "/tmp/ipykernel_65223/2331756451.py:60: FutureWarning: In future versions `DataFrame.to_latex` is expected to utilise the base implementation of `Styler.to_latex` for formatting and rendering. The arguments signature may therefore change. It is recommended instead to use `DataFrame.style.to_latex` which also contains additional functionality.\n",
      "  multi_language_report_table_metric.reset_index().to_latex(latex_file, index=False)\n"
     ]
    },
    {
     "data": {
      "text/plain": "<IPython.core.display.Markdown object>",
      "text/markdown": "## accuracy"
     },
     "metadata": {},
     "output_type": "display_data"
    },
    {
     "data": {
      "text/plain": "<IPython.core.display.Markdown object>",
      "text/markdown": "| language   | model_name                                 | title           | title and first paragraph   | title and 5 sentences   | title and 10 sentences   | title and first sentence each paragraph   | raw text            |\n|:-----------|:-------------------------------------------|:----------------|:----------------------------|:------------------------|:-------------------------|:------------------------------------------|:--------------------|\n| en         | AshtonIsNotHere-xlm-roberta-long-base-4096 | 0.08 $\\pm$ 0.01 | 0.07 $\\pm$ 0.01             | **0.11 $\\pm$ 0.02**     | **0.11 $\\pm$ 0.04**      | 0.10 $\\pm$ 0.01                           | **0.11 $\\pm$ 0.00** |\n| fr         | AshtonIsNotHere-xlm-roberta-long-base-4096 | 0.08 $\\pm$ 0.04 | 0.09 $\\pm$ 0.03             | 0.08 $\\pm$ 0.04         | 0.07 $\\pm$ 0.00          | **0.11 $\\pm$ 0.01**                       | 0.07 $\\pm$ 0.04     |\n| ge         | AshtonIsNotHere-xlm-roberta-long-base-4096 | 0.05 $\\pm$ 0.03 | 0.07 $\\pm$ 0.04             | 0.06 $\\pm$ 0.05         | 0.05 $\\pm$ 0.02          | 0.08 $\\pm$ 0.04                           | **0.12 $\\pm$ 0.01** |\n| it         | AshtonIsNotHere-xlm-roberta-long-base-4096 | 0.06 $\\pm$ 0.01 | 0.06 $\\pm$ 0.02             | **0.10 $\\pm$ 0.03**     | 0.09 $\\pm$ 0.02          | 0.08 $\\pm$ 0.02                           | **0.10 $\\pm$ 0.03** |\n| po         | AshtonIsNotHere-xlm-roberta-long-base-4096 | 0.04 $\\pm$ 0.01 | 0.04 $\\pm$ 0.02             | 0.06 $\\pm$ 0.02         | **0.07 $\\pm$ 0.01**      | 0.06 $\\pm$ 0.02                           | **0.07 $\\pm$ 0.01** |\n| ru         | AshtonIsNotHere-xlm-roberta-long-base-4096 | 0.07 $\\pm$ 0.03 | 0.12 $\\pm$ 0.04             | 0.10 $\\pm$ 0.03         | 0.10 $\\pm$ 0.05          | 0.12 $\\pm$ 0.04                           | **0.17 $\\pm$ 0.06** |"
     },
     "metadata": {},
     "output_type": "display_data"
    },
    {
     "name": "stderr",
     "output_type": "stream",
     "text": [
      "/tmp/ipykernel_65223/2331756451.py:60: FutureWarning: In future versions `DataFrame.to_latex` is expected to utilise the base implementation of `Styler.to_latex` for formatting and rendering. The arguments signature may therefore change. It is recommended instead to use `DataFrame.style.to_latex` which also contains additional functionality.\n",
      "  multi_language_report_table_metric.reset_index().to_latex(latex_file, index=False)\n"
     ]
    }
   ],
   "source": [
    "display_metrics_and_write_to_file(df=results_df, grouping_criterion=['model_name'], output_dir='per_model_name_tables')"
   ]
  }
 ],
 "metadata": {
  "kernelspec": {
   "display_name": "Python 3 (ipykernel)",
   "language": "python",
   "name": "python3"
  },
  "language_info": {
   "codemirror_mode": {
    "name": "ipython",
    "version": 3
   },
   "file_extension": ".py",
   "mimetype": "text/x-python",
   "name": "python",
   "nbconvert_exporter": "python",
   "pygments_lexer": "ipython3",
   "version": "3.9.13"
  }
 },
 "nbformat": 4,
 "nbformat_minor": 5
}
