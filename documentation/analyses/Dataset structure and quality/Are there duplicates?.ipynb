{
 "cells": [
  {
   "cell_type": "code",
   "execution_count": 1,
   "outputs": [
    {
     "name": "stderr",
     "output_type": "stream",
     "text": [
      "/home/juanbermeo/anaconda3/envs/Framing/lib/python3.9/site-packages/tqdm/auto.py:22: TqdmWarning: IProgress not found. Please update jupyter and ipywidgets. See https://ipywidgets.readthedocs.io/en/stable/user_install.html\n",
      "  from .autonotebook import tqdm as notebook_tqdm\n"
     ]
    }
   ],
   "source": [
    "import os\n",
    "\n",
    "import pandas as pd\n",
    "\n",
    "from preprocessing.InputDataset import BaseArticleDataset, FramingArticleDataset\n",
    "\n",
    "DATA_DIR = os.path.join('..', '..', '..', 'data')"
   ],
   "metadata": {
    "collapsed": false
   }
  },
  {
   "cell_type": "markdown",
   "source": [
    "# Are there duplicates?\n",
    "\n",
    "Load datasets in all languages availables"
   ],
   "metadata": {
    "collapsed": false
   }
  },
  {
   "cell_type": "code",
   "execution_count": 2,
   "outputs": [],
   "source": [
    "languages = ('en', 'ru', 'it', 'fr', 'po', 'ge')"
   ],
   "metadata": {
    "collapsed": false
   }
  },
  {
   "cell_type": "code",
   "execution_count": 3,
   "outputs": [
    {
     "name": "stderr",
     "output_type": "stream",
     "text": [
      "433it [00:00, 19587.92it/s]\n",
      "143it [00:00, 15318.23it/s]\n",
      "227it [00:00, 22644.95it/s]\n",
      "158it [00:00, 14515.71it/s]\n",
      "145it [00:00, 14954.61it/s]\n",
      "132it [00:00, 20547.34it/s]\n"
     ]
    }
   ],
   "source": [
    "datasets = {}\n",
    "\n",
    "for language in languages:\n",
    "    datasets[language] = BaseArticleDataset(\n",
    "        data_dir=DATA_DIR,\n",
    "        language=language, subtask=2, split='train')\n",
    "    datasets[language].separate_title_content()"
   ],
   "metadata": {
    "collapsed": false
   }
  },
  {
   "cell_type": "markdown",
   "source": [
    "## Summary of findings\n",
    "\n",
    " * Exact duplicates exist only on the english and german train dataset. It occurs only for two couples of documents:\n",
    "    * English:\n",
    "        * 698092698 and 999000878\n",
    "        * 832917532 (actual article) and 833032367 (comment on the article, probably best to remove this one)\n",
    "    * German\n",
    "        * 224 has the wrong content. Its title is different but it has the same contet as document 225.\n",
    " * No other exact duplicates were detected at the other 4 units of analysis (title_and_5_sentences, title_and_10_sentences, title_and_first_paragraph, title_and_first_sentence_each_paragraph)"
   ],
   "metadata": {
    "collapsed": false
   }
  },
  {
   "cell_type": "markdown",
   "source": [
    "## Check for duplicates in the datasets\n",
    "\n",
    "### Check for exact content or title duplicates\n",
    "#### English"
   ],
   "metadata": {
    "collapsed": false
   }
  },
  {
   "cell_type": "code",
   "execution_count": 4,
   "outputs": [
    {
     "data": {
      "text/plain": "                                                    raw_text  \\\nid                                                             \n999000878  Las Vegas Shooting: A THIRD Timeline Emerges E...   \n698092698  Las Vegas Shooting: A THIRD Timeline Emerges E...   \n\n                                                       title  \\\nid                                                             \n999000878  Las Vegas Shooting: A THIRD Timeline Emerges E...   \n698092698  Las Vegas Shooting: A THIRD Timeline Emerges E...   \n\n                                                     content  \nid                                                            \n999000878  probably a reason why reporters Laura Loomer a...  \n698092698  probably a reason why reporters Laura Loomer a...  ",
      "text/html": "<div>\n<style scoped>\n    .dataframe tbody tr th:only-of-type {\n        vertical-align: middle;\n    }\n\n    .dataframe tbody tr th {\n        vertical-align: top;\n    }\n\n    .dataframe thead th {\n        text-align: right;\n    }\n</style>\n<table border=\"1\" class=\"dataframe\">\n  <thead>\n    <tr style=\"text-align: right;\">\n      <th></th>\n      <th>raw_text</th>\n      <th>title</th>\n      <th>content</th>\n    </tr>\n    <tr>\n      <th>id</th>\n      <th></th>\n      <th></th>\n      <th></th>\n    </tr>\n  </thead>\n  <tbody>\n    <tr>\n      <th>999000878</th>\n      <td>Las Vegas Shooting: A THIRD Timeline Emerges E...</td>\n      <td>Las Vegas Shooting: A THIRD Timeline Emerges E...</td>\n      <td>probably a reason why reporters Laura Loomer a...</td>\n    </tr>\n    <tr>\n      <th>698092698</th>\n      <td>Las Vegas Shooting: A THIRD Timeline Emerges E...</td>\n      <td>Las Vegas Shooting: A THIRD Timeline Emerges E...</td>\n      <td>probably a reason why reporters Laura Loomer a...</td>\n    </tr>\n  </tbody>\n</table>\n</div>"
     },
     "execution_count": 4,
     "metadata": {},
     "output_type": "execute_result"
    }
   ],
   "source": [
    "datasets['en'].df[datasets['en'].df.content.duplicated(keep=False)]"
   ],
   "metadata": {
    "collapsed": false
   }
  },
  {
   "cell_type": "code",
   "execution_count": 5,
   "outputs": [
    {
     "data": {
      "text/plain": "                                                    raw_text  \\\nid                                                             \n765982381  Julian Assange\\n\\nDuring World War II Cardinal...   \n723793978  America's Immigration Voice.\\n\\nSwedish PM doe...   \n700461600  America's Immigration Voice.\\n\\nThe Kurds have...   \n999000878  Las Vegas Shooting: A THIRD Timeline Emerges E...   \n706661242  America's Immigration Voice.\\n\\nEver thought t...   \n765385479  Julian Assange\\n\\nThe persecution of Julian As...   \n730269378  America's Immigration Voice.\\n\\nThanks for pub...   \n706088110  America's Immigration Voice.\\n\\nYears ago nume...   \n698092698  Las Vegas Shooting: A THIRD Timeline Emerges E...   \n832917532  Robert Mueller Not Recommending Any More Indic...   \n730389374  America's Immigration Voice.\\n\\nCandidate Dona...   \n833032367  Robert Mueller Not Recommending Any More Indic...   \n730093263  America's Immigration Voice.\\n\\nEarlier, I blo...   \n702111021  America's Immigration Voice.\\n\\nKritarch Patti...   \n730019938  America's Immigration Voice.\\n\\nPolice identif...   \n725276027  America's Immigration Voice.\\n\\nKritarch Patti...   \n711716996  America's Immigration Voice.\\n\\nKritarch Patti...   \n723537899  America's Immigration Voice.\\n\\nThe war for do...   \n\n                                                       title  \\\nid                                                             \n765982381                                     Julian Assange   \n723793978                       America's Immigration Voice.   \n700461600                       America's Immigration Voice.   \n999000878  Las Vegas Shooting: A THIRD Timeline Emerges E...   \n706661242                       America's Immigration Voice.   \n765385479                                     Julian Assange   \n730269378                       America's Immigration Voice.   \n706088110                       America's Immigration Voice.   \n698092698  Las Vegas Shooting: A THIRD Timeline Emerges E...   \n832917532  Robert Mueller Not Recommending Any More Indic...   \n730389374                       America's Immigration Voice.   \n833032367  Robert Mueller Not Recommending Any More Indic...   \n730093263                       America's Immigration Voice.   \n702111021                       America's Immigration Voice.   \n730019938                       America's Immigration Voice.   \n725276027                       America's Immigration Voice.   \n711716996                       America's Immigration Voice.   \n723537899                       America's Immigration Voice.   \n\n                                                     content  \nid                                                            \n765982381  During World War II Cardinal Jozsef Mindszenty...  \n723793978  Swedish PM does not rule out use of army to en...  \n700461600  The Kurds have no friends but the mountains, i...  \n999000878  probably a reason why reporters Laura Loomer a...  \n706661242  Ever thought that the academic discipline of h...  \n765385479  The persecution of Julian Assange must end. Or...  \n730269378  Thanks for publicizing the race of Quentin Lam...  \n706088110  Years ago numerous Indonesian Christians came ...  \n698092698  probably a reason why reporters Laura Loomer a...  \n832917532  Special counsel Robert Mueller will not recomm...  \n730389374  Candidate Donald Trump may have promised to ex...  \n833032367  But of course, this makes no difference to the...  \n730093263  Earlier, I blogged that the police had release...  \n702111021  Kritarch Patti Saris is in the news again. She...  \n730019938  Police identify suspect in death of 2 Ohio pol...  \n725276027  Kritarch Patti Saris, who thinks it is the job...  \n711716996  Kritarch Patti Saris thinks she runs immigrati...  \n723537899  The war for dominance in the Middle East, foll...  ",
      "text/html": "<div>\n<style scoped>\n    .dataframe tbody tr th:only-of-type {\n        vertical-align: middle;\n    }\n\n    .dataframe tbody tr th {\n        vertical-align: top;\n    }\n\n    .dataframe thead th {\n        text-align: right;\n    }\n</style>\n<table border=\"1\" class=\"dataframe\">\n  <thead>\n    <tr style=\"text-align: right;\">\n      <th></th>\n      <th>raw_text</th>\n      <th>title</th>\n      <th>content</th>\n    </tr>\n    <tr>\n      <th>id</th>\n      <th></th>\n      <th></th>\n      <th></th>\n    </tr>\n  </thead>\n  <tbody>\n    <tr>\n      <th>765982381</th>\n      <td>Julian Assange\\n\\nDuring World War II Cardinal...</td>\n      <td>Julian Assange</td>\n      <td>During World War II Cardinal Jozsef Mindszenty...</td>\n    </tr>\n    <tr>\n      <th>723793978</th>\n      <td>America's Immigration Voice.\\n\\nSwedish PM doe...</td>\n      <td>America's Immigration Voice.</td>\n      <td>Swedish PM does not rule out use of army to en...</td>\n    </tr>\n    <tr>\n      <th>700461600</th>\n      <td>America's Immigration Voice.\\n\\nThe Kurds have...</td>\n      <td>America's Immigration Voice.</td>\n      <td>The Kurds have no friends but the mountains, i...</td>\n    </tr>\n    <tr>\n      <th>999000878</th>\n      <td>Las Vegas Shooting: A THIRD Timeline Emerges E...</td>\n      <td>Las Vegas Shooting: A THIRD Timeline Emerges E...</td>\n      <td>probably a reason why reporters Laura Loomer a...</td>\n    </tr>\n    <tr>\n      <th>706661242</th>\n      <td>America's Immigration Voice.\\n\\nEver thought t...</td>\n      <td>America's Immigration Voice.</td>\n      <td>Ever thought that the academic discipline of h...</td>\n    </tr>\n    <tr>\n      <th>765385479</th>\n      <td>Julian Assange\\n\\nThe persecution of Julian As...</td>\n      <td>Julian Assange</td>\n      <td>The persecution of Julian Assange must end. Or...</td>\n    </tr>\n    <tr>\n      <th>730269378</th>\n      <td>America's Immigration Voice.\\n\\nThanks for pub...</td>\n      <td>America's Immigration Voice.</td>\n      <td>Thanks for publicizing the race of Quentin Lam...</td>\n    </tr>\n    <tr>\n      <th>706088110</th>\n      <td>America's Immigration Voice.\\n\\nYears ago nume...</td>\n      <td>America's Immigration Voice.</td>\n      <td>Years ago numerous Indonesian Christians came ...</td>\n    </tr>\n    <tr>\n      <th>698092698</th>\n      <td>Las Vegas Shooting: A THIRD Timeline Emerges E...</td>\n      <td>Las Vegas Shooting: A THIRD Timeline Emerges E...</td>\n      <td>probably a reason why reporters Laura Loomer a...</td>\n    </tr>\n    <tr>\n      <th>832917532</th>\n      <td>Robert Mueller Not Recommending Any More Indic...</td>\n      <td>Robert Mueller Not Recommending Any More Indic...</td>\n      <td>Special counsel Robert Mueller will not recomm...</td>\n    </tr>\n    <tr>\n      <th>730389374</th>\n      <td>America's Immigration Voice.\\n\\nCandidate Dona...</td>\n      <td>America's Immigration Voice.</td>\n      <td>Candidate Donald Trump may have promised to ex...</td>\n    </tr>\n    <tr>\n      <th>833032367</th>\n      <td>Robert Mueller Not Recommending Any More Indic...</td>\n      <td>Robert Mueller Not Recommending Any More Indic...</td>\n      <td>But of course, this makes no difference to the...</td>\n    </tr>\n    <tr>\n      <th>730093263</th>\n      <td>America's Immigration Voice.\\n\\nEarlier, I blo...</td>\n      <td>America's Immigration Voice.</td>\n      <td>Earlier, I blogged that the police had release...</td>\n    </tr>\n    <tr>\n      <th>702111021</th>\n      <td>America's Immigration Voice.\\n\\nKritarch Patti...</td>\n      <td>America's Immigration Voice.</td>\n      <td>Kritarch Patti Saris is in the news again. She...</td>\n    </tr>\n    <tr>\n      <th>730019938</th>\n      <td>America's Immigration Voice.\\n\\nPolice identif...</td>\n      <td>America's Immigration Voice.</td>\n      <td>Police identify suspect in death of 2 Ohio pol...</td>\n    </tr>\n    <tr>\n      <th>725276027</th>\n      <td>America's Immigration Voice.\\n\\nKritarch Patti...</td>\n      <td>America's Immigration Voice.</td>\n      <td>Kritarch Patti Saris, who thinks it is the job...</td>\n    </tr>\n    <tr>\n      <th>711716996</th>\n      <td>America's Immigration Voice.\\n\\nKritarch Patti...</td>\n      <td>America's Immigration Voice.</td>\n      <td>Kritarch Patti Saris thinks she runs immigrati...</td>\n    </tr>\n    <tr>\n      <th>723537899</th>\n      <td>America's Immigration Voice.\\n\\nThe war for do...</td>\n      <td>America's Immigration Voice.</td>\n      <td>The war for dominance in the Middle East, foll...</td>\n    </tr>\n  </tbody>\n</table>\n</div>"
     },
     "execution_count": 5,
     "metadata": {},
     "output_type": "execute_result"
    }
   ],
   "source": [
    "datasets['en'].df[datasets['en'].df.title.duplicated(keep=False)]"
   ],
   "metadata": {
    "collapsed": false
   }
  },
  {
   "cell_type": "markdown",
   "source": [
    "Some articles have the same titles because they proceed from the same blog or source, but their content is not the same.\n",
    "\n",
    "The only real duplicate seems to be:\n",
    "    - 698092698 and 999000878\n",
    "    - 832917532 (actual article) and 833032367 (comment on the article, probably best to remove this one)\n"
   ],
   "metadata": {
    "collapsed": false
   }
  },
  {
   "cell_type": "code",
   "execution_count": 6,
   "outputs": [
    {
     "name": "stdout",
     "output_type": "stream",
     "text": [
      "Special counsel Robert Mueller will not recommend any more indictments as part of his investigation, the Justice Department announced Friday evening.\n",
      "A senior Justice Department official announced the development shortly after the special counsel submitted its final report to U.S. Attorney General William Barr.\n",
      "Barr will now review the report and write his own report on Mueller’s findings and present them to Congress as soon as this weekend.\n",
      "“I am reviewing the report and anticipate that I may be in a position to advise you of the special counsel’s principal conclusions as soon as this weekend,” the attorney general wrote in a letter to Republican and Democrat leaders on the House and Senate Judiciary Committees.\n",
      "He also said at no time did the Justice Department prevent Mueller from any actions he sought to make during the course of his investigation.\n",
      "President Trump’s initial reaction to news of the report’s delivery is that he is “glad it’s over,” reported ABC News.\n",
      "In a separate statement, Trump lawyers Rudy Giuliani and Jay Sekulow said:“We’re pleased that the Office of Special Counsel has delivered its report to the Attorney General pursuant to the regulations.\n",
      "Attorney General Barr will determine the appropriate next steps.”\n",
      "Following confirmation of the report’s delivery, several top Democrat lawmakers demanded its immediate public release.\n",
      "Sen. Mark Warner (D-VA), the top Democrat on the Senate Intelligence Committee, said Mueller’s findings “must be provided to Congress immediately, and the Attorney General should swiftly prepare a declassified version for the public.\n",
      "Nothing short of that will suffice.”\n",
      "Senate Minority Leader Chuck Schumer (D-NY) and House Speaker Nancy Pelosi (D-CA) echoed Warner’s remarks, stating: “It is imperative for Mr. Barr to make the full report public and provide its underlying documentation and findings to Congress.”SSen. Chuck Grassley (R-IA), the former chair of the Senate’s Judiciary Committee, said in a statement “that we still haven’t seen any evidence of collusion.”“Republicans and Democrats have roundly praised Mueller’s reputation for integrity and thoroughness.\n",
      "Now that he’s wrapped up his investigation, Attorney General Barr must provide Congress and the American people with the findings to finally put an end to the speculation and innuendo that has loomed over this administration since its earliest days,” Grassley said.\n",
      "“Attempts to keep the collusion narrative alive, especially for political reasons, will only serve to further harm our political discourse and play into the hands of our foreign adversaries.”\n"
     ]
    }
   ],
   "source": [
    "print(datasets['en'].df.content.loc[832917532])"
   ],
   "metadata": {
    "collapsed": false
   }
  },
  {
   "cell_type": "code",
   "execution_count": 7,
   "outputs": [
    {
     "name": "stdout",
     "output_type": "stream",
     "text": [
      "But of course, this makes no difference to the party of treason.\n",
      "The coup will continue.\n",
      "The New York Times instructs its goosestepping goons that:\n",
      "the delivery of a report late Friday afternoon from Robert S. Mueller III, the special counsel, to Attorney General William P. Barr might seem like the conclusion of a long-running drama , but it is only the end of the beginning.Two and half years and billions of dollars because these thumbsucking traitors lost the election.\n",
      "ROBERT MUELLER NOT RECOMMENDING ANY MORE INDICTMENTS IN RUSSIA PROBE take our poll - story continues below\n",
      "Do you think Democrats will push out Representative Ilhan Omar over her anti-Semitism?\n",
      "Do you think Democrats will push out Representative Ilhan Omar over her anti-Semitism?\n",
      "Do you think Democrats will push out Representative Ilhan Omar over her anti-Semitism?\n",
      "* Yes, they're supposedly the party against hate, so they have to.\n",
      "No, intersectional politics rule the Democrat party, so Omar wins.\n",
      "I don't really care what they do.\n",
      "The Democrat party is all bad anyway.\n",
      "Email *\n",
      "Email This field is for validation purposes and should be left unchanged.\n",
      "Completing this poll grants you access to Freedom Outpost updates free of charge.\n",
      "You may opt out at anytime.\n",
      "You also agree to this site's Privacy Policy and Terms of Use.\n",
      "By Joshua Caplan.\n",
      "March 22, 2019:\n",
      "SPECIAL COUNSEL ROBERT MUELLER WILL NOT RECOMMEND ANY MORE INDICTMENTS AS PART OF HIS INVESTIGATION, THE JUSTICE DEPARTMENT ANNOUNCED FRIDAY EVENING.\n",
      "A senior Justice Department official announced the development shortly after the special counsel submitted its final report to U.S. Attorney General William Barr.\n",
      "Barr will now review the report and write his own report on Mueller’s findings and present them to Congress as soon as this weekend.\n",
      "“I am reviewing the report and anticipate that I may be in a position to advise you of the special counsel’s principal conclusions as soon as this weekend,” the attorney general wrote in a letter to Republican and Democrat leaders on the House and Senate Judiciary Committees.\n",
      "He also said at no time did the Justice Department prevent Mueller from any actions he sought to make during the course of his investigation.\n",
      "President Trump’s initial reaction to news of the report’s delivery is that he is “glad it’s over,” reported ABC News.\n",
      "In a separate statement, Trump lawyers Rudy Giuliani and Jay Sekulow said:“We’re pleased that the Office of Special Counsel has delivered its report to the Attorney General pursuant to the regulations.\n",
      "Attorney General Barr will determine the appropriate next steps.”\n",
      "Following confirmation of the report’s delivery, several top Democrat lawmakers demanded its immediate public release.\n",
      "Sen. Mark Warner (D-VA), the top Democrat on the Senate Intelligence Committee, said Mueller’s findings “must be provided to Congress immediately, and the Attorney General should swiftly prepare a declassified version for the public.\n",
      "Nothing short of that will suffice.”\n",
      "Senate Minority Leader Chuck Schumer (D-NY) and House Speaker Nancy Pelosi (D-CA) echoed Warner’s remarks, stating: “It is imperative for Mr. Barr to make the full report public and provide its underlying documentation and findings to Congress.”\n",
      "Sen. Chuck Grassley (R-IA), the former chair of the Senate’s Judiciary Committee, said in a statement “that we still haven’t seen any evidence of collusion.”\n",
      "“Republicans and Democrats have roundly praised Mueller’s reputation for integrity and thoroughness.\n",
      "Now that he’s wrapped up his investigation, Attorney General Barr must provide Congress and the American people with the findings to finally put an end to the speculation and innuendo that has loomed over this administration since its earliest days,” Grassley said.\n",
      "“Attempts to keep the collusion narrative alive, especially for political reasons, will only serve to further harm our political discourse and play into the hands of our foreign adversaries.”\n"
     ]
    }
   ],
   "source": [
    "print(datasets['en'].df.content.loc[833032367])"
   ],
   "metadata": {
    "collapsed": false
   }
  },
  {
   "cell_type": "markdown",
   "source": [
    "#### Italian"
   ],
   "metadata": {
    "collapsed": false
   }
  },
  {
   "cell_type": "code",
   "execution_count": 8,
   "outputs": [
    {
     "data": {
      "text/plain": "Empty DataFrame\nColumns: [raw_text, title, content]\nIndex: []",
      "text/html": "<div>\n<style scoped>\n    .dataframe tbody tr th:only-of-type {\n        vertical-align: middle;\n    }\n\n    .dataframe tbody tr th {\n        vertical-align: top;\n    }\n\n    .dataframe thead th {\n        text-align: right;\n    }\n</style>\n<table border=\"1\" class=\"dataframe\">\n  <thead>\n    <tr style=\"text-align: right;\">\n      <th></th>\n      <th>raw_text</th>\n      <th>title</th>\n      <th>content</th>\n    </tr>\n    <tr>\n      <th>id</th>\n      <th></th>\n      <th></th>\n      <th></th>\n    </tr>\n  </thead>\n  <tbody>\n  </tbody>\n</table>\n</div>"
     },
     "execution_count": 8,
     "metadata": {},
     "output_type": "execute_result"
    }
   ],
   "source": [
    "datasets['it'].df[datasets['it'].df.content.duplicated(keep=False)]"
   ],
   "metadata": {
    "collapsed": false
   }
  },
  {
   "cell_type": "code",
   "execution_count": 9,
   "outputs": [
    {
     "data": {
      "text/plain": "Empty DataFrame\nColumns: [raw_text, title, content]\nIndex: []",
      "text/html": "<div>\n<style scoped>\n    .dataframe tbody tr th:only-of-type {\n        vertical-align: middle;\n    }\n\n    .dataframe tbody tr th {\n        vertical-align: top;\n    }\n\n    .dataframe thead th {\n        text-align: right;\n    }\n</style>\n<table border=\"1\" class=\"dataframe\">\n  <thead>\n    <tr style=\"text-align: right;\">\n      <th></th>\n      <th>raw_text</th>\n      <th>title</th>\n      <th>content</th>\n    </tr>\n    <tr>\n      <th>id</th>\n      <th></th>\n      <th></th>\n      <th></th>\n    </tr>\n  </thead>\n  <tbody>\n  </tbody>\n</table>\n</div>"
     },
     "execution_count": 9,
     "metadata": {},
     "output_type": "execute_result"
    }
   ],
   "source": [
    "datasets['it'].df[datasets['it'].df.title.duplicated(keep=False)]"
   ],
   "metadata": {
    "collapsed": false
   }
  },
  {
   "cell_type": "markdown",
   "source": [
    "#### Russian"
   ],
   "metadata": {
    "collapsed": false
   }
  },
  {
   "cell_type": "code",
   "execution_count": 10,
   "outputs": [
    {
     "data": {
      "text/plain": "Empty DataFrame\nColumns: [raw_text, title, content]\nIndex: []",
      "text/html": "<div>\n<style scoped>\n    .dataframe tbody tr th:only-of-type {\n        vertical-align: middle;\n    }\n\n    .dataframe tbody tr th {\n        vertical-align: top;\n    }\n\n    .dataframe thead th {\n        text-align: right;\n    }\n</style>\n<table border=\"1\" class=\"dataframe\">\n  <thead>\n    <tr style=\"text-align: right;\">\n      <th></th>\n      <th>raw_text</th>\n      <th>title</th>\n      <th>content</th>\n    </tr>\n    <tr>\n      <th>id</th>\n      <th></th>\n      <th></th>\n      <th></th>\n    </tr>\n  </thead>\n  <tbody>\n  </tbody>\n</table>\n</div>"
     },
     "execution_count": 10,
     "metadata": {},
     "output_type": "execute_result"
    }
   ],
   "source": [
    "datasets['ru'].df[datasets['ru'].df.content.duplicated(keep=False)]"
   ],
   "metadata": {
    "collapsed": false
   }
  },
  {
   "cell_type": "code",
   "execution_count": 11,
   "outputs": [
    {
     "data": {
      "text/plain": "Empty DataFrame\nColumns: [raw_text, title, content]\nIndex: []",
      "text/html": "<div>\n<style scoped>\n    .dataframe tbody tr th:only-of-type {\n        vertical-align: middle;\n    }\n\n    .dataframe tbody tr th {\n        vertical-align: top;\n    }\n\n    .dataframe thead th {\n        text-align: right;\n    }\n</style>\n<table border=\"1\" class=\"dataframe\">\n  <thead>\n    <tr style=\"text-align: right;\">\n      <th></th>\n      <th>raw_text</th>\n      <th>title</th>\n      <th>content</th>\n    </tr>\n    <tr>\n      <th>id</th>\n      <th></th>\n      <th></th>\n      <th></th>\n    </tr>\n  </thead>\n  <tbody>\n  </tbody>\n</table>\n</div>"
     },
     "execution_count": 11,
     "metadata": {},
     "output_type": "execute_result"
    }
   ],
   "source": [
    "datasets['ru'].df[datasets['ru'].df.title.duplicated(keep=False)]"
   ],
   "metadata": {
    "collapsed": false
   }
  },
  {
   "cell_type": "markdown",
   "source": [
    "Seems other languages do not contain exact duplicates"
   ],
   "metadata": {
    "collapsed": false
   }
  },
  {
   "cell_type": "markdown",
   "source": [
    "#### French"
   ],
   "metadata": {
    "collapsed": false
   }
  },
  {
   "cell_type": "code",
   "execution_count": 12,
   "outputs": [
    {
     "data": {
      "text/plain": "Empty DataFrame\nColumns: [raw_text, title, content]\nIndex: []",
      "text/html": "<div>\n<style scoped>\n    .dataframe tbody tr th:only-of-type {\n        vertical-align: middle;\n    }\n\n    .dataframe tbody tr th {\n        vertical-align: top;\n    }\n\n    .dataframe thead th {\n        text-align: right;\n    }\n</style>\n<table border=\"1\" class=\"dataframe\">\n  <thead>\n    <tr style=\"text-align: right;\">\n      <th></th>\n      <th>raw_text</th>\n      <th>title</th>\n      <th>content</th>\n    </tr>\n    <tr>\n      <th>id</th>\n      <th></th>\n      <th></th>\n      <th></th>\n    </tr>\n  </thead>\n  <tbody>\n  </tbody>\n</table>\n</div>"
     },
     "execution_count": 12,
     "metadata": {},
     "output_type": "execute_result"
    }
   ],
   "source": [
    "datasets['fr'].df[datasets['fr'].df.content.duplicated(keep=False)]"
   ],
   "metadata": {
    "collapsed": false
   }
  },
  {
   "cell_type": "code",
   "execution_count": 13,
   "outputs": [
    {
     "data": {
      "text/plain": "Empty DataFrame\nColumns: [raw_text, title, content]\nIndex: []",
      "text/html": "<div>\n<style scoped>\n    .dataframe tbody tr th:only-of-type {\n        vertical-align: middle;\n    }\n\n    .dataframe tbody tr th {\n        vertical-align: top;\n    }\n\n    .dataframe thead th {\n        text-align: right;\n    }\n</style>\n<table border=\"1\" class=\"dataframe\">\n  <thead>\n    <tr style=\"text-align: right;\">\n      <th></th>\n      <th>raw_text</th>\n      <th>title</th>\n      <th>content</th>\n    </tr>\n    <tr>\n      <th>id</th>\n      <th></th>\n      <th></th>\n      <th></th>\n    </tr>\n  </thead>\n  <tbody>\n  </tbody>\n</table>\n</div>"
     },
     "execution_count": 13,
     "metadata": {},
     "output_type": "execute_result"
    }
   ],
   "source": [
    "datasets['fr'].df[datasets['fr'].df.title.duplicated(keep=False)]"
   ],
   "metadata": {
    "collapsed": false
   }
  },
  {
   "cell_type": "markdown",
   "source": [
    "#### Polish"
   ],
   "metadata": {
    "collapsed": false
   }
  },
  {
   "cell_type": "code",
   "execution_count": 14,
   "outputs": [
    {
     "data": {
      "text/plain": "Empty DataFrame\nColumns: [raw_text, title, content]\nIndex: []",
      "text/html": "<div>\n<style scoped>\n    .dataframe tbody tr th:only-of-type {\n        vertical-align: middle;\n    }\n\n    .dataframe tbody tr th {\n        vertical-align: top;\n    }\n\n    .dataframe thead th {\n        text-align: right;\n    }\n</style>\n<table border=\"1\" class=\"dataframe\">\n  <thead>\n    <tr style=\"text-align: right;\">\n      <th></th>\n      <th>raw_text</th>\n      <th>title</th>\n      <th>content</th>\n    </tr>\n    <tr>\n      <th>id</th>\n      <th></th>\n      <th></th>\n      <th></th>\n    </tr>\n  </thead>\n  <tbody>\n  </tbody>\n</table>\n</div>"
     },
     "execution_count": 14,
     "metadata": {},
     "output_type": "execute_result"
    }
   ],
   "source": [
    "datasets['po'].df[datasets['po'].df.content.duplicated(keep=False)]"
   ],
   "metadata": {
    "collapsed": false
   }
  },
  {
   "cell_type": "code",
   "execution_count": 15,
   "outputs": [
    {
     "data": {
      "text/plain": "                                                raw_text  \\\nid                                                         \n25151  Srebro na niedzielę (bo milczenie jest złotem)...   \n25152  Srebro na niedzielę (bo milczenie jest złotem)...   \n\n                                                title  \\\nid                                                      \n25151  Srebro na niedzielę (bo milczenie jest złotem)   \n25152  Srebro na niedzielę (bo milczenie jest złotem)   \n\n                                                 content  \nid                                                        \n25151  Francja zapłaci\\n\\nLiderka Zjednoczenia Narodo...  \n25152  Zaradny Richard Henry\\n\\nEuroposeł Ryszard Cza...  ",
      "text/html": "<div>\n<style scoped>\n    .dataframe tbody tr th:only-of-type {\n        vertical-align: middle;\n    }\n\n    .dataframe tbody tr th {\n        vertical-align: top;\n    }\n\n    .dataframe thead th {\n        text-align: right;\n    }\n</style>\n<table border=\"1\" class=\"dataframe\">\n  <thead>\n    <tr style=\"text-align: right;\">\n      <th></th>\n      <th>raw_text</th>\n      <th>title</th>\n      <th>content</th>\n    </tr>\n    <tr>\n      <th>id</th>\n      <th></th>\n      <th></th>\n      <th></th>\n    </tr>\n  </thead>\n  <tbody>\n    <tr>\n      <th>25151</th>\n      <td>Srebro na niedzielę (bo milczenie jest złotem)...</td>\n      <td>Srebro na niedzielę (bo milczenie jest złotem)</td>\n      <td>Francja zapłaci\\n\\nLiderka Zjednoczenia Narodo...</td>\n    </tr>\n    <tr>\n      <th>25152</th>\n      <td>Srebro na niedzielę (bo milczenie jest złotem)...</td>\n      <td>Srebro na niedzielę (bo milczenie jest złotem)</td>\n      <td>Zaradny Richard Henry\\n\\nEuroposeł Ryszard Cza...</td>\n    </tr>\n  </tbody>\n</table>\n</div>"
     },
     "execution_count": 15,
     "metadata": {},
     "output_type": "execute_result"
    }
   ],
   "source": [
    "datasets['po'].df[datasets['po'].df.title.duplicated(keep=False)]"
   ],
   "metadata": {
    "collapsed": false
   }
  },
  {
   "cell_type": "markdown",
   "source": [
    "#### German"
   ],
   "metadata": {
    "collapsed": false
   }
  },
  {
   "cell_type": "code",
   "execution_count": 16,
   "outputs": [
    {
     "data": {
      "text/plain": "                                              raw_text  \\\nid                                                       \n225  Europol ist jetzt vollautorisiert zur EU-weite...   \n224  AfD: Allein in Hamburg: Eine halbe Milliarde E...   \n\n                                                 title  \\\nid                                                       \n225  Europol ist jetzt vollautorisiert zur EU-weite...   \n224  AfD: Allein in Hamburg: Eine halbe Milliarde E...   \n\n                                               content  \nid                                                      \n225  Am Mittwoch verabschiedete das EU-Parlament mi...  \n224  Am Mittwoch verabschiedete das EU-Parlament mi...  ",
      "text/html": "<div>\n<style scoped>\n    .dataframe tbody tr th:only-of-type {\n        vertical-align: middle;\n    }\n\n    .dataframe tbody tr th {\n        vertical-align: top;\n    }\n\n    .dataframe thead th {\n        text-align: right;\n    }\n</style>\n<table border=\"1\" class=\"dataframe\">\n  <thead>\n    <tr style=\"text-align: right;\">\n      <th></th>\n      <th>raw_text</th>\n      <th>title</th>\n      <th>content</th>\n    </tr>\n    <tr>\n      <th>id</th>\n      <th></th>\n      <th></th>\n      <th></th>\n    </tr>\n  </thead>\n  <tbody>\n    <tr>\n      <th>225</th>\n      <td>Europol ist jetzt vollautorisiert zur EU-weite...</td>\n      <td>Europol ist jetzt vollautorisiert zur EU-weite...</td>\n      <td>Am Mittwoch verabschiedete das EU-Parlament mi...</td>\n    </tr>\n    <tr>\n      <th>224</th>\n      <td>AfD: Allein in Hamburg: Eine halbe Milliarde E...</td>\n      <td>AfD: Allein in Hamburg: Eine halbe Milliarde E...</td>\n      <td>Am Mittwoch verabschiedete das EU-Parlament mi...</td>\n    </tr>\n  </tbody>\n</table>\n</div>"
     },
     "execution_count": 16,
     "metadata": {},
     "output_type": "execute_result"
    }
   ],
   "source": [
    "datasets['ge'].df[datasets['ge'].df.content.duplicated(keep=False)]"
   ],
   "metadata": {
    "collapsed": false
   }
  },
  {
   "cell_type": "code",
   "execution_count": 17,
   "outputs": [
    {
     "data": {
      "text/plain": "Empty DataFrame\nColumns: [raw_text, title, content]\nIndex: []",
      "text/html": "<div>\n<style scoped>\n    .dataframe tbody tr th:only-of-type {\n        vertical-align: middle;\n    }\n\n    .dataframe tbody tr th {\n        vertical-align: top;\n    }\n\n    .dataframe thead th {\n        text-align: right;\n    }\n</style>\n<table border=\"1\" class=\"dataframe\">\n  <thead>\n    <tr style=\"text-align: right;\">\n      <th></th>\n      <th>raw_text</th>\n      <th>title</th>\n      <th>content</th>\n    </tr>\n    <tr>\n      <th>id</th>\n      <th></th>\n      <th></th>\n      <th></th>\n    </tr>\n  </thead>\n  <tbody>\n  </tbody>\n</table>\n</div>"
     },
     "execution_count": 17,
     "metadata": {},
     "output_type": "execute_result"
    }
   ],
   "source": [
    "datasets['ge'].df[datasets['ge'].df.title.duplicated(keep=False)]"
   ],
   "metadata": {
    "collapsed": false
   }
  },
  {
   "cell_type": "code",
   "execution_count": 18,
   "outputs": [
    {
     "name": "stdout",
     "output_type": "stream",
     "text": [
      "Europol ist jetzt vollautorisiert zur EU-weiten Massenüberwachung\n",
      "Am Mittwoch verabschiedete das EU-Parlament mit 480 zu 143 Stimmen bei 20 Enthaltungen einen Entwurf zur Reform des europäischen Polizeiamts Europol. Dieses hat fortan die Befugnis, umfangreiche und komplexe Datensätze zu verarbeiten, um die Mitgliedstaaten beim Kampf „gegen Schwerkriminalität und Terrorismus” zu unterstützen – bzw. gegen alles, was nach „Landessitte“ und nationaler Auslegung darunter fällt. In Deutschland kann man eingedenk der Prioritäten einer linksradikalen Bundesinnenministerin also gewiss sein, dass fortan auch Meinungsverbrecher und als „Rechte“ kriminalisierte Dissidenten in diese Kategorien fallen – mit den entsprechenden, nunmehr legalisierten Entrechtungsfolgen.\n",
      "\n",
      "Damit wird die Macht der Behörde mit Sitz in Den Haag noch einmal erheblich gesteigert: Denn Europol wird vor allem von den nationalen Strafverfolgungsbehörden mit riesigen Datenmengen beliefert. Dem EU-Datenschutzbeauftragten Wojciech Wiewiórowski sind die ungeheuren Informationsströme, die bei Europol eingehen, seit langem ein Dorn im Auge: Bereits 2020 hatte er die dortige Sammelwut gerügt, weil so auch Unverdächtige – etwa Opfer, Zeugen oder Kontaktpersonen – Gefahr liefen, „unrechtmäßig mit einer kriminellen Aktivität in der gesamten EU in Verbindung gebracht zu werden”. Anfang dieses Jahres hatte Wiewiórowski daher angeordnet, dass Informationen über Personen, denen keine Verbindung zu einer kriminellen Aktivität nachgewiesen werde könne, nach spätestens sechs Monaten gelöscht werden müssen. Dieser Zeitraum versetze die Behörde einerseits in die Lage, „den operativen Anforderungen der EU-Mitgliedstaaten gerecht zu werden„, würde andererseits zugleich aber auch „die Risiken für die Rechte und Freiheiten des Einzelnen zu minimieren„, so Wiewiórowski. Die Frage ist hierbei natürlich grundsätzlich, ob bzw. was tatsächlich „gelöscht“ wird – und dies dann auch auf tatsächlich unrekonstruierbare Weise. Daran bestehen erhebliche Zweifel – zumal die Europol– Datenspeicher mittlerweile, dem britischen „Guardian” zufolge, mindestens vier Petabyte mit -zig Milliarden an Informationsparametern umfassen soll. Von einem solchen mühsam gehorteten „Schatz“ trennt sich keine Behörde freiwillig – schon gar keine intransparente und nur bedingt demokratisch legitimierte kontinentale Polizeieinheit.\n"
     ]
    }
   ],
   "source": [
    "print(datasets['ge'].df.loc[225].title)\n",
    "print(datasets['ge'].df.loc[225].content)\n"
   ],
   "metadata": {
    "collapsed": false
   }
  },
  {
   "cell_type": "code",
   "execution_count": 19,
   "outputs": [
    {
     "name": "stdout",
     "output_type": "stream",
     "text": [
      "AfD: Allein in Hamburg: Eine halbe Milliarde Euro für die Gesundheitsversorgung von Asylbewerbern!\n"
     ]
    }
   ],
   "source": [
    "print(datasets['ge'].df.loc[224].title)"
   ],
   "metadata": {
    "collapsed": false
   }
  },
  {
   "cell_type": "code",
   "execution_count": 20,
   "outputs": [
    {
     "name": "stdout",
     "output_type": "stream",
     "text": [
      "Am Mittwoch verabschiedete das EU-Parlament mit 480 zu 143 Stimmen bei 20 Enthaltungen einen Entwurf zur Reform des europäischen Polizeiamts Europol. Dieses hat fortan die Befugnis, umfangreiche und komplexe Datensätze zu verarbeiten, um die Mitgliedstaaten beim Kampf „gegen Schwerkriminalität und Terrorismus” zu unterstützen – bzw. gegen alles, was nach „Landessitte“ und nationaler Auslegung darunter fällt. In Deutschland kann man eingedenk der Prioritäten einer linksradikalen Bundesinnenministerin also gewiss sein, dass fortan auch Meinungsverbrecher und als „Rechte“ kriminalisierte Dissidenten in diese Kategorien fallen – mit den entsprechenden, nunmehr legalisierten Entrechtungsfolgen.\n",
      "\n",
      "Damit wird die Macht der Behörde mit Sitz in Den Haag noch einmal erheblich gesteigert: Denn Europol wird vor allem von den nationalen Strafverfolgungsbehörden mit riesigen Datenmengen beliefert. Dem EU-Datenschutzbeauftragten Wojciech Wiewiórowski sind die ungeheuren Informationsströme, die bei Europol eingehen, seit langem ein Dorn im Auge: Bereits 2020 hatte er die dortige Sammelwut gerügt, weil so auch Unverdächtige – etwa Opfer, Zeugen oder Kontaktpersonen – Gefahr liefen, „unrechtmäßig mit einer kriminellen Aktivität in der gesamten EU in Verbindung gebracht zu werden”. Anfang dieses Jahres hatte Wiewiórowski daher angeordnet, dass Informationen über Personen, denen keine Verbindung zu einer kriminellen Aktivität nachgewiesen werde könne, nach spätestens sechs Monaten gelöscht werden müssen. Dieser Zeitraum versetze die Behörde einerseits in die Lage, „den operativen Anforderungen der EU-Mitgliedstaaten gerecht zu werden„, würde andererseits zugleich aber auch „die Risiken für die Rechte und Freiheiten des Einzelnen zu minimieren„, so Wiewiórowski. Die Frage ist hierbei natürlich grundsätzlich, ob bzw. was tatsächlich „gelöscht“ wird – und dies dann auch auf tatsächlich unrekonstruierbare Weise. Daran bestehen erhebliche Zweifel – zumal die Europol– Datenspeicher mittlerweile, dem britischen „Guardian” zufolge, mindestens vier Petabyte mit -zig Milliarden an Informationsparametern umfassen soll. Von einem solchen mühsam gehorteten „Schatz“ trennt sich keine Behörde freiwillig – schon gar keine intransparente und nur bedingt demokratisch legitimierte kontinentale Polizeieinheit.\n"
     ]
    }
   ],
   "source": [
    "print(datasets['ge'].df.loc[224].content)"
   ],
   "metadata": {
    "collapsed": false
   }
  },
  {
   "cell_type": "markdown",
   "source": [
    "It seems like the content of article 224 is wrong. It somehow has the text of article with ID 225. Let's check if they have the same labels"
   ],
   "metadata": {
    "collapsed": false
   }
  },
  {
   "cell_type": "code",
   "execution_count": 21,
   "outputs": [
    {
     "name": "stderr",
     "output_type": "stream",
     "text": [
      "132it [00:00, 17101.63it/s]\n"
     ]
    }
   ],
   "source": [
    "ge_dataset = FramingArticleDataset(\n",
    "    data_dir=DATA_DIR,\n",
    "    language='ge', subtask=2, split='train',\n",
    "    remove_duplicates=False\n",
    ")"
   ],
   "metadata": {
    "collapsed": false
   }
  },
  {
   "cell_type": "code",
   "execution_count": 22,
   "outputs": [
    {
     "name": "stdout",
     "output_type": "stream",
     "text": [
      "Legality_Constitutionality_and_jurisprudence,Policy_prescription_and_evaluation,External_regulation_and_reputation,Capacity_and_resources,Health_and_safety,Political,Security_and_defense\n",
      "Legality_Constitutionality_and_jurisprudence,Policy_prescription_and_evaluation,External_regulation_and_reputation,Security_and_defense,Political,Crime_and_punishment\n"
     ]
    },
    {
     "data": {
      "text/plain": "False"
     },
     "execution_count": 22,
     "metadata": {},
     "output_type": "execute_result"
    }
   ],
   "source": [
    "print(ge_dataset.df.loc[224].frames)\n",
    "print(ge_dataset.df.loc[225].frames)\n",
    "ge_dataset.df.loc[224].frames == ge_dataset.df.loc[225].frames"
   ],
   "metadata": {
    "collapsed": false
   }
  },
  {
   "cell_type": "markdown",
   "source": [
    "Their labels are indeed diffent. It seems like they just parsed wrongly document 224."
   ],
   "metadata": {
    "collapsed": false
   }
  },
  {
   "cell_type": "markdown",
   "source": [
    "## Let's look for duplicates with fuzzy matching"
   ],
   "metadata": {
    "collapsed": false
   }
  },
  {
   "cell_type": "code",
   "execution_count": 23,
   "outputs": [],
   "source": [
    "from fuzzywuzzy import fuzz\n",
    "\n",
    "def naive_pairwise_comparisson(df: pd.DataFrame, col_name: str, comp_fn: callable) -> pd.DataFrame:\n",
    "    duplicates = []\n",
    "    for row_i in df.iterrows():\n",
    "        for row_j in df.drop(row_i[0]).iterrows():\n",
    "            if comp_fn(row_i[1][col_name], row_j[1][col_name]):\n",
    "                duplicates.append(row_i[0], row_i[1], row_j[0], row_j[1])\n",
    "                print(duplicates)\n",
    "\n",
    "    return pd.DataFrame(duplicates, columns=['id_1', 'raw_text_1', 'id_2', 'raw_text_2'])\n",
    "\n"
   ],
   "metadata": {
    "collapsed": false
   }
  },
  {
   "cell_type": "code",
   "execution_count": 24,
   "outputs": [
    {
     "ename": "NameError",
     "evalue": "name 'semeval_data' is not defined",
     "output_type": "error",
     "traceback": [
      "\u001B[0;31m---------------------------------------------------------------------------\u001B[0m",
      "\u001B[0;31mNameError\u001B[0m                                 Traceback (most recent call last)",
      "Input \u001B[0;32mIn [24]\u001B[0m, in \u001B[0;36m<cell line: 1>\u001B[0;34m()\u001B[0m\n\u001B[0;32m----> 1\u001B[0m naive_pairwise_comparisson(df\u001B[38;5;241m=\u001B[39m\u001B[43msemeval_data\u001B[49m\u001B[38;5;241m.\u001B[39mdf, col_name\u001B[38;5;241m=\u001B[39m\u001B[38;5;124m\"\u001B[39m\u001B[38;5;124mraw_text\u001B[39m\u001B[38;5;124m\"\u001B[39m,\n\u001B[1;32m      2\u001B[0m                            comp_fn\u001B[38;5;241m=\u001B[39m\u001B[38;5;28;01mlambda\u001B[39;00m str1, str2: fuzz\u001B[38;5;241m.\u001B[39mpartial_ratio(str1, str2) \u001B[38;5;241m>\u001B[39m \u001B[38;5;241m90\u001B[39m)\n",
      "\u001B[0;31mNameError\u001B[0m: name 'semeval_data' is not defined"
     ]
    }
   ],
   "source": [
    "naive_pairwise_comparisson(df=semeval_data.df, col_name=\"raw_text\",\n",
    "                           comp_fn=lambda str1, str2: fuzz.partial_ratio(str1, str2) > 90)"
   ],
   "metadata": {
    "collapsed": false
   }
  },
  {
   "cell_type": "markdown",
   "source": [
    "Let's verify these with some fuzzy matching"
   ],
   "metadata": {
    "collapsed": false
   }
  },
  {
   "cell_type": "code",
   "execution_count": null,
   "outputs": [],
   "source": [
    "from fuzzywuzzy import fuzz\n",
    "\n",
    "def naive_pairwise_comparisson(df: pd.DataFrame, col_name: str, comp_fn: callable) -> pd.DataFrame:\n",
    "    duplicates = []\n",
    "    for row_i in df.iterrows():\n",
    "        for row_j in df.drop(row_i[0]).iterrows():\n",
    "            if comp_fn(row_i[1][col_name], row_j[1][col_name]):\n",
    "                duplicates.append(row_i[0], row_i[1], row_j[0], row_j[1])\n",
    "                print(duplicates)\n",
    "\n",
    "    return pd.DataFrame(duplicates, columns=['id_1', 'raw_text_1', 'id_2', 'raw_text_2'])\n",
    "\n"
   ],
   "metadata": {
    "collapsed": false
   }
  },
  {
   "cell_type": "code",
   "execution_count": null,
   "outputs": [],
   "source": [
    "naive_pairwise_comparisson(df=semeval_data.df, col_name=\"raw_text\",\n",
    "                           comp_fn=lambda str1, str2: fuzz.partial_ratio(str1, str2) > 90)"
   ],
   "metadata": {
    "collapsed": false
   }
  }
 ],
 "metadata": {
  "kernelspec": {
   "display_name": "Python 3",
   "language": "python",
   "name": "python3"
  },
  "language_info": {
   "codemirror_mode": {
    "name": "ipython",
    "version": 2
   },
   "file_extension": ".py",
   "mimetype": "text/x-python",
   "name": "python",
   "nbconvert_exporter": "python",
   "pygments_lexer": "ipython2",
   "version": "2.7.6"
  }
 },
 "nbformat": 4,
 "nbformat_minor": 0
}
