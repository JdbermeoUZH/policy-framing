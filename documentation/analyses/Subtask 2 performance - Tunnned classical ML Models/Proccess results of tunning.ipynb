{
 "cells": [
  {
   "cell_type": "code",
   "execution_count": 1,
   "id": "ac7fd1c8-16ff-43f2-a049-a27d37ea2653",
   "metadata": {},
   "outputs": [],
   "source": [
    "import os\n",
    "import glob\n",
    "\n",
    "import mlflow\n",
    "from mlflow import log_metric, log_param, MlflowClient\n",
    "from mlflow.entities import ViewType\n",
    "from IPython.display import display, Markdown\n",
    "import pandas as pd"
   ]
  },
  {
   "cell_type": "markdown",
   "id": "2822592c-4f95-4f9d-9030-37f90b74c171",
   "metadata": {},
   "source": [
    "# Model Wide Metrics"
   ]
  },
  {
   "cell_type": "code",
   "execution_count": 2,
   "id": "21a72b67-3edc-4425-bbfc-abf177b7facc",
   "metadata": {},
   "outputs": [],
   "source": [
    "exp_ids = os.listdir('./mlruns')"
   ]
  },
  {
   "cell_type": "code",
   "execution_count": 3,
   "id": "eb12e8cb-3174-4d9f-b3b4-502cb437cb47",
   "metadata": {},
   "outputs": [
    {
     "data": {
      "text/plain": [
       "221"
      ]
     },
     "execution_count": 3,
     "metadata": {},
     "output_type": "execute_result"
    }
   ],
   "source": [
    "len(exp_ids)"
   ]
  },
  {
   "cell_type": "markdown",
   "id": "0e3de210-17ae-42af-a361-fff5a0f66735",
   "metadata": {},
   "source": [
    "## Group types of models (experiment type and model type) and pick best performing in terms of f1-score per unit of analysis\n",
    " \n",
    " * Create dictionary for experiment types and model types\n",
    " * Create to dataframes (for each of the previous groups) and pick the ones with max test_f1_score"
   ]
  },
  {
   "cell_type": "code",
   "execution_count": 4,
   "id": "fd704f0c-6f9a-47d2-b05b-150230e363d7",
   "metadata": {},
   "outputs": [],
   "source": [
    "df_filepaths = glob.glob('./*.csv')"
   ]
  },
  {
   "cell_type": "code",
   "execution_count": 5,
   "id": "052e0fec-9ad0-470c-9cd4-8d276e0b83e4",
   "metadata": {},
   "outputs": [],
   "source": [
    "#mw_df = pd.concat([pd.read_csv(df_filepath, index_col=['model_type', 'model_subtype', 'model_name', 'run_uuid', 'runName']) for df_filepath in df_filepaths])\n",
    "mw_df = pd.concat([pd.read_csv(df_filepath, index_col=['run_uuid', 'runName']) for df_filepath in df_filepaths])"
   ]
  },
  {
   "cell_type": "code",
   "execution_count": 6,
   "id": "0400d68b-3edd-4a2b-b782-218ce26c5c25",
   "metadata": {},
   "outputs": [],
   "source": [
    "mw_df.model_type = mw_df.model_type.str.strip('¶')"
   ]
  },
  {
   "cell_type": "code",
   "execution_count": 7,
   "id": "e97a4f9d-b3dd-4f68-9a56-ba53a2c34c71",
   "metadata": {},
   "outputs": [
    {
     "data": {
      "text/plain": [
       "(3400, 48)"
      ]
     },
     "execution_count": 7,
     "metadata": {},
     "output_type": "execute_result"
    }
   ],
   "source": [
    "mw_df.shape"
   ]
  },
  {
   "cell_type": "code",
   "execution_count": 8,
   "id": "aeafd295-0172-4bb5-9f7e-39e7fb009c90",
   "metadata": {},
   "outputs": [],
   "source": [
    "def get_best_models(df, grouping_criterion):\n",
    "    return df.reset_index().loc[df.reset_index().groupby(grouping_criterion)['test_f1_micro_mean'].idxmax().dropna()]\\\n",
    "        .set_index(grouping_criterion)"
   ]
  },
  {
   "cell_type": "markdown",
   "id": "6a452c68-3d2e-43a1-b820-a7688df2cd33",
   "metadata": {
    "tags": []
   },
   "source": [
    "### Generate the tables to report"
   ]
  },
  {
   "cell_type": "code",
   "execution_count": 9,
   "id": "9c97b164-c359-40ea-b974-a0dc65c1db60",
   "metadata": {},
   "outputs": [],
   "source": [
    "def display_performance_table(df, metric, index_cols=['model_type'], display_=True):\n",
    "    report_table = df.reset_index().copy()\n",
    "    report_table['result'] = report_table[f'test_{metric}_mean'].map(lambda x: f'{x:.2f}') + \\\n",
    "    ' $\\pm$ ' + report_table[f'test_{metric}_std'].map(lambda x: f'{x:.2f}')\n",
    "    report_table['col_title'] = report_table.unit_of_analysis.str.split('_').str.join(' ') \n",
    "    report_table['col_title'] = pd.Categorical(\n",
    "        report_table.col_title,\n",
    "        categories=['title', 'title and first paragraph', 'title and 5 sentences', 'title and 10 sentences',\n",
    "                    'title and first sentence each paragraph', 'raw text'],\n",
    "        ordered=True)\n",
    "    report_table = report_table[index_cols + ['col_title', 'result']]\\\n",
    "        .pivot_table(index=index_cols, columns=['col_title'], values=['result'], aggfunc='first', fill_value=0)\\\n",
    "        .droplevel(0, axis=1)\n",
    "\n",
    "    report_table.columns.names = [None]\n",
    "\n",
    "    # Highlight best scoring models according to their average\n",
    "    mean_perf_arr = report_table.applymap(lambda x: float(str(x).split(' ')[0])).to_numpy()\n",
    "    highlight_mask = mean_perf_arr == mean_perf_arr.max()\n",
    "    report_table_arr = report_table.to_numpy()  # Note it passes the array by reference\n",
    "    report_table_arr[highlight_mask] = '**' + report_table_arr[highlight_mask] + '**'\n",
    "\n",
    "    if display_:\n",
    "        display(Markdown(report_table.to_markdown()))\n",
    "    \n",
    "    return report_table"
   ]
  },
  {
   "cell_type": "markdown",
   "id": "6f14e8da-1acf-4114-9cfd-eeaa97261f68",
   "metadata": {},
   "source": [
    "### Generate tables for all languages"
   ]
  },
  {
   "cell_type": "code",
   "execution_count": 10,
   "id": "bea51df3-87ed-4ace-ad56-25d235b5cd65",
   "metadata": {},
   "outputs": [],
   "source": [
    "metrics_to_report = ['f1_micro', 'recall_micro', 'precision_micro', 'accuracy'] "
   ]
  },
  {
   "cell_type": "code",
   "execution_count": 11,
   "id": "1650fa17-5ccc-439a-9818-d61bf369ca1a",
   "metadata": {},
   "outputs": [],
   "source": [
    "language_dict = {'en': 'English', 'it': 'Italian', 'fr': 'French', 'po': 'Polish', 'ru': 'Russian', 'ge': 'German'}"
   ]
  },
  {
   "cell_type": "code",
   "execution_count": 12,
   "id": "143ecba4-ffb9-45e9-869c-87d16caea017",
   "metadata": {
    "tags": []
   },
   "outputs": [],
   "source": [
    "def display_metrics_and_write_to_file(df, grouping_criterion, output_dir):\n",
    "    os.makedirs(output_dir, exist_ok=True)\n",
    "\n",
    "    for language, results_df in df.groupby('language'):\n",
    "        best_models_df = get_best_models(results_df, grouping_criterion + ['unit_of_analysis'])\n",
    "\n",
    "        display(Markdown(f'# {language_dict[language]}'))\n",
    "        \n",
    "        for metric in metrics_to_report:\n",
    "            \n",
    "            os.makedirs(os.path.join(output_dir, metric), exist_ok=True)\n",
    "\n",
    "            output_dir_markdown = os.path.join(output_dir, metric, 'markdown')\n",
    "            output_dir_latex = os.path.join(output_dir, metric, 'latex')\n",
    "\n",
    "            os.makedirs(output_dir_markdown, exist_ok=True)\n",
    "            os.makedirs(output_dir_latex, exist_ok=True)\n",
    "\n",
    "            display(Markdown(f'## {metric}'))\n",
    "\n",
    "            report_table = display_performance_table(df=best_models_df, index_cols=grouping_criterion, metric=metric, display_=True)\n",
    "\n",
    "            markdown_file = open(os.path.join(output_dir_markdown, f\"{language_dict[language]}.md\"), \"w\")\n",
    "            report_table.to_markdown(markdown_file)\n",
    "            markdown_file.close()\n",
    "\n",
    "            latex_file = open(os.path.join(output_dir_latex, f\"{language_dict[language]}_{metric}.tex\"), \"w\")\n",
    "            report_table.to_latex(latex_file)\n",
    "            latex_file.close()\n",
    "        "
   ]
  },
  {
   "cell_type": "markdown",
   "id": "2f01d754-49ba-4c74-8220-2e144f624044",
   "metadata": {},
   "source": [
    "# Per model type"
   ]
  },
  {
   "cell_type": "code",
   "execution_count": 13,
   "id": "e5abb824-f93a-44fd-8203-a0b84224b0fa",
   "metadata": {
    "tags": []
   },
   "outputs": [
    {
     "data": {
      "text/markdown": [
       "# Russian"
      ],
      "text/plain": [
       "<IPython.core.display.Markdown object>"
      ]
     },
     "metadata": {},
     "output_type": "display_data"
    },
    {
     "data": {
      "text/markdown": [
       "## f1_micro"
      ],
      "text/plain": [
       "<IPython.core.display.Markdown object>"
      ]
     },
     "metadata": {},
     "output_type": "display_data"
    },
    {
     "data": {
      "text/markdown": [
       "| model_type                      | title           | title and first paragraph   | title and 5 sentences   | title and 10 sentences   | title and first sentence each paragraph   | raw text            |\n",
       "|:--------------------------------|:----------------|:----------------------------|:------------------------|:-------------------------|:------------------------------------------|:--------------------|\n",
       "| Binary Relevance kNN            | 0.23 $\\pm$ 0.02 | 0.24 $\\pm$ 0.01             | 0.32 $\\pm$ 0.01         | 0.33 $\\pm$ 0.04          | 0.33 $\\pm$ 0.01                           | 0.33 $\\pm$ 0.04     |\n",
       "| ComplementNB                    | 0.36 $\\pm$ 0.03 | 0.41 $\\pm$ 0.02             | 0.43 $\\pm$ 0.01         | 0.49 $\\pm$ 0.03          | 0.48 $\\pm$ 0.02                           | 0.51 $\\pm$ 0.01     |\n",
       "| KNN                             | 0.36 $\\pm$ 0.02 | 0.37 $\\pm$ 0.01             | 0.40 $\\pm$ 0.02         | 0.43 $\\pm$ 0.01          | 0.44 $\\pm$ 0.01                           | 0.46 $\\pm$ 0.01     |\n",
       "| LinearSVM                       | 0.37 $\\pm$ 0.00 | 0.41 $\\pm$ 0.01             | 0.44 $\\pm$ 0.01         | 0.46 $\\pm$ 0.03          | 0.46 $\\pm$ 0.01                           | 0.50 $\\pm$ 0.02     |\n",
       "| LogisticRegression              | 0.31 $\\pm$ 0.02 | 0.37 $\\pm$ 0.01             | 0.36 $\\pm$ 0.02         | 0.42 $\\pm$ 0.01          | 0.41 $\\pm$ 0.02                           | 0.45 $\\pm$ 0.02     |\n",
       "| LogisticRegressionElasticNet    | 0.33 $\\pm$ 0.02 | 0.38 $\\pm$ 0.02             | 0.40 $\\pm$ 0.05         | 0.44 $\\pm$ 0.01          | 0.44 $\\pm$ 0.02                           | 0.49 $\\pm$ 0.01     |\n",
       "| LogisticRegressionLasso         | 0.34 $\\pm$ 0.01 | 0.34 $\\pm$ 0.02             | 0.40 $\\pm$ 0.01         | 0.44 $\\pm$ 0.01          | 0.44 $\\pm$ 0.02                           | 0.49 $\\pm$ 0.02     |\n",
       "| LogisticRegressionRidge         | 0.37 $\\pm$ 0.01 | 0.43 $\\pm$ 0.02             | 0.45 $\\pm$ 0.02         | 0.49 $\\pm$ 0.02          | 0.50 $\\pm$ 0.00                           | 0.51 $\\pm$ 0.01     |\n",
       "| Multi-label ARAM                | 0.15 $\\pm$ 0.01 | 0.18 $\\pm$ 0.09             | 0.18 $\\pm$ 0.08         | 0.24 $\\pm$ 0.09          | 0.22 $\\pm$ 0.03                           | 0.26 $\\pm$ 0.04     |\n",
       "| Multilabel k Nearest Neighbours | 0.31 $\\pm$ 0.02 | 0.34 $\\pm$ 0.02             | 0.37 $\\pm$ 0.03         | 0.38 $\\pm$ 0.04          | 0.37 $\\pm$ 0.03                           | 0.40 $\\pm$ 0.03     |\n",
       "| NaiveBayes                      | 0.37 $\\pm$ 0.01 | 0.43 $\\pm$ 0.03             | 0.45 $\\pm$ 0.01         | 0.49 $\\pm$ 0.01          | 0.50 $\\pm$ 0.01                           | 0.52 $\\pm$ 0.01     |\n",
       "| RandomForest                    | 0.27 $\\pm$ 0.02 | 0.31 $\\pm$ 0.02             | 0.35 $\\pm$ 0.03         | 0.40 $\\pm$ 0.01          | 0.37 $\\pm$ 0.04                           | 0.44 $\\pm$ 0.03     |\n",
       "| RidgeClassifier                 | 0.32 $\\pm$ 0.01 | 0.33 $\\pm$ 0.03             | 0.35 $\\pm$ 0.01         | 0.44 $\\pm$ 0.02          | 0.44 $\\pm$ 0.01                           | 0.47 $\\pm$ 0.02     |\n",
       "| SVM                             | 0.35 $\\pm$ 0.01 | 0.40 $\\pm$ 0.01             | 0.44 $\\pm$ 0.03         | 0.48 $\\pm$ 0.02          | 0.48 $\\pm$ 0.03                           | **0.53 $\\pm$ 0.04** |\n",
       "| XGBoost                         | 0.36 $\\pm$ 0.02 | 0.36 $\\pm$ 0.03             | 0.38 $\\pm$ 0.02         | 0.43 $\\pm$ 0.00          | 0.42 $\\pm$ 0.03                           | 0.48 $\\pm$ 0.01     |"
      ],
      "text/plain": [
       "<IPython.core.display.Markdown object>"
      ]
     },
     "metadata": {},
     "output_type": "display_data"
    },
    {
     "name": "stderr",
     "output_type": "stream",
     "text": [
      "/tmp/ipykernel_22869/1180708904.py:28: FutureWarning: In future versions `DataFrame.to_latex` is expected to utilise the base implementation of `Styler.to_latex` for formatting and rendering. The arguments signature may therefore change. It is recommended instead to use `DataFrame.style.to_latex` which also contains additional functionality.\n",
      "  report_table.to_latex(latex_file)\n"
     ]
    },
    {
     "data": {
      "text/markdown": [
       "## recall_micro"
      ],
      "text/plain": [
       "<IPython.core.display.Markdown object>"
      ]
     },
     "metadata": {},
     "output_type": "display_data"
    },
    {
     "data": {
      "text/markdown": [
       "| model_type                      | title               | title and first paragraph   | title and 5 sentences   | title and 10 sentences   | title and first sentence each paragraph   | raw text        |\n",
       "|:--------------------------------|:--------------------|:----------------------------|:------------------------|:-------------------------|:------------------------------------------|:----------------|\n",
       "| Binary Relevance kNN            | 0.19 $\\pm$ 0.02     | 0.23 $\\pm$ 0.02             | 0.31 $\\pm$ 0.01         | 0.29 $\\pm$ 0.04          | 0.30 $\\pm$ 0.01                           | 0.31 $\\pm$ 0.02 |\n",
       "| ComplementNB                    | 0.65 $\\pm$ 0.11     | 0.56 $\\pm$ 0.03             | 0.60 $\\pm$ 0.08         | 0.57 $\\pm$ 0.04          | 0.56 $\\pm$ 0.04                           | 0.61 $\\pm$ 0.05 |\n",
       "| KNN                             | **0.74 $\\pm$ 0.20** | 0.63 $\\pm$ 0.06             | 0.58 $\\pm$ 0.04         | 0.67 $\\pm$ 0.03          | 0.67 $\\pm$ 0.01                           | 0.60 $\\pm$ 0.05 |\n",
       "| LinearSVM                       | 0.49 $\\pm$ 0.01     | 0.66 $\\pm$ 0.06             | 0.55 $\\pm$ 0.07         | 0.60 $\\pm$ 0.06          | 0.67 $\\pm$ 0.03                           | 0.58 $\\pm$ 0.01 |\n",
       "| LogisticRegression              | 0.34 $\\pm$ 0.03     | 0.40 $\\pm$ 0.04             | 0.34 $\\pm$ 0.03         | 0.44 $\\pm$ 0.03          | 0.46 $\\pm$ 0.03                           | 0.49 $\\pm$ 0.02 |\n",
       "| LogisticRegressionElasticNet    | 0.37 $\\pm$ 0.03     | 0.43 $\\pm$ 0.03             | 0.45 $\\pm$ 0.08         | 0.55 $\\pm$ 0.06          | 0.47 $\\pm$ 0.03                           | 0.60 $\\pm$ 0.04 |\n",
       "| LogisticRegressionLasso         | 0.38 $\\pm$ 0.01     | 0.30 $\\pm$ 0.02             | 0.42 $\\pm$ 0.03         | 0.56 $\\pm$ 0.01          | 0.52 $\\pm$ 0.03                           | 0.63 $\\pm$ 0.05 |\n",
       "| LogisticRegressionRidge         | 0.54 $\\pm$ 0.04     | 0.69 $\\pm$ 0.04             | 0.68 $\\pm$ 0.05         | 0.63 $\\pm$ 0.04          | 0.58 $\\pm$ 0.05                           | 0.55 $\\pm$ 0.02 |\n",
       "| Multi-label ARAM                | 0.34 $\\pm$ 0.06     | 0.43 $\\pm$ 0.23             | 0.39 $\\pm$ 0.20         | 0.54 $\\pm$ 0.20          | 0.47 $\\pm$ 0.10                           | 0.38 $\\pm$ 0.06 |\n",
       "| Multilabel k Nearest Neighbours | 0.33 $\\pm$ 0.03     | 0.34 $\\pm$ 0.02             | 0.38 $\\pm$ 0.04         | 0.34 $\\pm$ 0.04          | 0.39 $\\pm$ 0.03                           | 0.35 $\\pm$ 0.03 |\n",
       "| NaiveBayes                      | 0.67 $\\pm$ 0.09     | 0.57 $\\pm$ 0.04             | 0.52 $\\pm$ 0.03         | 0.58 $\\pm$ 0.05          | 0.59 $\\pm$ 0.03                           | 0.58 $\\pm$ 0.03 |\n",
       "| RandomForest                    | 0.49 $\\pm$ 0.05     | 0.43 $\\pm$ 0.02             | 0.44 $\\pm$ 0.04         | 0.40 $\\pm$ 0.06          | 0.38 $\\pm$ 0.05                           | 0.43 $\\pm$ 0.05 |\n",
       "| RidgeClassifier                 | 0.54 $\\pm$ 0.01     | 0.29 $\\pm$ 0.04             | 0.28 $\\pm$ 0.01         | 0.41 $\\pm$ 0.02          | 0.44 $\\pm$ 0.01                           | 0.45 $\\pm$ 0.03 |\n",
       "| SVM                             | 0.46 $\\pm$ 0.06     | 0.46 $\\pm$ 0.06             | 0.47 $\\pm$ 0.05         | 0.59 $\\pm$ 0.02          | 0.59 $\\pm$ 0.04                           | 0.62 $\\pm$ 0.05 |\n",
       "| XGBoost                         | 0.57 $\\pm$ 0.10     | 0.57 $\\pm$ 0.01             | 0.50 $\\pm$ 0.01         | 0.51 $\\pm$ 0.03          | 0.54 $\\pm$ 0.01                           | 0.56 $\\pm$ 0.03 |"
      ],
      "text/plain": [
       "<IPython.core.display.Markdown object>"
      ]
     },
     "metadata": {},
     "output_type": "display_data"
    },
    {
     "name": "stderr",
     "output_type": "stream",
     "text": [
      "/tmp/ipykernel_22869/1180708904.py:28: FutureWarning: In future versions `DataFrame.to_latex` is expected to utilise the base implementation of `Styler.to_latex` for formatting and rendering. The arguments signature may therefore change. It is recommended instead to use `DataFrame.style.to_latex` which also contains additional functionality.\n",
      "  report_table.to_latex(latex_file)\n"
     ]
    },
    {
     "data": {
      "text/markdown": [
       "## precision_micro"
      ],
      "text/plain": [
       "<IPython.core.display.Markdown object>"
      ]
     },
     "metadata": {},
     "output_type": "display_data"
    },
    {
     "data": {
      "text/markdown": [
       "| model_type                      | title           | title and first paragraph   | title and 5 sentences   | title and 10 sentences   | title and first sentence each paragraph   | raw text            |\n",
       "|:--------------------------------|:----------------|:----------------------------|:------------------------|:-------------------------|:------------------------------------------|:--------------------|\n",
       "| Binary Relevance kNN            | 0.34 $\\pm$ 0.02 | 0.34 $\\pm$ 0.04             | 0.39 $\\pm$ 0.01         | 0.46 $\\pm$ 0.06          | 0.43 $\\pm$ 0.03                           | 0.42 $\\pm$ 0.08     |\n",
       "| ComplementNB                    | 0.27 $\\pm$ 0.02 | 0.34 $\\pm$ 0.03             | 0.36 $\\pm$ 0.04         | 0.46 $\\pm$ 0.08          | 0.43 $\\pm$ 0.03                           | 0.45 $\\pm$ 0.01     |\n",
       "| KNN                             | 0.27 $\\pm$ 0.04 | 0.28 $\\pm$ 0.02             | 0.32 $\\pm$ 0.02         | 0.33 $\\pm$ 0.02          | 0.35 $\\pm$ 0.02                           | 0.39 $\\pm$ 0.02     |\n",
       "| LinearSVM                       | 0.32 $\\pm$ 0.00 | 0.31 $\\pm$ 0.02             | 0.38 $\\pm$ 0.03         | 0.40 $\\pm$ 0.06          | 0.37 $\\pm$ 0.02                           | 0.45 $\\pm$ 0.04     |\n",
       "| LogisticRegression              | 0.31 $\\pm$ 0.02 | 0.37 $\\pm$ 0.02             | 0.41 $\\pm$ 0.02         | 0.43 $\\pm$ 0.02          | 0.38 $\\pm$ 0.01                           | 0.42 $\\pm$ 0.02     |\n",
       "| LogisticRegressionElasticNet    | 0.30 $\\pm$ 0.02 | 0.36 $\\pm$ 0.01             | 0.38 $\\pm$ 0.03         | 0.37 $\\pm$ 0.04          | 0.42 $\\pm$ 0.01                           | 0.44 $\\pm$ 0.00     |\n",
       "| LogisticRegressionLasso         | 0.33 $\\pm$ 0.02 | 0.40 $\\pm$ 0.06             | 0.42 $\\pm$ 0.02         | 0.39 $\\pm$ 0.02          | 0.39 $\\pm$ 0.03                           | 0.42 $\\pm$ 0.01     |\n",
       "| LogisticRegressionRidge         | 0.29 $\\pm$ 0.00 | 0.33 $\\pm$ 0.02             | 0.35 $\\pm$ 0.03         | 0.41 $\\pm$ 0.03          | 0.46 $\\pm$ 0.03                           | 0.50 $\\pm$ 0.03     |\n",
       "| Multi-label ARAM                | 0.09 $\\pm$ 0.01 | 0.12 $\\pm$ 0.06             | 0.12 $\\pm$ 0.05         | 0.16 $\\pm$ 0.06          | 0.16 $\\pm$ 0.03                           | 0.23 $\\pm$ 0.04     |\n",
       "| Multilabel k Nearest Neighbours | 0.30 $\\pm$ 0.02 | 0.37 $\\pm$ 0.02             | 0.39 $\\pm$ 0.03         | 0.49 $\\pm$ 0.01          | 0.39 $\\pm$ 0.07                           | **0.56 $\\pm$ 0.05** |\n",
       "| NaiveBayes                      | 0.28 $\\pm$ 0.01 | 0.36 $\\pm$ 0.03             | 0.41 $\\pm$ 0.01         | 0.44 $\\pm$ 0.04          | 0.45 $\\pm$ 0.01                           | 0.48 $\\pm$ 0.01     |\n",
       "| RandomForest                    | 0.24 $\\pm$ 0.02 | 0.26 $\\pm$ 0.01             | 0.31 $\\pm$ 0.02         | 0.45 $\\pm$ 0.09          | 0.38 $\\pm$ 0.03                           | 0.47 $\\pm$ 0.02     |\n",
       "| RidgeClassifier                 | 0.26 $\\pm$ 0.01 | 0.44 $\\pm$ 0.01             | 0.54 $\\pm$ 0.02         | 0.50 $\\pm$ 0.03          | 0.46 $\\pm$ 0.01                           | 0.52 $\\pm$ 0.03     |\n",
       "| SVM                             | 0.30 $\\pm$ 0.01 | 0.39 $\\pm$ 0.06             | 0.45 $\\pm$ 0.01         | 0.44 $\\pm$ 0.04          | 0.45 $\\pm$ 0.06                           | 0.50 $\\pm$ 0.05     |\n",
       "| XGBoost                         | 0.27 $\\pm$ 0.01 | 0.28 $\\pm$ 0.03             | 0.32 $\\pm$ 0.03         | 0.40 $\\pm$ 0.01          | 0.37 $\\pm$ 0.03                           | 0.45 $\\pm$ 0.04     |"
      ],
      "text/plain": [
       "<IPython.core.display.Markdown object>"
      ]
     },
     "metadata": {},
     "output_type": "display_data"
    },
    {
     "name": "stderr",
     "output_type": "stream",
     "text": [
      "/tmp/ipykernel_22869/1180708904.py:28: FutureWarning: In future versions `DataFrame.to_latex` is expected to utilise the base implementation of `Styler.to_latex` for formatting and rendering. The arguments signature may therefore change. It is recommended instead to use `DataFrame.style.to_latex` which also contains additional functionality.\n",
      "  report_table.to_latex(latex_file)\n"
     ]
    },
    {
     "data": {
      "text/markdown": [
       "## accuracy"
      ],
      "text/plain": [
       "<IPython.core.display.Markdown object>"
      ]
     },
     "metadata": {},
     "output_type": "display_data"
    },
    {
     "data": {
      "text/markdown": [
       "| model_type                      | title           | title and first paragraph   | title and 5 sentences   | title and 10 sentences   | title and first sentence each paragraph   | raw text            |\n",
       "|:--------------------------------|:----------------|:----------------------------|:------------------------|:-------------------------|:------------------------------------------|:--------------------|\n",
       "| Binary Relevance kNN            | 0.05 $\\pm$ 0.01 | 0.07 $\\pm$ 0.03             | 0.05 $\\pm$ 0.02         | 0.10 $\\pm$ 0.03          | 0.05 $\\pm$ 0.03                           | 0.06 $\\pm$ 0.05     |\n",
       "| ComplementNB                    | 0.01 $\\pm$ 0.01 | 0.02 $\\pm$ 0.02             | 0.04 $\\pm$ 0.02         | 0.05 $\\pm$ 0.02          | 0.06 $\\pm$ 0.05                           | 0.06 $\\pm$ 0.01     |\n",
       "| KNN                             | 0.01 $\\pm$ 0.02 | 0.00 $\\pm$ 0.00             | 0.00 $\\pm$ 0.00         | 0.02 $\\pm$ 0.00          | 0.01 $\\pm$ 0.01                           | 0.04 $\\pm$ 0.02     |\n",
       "| LinearSVM                       | 0.00 $\\pm$ 0.00 | 0.01 $\\pm$ 0.01             | 0.02 $\\pm$ 0.01         | 0.02 $\\pm$ 0.02          | 0.02 $\\pm$ 0.01                           | 0.07 $\\pm$ 0.03     |\n",
       "| LogisticRegression              | 0.02 $\\pm$ 0.01 | 0.06 $\\pm$ 0.01             | 0.08 $\\pm$ 0.02         | 0.04 $\\pm$ 0.01          | 0.04 $\\pm$ 0.01                           | 0.04 $\\pm$ 0.02     |\n",
       "| LogisticRegressionElasticNet    | 0.01 $\\pm$ 0.02 | 0.03 $\\pm$ 0.01             | 0.04 $\\pm$ 0.01         | 0.02 $\\pm$ 0.02          | 0.03 $\\pm$ 0.00                           | 0.03 $\\pm$ 0.01     |\n",
       "| LogisticRegressionLasso         | 0.02 $\\pm$ 0.02 | 0.04 $\\pm$ 0.04             | 0.03 $\\pm$ 0.01         | 0.03 $\\pm$ 0.01          | 0.05 $\\pm$ 0.01                           | 0.02 $\\pm$ 0.01     |\n",
       "| LogisticRegressionRidge         | 0.00 $\\pm$ 0.00 | 0.00 $\\pm$ 0.00             | 0.01 $\\pm$ 0.01         | 0.02 $\\pm$ 0.01          | 0.08 $\\pm$ 0.02                           | 0.11 $\\pm$ 0.02     |\n",
       "| Multi-label ARAM                | 0.01 $\\pm$ 0.01 | 0.02 $\\pm$ 0.02             | 0.03 $\\pm$ 0.04         | 0.02 $\\pm$ 0.03          | 0.00 $\\pm$ 0.00                           | 0.01 $\\pm$ 0.01     |\n",
       "| Multilabel k Nearest Neighbours | 0.02 $\\pm$ 0.01 | 0.05 $\\pm$ 0.01             | 0.05 $\\pm$ 0.01         | 0.10 $\\pm$ 0.01          | 0.09 $\\pm$ 0.04                           | 0.10 $\\pm$ 0.04     |\n",
       "| NaiveBayes                      | 0.00 $\\pm$ 0.00 | 0.02 $\\pm$ 0.00             | 0.04 $\\pm$ 0.01         | 0.04 $\\pm$ 0.01          | 0.05 $\\pm$ 0.00                           | 0.07 $\\pm$ 0.02     |\n",
       "| RandomForest                    | 0.00 $\\pm$ 0.00 | 0.00 $\\pm$ 0.00             | 0.01 $\\pm$ 0.02         | 0.06 $\\pm$ 0.03          | 0.04 $\\pm$ 0.02                           | 0.09 $\\pm$ 0.01     |\n",
       "| RidgeClassifier                 | 0.01 $\\pm$ 0.01 | 0.06 $\\pm$ 0.01             | 0.09 $\\pm$ 0.02         | 0.06 $\\pm$ 0.01          | 0.07 $\\pm$ 0.01                           | 0.09 $\\pm$ 0.01     |\n",
       "| SVM                             | 0.01 $\\pm$ 0.01 | 0.02 $\\pm$ 0.02             | 0.04 $\\pm$ 0.02         | 0.03 $\\pm$ 0.03          | 0.03 $\\pm$ 0.03                           | 0.03 $\\pm$ 0.02     |\n",
       "| XGBoost                         | 0.00 $\\pm$ 0.00 | 0.01 $\\pm$ 0.01             | 0.03 $\\pm$ 0.01         | 0.05 $\\pm$ 0.02          | 0.05 $\\pm$ 0.02                           | **0.12 $\\pm$ 0.01** |"
      ],
      "text/plain": [
       "<IPython.core.display.Markdown object>"
      ]
     },
     "metadata": {},
     "output_type": "display_data"
    },
    {
     "name": "stderr",
     "output_type": "stream",
     "text": [
      "/tmp/ipykernel_22869/1180708904.py:28: FutureWarning: In future versions `DataFrame.to_latex` is expected to utilise the base implementation of `Styler.to_latex` for formatting and rendering. The arguments signature may therefore change. It is recommended instead to use `DataFrame.style.to_latex` which also contains additional functionality.\n",
      "  report_table.to_latex(latex_file)\n"
     ]
    }
   ],
   "source": [
    "display_metrics_and_write_to_file(df=mw_df, grouping_criterion=['model_type'], output_dir='per_model_type_tables')"
   ]
  },
  {
   "cell_type": "markdown",
   "id": "640b2258-e83b-498f-9807-3c12e08afa53",
   "metadata": {},
   "source": [
    "# Per model sub-type"
   ]
  },
  {
   "cell_type": "code",
   "execution_count": null,
   "id": "39998e4e-3ee4-4186-98c4-f6dfa2af373d",
   "metadata": {
    "tags": []
   },
   "outputs": [
    {
     "data": {
      "text/markdown": [
       "# Russian"
      ],
      "text/plain": [
       "<IPython.core.display.Markdown object>"
      ]
     },
     "metadata": {},
     "output_type": "display_data"
    },
    {
     "data": {
      "text/markdown": [
       "## f1_micro"
      ],
      "text/plain": [
       "<IPython.core.display.Markdown object>"
      ]
     },
     "metadata": {},
     "output_type": "display_data"
    },
    {
     "data": {
      "text/markdown": [
       "|                                                              | title           | title and first paragraph   | title and 5 sentences   | title and 10 sentences   | title and first sentence each paragraph   | raw text            |\n",
       "|:-------------------------------------------------------------|:----------------|:----------------------------|:------------------------|:-------------------------|:------------------------------------------|:--------------------|\n",
       "| ('Binary Relevance kNN', 'Natively Multilabel')              | 0.23 $\\pm$ 0.02 | 0.24 $\\pm$ 0.01             | 0.32 $\\pm$ 0.01         | 0.33 $\\pm$ 0.04          | 0.33 $\\pm$ 0.01                           | 0.33 $\\pm$ 0.04     |\n",
       "| ('ComplementNB', 'RakelD Partitioning of labels')            | 0.36 $\\pm$ 0.03 | 0.41 $\\pm$ 0.02             | 0.43 $\\pm$ 0.01         | 0.49 $\\pm$ 0.03          | 0.48 $\\pm$ 0.02                           | 0.51 $\\pm$ 0.01     |\n",
       "| ('KNN', 'BorderlineSMOTE')                                   | 0.35 $\\pm$ 0.00 | 0.37 $\\pm$ 0.01             | 0.40 $\\pm$ 0.01         | 0.43 $\\pm$ 0.01          | 0.43 $\\pm$ 0.01                           | 0.45 $\\pm$ 0.02     |\n",
       "| ('KNN', 'No Upsampling')                                     | 0.30 $\\pm$ 0.03 | 0.30 $\\pm$ 0.03             | 0.37 $\\pm$ 0.01         | 0.36 $\\pm$ 0.02          | 0.38 $\\pm$ 0.04                           | 0.42 $\\pm$ 0.02     |\n",
       "| ('KNN', 'Random Oversampling')                               | 0.36 $\\pm$ 0.01 | 0.36 $\\pm$ 0.01             | 0.40 $\\pm$ 0.01         | 0.43 $\\pm$ 0.01          | 0.44 $\\pm$ 0.02                           | 0.45 $\\pm$ 0.01     |\n",
       "| ('KNN', 'SMOTE')                                             | 0.36 $\\pm$ 0.02 | 0.35 $\\pm$ 0.01             | 0.40 $\\pm$ 0.02         | 0.43 $\\pm$ 0.01          | 0.44 $\\pm$ 0.01                           | 0.44 $\\pm$ 0.01     |\n",
       "| ('KNN', 'SVMSMOTE')                                          | 0.35 $\\pm$ 0.01 | 0.28 $\\pm$ 0.12             | 0.39 $\\pm$ 0.02         | 0.43 $\\pm$ 0.01          | 0.43 $\\pm$ 0.02                           | 0.46 $\\pm$ 0.01     |\n",
       "| ('LinearSVM', 'BorderlineSMOTE')                             | 0.37 $\\pm$ 0.00 | 0.39 $\\pm$ 0.01             | 0.44 $\\pm$ 0.01         | 0.46 $\\pm$ 0.02          | 0.46 $\\pm$ 0.01                           | 0.48 $\\pm$ 0.01     |\n",
       "| ('LinearSVM', 'No Upsampling')                               | 0.37 $\\pm$ 0.01 | 0.40 $\\pm$ 0.02             | 0.43 $\\pm$ 0.01         | 0.46 $\\pm$ 0.03          | 0.46 $\\pm$ 0.01                           | 0.49 $\\pm$ 0.03     |\n",
       "| ('LinearSVM', 'RakelD Partitioning of labels')               | 0.36 $\\pm$ 0.01 | 0.41 $\\pm$ 0.01             | 0.43 $\\pm$ 0.02         | 0.46 $\\pm$ 0.02          | 0.45 $\\pm$ 0.01                           | 0.50 $\\pm$ 0.02     |\n",
       "| ('LinearSVM', 'Random Oversampling')                         | 0.37 $\\pm$ 0.01 | 0.41 $\\pm$ 0.03             | 0.43 $\\pm$ 0.01         | 0.45 $\\pm$ 0.03          | 0.46 $\\pm$ 0.02                           | 0.49 $\\pm$ 0.01     |\n",
       "| ('LinearSVM', 'SMOTE')                                       | 0.36 $\\pm$ 0.01 | 0.39 $\\pm$ 0.01             | 0.44 $\\pm$ 0.01         | 0.46 $\\pm$ 0.01          | 0.45 $\\pm$ 0.01                           | 0.48 $\\pm$ 0.02     |\n",
       "| ('LogisticRegression', 'BorderlineSMOTE')                    | 0.30 $\\pm$ 0.00 | 0.37 $\\pm$ 0.01             | 0.36 $\\pm$ 0.02         | 0.42 $\\pm$ 0.01          | 0.41 $\\pm$ 0.02                           | 0.45 $\\pm$ 0.02     |\n",
       "| ('LogisticRegression', 'No Upsampling')                      | 0.31 $\\pm$ 0.02 | 0.33 $\\pm$ 0.02             | 0.31 $\\pm$ 0.04         | 0.40 $\\pm$ 0.01          | 0.40 $\\pm$ 0.02                           | 0.42 $\\pm$ 0.03     |\n",
       "| ('LogisticRegression', 'Random Oversampling')                | 0.31 $\\pm$ 0.01 | 0.33 $\\pm$ 0.02             | 0.32 $\\pm$ 0.03         | 0.40 $\\pm$ 0.02          | 0.39 $\\pm$ 0.02                           | 0.42 $\\pm$ 0.04     |\n",
       "| ('LogisticRegression', 'SMOTE')                              | 0.31 $\\pm$ 0.02 | 0.34 $\\pm$ 0.02             | 0.33 $\\pm$ 0.04         | 0.40 $\\pm$ 0.00          | 0.40 $\\pm$ 0.01                           | 0.43 $\\pm$ 0.04     |\n",
       "| ('LogisticRegression', 'SVMSMOTE')                           | 0.30 $\\pm$ 0.03 | 0.33 $\\pm$ 0.02             | 0.32 $\\pm$ 0.03         | 0.38 $\\pm$ 0.01          | 0.38 $\\pm$ 0.01                           | 0.41 $\\pm$ 0.03     |\n",
       "| ('LogisticRegressionElasticNet', 'BorderlineSMOTE')          | 0.33 $\\pm$ 0.02 | 0.38 $\\pm$ 0.02             | 0.40 $\\pm$ 0.05         | 0.43 $\\pm$ 0.02          | 0.44 $\\pm$ 0.02                           | 0.48 $\\pm$ 0.02     |\n",
       "| ('LogisticRegressionElasticNet', 'Random Oversampling')      | 0.32 $\\pm$ 0.04 | 0.35 $\\pm$ 0.03             | 0.40 $\\pm$ 0.04         | 0.43 $\\pm$ 0.01          | 0.43 $\\pm$ 0.04                           | 0.49 $\\pm$ 0.01     |\n",
       "| ('LogisticRegressionElasticNet', 'SMOTE')                    | 0.32 $\\pm$ 0.02 | 0.37 $\\pm$ 0.02             | 0.38 $\\pm$ 0.04         | 0.44 $\\pm$ 0.01          | 0.42 $\\pm$ 0.02                           | 0.48 $\\pm$ 0.01     |\n",
       "| ('LogisticRegressionElasticNet', 'SVMSMOTE')                 | 0.33 $\\pm$ 0.02 | 0.35 $\\pm$ 0.01             | 0.40 $\\pm$ 0.00         | 0.43 $\\pm$ 0.01          | 0.43 $\\pm$ 0.02                           | 0.48 $\\pm$ 0.02     |\n",
       "| ('LogisticRegressionLasso', 'BorderlineSMOTE')               | 0.34 $\\pm$ 0.03 | 0.32 $\\pm$ 0.02             | 0.39 $\\pm$ 0.03         | 0.44 $\\pm$ 0.01          | 0.42 $\\pm$ 0.01                           | 0.48 $\\pm$ 0.02     |\n",
       "| ('LogisticRegressionLasso', 'No Upsampling')                 | 0.33 $\\pm$ 0.02 | 0.33 $\\pm$ 0.02             | 0.40 $\\pm$ 0.01         | 0.44 $\\pm$ 0.00          | 0.44 $\\pm$ 0.02                           | 0.49 $\\pm$ 0.02     |\n",
       "| ('LogisticRegressionLasso', 'Random Oversampling')           | 0.32 $\\pm$ 0.03 | 0.33 $\\pm$ 0.03             | 0.39 $\\pm$ 0.02         | 0.43 $\\pm$ 0.01          | 0.42 $\\pm$ 0.02                           | 0.48 $\\pm$ 0.03     |\n",
       "| ('LogisticRegressionLasso', 'SMOTE')                         | 0.33 $\\pm$ 0.02 | 0.34 $\\pm$ 0.02             | 0.38 $\\pm$ 0.03         | 0.43 $\\pm$ 0.01          | 0.43 $\\pm$ 0.03                           | 0.47 $\\pm$ 0.03     |\n",
       "| ('LogisticRegressionLasso', 'SVMSMOTE')                      | 0.34 $\\pm$ 0.01 | 0.31 $\\pm$ 0.05             | 0.36 $\\pm$ 0.00         | 0.43 $\\pm$ 0.02          | 0.43 $\\pm$ 0.03                           | 0.49 $\\pm$ 0.02     |\n",
       "| ('LogisticRegressionRidge', 'BorderlineSMOTE')               | 0.37 $\\pm$ 0.01 | 0.40 $\\pm$ 0.02             | 0.42 $\\pm$ 0.00         | 0.46 $\\pm$ 0.02          | 0.46 $\\pm$ 0.03                           | 0.50 $\\pm$ 0.00     |\n",
       "| ('LogisticRegressionRidge', 'No Upsampling')                 | 0.36 $\\pm$ 0.01 | 0.40 $\\pm$ 0.02             | 0.43 $\\pm$ 0.01         | 0.46 $\\pm$ 0.02          | 0.46 $\\pm$ 0.02                           | 0.49 $\\pm$ 0.01     |\n",
       "| ('LogisticRegressionRidge', 'RakelD Partitioning of labels') | 0.37 $\\pm$ 0.01 | 0.43 $\\pm$ 0.02             | 0.45 $\\pm$ 0.02         | 0.49 $\\pm$ 0.02          | 0.50 $\\pm$ 0.00                           | 0.51 $\\pm$ 0.01     |\n",
       "| ('LogisticRegressionRidge', 'Random Oversampling')           | 0.37 $\\pm$ 0.02 | 0.39 $\\pm$ 0.01             | 0.42 $\\pm$ 0.01         | 0.46 $\\pm$ 0.02          | 0.45 $\\pm$ 0.01                           | 0.49 $\\pm$ 0.01     |\n",
       "| ('LogisticRegressionRidge', 'SMOTE')                         | 0.35 $\\pm$ 0.00 | 0.39 $\\pm$ 0.01             | 0.43 $\\pm$ 0.01         | 0.46 $\\pm$ 0.02          | 0.44 $\\pm$ 0.02                           | 0.47 $\\pm$ 0.02     |\n",
       "| ('LogisticRegressionRidge', 'SVMSMOTE')                      | 0.36 $\\pm$ 0.00 | 0.37 $\\pm$ 0.02             | 0.42 $\\pm$ 0.03         | 0.45 $\\pm$ 0.01          | 0.44 $\\pm$ 0.01                           | 0.46 $\\pm$ 0.01     |\n",
       "| ('Multi-label ARAM', 'Natively Multilabel')                  | 0.15 $\\pm$ 0.01 | 0.18 $\\pm$ 0.09             | 0.18 $\\pm$ 0.08         | 0.24 $\\pm$ 0.09          | 0.22 $\\pm$ 0.03                           | 0.26 $\\pm$ 0.04     |\n",
       "| ('Multilabel k Nearest Neighbours', 'Natively Multilabel')   | 0.31 $\\pm$ 0.02 | 0.34 $\\pm$ 0.02             | 0.37 $\\pm$ 0.03         | 0.38 $\\pm$ 0.04          | 0.37 $\\pm$ 0.03                           | 0.40 $\\pm$ 0.03     |\n",
       "| ('NaiveBayes', 'BorderlineSMOTE')                            | 0.37 $\\pm$ 0.01 | 0.43 $\\pm$ 0.01             | 0.45 $\\pm$ 0.01         | 0.49 $\\pm$ 0.01          | 0.49 $\\pm$ 0.01                           | 0.51 $\\pm$ 0.01     |\n",
       "| ('NaiveBayes', 'No Upsampling')                              | 0.37 $\\pm$ 0.02 | 0.41 $\\pm$ 0.01             | 0.44 $\\pm$ 0.01         | 0.49 $\\pm$ 0.01          | 0.48 $\\pm$ 0.02                           | 0.51 $\\pm$ 0.02     |\n",
       "| ('NaiveBayes', 'Random Oversampling')                        | 0.37 $\\pm$ 0.02 | 0.42 $\\pm$ 0.01             | 0.44 $\\pm$ 0.02         | 0.48 $\\pm$ 0.01          | 0.48 $\\pm$ 0.03                           | 0.51 $\\pm$ 0.01     |\n",
       "| ('NaiveBayes', 'SMOTE')                                      | 0.36 $\\pm$ 0.02 | 0.43 $\\pm$ 0.03             | 0.45 $\\pm$ 0.01         | 0.49 $\\pm$ 0.02          | 0.50 $\\pm$ 0.01                           | 0.52 $\\pm$ 0.01     |\n",
       "| ('NaiveBayes', 'SVMSMOTE')                                   | 0.37 $\\pm$ 0.01 | 0.42 $\\pm$ 0.01             | 0.45 $\\pm$ 0.02         | 0.49 $\\pm$ 0.01          | 0.48 $\\pm$ 0.02                           | 0.51 $\\pm$ 0.01     |\n",
       "| ('RandomForest', 'BorderlineSMOTE')                          | 0.26 $\\pm$ 0.02 | 0.31 $\\pm$ 0.02             | 0.35 $\\pm$ 0.03         | 0.39 $\\pm$ 0.02          | 0.36 $\\pm$ 0.04                           | 0.42 $\\pm$ 0.04     |\n",
       "| ('RandomForest', 'No Upsampling')                            | 0.27 $\\pm$ 0.02 | 0.29 $\\pm$ 0.02             | 0.35 $\\pm$ 0.00         | 0.38 $\\pm$ 0.03          | 0.37 $\\pm$ 0.03                           | 0.44 $\\pm$ 0.03     |\n",
       "| ('RandomForest', 'Random Oversampling')                      | 0.26 $\\pm$ 0.01 | 0.29 $\\pm$ 0.01             | 0.34 $\\pm$ 0.02         | 0.40 $\\pm$ 0.01          | 0.37 $\\pm$ 0.03                           | 0.42 $\\pm$ 0.06     |\n",
       "| ('RandomForest', 'SMOTE')                                    | 0.27 $\\pm$ 0.00 | 0.30 $\\pm$ 0.01             | 0.35 $\\pm$ 0.01         | 0.38 $\\pm$ 0.01          | 0.37 $\\pm$ 0.04                           | 0.42 $\\pm$ 0.02     |\n",
       "| ('RandomForest', 'SVMSMOTE')                                 | 0.26 $\\pm$ 0.01 | 0.28 $\\pm$ 0.03             | 0.35 $\\pm$ 0.02         | 0.37 $\\pm$ 0.01          | 0.36 $\\pm$ 0.03                           | 0.43 $\\pm$ 0.04     |\n",
       "| ('RidgeClassifier', 'BorderlineSMOTE')                       | 0.32 $\\pm$ 0.01 | 0.29 $\\pm$ 0.03             | 0.34 $\\pm$ 0.02         | 0.44 $\\pm$ 0.02          | 0.44 $\\pm$ 0.01                           | 0.47 $\\pm$ 0.00     |\n",
       "| ('RidgeClassifier', 'No Upsampling')                         | 0.31 $\\pm$ 0.00 | 0.29 $\\pm$ 0.04             | 0.35 $\\pm$ 0.01         | 0.43 $\\pm$ 0.01          | 0.44 $\\pm$ 0.01                           | 0.47 $\\pm$ 0.02     |\n",
       "| ('RidgeClassifier', 'Random Oversampling')                   | 0.32 $\\pm$ 0.01 | 0.33 $\\pm$ 0.03             | 0.34 $\\pm$ 0.02         | 0.43 $\\pm$ 0.01          | 0.41 $\\pm$ 0.03                           | 0.47 $\\pm$ 0.02     |\n",
       "| ('RidgeClassifier', 'SMOTE')                                 | 0.31 $\\pm$ 0.00 | 0.29 $\\pm$ 0.03             | 0.34 $\\pm$ 0.02         | 0.43 $\\pm$ 0.02          | 0.41 $\\pm$ 0.03                           | 0.47 $\\pm$ 0.02     |\n",
       "| ('RidgeClassifier', 'SVMSMOTE')                              | 0.31 $\\pm$ 0.01 | 0.29 $\\pm$ 0.02             | 0.32 $\\pm$ 0.02         | 0.41 $\\pm$ 0.01          | 0.42 $\\pm$ 0.02                           | 0.45 $\\pm$ 0.02     |\n",
       "| ('SVM', 'BorderlineSMOTE')                                   | 0.34 $\\pm$ 0.01 | 0.37 $\\pm$ 0.03             | 0.42 $\\pm$ 0.02         | 0.46 $\\pm$ 0.01          | 0.47 $\\pm$ 0.02                           | 0.50 $\\pm$ 0.01     |\n",
       "| ('SVM', 'No Upsampling')                                     | 0.35 $\\pm$ 0.01 | 0.36 $\\pm$ 0.02             | 0.43 $\\pm$ 0.02         | 0.47 $\\pm$ 0.01          | 0.48 $\\pm$ 0.01                           | **0.53 $\\pm$ 0.04** |\n",
       "| ('SVM', 'RakelD Partitioning of labels')                     | 0.34 $\\pm$ 0.02 | 0.40 $\\pm$ 0.01             | 0.39 $\\pm$ 0.03         | 0.45 $\\pm$ 0.03          | 0.45 $\\pm$ 0.00                           | 0.49 $\\pm$ 0.00     |\n",
       "| ('SVM', 'Random Oversampling')                               | 0.35 $\\pm$ 0.01 | 0.39 $\\pm$ 0.03             | 0.40 $\\pm$ 0.03         | 0.48 $\\pm$ 0.02          | 0.48 $\\pm$ 0.03                           | 0.50 $\\pm$ 0.02     |\n",
       "| ('SVM', 'SMOTE')                                             | 0.34 $\\pm$ 0.01 | 0.36 $\\pm$ 0.04             | 0.41 $\\pm$ 0.00         | 0.48 $\\pm$ 0.02          | 0.47 $\\pm$ 0.02                           | 0.50 $\\pm$ 0.01     |\n",
       "| ('SVM', 'SVMSMOTE')                                          | 0.34 $\\pm$ 0.01 | 0.36 $\\pm$ 0.00             | 0.44 $\\pm$ 0.03         | 0.44 $\\pm$ 0.03          | 0.47 $\\pm$ 0.02                           | 0.49 $\\pm$ 0.01     |\n",
       "| ('XGBoost', 'BorderlineSMOTE')                               | 0.36 $\\pm$ 0.04 | 0.35 $\\pm$ 0.02             | 0.38 $\\pm$ 0.02         | 0.41 $\\pm$ 0.04          | 0.39 $\\pm$ 0.04                           | 0.46 $\\pm$ 0.01     |\n",
       "| ('XGBoost', 'No Upsampling')                                 | 0.36 $\\pm$ 0.03 | 0.35 $\\pm$ 0.02             | 0.37 $\\pm$ 0.02         | 0.41 $\\pm$ 0.03          | 0.38 $\\pm$ 0.01                           | 0.45 $\\pm$ 0.00     |\n",
       "| ('XGBoost', 'Random Oversampling')                           | 0.35 $\\pm$ 0.04 | 0.36 $\\pm$ 0.03             | 0.38 $\\pm$ 0.02         | 0.43 $\\pm$ 0.00          | 0.42 $\\pm$ 0.03                           | 0.48 $\\pm$ 0.01     |\n",
       "| ('XGBoost', 'SMOTE')                                         | 0.35 $\\pm$ 0.03 | 0.35 $\\pm$ 0.01             | 0.38 $\\pm$ 0.03         | 0.42 $\\pm$ 0.04          | 0.41 $\\pm$ 0.03                           | 0.48 $\\pm$ 0.01     |\n",
       "| ('XGBoost', 'SVMSMOTE')                                      | 0.36 $\\pm$ 0.02 | 0.35 $\\pm$ 0.01             | 0.38 $\\pm$ 0.01         | 0.41 $\\pm$ 0.01          | 0.40 $\\pm$ 0.01                           | 0.48 $\\pm$ 0.01     |"
      ],
      "text/plain": [
       "<IPython.core.display.Markdown object>"
      ]
     },
     "metadata": {},
     "output_type": "display_data"
    },
    {
     "name": "stderr",
     "output_type": "stream",
     "text": [
      "/tmp/ipykernel_22869/1180708904.py:28: FutureWarning: In future versions `DataFrame.to_latex` is expected to utilise the base implementation of `Styler.to_latex` for formatting and rendering. The arguments signature may therefore change. It is recommended instead to use `DataFrame.style.to_latex` which also contains additional functionality.\n",
      "  report_table.to_latex(latex_file)\n"
     ]
    },
    {
     "data": {
      "text/markdown": [
       "## recall_micro"
      ],
      "text/plain": [
       "<IPython.core.display.Markdown object>"
      ]
     },
     "metadata": {},
     "output_type": "display_data"
    },
    {
     "data": {
      "text/markdown": [
       "|                                                              | title               | title and first paragraph   | title and 5 sentences   | title and 10 sentences   | title and first sentence each paragraph   | raw text        |\n",
       "|:-------------------------------------------------------------|:--------------------|:----------------------------|:------------------------|:-------------------------|:------------------------------------------|:----------------|\n",
       "| ('Binary Relevance kNN', 'Natively Multilabel')              | 0.19 $\\pm$ 0.02     | 0.23 $\\pm$ 0.02             | 0.31 $\\pm$ 0.01         | 0.29 $\\pm$ 0.04          | 0.30 $\\pm$ 0.01                           | 0.31 $\\pm$ 0.02 |\n",
       "| ('ComplementNB', 'RakelD Partitioning of labels')            | 0.65 $\\pm$ 0.11     | 0.56 $\\pm$ 0.03             | 0.60 $\\pm$ 0.08         | 0.57 $\\pm$ 0.04          | 0.56 $\\pm$ 0.04                           | 0.61 $\\pm$ 0.05 |\n",
       "| ('KNN', 'BorderlineSMOTE')                                   | 0.74 $\\pm$ 0.17     | 0.63 $\\pm$ 0.06             | 0.57 $\\pm$ 0.05         | 0.67 $\\pm$ 0.03          | 0.69 $\\pm$ 0.05                           | 0.72 $\\pm$ 0.05 |\n",
       "| ('KNN', 'No Upsampling')                                     | 0.28 $\\pm$ 0.05     | 0.31 $\\pm$ 0.08             | 0.31 $\\pm$ 0.02         | 0.31 $\\pm$ 0.02          | 0.41 $\\pm$ 0.04                           | 0.41 $\\pm$ 0.03 |\n",
       "| ('KNN', 'Random Oversampling')                               | 0.58 $\\pm$ 0.12     | 0.60 $\\pm$ 0.02             | 0.61 $\\pm$ 0.02         | 0.64 $\\pm$ 0.03          | 0.64 $\\pm$ 0.05                           | 0.73 $\\pm$ 0.05 |\n",
       "| ('KNN', 'SMOTE')                                             | 0.74 $\\pm$ 0.20     | 0.70 $\\pm$ 0.21             | 0.58 $\\pm$ 0.04         | 0.67 $\\pm$ 0.02          | 0.67 $\\pm$ 0.01                           | 0.68 $\\pm$ 0.03 |\n",
       "| ('KNN', 'SVMSMOTE')                                          | **0.96 $\\pm$ 0.01** | 0.31 $\\pm$ 0.16             | 0.45 $\\pm$ 0.03         | 0.54 $\\pm$ 0.02          | 0.55 $\\pm$ 0.05                           | 0.60 $\\pm$ 0.05 |\n",
       "| ('LinearSVM', 'BorderlineSMOTE')                             | 0.49 $\\pm$ 0.01     | 0.63 $\\pm$ 0.08             | 0.59 $\\pm$ 0.07         | 0.58 $\\pm$ 0.07          | 0.62 $\\pm$ 0.04                           | 0.61 $\\pm$ 0.08 |\n",
       "| ('LinearSVM', 'No Upsampling')                               | 0.50 $\\pm$ 0.02     | 0.68 $\\pm$ 0.03             | 0.62 $\\pm$ 0.02         | 0.60 $\\pm$ 0.06          | 0.67 $\\pm$ 0.03                           | 0.62 $\\pm$ 0.01 |\n",
       "| ('LinearSVM', 'RakelD Partitioning of labels')               | 0.48 $\\pm$ 0.03     | 0.66 $\\pm$ 0.06             | 0.58 $\\pm$ 0.04         | 0.64 $\\pm$ 0.07          | 0.59 $\\pm$ 0.11                           | 0.58 $\\pm$ 0.01 |\n",
       "| ('LinearSVM', 'Random Oversampling')                         | 0.50 $\\pm$ 0.02     | 0.67 $\\pm$ 0.03             | 0.58 $\\pm$ 0.02         | 0.63 $\\pm$ 0.08          | 0.57 $\\pm$ 0.03                           | 0.63 $\\pm$ 0.03 |\n",
       "| ('LinearSVM', 'SMOTE')                                       | 0.43 $\\pm$ 0.02     | 0.62 $\\pm$ 0.09             | 0.55 $\\pm$ 0.07         | 0.52 $\\pm$ 0.05          | 0.59 $\\pm$ 0.05                           | 0.60 $\\pm$ 0.03 |\n",
       "| ('LogisticRegression', 'BorderlineSMOTE')                    | 0.29 $\\pm$ 0.01     | 0.40 $\\pm$ 0.04             | 0.34 $\\pm$ 0.03         | 0.44 $\\pm$ 0.03          | 0.46 $\\pm$ 0.03                           | 0.49 $\\pm$ 0.02 |\n",
       "| ('LogisticRegression', 'No Upsampling')                      | 0.27 $\\pm$ 0.02     | 0.32 $\\pm$ 0.05             | 0.24 $\\pm$ 0.03         | 0.35 $\\pm$ 0.02          | 0.39 $\\pm$ 0.02                           | 0.40 $\\pm$ 0.03 |\n",
       "| ('LogisticRegression', 'Random Oversampling')                | 0.29 $\\pm$ 0.01     | 0.32 $\\pm$ 0.05             | 0.25 $\\pm$ 0.03         | 0.35 $\\pm$ 0.02          | 0.37 $\\pm$ 0.03                           | 0.41 $\\pm$ 0.04 |\n",
       "| ('LogisticRegression', 'SMOTE')                              | 0.34 $\\pm$ 0.03     | 0.33 $\\pm$ 0.04             | 0.26 $\\pm$ 0.04         | 0.36 $\\pm$ 0.01          | 0.38 $\\pm$ 0.01                           | 0.41 $\\pm$ 0.05 |\n",
       "| ('LogisticRegression', 'SVMSMOTE')                           | 0.29 $\\pm$ 0.03     | 0.31 $\\pm$ 0.04             | 0.26 $\\pm$ 0.03         | 0.35 $\\pm$ 0.02          | 0.38 $\\pm$ 0.01                           | 0.40 $\\pm$ 0.05 |\n",
       "| ('LogisticRegressionElasticNet', 'BorderlineSMOTE')          | 0.38 $\\pm$ 0.02     | 0.43 $\\pm$ 0.03             | 0.45 $\\pm$ 0.08         | 0.49 $\\pm$ 0.03          | 0.47 $\\pm$ 0.03                           | 0.50 $\\pm$ 0.04 |\n",
       "| ('LogisticRegressionElasticNet', 'Random Oversampling')      | 0.33 $\\pm$ 0.03     | 0.39 $\\pm$ 0.03             | 0.42 $\\pm$ 0.06         | 0.50 $\\pm$ 0.02          | 0.50 $\\pm$ 0.05                           | 0.60 $\\pm$ 0.04 |\n",
       "| ('LogisticRegressionElasticNet', 'SMOTE')                    | 0.36 $\\pm$ 0.02     | 0.42 $\\pm$ 0.04             | 0.40 $\\pm$ 0.08         | 0.55 $\\pm$ 0.06          | 0.45 $\\pm$ 0.02                           | 0.59 $\\pm$ 0.06 |\n",
       "| ('LogisticRegressionElasticNet', 'SVMSMOTE')                 | 0.37 $\\pm$ 0.03     | 0.35 $\\pm$ 0.01             | 0.42 $\\pm$ 0.02         | 0.52 $\\pm$ 0.04          | 0.51 $\\pm$ 0.03                           | 0.60 $\\pm$ 0.08 |\n",
       "| ('LogisticRegressionLasso', 'BorderlineSMOTE')               | 0.38 $\\pm$ 0.03     | 0.29 $\\pm$ 0.04             | 0.40 $\\pm$ 0.05         | 0.56 $\\pm$ 0.01          | 0.50 $\\pm$ 0.04                           | 0.60 $\\pm$ 0.03 |\n",
       "| ('LogisticRegressionLasso', 'No Upsampling')                 | 0.35 $\\pm$ 0.02     | 0.30 $\\pm$ 0.03             | 0.42 $\\pm$ 0.03         | 0.57 $\\pm$ 0.04          | 0.52 $\\pm$ 0.03                           | 0.63 $\\pm$ 0.05 |\n",
       "| ('LogisticRegressionLasso', 'Random Oversampling')           | 0.36 $\\pm$ 0.03     | 0.31 $\\pm$ 0.05             | 0.40 $\\pm$ 0.03         | 0.52 $\\pm$ 0.02          | 0.52 $\\pm$ 0.08                           | 0.61 $\\pm$ 0.05 |\n",
       "| ('LogisticRegressionLasso', 'SMOTE')                         | 0.36 $\\pm$ 0.01     | 0.30 $\\pm$ 0.02             | 0.37 $\\pm$ 0.04         | 0.50 $\\pm$ 0.04          | 0.51 $\\pm$ 0.05                           | 0.57 $\\pm$ 0.09 |\n",
       "| ('LogisticRegressionLasso', 'SVMSMOTE')                      | 0.38 $\\pm$ 0.01     | 0.30 $\\pm$ 0.07             | 0.34 $\\pm$ 0.01         | 0.49 $\\pm$ 0.05          | 0.50 $\\pm$ 0.06                           | 0.62 $\\pm$ 0.06 |\n",
       "| ('LogisticRegressionRidge', 'BorderlineSMOTE')               | 0.49 $\\pm$ 0.01     | 0.61 $\\pm$ 0.03             | 0.56 $\\pm$ 0.01         | 0.61 $\\pm$ 0.06          | 0.68 $\\pm$ 0.04                           | 0.57 $\\pm$ 0.03 |\n",
       "| ('LogisticRegressionRidge', 'No Upsampling')                 | 0.47 $\\pm$ 0.02     | 0.68 $\\pm$ 0.02             | 0.62 $\\pm$ 0.02         | 0.53 $\\pm$ 0.06          | 0.57 $\\pm$ 0.02                           | 0.57 $\\pm$ 0.03 |\n",
       "| ('LogisticRegressionRidge', 'RakelD Partitioning of labels') | 0.54 $\\pm$ 0.04     | 0.69 $\\pm$ 0.04             | 0.68 $\\pm$ 0.05         | 0.63 $\\pm$ 0.04          | 0.58 $\\pm$ 0.05                           | 0.55 $\\pm$ 0.02 |\n",
       "| ('LogisticRegressionRidge', 'Random Oversampling')           | 0.49 $\\pm$ 0.03     | 0.65 $\\pm$ 0.04             | 0.61 $\\pm$ 0.05         | 0.62 $\\pm$ 0.05          | 0.66 $\\pm$ 0.07                           | 0.66 $\\pm$ 0.08 |\n",
       "| ('LogisticRegressionRidge', 'SMOTE')                         | 0.44 $\\pm$ 0.01     | 0.55 $\\pm$ 0.03             | 0.48 $\\pm$ 0.06         | 0.58 $\\pm$ 0.05          | 0.54 $\\pm$ 0.02                           | 0.61 $\\pm$ 0.04 |\n",
       "| ('LogisticRegressionRidge', 'SVMSMOTE')                      | 0.42 $\\pm$ 0.02     | 0.48 $\\pm$ 0.06             | 0.40 $\\pm$ 0.04         | 0.51 $\\pm$ 0.01          | 0.64 $\\pm$ 0.03                           | 0.54 $\\pm$ 0.08 |\n",
       "| ('Multi-label ARAM', 'Natively Multilabel')                  | 0.34 $\\pm$ 0.06     | 0.43 $\\pm$ 0.23             | 0.39 $\\pm$ 0.20         | 0.54 $\\pm$ 0.20          | 0.47 $\\pm$ 0.10                           | 0.38 $\\pm$ 0.06 |\n",
       "| ('Multilabel k Nearest Neighbours', 'Natively Multilabel')   | 0.33 $\\pm$ 0.03     | 0.34 $\\pm$ 0.02             | 0.38 $\\pm$ 0.04         | 0.34 $\\pm$ 0.04          | 0.39 $\\pm$ 0.03                           | 0.35 $\\pm$ 0.03 |\n",
       "| ('NaiveBayes', 'BorderlineSMOTE')                            | 0.67 $\\pm$ 0.09     | 0.56 $\\pm$ 0.02             | 0.53 $\\pm$ 0.03         | 0.58 $\\pm$ 0.05          | 0.65 $\\pm$ 0.03                           | 0.60 $\\pm$ 0.05 |\n",
       "| ('NaiveBayes', 'No Upsampling')                              | 0.73 $\\pm$ 0.02     | 0.62 $\\pm$ 0.05             | 0.57 $\\pm$ 0.08         | 0.56 $\\pm$ 0.03          | 0.58 $\\pm$ 0.07                           | 0.59 $\\pm$ 0.01 |\n",
       "| ('NaiveBayes', 'Random Oversampling')                        | 0.71 $\\pm$ 0.02     | 0.74 $\\pm$ 0.05             | 0.63 $\\pm$ 0.04         | 0.55 $\\pm$ 0.04          | 0.67 $\\pm$ 0.05                           | 0.63 $\\pm$ 0.06 |\n",
       "| ('NaiveBayes', 'SMOTE')                                      | 0.50 $\\pm$ 0.06     | 0.57 $\\pm$ 0.04             | 0.52 $\\pm$ 0.03         | 0.57 $\\pm$ 0.05          | 0.59 $\\pm$ 0.03                           | 0.58 $\\pm$ 0.03 |\n",
       "| ('NaiveBayes', 'SVMSMOTE')                                   | 0.65 $\\pm$ 0.08     | 0.58 $\\pm$ 0.06             | 0.63 $\\pm$ 0.03         | 0.55 $\\pm$ 0.01          | 0.61 $\\pm$ 0.06                           | 0.64 $\\pm$ 0.04 |\n",
       "| ('RandomForest', 'BorderlineSMOTE')                          | 0.48 $\\pm$ 0.07     | 0.43 $\\pm$ 0.02             | 0.44 $\\pm$ 0.04         | 0.39 $\\pm$ 0.02          | 0.36 $\\pm$ 0.05                           | 0.39 $\\pm$ 0.04 |\n",
       "| ('RandomForest', 'No Upsampling')                            | 0.49 $\\pm$ 0.05     | 0.43 $\\pm$ 0.05             | 0.44 $\\pm$ 0.04         | 0.41 $\\pm$ 0.02          | 0.37 $\\pm$ 0.02                           | 0.43 $\\pm$ 0.05 |\n",
       "| ('RandomForest', 'Random Oversampling')                      | 0.42 $\\pm$ 0.01     | 0.36 $\\pm$ 0.09             | 0.43 $\\pm$ 0.04         | 0.40 $\\pm$ 0.06          | 0.32 $\\pm$ 0.03                           | 0.38 $\\pm$ 0.09 |\n",
       "| ('RandomForest', 'SMOTE')                                    | 0.47 $\\pm$ 0.04     | 0.45 $\\pm$ 0.05             | 0.41 $\\pm$ 0.01         | 0.41 $\\pm$ 0.03          | 0.38 $\\pm$ 0.05                           | 0.40 $\\pm$ 0.02 |\n",
       "| ('RandomForest', 'SVMSMOTE')                                 | 0.44 $\\pm$ 0.01     | 0.40 $\\pm$ 0.03             | 0.42 $\\pm$ 0.03         | 0.39 $\\pm$ 0.01          | 0.36 $\\pm$ 0.01                           | 0.40 $\\pm$ 0.07 |\n",
       "| ('RidgeClassifier', 'BorderlineSMOTE')                       | 0.35 $\\pm$ 0.04     | 0.24 $\\pm$ 0.04             | 0.27 $\\pm$ 0.02         | 0.41 $\\pm$ 0.02          | 0.43 $\\pm$ 0.01                           | 0.44 $\\pm$ 0.01 |\n",
       "| ('RidgeClassifier', 'No Upsampling')                         | 0.31 $\\pm$ 0.01     | 0.26 $\\pm$ 0.05             | 0.28 $\\pm$ 0.01         | 0.42 $\\pm$ 0.01          | 0.44 $\\pm$ 0.01                           | 0.45 $\\pm$ 0.03 |\n",
       "| ('RidgeClassifier', 'Random Oversampling')                   | 0.54 $\\pm$ 0.01     | 0.29 $\\pm$ 0.04             | 0.27 $\\pm$ 0.02         | 0.40 $\\pm$ 0.01          | 0.39 $\\pm$ 0.03                           | 0.43 $\\pm$ 0.02 |\n",
       "| ('RidgeClassifier', 'SMOTE')                                 | 0.31 $\\pm$ 0.01     | 0.25 $\\pm$ 0.04             | 0.26 $\\pm$ 0.02         | 0.39 $\\pm$ 0.02          | 0.38 $\\pm$ 0.03                           | 0.44 $\\pm$ 0.02 |\n",
       "| ('RidgeClassifier', 'SVMSMOTE')                              | 0.32 $\\pm$ 0.01     | 0.25 $\\pm$ 0.03             | 0.24 $\\pm$ 0.02         | 0.38 $\\pm$ 0.02          | 0.42 $\\pm$ 0.02                           | 0.42 $\\pm$ 0.01 |\n",
       "| ('SVM', 'BorderlineSMOTE')                                   | 0.43 $\\pm$ 0.06     | 0.45 $\\pm$ 0.06             | 0.50 $\\pm$ 0.04         | 0.55 $\\pm$ 0.06          | 0.70 $\\pm$ 0.02                           | 0.57 $\\pm$ 0.06 |\n",
       "| ('SVM', 'No Upsampling')                                     | 0.45 $\\pm$ 0.02     | 0.56 $\\pm$ 0.04             | 0.48 $\\pm$ 0.04         | 0.59 $\\pm$ 0.05          | 0.59 $\\pm$ 0.07                           | 0.62 $\\pm$ 0.05 |\n",
       "| ('SVM', 'RakelD Partitioning of labels')                     | 0.45 $\\pm$ 0.03     | 0.46 $\\pm$ 0.06             | 0.65 $\\pm$ 0.06         | 0.53 $\\pm$ 0.06          | 0.51 $\\pm$ 0.04                           | 0.65 $\\pm$ 0.05 |\n",
       "| ('SVM', 'Random Oversampling')                               | 0.46 $\\pm$ 0.06     | 0.56 $\\pm$ 0.02             | 0.54 $\\pm$ 0.04         | 0.59 $\\pm$ 0.02          | 0.59 $\\pm$ 0.04                           | 0.61 $\\pm$ 0.04 |\n",
       "| ('SVM', 'SMOTE')                                             | 0.51 $\\pm$ 0.01     | 0.52 $\\pm$ 0.07             | 0.54 $\\pm$ 0.11         | 0.57 $\\pm$ 0.02          | 0.58 $\\pm$ 0.01                           | 0.55 $\\pm$ 0.05 |\n",
       "| ('SVM', 'SVMSMOTE')                                          | 0.49 $\\pm$ 0.05     | 0.48 $\\pm$ 0.09             | 0.47 $\\pm$ 0.05         | 0.53 $\\pm$ 0.06          | 0.59 $\\pm$ 0.02                           | 0.54 $\\pm$ 0.02 |\n",
       "| ('XGBoost', 'BorderlineSMOTE')                               | 0.64 $\\pm$ 0.06     | 0.68 $\\pm$ 0.09             | 0.43 $\\pm$ 0.03         | 0.55 $\\pm$ 0.01          | 0.46 $\\pm$ 0.03                           | 0.53 $\\pm$ 0.00 |\n",
       "| ('XGBoost', 'No Upsampling')                                 | 0.60 $\\pm$ 0.05     | 0.56 $\\pm$ 0.07             | 0.57 $\\pm$ 0.06         | 0.44 $\\pm$ 0.01          | 0.47 $\\pm$ 0.02                           | 0.52 $\\pm$ 0.04 |\n",
       "| ('XGBoost', 'Random Oversampling')                           | 0.59 $\\pm$ 0.09     | 0.57 $\\pm$ 0.01             | 0.50 $\\pm$ 0.01         | 0.51 $\\pm$ 0.03          | 0.54 $\\pm$ 0.01                           | 0.55 $\\pm$ 0.02 |\n",
       "| ('XGBoost', 'SMOTE')                                         | 0.65 $\\pm$ 0.08     | 0.63 $\\pm$ 0.08             | 0.49 $\\pm$ 0.04         | 0.54 $\\pm$ 0.02          | 0.50 $\\pm$ 0.05                           | 0.54 $\\pm$ 0.05 |\n",
       "| ('XGBoost', 'SVMSMOTE')                                      | 0.57 $\\pm$ 0.10     | 0.73 $\\pm$ 0.02             | 0.50 $\\pm$ 0.06         | 0.53 $\\pm$ 0.06          | 0.48 $\\pm$ 0.02                           | 0.56 $\\pm$ 0.03 |"
      ],
      "text/plain": [
       "<IPython.core.display.Markdown object>"
      ]
     },
     "metadata": {},
     "output_type": "display_data"
    },
    {
     "name": "stderr",
     "output_type": "stream",
     "text": [
      "/tmp/ipykernel_22869/1180708904.py:28: FutureWarning: In future versions `DataFrame.to_latex` is expected to utilise the base implementation of `Styler.to_latex` for formatting and rendering. The arguments signature may therefore change. It is recommended instead to use `DataFrame.style.to_latex` which also contains additional functionality.\n",
      "  report_table.to_latex(latex_file)\n"
     ]
    }
   ],
   "source": [
    "display_metrics_and_write_to_file(df=mw_df, grouping_criterion=['model_type','model_subtype'], output_dir='per_model_subtype_tables')"
   ]
  },
  {
   "cell_type": "markdown",
   "id": "dd7454d7-f749-4f54-ba43-4f08bc8adef7",
   "metadata": {},
   "source": [
    "# Per model sub-type and exp name"
   ]
  },
  {
   "cell_type": "code",
   "execution_count": null,
   "id": "04becbf0-d6f7-458c-8bcb-d52324ffc32d",
   "metadata": {
    "tags": []
   },
   "outputs": [],
   "source": [
    "display_metrics_and_write_to_file(df=mw_df, grouping_criterion=['model_type','model_subtype', 'model_name'], output_dir='per_model_name_tables')"
   ]
  }
 ],
 "metadata": {
  "kernelspec": {
   "display_name": "Python 3 (ipykernel)",
   "language": "python",
   "name": "python3"
  },
  "language_info": {
   "codemirror_mode": {
    "name": "ipython",
    "version": 3
   },
   "file_extension": ".py",
   "mimetype": "text/x-python",
   "name": "python",
   "nbconvert_exporter": "python",
   "pygments_lexer": "ipython3",
   "version": "3.9.16"
  }
 },
 "nbformat": 4,
 "nbformat_minor": 5
}
