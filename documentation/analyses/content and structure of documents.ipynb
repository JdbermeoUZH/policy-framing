{
 "cells": [
  {
   "cell_type": "code",
   "execution_count": 3,
   "metadata": {
    "collapsed": true
   },
   "outputs": [],
   "source": [
    "import os\n",
    "\n",
    "from tqdm import tqdm\n",
    "import numpy as np\n",
    "import pandas as pd\n",
    "import matplotlib.pyplot as plt\n",
    "\n",
    "class BaseArticleDataset:\n",
    "    def __init__(self, data_dir: str = 'data', language: str = 'en', subtask: int = 2, split: str = 'train'):\n",
    "        self.language = language\n",
    "        self.subtask = subtask\n",
    "        self.split = split\n",
    "        self.label_file_path = os.path.join(data_dir, language, f'{split}-labels-subtask-{subtask}.txt')\n",
    "        self.article_dir_path = os.path.join(data_dir, language, f'{split}-articles-subtask-{subtask}')\n",
    "        self.df = self._create_article_dataframe()\n",
    "\n",
    "    def _create_article_dataframe(self) -> pd.DataFrame:\n",
    "        text = []\n",
    "\n",
    "        for fil in tqdm(filter(lambda x: x.endswith('.txt'), os.listdir(self.article_dir_path))):\n",
    "            id, txt = fil[7:].split('.')[0], \\\n",
    "                      open(os.path.join(self.article_dir_path, fil), 'r', encoding='utf-8').read()\n",
    "            text.append((id, txt))\n",
    "\n",
    "        return pd.DataFrame(text, columns=['id', 'raw_text']) \\\n",
    "            .astype({'id': 'int', 'raw_text': 'str'}) \\\n",
    "            .set_index('id')\n",
    "\n",
    "    def separate_title_content(self, remove_raw_data_col: bool = False) -> None:\n",
    "        # TODO: Improve behavior by:\n",
    "        #   1) Remove trailing whitespaces and breaklines\n",
    "        #   2) Separate on single breakline \"\\n\"\n",
    "        #   3) Remove trailing whitespaces and breaklines for title and content again\n",
    "        self.df[['title', 'content']] = self.df.raw_text.str.split('\\n\\n', 1, expand=True)\n",
    "\n",
    "        if remove_raw_data_col:\n",
    "            self.df.drop('raw_text', axis=1, inplace=True)"
   ]
  },
  {
   "cell_type": "markdown",
   "source": [
    "# Load the Data"
   ],
   "metadata": {
    "collapsed": false
   }
  },
  {
   "cell_type": "code",
   "execution_count": 4,
   "outputs": [
    {
     "name": "stderr",
     "output_type": "stream",
     "text": [
      "433it [00:00, 7277.66it/s]\n"
     ]
    }
   ],
   "source": [
    "semeval_data = BaseArticleDataset(\n",
    "    data_dir=os.path.join('..', '..', 'data'),\n",
    "    language='en', subtask=2, split='train')"
   ],
   "metadata": {
    "collapsed": false
   }
  },
  {
   "cell_type": "code",
   "execution_count": 5,
   "outputs": [
    {
     "data": {
      "text/plain": "                                                    raw_text\nid                                                          \n765982381  Julian Assange\\n\\nDuring World War II Cardinal...\n766942310  Who ‘Won’ the Trump-Kim Summit?\\n\\nLast week’s...\n706777811  Black Death: ‘It’s 100 % Likely’ It Spreads To...\n779394730  Hundreds of Priests Accused in Pennsylvania, C...\n758472954  Beware sonic weapon attacks, US tells citizens...\n...                                                      ...\n761334950  A Dismal Record: Why Are They Destroying the N...\n833042063  Chelsea Handler Admits She’s ‘Very Sexually At...\n999000145  Trump: \"If You Don't Want To Be Saying The Wor...\n735265649  ICE Arrests Over 150 in Bay Area\\n\\nImmigratio...\n787759779  Kavanaugh Accuser's Lawyer is Vice Chair of So...\n\n[433 rows x 1 columns]",
      "text/html": "<div>\n<style scoped>\n    .dataframe tbody tr th:only-of-type {\n        vertical-align: middle;\n    }\n\n    .dataframe tbody tr th {\n        vertical-align: top;\n    }\n\n    .dataframe thead th {\n        text-align: right;\n    }\n</style>\n<table border=\"1\" class=\"dataframe\">\n  <thead>\n    <tr style=\"text-align: right;\">\n      <th></th>\n      <th>raw_text</th>\n    </tr>\n    <tr>\n      <th>id</th>\n      <th></th>\n    </tr>\n  </thead>\n  <tbody>\n    <tr>\n      <th>765982381</th>\n      <td>Julian Assange\\n\\nDuring World War II Cardinal...</td>\n    </tr>\n    <tr>\n      <th>766942310</th>\n      <td>Who ‘Won’ the Trump-Kim Summit?\\n\\nLast week’s...</td>\n    </tr>\n    <tr>\n      <th>706777811</th>\n      <td>Black Death: ‘It’s 100 % Likely’ It Spreads To...</td>\n    </tr>\n    <tr>\n      <th>779394730</th>\n      <td>Hundreds of Priests Accused in Pennsylvania, C...</td>\n    </tr>\n    <tr>\n      <th>758472954</th>\n      <td>Beware sonic weapon attacks, US tells citizens...</td>\n    </tr>\n    <tr>\n      <th>...</th>\n      <td>...</td>\n    </tr>\n    <tr>\n      <th>761334950</th>\n      <td>A Dismal Record: Why Are They Destroying the N...</td>\n    </tr>\n    <tr>\n      <th>833042063</th>\n      <td>Chelsea Handler Admits She’s ‘Very Sexually At...</td>\n    </tr>\n    <tr>\n      <th>999000145</th>\n      <td>Trump: \"If You Don't Want To Be Saying The Wor...</td>\n    </tr>\n    <tr>\n      <th>735265649</th>\n      <td>ICE Arrests Over 150 in Bay Area\\n\\nImmigratio...</td>\n    </tr>\n    <tr>\n      <th>787759779</th>\n      <td>Kavanaugh Accuser's Lawyer is Vice Chair of So...</td>\n    </tr>\n  </tbody>\n</table>\n<p>433 rows × 1 columns</p>\n</div>"
     },
     "execution_count": 5,
     "metadata": {},
     "output_type": "execute_result"
    }
   ],
   "source": [
    "semeval_data.df"
   ],
   "metadata": {
    "collapsed": false
   }
  },
  {
   "cell_type": "markdown",
   "source": [
    "# Summary of findings\n",
    "\n",
    " * Articles seem to come from fringe rather unreliable sources of news. This is probably because they reflect a specific frame and bias in it more strongly\n",
    " * There are minor errors in the dataset such as:\n",
    "    * Some titles are not appropriately parsed with \"\\n\\n\".\n",
    "    * Some articles are duplicated.\n",
    "    * Some articles also contain not relevant text such as text from banners or sponsored articles within the article (see article 999001280 in english).\n",
    " * It should be possible to separate title and content with the following steps:\n",
    "    * Remove trailing whitespaces and breaklines\n",
    "    * Separate on single breakline \"\\n\"\n",
    "    * Remove trailing whitespaces and breaklines for title and content again\n",
    " * Russian articles seem to be better parsed and structured.\n",
    "    * For example, it is possible to separate title, subtitle, and content\n",
    "    * Also seems to be better split into paragraphs, which happens much less often for english and italian.\n",
    " * For many articles, a breakline identifies a change of paragraph. However, this patterns does not always hold for some exceptions.\n",
    "    * A solution when we need the whole paragraph would be to merge the first two paragraphs when the first one is only one sentece long and that sentence is short.\n",
    " * For some articles, the order of the paragraph is wrong due to the structure of the website\n",
    "    * [730019938](https://vdare.com/posts/suspect-in-westerville-oh-murder-of-two-white-cops-named-as-quentin-lamar-smith-apparently-black)\n",
    "    * [725276027](https://vdare.com/posts/kritarchs-patti-saris-and-mark-goldsmith-sabotage-immigration-enforcement)\n",
    "    * [711716996](https://vdare.com/posts/patti-saris-strikes-again-indonesian-illegals-who-have-been-here-since-the-90s-get-to-say)\n"
   ],
   "metadata": {
    "collapsed": false
   }
  },
  {
   "cell_type": "markdown",
   "source": [
    "# Sample texts and check structure"
   ],
   "metadata": {
    "collapsed": false
   }
  },
  {
   "cell_type": "markdown",
   "source": [
    "## Verify all titles are properly separated"
   ],
   "metadata": {
    "collapsed": false
   }
  },
  {
   "cell_type": "code",
   "execution_count": 6,
   "outputs": [],
   "source": [
    "semeval_data.separate_title_content()"
   ],
   "metadata": {
    "collapsed": false
   }
  },
  {
   "cell_type": "code",
   "execution_count": 7,
   "outputs": [
    {
     "data": {
      "text/plain": "Text(0.5, 0, 'length')"
     },
     "execution_count": 7,
     "metadata": {},
     "output_type": "execute_result"
    },
    {
     "data": {
      "text/plain": "<Figure size 640x480 with 1 Axes>",
      "image/png": "[encoded data removed]"
     },
     "metadata": {},
     "output_type": "display_data"
    }
   ],
   "source": [
    "semeval_data.df.title.str.len().plot.hist(bins=30, title=\"Title string length\")\n",
    "plt.xlabel('length')"
   ],
   "metadata": {
    "collapsed": false
   }
  },
  {
   "cell_type": "markdown",
   "source": [
    "There is at least a couple of articles with overly long titles, most likely not properly parsed"
   ],
   "metadata": {
    "collapsed": false
   }
  },
  {
   "cell_type": "code",
   "execution_count": 8,
   "outputs": [
    {
     "data": {
      "text/plain": "Text(0.5, 0, 'length')"
     },
     "execution_count": 8,
     "metadata": {},
     "output_type": "execute_result"
    },
    {
     "data": {
      "text/plain": "<Figure size 640x480 with 1 Axes>",
      "image/png": "[encoded data removed]"
     },
     "metadata": {},
     "output_type": "display_data"
    }
   ],
   "source": [
    "max_title_length = semeval_data.df.title.str.len().quantile(0.99)\n",
    "max_title_length\n",
    "\n",
    "semeval_data.df.title[semeval_data.df.title.str.len() < max_title_length]\\\n",
    "    .str.len().plot.hist(bins=30, title=\"Title string length\")\n",
    "plt.xlabel('length')"
   ],
   "metadata": {
    "collapsed": false
   }
  },
  {
   "cell_type": "markdown",
   "source": [
    "This seems a bit more expected. Let's check samples on quartiles and verify if they are indeed titles or not"
   ],
   "metadata": {
    "collapsed": false
   }
  },
  {
   "cell_type": "code",
   "execution_count": 46,
   "outputs": [
    {
     "data": {
      "text/plain": "                                                       title\nid                                                          \n704856340  New Audio From The Night Of The Las Vegas Mass...\n999000878  Las Vegas Shooting: A THIRD Timeline Emerges E...\n698092698  Las Vegas Shooting: A THIRD Timeline Emerges E...\n764715911  After Calling for Guns & Ammo Confiscation & U...\n725824328  America's Immigration Voice. From TPM: The Pho...",
      "text/html": "<div>\n<style scoped>\n    .dataframe tbody tr th:only-of-type {\n        vertical-align: middle;\n    }\n\n    .dataframe tbody tr th {\n        vertical-align: top;\n    }\n\n    .dataframe thead th {\n        text-align: right;\n    }\n</style>\n<table border=\"1\" class=\"dataframe\">\n  <thead>\n    <tr style=\"text-align: right;\">\n      <th></th>\n      <th>title</th>\n    </tr>\n    <tr>\n      <th>id</th>\n      <th></th>\n    </tr>\n  </thead>\n  <tbody>\n    <tr>\n      <th>704856340</th>\n      <td>New Audio From The Night Of The Las Vegas Mass...</td>\n    </tr>\n    <tr>\n      <th>999000878</th>\n      <td>Las Vegas Shooting: A THIRD Timeline Emerges E...</td>\n    </tr>\n    <tr>\n      <th>698092698</th>\n      <td>Las Vegas Shooting: A THIRD Timeline Emerges E...</td>\n    </tr>\n    <tr>\n      <th>764715911</th>\n      <td>After Calling for Guns &amp; Ammo Confiscation &amp; U...</td>\n    </tr>\n    <tr>\n      <th>725824328</th>\n      <td>America's Immigration Voice. From TPM: The Pho...</td>\n    </tr>\n  </tbody>\n</table>\n</div>"
     },
     "execution_count": 46,
     "metadata": {},
     "output_type": "execute_result"
    }
   ],
   "source": [
    "pd.DataFrame(semeval_data.df.title[semeval_data.df.title.str.len() >= max_title_length])"
   ],
   "metadata": {
    "collapsed": false
   }
  },
  {
   "cell_type": "code",
   "execution_count": 10,
   "outputs": [
    {
     "data": {
      "text/plain": "\"America's Immigration Voice. From TPM: The Photo That Never Saw\\nThe Light of Day: Obama With Farrakhan In 2005 By Esme Cribb | January 25, 2018\\n2:16 pm A journalist announced last week that he will publish a photograph of\\nthen-IllinoisSen. Barack Obamaa (D) and Nation of Islam leader Louis Farrakhan that\\nhe took in 2005 at a Congressional Black Caucus meeting, but did not make\\npublic because he believed it would have “made a difference” to Obama’s\\npolitical future. The photographer, Askia\\nMuhammad, told the Trice Edney News Wire that he “gave the picture up at the\\ntime and basically swore secrecy.”“But after the nomination was secured and all the way up until the inauguration; then for eight years after he was President, it was kept under cover,”  Muhammad said. \\n\\nAsked whether he thought the photo’s release would\\nhave affected Obama’s presidential campaign, Muhammad said, “I insist. It\\nabsolutely would have made a difference.” Reached by TPM on Thursday, Muhammad\\nsaid a “staff member” for the CBC contacted him “sort of in a panic” after he\\ntook the photo at a caucus meeting in 2005. TPM has published the photo above\\nwith Muhammad’s permission. “I sort of understood what was going on,” Muhammad\\ntold TPM. “I promised and made arrangements to give the picture to Leonard\\nFarrakhan,” the minister’s son-in-law and chief of staff. Muhammad said he gave\\naway “the disk” from his camera but “copied the photograph from that day onto a\\nfile” on his computer. “Realizing that I had given it up, I mean, it was sort\\nof like a promise to keep the photograph secret,” Muhammad said. Muhammad said\\nhe did not release his copy of the photograph because he thought it would be\\nperceived as a betrayal of that promise: “I was really, I guess, afraid of\\nthem.” Malcolm X wasn’t adequately afraid of them. Here’s what happened to him:\\nhttps://youtu.be/qSm1t3Uv9QI\\n\\nMuhammad said he thought the photograph would be\\n“damaging politically” if it were released and was afraid that someone might\\n“break into his apartment” looking for it, like “that Watergate crap.” He said\\nhe “felt a little bit more at ease” after Farrakhan in 2016 claimed that Obama\\nvisited his home in Chicago. Muhammad contacted Farrakhan in autumn 2017 with\\nthe “final manuscript” for a self-published book containing the photo. “I sent\\nhim a copy of the manuscript suggesting that, showing him the picture, and\\nsaying to him, if he did not object, I was going to publish it,” Muhammad said.\\n“He had no objection.” … During Obama’s presidential campaign, conservatives\\npushed multiple apparently racially motivated conspiracy theories about Obama’s\\nreligion and supposed ties to Islam. For example, in Obama’s memoir subtitled A\\nStory of Race and Inheritance, Obama recounts his being a regular reader of\\nMinister Farrakhan’s Nation of Islam newspaper The Final Call. \\n\\nObama recollects Farrakhan’s black nationalist\\ncapitalist campaign to get black people to use toothpaste manufactured by\\nblack-owned businesses. Farrakhan’s eventual failure suggests to Obama that’s\\nthere is more economic upside for blacks in shaking down white institutions\\nthan in building their own. During the 2008 presidential election,\\nconservatives questioned the indirect ties between Farrakhan and Obama, who\\nattended a church that gave Farrakhan an award. Obama’s “spiritual advisor”\\nRev. Jeremiah Wright gave Farrakhan his church’s Lifetime Achievement award in\\na downtown Chicago Hyatt Regency in November 2007, but the story didn’t make\\nthe press until the following year. Similarly, very little media attention was\\npaid to the close relationship between Obama’s fundraiser and private mentor\\nTony Rezko and the Nation of Islam, even though Rezko’s role was business\\nmanager for Nation of Islam assets, such as the career of Muhammad Ali. But\\nafter all, what could be more boring than a story than involves a Presidential\\ncandidate, the Syrian Christian crook who helped him buy his house, the Nation\\nof Islam, and the most famous boxer of all time? Reading Obama’s 1995 memoir,\\nyou might almost get the impression that after a prudent first term, during his\\nsecond he might side with, I dunno, Black Lives Matter and encourage a wave of\\nblack rage and police retreat that drove up the death toll from murder by 20% in his last two years in office, an\\nincremental death toll a little bigger than the U.S. combat death toll from the\\nequally stupid Iraq War. \\n\""
     },
     "execution_count": 10,
     "metadata": {},
     "output_type": "execute_result"
    }
   ],
   "source": [
    "semeval_data.df.raw_text.loc[725824328]"
   ],
   "metadata": {
    "collapsed": false
   }
  },
  {
   "cell_type": "code",
   "execution_count": 11,
   "outputs": [
    {
     "data": {
      "text/plain": "\"America's Immigration Voice. From TPM: The Photo That Never Saw\\nThe Light of Day: Obama With Farrakhan In 2005 By Esme Cribb | January 25, 2018\\n2:16 pm A journalist announced last week that he will publish a photograph of\\nthen-IllinoisSen. Barack Obamaa (D) and Nation of Islam leader Louis Farrakhan that\\nhe took in 2005 at a Congressional Black Caucus meeting, but did not make\\npublic because he believed it would have “made a difference” to Obama’s\\npolitical future. The photographer, Askia\\nMuhammad, told the Trice Edney News Wire that he “gave the picture up at the\\ntime and basically swore secrecy.”“But after the nomination was secured and all the way up until the inauguration; then for eight years after he was President, it was kept under cover,”  Muhammad said. \""
     },
     "execution_count": 11,
     "metadata": {},
     "output_type": "execute_result"
    }
   ],
   "source": [
    "semeval_data.df.title.loc[725824328]"
   ],
   "metadata": {
    "collapsed": false
   }
  },
  {
   "cell_type": "markdown",
   "source": [
    "According to this [website](https://sigforum.com/eve/forums/a/tpc/f/320601935/m/3550057634), the actual title is: **\"The Photo That Never Saw The Light of Day: Obama With Farrakhan In 2005\"**. Hard to tell the delimiter for this case"
   ],
   "metadata": {
    "collapsed": false
   }
  },
  {
   "cell_type": "code",
   "execution_count": 12,
   "outputs": [
    {
     "data": {
      "text/plain": "'After Calling for Guns & Ammo Confiscation & Universal Gun Registration, the American Medical Association Should Think About Taking \"American\" Out of Their Name'"
     },
     "execution_count": 12,
     "metadata": {},
     "output_type": "execute_result"
    }
   ],
   "source": [
    "semeval_data.df.title.loc[764715911]"
   ],
   "metadata": {
    "collapsed": false
   }
  },
  {
   "cell_type": "markdown",
   "source": [
    "According to this [website](http://www.invexnews.com/item-361622-after-calling-for-guns-amp-ammo-confisca) the title is correct"
   ],
   "metadata": {
    "collapsed": false
   }
  },
  {
   "cell_type": "code",
   "execution_count": 13,
   "outputs": [
    {
     "data": {
      "text/plain": "'New Audio From The Night Of The Las Vegas Massacre Reveals That There Was “Another Active Shooter” In The Bar At The Top Of The Mandalay Bay Hotel During The Attack'"
     },
     "execution_count": 13,
     "metadata": {},
     "output_type": "execute_result"
    }
   ],
   "source": [
    "semeval_data.df.title[704856340]"
   ],
   "metadata": {
    "collapsed": false
   }
  },
  {
   "cell_type": "markdown",
   "source": [
    "Again another long title, but it seems correct."
   ],
   "metadata": {
    "collapsed": false
   }
  },
  {
   "cell_type": "code",
   "execution_count": 14,
   "outputs": [
    {
     "data": {
      "text/plain": "\"Las Vegas Shooting: A THIRD Timeline Emerges Editor's Note: This is\\nprobably a reason why reporters Laura Loomer and Mike Tokes were barred from\\nentering the presser. They would have posed real genuine questions of Sheriff\\nLombardo and forced him to stumble all over himself in answering them. The words\\n“conspiracy theorists” are being bandied about. Are they for real? A well-coordinated, meticulously planned attack on\\nconcertgoers leads to the murder of 58 Americans at a country music festival in\\nLas Vegas, with over 500 injured, and they have no explanation or motive. Do the FBI and law enforcement think people won’t talk about\\nit or speculate as to what happened? Are they for real? Further, the FBI\\ninsists there is no jihad motive, while saying they don’t know his motive.\\nHow can they possibly hold those two contradictory ideas at the same time? The\\nsheriff, alluding to allegations of a conspiracy between his department, the\\nF.B.I., and MGM — supposedly in an effort to establish a legal case — said,\\n“there is no conspiracy.” William Jacobson explains the latest “revise” by the\\nauthorities is the now infamously botched Vegas investigation: October 13,\\n2017, Legal Insurrection Police and hotel still don’t agree on some details. I realize\\nthat in the heat of a shooting, particularly a mass shooting, it may take some\\ntime for a precise timeline to develop. But it didn’t take very long for the Las Vegas police to\\nrelease a precise timeline. The initial timeline was that Stephen Paddock’s\\nshooting stopped when, approximately 6 minutes after he started, he was\\ninterrupted by a security guard from the Mandalay Bay hotel. Paddock then\\nturned his fire into the hallway, firing some 200 bullets, and after that the\\nshooting stopped as police arrived. That was Version No. 1. Some days later,\\nthe Las Vegas police backed away from that timeline, and stated that the\\nsecurity guard actually arrived 6 minutes before Paddock started shooting into\\nthe crowd 32 stories below him. That raised a number of question, including why\\nno one called 911 after what must have been a loud volley of shots in a hotel\\nhallway. That was Version No. 2. But now that is disputed, in Version No. 3.\\nWaPo reports: Las Vegas police said Friday that the gunman who opened fire on a\\ncountry music festival far below his hotel suite did not shoot a security guard\\nsix minutes before that rampage, contradicting a timeline they had offered\\nearlier this week…. The confusion began Monday when police said that the gunman\\nfired at the hotel security guard, Jesus Campos, six minutes before the mass\\nshooting began, not during the massacre as they had said. Lombardo also said\\npolice had hunted for the source of the gunfire and that officers responding to\\nthe gunman’s floor were unaware that a guard was shot until they arrived there,\\nat which point the shooting rampage had ended. MGM Resorts pushed back on this\\naccount, first saying Tuesday that there were unspecified inaccuracies and\\nthen, on Thursday, releasing a statement directly contradicting parts of what\\nthe police had said…. Lombardo had said Monday that Campos, the guard, was shot\\nat 9:59 p.m. and that the mass shooting began at 10:05 p.m. This six-minute gap\\nrelayed by Lombardo left uncertain whether there was any lag in alerting police\\nto the source of the gunfire during critical moments. Police said officers\\narrived on the 32nd floor at 10:17 p.m., two minutes after Paddock had stopped\\nfiring. MGM, though, said it was “confident” that the 9:59 p.m. time was\\ninaccurate and “was derived from a Mandalay Bay report manually created after\\nthe fact without the benefit of information we now have.” The company also\\ndisputed the suggestion of a lag, saying the shooting rampage began within a\\nminute of Campos reporting his injury on the 32nd floor. On Friday, Lombardo\\neffectively agreed with the company’s statement, though he argued that the 9:59\\np.m. time he had offered four days earlier “wasn’t inaccurate when I provided\\nit.” Lombardo said he was told this time had been written by someone in a\\nsecurity log. Upon investigation, Lombardo said, police learned that Campos first\\nencountered a barricaded door on the 32nd floor at 9:59 p.m. The guard was\\neventually fired upon by Paddock “in close proximity to” 10:05 p.m., when the\\nmass shooting began, Lombardo continued. Clear, right? Not so fast, the police\\nand hotel still have disagreement over important details, such as when police\\narrived relative to Paddock’s shooting at the crowd: An enormous, important\\ndiscrepancy has emerged over what happened during the Las Vegas massacre: When\\ndid police arrive on the 32nd floor where Stephen Paddock was firing his deadly\\nfusillade onto concertgoers below? Las Vegas police say they didn’t get to the\\nfloor until after the shooting was over. But MGM Resorts International, the\\nowner of Mandalay Bay, says police officers were there shortly after the\\nshooting began, responding to a report of a security guard being shot. The\\ndiscrepancy could raise questions about whether police might have taken steps\\nto intervene while Paddock was launching his devastating 10-minute onslaught….\\n… on Thursday, in response to inquiries about when Mandalay Bay notified police\\nof the Campos shooting, MGM Resorts issued a statement that was unequivocal:\\nLas Vegas police officers accompanied Mandalay Bay security to the Campos\\nshooting and “immediately responded.” MGM said that “Metro officers were\\ntogether with armed Mandalay Bay security officers in the building when Campos\\nfirst reported that shots were fired over the radio. These Metro officers and\\narmed Mandalay Bay security officers immediately responded to the 32nd floor.”\\nThe statement says MGM believes Paddock began firing out the window of his room\\nwithin 40 seconds of Campos reporting his shooting, and Lombardo said Friday,\\n“I agree with the statement.” These discrepancies on basic facts are feeding\\nconspiracy theories. As to Paddock’s motive, still nothing from the\\ninvestigation. Article posted with permission from Pamela Geller\""
     },
     "execution_count": 14,
     "metadata": {},
     "output_type": "execute_result"
    }
   ],
   "source": [
    "semeval_data.df.title[698092698]"
   ],
   "metadata": {
    "collapsed": false
   }
  },
  {
   "cell_type": "code",
   "execution_count": 15,
   "outputs": [
    {
     "data": {
      "text/plain": "\"Las Vegas Shooting: A THIRD Timeline Emerges Editor's Note: This is\\nprobably a reason why reporters Laura Loomer and Mike Tokes were barred from\\nentering the presser. They would have posed real genuine questions of Sheriff\\nLombardo and forced him to stumble all over himself in answering them. The words\\n“conspiracy theorists” are being bandied about. Are they for real? A well-coordinated, meticulously planned attack on\\nconcertgoers leads to the murder of 58 Americans at a country music festival in\\nLas Vegas, with over 500 injured, and they have no explanation or motive. Do the FBI and law enforcement think people won’t talk about\\nit or speculate as to what happened? Are they for real? Further, the FBI\\ninsists there is no jihad motive, while saying they don’t know his motive.\\nHow can they possibly hold those two contradictory ideas at the same time? The\\nsheriff, alluding to allegations of a conspiracy between his department, the\\nF.B.I., and MGM — supposedly in an effort to establish a legal case — said,\\n“there is no conspiracy.” William Jacobson explains the latest “revise” by the\\nauthorities is the now infamously botched Vegas investigation: October 13,\\n2017, Legal Insurrection Police and hotel still don’t agree on some details. I realize\\nthat in the heat of a shooting, particularly a mass shooting, it may take some\\ntime for a precise timeline to develop. But it didn’t take very long for the Las Vegas police to\\nrelease a precise timeline. The initial timeline was that Stephen Paddock’s\\nshooting stopped when, approximately 6 minutes after he started, he was\\ninterrupted by a security guard from the Mandalay Bay hotel. Paddock then\\nturned his fire into the hallway, firing some 200 bullets, and after that the\\nshooting stopped as police arrived. That was Version No. 1. Some days later,\\nthe Las Vegas police backed away from that timeline, and stated that the\\nsecurity guard actually arrived 6 minutes before Paddock started shooting into\\nthe crowd 32 stories below him. That raised a number of question, including why\\nno one called 911 after what must have been a loud volley of shots in a hotel\\nhallway. That was Version No. 2. But now that is disputed, in Version No. 3.\\nWaPo reports: Las Vegas police said Friday that the gunman who opened fire on a\\ncountry music festival far below his hotel suite did not shoot a security guard\\nsix minutes before that rampage, contradicting a timeline they had offered\\nearlier this week…. The confusion began Monday when police said that the gunman\\nfired at the hotel security guard, Jesus Campos, six minutes before the mass\\nshooting began, not during the massacre as they had said. Lombardo also said\\npolice had hunted for the source of the gunfire and that officers responding to\\nthe gunman’s floor were unaware that a guard was shot until they arrived there,\\nat which point the shooting rampage had ended. MGM Resorts pushed back on this\\naccount, first saying Tuesday that there were unspecified inaccuracies and\\nthen, on Thursday, releasing a statement directly contradicting parts of what\\nthe police had said…. Lombardo had said Monday that Campos, the guard, was shot\\nat 9:59 p.m. and that the mass shooting began at 10:05 p.m. This six-minute gap\\nrelayed by Lombardo left uncertain whether there was any lag in alerting police\\nto the source of the gunfire during critical moments. Police said officers\\narrived on the 32nd floor at 10:17 p.m., two minutes after Paddock had stopped\\nfiring. MGM, though, said it was “confident” that the 9:59 p.m. time was\\ninaccurate and “was derived from a Mandalay Bay report manually created after\\nthe fact without the benefit of information we now have.” The company also\\ndisputed the suggestion of a lag, saying the shooting rampage began within a\\nminute of Campos reporting his injury on the 32nd floor. On Friday, Lombardo\\neffectively agreed with the company’s statement, though he argued that the 9:59\\np.m. time he had offered four days earlier “wasn’t inaccurate when I provided\\nit.” Lombardo said he was told this time had been written by someone in a\\nsecurity log. Upon investigation, Lombardo said, police learned that Campos first\\nencountered a barricaded door on the 32nd floor at 9:59 p.m. The guard was\\neventually fired upon by Paddock “in close proximity to” 10:05 p.m., when the\\nmass shooting began, Lombardo continued. Clear, right? Not so fast, the police\\nand hotel still have disagreement over important details, such as when police\\narrived relative to Paddock’s shooting at the crowd: An enormous, important\\ndiscrepancy has emerged over what happened during the Las Vegas massacre: When\\ndid police arrive on the 32nd floor where Stephen Paddock was firing his deadly\\nfusillade onto concertgoers below? Las Vegas police say they didn’t get to the\\nfloor until after the shooting was over. But MGM Resorts International, the\\nowner of Mandalay Bay, says police officers were there shortly after the\\nshooting began, responding to a report of a security guard being shot. The\\ndiscrepancy could raise questions about whether police might have taken steps\\nto intervene while Paddock was launching his devastating 10-minute onslaught….\\n… on Thursday, in response to inquiries about when Mandalay Bay notified police\\nof the Campos shooting, MGM Resorts issued a statement that was unequivocal:\\nLas Vegas police officers accompanied Mandalay Bay security to the Campos\\nshooting and “immediately responded.” MGM said that “Metro officers were\\ntogether with armed Mandalay Bay security officers in the building when Campos\\nfirst reported that shots were fired over the radio. These Metro officers and\\narmed Mandalay Bay security officers immediately responded to the 32nd floor.”\\nThe statement says MGM believes Paddock began firing out the window of his room\\nwithin 40 seconds of Campos reporting his shooting, and Lombardo said Friday,\\n“I agree with the statement.” These discrepancies on basic facts are feeding\\nconspiracy theories. As to Paddock’s motive, still nothing from the\\ninvestigation. Article posted with permission from Pamela Geller\""
     },
     "execution_count": 15,
     "metadata": {},
     "output_type": "execute_result"
    }
   ],
   "source": [
    "semeval_data.df.title[999000878]"
   ],
   "metadata": {
    "collapsed": false
   }
  },
  {
   "cell_type": "markdown",
   "source": [
    "This reveals a second problem of duplicates documents in the dataset :O\n",
    "\n",
    "According to the this [website](https://investortimes.com/freedomoutpost/las-vegas-shooting-third-timeline-emerges/) the full title is: \"**Las Vegas Shooting: A THIRD Timeline Emerges**\".\n",
    "\n",
    "**Overall, we can fix the problem with some noise by separating very long with \"\\n\" instead of \"\\n\\n\", or hard code the titles for these articles**"
   ],
   "metadata": {
    "collapsed": false
   }
  },
  {
   "cell_type": "markdown",
   "source": [
    "### Check title length behavior in Russian and Italian"
   ],
   "metadata": {
    "collapsed": false
   }
  },
  {
   "cell_type": "code",
   "execution_count": 16,
   "outputs": [
    {
     "name": "stderr",
     "output_type": "stream",
     "text": [
      "143it [00:00, 6036.25it/s]\n",
      "227it [00:00, 6733.53it/s]\n"
     ]
    }
   ],
   "source": [
    "semeval_data_ru = BaseArticleDataset(\n",
    "    data_dir=os.path.join('..', '..', 'data'),\n",
    "    language='ru', subtask=2, split='train')\n",
    "semeval_data_ru.separate_title_content()\n",
    "\n",
    "semeval_data_it = BaseArticleDataset(\n",
    "    data_dir=os.path.join('..', '..', 'data'),\n",
    "    language='it', subtask=2, split='train')\n",
    "semeval_data_it.separate_title_content()"
   ],
   "metadata": {
    "collapsed": false
   }
  },
  {
   "cell_type": "code",
   "execution_count": 17,
   "outputs": [
    {
     "name": "stdout",
     "output_type": "stream",
     "text": [
      "(433, 3)\n",
      "(143, 3)\n",
      "(227, 3)\n"
     ]
    }
   ],
   "source": [
    "print(semeval_data.df.shape)\n",
    "print(semeval_data_ru.df.shape)\n",
    "print(semeval_data_it.df.shape)"
   ],
   "metadata": {
    "collapsed": false
   }
  },
  {
   "cell_type": "code",
   "execution_count": 18,
   "outputs": [
    {
     "data": {
      "text/plain": "Text(0.5, 0, 'length')"
     },
     "execution_count": 18,
     "metadata": {},
     "output_type": "execute_result"
    },
    {
     "data": {
      "text/plain": "<Figure size 640x480 with 1 Axes>",
      "image/png": "[encoded data removed]"
     },
     "metadata": {},
     "output_type": "display_data"
    }
   ],
   "source": [
    "semeval_data_ru.df.title.str.len().plot.hist(bins=30, title=\"Title string length\")\n",
    "plt.xlabel('length')"
   ],
   "metadata": {
    "collapsed": false
   }
  },
  {
   "cell_type": "code",
   "execution_count": 19,
   "outputs": [
    {
     "data": {
      "text/plain": "Text(0.5, 0, 'length')"
     },
     "execution_count": 19,
     "metadata": {},
     "output_type": "execute_result"
    },
    {
     "data": {
      "text/plain": "<Figure size 640x480 with 1 Axes>",
      "image/png": "[encoded data removed]"
     },
     "metadata": {},
     "output_type": "display_data"
    }
   ],
   "source": [
    "semeval_data_it.df.title.str.len().plot.hist(bins=30, title=\"Title string length\")\n",
    "plt.xlabel('length')"
   ],
   "metadata": {
    "collapsed": false
   }
  },
  {
   "cell_type": "markdown",
   "source": [
    "Let's check title that contain breaklines or that are over 150 lines characters long"
   ],
   "metadata": {
    "collapsed": false
   }
  },
  {
   "cell_type": "code",
   "execution_count": 20,
   "outputs": [
    {
     "data": {
      "text/plain": "                                                raw_text  \\\nid                                                         \n26303  Russia, “Bloomberg”: il G7 fatica a trovare al...   \n26243  \\nAL VOTO! AL VOTO! I POLITICI PAROLAI\\n\\nANTO...   \n2660   Caro Draghi, sono i vaccinati a intasare le te...   \n26302  Estonia: il governo decide di rimuovere tutti ...   \n26301  Per Mosca dietro il Covid e il vaiolo delle sc...   \n26294  Coinvolgere i boomerIl movimento per il clima ...   \n26127  \\n\"Non siamo sotto l'ombrello della Nato. Siam...   \n2661   Spagna a braccia aperte, Madrid accoglie i mig...   \n\n                                                   title  \\\nid                                                         \n26303  Russia, “Bloomberg”: il G7 fatica a trovare al...   \n26243             \\nAL VOTO! AL VOTO! I POLITICI PAROLAI   \n2660   Caro Draghi, sono i vaccinati a intasare le te...   \n26302  Estonia: il governo decide di rimuovere tutti ...   \n26301  Per Mosca dietro il Covid e il vaiolo delle sc...   \n26294  Coinvolgere i boomerIl movimento per il clima ...   \n26127  \\n\"Non siamo sotto l'ombrello della Nato. Siam...   \n2661   Spagna a braccia aperte, Madrid accoglie i mig...   \n\n                                                 content  \nid                                                        \n26303  Gli sforzi degli Usa e del G7 per guadagnare i...  \n26243  ANTONIO PADELLARO MARCO TRAVAGLIO FURIO COLOMB...  \n2660   Nel tentativo di fomentare l’odio sociale cont...  \n26302  Il governo dell’Estonia ha deciso a favore del...  \n26301  AGI - L'esercito russo ritiene che dietro il C...  \n26294  Ok, boomer? L’idea potremmo tradurla così: rib...  \n26127  Chiedo venia per portare notizie funeste, ma a...  \n2661   A braccia aperte. La Spagna è in trattativa co...  ",
      "text/html": "<div>\n<style scoped>\n    .dataframe tbody tr th:only-of-type {\n        vertical-align: middle;\n    }\n\n    .dataframe tbody tr th {\n        vertical-align: top;\n    }\n\n    .dataframe thead th {\n        text-align: right;\n    }\n</style>\n<table border=\"1\" class=\"dataframe\">\n  <thead>\n    <tr style=\"text-align: right;\">\n      <th></th>\n      <th>raw_text</th>\n      <th>title</th>\n      <th>content</th>\n    </tr>\n    <tr>\n      <th>id</th>\n      <th></th>\n      <th></th>\n      <th></th>\n    </tr>\n  </thead>\n  <tbody>\n    <tr>\n      <th>26303</th>\n      <td>Russia, “Bloomberg”: il G7 fatica a trovare al...</td>\n      <td>Russia, “Bloomberg”: il G7 fatica a trovare al...</td>\n      <td>Gli sforzi degli Usa e del G7 per guadagnare i...</td>\n    </tr>\n    <tr>\n      <th>26243</th>\n      <td>\\nAL VOTO! AL VOTO! I POLITICI PAROLAI\\n\\nANTO...</td>\n      <td>\\nAL VOTO! AL VOTO! I POLITICI PAROLAI</td>\n      <td>ANTONIO PADELLARO MARCO TRAVAGLIO FURIO COLOMB...</td>\n    </tr>\n    <tr>\n      <th>2660</th>\n      <td>Caro Draghi, sono i vaccinati a intasare le te...</td>\n      <td>Caro Draghi, sono i vaccinati a intasare le te...</td>\n      <td>Nel tentativo di fomentare l’odio sociale cont...</td>\n    </tr>\n    <tr>\n      <th>26302</th>\n      <td>Estonia: il governo decide di rimuovere tutti ...</td>\n      <td>Estonia: il governo decide di rimuovere tutti ...</td>\n      <td>Il governo dell’Estonia ha deciso a favore del...</td>\n    </tr>\n    <tr>\n      <th>26301</th>\n      <td>Per Mosca dietro il Covid e il vaiolo delle sc...</td>\n      <td>Per Mosca dietro il Covid e il vaiolo delle sc...</td>\n      <td>AGI - L'esercito russo ritiene che dietro il C...</td>\n    </tr>\n    <tr>\n      <th>26294</th>\n      <td>Coinvolgere i boomerIl movimento per il clima ...</td>\n      <td>Coinvolgere i boomerIl movimento per il clima ...</td>\n      <td>Ok, boomer? L’idea potremmo tradurla così: rib...</td>\n    </tr>\n    <tr>\n      <th>26127</th>\n      <td>\\n\"Non siamo sotto l'ombrello della Nato. Siam...</td>\n      <td>\\n\"Non siamo sotto l'ombrello della Nato. Siam...</td>\n      <td>Chiedo venia per portare notizie funeste, ma a...</td>\n    </tr>\n    <tr>\n      <th>2661</th>\n      <td>Spagna a braccia aperte, Madrid accoglie i mig...</td>\n      <td>Spagna a braccia aperte, Madrid accoglie i mig...</td>\n      <td>A braccia aperte. La Spagna è in trattativa co...</td>\n    </tr>\n  </tbody>\n</table>\n</div>"
     },
     "execution_count": 20,
     "metadata": {},
     "output_type": "execute_result"
    }
   ],
   "source": [
    "semeval_data_it.df[semeval_data_it.df.title.str.contains('\\n')]"
   ],
   "metadata": {
    "collapsed": false
   }
  },
  {
   "cell_type": "code",
   "execution_count": 21,
   "outputs": [
    {
     "data": {
      "text/plain": "                                                raw_text  \\\nid                                                         \n26303  Russia, “Bloomberg”: il G7 fatica a trovare al...   \n2660   Caro Draghi, sono i vaccinati a intasare le te...   \n26302  Estonia: il governo decide di rimuovere tutti ...   \n26301  Per Mosca dietro il Covid e il vaiolo delle sc...   \n26294  Coinvolgere i boomerIl movimento per il clima ...   \n2661   Spagna a braccia aperte, Madrid accoglie i mig...   \n\n                                                   title  \\\nid                                                         \n26303  Russia, “Bloomberg”: il G7 fatica a trovare al...   \n2660   Caro Draghi, sono i vaccinati a intasare le te...   \n26302  Estonia: il governo decide di rimuovere tutti ...   \n26301  Per Mosca dietro il Covid e il vaiolo delle sc...   \n26294  Coinvolgere i boomerIl movimento per il clima ...   \n2661   Spagna a braccia aperte, Madrid accoglie i mig...   \n\n                                                 content  \nid                                                        \n26303  Gli sforzi degli Usa e del G7 per guadagnare i...  \n2660   Nel tentativo di fomentare l’odio sociale cont...  \n26302  Il governo dell’Estonia ha deciso a favore del...  \n26301  AGI - L'esercito russo ritiene che dietro il C...  \n26294  Ok, boomer? L’idea potremmo tradurla così: rib...  \n2661   A braccia aperte. La Spagna è in trattativa co...  ",
      "text/html": "<div>\n<style scoped>\n    .dataframe tbody tr th:only-of-type {\n        vertical-align: middle;\n    }\n\n    .dataframe tbody tr th {\n        vertical-align: top;\n    }\n\n    .dataframe thead th {\n        text-align: right;\n    }\n</style>\n<table border=\"1\" class=\"dataframe\">\n  <thead>\n    <tr style=\"text-align: right;\">\n      <th></th>\n      <th>raw_text</th>\n      <th>title</th>\n      <th>content</th>\n    </tr>\n    <tr>\n      <th>id</th>\n      <th></th>\n      <th></th>\n      <th></th>\n    </tr>\n  </thead>\n  <tbody>\n    <tr>\n      <th>26303</th>\n      <td>Russia, “Bloomberg”: il G7 fatica a trovare al...</td>\n      <td>Russia, “Bloomberg”: il G7 fatica a trovare al...</td>\n      <td>Gli sforzi degli Usa e del G7 per guadagnare i...</td>\n    </tr>\n    <tr>\n      <th>2660</th>\n      <td>Caro Draghi, sono i vaccinati a intasare le te...</td>\n      <td>Caro Draghi, sono i vaccinati a intasare le te...</td>\n      <td>Nel tentativo di fomentare l’odio sociale cont...</td>\n    </tr>\n    <tr>\n      <th>26302</th>\n      <td>Estonia: il governo decide di rimuovere tutti ...</td>\n      <td>Estonia: il governo decide di rimuovere tutti ...</td>\n      <td>Il governo dell’Estonia ha deciso a favore del...</td>\n    </tr>\n    <tr>\n      <th>26301</th>\n      <td>Per Mosca dietro il Covid e il vaiolo delle sc...</td>\n      <td>Per Mosca dietro il Covid e il vaiolo delle sc...</td>\n      <td>AGI - L'esercito russo ritiene che dietro il C...</td>\n    </tr>\n    <tr>\n      <th>26294</th>\n      <td>Coinvolgere i boomerIl movimento per il clima ...</td>\n      <td>Coinvolgere i boomerIl movimento per il clima ...</td>\n      <td>Ok, boomer? L’idea potremmo tradurla così: rib...</td>\n    </tr>\n    <tr>\n      <th>2661</th>\n      <td>Spagna a braccia aperte, Madrid accoglie i mig...</td>\n      <td>Spagna a braccia aperte, Madrid accoglie i mig...</td>\n      <td>A braccia aperte. La Spagna è in trattativa co...</td>\n    </tr>\n  </tbody>\n</table>\n</div>"
     },
     "execution_count": 21,
     "metadata": {},
     "output_type": "execute_result"
    }
   ],
   "source": [
    "semeval_data_it.df[(semeval_data_it.df.title.str.len() > 150) & (semeval_data_it.df.title.str.contains('\\n'))]"
   ],
   "metadata": {
    "collapsed": false
   }
  },
  {
   "cell_type": "code",
   "execution_count": 22,
   "outputs": [
    {
     "name": "stdout",
     "output_type": "stream",
     "text": [
      "Coinvolgere i boomerIl movimento per il clima non può rimanere solo una storia di ragazzini\n",
      "75 milioni: è il numero di over 60 negli Stati Uniti. Sono più di tutta la popolazione italiana, votano in grandi numeri e possiedono i due terzi delle risorse finanziarie del Paese. È per questo che Bill McKibben ha fondato un nuovo movimento, chiamato Third Act, rivolto alla mobilitazione degli anziani\n"
     ]
    }
   ],
   "source": [
    "print(semeval_data_it.df.title[26294])"
   ],
   "metadata": {
    "collapsed": false
   }
  },
  {
   "cell_type": "markdown",
   "source": [
    "According to this [website](https://www.linkiesta.it/2022/07/third-act-anziani-attivismo-clima-ambiente/) the title is the first line"
   ],
   "metadata": {
    "collapsed": false
   }
  },
  {
   "cell_type": "code",
   "execution_count": 23,
   "outputs": [
    {
     "name": "stdout",
     "output_type": "stream",
     "text": [
      "Per Mosca dietro il Covid e il vaiolo delle scimmie potrebbero esserci gli Usa\n",
      "Il tenente comandante delle forze di protezione chimica, biologica contro le radiazioni della Difesa: \"L'impressione è che la pandemia sia artificialmente potenziata con nuove varianti rilasciate in una regione o nell'altra\"\n"
     ]
    }
   ],
   "source": [
    "print(semeval_data_it.df.title[26301])"
   ],
   "metadata": {
    "collapsed": false
   }
  },
  {
   "cell_type": "markdown",
   "source": [
    "According to this [website](https://www.agi.it/estero/news/2022-08-04/mosca-dietro-covid-vaiolo-scimmie-gli-usa-17660932/), again the title is the first line\n",
    "\n",
    "It stands to reason then that the following two steps should yield the right separation of title and content for Italian and English\n",
    "\n",
    " * Remove trailing whitespaces and breaklines\n",
    " * Separate on single breakline \"\\n\"\n",
    " * Remove trailing whitespaces and breaklines for title and content again\n"
   ],
   "metadata": {
    "collapsed": false
   }
  },
  {
   "cell_type": "code",
   "execution_count": 24,
   "outputs": [
    {
     "data": {
      "text/plain": "                                                raw_text  \\\nid                                                         \n2444   Владимир Путин: Наш долг – помнить, что на сов...   \n24180  Перечень недружественных России стран пополнил...   \n24172  Александра Архипова. Что будет, если в России ...   \n24177  Дугин впервые прокомментировал убийство дочери...   \n24173  Оскандалившаяся Трасс дала ряд обещаний избира...   \n2447   Посол Украины обвинил ФРГ в отсутствии должног...   \n2462   Эксперт предсказал реакцию России на попытки Н...   \n2480   Что на самом деле произошло в Кременчуге\\nВ ре...   \n24103  Зеленский последние новости\\nК 1 сентября Укра...   \n2463   Сдавшиеся военные батальона «Айдар» начали дав...   \n2481   Пастухов: «Решение, принятое Путиным и его окр...   \n24109  АРНО ХИДИРБЕГИШВИЛИ: ГРУЗИЯ ДОЛЖНА РАЗОРВАТЬ Д...   \n\n                                                   title  \\\nid                                                         \n2444   Владимир Путин: Наш долг – помнить, что на сов...   \n24180  Перечень недружественных России стран пополнил...   \n24172  Александра Архипова. Что будет, если в России ...   \n24177  Дугин впервые прокомментировал убийство дочери...   \n24173  Оскандалившаяся Трасс дала ряд обещаний избира...   \n2447   Посол Украины обвинил ФРГ в отсутствии должног...   \n2462   Эксперт предсказал реакцию России на попытки Н...   \n2480   Что на самом деле произошло в Кременчуге\\nВ ре...   \n24103  Зеленский последние новости\\nК 1 сентября Укра...   \n2463   Сдавшиеся военные батальона «Айдар» начали дав...   \n2481   Пастухов: «Решение, принятое Путиным и его окр...   \n24109  АРНО ХИДИРБЕГИШВИЛИ: ГРУЗИЯ ДОЛЖНА РАЗОРВАТЬ Д...   \n\n                                                 content  \nid                                                        \n2444   Владимир Путин много раз принимал Парад Победы...  \n24180  Российское правительство обновило перечень ино...  \n24172  В российской Госдуме готовят законопроект, сог...  \n24177  Философ Александр Дугин назвал терактом гибель...  \n24173  Глава британского МИД Лиз Трасс, с чьим именем...  \n2447   Власти Германии не оказывают украинским беженц...  \n2462   МОСКВА, 20 июн — РИА Новости. Гипотетические п...  \n2480   Российские чиновники сперва заявили, что это «...  \n24103  При этом он ссылается на собственные подсчеты,...  \n2463   Военнослужащие украинского батальона «Айдар», ...  \n2481   – В системе устройства России нет «хорошего ца...  \n24109  Арно Хидирбегишвили: «Становление Гарибашвили ...  ",
      "text/html": "<div>\n<style scoped>\n    .dataframe tbody tr th:only-of-type {\n        vertical-align: middle;\n    }\n\n    .dataframe tbody tr th {\n        vertical-align: top;\n    }\n\n    .dataframe thead th {\n        text-align: right;\n    }\n</style>\n<table border=\"1\" class=\"dataframe\">\n  <thead>\n    <tr style=\"text-align: right;\">\n      <th></th>\n      <th>raw_text</th>\n      <th>title</th>\n      <th>content</th>\n    </tr>\n    <tr>\n      <th>id</th>\n      <th></th>\n      <th></th>\n      <th></th>\n    </tr>\n  </thead>\n  <tbody>\n    <tr>\n      <th>2444</th>\n      <td>Владимир Путин: Наш долг – помнить, что на сов...</td>\n      <td>Владимир Путин: Наш долг – помнить, что на сов...</td>\n      <td>Владимир Путин много раз принимал Парад Победы...</td>\n    </tr>\n    <tr>\n      <th>24180</th>\n      <td>Перечень недружественных России стран пополнил...</td>\n      <td>Перечень недружественных России стран пополнил...</td>\n      <td>Российское правительство обновило перечень ино...</td>\n    </tr>\n    <tr>\n      <th>24172</th>\n      <td>Александра Архипова. Что будет, если в России ...</td>\n      <td>Александра Архипова. Что будет, если в России ...</td>\n      <td>В российской Госдуме готовят законопроект, сог...</td>\n    </tr>\n    <tr>\n      <th>24177</th>\n      <td>Дугин впервые прокомментировал убийство дочери...</td>\n      <td>Дугин впервые прокомментировал убийство дочери...</td>\n      <td>Философ Александр Дугин назвал терактом гибель...</td>\n    </tr>\n    <tr>\n      <th>24173</th>\n      <td>Оскандалившаяся Трасс дала ряд обещаний избира...</td>\n      <td>Оскандалившаяся Трасс дала ряд обещаний избира...</td>\n      <td>Глава британского МИД Лиз Трасс, с чьим именем...</td>\n    </tr>\n    <tr>\n      <th>2447</th>\n      <td>Посол Украины обвинил ФРГ в отсутствии должног...</td>\n      <td>Посол Украины обвинил ФРГ в отсутствии должног...</td>\n      <td>Власти Германии не оказывают украинским беженц...</td>\n    </tr>\n    <tr>\n      <th>2462</th>\n      <td>Эксперт предсказал реакцию России на попытки Н...</td>\n      <td>Эксперт предсказал реакцию России на попытки Н...</td>\n      <td>МОСКВА, 20 июн — РИА Новости. Гипотетические п...</td>\n    </tr>\n    <tr>\n      <th>2480</th>\n      <td>Что на самом деле произошло в Кременчуге\\nВ ре...</td>\n      <td>Что на самом деле произошло в Кременчуге\\nВ ре...</td>\n      <td>Российские чиновники сперва заявили, что это «...</td>\n    </tr>\n    <tr>\n      <th>24103</th>\n      <td>Зеленский последние новости\\nК 1 сентября Укра...</td>\n      <td>Зеленский последние новости\\nК 1 сентября Укра...</td>\n      <td>При этом он ссылается на собственные подсчеты,...</td>\n    </tr>\n    <tr>\n      <th>2463</th>\n      <td>Сдавшиеся военные батальона «Айдар» начали дав...</td>\n      <td>Сдавшиеся военные батальона «Айдар» начали дав...</td>\n      <td>Военнослужащие украинского батальона «Айдар», ...</td>\n    </tr>\n    <tr>\n      <th>2481</th>\n      <td>Пастухов: «Решение, принятое Путиным и его окр...</td>\n      <td>Пастухов: «Решение, принятое Путиным и его окр...</td>\n      <td>– В системе устройства России нет «хорошего ца...</td>\n    </tr>\n    <tr>\n      <th>24109</th>\n      <td>АРНО ХИДИРБЕГИШВИЛИ: ГРУЗИЯ ДОЛЖНА РАЗОРВАТЬ Д...</td>\n      <td>АРНО ХИДИРБЕГИШВИЛИ: ГРУЗИЯ ДОЛЖНА РАЗОРВАТЬ Д...</td>\n      <td>Арно Хидирбегишвили: «Становление Гарибашвили ...</td>\n    </tr>\n  </tbody>\n</table>\n</div>"
     },
     "execution_count": 24,
     "metadata": {},
     "output_type": "execute_result"
    }
   ],
   "source": [
    "semeval_data_ru.df[(semeval_data_ru.df.title.str.len() > 150) & (semeval_data_ru.df.title.str.contains('\\n'))]"
   ],
   "metadata": {
    "collapsed": false
   }
  },
  {
   "cell_type": "code",
   "execution_count": 25,
   "outputs": [
    {
     "name": "stdout",
     "output_type": "stream",
     "text": [
      "Владимир Путин: Наш долг – помнить, что на советский народ пришлась основная тяжесть борьбы с нацизмом\n",
      "Президент России принял Парад потомков Поколения победителей\n"
     ]
    }
   ],
   "source": [
    "print(semeval_data_ru.df.title[2444])"
   ],
   "metadata": {
    "collapsed": false
   }
  },
  {
   "cell_type": "code",
   "execution_count": 26,
   "outputs": [
    {
     "name": "stdout",
     "output_type": "stream",
     "text": [
      "Владимир Путин: Наш долг – помнить, что на советский народ пришлась основная тяжесть борьбы с нацизмом\n",
      "Президент России принял Парад потомков Поколения победителей\n",
      "\n",
      "Владимир Путин много раз принимал Парад Победы, но Парад в честь 75-летия победы в Великой Отечественной войне стал одним из самых сложных и ответственных для президента России. Эпидемия коронавируса сначала заставила сдвинуть дату проведения Парада, потом наложила сверхсложные ограничения, помешала очень многим из тех, кто хотел приехать на праздник из других стран. Но самого главного отменить она не смогла.\n",
      "\n",
      "- Поздравляю вас с 75-й годовщиной Победы в Великой Отечественной войне! Победы, которая определила будущее планеты на десятилетия вперёд и навсегда осталась в истории как самая грандиозная по своему масштабу, значению и по духовной, нравственной высоте, - обратился к собравшимся на Красной площади Путин.\n",
      "\n",
      "На одной трибуне с президентом России находились приехавшие в Москву президенты Абхазии, Белоруссии, Казахстана, Молдавии, Сербии, Таджикистана, Узбекистана, Южной Осетии.\n",
      "\n",
      "- Ровно 75 лет назад у стен Кремля состоялся легендарный парад победителей. Этот парад остался в истории как триумф невиданной силы, как торжество добра над злом, мира над войной, жизни над смертью, - заявил Путин. - Сегодня мы склоняем головы перед светлой памятью всех, кто не пришёл с войны.\n",
      "\n",
      "Традиционная минута молчания казалась невозможной на многотысячной Красной площади, но тем не менее на огромном пространстве установилась абсолютная тишина.\n",
      "\n",
      "- Мы всегда будем помнить, что нацизм сокрушил советский народ – миллионы людей разных национальностей из всех республик Советского Союза, - продолжил Путин. - На фронте и в тылу, в партизанских отрядах и в подполье они боролись и трудились по законам мужества и единства. Отстояв свою землю, продолжали сражаться. Освободили от захватчиков государства Европы, положили конец страшной трагедии Холокоста, спасли от нацизма, от его смертоносной идеологии народ Германии. И невозможно даже представить, что стало бы с миром – не встань на его защиту Красная Армия.\n",
      "\n",
      "Спустя 75 лет после окончания войны России приходится напоминать миру, кто спас его от гибели.\n",
      "\n",
      "- Наш долг – помнить, что на советский народ пришлась основная тяжесть борьбы с нацизмом. Именно наш народ смог одолеть страшное, тотальное зло, разгромил более 600 дивизий врага, уничтожил 75 процентов от общего числа самолётов, танков, артиллеристских орудий противника и до конца, до победной точки прошёл свой героический, праведный, беспредельно жертвенный путь. Сегодня ветераны Великой Отечественной войны живут в разных странах. Но невозможно разделить их единый, великий подвиг спасения целых народов от гибели, варварства и порабощения. Этот подвиг безо всякого преувеличения, является достоянием всего человечества.\n",
      "\n",
      "Президент пообещал, что Россия никогда не перестанет чтить память о совершенном подвиге.\n",
      "\n",
      "- Слава поколению, победившему нацизм! Слава героям Отечественной войны! - завершил свое выступление Путин.\n"
     ]
    }
   ],
   "source": [
    "print(semeval_data_ru.df.raw_text[2444])"
   ],
   "metadata": {
    "collapsed": false
   }
  },
  {
   "cell_type": "markdown",
   "source": [
    "For this [article](https://www.kp.ru/daily/27147/4241476/) it actually seems to be well parsed and that the second line of the title is in fact a subtitle"
   ],
   "metadata": {
    "collapsed": false
   }
  },
  {
   "cell_type": "code",
   "execution_count": 27,
   "outputs": [
    {
     "name": "stdout",
     "output_type": "stream",
     "text": [
      "АРНО ХИДИРБЕГИШВИЛИ: ГРУЗИЯ ДОЛЖНА РАЗОРВАТЬ ДИПОТНОШЕНИЯ С УКРАИНОЙ!\n",
      "   «Почему, несмотря на все сложности российско-грузинских отношений, премьер-министр Грузии Ираклий Гарибашвили в очередной раз подтвердил, что официальный Тбилиси будет сохранять нейтралитет относительно ситуации на Украине?» - спросил постоянный ведущий программы «Мнение» на телеканале «News Front» Алексей Давыдов Главного редактора информационно-аналитического агентства «Грузинформ» Арно Хидирбегишвили.\n",
      "\n",
      "Арно Хидирбегишвили: «Становление Гарибашвили как менеджера состоялось в бизнес-структуре миллиардера Бидзины Иванишвили, поэтому, став премьер-министром, он мыслит как бизнесмен, прагматичными категориями, в тоже время являясь патриотом своей страны и ответственным политиком. А главный принцип Бидзина Иванишвили после прихода в политику озвучил сам 1 ноября 2012 года, на своей первой пресс-конференции, и звучит он так: «Всё, что в интересах Грузии». Так ответил Иванишвили на вопрос журналиста - может ли Грузия в будущем вступить в Евразийский союз? Иванишвили, став премьер министром в 2013 году, не для того восстановил торговые, экономические и гуманитарные отношения с Россией, чтобы сейчас их прерывать!\n",
      "\n",
      "Да и как можно объявлять санкции самим себе?! Российский рынок - традиционный для грузинского экспорта, Россия - главный торговый партнёр Грузии, миллионы российских туристов и визитёров - Россия лидирует и по этой статье, одной из главных в госбюджете, пополняющий грузинскую госказну, транспортное сообщение с Россией, в том числе - транзит грузов и товаров через Грузию, денежные переводы из России в Грузию на полмиллиарда долларов в год - это всё из России, даже хлеб насущный мы кушем российский, ведь Россия - единственный поставщик зерна в Грузию! Так кто же пострадает от санкций - Грузия, или Россия?! Санкции - это же натуральный мазохизм!\n",
      "\n",
      "Радикальной оппозиции Саакашвили-Бурджанадзе в позапрошлом году уже удалась провокация с делегацией Гаврилова, из-за чего Грузия лишилась прямого авиасообщения с Россией, вот-вот должен был выйти Указ Президента РФ об отмене визового режима с Грузией, и это тоже сорвалось из-за словесного и физического оскорбления делегации Госдумы в Тбилиси! Грузия тогда чудом избежала войны с Россией, которую пыталась спровоцировать президент Зурабишвили, которая вместо того, чтобы осудить провокаторов Саакашвили, на утро после т.н. «Ночи Гаврилова» назвала Россию «врагом Грузии №1». В результате госбюджет Грузии понёс миллиардные убытки. Так осуществили крупнейшую экономическую диверсию против Грузии, но Зурабишвили не объявили импичмент по сей день, не арестовали, как ранее Саркози, Берлускони и многих европейских лидеров, и сегодня она, вместо того, чтобы давать показания следователю и рассказывать - на какую разведку работает и кем завербована, опять делать подрывные провокационные заявления против Грузии, её правительства, в ранге президента страны!\n",
      "\n",
      "Теперь это всё это начало восстанавливаться, туристы и визитёры потянулись в Грузию, скоро будет восстановлено и прямое авиасообщение с Россией, поэтому поступил приказ - срочно это всё бойкотировать! 4 апреля 2022 года Главное управление разведки ВСУ нанесла Грузии очередное оскорбление на государственном уровне, обвинив её в контрабанде и назвала её власть контрабандистами! В своём официальном заявлении украинская разведка обвиняет Грузию в «поставках крупной номенклатуры товаров военного, двойного и гражданского назначения» в Россию в обход международных санкций. «Чтобы обойти санкции, российские агенты налаживают каналы контрабанды, которые проходят, в частности, по территории Грузии. При этом представители грузинских спецслужб получили указание от политического руководства не препятствовать деятельности контрабандистов» - сказано в официальном заявление украинской военной разведки, в конце которого «мимоходом» сообщается об очередном готовящемся «преступлении» - восстановлении прямого авиасообщения между Россией и Грузией, якобы - в награду за контрабанду!\n",
      "\n",
      "Это - достаточный повод, чтобы любое уважающее себя государство А - послало протестную ноту в украинский МИД, Б - отозвало своего посла из Украины, В - объявило санкции против Украины, Г - прервало дипломатические отношения с Украиной. Украиной, которая с 2013 года является недружественным Грузии государством!\n",
      "\n",
      "Разве во время августовской войны 2008 года Украина объявила санкции России? Нет, и Запад не объявил! А почему сегодня это должна сделать Грузия из-за Украины?! Грузия после августовских событий прервала дипотношения с Россией и не восстановила по сей день, а Украина и сегодня, в разгар крупномасштабной войны, дипотношений с Россией на прерывает! Грузия по сей день придерживается курса на вступление в НАТО, а Украина уже объявила, что готова стать внеблоковой нейтральной страной. Да, НАТО - это блеф и провокация, но дело - в принципе: так кто же их предал, эти принципы? Грузия, или Украина? Так может, в Киеве, прежде чем обвинять Грузию, оборотятся на себя?!\n",
      "\n",
      "   А чем Украина в августе 2008 года помогла Грузии? Да, продала Грузии оружие, прислала инструкторов и наёмников, тоже не бесплатно! Экс-президент Саакашвили был объявлен в розыск Генпрокуратурой Грузии, которая посылала в Киев запросы о его экстрадиции в Грузию, а ему предоставили украинского гражданство и назначали на высокие госдолжности - советник президента, губернатор Одессы! А потом украинская разведка осуществила спецоперацию - контрабандно, в контейнере с молочными продуктами, забросили в Грузию гражданина Украины Саакашвили для организации госпереворота - свержения действующей законной власти Грузии в стиле «Евромайдана»! Грузия возбудила против Саакашвили очередное дело о незаконном пересечении грузинской границы, но до грузинской Саакашвили незаконно пересёк и украинскую границу! Если это не было спецоперацией украинской разведки, почему в Киеве по сей день не возбуждено уголовное дело против Саакашвили о незаконном пересечении украинской границы? Более того - Киев требует срочно вернуть Саакашвили на Украину! Так кто же после этого контрабандисты - грузинские спецслужбы и политики, как утверждается в заявлении украинской разведки, или сама украинская разведка и украинские политики, забросившие в Грузию Саакашвили контрабандным путём?!\n",
      "\n",
      "В прошлом году Грузия пошла навстречу киевской власти и стала членом двух антироссийских объединений - «Ассоциированного трио» вместе с Украиной и Молдовой, и «Крымской платформы». Премьер-министр Грузии Ираклий Гарибашвили лично прилетел в Киев на их презентацию и весь мир обратил внимание на его выступление, которые отличалось критикой в адрес России - несравненной более резкой, чем выступление самого президента Зеленского! Но на второй день грузинскому премьеру было нанесено неслыханно оскорбление - его пригласили на военный парад по случаю Дня независимости Незалежной, где находился заместитель президента Зеленского по реформам - осужденный грузинским судом и разыскиваемый грузинской прокуратурой обвиняемый во многих тяжких преступлениях против Грузии и человечности - Миша Саакашвили, который ежедневно оскорблял грузинскую власть рабами Путина! Конечно же, Гарибашвили сразу же развернулся и поехал в аэропорт, а на параде Саакашвили был в центре внимания, бегал от трибуны к трибуне, а потом фотографировался в обнимку с Варфоломеем и пел ему дифирамбы!\n",
      "\n",
      "   Грузия всегда поддерживала территориальную целостность Украины, а 24 февраля, после начала войны, Грузия подписалась под всеми антироссийскими петициями во всех международных организациях - ОБСЕ, ПАСЕ, ЕС, ООН. Грузия, со времён первой и второй АТО послала и посылает на Украину сотни тонн помощи, врачей, медикаменты, продовольствие, раненые украинские военные проходили лечение и реабилитацию в военных госпиталях и реабилитационных центрах Минобороны Грузии, и это все - бесплатно, по-братски! А ответ официальный Киев и президент Зеленский «уличили» Грузию в «контрабанде» и назвали «аморальной, которая не держат слова», отозвали из Грузии украинского посла - за то, что Грузия не присоединилась к экономической блокаде России и не прислала на Украину оружие и грузинскую регулярную армию! Ежедневно делегации преступников - бывших чиновников Саакашвили, в основном силовики высшего уровня и парламентарии - посещают Киев, встречаются с его администрацией Зеленского, выступают в Раде, на украинском телевидении, где призывают мир наказать Грузию! Так где же после этого «аморальные предатели» - в Киеве, или в Тбилиси?!\n",
      "\n",
      "Грузинские беженцы из Абхазии и Цхинвали по сей день живут в трущобах - в заброшенных аварийных зданиях школ и больниц, в антисанитарии, без воды и канализации, света и газа, в хибарках из фанеры в Церовани, потому что Саакашвили украл сотни миллионов евро помощи ЕС, на которые должны были построить приличные дома для беженцев! А украинцы сегодня живу в шикарных частных отелях в Тбилиси и Батуми, за которые платит грузинское государство - то есть, грузинский налогоплательщик, грузинский народ, сам испытывающий крайнюю нужду и не имеющий возможности купить еду и лекарства! Зато украинских беженцев кормят бесплатно выдали ваучеры на бесплатное получение лекарств в любой аптеке! В Грузии давно закрыли русские школы и факультеты вузов, даже единственный детсадик в Тбилиси, а украинцам мгновенно открыли украинские отделения в ВУЗах, выделили места в школьных классах и детских садах!\n",
      "\n",
      "Украина пригласила в Киев почти всех экс-высокопоставленных преступников из команды Саакашвили, обустроила и трудоустроила их, предоставив высшие должности в украинской власти! Филарет обласкал и благословил грузинских криминалов и бывших военных, наградив орденами за участие в широкомасштабной карательной операции против гражданского населения Донбасса! Скажите на милость - а какой была бы реакция Киева, если бы в Тбилиси приютили и обогрели Януковича или Азарова, которые, кстати, в отличии от Саакашвили и его подручных, не пытали и не убивали своих сограждан?!\n",
      "\n",
      "«Открыть второй фронт против России в Грузии, напасть на российскую военную базу в Абхазии!» - да как может друг вынуждать осуществить такую провокацию, тем более, когда у Грузии и так 20 процентов территории потеряны?! Южная Осетия, Абхазия, опять - Южная Осетия, Ирак и Афганистан, а ещё - т.н. «Тбилисская война» - что, кроме гробов, получила Грузия от всех этих войн?! А миллионная грузинская диаспора в России сразу же станет заложником, если Тбилиси объявит антироссийские санкции и проведёт безответственную политику, об этом кто-то подумал?! Да и что за военную мощь может противопоставить Грузия России?!\n",
      "\n",
      "Впрочем, Украина не заслуживает благодарности даже от сторонников Саакашвили – вспомните, как обошлась киевская власть с экс-президентом Грузии и боевиками «Грузинского легиона», проливавшими за неё кровь на Донбассе - Саакашвили таскали за волосы и выкинули из Украины, лишив гражданства, а «Грузинский легион» расформировали и выдворили, не предоставив даже гражданства! Некоторые из них сегодня за деньги стреляют в русских, украинцев, белорусов, в чеченцев, но когда на Украине ликвидируют неофашистов, разве их не спросят – дорогие грузины, а зачем вы в нас стреляли? Два славянских народа выясняли отношения, а вы куда лезли, ребята?! Что мы ответим украинцам, белорусам, нашим соседям русским чеченцам?! Любой гражданин Грузии, по Закону о гражданстве (статья 21, пункт 1 подпункт «а»), автоматически теряет грузинское гражданство, если без разрешения компетентных органов Грузии воюет в составе вооружённых сил, или служит в спецслужбах другой страны. Поэтому все грузины-фашисты, воюющие сегодня на Украине, должны быть арестованы при попытке проникновения в Грузию. Очень надеюсь, что премьер Гарибашвили отдаст распоряжение грузинским пограничникам исполнить Закон!\n",
      "\n",
      "   И последнее: посол США в Грузии Дегнан и посол ЕС Харцель, внук генерала вермахта Шольц и (п)резидент Грузии Зурабишвили - это убогие с рождения люди, их родина - не Грузия! Саломе с соломой вместо мозгов дошла уже до того, что оскорбляет не только Россию, русских и их Президента, но и РПЦ и её Предстоятеля, а также открыто выступает против Предстоятеля ГПЦ и вмешивает в дела Церкви невзирая на Конкордат! Но грузины никогда не простят Киеву давление, которое было оказано на находящегося в глубоко почтенном возрасте и испытывающем физическую немощь Католикос-Патриарха всея Грузии Илию Второго, дабы он признал томос Варфоломея Стамбульского для «Новой украинской церкви»! Святой Синод ГПЦ, за исключением некоторых предателей полит-митрополитов, встал рядом со своим Патриархом не признал автокефалию раскольничьей лже-церкви!\n"
     ]
    }
   ],
   "source": [
    "print(semeval_data_ru.df.raw_text[24109])\n"
   ],
   "metadata": {
    "collapsed": false
   }
  },
  {
   "cell_type": "markdown",
   "source": [
    "Russian articles are well parsed and usually a breakline indicates the presence of a subtitle (was often the case for the articles in the previous list). For russian, the previous preprocessing of the other two languages is not as much a necessity, though it still separates title from subtitle"
   ],
   "metadata": {
    "collapsed": false
   }
  },
  {
   "cell_type": "markdown",
   "source": [
    "## Check for other long titles and verify further quality of parsing"
   ],
   "metadata": {
    "collapsed": false
   }
  },
  {
   "cell_type": "code",
   "execution_count": 45,
   "outputs": [
    {
     "data": {
      "text/plain": "                                                       title\nid                                                          \n787142429  Brett Kavanaugh accused in letter obtained by ...\n999000135  CNN's Don Lemon Contradicts Himself In Just On...\n999000133  Don Lemon Is Lying... Again: Biggest Threat Is...\n786527921  ‘Silent Donation’: Corporate Emails Reveal Goo...\n761968851  National Data | December Jobs—TRUMP EFFECT! Am...\n718312499  New Footage From Las Vegas Massacre Reveals Po...\n703806098  There Were “Active Shooters On The Runway” Bom...\n788626289  ‘Emotional And Physical Abuse’: Muslim Brother...\n706636401  Newly Released Private Surveillance Footage Fr...\n724095598  “Credible Evidence Of A Terrorist Infiltration...\n999001280  Hey, Self Proclaimed \"Fact Checkers\" and Mains...\n777785889  2 Men, Moms Arrested After Child Found Dead, 1...\n703698295  SO MUCH FOR MERCY & DIALOGUE: Member of Vatica...\n779309765  Unbelievable! Sharia New Mexico: Islamic compo...\n727497152  Las Vegas Massacre Coverup: Clark County Coron...\n111111113  Kate Steinle's death at the hands of a Mexican...\n794141509  Coordinated Alternative Media Purge Should TER...",
      "text/html": "<div>\n<style scoped>\n    .dataframe tbody tr th:only-of-type {\n        vertical-align: middle;\n    }\n\n    .dataframe tbody tr th {\n        vertical-align: top;\n    }\n\n    .dataframe thead th {\n        text-align: right;\n    }\n</style>\n<table border=\"1\" class=\"dataframe\">\n  <thead>\n    <tr style=\"text-align: right;\">\n      <th></th>\n      <th>title</th>\n    </tr>\n    <tr>\n      <th>id</th>\n      <th></th>\n    </tr>\n  </thead>\n  <tbody>\n    <tr>\n      <th>787142429</th>\n      <td>Brett Kavanaugh accused in letter obtained by ...</td>\n    </tr>\n    <tr>\n      <th>999000135</th>\n      <td>CNN's Don Lemon Contradicts Himself In Just On...</td>\n    </tr>\n    <tr>\n      <th>999000133</th>\n      <td>Don Lemon Is Lying... Again: Biggest Threat Is...</td>\n    </tr>\n    <tr>\n      <th>786527921</th>\n      <td>‘Silent Donation’: Corporate Emails Reveal Goo...</td>\n    </tr>\n    <tr>\n      <th>761968851</th>\n      <td>National Data | December Jobs—TRUMP EFFECT! Am...</td>\n    </tr>\n    <tr>\n      <th>718312499</th>\n      <td>New Footage From Las Vegas Massacre Reveals Po...</td>\n    </tr>\n    <tr>\n      <th>703806098</th>\n      <td>There Were “Active Shooters On The Runway” Bom...</td>\n    </tr>\n    <tr>\n      <th>788626289</th>\n      <td>‘Emotional And Physical Abuse’: Muslim Brother...</td>\n    </tr>\n    <tr>\n      <th>706636401</th>\n      <td>Newly Released Private Surveillance Footage Fr...</td>\n    </tr>\n    <tr>\n      <th>724095598</th>\n      <td>“Credible Evidence Of A Terrorist Infiltration...</td>\n    </tr>\n    <tr>\n      <th>999001280</th>\n      <td>Hey, Self Proclaimed \"Fact Checkers\" and Mains...</td>\n    </tr>\n    <tr>\n      <th>777785889</th>\n      <td>2 Men, Moms Arrested After Child Found Dead, 1...</td>\n    </tr>\n    <tr>\n      <th>703698295</th>\n      <td>SO MUCH FOR MERCY &amp; DIALOGUE: Member of Vatica...</td>\n    </tr>\n    <tr>\n      <th>779309765</th>\n      <td>Unbelievable! Sharia New Mexico: Islamic compo...</td>\n    </tr>\n    <tr>\n      <th>727497152</th>\n      <td>Las Vegas Massacre Coverup: Clark County Coron...</td>\n    </tr>\n    <tr>\n      <th>111111113</th>\n      <td>Kate Steinle's death at the hands of a Mexican...</td>\n    </tr>\n    <tr>\n      <th>794141509</th>\n      <td>Coordinated Alternative Media Purge Should TER...</td>\n    </tr>\n  </tbody>\n</table>\n</div>"
     },
     "execution_count": 45,
     "metadata": {},
     "output_type": "execute_result"
    }
   ],
   "source": [
    "pd.DataFrame(semeval_data.df.title[semeval_data.df.title.str.len().between(120, max_title_length)])"
   ],
   "metadata": {
    "collapsed": false
   }
  },
  {
   "cell_type": "code",
   "execution_count": 29,
   "outputs": [
    {
     "data": {
      "text/plain": "'CNN\\'s Don Lemon Contradicts Himself In Just One Sentence: \"We Have to Stop Demonizing People ... White Men, Most Of Them Radicalized\"'"
     },
     "execution_count": 29,
     "metadata": {},
     "output_type": "execute_result"
    }
   ],
   "source": [
    "semeval_data.df.title[999000135]"
   ],
   "metadata": {
    "collapsed": false
   }
  },
  {
   "cell_type": "code",
   "execution_count": 30,
   "outputs": [
    {
     "name": "stdout",
     "output_type": "stream",
     "text": [
      "CNN's Don Lemon Contradicts Himself In Just One Sentence: \"We Have to Stop Demonizing People ... White Men, Most Of Them Radicalized\"\n",
      "\n",
      "Talk about an absolute hypocrite! However, it comes as no surprise from a hypocrite who works for a hypocritical, lying, fake news outlet like CNN. Don Lemon wanted to defend the \"peaceful\" migrants who are headed toward the US border to illegally enter the country against our immigration laws, but said that the \"biggest terror threat in this country is white men, most of them radicalized to the right.\" How can he contradict himself like that and not even bat an eyelid?\n",
      "In discussing the arrival of these migrants who obviously gotten incredible help along the way, busted through customs gates, and pushed at the Mexican border while committing all sorts of crimes against many they come in contact with along the way, Lemon said what is clearly not only racist but utterly insane.\n",
      "\"We have to stop demonizing people and realize the biggest terror threat in this country is white men, most of them radicalized to the right, and we have to start doing something about them,” Lemon said. “There is no travel ban on them… there is no white guy ban.”\n",
      "take our poll - story continues below\n",
      "Should military force be used to stop the caravan of migrants marching toward the U.S. border? Should military force be used to stop the caravan of migrants marching toward the U.S. border?\n",
      "Should military force be used to stop the caravan of migrants marching toward the U.S. border? * Yes, military force should be used. No, keep the military out of it.\n",
      "Email *\n",
      "Phone This field is for validation purposes and should be left unchanged. Completing this poll grants you access to Freedom Outpost updates free of charge. You may opt out at anytime. You also agree to this site's Privacy Policy and Terms of Use.\n",
      "He then said people need to stop thinking these people are a threat.\n",
      "“I keep trying to point out to people not to demonize any one group or any one ethnicity, but we keep thinking the biggest terror threat is something else,” Lemon said.\n",
      "No one is demonizing an ethnicity but Don Lemon. He is the one demonizing white men. How's that for hypocrisy? He's a useful idiot, propagandist snowflake.\n",
      "Demonizing the ideology behind Islamic jihad is not an ethnic issue. It's an ideological one that spans cultures, just like Don Lemon's and Chris Cuomo's statism.\n",
      "Demonizing those intent on violating the law and have demonstrated that they are doing it along the way and declaring that we will not allow such persons across our border is simply common sense, but you won't get common sense on CNN.\n",
      "Don Lemon thinks things like this, are just fine, and wants these people in the US. He just doesn't want white men here. There, I said it!\n",
      "Article posted with permission from The Washington Standard\n",
      "\n",
      "\n"
     ]
    }
   ],
   "source": [
    "print(semeval_data.df.raw_text[999000135])"
   ],
   "metadata": {
    "collapsed": false
   }
  },
  {
   "cell_type": "code",
   "execution_count": 31,
   "outputs": [
    {
     "data": {
      "text/plain": "'Don Lemon Is Lying... Again: Biggest Threat Isn\\'t \"White Men\" - The FBI\\'s Most Wanted Domestic Terrorists Are These People'"
     },
     "execution_count": 31,
     "metadata": {},
     "output_type": "execute_result"
    }
   ],
   "source": [
    "semeval_data.df.title[999000133]"
   ],
   "metadata": {
    "collapsed": false
   }
  },
  {
   "cell_type": "code",
   "execution_count": 32,
   "outputs": [
    {
     "name": "stdout",
     "output_type": "stream",
     "text": [
      "Don Lemon Is Lying... Again: Biggest Threat Isn't \"White Men\" - The FBI's Most Wanted Domestic Terrorists Are These People\n",
      "\n",
      "“So, we have to stop demonizing people and realize the biggest terror threat in this country is white men, most of them radicalized to the right. And we have to start doing something about them. There is no travel ban on them. There is no ban on — they had the Muslim ban. There is no white guy ban. So, what do we do about that?” –Don Lemon\n",
      "Just to illustrate the absurdity of Don Lemon’s comments, I thought it would be fun to go look at the current list of the FBI’s most wanted terrorists. Below is the list of “domestic” terrorists and, regardless of the list/filter you choose, you won’t find many “white men”.\n",
      "Interestingly enough, it looks like the WOMEN in this country are currently responsible for more terrorism than WHITE MEN. Mr. Lemon, you are very wrong.\n",
      "Below are the 14 profiles currently listed as the “Most Wanted Domestic Terrorists”\n",
      "take our poll - story continues below\n",
      "Should military force be used to stop the caravan of migrants marching toward the U.S. border? Should military force be used to stop the caravan of migrants marching toward the U.S. border?\n",
      "Should military force be used to stop the caravan of migrants marching toward the U.S. border? * Yes, military force should be used. No, keep the military out of it.\n",
      "Email *\n",
      "Comments This field is for validation purposes and should be left unchanged. Completing this poll grants you access to Freedom Outpost updates free of charge. You may opt out at anytime. You also agree to this site's Privacy Policy and Terms of Use.\n",
      "\n",
      "5 women. 3 Hispanic men. 3 black men (one with an Arabic/possibly Islamic surname), and 3 white guys.\n",
      "14 total and only 3 white men?\n",
      "Is Don Lemon colorblind?\n",
      "Is the FBI racist (and maybe a bit sexist)?\n",
      "Nah, it’s just CNN doing what CNN does… spewing more fake news for your viewing pleasure.\n",
      "Go to https://www.fbi.gov/wanted/terrorism and see for yourself. No matter which category you choose, you won’t be finding many white men.\n",
      "Article posted with permission from Dean Garrison\n",
      "\n",
      "\n"
     ]
    }
   ],
   "source": [
    "print(semeval_data.df.raw_text[999000133])"
   ],
   "metadata": {
    "collapsed": false
   }
  },
  {
   "cell_type": "code",
   "execution_count": 33,
   "outputs": [
    {
     "data": {
      "text/plain": "'Hey, Self Proclaimed \"Fact Checkers\" and Mainstream Media, Let\\'s Not Let That Jim Acosta Propaganda You\\'re Putting Out Go So Fast!'"
     },
     "execution_count": 33,
     "metadata": {},
     "output_type": "execute_result"
    }
   ],
   "source": [
    "semeval_data.df.title[999001280]"
   ],
   "metadata": {
    "collapsed": false
   }
  },
  {
   "cell_type": "code",
   "execution_count": 34,
   "outputs": [
    {
     "name": "stdout",
     "output_type": "stream",
     "text": [
      "Hey, Self Proclaimed \"Fact Checkers\" and Mainstream Media, Let's Not Let That Jim Acosta Propaganda You're Putting Out Go So Fast!\n",
      "\n",
      "Notice how quickly the drive-by media and self-proclaimed \"fact checkers\" gunned down the Trump administration and Infowars with their lying propaganda over the video that was enhanced, not doctored, to demonstrate that all of them and Jim Acosta are lying through their Communist teeth? Yep, I noticed too, and now they're trying to move on, but I'm gonna get in one last bit before we do.\n",
      "Of course, Infowars' Paul Joseph Watson simply enhanced the video from C-SPAN, which was a gif image (motion picture), in order to show the point of contact that the lying media and \"fact checkers\" said didn't occur.\n",
      "Watson then went on to be happy that President Trump backed him up on his comments about the video. Take a look, and as always, PJW is hilarious in his presentation.\n",
      "If they're prepared to lie this shamelessly, what else are they lying about? take our poll - story continues below Should Jim Acosta have gotten his press pass back? Should Jim Acosta have gotten his press pass back?\n",
      "Should Jim Acosta have gotten his press pass back? * Yes, he should have gotten it back. No, you can't act like a child and keep your pass. Maybe? I'm not sure if he should have.\n",
      "Email *\n",
      "Name This field is for validation purposes and should be left unchanged. Completing this poll grants you access to Freedom Outpost updates free of charge. You may opt out at anytime. You also agree to this site's Privacy Policy and Terms of Use.SHARE: https://t.co/lP4GlbjJQM pic.twitter.com/iZUsXlZTLt — Paul Joseph Watson (@PrisonPlanet) November 12, 2018\n",
      "Steven Colbert, you're lying.\n",
      "Jimmy Kimmel, you're lying.\n",
      "CNN, you're lying.\n",
      "CNN's Jim Acosta told CNN's Anderson Cooper that he *never* touched the female White House aide that tried to take the mic away from him. CNN showed the clip but edited out the part where he clearly touched her. Cooper offered no pushback on Acosta's blatant lie. pic.twitter.com/65rP9xWWyI — Ryan Saavedra (@RealSaavedra) November 8, 2018\n",
      "Jim Acosta, you're lying.\n",
      "New York Times, you're lying.\n",
      "Every media outlet from the Associated Press to NBC, you're lying when you say the video was doctored and that Acosta didn't touch the woman. At least C-SPAN is neutral in the matter and simply let the video reprove every single one of them.\n",
      "But it's more than that, self-proclaimed \"fact checkers\" like Snopes simply posted an Associated Press article, which clearly biased towards indicating the video was \"doctored\" by saying it was sped up, but that's not doctoring.\n",
      "Doctoring is when you manipulate the content to misconstrue the reality of what took place. If you want to see doctoring, go to 0:58 of the video above, and don't be drinking anything when you do because it's hilarious.\n",
      "But it isn't just Snopes or Politifact and outlets like that.\n",
      "Take, for instance, websites like MediaBiasFactCheck.com, whom I had to have my attorneys send a letter for their libel and they didn't just correct it, they removed it entirely because they knew I was two days away from filing a lawsuit against them.\n",
      "MBFC actually called CNN \"left biased,\" which is correct but followed up with:\n",
      "Overall, we rate CNN left biased based on story selection that often favors the left. We rate them Mixed for factual reporting due to misinformation and failed fact checks from guests and pundits. However, CNN’s straight news reporting would earn a High rating for factual reporting. (5/16/2016) Updated (D. Van Zandt 6/15/2018)\n",
      "SStraight reporting? You must be kidding me? Did David Van Zandt not watch Jim Acosta lie to Anderson Cooper about this episode and Cooper just sat there and let him lie to the American people, editing the video to not even show the point of contact in question? Why yes, yes, he did!\n",
      "Not only that but it appears the MBFC doesn't know the documented history of CNN's complete fabrication of \"news,\" telling stories that never happened. MBFC isn't qualified to comment on the subject.It isn't just MBFC though. Newcomer NewsGuard also covers for CNN. This is supposed to be an outlet, at least what I was told in email and phone communication, that is simply to determine transparency of websites. Instead, they not only do that, but they go on to do far more than that. In rating CNN, NewsGuard posts this nonsense.\n",
      "I'm sure NewsGuard, Yemile Bucay, Anna-Sophie Harling and Amy Westfeldt need to update this in the light of the obvious lies and editing of the Acosta video and decades of documented, outright lies and propaganda by the Clown News Network, but you can't expect real transparency from an outlet like Newsguard whose writers aren't transparent about their own political bias, can you? Nope, you can't, and you can't expect it when some of those writers write for other publications that don't measure up to NewsGuard's standards either.\n",
      "The reason this little incident shouldn't be let go of so soon is that it is one of the clearest demonstrations of the media's bias, which we all have, lies and propaganda. It should be used over and over in article after article to remind people about the total dishonesty and complete disregard for reporting the facts by outlets such as CNN and to not blindly trust self-proclaimed fact-checkers who will not tell you the truth either.\n",
      "CNN has lost its mind to the point that they are suing over Acosta losing his press pass. He was their inside boy, after all.\n",
      "But the real irony here is that the media labeled Paul Joseph Watson and Infowars as \"conspiracy theorists\" and yet, PJW has exposed their blatant conspiracy to smear President Trump, Sarah Sanders and the White House aide.\n",
      "And Jim Acosta believes he and CNN deal with facts and Infowars doesn't. Yeah, right! I'm sorry Jim, I can't hear you over the booming voice of your hypocrisy!\n",
      "Article posted with permission from The Washington Standard\n",
      "\n",
      "\n"
     ]
    }
   ],
   "source": [
    "print(semeval_data.df.raw_text[999001280])"
   ],
   "metadata": {
    "collapsed": false
   }
  },
  {
   "cell_type": "markdown",
   "source": [
    "Everything seems ok"
   ],
   "metadata": {
    "collapsed": false
   }
  },
  {
   "cell_type": "markdown",
   "source": [
    "## Check for titles that contain breaklines (possibly badly parsed articles)"
   ],
   "metadata": {
    "collapsed": false
   }
  },
  {
   "cell_type": "code",
   "execution_count": 35,
   "outputs": [
    {
     "data": {
      "text/plain": "                                                    raw_text  \\\nid                                                             \n999000878  Las Vegas Shooting: A THIRD Timeline Emerges E...   \n698092698  Las Vegas Shooting: A THIRD Timeline Emerges E...   \n725824328  America's Immigration Voice. From TPM: The Pho...   \n\n                                                       title  \\\nid                                                             \n999000878  Las Vegas Shooting: A THIRD Timeline Emerges E...   \n698092698  Las Vegas Shooting: A THIRD Timeline Emerges E...   \n725824328  America's Immigration Voice. From TPM: The Pho...   \n\n                                                     content  \nid                                                            \n999000878                                               None  \n698092698                                                 \\n  \n725824328  Asked whether he thought the photo’s release w...  ",
      "text/html": "<div>\n<style scoped>\n    .dataframe tbody tr th:only-of-type {\n        vertical-align: middle;\n    }\n\n    .dataframe tbody tr th {\n        vertical-align: top;\n    }\n\n    .dataframe thead th {\n        text-align: right;\n    }\n</style>\n<table border=\"1\" class=\"dataframe\">\n  <thead>\n    <tr style=\"text-align: right;\">\n      <th></th>\n      <th>raw_text</th>\n      <th>title</th>\n      <th>content</th>\n    </tr>\n    <tr>\n      <th>id</th>\n      <th></th>\n      <th></th>\n      <th></th>\n    </tr>\n  </thead>\n  <tbody>\n    <tr>\n      <th>999000878</th>\n      <td>Las Vegas Shooting: A THIRD Timeline Emerges E...</td>\n      <td>Las Vegas Shooting: A THIRD Timeline Emerges E...</td>\n      <td>None</td>\n    </tr>\n    <tr>\n      <th>698092698</th>\n      <td>Las Vegas Shooting: A THIRD Timeline Emerges E...</td>\n      <td>Las Vegas Shooting: A THIRD Timeline Emerges E...</td>\n      <td>\\n</td>\n    </tr>\n    <tr>\n      <th>725824328</th>\n      <td>America's Immigration Voice. From TPM: The Pho...</td>\n      <td>America's Immigration Voice. From TPM: The Pho...</td>\n      <td>Asked whether he thought the photo’s release w...</td>\n    </tr>\n  </tbody>\n</table>\n</div>"
     },
     "execution_count": 35,
     "metadata": {},
     "output_type": "execute_result"
    }
   ],
   "source": [
    "semeval_data.df[semeval_data.df.title.str.contains('\\n')]"
   ],
   "metadata": {
    "collapsed": false
   }
  },
  {
   "cell_type": "markdown",
   "source": [
    "The only ones that have breaklines are the ones we had already identified"
   ],
   "metadata": {
    "collapsed": false
   }
  },
  {
   "cell_type": "markdown",
   "source": [
    "# Check if there is a pattern of paragraph structure"
   ],
   "metadata": {
    "collapsed": false
   }
  },
  {
   "cell_type": "markdown",
   "source": [
    "It seems like each breakline follows the paragraph structure of the source document and how it is presented in the website. However, there are some issues with this parsing and the pattern not always holds:"
   ],
   "metadata": {
    "collapsed": false
   }
  },
  {
   "cell_type": "markdown",
   "source": [
    "### Do breaklines identifyy separate paragraphs\n",
    "\n",
    "This seems to be the case for the following examples\n",
    "\n",
    "   * [765982381](https://www.newagebd.net/print/article/43964)\n",
    "   * [725276027](https://vdare.com/posts/kritarchs-patti-saris-and-mark-goldsmith-sabotage-immigration-enforcement)\n",
    "   * [738542398](https://theintercept.com/2017/02/02/trumps-cia-chief-selects-major-torture-operative-to-be-agencys-deputy-director/)\n",
    "   * Correct but first paragraph is not really a paragraph [765029945](https://bluntforcetruth.com/news/stop-comparing-immigration-enforcement-to-the-holocaust/)\n",
    "\n",
    "\n",
    "It is not the case for the following examples\n",
    "   * [765385479](https://www.wsws.org/en/articles/2018/06/19/john-j19.html)\n",
    "   * [832959523](https://www.moonofalabama.org/2019/03/how-theresa-may-botched-brexit.html): Again, a weird parsing or separation of sentences\n",
    "   * [999000878](https://investortimes.com/freedomoutpost/las-vegas-shooting-third-timeline-emerges/): Terrible parsing of sentences and paragraphs"
   ],
   "metadata": {
    "collapsed": false
   }
  },
  {
   "cell_type": "markdown",
   "source": [
    "A solution when we need the whole paragraph would be to merge the first two paragraphs when the first one is only one sentece long and that sentence is short."
   ],
   "metadata": {
    "collapsed": false
   }
  },
  {
   "cell_type": "markdown",
   "source": [
    "### Document has the wrong order\n",
    "\n",
    "Compare the document in the [website](https://vdare.com/posts/impeach-kritarch-patti-saris-for-illegally-trying-to-stop-deportations) and the one in the dataset."
   ],
   "metadata": {
    "collapsed": false
   }
  },
  {
   "cell_type": "code",
   "execution_count": 41,
   "outputs": [
    {
     "name": "stdout",
     "output_type": "stream",
     "text": [
      "America's Immigration Voice.\n",
      "\n",
      "Kritarch Patti Saris is in the news again. She is one of many Federal District Court Judges who want to run immigration policy, despite the fact that the Constitution gives authority over immigration to Congress, and Congress has allocated considerable authority to the President. This writer exposed her attempted violation of the Constitution after she initially stopped the deportation of a number of Indonesians back to Indonesia as she saw it unjust and decided to substitute her moral judgment for the laws of the United States.\n",
      "Kritarch Patti Saris\n",
      "Federal courts do not have direct authority over immigration matters, which are handled by the Executive Office for Immigration Review, but Chief Judge Patti Saris of the US District Court in Boston wrote in a court filing on Wednesday that she has a say over the terms of his confinement. US Judge Rejects Bid to Dismiss Indonesian Immigrant's Lawsuit, Jakarta Globe/Reuters, October 25, 2017\n",
      "\"The district court holds jurisdiction to review habeas [corpus] challenges to unlawful immigration detention,\" Saris wrote. Writs of habeas corpus challenge illegal detention. At a Friday hearing, Saris expressed concern that ICE had broken its word with Rombot after telling him in 2015 that he would \"be given an opportunity to prepare for an orderly departure\" before being deported. She also expressed concern he was being held alongside potentially violent criminals.\n",
      "Her problem though was that the law and precedent are on the side of the continued deportation of aliens. Kritarch Saris has apparently seen the SCOTUS writing on the wall, and perhaps had an attack of her legal conscience and decided that she will acquiesce on the major issue, but fight on a minor issue. Commonly this the pattern of Judges who don't want to be overruled as frequently as 9th Circuit Judges do. Saris has apparently decided to bend to the inevitable in the case of Indonesians, who had years of hearings and appeals, all to naught, but do a little sabotage instead.However, she will not let it go quietly into the night.What we have here is that Saris realized she has no authority over the deportation of illegal aliens, but she will do her best to throw a wrench in the works by attempting to get illegal aliens released from custody, so they can then disappear into the United States and consequently not be deported.\n",
      "(a) Arrest, detention, and release On a warrant issued by the Attorney General, an alien may be arrested and detained pending a decision on whether the alien is to be removed from the United States. Except as provided in subsection (c) and pending such decision, the Attorney General—(1) may continue to detain the arrested alien\n",
      "One of the immigrants, Terry Helmuth Rombot, has been in federal custody since appearing for an August check-in. Lawyers submitted a letter to him from ICE saying that as part of the 2010 deal he would be allowed to leave the country in an “orderly” way. “ICE decided that the most orderly way for him to depart was for us to remove him,” Stevens said. Saris expressed a dim view of that move. “The government broke a promise,” Saris said. “That’s the thing I‘m concerned about here.” U.S. Judge Wrestles With Issue Of Indonesian Immigrants, by Scott Malone, Reuters, October 20, 2017\n",
      "However, the law is quite clear, the United States has the authority to detain illegal aliens; T itle 8 of the United States Code, Section 1226, Arrest And Detention Of Aliens , gives such authority to the Executive Branch.And despite her realization that she has no authority over immigration policy, or that she will just be overruled, Saris again reaches, basing her assumption of authority over immigration based on the past Obama Regime Administrative Amnesty , when illegal aliens weren't deported.Kritarch Saris is in the wrong on both counts; she has neither authority over the detention of illegal aliens nor any authority to continue the Obama Regime Administrative Amnesty. She is like Derrick Kahala Watson , a treasonous kritarch, unwilling to submit her hunger for power and ideology to the Constitution and the law. Impeachment for her and Watson is the solution.\n",
      "\n",
      "\n"
     ]
    }
   ],
   "source": [
    "print(semeval_data.df.loc[702111021].raw_text)"
   ],
   "metadata": {
    "collapsed": false
   }
  },
  {
   "cell_type": "markdown",
   "source": [
    "The paragraphs are clearly out of order and the title was not parsed. It is possible this website had a different structure resulting in the wrong parsing of the article. The same holds for all articles of that website:\n",
    "\n",
    " - [730019938](https://vdare.com/posts/suspect-in-westerville-oh-murder-of-two-white-cops-named-as-quentin-lamar-smith-apparently-black)\n",
    " - [725276027](https://vdare.com/posts/kritarchs-patti-saris-and-mark-goldsmith-sabotage-immigration-enforcement)\n",
    " - [711716996](https://vdare.com/posts/patti-saris-strikes-again-indonesian-illegals-who-have-been-here-since-the-90s-get-to-say)"
   ],
   "metadata": {
    "collapsed": false
   }
  }
 ],
 "metadata": {
  "kernelspec": {
   "display_name": "Python 3",
   "language": "python",
   "name": "python3"
  },
  "language_info": {
   "codemirror_mode": {
    "name": "ipython",
    "version": 2
   },
   "file_extension": ".py",
   "mimetype": "text/x-python",
   "name": "python",
   "nbconvert_exporter": "python",
   "pygments_lexer": "ipython2",
   "version": "2.7.6"
  }
 },
 "nbformat": 4,
 "nbformat_minor": 0
}
