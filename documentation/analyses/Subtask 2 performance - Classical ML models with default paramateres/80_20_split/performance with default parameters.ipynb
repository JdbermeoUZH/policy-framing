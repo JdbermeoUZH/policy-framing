{
 "cells": [
  {
   "cell_type": "code",
   "execution_count": 1,
   "id": "ac7fd1c8-16ff-43f2-a049-a27d37ea2653",
   "metadata": {},
   "outputs": [],
   "source": [
    "import os\n",
    "import glob\n",
    "\n",
    "from IPython.display import display, Markdown\n",
    "import pandas as pd"
   ]
  },
  {
   "cell_type": "markdown",
   "id": "0e3de210-17ae-42af-a361-fff5a0f66735",
   "metadata": {},
   "source": [
    "# Group types of models (experiment type and model type) and pick best performing in terms of f1-score per unit of analysis and report them in a table\n"
   ]
  },
  {
   "cell_type": "code",
   "execution_count": 2,
   "id": "fd704f0c-6f9a-47d2-b05b-150230e363d7",
   "metadata": {},
   "outputs": [],
   "source": [
    "df_filepaths = glob.glob('./experiment_results/*.csv')"
   ]
  },
  {
   "cell_type": "code",
   "execution_count": 3,
   "id": "052e0fec-9ad0-470c-9cd4-8d276e0b83e4",
   "metadata": {},
   "outputs": [],
   "source": [
    "exps_df = pd.concat([pd.read_csv(df_filepath) for df_filepath in df_filepaths])"
   ]
  },
  {
   "cell_type": "code",
   "execution_count": 4,
   "outputs": [
    {
     "data": {
      "text/plain": "   language           unit_of_analysis        model_type        model_subtype  \\\n0        ru  title_and_first_paragraph  Dummy Classifier        No Upsampling   \n1        ru  title_and_first_paragraph  Dummy Classifier        No Upsampling   \n2        ru  title_and_first_paragraph  Dummy Classifier        No Upsampling   \n3        ru  title_and_first_paragraph               KNN      BorderlineSMOTE   \n4        ru  title_and_first_paragraph               KNN        No Upsampling   \n..      ...                        ...               ...                  ...   \n56       en      title_and_5_sentences           XGBoost      BorderlineSMOTE   \n57       en      title_and_5_sentences           XGBoost        No Upsampling   \n58       en      title_and_5_sentences           XGBoost  Random Oversampling   \n59       en      title_and_5_sentences           XGBoost                SMOTE   \n60       en      title_and_5_sentences           XGBoost             SVMSMOTE   \n\n                        model_name  train_f1_micro  train_f1_macro  \\\n0                DummyProbSampling        0.232641        0.177376   \n1             DummyUniformSampling        0.312392        0.263638   \n2                DummyMostFrequent        0.000000        0.000000   \n3              kNN_BorderlineSMOTE        0.411710        0.357731   \n4                              kNN        0.237011        0.146046   \n..                             ...             ...             ...   \n56  XGBoost_narrow_BorderlineSMOTE        1.000000        1.000000   \n57                  XGBoost_narrow        1.000000        1.000000   \n58              XGBoost_narrow_ROS        1.000000        1.000000   \n59            XGBoost_narrow_SMOTE        1.000000        1.000000   \n60         XGBoost_narrow_SVMSMOTE        1.000000        1.000000   \n\n    train_accuracy  train_precision_micro  train_precision_macro  \\\n0         0.000000               0.232823               0.178356   \n1         0.000000               0.239906               0.189308   \n2         0.000000               0.000000               0.000000   \n3         0.000000               0.280950               0.249591   \n4         0.150327               0.369253               0.279661   \n..             ...                    ...                    ...   \n56        1.000000               1.000000               1.000000   \n57        1.000000               1.000000               1.000000   \n58        1.000000               1.000000               1.000000   \n59        1.000000               1.000000               1.000000   \n60        1.000000               1.000000               1.000000   \n\n    train_recall_micro  train_recall_macro  test_f1_micro  test_f1_macro  \\\n0             0.234987            0.178365       0.188977       0.134921   \n1             0.522193            0.531628       0.272470       0.215776   \n2             0.000000            0.000000       0.000000       0.000000   \n3             0.934726            0.864706       0.347942       0.254417   \n4             0.232376            0.139411       0.140206       0.085776   \n..                 ...                 ...            ...            ...   \n56            1.000000            1.000000       0.603388       0.392899   \n57            1.000000            1.000000       0.602439       0.387458   \n58            1.000000            1.000000       0.610316       0.404632   \n59            1.000000            1.000000       0.606402       0.404920   \n60            1.000000            1.000000       0.615338       0.406356   \n\n    test_accuracy  test_precision_micro  test_precision_macro  \\\n0        0.000000              0.184040              0.125521   \n1        0.000000              0.210352              0.155106   \n2        0.000000              0.000000              0.000000   \n3        0.000000              0.224870              0.160999   \n4        0.026316              0.281469              0.202948   \n..            ...                   ...                   ...   \n56       0.038835              0.659811              0.450338   \n57       0.048544              0.660854              0.451528   \n58       0.019417              0.655220              0.470681   \n59       0.038835              0.651281              0.475135   \n60       0.058252              0.663579              0.461742   \n\n    test_recall_micro  test_recall_macro  \n0            0.209302           0.162075  \n1            0.476744           0.446939  \n2            0.000000           0.000000  \n3            0.837209           0.689031  \n4            0.104651           0.060629  \n..                ...                ...  \n56           0.567237           0.361105  \n57           0.574572           0.360803  \n58           0.589242           0.384710  \n59           0.586797           0.380137  \n60           0.584352           0.375791  \n\n[2156 rows x 19 columns]",
      "text/html": "<div>\n<style scoped>\n    .dataframe tbody tr th:only-of-type {\n        vertical-align: middle;\n    }\n\n    .dataframe tbody tr th {\n        vertical-align: top;\n    }\n\n    .dataframe thead th {\n        text-align: right;\n    }\n</style>\n<table border=\"1\" class=\"dataframe\">\n  <thead>\n    <tr style=\"text-align: right;\">\n      <th></th>\n      <th>language</th>\n      <th>unit_of_analysis</th>\n      <th>model_type</th>\n      <th>model_subtype</th>\n      <th>model_name</th>\n      <th>train_f1_micro</th>\n      <th>train_f1_macro</th>\n      <th>train_accuracy</th>\n      <th>train_precision_micro</th>\n      <th>train_precision_macro</th>\n      <th>train_recall_micro</th>\n      <th>train_recall_macro</th>\n      <th>test_f1_micro</th>\n      <th>test_f1_macro</th>\n      <th>test_accuracy</th>\n      <th>test_precision_micro</th>\n      <th>test_precision_macro</th>\n      <th>test_recall_micro</th>\n      <th>test_recall_macro</th>\n    </tr>\n  </thead>\n  <tbody>\n    <tr>\n      <th>0</th>\n      <td>ru</td>\n      <td>title_and_first_paragraph</td>\n      <td>Dummy Classifier</td>\n      <td>No Upsampling</td>\n      <td>DummyProbSampling</td>\n      <td>0.232641</td>\n      <td>0.177376</td>\n      <td>0.000000</td>\n      <td>0.232823</td>\n      <td>0.178356</td>\n      <td>0.234987</td>\n      <td>0.178365</td>\n      <td>0.188977</td>\n      <td>0.134921</td>\n      <td>0.000000</td>\n      <td>0.184040</td>\n      <td>0.125521</td>\n      <td>0.209302</td>\n      <td>0.162075</td>\n    </tr>\n    <tr>\n      <th>1</th>\n      <td>ru</td>\n      <td>title_and_first_paragraph</td>\n      <td>Dummy Classifier</td>\n      <td>No Upsampling</td>\n      <td>DummyUniformSampling</td>\n      <td>0.312392</td>\n      <td>0.263638</td>\n      <td>0.000000</td>\n      <td>0.239906</td>\n      <td>0.189308</td>\n      <td>0.522193</td>\n      <td>0.531628</td>\n      <td>0.272470</td>\n      <td>0.215776</td>\n      <td>0.000000</td>\n      <td>0.210352</td>\n      <td>0.155106</td>\n      <td>0.476744</td>\n      <td>0.446939</td>\n    </tr>\n    <tr>\n      <th>2</th>\n      <td>ru</td>\n      <td>title_and_first_paragraph</td>\n      <td>Dummy Classifier</td>\n      <td>No Upsampling</td>\n      <td>DummyMostFrequent</td>\n      <td>0.000000</td>\n      <td>0.000000</td>\n      <td>0.000000</td>\n      <td>0.000000</td>\n      <td>0.000000</td>\n      <td>0.000000</td>\n      <td>0.000000</td>\n      <td>0.000000</td>\n      <td>0.000000</td>\n      <td>0.000000</td>\n      <td>0.000000</td>\n      <td>0.000000</td>\n      <td>0.000000</td>\n      <td>0.000000</td>\n    </tr>\n    <tr>\n      <th>3</th>\n      <td>ru</td>\n      <td>title_and_first_paragraph</td>\n      <td>KNN</td>\n      <td>BorderlineSMOTE</td>\n      <td>kNN_BorderlineSMOTE</td>\n      <td>0.411710</td>\n      <td>0.357731</td>\n      <td>0.000000</td>\n      <td>0.280950</td>\n      <td>0.249591</td>\n      <td>0.934726</td>\n      <td>0.864706</td>\n      <td>0.347942</td>\n      <td>0.254417</td>\n      <td>0.000000</td>\n      <td>0.224870</td>\n      <td>0.160999</td>\n      <td>0.837209</td>\n      <td>0.689031</td>\n    </tr>\n    <tr>\n      <th>4</th>\n      <td>ru</td>\n      <td>title_and_first_paragraph</td>\n      <td>KNN</td>\n      <td>No Upsampling</td>\n      <td>kNN</td>\n      <td>0.237011</td>\n      <td>0.146046</td>\n      <td>0.150327</td>\n      <td>0.369253</td>\n      <td>0.279661</td>\n      <td>0.232376</td>\n      <td>0.139411</td>\n      <td>0.140206</td>\n      <td>0.085776</td>\n      <td>0.026316</td>\n      <td>0.281469</td>\n      <td>0.202948</td>\n      <td>0.104651</td>\n      <td>0.060629</td>\n    </tr>\n    <tr>\n      <th>...</th>\n      <td>...</td>\n      <td>...</td>\n      <td>...</td>\n      <td>...</td>\n      <td>...</td>\n      <td>...</td>\n      <td>...</td>\n      <td>...</td>\n      <td>...</td>\n      <td>...</td>\n      <td>...</td>\n      <td>...</td>\n      <td>...</td>\n      <td>...</td>\n      <td>...</td>\n      <td>...</td>\n      <td>...</td>\n      <td>...</td>\n      <td>...</td>\n    </tr>\n    <tr>\n      <th>56</th>\n      <td>en</td>\n      <td>title_and_5_sentences</td>\n      <td>XGBoost</td>\n      <td>BorderlineSMOTE</td>\n      <td>XGBoost_narrow_BorderlineSMOTE</td>\n      <td>1.000000</td>\n      <td>1.000000</td>\n      <td>1.000000</td>\n      <td>1.000000</td>\n      <td>1.000000</td>\n      <td>1.000000</td>\n      <td>1.000000</td>\n      <td>0.603388</td>\n      <td>0.392899</td>\n      <td>0.038835</td>\n      <td>0.659811</td>\n      <td>0.450338</td>\n      <td>0.567237</td>\n      <td>0.361105</td>\n    </tr>\n    <tr>\n      <th>57</th>\n      <td>en</td>\n      <td>title_and_5_sentences</td>\n      <td>XGBoost</td>\n      <td>No Upsampling</td>\n      <td>XGBoost_narrow</td>\n      <td>1.000000</td>\n      <td>1.000000</td>\n      <td>1.000000</td>\n      <td>1.000000</td>\n      <td>1.000000</td>\n      <td>1.000000</td>\n      <td>1.000000</td>\n      <td>0.602439</td>\n      <td>0.387458</td>\n      <td>0.048544</td>\n      <td>0.660854</td>\n      <td>0.451528</td>\n      <td>0.574572</td>\n      <td>0.360803</td>\n    </tr>\n    <tr>\n      <th>58</th>\n      <td>en</td>\n      <td>title_and_5_sentences</td>\n      <td>XGBoost</td>\n      <td>Random Oversampling</td>\n      <td>XGBoost_narrow_ROS</td>\n      <td>1.000000</td>\n      <td>1.000000</td>\n      <td>1.000000</td>\n      <td>1.000000</td>\n      <td>1.000000</td>\n      <td>1.000000</td>\n      <td>1.000000</td>\n      <td>0.610316</td>\n      <td>0.404632</td>\n      <td>0.019417</td>\n      <td>0.655220</td>\n      <td>0.470681</td>\n      <td>0.589242</td>\n      <td>0.384710</td>\n    </tr>\n    <tr>\n      <th>59</th>\n      <td>en</td>\n      <td>title_and_5_sentences</td>\n      <td>XGBoost</td>\n      <td>SMOTE</td>\n      <td>XGBoost_narrow_SMOTE</td>\n      <td>1.000000</td>\n      <td>1.000000</td>\n      <td>1.000000</td>\n      <td>1.000000</td>\n      <td>1.000000</td>\n      <td>1.000000</td>\n      <td>1.000000</td>\n      <td>0.606402</td>\n      <td>0.404920</td>\n      <td>0.038835</td>\n      <td>0.651281</td>\n      <td>0.475135</td>\n      <td>0.586797</td>\n      <td>0.380137</td>\n    </tr>\n    <tr>\n      <th>60</th>\n      <td>en</td>\n      <td>title_and_5_sentences</td>\n      <td>XGBoost</td>\n      <td>SVMSMOTE</td>\n      <td>XGBoost_narrow_SVMSMOTE</td>\n      <td>1.000000</td>\n      <td>1.000000</td>\n      <td>1.000000</td>\n      <td>1.000000</td>\n      <td>1.000000</td>\n      <td>1.000000</td>\n      <td>1.000000</td>\n      <td>0.615338</td>\n      <td>0.406356</td>\n      <td>0.058252</td>\n      <td>0.663579</td>\n      <td>0.461742</td>\n      <td>0.584352</td>\n      <td>0.375791</td>\n    </tr>\n  </tbody>\n</table>\n<p>2156 rows × 19 columns</p>\n</div>"
     },
     "execution_count": 4,
     "metadata": {},
     "output_type": "execute_result"
    }
   ],
   "source": [
    "exps_df"
   ],
   "metadata": {
    "collapsed": false
   }
  },
  {
   "cell_type": "code",
   "execution_count": 5,
   "id": "0400d68b-3edd-4a2b-b782-218ce26c5c25",
   "metadata": {},
   "outputs": [],
   "source": [
    "exps_df.model_type = exps_df.model_type.str.strip('¶')"
   ]
  },
  {
   "cell_type": "code",
   "execution_count": 6,
   "id": "e97a4f9d-b3dd-4f68-9a56-ba53a2c34c71",
   "metadata": {},
   "outputs": [
    {
     "data": {
      "text/plain": "(2156, 19)"
     },
     "execution_count": 6,
     "metadata": {},
     "output_type": "execute_result"
    }
   ],
   "source": [
    "exps_df.shape"
   ]
  },
  {
   "cell_type": "code",
   "execution_count": 7,
   "id": "aeafd295-0172-4bb5-9f7e-39e7fb009c90",
   "metadata": {},
   "outputs": [],
   "source": [
    "def get_best_models(df, grouping_criterion):\n",
    "    return df.reset_index().loc[df.reset_index().groupby(grouping_criterion)['test_f1_micro'].idxmax().dropna()]\\\n",
    "        .set_index(grouping_criterion)"
   ]
  },
  {
   "cell_type": "markdown",
   "id": "6a452c68-3d2e-43a1-b820-a7688df2cd33",
   "metadata": {
    "tags": []
   },
   "source": [
    "### Generate the tables to report"
   ]
  },
  {
   "cell_type": "code",
   "execution_count": 8,
   "id": "9c97b164-c359-40ea-b974-a0dc65c1db60",
   "metadata": {},
   "outputs": [],
   "source": [
    "def display_performance_table(df, metric, index_cols=['model_type'], display_=True):\n",
    "    report_table = df.reset_index().copy()\n",
    "    report_table['result'] = report_table[f'test_{metric}'].map(lambda x: f'{x:.3f}')\n",
    "    report_table['col_title'] = report_table.unit_of_analysis.str.split('_').str.join(' ') \n",
    "    report_table['col_title'] = pd.Categorical(\n",
    "        report_table.col_title,\n",
    "        categories=['title', 'title and first paragraph', 'title and 5 sentences', 'title and 10 sentences',\n",
    "                    'title and first sentence each paragraph', 'raw text'],\n",
    "        ordered=True)\n",
    "    report_table = report_table[index_cols + ['col_title', 'result']]\\\n",
    "        .pivot_table(index=index_cols, columns=['col_title'], values=['result'], aggfunc='first', fill_value=0)\\\n",
    "        .droplevel(0, axis=1)\n",
    "\n",
    "    report_table.columns.names = [None]\n",
    "\n",
    "    # Highlight best scoring models according to their average\n",
    "    mean_perf_arr = report_table.applymap(lambda x: float(str(x).split(' ')[0])).to_numpy()\n",
    "    highlight_mask = mean_perf_arr == mean_perf_arr.max()\n",
    "    report_table_arr = report_table.to_numpy()  # Note it passes the array by reference\n",
    "    report_table_arr[highlight_mask] = '**' + report_table_arr[highlight_mask] + '**'\n",
    "\n",
    "    if display_:\n",
    "        display(Markdown(report_table.to_markdown()))\n",
    "    \n",
    "    return report_table"
   ]
  },
  {
   "cell_type": "markdown",
   "id": "6f14e8da-1acf-4114-9cfd-eeaa97261f68",
   "metadata": {},
   "source": [
    "### Generate tables for all languages"
   ]
  },
  {
   "cell_type": "code",
   "execution_count": 9,
   "id": "bea51df3-87ed-4ace-ad56-25d235b5cd65",
   "metadata": {},
   "outputs": [],
   "source": [
    "metrics_to_report = ['f1_micro', 'recall_micro', 'precision_micro', 'accuracy'] "
   ]
  },
  {
   "cell_type": "code",
   "execution_count": 10,
   "id": "1650fa17-5ccc-439a-9818-d61bf369ca1a",
   "metadata": {},
   "outputs": [],
   "source": [
    "language_dict = {'en': 'English', 'it': 'Italian', 'fr': 'French', 'po': 'Polish', 'ru': 'Russian', 'ge': 'German'}"
   ]
  },
  {
   "cell_type": "code",
   "execution_count": 11,
   "id": "143ecba4-ffb9-45e9-869c-87d16caea017",
   "metadata": {
    "tags": []
   },
   "outputs": [],
   "source": [
    "def display_metrics_and_write_to_file(df, grouping_criterion, output_dir):\n",
    "    os.makedirs(output_dir, exist_ok=True)\n",
    "    best_model_dfs_list = []\n",
    "    report_tables_dfs_dict = {metric: [] for metric in metrics_to_report}\n",
    "\n",
    "    for language, results_df in df.groupby('language'):\n",
    "        best_models_df = get_best_models(results_df, grouping_criterion + ['unit_of_analysis'])\n",
    "        best_model_dfs_list.append(best_models_df.copy())\n",
    "\n",
    "        display(Markdown(f'# {language_dict[language]}'))\n",
    "        \n",
    "        for metric in metrics_to_report:\n",
    "            os.makedirs(os.path.join(output_dir, metric), exist_ok=True)\n",
    "\n",
    "            output_dir_markdown = os.path.join(output_dir, metric, 'markdown')\n",
    "            output_dir_latex = os.path.join(output_dir, metric, 'latex')\n",
    "            output_dir_csv = os.path.join(output_dir, metric, 'csv')\n",
    "\n",
    "            os.makedirs(output_dir_markdown, exist_ok=True)\n",
    "            os.makedirs(output_dir_latex, exist_ok=True)\n",
    "            os.makedirs(output_dir_csv, exist_ok=True)\n",
    "\n",
    "            display(Markdown(f'## {metric}'))\n",
    "\n",
    "            report_table = display_performance_table(df=best_models_df, index_cols=grouping_criterion, metric=metric, display_=True)\n",
    "\n",
    "            # Export as markdown\n",
    "            markdown_file = open(os.path.join(output_dir_markdown, f\"{language_dict[language]}_{metric}.md\"), \"w\")\n",
    "            report_table.reset_index().to_markdown(markdown_file, index=False)\n",
    "            markdown_file.close()\n",
    "\n",
    "            # Export as latex table\n",
    "            latex_file = open(os.path.join(output_dir_latex, f\"{language_dict[language]}_{metric}.tex\"), \"w\")\n",
    "            report_table.reset_index().to_latex(latex_file, index=False)\n",
    "            latex_file.close()\n",
    "\n",
    "            # Export as csv\n",
    "            report_table.to_csv(os.path.join(output_dir_csv, f\"{language_dict[language]}_{metric}.csv\"))\n",
    "\n",
    "            # Stack all languages into single table\n",
    "            report_table['language'] = language\n",
    "            report_table = report_table.reset_index().set_index(['language'] + grouping_criterion)\n",
    "\n",
    "            report_tables_dfs_dict[metric].append(report_table)\n",
    "\n",
    "    # Store a csv with all the metrics and parameters of the best runs per language per grouping_criterion\n",
    "    pd.concat(best_model_dfs_list)\\\n",
    "        .reset_index().set_index(['language'] + grouping_criterion).sort_index()\\\n",
    "        .to_csv(os.path.join(output_dir, 'best_exp_params_metrics_per_language.csv'))\n",
    "\n",
    "    # Report or store unified table\n",
    "    display(Markdown(f'# All 6 Languages'))\n",
    "    for metric in metrics_to_report:\n",
    "        display(Markdown(f'## {metric}'))\n",
    "        multi_language_report_table_metric = pd.concat(report_tables_dfs_dict[metric])\n",
    "        display(Markdown(multi_language_report_table_metric.reset_index().to_markdown(index=False)))\n",
    "\n",
    "        output_dir_markdown = os.path.join(output_dir, metric, 'markdown')\n",
    "        output_dir_latex = os.path.join(output_dir, metric, 'latex')\n",
    "        output_dir_csv = os.path.join(output_dir, metric, 'csv')\n",
    "\n",
    "        # Export as markdown\n",
    "        markdown_file = open(os.path.join(output_dir_markdown, f\"all_6_languages_{metric}.md\"), \"w\")\n",
    "        multi_language_report_table_metric.reset_index().to_markdown(markdown_file, index=False)\n",
    "        markdown_file.close()\n",
    "\n",
    "        # Export as latex table\n",
    "        latex_file = open(os.path.join(output_dir_latex, f\"all_6_languages_{metric}.tex\"), \"w\")\n",
    "        multi_language_report_table_metric.reset_index().to_latex(latex_file, index=False)\n",
    "        latex_file.close()\n",
    "\n",
    "        # Export as csv\n",
    "        multi_language_report_table_metric.to_csv(os.path.join(output_dir_csv, f\"all_6_languages_{metric}.csv\"))"
   ]
  },
  {
   "cell_type": "markdown",
   "id": "2f01d754-49ba-4c74-8220-2e144f624044",
   "metadata": {},
   "source": [
    "# Per model type"
   ]
  },
  {
   "cell_type": "code",
   "execution_count": 12,
   "id": "e5abb824-f93a-44fd-8203-a0b84224b0fa",
   "metadata": {
    "tags": []
   },
   "outputs": [
    {
     "data": {
      "text/plain": "<IPython.core.display.Markdown object>",
      "text/markdown": "# English"
     },
     "metadata": {},
     "output_type": "display_data"
    },
    {
     "data": {
      "text/plain": "<IPython.core.display.Markdown object>",
      "text/markdown": "## f1_micro"
     },
     "metadata": {},
     "output_type": "display_data"
    },
    {
     "data": {
      "text/plain": "<IPython.core.display.Markdown object>",
      "text/markdown": "| model_type                   |   title |   title and first paragraph |   title and 5 sentences |   title and 10 sentences |   title and first sentence each paragraph | raw text   |\n|:-----------------------------|--------:|----------------------------:|------------------------:|-------------------------:|------------------------------------------:|:-----------|\n| Dummy Classifier             |   0.427 |                       0.459 |                   0.437 |                    0.433 |                                     0.43  | 0.435      |\n| KNN                          |   0.49  |                       0.54  |                   0.527 |                    0.478 |                                     0.466 | 0.543      |\n| LinearSVM                    |   0.593 |                       0.612 |                   0.639 |                    0.651 |                                     0.649 | 0.679      |\n| LogisticRegression           |   0.594 |                       0.618 |                   0.628 |                    0.653 |                                     0.659 | 0.694      |\n| LogisticRegressionElasticNet |   0.604 |                       0.612 |                   0.638 |                    0.64  |                                     0.669 | 0.685      |\n| LogisticRegressionLasso      |   0.555 |                       0.615 |                   0.624 |                    0.624 |                                     0.655 | 0.645      |\n| LogisticRegressionRidge      |   0.61  |                       0.629 |                   0.643 |                    0.669 |                                     0.659 | 0.700      |\n| NaiveBayes                   |   0.631 |                       0.695 |                   0.718 |                    0.712 |                                     0.713 | **0.719**  |\n| RandomForest                 |   0.581 |                       0.616 |                   0.632 |                    0.654 |                                     0.663 | 0.656      |\n| RidgeClassifier              |   0.602 |                       0.64  |                   0.636 |                    0.66  |                                     0.656 | 0.689      |\n| SVM                          |   0.467 |                       0.472 |                   0.489 |                    0.523 |                                     0.541 | 0.569      |\n| XGBoost                      |   0.526 |                       0.6   |                   0.615 |                    0.616 |                                     0.637 | 0.648      |"
     },
     "metadata": {},
     "output_type": "display_data"
    },
    {
     "name": "stderr",
     "output_type": "stream",
     "text": [
      "/tmp/ipykernel_16953/3322418740.py:34: FutureWarning: In future versions `DataFrame.to_latex` is expected to utilise the base implementation of `Styler.to_latex` for formatting and rendering. The arguments signature may therefore change. It is recommended instead to use `DataFrame.style.to_latex` which also contains additional functionality.\n",
      "  report_table.reset_index().to_latex(latex_file, index=False)\n"
     ]
    },
    {
     "data": {
      "text/plain": "<IPython.core.display.Markdown object>",
      "text/markdown": "## recall_micro"
     },
     "metadata": {},
     "output_type": "display_data"
    },
    {
     "data": {
      "text/plain": "<IPython.core.display.Markdown object>",
      "text/markdown": "| model_type                   |   title |   title and first paragraph |   title and 5 sentences | title and 10 sentences   |   title and first sentence each paragraph |   raw text |\n|:-----------------------------|--------:|----------------------------:|------------------------:|:-------------------------|------------------------------------------:|-----------:|\n| Dummy Classifier             |   0.482 |                       0.533 |                   0.499 | 0.416                    |                                     0.491 |      0.491 |\n| KNN                          |   0.792 |                       0.719 |                   0.68  | **0.829**                |                                     0.8   |      0.523 |\n| LinearSVM                    |   0.592 |                       0.577 |                   0.587 | 0.597                    |                                     0.606 |      0.641 |\n| LogisticRegression           |   0.555 |                       0.589 |                   0.582 | 0.606                    |                                     0.623 |      0.658 |\n| LogisticRegressionElasticNet |   0.56  |                       0.572 |                   0.582 | 0.589                    |                                     0.636 |      0.631 |\n| LogisticRegressionLasso      |   0.482 |                       0.577 |                   0.575 | 0.587                    |                                     0.623 |      0.601 |\n| LogisticRegressionRidge      |   0.589 |                       0.592 |                   0.601 | 0.626                    |                                     0.616 |      0.66  |\n| NaiveBayes                   |   0.667 |                       0.719 |                   0.753 | 0.751                    |                                     0.76  |      0.76  |\n| RandomForest                 |   0.518 |                       0.567 |                   0.577 | 0.604                    |                                     0.604 |      0.609 |\n| RidgeClassifier              |   0.57  |                       0.614 |                   0.587 | 0.621                    |                                     0.614 |      0.653 |\n| SVM                          |   0.45  |                       0.428 |                   0.457 | 0.479                    |                                     0.516 |      0.535 |\n| XGBoost                      |   0.479 |                       0.567 |                   0.584 | 0.570                    |                                     0.592 |      0.614 |"
     },
     "metadata": {},
     "output_type": "display_data"
    },
    {
     "name": "stderr",
     "output_type": "stream",
     "text": [
      "/tmp/ipykernel_16953/3322418740.py:34: FutureWarning: In future versions `DataFrame.to_latex` is expected to utilise the base implementation of `Styler.to_latex` for formatting and rendering. The arguments signature may therefore change. It is recommended instead to use `DataFrame.style.to_latex` which also contains additional functionality.\n",
      "  report_table.reset_index().to_latex(latex_file, index=False)\n"
     ]
    },
    {
     "data": {
      "text/plain": "<IPython.core.display.Markdown object>",
      "text/markdown": "## precision_micro"
     },
     "metadata": {},
     "output_type": "display_data"
    },
    {
     "data": {
      "text/plain": "<IPython.core.display.Markdown object>",
      "text/markdown": "| model_type                   |   title |   title and first paragraph |   title and 5 sentences |   title and 10 sentences | title and first sentence each paragraph   |   raw text |\n|:-----------------------------|--------:|----------------------------:|------------------------:|-------------------------:|:------------------------------------------|-----------:|\n| Dummy Classifier             |   0.425 |                       0.443 |                   0.428 |                    0.46  | 0.418                                     |      0.426 |\n| KNN                          |   0.519 |                       0.506 |                   0.552 |                    0.456 | 0.365                                     |      0.668 |\n| LinearSVM                    |   0.619 |                       0.69  |                   0.734 |                    0.745 | 0.734                                     |      0.746 |\n| LogisticRegression           |   0.647 |                       0.669 |                   0.719 |                    0.736 | 0.723                                     |      0.751 |\n| LogisticRegressionElasticNet |   0.664 |                       0.684 |                   0.729 |                    0.721 | 0.731                                     |      0.77  |\n| LogisticRegressionLasso      |   0.674 |                       0.679 |                   0.697 |                    0.685 | 0.702                                     |      0.714 |\n| LogisticRegressionRidge      |   0.645 |                       0.708 |                   0.71  |                    0.737 | 0.737                                     |      0.761 |\n| NaiveBayes                   |   0.626 |                       0.697 |                   0.709 |                    0.701 | 0.698                                     |      0.707 |\n| RandomForest                 |   0.698 |                       0.714 |                   0.736 |                    0.788 | **0.808**                                 |      0.749 |\n| RidgeClassifier              |   0.645 |                       0.69  |                   0.722 |                    0.72  | 0.721                                     |      0.748 |\n| SVM                          |   0.631 |                       0.759 |                   0.712 |                    0.644 | 0.699                                     |      0.719 |\n| XGBoost                      |   0.636 |                       0.647 |                   0.664 |                    0.717 | 0.707                                     |      0.696 |"
     },
     "metadata": {},
     "output_type": "display_data"
    },
    {
     "name": "stderr",
     "output_type": "stream",
     "text": [
      "/tmp/ipykernel_16953/3322418740.py:34: FutureWarning: In future versions `DataFrame.to_latex` is expected to utilise the base implementation of `Styler.to_latex` for formatting and rendering. The arguments signature may therefore change. It is recommended instead to use `DataFrame.style.to_latex` which also contains additional functionality.\n",
      "  report_table.reset_index().to_latex(latex_file, index=False)\n"
     ]
    },
    {
     "data": {
      "text/plain": "<IPython.core.display.Markdown object>",
      "text/markdown": "## accuracy"
     },
     "metadata": {},
     "output_type": "display_data"
    },
    {
     "data": {
      "text/plain": "<IPython.core.display.Markdown object>",
      "text/markdown": "| model_type                   |   title |   title and first paragraph |   title and 5 sentences | title and 10 sentences   |   title and first sentence each paragraph | raw text   |\n|:-----------------------------|--------:|----------------------------:|------------------------:|:-------------------------|------------------------------------------:|:-----------|\n| Dummy Classifier             |   0     |                       0     |                   0     | 0.000                    |                                     0     | 0.000      |\n| KNN                          |   0     |                       0     |                   0     | 0.000                    |                                     0     | 0.000      |\n| LinearSVM                    |   0.039 |                       0.058 |                   0.087 | 0.107                    |                                     0.117 | 0.107      |\n| LogisticRegression           |   0.078 |                       0.029 |                   0.078 | 0.078                    |                                     0.087 | 0.087      |\n| LogisticRegressionElasticNet |   0.097 |                       0.068 |                   0.078 | 0.078                    |                                     0.078 | 0.107      |\n| LogisticRegressionLasso      |   0.068 |                       0.068 |                   0.078 | 0.039                    |                                     0.068 | 0.058      |\n| LogisticRegressionRidge      |   0.087 |                       0.068 |                   0.087 | 0.097                    |                                     0.097 | 0.087      |\n| NaiveBayes                   |   0.029 |                       0.029 |                   0.039 | 0.039                    |                                     0.019 | 0.029      |\n| RandomForest                 |   0.068 |                       0.078 |                   0.117 | **0.146**                |                                     0.136 | **0.146**  |\n| RidgeClassifier              |   0.078 |                       0.039 |                   0.087 | 0.078                    |                                     0.087 | 0.078      |\n| SVM                          |   0.049 |                       0.058 |                   0.058 | 0.058                    |                                     0.078 | 0.097      |\n| XGBoost                      |   0.029 |                       0.039 |                   0.058 | 0.087                    |                                     0.068 | 0.107      |"
     },
     "metadata": {},
     "output_type": "display_data"
    },
    {
     "name": "stderr",
     "output_type": "stream",
     "text": [
      "/tmp/ipykernel_16953/3322418740.py:34: FutureWarning: In future versions `DataFrame.to_latex` is expected to utilise the base implementation of `Styler.to_latex` for formatting and rendering. The arguments signature may therefore change. It is recommended instead to use `DataFrame.style.to_latex` which also contains additional functionality.\n",
      "  report_table.reset_index().to_latex(latex_file, index=False)\n"
     ]
    },
    {
     "data": {
      "text/plain": "<IPython.core.display.Markdown object>",
      "text/markdown": "# French"
     },
     "metadata": {},
     "output_type": "display_data"
    },
    {
     "data": {
      "text/plain": "<IPython.core.display.Markdown object>",
      "text/markdown": "## f1_micro"
     },
     "metadata": {},
     "output_type": "display_data"
    },
    {
     "data": {
      "text/plain": "<IPython.core.display.Markdown object>",
      "text/markdown": "| model_type                   |   title |   title and first paragraph |   title and 5 sentences |   title and 10 sentences |   title and first sentence each paragraph | raw text   |\n|:-----------------------------|--------:|----------------------------:|------------------------:|-------------------------:|------------------------------------------:|:-----------|\n| Dummy Classifier             |   0.389 |                       0.365 |                   0.341 |                    0.329 |                                     0.371 | 0.332      |\n| KNN                          |   0.414 |                       0.435 |                   0.436 |                    0.433 |                                     0.348 | 0.436      |\n| LinearSVM                    |   0.248 |                       0.319 |                   0.322 |                    0.251 |                                     0.327 | 0.311      |\n| LogisticRegression           |   0.317 |                       0.349 |                   0.327 |                    0.256 |                                     0.336 | 0.337      |\n| LogisticRegressionElasticNet |   0.241 |                       0.365 |                   0.339 |                    0.301 |                                     0.361 | 0.351      |\n| LogisticRegressionLasso      |   0.281 |                       0.44  |                   0.365 |                    0.298 |                                     0.389 | 0.430      |\n| LogisticRegressionRidge      |   0.332 |                       0.385 |                   0.327 |                    0.308 |                                     0.315 | 0.323      |\n| NaiveBayes                   |   0.384 |                       0.434 |                   0.447 |                    0.482 |                                     0.472 | **0.556**  |\n| RandomForest                 |   0.271 |                       0.308 |                   0.272 |                    0.284 |                                     0.314 | 0.343      |\n| RidgeClassifier              |   0.355 |                       0.394 |                   0.324 |                    0.292 |                                     0.312 | 0.328      |\n| SVM                          |   0.297 |                       0.049 |                   0.094 |                    0.044 |                                     0.063 | 0.015      |\n| XGBoost                      |   0.237 |                       0.339 |                   0.313 |                    0.303 |                                     0.344 | 0.419      |"
     },
     "metadata": {},
     "output_type": "display_data"
    },
    {
     "name": "stderr",
     "output_type": "stream",
     "text": [
      "/tmp/ipykernel_16953/3322418740.py:34: FutureWarning: In future versions `DataFrame.to_latex` is expected to utilise the base implementation of `Styler.to_latex` for formatting and rendering. The arguments signature may therefore change. It is recommended instead to use `DataFrame.style.to_latex` which also contains additional functionality.\n",
      "  report_table.reset_index().to_latex(latex_file, index=False)\n"
     ]
    },
    {
     "data": {
      "text/plain": "<IPython.core.display.Markdown object>",
      "text/markdown": "## recall_micro"
     },
     "metadata": {},
     "output_type": "display_data"
    },
    {
     "data": {
      "text/plain": "<IPython.core.display.Markdown object>",
      "text/markdown": "| model_type                   |   title |   title and first paragraph |   title and 5 sentences | title and 10 sentences   |   title and first sentence each paragraph | raw text   |\n|:-----------------------------|--------:|----------------------------:|------------------------:|:-------------------------|------------------------------------------:|:-----------|\n| Dummy Classifier             |   0.563 |                       0.532 |                   0.492 | 0.468                    |                                     0.532 | 0.484      |\n| KNN                          |   0.865 |                       0.968 |                   0.992 | **1.000**                |                                     0.659 | **1.000**  |\n| LinearSVM                    |   0.238 |                       0.286 |                   0.302 | 0.206                    |                                     0.286 | 0.270      |\n| LogisticRegression           |   0.341 |                       0.317 |                   0.286 | 0.206                    |                                     0.294 | 0.286      |\n| LogisticRegressionElasticNet |   0.214 |                       0.333 |                   0.302 | 0.230                    |                                     0.317 | 0.302      |\n| LogisticRegressionLasso      |   0.246 |                       0.397 |                   0.325 | 0.270                    |                                     0.389 | 0.421      |\n| LogisticRegressionRidge      |   0.357 |                       0.373 |                   0.317 | 0.254                    |                                     0.278 | 0.278      |\n| NaiveBayes                   |   0.429 |                       0.532 |                   0.524 | 0.563                    |                                     0.571 | 0.690      |\n| RandomForest                 |   0.246 |                       0.278 |                   0.238 | 0.246                    |                                     0.278 | 0.325      |\n| RidgeClassifier              |   0.381 |                       0.381 |                   0.317 | 0.246                    |                                     0.278 | 0.294      |\n| SVM                          |   0.317 |                       0.063 |                   0.079 | 0.032                    |                                     0.063 | 0.008      |\n| XGBoost                      |   0.23  |                       0.381 |                   0.294 | 0.278                    |                                     0.365 | 0.405      |"
     },
     "metadata": {},
     "output_type": "display_data"
    },
    {
     "name": "stderr",
     "output_type": "stream",
     "text": [
      "/tmp/ipykernel_16953/3322418740.py:34: FutureWarning: In future versions `DataFrame.to_latex` is expected to utilise the base implementation of `Styler.to_latex` for formatting and rendering. The arguments signature may therefore change. It is recommended instead to use `DataFrame.style.to_latex` which also contains additional functionality.\n",
      "  report_table.reset_index().to_latex(latex_file, index=False)\n"
     ]
    },
    {
     "data": {
      "text/plain": "<IPython.core.display.Markdown object>",
      "text/markdown": "## precision_micro"
     },
     "metadata": {},
     "output_type": "display_data"
    },
    {
     "data": {
      "text/plain": "<IPython.core.display.Markdown object>",
      "text/markdown": "| model_type                   |   title |   title and first paragraph |   title and 5 sentences | title and 10 sentences   |   title and first sentence each paragraph |   raw text |\n|:-----------------------------|--------:|----------------------------:|------------------------:|:-------------------------|------------------------------------------:|-----------:|\n| Dummy Classifier             |   0.317 |                       0.3   |                   0.281 | 0.300                    |                                     0.308 |      0.292 |\n| KNN                          |   0.292 |                       0.3   |                   0.297 | 0.295                    |                                     0.317 |      0.297 |\n| LinearSVM                    |   0.335 |                       0.4   |                   0.43  | 0.383                    |                                     0.425 |      0.396 |\n| LogisticRegression           |   0.364 |                       0.442 |                   0.465 | 0.394                    |                                     0.425 |      0.448 |\n| LogisticRegressionElasticNet |   0.358 |                       0.569 |                   0.443 | **0.588**                |                                     0.462 |      0.482 |\n| LogisticRegressionLasso      |   0.458 |                       0.583 |                   0.523 | 0.461                    |                                     0.439 |      0.468 |\n| LogisticRegressionRidge      |   0.342 |                       0.463 |                   0.41  | 0.499                    |                                     0.42  |      0.485 |\n| NaiveBayes                   |   0.412 |                       0.4   |                   0.423 | 0.468                    |                                     0.45  |      0.519 |\n| RandomForest                 |   0.446 |                       0.399 |                   0.467 | 0.504                    |                                     0.412 |      0.405 |\n| RidgeClassifier              |   0.37  |                       0.494 |                   0.382 | 0.466                    |                                     0.403 |      0.482 |\n| SVM                          |   0.341 |                       0.112 |                   0.319 | 0.070                    |                                     0.063 |      0.087 |\n| XGBoost                      |   0.339 |                       0.355 |                   0.417 | 0.394                    |                                     0.379 |      0.502 |"
     },
     "metadata": {},
     "output_type": "display_data"
    },
    {
     "name": "stderr",
     "output_type": "stream",
     "text": [
      "/tmp/ipykernel_16953/3322418740.py:34: FutureWarning: In future versions `DataFrame.to_latex` is expected to utilise the base implementation of `Styler.to_latex` for formatting and rendering. The arguments signature may therefore change. It is recommended instead to use `DataFrame.style.to_latex` which also contains additional functionality.\n",
      "  report_table.reset_index().to_latex(latex_file, index=False)\n"
     ]
    },
    {
     "data": {
      "text/plain": "<IPython.core.display.Markdown object>",
      "text/markdown": "## accuracy"
     },
     "metadata": {},
     "output_type": "display_data"
    },
    {
     "data": {
      "text/plain": "<IPython.core.display.Markdown object>",
      "text/markdown": "| model_type                   |   title |   title and first paragraph |   title and 5 sentences |   title and 10 sentences |   title and first sentence each paragraph | raw text   |\n|:-----------------------------|--------:|----------------------------:|------------------------:|-------------------------:|------------------------------------------:|:-----------|\n| Dummy Classifier             |   0     |                       0     |                   0     |                    0     |                                     0     | 0.000      |\n| KNN                          |   0     |                       0     |                   0     |                    0     |                                     0     | 0.000      |\n| LinearSVM                    |   0     |                       0.048 |                   0.048 |                    0.071 |                                     0.024 | 0.071      |\n| LogisticRegression           |   0.024 |                       0.048 |                   0.048 |                    0.071 |                                     0.048 | 0.071      |\n| LogisticRegressionElasticNet |   0     |                       0.048 |                   0     |                    0.071 |                                     0.071 | **0.143**  |\n| LogisticRegressionLasso      |   0     |                       0.048 |                   0.024 |                    0.024 |                                     0.024 | 0.119      |\n| LogisticRegressionRidge      |   0     |                       0.048 |                   0.024 |                    0.071 |                                     0     | 0.095      |\n| NaiveBayes                   |   0.024 |                       0     |                   0     |                    0     |                                     0.024 | 0.000      |\n| RandomForest                 |   0     |                       0     |                   0     |                    0.048 |                                     0.024 | 0.071      |\n| RidgeClassifier              |   0     |                       0.048 |                   0.024 |                    0.071 |                                     0     | 0.095      |\n| SVM                          |   0     |                       0     |                   0     |                    0     |                                     0.048 | 0.000      |\n| XGBoost                      |   0     |                       0     |                   0.024 |                    0     |                                     0.048 | 0.024      |"
     },
     "metadata": {},
     "output_type": "display_data"
    },
    {
     "name": "stderr",
     "output_type": "stream",
     "text": [
      "/tmp/ipykernel_16953/3322418740.py:34: FutureWarning: In future versions `DataFrame.to_latex` is expected to utilise the base implementation of `Styler.to_latex` for formatting and rendering. The arguments signature may therefore change. It is recommended instead to use `DataFrame.style.to_latex` which also contains additional functionality.\n",
      "  report_table.reset_index().to_latex(latex_file, index=False)\n"
     ]
    },
    {
     "data": {
      "text/plain": "<IPython.core.display.Markdown object>",
      "text/markdown": "# German"
     },
     "metadata": {},
     "output_type": "display_data"
    },
    {
     "data": {
      "text/plain": "<IPython.core.display.Markdown object>",
      "text/markdown": "## f1_micro"
     },
     "metadata": {},
     "output_type": "display_data"
    },
    {
     "data": {
      "text/plain": "<IPython.core.display.Markdown object>",
      "text/markdown": "| model_type                   |   title |   title and first paragraph |   title and 5 sentences |   title and 10 sentences |   title and first sentence each paragraph | raw text   |\n|:-----------------------------|--------:|----------------------------:|------------------------:|-------------------------:|------------------------------------------:|:-----------|\n| Dummy Classifier             |   0.434 |                       0.453 |                   0.449 |                    0.423 |                                     0.474 | 0.443      |\n| KNN                          |   0.44  |                       0.513 |                   0.509 |                    0.518 |                                     0.443 | 0.407      |\n| LinearSVM                    |   0.338 |                       0.365 |                   0.395 |                    0.382 |                                     0.426 | 0.459      |\n| LogisticRegression           |   0.34  |                       0.401 |                   0.409 |                    0.413 |                                     0.441 | 0.466      |\n| LogisticRegressionElasticNet |   0.284 |                       0.392 |                   0.419 |                    0.397 |                                     0.431 | 0.491      |\n| LogisticRegressionLasso      |   0.217 |                       0.402 |                   0.429 |                    0.389 |                                     0.467 | 0.521      |\n| LogisticRegressionRidge      |   0.35  |                       0.481 |                   0.47  |                    0.437 |                                     0.461 | 0.449      |\n| NaiveBayes                   |   0.376 |                       0.555 |                   0.556 |                    0.572 |                                     0.551 | **0.585**  |\n| RandomForest                 |   0.324 |                       0.55  |                   0.409 |                    0.405 |                                     0.418 | 0.436      |\n| RidgeClassifier              |   0.347 |                       0.504 |                   0.46  |                    0.436 |                                     0.451 | 0.457      |\n| SVM                          |   0.417 |                       0.199 |                   0.274 |                    0.359 |                                     0.32  | 0.424      |\n| XGBoost                      |   0.29  |                       0.543 |                   0.402 |                    0.395 |                                     0.442 | 0.501      |"
     },
     "metadata": {},
     "output_type": "display_data"
    },
    {
     "name": "stderr",
     "output_type": "stream",
     "text": [
      "/tmp/ipykernel_16953/3322418740.py:34: FutureWarning: In future versions `DataFrame.to_latex` is expected to utilise the base implementation of `Styler.to_latex` for formatting and rendering. The arguments signature may therefore change. It is recommended instead to use `DataFrame.style.to_latex` which also contains additional functionality.\n",
      "  report_table.reset_index().to_latex(latex_file, index=False)\n"
     ]
    },
    {
     "data": {
      "text/plain": "<IPython.core.display.Markdown object>",
      "text/markdown": "## recall_micro"
     },
     "metadata": {},
     "output_type": "display_data"
    },
    {
     "data": {
      "text/plain": "<IPython.core.display.Markdown object>",
      "text/markdown": "| model_type                   |   title |   title and first paragraph |   title and 5 sentences | title and 10 sentences   |   title and first sentence each paragraph |   raw text |\n|:-----------------------------|--------:|----------------------------:|------------------------:|:-------------------------|------------------------------------------:|-----------:|\n| Dummy Classifier             |   0.517 |                       0.5   |                   0.494 | 0.459                    |                                     0.529 |      0.523 |\n| KNN                          |   0.686 |                       0.756 |                   0.767 | **0.860**                |                                     0.767 |      0.756 |\n| LinearSVM                    |   0.302 |                       0.331 |                   0.355 | 0.343                    |                                     0.419 |      0.442 |\n| LogisticRegression           |   0.308 |                       0.378 |                   0.378 | 0.372                    |                                     0.424 |      0.448 |\n| LogisticRegressionElasticNet |   0.25  |                       0.36  |                   0.39  | 0.366                    |                                     0.424 |      0.494 |\n| LogisticRegressionLasso      |   0.145 |                       0.366 |                   0.384 | 0.343                    |                                     0.436 |      0.506 |\n| LogisticRegressionRidge      |   0.349 |                       0.477 |                   0.459 | 0.413                    |                                     0.453 |      0.436 |\n| NaiveBayes                   |   0.314 |                       0.605 |                   0.581 | 0.599                    |                                     0.663 |      0.698 |\n| RandomForest                 |   0.291 |                       0.576 |                   0.378 | 0.372                    |                                     0.378 |      0.395 |\n| RidgeClassifier              |   0.343 |                       0.494 |                   0.448 | 0.419                    |                                     0.448 |      0.442 |\n| SVM                          |   0.483 |                       0.25  |                   0.314 | 0.436                    |                                     0.372 |      0.547 |\n| XGBoost                      |   0.279 |                       0.669 |                   0.343 | 0.343                    |                                     0.401 |      0.453 |"
     },
     "metadata": {},
     "output_type": "display_data"
    },
    {
     "name": "stderr",
     "output_type": "stream",
     "text": [
      "/tmp/ipykernel_16953/3322418740.py:34: FutureWarning: In future versions `DataFrame.to_latex` is expected to utilise the base implementation of `Styler.to_latex` for formatting and rendering. The arguments signature may therefore change. It is recommended instead to use `DataFrame.style.to_latex` which also contains additional functionality.\n",
      "  report_table.reset_index().to_latex(latex_file, index=False)\n"
     ]
    },
    {
     "data": {
      "text/plain": "<IPython.core.display.Markdown object>",
      "text/markdown": "## precision_micro"
     },
     "metadata": {},
     "output_type": "display_data"
    },
    {
     "data": {
      "text/plain": "<IPython.core.display.Markdown object>",
      "text/markdown": "| model_type                   |   title |   title and first paragraph |   title and 5 sentences |   title and 10 sentences |   title and first sentence each paragraph | raw text   |\n|:-----------------------------|--------:|----------------------------:|------------------------:|-------------------------:|------------------------------------------:|:-----------|\n| Dummy Classifier             |   0.403 |                       0.449 |                   0.444 |                    0.442 |                                     0.462 | 0.408      |\n| KNN                          |   0.433 |                       0.452 |                   0.485 |                    0.507 |                                     0.439 | 0.420      |\n| LinearSVM                    |   0.477 |                       0.451 |                   0.506 |                    0.458 |                                     0.464 | 0.525      |\n| LogisticRegression           |   0.474 |                       0.466 |                   0.53  |                    0.518 |                                     0.485 | 0.521      |\n| LogisticRegressionElasticNet |   0.416 |                       0.507 |                   0.489 |                    0.46  |                                     0.467 | 0.507      |\n| LogisticRegressionLasso      |   0.451 |                       0.553 |                   0.524 |                    0.493 |                                     0.523 | 0.587      |\n| LogisticRegressionRidge      |   0.45  |                       0.528 |                   0.501 |                    0.494 |                                     0.519 | 0.484      |\n| NaiveBayes                   |   0.505 |                       0.539 |                   0.557 |                    0.572 |                                     0.498 | 0.531      |\n| RandomForest                 |   0.478 |                       0.59  |                   0.503 |                    0.476 |                                     0.55  | 0.496      |\n| RidgeClassifier              |   0.451 |                       0.556 |                   0.492 |                    0.486 |                                     0.498 | 0.493      |\n| SVM                          |   0.396 |                       0.207 |                   0.288 |                    0.441 |                                     0.31  | 0.351      |\n| XGBoost                      |   0.502 |                       0.502 |                   0.553 |                    0.516 |                                     0.608 | **0.612**  |"
     },
     "metadata": {},
     "output_type": "display_data"
    },
    {
     "name": "stderr",
     "output_type": "stream",
     "text": [
      "/tmp/ipykernel_16953/3322418740.py:34: FutureWarning: In future versions `DataFrame.to_latex` is expected to utilise the base implementation of `Styler.to_latex` for formatting and rendering. The arguments signature may therefore change. It is recommended instead to use `DataFrame.style.to_latex` which also contains additional functionality.\n",
      "  report_table.reset_index().to_latex(latex_file, index=False)\n"
     ]
    },
    {
     "data": {
      "text/plain": "<IPython.core.display.Markdown object>",
      "text/markdown": "## accuracy"
     },
     "metadata": {},
     "output_type": "display_data"
    },
    {
     "data": {
      "text/plain": "<IPython.core.display.Markdown object>",
      "text/markdown": "| model_type                   |   title | title and first paragraph   | title and 5 sentences   | title and 10 sentences   | title and first sentence each paragraph   | raw text   |\n|:-----------------------------|--------:|:----------------------------|:------------------------|:-------------------------|:------------------------------------------|:-----------|\n| Dummy Classifier             |       0 | 0.000                       | 0.000                   | 0.000                    | 0.000                                     | 0.000      |\n| KNN                          |       0 | 0.000                       | 0.000                   | 0.000                    | 0.000                                     | 0.000      |\n| LinearSVM                    |       0 | 0.000                       | 0.000                   | 0.000                    | 0.000                                     | **0.029**  |\n| LogisticRegression           |       0 | 0.000                       | 0.000                   | **0.029**                | 0.000                                     | 0.000      |\n| LogisticRegressionElasticNet |       0 | **0.029**                   | 0.000                   | 0.000                    | 0.000                                     | **0.029**  |\n| LogisticRegressionLasso      |       0 | 0.000                       | 0.000                   | 0.000                    | 0.000                                     | 0.000      |\n| LogisticRegressionRidge      |       0 | 0.000                       | 0.000                   | 0.000                    | 0.000                                     | 0.000      |\n| NaiveBayes                   |       0 | 0.000                       | 0.000                   | 0.000                    | 0.000                                     | 0.000      |\n| RandomForest                 |       0 | 0.000                       | 0.000                   | **0.029**                | 0.000                                     | **0.029**  |\n| RidgeClassifier              |       0 | 0.000                       | 0.000                   | 0.000                    | 0.000                                     | **0.029**  |\n| SVM                          |       0 | 0.000                       | **0.029**               | 0.000                    | **0.029**                                 | 0.000      |\n| XGBoost                      |       0 | **0.029**                   | 0.000                   | 0.000                    | 0.000                                     | 0.000      |"
     },
     "metadata": {},
     "output_type": "display_data"
    },
    {
     "name": "stderr",
     "output_type": "stream",
     "text": [
      "/tmp/ipykernel_16953/3322418740.py:34: FutureWarning: In future versions `DataFrame.to_latex` is expected to utilise the base implementation of `Styler.to_latex` for formatting and rendering. The arguments signature may therefore change. It is recommended instead to use `DataFrame.style.to_latex` which also contains additional functionality.\n",
      "  report_table.reset_index().to_latex(latex_file, index=False)\n"
     ]
    },
    {
     "data": {
      "text/plain": "<IPython.core.display.Markdown object>",
      "text/markdown": "# Italian"
     },
     "metadata": {},
     "output_type": "display_data"
    },
    {
     "data": {
      "text/plain": "<IPython.core.display.Markdown object>",
      "text/markdown": "## f1_micro"
     },
     "metadata": {},
     "output_type": "display_data"
    },
    {
     "data": {
      "text/plain": "<IPython.core.display.Markdown object>",
      "text/markdown": "| model_type                   |   title |   title and first paragraph |   title and 5 sentences |   title and 10 sentences |   title and first sentence each paragraph | raw text   |\n|:-----------------------------|--------:|----------------------------:|------------------------:|-------------------------:|------------------------------------------:|:-----------|\n| Dummy Classifier             |   0.388 |                       0.395 |                   0.376 |                    0.386 |                                     0.36  | 0.379      |\n| KNN                          |   0.523 |                       0.491 |                   0.502 |                    0.502 |                                     0.459 | 0.503      |\n| LinearSVM                    |   0.406 |                       0.401 |                   0.387 |                    0.432 |                                     0.42  | 0.476      |\n| LogisticRegression           |   0.446 |                       0.391 |                   0.395 |                    0.433 |                                     0.442 | 0.486      |\n| LogisticRegressionElasticNet |   0.365 |                       0.395 |                   0.407 |                    0.433 |                                     0.496 | 0.482      |\n| LogisticRegressionLasso      |   0.343 |                       0.42  |                   0.399 |                    0.457 |                                     0.481 | 0.487      |\n| LogisticRegressionRidge      |   0.431 |                       0.439 |                   0.417 |                    0.466 |                                     0.435 | 0.473      |\n| NaiveBayes                   |   0.509 |                       0.543 |                   0.553 |                    0.589 |                                     0.594 | **0.629**  |\n| RandomForest                 |   0.351 |                       0.457 |                   0.43  |                    0.476 |                                     0.446 | 0.502      |\n| RidgeClassifier              |   0.45  |                       0.431 |                   0.412 |                    0.459 |                                     0.435 | 0.508      |\n| SVM                          |   0.359 |                       0.033 |                   0.041 |                    0.218 |                                     0.166 | 0.338      |\n| XGBoost                      |   0.308 |                       0.456 |                   0.401 |                    0.431 |                                     0.452 | 0.488      |"
     },
     "metadata": {},
     "output_type": "display_data"
    },
    {
     "name": "stderr",
     "output_type": "stream",
     "text": [
      "/tmp/ipykernel_16953/3322418740.py:34: FutureWarning: In future versions `DataFrame.to_latex` is expected to utilise the base implementation of `Styler.to_latex` for formatting and rendering. The arguments signature may therefore change. It is recommended instead to use `DataFrame.style.to_latex` which also contains additional functionality.\n",
      "  report_table.reset_index().to_latex(latex_file, index=False)\n"
     ]
    },
    {
     "data": {
      "text/plain": "<IPython.core.display.Markdown object>",
      "text/markdown": "## recall_micro"
     },
     "metadata": {},
     "output_type": "display_data"
    },
    {
     "data": {
      "text/plain": "<IPython.core.display.Markdown object>",
      "text/markdown": "| model_type                   |   title |   title and first paragraph | title and 5 sentences   | title and 10 sentences   |   title and first sentence each paragraph | raw text   |\n|:-----------------------------|--------:|----------------------------:|:------------------------|:-------------------------|------------------------------------------:|:-----------|\n| Dummy Classifier             |   0.487 |                       0.5   | 0.461                   | 0.374                    |                                     0.47  | 0.487      |\n| KNN                          |   0.891 |                       0.904 | **1.000**               | **1.000**                |                                     0.839 | **1.000**  |\n| LinearSVM                    |   0.374 |                       0.374 | 0.330                   | 0.365                    |                                     0.374 | 0.417      |\n| LogisticRegression           |   0.43  |                       0.357 | 0.343                   | 0.374                    |                                     0.391 | 0.439      |\n| LogisticRegressionElasticNet |   0.309 |                       0.357 | 0.339                   | 0.361                    |                                     0.435 | 0.443      |\n| LogisticRegressionLasso      |   0.283 |                       0.361 | 0.348                   | 0.400                    |                                     0.461 | 0.470      |\n| LogisticRegressionRidge      |   0.426 |                       0.413 | 0.378                   | 0.409                    |                                     0.383 | 0.417      |\n| NaiveBayes                   |   0.552 |                       0.622 | 0.622                   | 0.613                    |                                     0.691 | 0.717      |\n| RandomForest                 |   0.304 |                       0.439 | 0.391                   | 0.435                    |                                     0.374 | 0.435      |\n| RidgeClassifier              |   0.448 |                       0.409 | 0.378                   | 0.404                    |                                     0.387 | 0.452      |\n| SVM                          |   0.3   |                       0.017 | 0.022                   | 0.174                    |                                     0.209 | 0.335      |\n| XGBoost                      |   0.27  |                       0.435 | 0.400                   | 0.413                    |                                     0.413 | 0.443      |"
     },
     "metadata": {},
     "output_type": "display_data"
    },
    {
     "name": "stderr",
     "output_type": "stream",
     "text": [
      "/tmp/ipykernel_16953/3322418740.py:34: FutureWarning: In future versions `DataFrame.to_latex` is expected to utilise the base implementation of `Styler.to_latex` for formatting and rendering. The arguments signature may therefore change. It is recommended instead to use `DataFrame.style.to_latex` which also contains additional functionality.\n",
      "  report_table.reset_index().to_latex(latex_file, index=False)\n"
     ]
    },
    {
     "data": {
      "text/plain": "<IPython.core.display.Markdown object>",
      "text/markdown": "## precision_micro"
     },
     "metadata": {},
     "output_type": "display_data"
    },
    {
     "data": {
      "text/plain": "<IPython.core.display.Markdown object>",
      "text/markdown": "| model_type                   |   title |   title and first paragraph |   title and 5 sentences |   title and 10 sentences |   title and first sentence each paragraph | raw text   |\n|:-----------------------------|--------:|----------------------------:|------------------------:|-------------------------:|------------------------------------------:|:-----------|\n| Dummy Classifier             |   0.35  |                       0.362 |                   0.352 |                    0.413 |                                     0.324 | 0.352      |\n| KNN                          |   0.387 |                       0.357 |                   0.352 |                    0.352 |                                     0.348 | 0.353      |\n| LinearSVM                    |   0.471 |                       0.449 |                   0.505 |                    0.575 |                                     0.545 | 0.652      |\n| LogisticRegression           |   0.487 |                       0.474 |                   0.501 |                    0.577 |                                     0.571 | 0.633      |\n| LogisticRegressionElasticNet |   0.472 |                       0.485 |                   0.574 |                    0.563 |                                     0.656 | 0.601      |\n| LogisticRegressionLasso      |   0.523 |                       0.526 |                   0.494 |                    0.583 |                                     0.517 | 0.564      |\n| LogisticRegressionRidge      |   0.466 |                       0.496 |                   0.502 |                    0.595 |                                     0.584 | 0.585      |\n| NaiveBayes                   |   0.488 |                       0.501 |                   0.519 |                    0.583 |                                     0.533 | 0.583      |\n| RandomForest                 |   0.448 |                       0.541 |                   0.514 |                    0.599 |                                     0.581 | 0.629      |\n| RidgeClassifier              |   0.485 |                       0.479 |                   0.487 |                    0.587 |                                     0.582 | **0.666**  |\n| SVM                          |   0.474 |                       0.313 |                   0.343 |                    0.453 |                                     0.291 | 0.430      |\n| XGBoost                      |   0.381 |                       0.527 |                   0.411 |                    0.46  |                                     0.512 | 0.575      |"
     },
     "metadata": {},
     "output_type": "display_data"
    },
    {
     "name": "stderr",
     "output_type": "stream",
     "text": [
      "/tmp/ipykernel_16953/3322418740.py:34: FutureWarning: In future versions `DataFrame.to_latex` is expected to utilise the base implementation of `Styler.to_latex` for formatting and rendering. The arguments signature may therefore change. It is recommended instead to use `DataFrame.style.to_latex` which also contains additional functionality.\n",
      "  report_table.reset_index().to_latex(latex_file, index=False)\n"
     ]
    },
    {
     "data": {
      "text/plain": "<IPython.core.display.Markdown object>",
      "text/markdown": "## accuracy"
     },
     "metadata": {},
     "output_type": "display_data"
    },
    {
     "data": {
      "text/plain": "<IPython.core.display.Markdown object>",
      "text/markdown": "| model_type                   |   title |   title and first paragraph |   title and 5 sentences |   title and 10 sentences |   title and first sentence each paragraph | raw text   |\n|:-----------------------------|--------:|----------------------------:|------------------------:|-------------------------:|------------------------------------------:|:-----------|\n| Dummy Classifier             |   0     |                       0     |                   0     |                    0     |                                     0     | 0.000      |\n| KNN                          |   0     |                       0     |                   0     |                    0     |                                     0     | 0.000      |\n| LinearSVM                    |   0.067 |                       0.05  |                   0.067 |                    0.067 |                                     0.067 | 0.150      |\n| LogisticRegression           |   0.067 |                       0.067 |                   0.067 |                    0.067 |                                     0.033 | 0.150      |\n| LogisticRegressionElasticNet |   0.033 |                       0.067 |                   0.05  |                    0.1   |                                     0.067 | **0.167**  |\n| LogisticRegressionLasso      |   0.017 |                       0.067 |                   0.017 |                    0.083 |                                     0.033 | 0.083      |\n| LogisticRegressionRidge      |   0.033 |                       0.083 |                   0.1   |                    0.1   |                                     0.05  | 0.133      |\n| NaiveBayes                   |   0     |                       0.017 |                   0.05  |                    0.1   |                                     0.033 | 0.067      |\n| RandomForest                 |   0.033 |                       0.033 |                   0.083 |                    0.1   |                                     0.083 | 0.133      |\n| RidgeClassifier              |   0.017 |                       0.083 |                   0.1   |                    0.083 |                                     0.05  | 0.150      |\n| SVM                          |   0.05  |                       0.033 |                   0.017 |                    0.067 |                                     0.017 | 0.083      |\n| XGBoost                      |   0     |                       0.017 |                   0.017 |                    0.033 |                                     0.017 | 0.117      |"
     },
     "metadata": {},
     "output_type": "display_data"
    },
    {
     "name": "stderr",
     "output_type": "stream",
     "text": [
      "/tmp/ipykernel_16953/3322418740.py:34: FutureWarning: In future versions `DataFrame.to_latex` is expected to utilise the base implementation of `Styler.to_latex` for formatting and rendering. The arguments signature may therefore change. It is recommended instead to use `DataFrame.style.to_latex` which also contains additional functionality.\n",
      "  report_table.reset_index().to_latex(latex_file, index=False)\n"
     ]
    },
    {
     "data": {
      "text/plain": "<IPython.core.display.Markdown object>",
      "text/markdown": "# Polish"
     },
     "metadata": {},
     "output_type": "display_data"
    },
    {
     "data": {
      "text/plain": "<IPython.core.display.Markdown object>",
      "text/markdown": "## f1_micro"
     },
     "metadata": {},
     "output_type": "display_data"
    },
    {
     "data": {
      "text/plain": "<IPython.core.display.Markdown object>",
      "text/markdown": "| model_type                   |   title |   title and first paragraph |   title and 5 sentences |   title and 10 sentences |   title and first sentence each paragraph | raw text   |\n|:-----------------------------|--------:|----------------------------:|------------------------:|-------------------------:|------------------------------------------:|:-----------|\n| Dummy Classifier             |   0.501 |                       0.454 |                   0.491 |                    0.427 |                                     0.461 | 0.485      |\n| KNN                          |   0.534 |                       0.444 |                   0.452 |                    0.342 |                                     0.337 | 0.325      |\n| LinearSVM                    |   0.531 |                       0.454 |                   0.503 |                    0.465 |                                     0.545 | 0.550      |\n| LogisticRegression           |   0.538 |                       0.471 |                   0.519 |                    0.492 |                                     0.537 | 0.579      |\n| LogisticRegressionElasticNet |   0.513 |                       0.47  |                   0.486 |                    0.482 |                                     0.559 | 0.581      |\n| LogisticRegressionLasso      |   0.412 |                       0.484 |                   0.491 |                    0.509 |                                     0.57  | 0.566      |\n| LogisticRegressionRidge      |   0.546 |                       0.48  |                   0.539 |                    0.504 |                                     0.581 | 0.577      |\n| NaiveBayes                   |   0.526 |                       0.557 |                   0.589 |                    0.615 |                                     0.615 | **0.666**  |\n| RandomForest                 |   0.516 |                       0.492 |                   0.48  |                    0.477 |                                     0.555 | 0.609      |\n| RidgeClassifier              |   0.538 |                       0.472 |                   0.526 |                    0.489 |                                     0.572 | 0.594      |\n| SVM                          |   0.489 |                       0.323 |                   0.351 |                    0.435 |                                     0.445 | 0.437      |\n| XGBoost                      |   0.48  |                       0.49  |                   0.489 |                    0.505 |                                     0.548 | 0.624      |"
     },
     "metadata": {},
     "output_type": "display_data"
    },
    {
     "name": "stderr",
     "output_type": "stream",
     "text": [
      "/tmp/ipykernel_16953/3322418740.py:34: FutureWarning: In future versions `DataFrame.to_latex` is expected to utilise the base implementation of `Styler.to_latex` for formatting and rendering. The arguments signature may therefore change. It is recommended instead to use `DataFrame.style.to_latex` which also contains additional functionality.\n",
      "  report_table.reset_index().to_latex(latex_file, index=False)\n"
     ]
    },
    {
     "data": {
      "text/plain": "<IPython.core.display.Markdown object>",
      "text/markdown": "## recall_micro"
     },
     "metadata": {},
     "output_type": "display_data"
    },
    {
     "data": {
      "text/plain": "<IPython.core.display.Markdown object>",
      "text/markdown": "| model_type                   |   title |   title and first paragraph |   title and 5 sentences |   title and 10 sentences |   title and first sentence each paragraph | raw text   |\n|:-----------------------------|--------:|----------------------------:|------------------------:|-------------------------:|------------------------------------------:|:-----------|\n| Dummy Classifier             |   0.578 |                       0.466 |                   0.529 |                    0.417 |                                     0.5   | 0.549      |\n| KNN                          |   0.714 |                       0.549 |                   0.704 |                    0.641 |                                     0.33  | 0.636      |\n| LinearSVM                    |   0.519 |                       0.427 |                   0.505 |                    0.437 |                                     0.524 | 0.529      |\n| LogisticRegression           |   0.524 |                       0.451 |                   0.524 |                    0.466 |                                     0.515 | 0.553      |\n| LogisticRegressionElasticNet |   0.5   |                       0.456 |                   0.485 |                    0.456 |                                     0.568 | 0.587      |\n| LogisticRegressionLasso      |   0.345 |                       0.456 |                   0.51  |                    0.485 |                                     0.549 | 0.544      |\n| LogisticRegressionRidge      |   0.529 |                       0.471 |                   0.558 |                    0.476 |                                     0.568 | 0.549      |\n| NaiveBayes                   |   0.505 |                       0.592 |                   0.621 |                    0.655 |                                     0.684 | **0.830**  |\n| RandomForest                 |   0.5   |                       0.495 |                   0.485 |                    0.461 |                                     0.471 | 0.544      |\n| RidgeClassifier              |   0.524 |                       0.461 |                   0.534 |                    0.456 |                                     0.549 | 0.563      |\n| SVM                          |   0.505 |                       0.379 |                   0.403 |                    0.539 |                                     0.563 | 0.529      |\n| XGBoost                      |   0.481 |                       0.505 |                   0.476 |                    0.519 |                                     0.505 | 0.563      |"
     },
     "metadata": {},
     "output_type": "display_data"
    },
    {
     "name": "stderr",
     "output_type": "stream",
     "text": [
      "/tmp/ipykernel_16953/3322418740.py:34: FutureWarning: In future versions `DataFrame.to_latex` is expected to utilise the base implementation of `Styler.to_latex` for formatting and rendering. The arguments signature may therefore change. It is recommended instead to use `DataFrame.style.to_latex` which also contains additional functionality.\n",
      "  report_table.reset_index().to_latex(latex_file, index=False)\n"
     ]
    },
    {
     "data": {
      "text/plain": "<IPython.core.display.Markdown object>",
      "text/markdown": "## precision_micro"
     },
     "metadata": {},
     "output_type": "display_data"
    },
    {
     "data": {
      "text/plain": "<IPython.core.display.Markdown object>",
      "text/markdown": "| model_type                   |   title |   title and first paragraph |   title and 5 sentences |   title and 10 sentences |   title and first sentence each paragraph | raw text   |\n|:-----------------------------|--------:|----------------------------:|------------------------:|-------------------------:|------------------------------------------:|:-----------|\n| Dummy Classifier             |   0.472 |                       0.463 |                   0.506 |                    0.454 |                                     0.453 | 0.464      |\n| KNN                          |   0.525 |                       0.418 |                   0.587 |                    0.349 |                                     0.571 | 0.225      |\n| LinearSVM                    |   0.57  |                       0.526 |                   0.579 |                    0.572 |                                     0.675 | 0.650      |\n| LogisticRegression           |   0.58  |                       0.534 |                   0.562 |                    0.608 |                                     0.632 | 0.750      |\n| LogisticRegressionElasticNet |   0.594 |                       0.542 |                   0.581 |                    0.58  |                                     0.597 | 0.686      |\n| LogisticRegressionLasso      |   0.593 |                       0.583 |                   0.524 |                    0.585 |                                     0.632 | 0.617      |\n| LogisticRegressionRidge      |   0.595 |                       0.524 |                   0.566 |                    0.595 |                                     0.715 | 0.718      |\n| NaiveBayes                   |   0.584 |                       0.57  |                   0.583 |                    0.601 |                                     0.575 | 0.580      |\n| RandomForest                 |   0.639 |                       0.52  |                   0.517 |                    0.558 |                                     0.752 | **0.768**  |\n| RidgeClassifier              |   0.583 |                       0.515 |                   0.562 |                    0.589 |                                     0.713 | 0.736      |\n| SVM                          |   0.482 |                       0.43  |                   0.422 |                    0.375 |                                     0.376 | 0.417      |\n| XGBoost                      |   0.523 |                       0.528 |                   0.553 |                    0.537 |                                     0.633 | 0.766      |"
     },
     "metadata": {},
     "output_type": "display_data"
    },
    {
     "name": "stderr",
     "output_type": "stream",
     "text": [
      "/tmp/ipykernel_16953/3322418740.py:34: FutureWarning: In future versions `DataFrame.to_latex` is expected to utilise the base implementation of `Styler.to_latex` for formatting and rendering. The arguments signature may therefore change. It is recommended instead to use `DataFrame.style.to_latex` which also contains additional functionality.\n",
      "  report_table.reset_index().to_latex(latex_file, index=False)\n"
     ]
    },
    {
     "data": {
      "text/plain": "<IPython.core.display.Markdown object>",
      "text/markdown": "## accuracy"
     },
     "metadata": {},
     "output_type": "display_data"
    },
    {
     "data": {
      "text/plain": "<IPython.core.display.Markdown object>",
      "text/markdown": "| model_type                   |   title |   title and first paragraph |   title and 5 sentences |   title and 10 sentences | title and first sentence each paragraph   |   raw text |\n|:-----------------------------|--------:|----------------------------:|------------------------:|-------------------------:|:------------------------------------------|-----------:|\n| Dummy Classifier             |       0 |                       0     |                   0     |                    0     | 0.000                                     |      0     |\n| KNN                          |       0 |                       0     |                   0     |                    0     | 0.000                                     |      0     |\n| LinearSVM                    |       0 |                       0.026 |                   0.026 |                    0.026 | 0.000                                     |      0.026 |\n| LogisticRegression           |       0 |                       0     |                   0.026 |                    0.026 | 0.000                                     |      0.026 |\n| LogisticRegressionElasticNet |       0 |                       0.026 |                   0     |                    0.026 | 0.000                                     |      0     |\n| LogisticRegressionLasso      |       0 |                       0.026 |                   0     |                    0     | 0.000                                     |      0     |\n| LogisticRegressionRidge      |       0 |                       0     |                   0.026 |                    0.026 | 0.026                                     |      0.026 |\n| NaiveBayes                   |       0 |                       0     |                   0.026 |                    0.026 | 0.026                                     |      0     |\n| RandomForest                 |       0 |                       0     |                   0.026 |                    0.051 | **0.077**                                 |      0.051 |\n| RidgeClassifier              |       0 |                       0     |                   0.026 |                    0.026 | 0.026                                     |      0.026 |\n| SVM                          |       0 |                       0     |                   0     |                    0     | 0.000                                     |      0     |\n| XGBoost                      |       0 |                       0     |                   0.026 |                    0     | 0.026                                     |      0.051 |"
     },
     "metadata": {},
     "output_type": "display_data"
    },
    {
     "name": "stderr",
     "output_type": "stream",
     "text": [
      "/tmp/ipykernel_16953/3322418740.py:34: FutureWarning: In future versions `DataFrame.to_latex` is expected to utilise the base implementation of `Styler.to_latex` for formatting and rendering. The arguments signature may therefore change. It is recommended instead to use `DataFrame.style.to_latex` which also contains additional functionality.\n",
      "  report_table.reset_index().to_latex(latex_file, index=False)\n"
     ]
    },
    {
     "data": {
      "text/plain": "<IPython.core.display.Markdown object>",
      "text/markdown": "# Russian"
     },
     "metadata": {},
     "output_type": "display_data"
    },
    {
     "data": {
      "text/plain": "<IPython.core.display.Markdown object>",
      "text/markdown": "## f1_micro"
     },
     "metadata": {},
     "output_type": "display_data"
    },
    {
     "data": {
      "text/plain": "<IPython.core.display.Markdown object>",
      "text/markdown": "| model_type                   |   title |   title and first paragraph |   title and 5 sentences |   title and 10 sentences |   title and first sentence each paragraph | raw text   |\n|:-----------------------------|--------:|----------------------------:|------------------------:|-------------------------:|------------------------------------------:|:-----------|\n| Dummy Classifier             |   0.296 |                       0.272 |                   0.284 |                    0.291 |                                     0.321 | 0.265      |\n| KNN                          |   0.358 |                       0.368 |                   0.349 |                    0.349 |                                     0.349 | 0.349      |\n| LinearSVM                    |   0.321 |                       0.192 |                   0.221 |                    0.253 |                                     0.242 | 0.312      |\n| LogisticRegression           |   0.309 |                       0.264 |                   0.279 |                    0.261 |                                     0.295 | 0.327      |\n| LogisticRegressionElasticNet |   0.308 |                       0.22  |                   0.221 |                    0.256 |                                     0.278 | 0.343      |\n| LogisticRegressionLasso      |   0.299 |                       0.24  |                   0.221 |                    0.38  |                                     0.347 | 0.388      |\n| LogisticRegressionRidge      |   0.335 |                       0.38  |                   0.332 |                    0.334 |                                     0.313 | 0.327      |\n| NaiveBayes                   |   0.391 |                       0.435 |                   0.439 |                    0.463 |                                     0.487 | **0.504**  |\n| RandomForest                 |   0.296 |                       0.23  |                   0.208 |                    0.249 |                                     0.337 | 0.318      |\n| RidgeClassifier              |   0.328 |                       0.378 |                   0.301 |                    0.321 |                                     0.313 | 0.327      |\n| SVM                          |   0.181 |                       0.022 |                   0.022 |                    0.027 |                                     0.048 | 0.031      |\n| XGBoost                      |   0.245 |                       0.246 |                   0.249 |                    0.332 |                                     0.366 | 0.429      |"
     },
     "metadata": {},
     "output_type": "display_data"
    },
    {
     "name": "stderr",
     "output_type": "stream",
     "text": [
      "/tmp/ipykernel_16953/3322418740.py:34: FutureWarning: In future versions `DataFrame.to_latex` is expected to utilise the base implementation of `Styler.to_latex` for formatting and rendering. The arguments signature may therefore change. It is recommended instead to use `DataFrame.style.to_latex` which also contains additional functionality.\n",
      "  report_table.reset_index().to_latex(latex_file, index=False)\n"
     ]
    },
    {
     "data": {
      "text/plain": "<IPython.core.display.Markdown object>",
      "text/markdown": "## recall_micro"
     },
     "metadata": {},
     "output_type": "display_data"
    },
    {
     "data": {
      "text/plain": "<IPython.core.display.Markdown object>",
      "text/markdown": "| model_type                   |   title |   title and first paragraph |   title and 5 sentences | title and 10 sentences   | title and first sentence each paragraph   | raw text   |\n|:-----------------------------|--------:|----------------------------:|------------------------:|:-------------------------|:------------------------------------------|:-----------|\n| Dummy Classifier             |   0.523 |                       0.477 |                   0.477 | 0.512                    | 0.535                                     | 0.453      |\n| KNN                          |   0.488 |                       0.907 |                   0.965 | **1.000**                | **1.000**                                 | **1.000**  |\n| LinearSVM                    |   0.302 |                       0.163 |                   0.163 | 0.186                    | 0.186                                     | 0.233      |\n| LogisticRegression           |   0.279 |                       0.244 |                   0.209 | 0.198                    | 0.256                                     | 0.244      |\n| LogisticRegressionElasticNet |   0.244 |                       0.186 |                   0.174 | 0.186                    | 0.233                                     | 0.267      |\n| LogisticRegressionLasso      |   0.233 |                       0.221 |                   0.186 | 0.326                    | 0.326                                     | 0.395      |\n| LogisticRegressionRidge      |   0.349 |                       0.372 |                   0.267 | 0.279                    | 0.256                                     | 0.267      |\n| NaiveBayes                   |   0.453 |                       0.558 |                   0.558 | 0.570                    | 0.605                                     | 0.663      |\n| RandomForest                 |   0.267 |                       0.198 |                   0.151 | 0.209                    | 0.267                                     | 0.256      |\n| RidgeClassifier              |   0.314 |                       0.384 |                   0.267 | 0.279                    | 0.267                                     | 0.267      |\n| SVM                          |   0.163 |                       0.012 |                   0.012 | 0.035                    | 0.070                                     | 0.070      |\n| XGBoost                      |   0.233 |                       0.233 |                   0.244 | 0.314                    | 0.337                                     | 0.442      |"
     },
     "metadata": {},
     "output_type": "display_data"
    },
    {
     "name": "stderr",
     "output_type": "stream",
     "text": [
      "/tmp/ipykernel_16953/3322418740.py:34: FutureWarning: In future versions `DataFrame.to_latex` is expected to utilise the base implementation of `Styler.to_latex` for formatting and rendering. The arguments signature may therefore change. It is recommended instead to use `DataFrame.style.to_latex` which also contains additional functionality.\n",
      "  report_table.reset_index().to_latex(latex_file, index=False)\n"
     ]
    },
    {
     "data": {
      "text/plain": "<IPython.core.display.Markdown object>",
      "text/markdown": "## precision_micro"
     },
     "metadata": {},
     "output_type": "display_data"
    },
    {
     "data": {
      "text/plain": "<IPython.core.display.Markdown object>",
      "text/markdown": "| model_type                   |   title |   title and first paragraph |   title and 5 sentences | title and 10 sentences   |   title and first sentence each paragraph |   raw text |\n|:-----------------------------|--------:|----------------------------:|------------------------:|:-------------------------|------------------------------------------:|-----------:|\n| Dummy Classifier             |   0.212 |                       0.21  |                   0.216 | 0.219                    |                                     0.245 |      0.194 |\n| KNN                          |   0.307 |                       0.236 |                   0.219 | 0.218                    |                                     0.219 |      0.219 |\n| LinearSVM                    |   0.46  |                       0.298 |                   0.363 | 0.435                    |                                     0.432 |      0.503 |\n| LogisticRegression           |   0.452 |                       0.344 |                   0.469 | 0.430                    |                                     0.387 |      0.527 |\n| LogisticRegressionElasticNet |   0.5   |                       0.287 |                   0.383 | 0.417                    |                                     0.372 |      0.483 |\n| LogisticRegressionLasso      |   0.505 |                       0.282 |                   0.291 | **0.565**                |                                     0.409 |      0.421 |\n| LogisticRegressionRidge      |   0.368 |                       0.45  |                   0.494 | 0.466                    |                                     0.44  |      0.48  |\n| NaiveBayes                   |   0.378 |                       0.377 |                   0.393 | 0.426                    |                                     0.434 |      0.433 |\n| RandomForest                 |   0.447 |                       0.282 |                   0.378 | 0.355                    |                                     0.488 |      0.508 |\n| RidgeClassifier              |   0.397 |                       0.422 |                   0.377 | 0.405                    |                                     0.412 |      0.48  |\n| SVM                          |   0.211 |                       0.163 |                   0.163 | 0.021                    |                                     0.157 |      0.02  |\n| XGBoost                      |   0.352 |                       0.289 |                   0.322 | 0.378                    |                                     0.427 |      0.55  |"
     },
     "metadata": {},
     "output_type": "display_data"
    },
    {
     "name": "stderr",
     "output_type": "stream",
     "text": [
      "/tmp/ipykernel_16953/3322418740.py:34: FutureWarning: In future versions `DataFrame.to_latex` is expected to utilise the base implementation of `Styler.to_latex` for formatting and rendering. The arguments signature may therefore change. It is recommended instead to use `DataFrame.style.to_latex` which also contains additional functionality.\n",
      "  report_table.reset_index().to_latex(latex_file, index=False)\n"
     ]
    },
    {
     "data": {
      "text/plain": "<IPython.core.display.Markdown object>",
      "text/markdown": "## accuracy"
     },
     "metadata": {},
     "output_type": "display_data"
    },
    {
     "data": {
      "text/plain": "<IPython.core.display.Markdown object>",
      "text/markdown": "| model_type                   |   title |   title and first paragraph |   title and 5 sentences |   title and 10 sentences | title and first sentence each paragraph   |   raw text |\n|:-----------------------------|--------:|----------------------------:|------------------------:|-------------------------:|:------------------------------------------|-----------:|\n| Dummy Classifier             |   0     |                       0     |                   0     |                    0     | 0.000                                     |      0     |\n| KNN                          |   0     |                       0     |                   0     |                    0     | 0.000                                     |      0     |\n| LinearSVM                    |   0.026 |                       0.053 |                   0.079 |                    0.105 | 0.053                                     |      0.053 |\n| LogisticRegression           |   0.026 |                       0.053 |                   0.105 |                    0.105 | 0.053                                     |      0.079 |\n| LogisticRegressionElasticNet |   0.026 |                       0.026 |                   0.026 |                    0.053 | 0.053                                     |      0.158 |\n| LogisticRegressionLasso      |   0.026 |                       0.026 |                   0.026 |                    0.053 | 0.105                                     |      0.079 |\n| LogisticRegressionRidge      |   0     |                       0.053 |                   0.105 |                    0.132 | 0.079                                     |      0.053 |\n| NaiveBayes                   |   0     |                       0.026 |                   0.079 |                    0.079 | 0.026                                     |      0.053 |\n| RandomForest                 |   0.026 |                       0.026 |                   0.053 |                    0.026 | 0.132                                     |      0.132 |\n| RidgeClassifier              |   0.026 |                       0.053 |                   0.053 |                    0.132 | 0.053                                     |      0.053 |\n| SVM                          |   0     |                       0     |                   0     |                    0     | 0.000                                     |      0     |\n| XGBoost                      |   0.053 |                       0     |                   0     |                    0.053 | **0.184**                                 |      0.079 |"
     },
     "metadata": {},
     "output_type": "display_data"
    },
    {
     "name": "stderr",
     "output_type": "stream",
     "text": [
      "/tmp/ipykernel_16953/3322418740.py:34: FutureWarning: In future versions `DataFrame.to_latex` is expected to utilise the base implementation of `Styler.to_latex` for formatting and rendering. The arguments signature may therefore change. It is recommended instead to use `DataFrame.style.to_latex` which also contains additional functionality.\n",
      "  report_table.reset_index().to_latex(latex_file, index=False)\n"
     ]
    },
    {
     "data": {
      "text/plain": "<IPython.core.display.Markdown object>",
      "text/markdown": "# All 6 Languages"
     },
     "metadata": {},
     "output_type": "display_data"
    },
    {
     "data": {
      "text/plain": "<IPython.core.display.Markdown object>",
      "text/markdown": "## f1_micro"
     },
     "metadata": {},
     "output_type": "display_data"
    },
    {
     "data": {
      "text/plain": "<IPython.core.display.Markdown object>",
      "text/markdown": "| language   | model_type                   |   title |   title and first paragraph |   title and 5 sentences |   title and 10 sentences |   title and first sentence each paragraph | raw text   |\n|:-----------|:-----------------------------|--------:|----------------------------:|------------------------:|-------------------------:|------------------------------------------:|:-----------|\n| en         | Dummy Classifier             |   0.427 |                       0.459 |                   0.437 |                    0.433 |                                     0.43  | 0.435      |\n| en         | KNN                          |   0.49  |                       0.54  |                   0.527 |                    0.478 |                                     0.466 | 0.543      |\n| en         | LinearSVM                    |   0.593 |                       0.612 |                   0.639 |                    0.651 |                                     0.649 | 0.679      |\n| en         | LogisticRegression           |   0.594 |                       0.618 |                   0.628 |                    0.653 |                                     0.659 | 0.694      |\n| en         | LogisticRegressionElasticNet |   0.604 |                       0.612 |                   0.638 |                    0.64  |                                     0.669 | 0.685      |\n| en         | LogisticRegressionLasso      |   0.555 |                       0.615 |                   0.624 |                    0.624 |                                     0.655 | 0.645      |\n| en         | LogisticRegressionRidge      |   0.61  |                       0.629 |                   0.643 |                    0.669 |                                     0.659 | 0.700      |\n| en         | NaiveBayes                   |   0.631 |                       0.695 |                   0.718 |                    0.712 |                                     0.713 | **0.719**  |\n| en         | RandomForest                 |   0.581 |                       0.616 |                   0.632 |                    0.654 |                                     0.663 | 0.656      |\n| en         | RidgeClassifier              |   0.602 |                       0.64  |                   0.636 |                    0.66  |                                     0.656 | 0.689      |\n| en         | SVM                          |   0.467 |                       0.472 |                   0.489 |                    0.523 |                                     0.541 | 0.569      |\n| en         | XGBoost                      |   0.526 |                       0.6   |                   0.615 |                    0.616 |                                     0.637 | 0.648      |\n| fr         | Dummy Classifier             |   0.389 |                       0.365 |                   0.341 |                    0.329 |                                     0.371 | 0.332      |\n| fr         | KNN                          |   0.414 |                       0.435 |                   0.436 |                    0.433 |                                     0.348 | 0.436      |\n| fr         | LinearSVM                    |   0.248 |                       0.319 |                   0.322 |                    0.251 |                                     0.327 | 0.311      |\n| fr         | LogisticRegression           |   0.317 |                       0.349 |                   0.327 |                    0.256 |                                     0.336 | 0.337      |\n| fr         | LogisticRegressionElasticNet |   0.241 |                       0.365 |                   0.339 |                    0.301 |                                     0.361 | 0.351      |\n| fr         | LogisticRegressionLasso      |   0.281 |                       0.44  |                   0.365 |                    0.298 |                                     0.389 | 0.430      |\n| fr         | LogisticRegressionRidge      |   0.332 |                       0.385 |                   0.327 |                    0.308 |                                     0.315 | 0.323      |\n| fr         | NaiveBayes                   |   0.384 |                       0.434 |                   0.447 |                    0.482 |                                     0.472 | **0.556**  |\n| fr         | RandomForest                 |   0.271 |                       0.308 |                   0.272 |                    0.284 |                                     0.314 | 0.343      |\n| fr         | RidgeClassifier              |   0.355 |                       0.394 |                   0.324 |                    0.292 |                                     0.312 | 0.328      |\n| fr         | SVM                          |   0.297 |                       0.049 |                   0.094 |                    0.044 |                                     0.063 | 0.015      |\n| fr         | XGBoost                      |   0.237 |                       0.339 |                   0.313 |                    0.303 |                                     0.344 | 0.419      |\n| ge         | Dummy Classifier             |   0.434 |                       0.453 |                   0.449 |                    0.423 |                                     0.474 | 0.443      |\n| ge         | KNN                          |   0.44  |                       0.513 |                   0.509 |                    0.518 |                                     0.443 | 0.407      |\n| ge         | LinearSVM                    |   0.338 |                       0.365 |                   0.395 |                    0.382 |                                     0.426 | 0.459      |\n| ge         | LogisticRegression           |   0.34  |                       0.401 |                   0.409 |                    0.413 |                                     0.441 | 0.466      |\n| ge         | LogisticRegressionElasticNet |   0.284 |                       0.392 |                   0.419 |                    0.397 |                                     0.431 | 0.491      |\n| ge         | LogisticRegressionLasso      |   0.217 |                       0.402 |                   0.429 |                    0.389 |                                     0.467 | 0.521      |\n| ge         | LogisticRegressionRidge      |   0.35  |                       0.481 |                   0.47  |                    0.437 |                                     0.461 | 0.449      |\n| ge         | NaiveBayes                   |   0.376 |                       0.555 |                   0.556 |                    0.572 |                                     0.551 | **0.585**  |\n| ge         | RandomForest                 |   0.324 |                       0.55  |                   0.409 |                    0.405 |                                     0.418 | 0.436      |\n| ge         | RidgeClassifier              |   0.347 |                       0.504 |                   0.46  |                    0.436 |                                     0.451 | 0.457      |\n| ge         | SVM                          |   0.417 |                       0.199 |                   0.274 |                    0.359 |                                     0.32  | 0.424      |\n| ge         | XGBoost                      |   0.29  |                       0.543 |                   0.402 |                    0.395 |                                     0.442 | 0.501      |\n| it         | Dummy Classifier             |   0.388 |                       0.395 |                   0.376 |                    0.386 |                                     0.36  | 0.379      |\n| it         | KNN                          |   0.523 |                       0.491 |                   0.502 |                    0.502 |                                     0.459 | 0.503      |\n| it         | LinearSVM                    |   0.406 |                       0.401 |                   0.387 |                    0.432 |                                     0.42  | 0.476      |\n| it         | LogisticRegression           |   0.446 |                       0.391 |                   0.395 |                    0.433 |                                     0.442 | 0.486      |\n| it         | LogisticRegressionElasticNet |   0.365 |                       0.395 |                   0.407 |                    0.433 |                                     0.496 | 0.482      |\n| it         | LogisticRegressionLasso      |   0.343 |                       0.42  |                   0.399 |                    0.457 |                                     0.481 | 0.487      |\n| it         | LogisticRegressionRidge      |   0.431 |                       0.439 |                   0.417 |                    0.466 |                                     0.435 | 0.473      |\n| it         | NaiveBayes                   |   0.509 |                       0.543 |                   0.553 |                    0.589 |                                     0.594 | **0.629**  |\n| it         | RandomForest                 |   0.351 |                       0.457 |                   0.43  |                    0.476 |                                     0.446 | 0.502      |\n| it         | RidgeClassifier              |   0.45  |                       0.431 |                   0.412 |                    0.459 |                                     0.435 | 0.508      |\n| it         | SVM                          |   0.359 |                       0.033 |                   0.041 |                    0.218 |                                     0.166 | 0.338      |\n| it         | XGBoost                      |   0.308 |                       0.456 |                   0.401 |                    0.431 |                                     0.452 | 0.488      |\n| po         | Dummy Classifier             |   0.501 |                       0.454 |                   0.491 |                    0.427 |                                     0.461 | 0.485      |\n| po         | KNN                          |   0.534 |                       0.444 |                   0.452 |                    0.342 |                                     0.337 | 0.325      |\n| po         | LinearSVM                    |   0.531 |                       0.454 |                   0.503 |                    0.465 |                                     0.545 | 0.550      |\n| po         | LogisticRegression           |   0.538 |                       0.471 |                   0.519 |                    0.492 |                                     0.537 | 0.579      |\n| po         | LogisticRegressionElasticNet |   0.513 |                       0.47  |                   0.486 |                    0.482 |                                     0.559 | 0.581      |\n| po         | LogisticRegressionLasso      |   0.412 |                       0.484 |                   0.491 |                    0.509 |                                     0.57  | 0.566      |\n| po         | LogisticRegressionRidge      |   0.546 |                       0.48  |                   0.539 |                    0.504 |                                     0.581 | 0.577      |\n| po         | NaiveBayes                   |   0.526 |                       0.557 |                   0.589 |                    0.615 |                                     0.615 | **0.666**  |\n| po         | RandomForest                 |   0.516 |                       0.492 |                   0.48  |                    0.477 |                                     0.555 | 0.609      |\n| po         | RidgeClassifier              |   0.538 |                       0.472 |                   0.526 |                    0.489 |                                     0.572 | 0.594      |\n| po         | SVM                          |   0.489 |                       0.323 |                   0.351 |                    0.435 |                                     0.445 | 0.437      |\n| po         | XGBoost                      |   0.48  |                       0.49  |                   0.489 |                    0.505 |                                     0.548 | 0.624      |\n| ru         | Dummy Classifier             |   0.296 |                       0.272 |                   0.284 |                    0.291 |                                     0.321 | 0.265      |\n| ru         | KNN                          |   0.358 |                       0.368 |                   0.349 |                    0.349 |                                     0.349 | 0.349      |\n| ru         | LinearSVM                    |   0.321 |                       0.192 |                   0.221 |                    0.253 |                                     0.242 | 0.312      |\n| ru         | LogisticRegression           |   0.309 |                       0.264 |                   0.279 |                    0.261 |                                     0.295 | 0.327      |\n| ru         | LogisticRegressionElasticNet |   0.308 |                       0.22  |                   0.221 |                    0.256 |                                     0.278 | 0.343      |\n| ru         | LogisticRegressionLasso      |   0.299 |                       0.24  |                   0.221 |                    0.38  |                                     0.347 | 0.388      |\n| ru         | LogisticRegressionRidge      |   0.335 |                       0.38  |                   0.332 |                    0.334 |                                     0.313 | 0.327      |\n| ru         | NaiveBayes                   |   0.391 |                       0.435 |                   0.439 |                    0.463 |                                     0.487 | **0.504**  |\n| ru         | RandomForest                 |   0.296 |                       0.23  |                   0.208 |                    0.249 |                                     0.337 | 0.318      |\n| ru         | RidgeClassifier              |   0.328 |                       0.378 |                   0.301 |                    0.321 |                                     0.313 | 0.327      |\n| ru         | SVM                          |   0.181 |                       0.022 |                   0.022 |                    0.027 |                                     0.048 | 0.031      |\n| ru         | XGBoost                      |   0.245 |                       0.246 |                   0.249 |                    0.332 |                                     0.366 | 0.429      |"
     },
     "metadata": {},
     "output_type": "display_data"
    },
    {
     "name": "stderr",
     "output_type": "stream",
     "text": [
      "/tmp/ipykernel_16953/3322418740.py:69: FutureWarning: In future versions `DataFrame.to_latex` is expected to utilise the base implementation of `Styler.to_latex` for formatting and rendering. The arguments signature may therefore change. It is recommended instead to use `DataFrame.style.to_latex` which also contains additional functionality.\n",
      "  multi_language_report_table_metric.reset_index().to_latex(latex_file, index=False)\n"
     ]
    },
    {
     "data": {
      "text/plain": "<IPython.core.display.Markdown object>",
      "text/markdown": "## recall_micro"
     },
     "metadata": {},
     "output_type": "display_data"
    },
    {
     "data": {
      "text/plain": "<IPython.core.display.Markdown object>",
      "text/markdown": "| language   | model_type                   |   title |   title and first paragraph | title and 5 sentences   | title and 10 sentences   | title and first sentence each paragraph   | raw text   |\n|:-----------|:-----------------------------|--------:|----------------------------:|:------------------------|:-------------------------|:------------------------------------------|:-----------|\n| en         | Dummy Classifier             |   0.482 |                       0.533 | 0.499                   | 0.416                    | 0.491                                     | 0.491      |\n| en         | KNN                          |   0.792 |                       0.719 | 0.680                   | **0.829**                | 0.800                                     | 0.523      |\n| en         | LinearSVM                    |   0.592 |                       0.577 | 0.587                   | 0.597                    | 0.606                                     | 0.641      |\n| en         | LogisticRegression           |   0.555 |                       0.589 | 0.582                   | 0.606                    | 0.623                                     | 0.658      |\n| en         | LogisticRegressionElasticNet |   0.56  |                       0.572 | 0.582                   | 0.589                    | 0.636                                     | 0.631      |\n| en         | LogisticRegressionLasso      |   0.482 |                       0.577 | 0.575                   | 0.587                    | 0.623                                     | 0.601      |\n| en         | LogisticRegressionRidge      |   0.589 |                       0.592 | 0.601                   | 0.626                    | 0.616                                     | 0.660      |\n| en         | NaiveBayes                   |   0.667 |                       0.719 | 0.753                   | 0.751                    | 0.760                                     | 0.760      |\n| en         | RandomForest                 |   0.518 |                       0.567 | 0.577                   | 0.604                    | 0.604                                     | 0.609      |\n| en         | RidgeClassifier              |   0.57  |                       0.614 | 0.587                   | 0.621                    | 0.614                                     | 0.653      |\n| en         | SVM                          |   0.45  |                       0.428 | 0.457                   | 0.479                    | 0.516                                     | 0.535      |\n| en         | XGBoost                      |   0.479 |                       0.567 | 0.584                   | 0.570                    | 0.592                                     | 0.614      |\n| fr         | Dummy Classifier             |   0.563 |                       0.532 | 0.492                   | 0.468                    | 0.532                                     | 0.484      |\n| fr         | KNN                          |   0.865 |                       0.968 | 0.992                   | **1.000**                | 0.659                                     | **1.000**  |\n| fr         | LinearSVM                    |   0.238 |                       0.286 | 0.302                   | 0.206                    | 0.286                                     | 0.270      |\n| fr         | LogisticRegression           |   0.341 |                       0.317 | 0.286                   | 0.206                    | 0.294                                     | 0.286      |\n| fr         | LogisticRegressionElasticNet |   0.214 |                       0.333 | 0.302                   | 0.230                    | 0.317                                     | 0.302      |\n| fr         | LogisticRegressionLasso      |   0.246 |                       0.397 | 0.325                   | 0.270                    | 0.389                                     | 0.421      |\n| fr         | LogisticRegressionRidge      |   0.357 |                       0.373 | 0.317                   | 0.254                    | 0.278                                     | 0.278      |\n| fr         | NaiveBayes                   |   0.429 |                       0.532 | 0.524                   | 0.563                    | 0.571                                     | 0.690      |\n| fr         | RandomForest                 |   0.246 |                       0.278 | 0.238                   | 0.246                    | 0.278                                     | 0.325      |\n| fr         | RidgeClassifier              |   0.381 |                       0.381 | 0.317                   | 0.246                    | 0.278                                     | 0.294      |\n| fr         | SVM                          |   0.317 |                       0.063 | 0.079                   | 0.032                    | 0.063                                     | 0.008      |\n| fr         | XGBoost                      |   0.23  |                       0.381 | 0.294                   | 0.278                    | 0.365                                     | 0.405      |\n| ge         | Dummy Classifier             |   0.517 |                       0.5   | 0.494                   | 0.459                    | 0.529                                     | 0.523      |\n| ge         | KNN                          |   0.686 |                       0.756 | 0.767                   | **0.860**                | 0.767                                     | 0.756      |\n| ge         | LinearSVM                    |   0.302 |                       0.331 | 0.355                   | 0.343                    | 0.419                                     | 0.442      |\n| ge         | LogisticRegression           |   0.308 |                       0.378 | 0.378                   | 0.372                    | 0.424                                     | 0.448      |\n| ge         | LogisticRegressionElasticNet |   0.25  |                       0.36  | 0.390                   | 0.366                    | 0.424                                     | 0.494      |\n| ge         | LogisticRegressionLasso      |   0.145 |                       0.366 | 0.384                   | 0.343                    | 0.436                                     | 0.506      |\n| ge         | LogisticRegressionRidge      |   0.349 |                       0.477 | 0.459                   | 0.413                    | 0.453                                     | 0.436      |\n| ge         | NaiveBayes                   |   0.314 |                       0.605 | 0.581                   | 0.599                    | 0.663                                     | 0.698      |\n| ge         | RandomForest                 |   0.291 |                       0.576 | 0.378                   | 0.372                    | 0.378                                     | 0.395      |\n| ge         | RidgeClassifier              |   0.343 |                       0.494 | 0.448                   | 0.419                    | 0.448                                     | 0.442      |\n| ge         | SVM                          |   0.483 |                       0.25  | 0.314                   | 0.436                    | 0.372                                     | 0.547      |\n| ge         | XGBoost                      |   0.279 |                       0.669 | 0.343                   | 0.343                    | 0.401                                     | 0.453      |\n| it         | Dummy Classifier             |   0.487 |                       0.5   | 0.461                   | 0.374                    | 0.470                                     | 0.487      |\n| it         | KNN                          |   0.891 |                       0.904 | **1.000**               | **1.000**                | 0.839                                     | **1.000**  |\n| it         | LinearSVM                    |   0.374 |                       0.374 | 0.330                   | 0.365                    | 0.374                                     | 0.417      |\n| it         | LogisticRegression           |   0.43  |                       0.357 | 0.343                   | 0.374                    | 0.391                                     | 0.439      |\n| it         | LogisticRegressionElasticNet |   0.309 |                       0.357 | 0.339                   | 0.361                    | 0.435                                     | 0.443      |\n| it         | LogisticRegressionLasso      |   0.283 |                       0.361 | 0.348                   | 0.400                    | 0.461                                     | 0.470      |\n| it         | LogisticRegressionRidge      |   0.426 |                       0.413 | 0.378                   | 0.409                    | 0.383                                     | 0.417      |\n| it         | NaiveBayes                   |   0.552 |                       0.622 | 0.622                   | 0.613                    | 0.691                                     | 0.717      |\n| it         | RandomForest                 |   0.304 |                       0.439 | 0.391                   | 0.435                    | 0.374                                     | 0.435      |\n| it         | RidgeClassifier              |   0.448 |                       0.409 | 0.378                   | 0.404                    | 0.387                                     | 0.452      |\n| it         | SVM                          |   0.3   |                       0.017 | 0.022                   | 0.174                    | 0.209                                     | 0.335      |\n| it         | XGBoost                      |   0.27  |                       0.435 | 0.400                   | 0.413                    | 0.413                                     | 0.443      |\n| po         | Dummy Classifier             |   0.578 |                       0.466 | 0.529                   | 0.417                    | 0.500                                     | 0.549      |\n| po         | KNN                          |   0.714 |                       0.549 | 0.704                   | 0.641                    | 0.330                                     | 0.636      |\n| po         | LinearSVM                    |   0.519 |                       0.427 | 0.505                   | 0.437                    | 0.524                                     | 0.529      |\n| po         | LogisticRegression           |   0.524 |                       0.451 | 0.524                   | 0.466                    | 0.515                                     | 0.553      |\n| po         | LogisticRegressionElasticNet |   0.5   |                       0.456 | 0.485                   | 0.456                    | 0.568                                     | 0.587      |\n| po         | LogisticRegressionLasso      |   0.345 |                       0.456 | 0.510                   | 0.485                    | 0.549                                     | 0.544      |\n| po         | LogisticRegressionRidge      |   0.529 |                       0.471 | 0.558                   | 0.476                    | 0.568                                     | 0.549      |\n| po         | NaiveBayes                   |   0.505 |                       0.592 | 0.621                   | 0.655                    | 0.684                                     | **0.830**  |\n| po         | RandomForest                 |   0.5   |                       0.495 | 0.485                   | 0.461                    | 0.471                                     | 0.544      |\n| po         | RidgeClassifier              |   0.524 |                       0.461 | 0.534                   | 0.456                    | 0.549                                     | 0.563      |\n| po         | SVM                          |   0.505 |                       0.379 | 0.403                   | 0.539                    | 0.563                                     | 0.529      |\n| po         | XGBoost                      |   0.481 |                       0.505 | 0.476                   | 0.519                    | 0.505                                     | 0.563      |\n| ru         | Dummy Classifier             |   0.523 |                       0.477 | 0.477                   | 0.512                    | 0.535                                     | 0.453      |\n| ru         | KNN                          |   0.488 |                       0.907 | 0.965                   | **1.000**                | **1.000**                                 | **1.000**  |\n| ru         | LinearSVM                    |   0.302 |                       0.163 | 0.163                   | 0.186                    | 0.186                                     | 0.233      |\n| ru         | LogisticRegression           |   0.279 |                       0.244 | 0.209                   | 0.198                    | 0.256                                     | 0.244      |\n| ru         | LogisticRegressionElasticNet |   0.244 |                       0.186 | 0.174                   | 0.186                    | 0.233                                     | 0.267      |\n| ru         | LogisticRegressionLasso      |   0.233 |                       0.221 | 0.186                   | 0.326                    | 0.326                                     | 0.395      |\n| ru         | LogisticRegressionRidge      |   0.349 |                       0.372 | 0.267                   | 0.279                    | 0.256                                     | 0.267      |\n| ru         | NaiveBayes                   |   0.453 |                       0.558 | 0.558                   | 0.570                    | 0.605                                     | 0.663      |\n| ru         | RandomForest                 |   0.267 |                       0.198 | 0.151                   | 0.209                    | 0.267                                     | 0.256      |\n| ru         | RidgeClassifier              |   0.314 |                       0.384 | 0.267                   | 0.279                    | 0.267                                     | 0.267      |\n| ru         | SVM                          |   0.163 |                       0.012 | 0.012                   | 0.035                    | 0.070                                     | 0.070      |\n| ru         | XGBoost                      |   0.233 |                       0.233 | 0.244                   | 0.314                    | 0.337                                     | 0.442      |"
     },
     "metadata": {},
     "output_type": "display_data"
    },
    {
     "name": "stderr",
     "output_type": "stream",
     "text": [
      "/tmp/ipykernel_16953/3322418740.py:69: FutureWarning: In future versions `DataFrame.to_latex` is expected to utilise the base implementation of `Styler.to_latex` for formatting and rendering. The arguments signature may therefore change. It is recommended instead to use `DataFrame.style.to_latex` which also contains additional functionality.\n",
      "  multi_language_report_table_metric.reset_index().to_latex(latex_file, index=False)\n"
     ]
    },
    {
     "data": {
      "text/plain": "<IPython.core.display.Markdown object>",
      "text/markdown": "## precision_micro"
     },
     "metadata": {},
     "output_type": "display_data"
    },
    {
     "data": {
      "text/plain": "<IPython.core.display.Markdown object>",
      "text/markdown": "| language   | model_type                   |   title |   title and first paragraph |   title and 5 sentences | title and 10 sentences   | title and first sentence each paragraph   | raw text   |\n|:-----------|:-----------------------------|--------:|----------------------------:|------------------------:|:-------------------------|:------------------------------------------|:-----------|\n| en         | Dummy Classifier             |   0.425 |                       0.443 |                   0.428 | 0.460                    | 0.418                                     | 0.426      |\n| en         | KNN                          |   0.519 |                       0.506 |                   0.552 | 0.456                    | 0.365                                     | 0.668      |\n| en         | LinearSVM                    |   0.619 |                       0.69  |                   0.734 | 0.745                    | 0.734                                     | 0.746      |\n| en         | LogisticRegression           |   0.647 |                       0.669 |                   0.719 | 0.736                    | 0.723                                     | 0.751      |\n| en         | LogisticRegressionElasticNet |   0.664 |                       0.684 |                   0.729 | 0.721                    | 0.731                                     | 0.770      |\n| en         | LogisticRegressionLasso      |   0.674 |                       0.679 |                   0.697 | 0.685                    | 0.702                                     | 0.714      |\n| en         | LogisticRegressionRidge      |   0.645 |                       0.708 |                   0.71  | 0.737                    | 0.737                                     | 0.761      |\n| en         | NaiveBayes                   |   0.626 |                       0.697 |                   0.709 | 0.701                    | 0.698                                     | 0.707      |\n| en         | RandomForest                 |   0.698 |                       0.714 |                   0.736 | 0.788                    | **0.808**                                 | 0.749      |\n| en         | RidgeClassifier              |   0.645 |                       0.69  |                   0.722 | 0.720                    | 0.721                                     | 0.748      |\n| en         | SVM                          |   0.631 |                       0.759 |                   0.712 | 0.644                    | 0.699                                     | 0.719      |\n| en         | XGBoost                      |   0.636 |                       0.647 |                   0.664 | 0.717                    | 0.707                                     | 0.696      |\n| fr         | Dummy Classifier             |   0.317 |                       0.3   |                   0.281 | 0.300                    | 0.308                                     | 0.292      |\n| fr         | KNN                          |   0.292 |                       0.3   |                   0.297 | 0.295                    | 0.317                                     | 0.297      |\n| fr         | LinearSVM                    |   0.335 |                       0.4   |                   0.43  | 0.383                    | 0.425                                     | 0.396      |\n| fr         | LogisticRegression           |   0.364 |                       0.442 |                   0.465 | 0.394                    | 0.425                                     | 0.448      |\n| fr         | LogisticRegressionElasticNet |   0.358 |                       0.569 |                   0.443 | **0.588**                | 0.462                                     | 0.482      |\n| fr         | LogisticRegressionLasso      |   0.458 |                       0.583 |                   0.523 | 0.461                    | 0.439                                     | 0.468      |\n| fr         | LogisticRegressionRidge      |   0.342 |                       0.463 |                   0.41  | 0.499                    | 0.420                                     | 0.485      |\n| fr         | NaiveBayes                   |   0.412 |                       0.4   |                   0.423 | 0.468                    | 0.450                                     | 0.519      |\n| fr         | RandomForest                 |   0.446 |                       0.399 |                   0.467 | 0.504                    | 0.412                                     | 0.405      |\n| fr         | RidgeClassifier              |   0.37  |                       0.494 |                   0.382 | 0.466                    | 0.403                                     | 0.482      |\n| fr         | SVM                          |   0.341 |                       0.112 |                   0.319 | 0.070                    | 0.063                                     | 0.087      |\n| fr         | XGBoost                      |   0.339 |                       0.355 |                   0.417 | 0.394                    | 0.379                                     | 0.502      |\n| ge         | Dummy Classifier             |   0.403 |                       0.449 |                   0.444 | 0.442                    | 0.462                                     | 0.408      |\n| ge         | KNN                          |   0.433 |                       0.452 |                   0.485 | 0.507                    | 0.439                                     | 0.420      |\n| ge         | LinearSVM                    |   0.477 |                       0.451 |                   0.506 | 0.458                    | 0.464                                     | 0.525      |\n| ge         | LogisticRegression           |   0.474 |                       0.466 |                   0.53  | 0.518                    | 0.485                                     | 0.521      |\n| ge         | LogisticRegressionElasticNet |   0.416 |                       0.507 |                   0.489 | 0.460                    | 0.467                                     | 0.507      |\n| ge         | LogisticRegressionLasso      |   0.451 |                       0.553 |                   0.524 | 0.493                    | 0.523                                     | 0.587      |\n| ge         | LogisticRegressionRidge      |   0.45  |                       0.528 |                   0.501 | 0.494                    | 0.519                                     | 0.484      |\n| ge         | NaiveBayes                   |   0.505 |                       0.539 |                   0.557 | 0.572                    | 0.498                                     | 0.531      |\n| ge         | RandomForest                 |   0.478 |                       0.59  |                   0.503 | 0.476                    | 0.550                                     | 0.496      |\n| ge         | RidgeClassifier              |   0.451 |                       0.556 |                   0.492 | 0.486                    | 0.498                                     | 0.493      |\n| ge         | SVM                          |   0.396 |                       0.207 |                   0.288 | 0.441                    | 0.310                                     | 0.351      |\n| ge         | XGBoost                      |   0.502 |                       0.502 |                   0.553 | 0.516                    | 0.608                                     | **0.612**  |\n| it         | Dummy Classifier             |   0.35  |                       0.362 |                   0.352 | 0.413                    | 0.324                                     | 0.352      |\n| it         | KNN                          |   0.387 |                       0.357 |                   0.352 | 0.352                    | 0.348                                     | 0.353      |\n| it         | LinearSVM                    |   0.471 |                       0.449 |                   0.505 | 0.575                    | 0.545                                     | 0.652      |\n| it         | LogisticRegression           |   0.487 |                       0.474 |                   0.501 | 0.577                    | 0.571                                     | 0.633      |\n| it         | LogisticRegressionElasticNet |   0.472 |                       0.485 |                   0.574 | 0.563                    | 0.656                                     | 0.601      |\n| it         | LogisticRegressionLasso      |   0.523 |                       0.526 |                   0.494 | 0.583                    | 0.517                                     | 0.564      |\n| it         | LogisticRegressionRidge      |   0.466 |                       0.496 |                   0.502 | 0.595                    | 0.584                                     | 0.585      |\n| it         | NaiveBayes                   |   0.488 |                       0.501 |                   0.519 | 0.583                    | 0.533                                     | 0.583      |\n| it         | RandomForest                 |   0.448 |                       0.541 |                   0.514 | 0.599                    | 0.581                                     | 0.629      |\n| it         | RidgeClassifier              |   0.485 |                       0.479 |                   0.487 | 0.587                    | 0.582                                     | **0.666**  |\n| it         | SVM                          |   0.474 |                       0.313 |                   0.343 | 0.453                    | 0.291                                     | 0.430      |\n| it         | XGBoost                      |   0.381 |                       0.527 |                   0.411 | 0.460                    | 0.512                                     | 0.575      |\n| po         | Dummy Classifier             |   0.472 |                       0.463 |                   0.506 | 0.454                    | 0.453                                     | 0.464      |\n| po         | KNN                          |   0.525 |                       0.418 |                   0.587 | 0.349                    | 0.571                                     | 0.225      |\n| po         | LinearSVM                    |   0.57  |                       0.526 |                   0.579 | 0.572                    | 0.675                                     | 0.650      |\n| po         | LogisticRegression           |   0.58  |                       0.534 |                   0.562 | 0.608                    | 0.632                                     | 0.750      |\n| po         | LogisticRegressionElasticNet |   0.594 |                       0.542 |                   0.581 | 0.580                    | 0.597                                     | 0.686      |\n| po         | LogisticRegressionLasso      |   0.593 |                       0.583 |                   0.524 | 0.585                    | 0.632                                     | 0.617      |\n| po         | LogisticRegressionRidge      |   0.595 |                       0.524 |                   0.566 | 0.595                    | 0.715                                     | 0.718      |\n| po         | NaiveBayes                   |   0.584 |                       0.57  |                   0.583 | 0.601                    | 0.575                                     | 0.580      |\n| po         | RandomForest                 |   0.639 |                       0.52  |                   0.517 | 0.558                    | 0.752                                     | **0.768**  |\n| po         | RidgeClassifier              |   0.583 |                       0.515 |                   0.562 | 0.589                    | 0.713                                     | 0.736      |\n| po         | SVM                          |   0.482 |                       0.43  |                   0.422 | 0.375                    | 0.376                                     | 0.417      |\n| po         | XGBoost                      |   0.523 |                       0.528 |                   0.553 | 0.537                    | 0.633                                     | 0.766      |\n| ru         | Dummy Classifier             |   0.212 |                       0.21  |                   0.216 | 0.219                    | 0.245                                     | 0.194      |\n| ru         | KNN                          |   0.307 |                       0.236 |                   0.219 | 0.218                    | 0.219                                     | 0.219      |\n| ru         | LinearSVM                    |   0.46  |                       0.298 |                   0.363 | 0.435                    | 0.432                                     | 0.503      |\n| ru         | LogisticRegression           |   0.452 |                       0.344 |                   0.469 | 0.430                    | 0.387                                     | 0.527      |\n| ru         | LogisticRegressionElasticNet |   0.5   |                       0.287 |                   0.383 | 0.417                    | 0.372                                     | 0.483      |\n| ru         | LogisticRegressionLasso      |   0.505 |                       0.282 |                   0.291 | **0.565**                | 0.409                                     | 0.421      |\n| ru         | LogisticRegressionRidge      |   0.368 |                       0.45  |                   0.494 | 0.466                    | 0.440                                     | 0.480      |\n| ru         | NaiveBayes                   |   0.378 |                       0.377 |                   0.393 | 0.426                    | 0.434                                     | 0.433      |\n| ru         | RandomForest                 |   0.447 |                       0.282 |                   0.378 | 0.355                    | 0.488                                     | 0.508      |\n| ru         | RidgeClassifier              |   0.397 |                       0.422 |                   0.377 | 0.405                    | 0.412                                     | 0.480      |\n| ru         | SVM                          |   0.211 |                       0.163 |                   0.163 | 0.021                    | 0.157                                     | 0.020      |\n| ru         | XGBoost                      |   0.352 |                       0.289 |                   0.322 | 0.378                    | 0.427                                     | 0.550      |"
     },
     "metadata": {},
     "output_type": "display_data"
    },
    {
     "name": "stderr",
     "output_type": "stream",
     "text": [
      "/tmp/ipykernel_16953/3322418740.py:69: FutureWarning: In future versions `DataFrame.to_latex` is expected to utilise the base implementation of `Styler.to_latex` for formatting and rendering. The arguments signature may therefore change. It is recommended instead to use `DataFrame.style.to_latex` which also contains additional functionality.\n",
      "  multi_language_report_table_metric.reset_index().to_latex(latex_file, index=False)\n"
     ]
    },
    {
     "data": {
      "text/plain": "<IPython.core.display.Markdown object>",
      "text/markdown": "## accuracy"
     },
     "metadata": {},
     "output_type": "display_data"
    },
    {
     "data": {
      "text/plain": "<IPython.core.display.Markdown object>",
      "text/markdown": "| language   | model_type                   |   title | title and first paragraph   | title and 5 sentences   | title and 10 sentences   | title and first sentence each paragraph   | raw text   |\n|:-----------|:-----------------------------|--------:|:----------------------------|:------------------------|:-------------------------|:------------------------------------------|:-----------|\n| en         | Dummy Classifier             |   0     | 0.000                       | 0.000                   | 0.000                    | 0.000                                     | 0.000      |\n| en         | KNN                          |   0     | 0.000                       | 0.000                   | 0.000                    | 0.000                                     | 0.000      |\n| en         | LinearSVM                    |   0.039 | 0.058                       | 0.087                   | 0.107                    | 0.117                                     | 0.107      |\n| en         | LogisticRegression           |   0.078 | 0.029                       | 0.078                   | 0.078                    | 0.087                                     | 0.087      |\n| en         | LogisticRegressionElasticNet |   0.097 | 0.068                       | 0.078                   | 0.078                    | 0.078                                     | 0.107      |\n| en         | LogisticRegressionLasso      |   0.068 | 0.068                       | 0.078                   | 0.039                    | 0.068                                     | 0.058      |\n| en         | LogisticRegressionRidge      |   0.087 | 0.068                       | 0.087                   | 0.097                    | 0.097                                     | 0.087      |\n| en         | NaiveBayes                   |   0.029 | 0.029                       | 0.039                   | 0.039                    | 0.019                                     | 0.029      |\n| en         | RandomForest                 |   0.068 | 0.078                       | 0.117                   | **0.146**                | 0.136                                     | **0.146**  |\n| en         | RidgeClassifier              |   0.078 | 0.039                       | 0.087                   | 0.078                    | 0.087                                     | 0.078      |\n| en         | SVM                          |   0.049 | 0.058                       | 0.058                   | 0.058                    | 0.078                                     | 0.097      |\n| en         | XGBoost                      |   0.029 | 0.039                       | 0.058                   | 0.087                    | 0.068                                     | 0.107      |\n| fr         | Dummy Classifier             |   0     | 0.000                       | 0.000                   | 0.000                    | 0.000                                     | 0.000      |\n| fr         | KNN                          |   0     | 0.000                       | 0.000                   | 0.000                    | 0.000                                     | 0.000      |\n| fr         | LinearSVM                    |   0     | 0.048                       | 0.048                   | 0.071                    | 0.024                                     | 0.071      |\n| fr         | LogisticRegression           |   0.024 | 0.048                       | 0.048                   | 0.071                    | 0.048                                     | 0.071      |\n| fr         | LogisticRegressionElasticNet |   0     | 0.048                       | 0.000                   | 0.071                    | 0.071                                     | **0.143**  |\n| fr         | LogisticRegressionLasso      |   0     | 0.048                       | 0.024                   | 0.024                    | 0.024                                     | 0.119      |\n| fr         | LogisticRegressionRidge      |   0     | 0.048                       | 0.024                   | 0.071                    | 0.000                                     | 0.095      |\n| fr         | NaiveBayes                   |   0.024 | 0.000                       | 0.000                   | 0.000                    | 0.024                                     | 0.000      |\n| fr         | RandomForest                 |   0     | 0.000                       | 0.000                   | 0.048                    | 0.024                                     | 0.071      |\n| fr         | RidgeClassifier              |   0     | 0.048                       | 0.024                   | 0.071                    | 0.000                                     | 0.095      |\n| fr         | SVM                          |   0     | 0.000                       | 0.000                   | 0.000                    | 0.048                                     | 0.000      |\n| fr         | XGBoost                      |   0     | 0.000                       | 0.024                   | 0.000                    | 0.048                                     | 0.024      |\n| ge         | Dummy Classifier             |   0     | 0.000                       | 0.000                   | 0.000                    | 0.000                                     | 0.000      |\n| ge         | KNN                          |   0     | 0.000                       | 0.000                   | 0.000                    | 0.000                                     | 0.000      |\n| ge         | LinearSVM                    |   0     | 0.000                       | 0.000                   | 0.000                    | 0.000                                     | **0.029**  |\n| ge         | LogisticRegression           |   0     | 0.000                       | 0.000                   | **0.029**                | 0.000                                     | 0.000      |\n| ge         | LogisticRegressionElasticNet |   0     | **0.029**                   | 0.000                   | 0.000                    | 0.000                                     | **0.029**  |\n| ge         | LogisticRegressionLasso      |   0     | 0.000                       | 0.000                   | 0.000                    | 0.000                                     | 0.000      |\n| ge         | LogisticRegressionRidge      |   0     | 0.000                       | 0.000                   | 0.000                    | 0.000                                     | 0.000      |\n| ge         | NaiveBayes                   |   0     | 0.000                       | 0.000                   | 0.000                    | 0.000                                     | 0.000      |\n| ge         | RandomForest                 |   0     | 0.000                       | 0.000                   | **0.029**                | 0.000                                     | **0.029**  |\n| ge         | RidgeClassifier              |   0     | 0.000                       | 0.000                   | 0.000                    | 0.000                                     | **0.029**  |\n| ge         | SVM                          |   0     | 0.000                       | **0.029**               | 0.000                    | **0.029**                                 | 0.000      |\n| ge         | XGBoost                      |   0     | **0.029**                   | 0.000                   | 0.000                    | 0.000                                     | 0.000      |\n| it         | Dummy Classifier             |   0     | 0.000                       | 0.000                   | 0.000                    | 0.000                                     | 0.000      |\n| it         | KNN                          |   0     | 0.000                       | 0.000                   | 0.000                    | 0.000                                     | 0.000      |\n| it         | LinearSVM                    |   0.067 | 0.050                       | 0.067                   | 0.067                    | 0.067                                     | 0.150      |\n| it         | LogisticRegression           |   0.067 | 0.067                       | 0.067                   | 0.067                    | 0.033                                     | 0.150      |\n| it         | LogisticRegressionElasticNet |   0.033 | 0.067                       | 0.050                   | 0.100                    | 0.067                                     | **0.167**  |\n| it         | LogisticRegressionLasso      |   0.017 | 0.067                       | 0.017                   | 0.083                    | 0.033                                     | 0.083      |\n| it         | LogisticRegressionRidge      |   0.033 | 0.083                       | 0.100                   | 0.100                    | 0.050                                     | 0.133      |\n| it         | NaiveBayes                   |   0     | 0.017                       | 0.050                   | 0.100                    | 0.033                                     | 0.067      |\n| it         | RandomForest                 |   0.033 | 0.033                       | 0.083                   | 0.100                    | 0.083                                     | 0.133      |\n| it         | RidgeClassifier              |   0.017 | 0.083                       | 0.100                   | 0.083                    | 0.050                                     | 0.150      |\n| it         | SVM                          |   0.05  | 0.033                       | 0.017                   | 0.067                    | 0.017                                     | 0.083      |\n| it         | XGBoost                      |   0     | 0.017                       | 0.017                   | 0.033                    | 0.017                                     | 0.117      |\n| po         | Dummy Classifier             |   0     | 0.000                       | 0.000                   | 0.000                    | 0.000                                     | 0.000      |\n| po         | KNN                          |   0     | 0.000                       | 0.000                   | 0.000                    | 0.000                                     | 0.000      |\n| po         | LinearSVM                    |   0     | 0.026                       | 0.026                   | 0.026                    | 0.000                                     | 0.026      |\n| po         | LogisticRegression           |   0     | 0.000                       | 0.026                   | 0.026                    | 0.000                                     | 0.026      |\n| po         | LogisticRegressionElasticNet |   0     | 0.026                       | 0.000                   | 0.026                    | 0.000                                     | 0.000      |\n| po         | LogisticRegressionLasso      |   0     | 0.026                       | 0.000                   | 0.000                    | 0.000                                     | 0.000      |\n| po         | LogisticRegressionRidge      |   0     | 0.000                       | 0.026                   | 0.026                    | 0.026                                     | 0.026      |\n| po         | NaiveBayes                   |   0     | 0.000                       | 0.026                   | 0.026                    | 0.026                                     | 0.000      |\n| po         | RandomForest                 |   0     | 0.000                       | 0.026                   | 0.051                    | **0.077**                                 | 0.051      |\n| po         | RidgeClassifier              |   0     | 0.000                       | 0.026                   | 0.026                    | 0.026                                     | 0.026      |\n| po         | SVM                          |   0     | 0.000                       | 0.000                   | 0.000                    | 0.000                                     | 0.000      |\n| po         | XGBoost                      |   0     | 0.000                       | 0.026                   | 0.000                    | 0.026                                     | 0.051      |\n| ru         | Dummy Classifier             |   0     | 0.000                       | 0.000                   | 0.000                    | 0.000                                     | 0.000      |\n| ru         | KNN                          |   0     | 0.000                       | 0.000                   | 0.000                    | 0.000                                     | 0.000      |\n| ru         | LinearSVM                    |   0.026 | 0.053                       | 0.079                   | 0.105                    | 0.053                                     | 0.053      |\n| ru         | LogisticRegression           |   0.026 | 0.053                       | 0.105                   | 0.105                    | 0.053                                     | 0.079      |\n| ru         | LogisticRegressionElasticNet |   0.026 | 0.026                       | 0.026                   | 0.053                    | 0.053                                     | 0.158      |\n| ru         | LogisticRegressionLasso      |   0.026 | 0.026                       | 0.026                   | 0.053                    | 0.105                                     | 0.079      |\n| ru         | LogisticRegressionRidge      |   0     | 0.053                       | 0.105                   | 0.132                    | 0.079                                     | 0.053      |\n| ru         | NaiveBayes                   |   0     | 0.026                       | 0.079                   | 0.079                    | 0.026                                     | 0.053      |\n| ru         | RandomForest                 |   0.026 | 0.026                       | 0.053                   | 0.026                    | 0.132                                     | 0.132      |\n| ru         | RidgeClassifier              |   0.026 | 0.053                       | 0.053                   | 0.132                    | 0.053                                     | 0.053      |\n| ru         | SVM                          |   0     | 0.000                       | 0.000                   | 0.000                    | 0.000                                     | 0.000      |\n| ru         | XGBoost                      |   0.053 | 0.000                       | 0.000                   | 0.053                    | **0.184**                                 | 0.079      |"
     },
     "metadata": {},
     "output_type": "display_data"
    },
    {
     "name": "stderr",
     "output_type": "stream",
     "text": [
      "/tmp/ipykernel_16953/3322418740.py:69: FutureWarning: In future versions `DataFrame.to_latex` is expected to utilise the base implementation of `Styler.to_latex` for formatting and rendering. The arguments signature may therefore change. It is recommended instead to use `DataFrame.style.to_latex` which also contains additional functionality.\n",
      "  multi_language_report_table_metric.reset_index().to_latex(latex_file, index=False)\n"
     ]
    }
   ],
   "source": [
    "display_metrics_and_write_to_file(df=exps_df, grouping_criterion=['model_type'], output_dir='per_model_type_tables')"
   ]
  },
  {
   "cell_type": "markdown",
   "source": [
    "\n",
    "# Per model sub-type"
   ],
   "metadata": {
    "collapsed": false
   }
  },
  {
   "cell_type": "code",
   "execution_count": 13,
   "outputs": [],
   "source": [
    "%%capture\n",
    "display_metrics_and_write_to_file(df=exps_df, grouping_criterion=['model_type','model_subtype'], output_dir='per_model_subtype_tables')"
   ],
   "metadata": {
    "collapsed": false
   }
  },
  {
   "cell_type": "markdown",
   "source": [
    "# Per model sub-type and exp name"
   ],
   "metadata": {
    "collapsed": false
   }
  },
  {
   "cell_type": "code",
   "execution_count": 14,
   "outputs": [],
   "source": [
    "%%capture\n",
    "display_metrics_and_write_to_file(df=exps_df, grouping_criterion=['model_type','model_subtype', 'model_name'], output_dir='per_exp_name_tables')"
   ],
   "metadata": {
    "collapsed": false
   }
  }
 ],
 "metadata": {
  "kernelspec": {
   "display_name": "Python 3 (ipykernel)",
   "language": "python",
   "name": "python3"
  },
  "language_info": {
   "codemirror_mode": {
    "name": "ipython",
    "version": 3
   },
   "file_extension": ".py",
   "mimetype": "text/x-python",
   "name": "python",
   "nbconvert_exporter": "python",
   "pygments_lexer": "ipython3",
   "version": "3.9.13"
  }
 },
 "nbformat": 4,
 "nbformat_minor": 5
}
