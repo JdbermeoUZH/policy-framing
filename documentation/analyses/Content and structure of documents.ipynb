{
 "cells": [
  {
   "cell_type": "markdown",
   "source": [
    "# Content and structure of documents"
   ],
   "metadata": {
    "collapsed": false
   }
  },
  {
   "cell_type": "code",
   "execution_count": 1,
   "metadata": {
    "collapsed": true
   },
   "outputs": [
    {
     "name": "stderr",
     "output_type": "stream",
     "text": [
      "/home/juanbermeo/anaconda3/envs/Framing/lib/python3.9/site-packages/tqdm/auto.py:22: TqdmWarning: IProgress not found. Please update jupyter and ipywidgets. See https://ipywidgets.readthedocs.io/en/stable/user_install.html\n",
      "  from .autonotebook import tqdm as notebook_tqdm\n"
     ]
    }
   ],
   "source": [
    "import os\n",
    "\n",
    "from tqdm import tqdm\n",
    "import spacy\n",
    "import pandas as pd\n",
    "import matplotlib.pyplot as plt\n",
    "\n",
    "class BaseArticleDataset:\n",
    "    def __init__(self, data_dir: str = 'data', language: str = 'en', subtask: int = 2, split: str = 'train'):\n",
    "        self.language = language\n",
    "        self.subtask = subtask\n",
    "        self.split = split\n",
    "        self.label_file_path = os.path.join(data_dir, language, f'{split}-labels-subtask-{subtask}.txt')\n",
    "        self.article_dir_path = os.path.join(data_dir, language, f'{split}-articles-subtask-{subtask}')\n",
    "        self.df = self._create_article_dataframe()\n",
    "\n",
    "    def _create_article_dataframe(self) -> pd.DataFrame:\n",
    "        text = []\n",
    "\n",
    "        for fil in tqdm(filter(lambda x: x.endswith('.txt'), os.listdir(self.article_dir_path))):\n",
    "            id, txt = fil[7:].split('.')[0], \\\n",
    "                      open(os.path.join(self.article_dir_path, fil), 'r', encoding='utf-8').read()\n",
    "            text.append((id, txt))\n",
    "\n",
    "        return pd.DataFrame(text, columns=['id', 'raw_text']) \\\n",
    "            .astype({'id': 'int', 'raw_text': 'str'}) \\\n",
    "            .set_index('id')\n",
    "\n",
    "    def separate_title_content(self, remove_raw_data_col: bool = False) -> None:\n",
    "        # TODO: Improve behavior by:\n",
    "        #   1) Remove trailing whitespaces and breaklines\n",
    "        #   2) Separate on single breakline \"\\n\"\n",
    "        #   3) Remove trailing whitespaces and breaklines for title and content again\n",
    "        self.df[['title', 'content']] = self.df.raw_text.str.split('\\n\\n', 1, expand=True)\n",
    "\n",
    "        if remove_raw_data_col:\n",
    "            self.df.drop('raw_text', axis=1, inplace=True)"
   ]
  },
  {
   "cell_type": "markdown",
   "source": [
    "# Load the Data"
   ],
   "metadata": {
    "collapsed": false
   }
  },
  {
   "cell_type": "code",
   "execution_count": 2,
   "outputs": [
    {
     "name": "stderr",
     "output_type": "stream",
     "text": [
      "433it [00:00, 29213.32it/s]\n"
     ]
    }
   ],
   "source": [
    "semeval_data = BaseArticleDataset(\n",
    "    data_dir=os.path.join('..', '..', 'data'),\n",
    "    language='en', subtask=2, split='train')"
   ],
   "metadata": {
    "collapsed": false
   }
  },
  {
   "cell_type": "code",
   "execution_count": 3,
   "outputs": [
    {
     "data": {
      "text/plain": "                                                    raw_text\nid                                                          \n765982381  Julian Assange\\n\\nDuring World War II Cardinal...\n766942310  Who ‘Won’ the Trump-Kim Summit?\\n\\nLast week’s...\n706777811  Black Death: ‘It’s 100 % Likely’ It Spreads To...\n779394730  Hundreds of Priests Accused in Pennsylvania, C...\n758472954  Beware sonic weapon attacks, US tells citizens...\n...                                                      ...\n761334950  A Dismal Record: Why Are They Destroying the N...\n833042063  Chelsea Handler Admits She’s ‘Very Sexually At...\n999000145  Trump: \"If You Don't Want To Be Saying The Wor...\n735265649  ICE Arrests Over 150 in Bay Area\\n\\nImmigratio...\n787759779  Kavanaugh Accuser's Lawyer is Vice Chair of So...\n\n[433 rows x 1 columns]",
      "text/html": "<div>\n<style scoped>\n    .dataframe tbody tr th:only-of-type {\n        vertical-align: middle;\n    }\n\n    .dataframe tbody tr th {\n        vertical-align: top;\n    }\n\n    .dataframe thead th {\n        text-align: right;\n    }\n</style>\n<table border=\"1\" class=\"dataframe\">\n  <thead>\n    <tr style=\"text-align: right;\">\n      <th></th>\n      <th>raw_text</th>\n    </tr>\n    <tr>\n      <th>id</th>\n      <th></th>\n    </tr>\n  </thead>\n  <tbody>\n    <tr>\n      <th>765982381</th>\n      <td>Julian Assange\\n\\nDuring World War II Cardinal...</td>\n    </tr>\n    <tr>\n      <th>766942310</th>\n      <td>Who ‘Won’ the Trump-Kim Summit?\\n\\nLast week’s...</td>\n    </tr>\n    <tr>\n      <th>706777811</th>\n      <td>Black Death: ‘It’s 100 % Likely’ It Spreads To...</td>\n    </tr>\n    <tr>\n      <th>779394730</th>\n      <td>Hundreds of Priests Accused in Pennsylvania, C...</td>\n    </tr>\n    <tr>\n      <th>758472954</th>\n      <td>Beware sonic weapon attacks, US tells citizens...</td>\n    </tr>\n    <tr>\n      <th>...</th>\n      <td>...</td>\n    </tr>\n    <tr>\n      <th>761334950</th>\n      <td>A Dismal Record: Why Are They Destroying the N...</td>\n    </tr>\n    <tr>\n      <th>833042063</th>\n      <td>Chelsea Handler Admits She’s ‘Very Sexually At...</td>\n    </tr>\n    <tr>\n      <th>999000145</th>\n      <td>Trump: \"If You Don't Want To Be Saying The Wor...</td>\n    </tr>\n    <tr>\n      <th>735265649</th>\n      <td>ICE Arrests Over 150 in Bay Area\\n\\nImmigratio...</td>\n    </tr>\n    <tr>\n      <th>787759779</th>\n      <td>Kavanaugh Accuser's Lawyer is Vice Chair of So...</td>\n    </tr>\n  </tbody>\n</table>\n<p>433 rows × 1 columns</p>\n</div>"
     },
     "execution_count": 3,
     "metadata": {},
     "output_type": "execute_result"
    }
   ],
   "source": [
    "semeval_data.df"
   ],
   "metadata": {
    "collapsed": false
   }
  },
  {
   "cell_type": "markdown",
   "source": [
    "# Summary of findings\n",
    " * Articles in the different datasets are of different sizes:\n",
    "    * English dataset tends to have articles around 1000 tokens, with the majority being under 3000-3500\n",
    "    * Italian articles have around 500 tokens, with the majority under 1500\n",
    "    * Russian articles have around 250 tokens, with the majority under 1500-2000\n",
    " * Articles seem to come from fringe rather unreliable sources of news. This is probably because they reflect a specific frame and bias in it more strongly\n",
    " * There are minor errors in the dataset such as:\n",
    "    * Some titles are not appropriately parsed with \"\\n\\n\".\n",
    "    * Some articles are duplicated.\n",
    "    * Some articles also contain not relevant text such as text from banners or sponsored articles within the article (see article 999001280 in english).\n",
    " * It should be possible to separate title and content with the following steps:\n",
    "    * Remove trailing whitespaces and breaklines\n",
    "    * Separate on single breakline \"\\n\"\n",
    "    * Remove trailing whitespaces and breaklines for title and content again\n",
    " * Russian articles seem to be better parsed and structured.\n",
    "    * For example, it is possible to separate title, subtitle, and content\n",
    "    * Also seems to be better split into paragraphs, which happens much less often for english and italian.\n",
    " * For many articles, a breakline identifies a change of paragraph. However, this patterns does not always hold for some exceptions.\n",
    "    * A solution when we need the whole paragraph would be to merge the first two paragraphs when the first one is only one sentece long and that sentence is short.\n",
    " * For some articles, the order of the paragraph is wrong due to the structure of the website\n",
    "    * [730019938](https://vdare.com/posts/suspect-in-westerville-oh-murder-of-two-white-cops-named-as-quentin-lamar-smith-apparently-black)\n",
    "    * [725276027](https://vdare.com/posts/kritarchs-patti-saris-and-mark-goldsmith-sabotage-immigration-enforcement)\n",
    "    * [711716996](https://vdare.com/posts/patti-saris-strikes-again-indonesian-illegals-who-have-been-here-since-the-90s-get-to-say)\n"
   ],
   "metadata": {
    "collapsed": false
   }
  },
  {
   "cell_type": "markdown",
   "source": [
    "# Check distribution of lengths per dataset"
   ],
   "metadata": {
    "collapsed": false
   }
  },
  {
   "cell_type": "code",
   "execution_count": 4,
   "outputs": [
    {
     "name": "stderr",
     "output_type": "stream",
     "text": [
      "433it [00:00, 28568.59it/s]\n",
      "227it [00:00, 32796.22it/s]\n",
      "143it [00:00, 21169.15it/s]\n"
     ]
    }
   ],
   "source": [
    "semeval_data_en = BaseArticleDataset(\n",
    "    data_dir=os.path.join('..', '..', 'data'),\n",
    "    language='en', subtask=2, split='train')\n",
    "en_nlp = spacy.load('en_core_web_sm')\n",
    "\n",
    "semeval_data_it = BaseArticleDataset(\n",
    "    data_dir=os.path.join('..', '..', 'data'),\n",
    "    language='it', subtask=2, split='train')\n",
    "it_nlp = spacy.load('it_core_news_sm')\n",
    "\n",
    "semeval_data_ru = BaseArticleDataset(\n",
    "    data_dir=os.path.join('..', '..', 'data'),\n",
    "    language='ru', subtask=2, split='train')\n",
    "ru_nlp = spacy.load('ru_core_news_sm')"
   ],
   "metadata": {
    "collapsed": false
   }
  },
  {
   "cell_type": "code",
   "execution_count": 5,
   "outputs": [],
   "source": [
    "def plot_histogram_num_tokens(doc_list, nlp, title):\n",
    "    num_tokens = [len(doc) for doc in nlp.pipe(doc_list, n_process=2)]\n",
    "    pd.Series(num_tokens).plot.hist(bins=30, density=True)\n",
    "    plt.title(title)\n",
    "    plt.xlabel(\"Number of tokens\")"
   ],
   "metadata": {
    "collapsed": false
   }
  },
  {
   "cell_type": "code",
   "execution_count": 6,
   "outputs": [
    {
     "data": {
      "text/plain": "<Figure size 640x480 with 1 Axes>",
      "image/png": "[encoded data removed]"
     },
     "metadata": {},
     "output_type": "display_data"
    }
   ],
   "source": [
    "plot_histogram_num_tokens(doc_list=semeval_data_en.df.raw_text.tolist(), nlp=en_nlp,\n",
    "                          title=\"English: Distribution of tokens per document\")"
   ],
   "metadata": {
    "collapsed": false
   }
  },
  {
   "cell_type": "code",
   "execution_count": 7,
   "outputs": [
    {
     "data": {
      "text/plain": "<Figure size 640x480 with 1 Axes>",
      "image/png": "[encoded data removed]"
     },
     "metadata": {},
     "output_type": "display_data"
    }
   ],
   "source": [
    "plot_histogram_num_tokens(doc_list=semeval_data_it.df.raw_text.tolist(), nlp=it_nlp,\n",
    "                          title=\"Italian: Distribution of tokens per document\")"
   ],
   "metadata": {
    "collapsed": false
   }
  },
  {
   "cell_type": "code",
   "execution_count": 8,
   "outputs": [
    {
     "data": {
      "text/plain": "<Figure size 640x480 with 1 Axes>",
      "image/png": "[encoded data removed]"
     },
     "metadata": {},
     "output_type": "display_data"
    }
   ],
   "source": [
    "plot_histogram_num_tokens(doc_list=semeval_data_ru.df.raw_text.tolist(), nlp=ru_nlp,\n",
    "                          title=\"Russian: Distribution of tokens per document\")"
   ],
   "metadata": {
    "collapsed": false
   }
  },
  {
   "cell_type": "markdown",
   "source": [
    "## Verify all titles are properly separated"
   ],
   "metadata": {
    "collapsed": false
   }
  },
  {
   "cell_type": "code",
   "execution_count": 9,
   "outputs": [],
   "source": [
    "semeval_data.separate_title_content()"
   ],
   "metadata": {
    "collapsed": false
   }
  },
  {
   "cell_type": "code",
   "execution_count": 10,
   "outputs": [
    {
     "data": {
      "text/plain": "Text(0.5, 0, 'length')"
     },
     "execution_count": 10,
     "metadata": {},
     "output_type": "execute_result"
    },
    {
     "data": {
      "text/plain": "<Figure size 640x480 with 1 Axes>",
      "image/png": "[encoded data removed]"
     },
     "metadata": {},
     "output_type": "display_data"
    }
   ],
   "source": [
    "semeval_data.df.title.str.len().plot.hist(bins=30, title=\"Title string length\")\n",
    "plt.xlabel('length')"
   ],
   "metadata": {
    "collapsed": false
   }
  },
  {
   "cell_type": "markdown",
   "source": [
    "There is at least a couple of articles with overly long titles, most likely not properly parsed"
   ],
   "metadata": {
    "collapsed": false
   }
  },
  {
   "cell_type": "code",
   "execution_count": 11,
   "outputs": [
    {
     "ename": "NameError",
     "evalue": "name 'Dataset' is not defined",
     "output_type": "error",
     "traceback": [
      "\u001B[0;31m---------------------------------------------------------------------------\u001B[0m",
      "\u001B[0;31mNameError\u001B[0m                                 Traceback (most recent call last)",
      "Input \u001B[0;32mIn [11]\u001B[0m, in \u001B[0;36m<cell line: 3>\u001B[0;34m()\u001B[0m\n\u001B[1;32m      1\u001B[0m max_title_length \u001B[38;5;241m=\u001B[39m semeval_data\u001B[38;5;241m.\u001B[39mdf\u001B[38;5;241m.\u001B[39mtitle\u001B[38;5;241m.\u001B[39mstr\u001B[38;5;241m.\u001B[39mlen()\u001B[38;5;241m.\u001B[39mquantile(\u001B[38;5;241m0.99\u001B[39m)\n\u001B[1;32m      2\u001B[0m max_title_length\n\u001B[0;32m----> 3\u001B[0m \u001B[43mDataset\u001B[49m\n\u001B[1;32m      4\u001B[0m semeval_data\u001B[38;5;241m.\u001B[39mdf\u001B[38;5;241m.\u001B[39mtitle[semeval_data\u001B[38;5;241m.\u001B[39mdf\u001B[38;5;241m.\u001B[39mtitle\u001B[38;5;241m.\u001B[39mstr\u001B[38;5;241m.\u001B[39mlen() \u001B[38;5;241m<\u001B[39m max_title_length]\\\n\u001B[1;32m      5\u001B[0m     \u001B[38;5;241m.\u001B[39mstr\u001B[38;5;241m.\u001B[39mlen()\u001B[38;5;241m.\u001B[39mplot\u001B[38;5;241m.\u001B[39mhist(bins\u001B[38;5;241m=\u001B[39m\u001B[38;5;241m30\u001B[39m, title\u001B[38;5;241m=\u001B[39m\u001B[38;5;124m\"\u001B[39m\u001B[38;5;124mTitle string length\u001B[39m\u001B[38;5;124m\"\u001B[39m)\n\u001B[1;32m      6\u001B[0m plt\u001B[38;5;241m.\u001B[39mxlabel(\u001B[38;5;124m'\u001B[39m\u001B[38;5;124mlength\u001B[39m\u001B[38;5;124m'\u001B[39m)\n",
      "\u001B[0;31mNameError\u001B[0m: name 'Dataset' is not defined"
     ]
    }
   ],
   "source": [
    "max_title_length = semeval_data.df.title.str.len().quantile(0.99)\n",
    "max_title_length\n",
    "Dataset\n",
    "semeval_data.df.title[semeval_data.df.title.str.len() < max_title_length]\\\n",
    "    .str.len().plot.hist(bins=30, title=\"Title string length\")\n",
    "plt.xlabel('length')"
   ],
   "metadata": {
    "collapsed": false
   }
  },
  {
   "cell_type": "markdown",
   "source": [
    "This seems a bit more expected. Let's check samples on quartiles and verify if they are indeed titles or not"
   ],
   "metadata": {
    "collapsed": false
   }
  },
  {
   "cell_type": "code",
   "execution_count": null,
   "outputs": [],
   "source": [
    "pd.DataFrame(semeval_data.df.title[semeval_data.df.title.str.len() >= max_title_length])"
   ],
   "metadata": {
    "collapsed": false
   }
  },
  {
   "cell_type": "code",
   "execution_count": null,
   "outputs": [],
   "source": [
    "semeval_data.df.raw_text.loc[725824328]"
   ],
   "metadata": {
    "collapsed": false
   }
  },
  {
   "cell_type": "code",
   "execution_count": null,
   "outputs": [],
   "source": [
    "semeval_data.df.title.loc[725824328]"
   ],
   "metadata": {
    "collapsed": false
   }
  },
  {
   "cell_type": "markdown",
   "source": [
    "According to this [website](https://sigforum.com/eve/forums/a/tpc/f/320601935/m/3550057634), the actual title is: **\"The Photo That Never Saw The Light of Day: Obama With Farrakhan In 2005\"**. Hard to tell the delimiter for this case"
   ],
   "metadata": {
    "collapsed": false
   }
  },
  {
   "cell_type": "code",
   "execution_count": null,
   "outputs": [],
   "source": [
    "semeval_data.df.title.loc[764715911]"
   ],
   "metadata": {
    "collapsed": false
   }
  },
  {
   "cell_type": "markdown",
   "source": [
    "According to this [website](http://www.invexnews.com/item-361622-after-calling-for-guns-amp-ammo-confisca) the title is correct"
   ],
   "metadata": {
    "collapsed": false
   }
  },
  {
   "cell_type": "code",
   "execution_count": null,
   "outputs": [],
   "source": [
    "semeval_data.df.title[704856340]"
   ],
   "metadata": {
    "collapsed": false
   }
  },
  {
   "cell_type": "markdown",
   "source": [
    "Again another long title, but it seems correct."
   ],
   "metadata": {
    "collapsed": false
   }
  },
  {
   "cell_type": "code",
   "execution_count": null,
   "outputs": [],
   "source": [
    "semeval_data.df.title[698092698]"
   ],
   "metadata": {
    "collapsed": false
   }
  },
  {
   "cell_type": "code",
   "execution_count": null,
   "outputs": [],
   "source": [
    "semeval_data.df.title[999000878]"
   ],
   "metadata": {
    "collapsed": false
   }
  },
  {
   "cell_type": "markdown",
   "source": [
    "This reveals a second problem of duplicates documents in the dataset :O\n",
    "\n",
    "According to the this [website](https://investortimes.com/freedomoutpost/las-vegas-shooting-third-timeline-emerges/) the full title is: \"**Las Vegas Shooting: A THIRD Timeline Emerges**\".\n",
    "\n",
    "**Overall, we can fix the problem with some noise by separating very long with \"\\n\" instead of \"\\n\\n\", or hard code the titles for these articles**"
   ],
   "metadata": {
    "collapsed": false
   }
  },
  {
   "cell_type": "markdown",
   "source": [
    "### Check title length behavior in Russian and Italian"
   ],
   "metadata": {
    "collapsed": false
   }
  },
  {
   "cell_type": "code",
   "execution_count": null,
   "outputs": [],
   "source": [
    "semeval_data_ru = BaseArticleDataset(\n",
    "    data_dir=os.path.join('..', '..', 'data'),\n",
    "    language='ru', subtask=2, split='train')\n",
    "semeval_data_ru.separate_title_content()\n",
    "\n",
    "semeval_data_it = BaseArticleDataset(\n",
    "    data_dir=os.path.join('..', '..', 'data'),\n",
    "    language='it', subtask=2, split='train')\n",
    "semeval_data_it.separate_title_content()"
   ],
   "metadata": {
    "collapsed": false
   }
  },
  {
   "cell_type": "code",
   "execution_count": null,
   "outputs": [],
   "source": [
    "print(semeval_data.df.shape)\n",
    "print(semeval_data_ru.df.shape)\n",
    "print(semeval_data_it.df.shape)"
   ],
   "metadata": {
    "collapsed": false
   }
  },
  {
   "cell_type": "code",
   "execution_count": null,
   "outputs": [],
   "source": [
    "semeval_data_ru.df.title.str.len().plot.hist(bins=30, title=\"Title string length\")\n",
    "plt.xlabel('length')"
   ],
   "metadata": {
    "collapsed": false
   }
  },
  {
   "cell_type": "code",
   "execution_count": null,
   "outputs": [],
   "source": [
    "semeval_data_it.df.title.str.len().plot.hist(bins=30, title=\"Title string length\")\n",
    "plt.xlabel('length')"
   ],
   "metadata": {
    "collapsed": false
   }
  },
  {
   "cell_type": "markdown",
   "source": [
    "Let's check title that contain breaklines or that are over 150 lines characters long"
   ],
   "metadata": {
    "collapsed": false
   }
  },
  {
   "cell_type": "code",
   "execution_count": null,
   "outputs": [],
   "source": [
    "semeval_data_it.df[semeval_data_it.df.title.str.contains('\\n')]"
   ],
   "metadata": {
    "collapsed": false
   }
  },
  {
   "cell_type": "code",
   "execution_count": null,
   "outputs": [],
   "source": [
    "semeval_data_it.df[(semeval_data_it.df.title.str.len() > 150) & (semeval_data_it.df.title.str.contains('\\n'))]"
   ],
   "metadata": {
    "collapsed": false
   }
  },
  {
   "cell_type": "code",
   "execution_count": null,
   "outputs": [],
   "source": [
    "print(semeval_data_it.df.title[26294])"
   ],
   "metadata": {
    "collapsed": false
   }
  },
  {
   "cell_type": "markdown",
   "source": [
    "According to this [website](https://www.linkiesta.it/2022/07/third-act-anziani-attivismo-clima-ambiente/) the title is the first line"
   ],
   "metadata": {
    "collapsed": false
   }
  },
  {
   "cell_type": "code",
   "execution_count": null,
   "outputs": [],
   "source": [
    "print(semeval_data_it.df.title[26301])"
   ],
   "metadata": {
    "collapsed": false
   }
  },
  {
   "cell_type": "markdown",
   "source": [
    "According to this [website](https://www.agi.it/estero/news/2022-08-04/mosca-dietro-covid-vaiolo-scimmie-gli-usa-17660932/), again the title is the first line\n",
    "\n",
    "It stands to reason then that the following two steps should yield the right separation of title and content for Italian and English\n",
    "\n",
    " * Remove trailing whitespaces and breaklines\n",
    " * Separate on single breakline \"\\n\"\n",
    " * Remove trailing whitespaces and breaklines for title and content again\n"
   ],
   "metadata": {
    "collapsed": false
   }
  },
  {
   "cell_type": "code",
   "execution_count": null,
   "outputs": [],
   "source": [
    "semeval_data_ru.df[(semeval_data_ru.df.title.str.len() > 150) & (semeval_data_ru.df.title.str.contains('\\n'))]"
   ],
   "metadata": {
    "collapsed": false
   }
  },
  {
   "cell_type": "code",
   "execution_count": null,
   "outputs": [],
   "source": [
    "print(semeval_data_ru.df.title[2444])"
   ],
   "metadata": {
    "collapsed": false
   }
  },
  {
   "cell_type": "code",
   "execution_count": null,
   "outputs": [],
   "source": [
    "print(semeval_data_ru.df.raw_text[2444])"
   ],
   "metadata": {
    "collapsed": false
   }
  },
  {
   "cell_type": "markdown",
   "source": [
    "For this [article](https://www.kp.ru/daily/27147/4241476/) it actually seems to be well parsed and that the second line of the title is in fact a subtitle"
   ],
   "metadata": {
    "collapsed": false
   }
  },
  {
   "cell_type": "code",
   "execution_count": null,
   "outputs": [],
   "source": [
    "print(semeval_data_ru.df.raw_text[24109])\n"
   ],
   "metadata": {
    "collapsed": false
   }
  },
  {
   "cell_type": "markdown",
   "source": [
    "Russian articles are well parsed and usually a breakline indicates the presence of a subtitle (was often the case for the articles in the previous list). For russian, the previous preprocessing of the other two languages is not as much a necessity, though it still separates title from subtitle"
   ],
   "metadata": {
    "collapsed": false
   }
  },
  {
   "cell_type": "markdown",
   "source": [
    "## Check for other long titles and verify further quality of parsing"
   ],
   "metadata": {
    "collapsed": false
   }
  },
  {
   "cell_type": "code",
   "execution_count": null,
   "outputs": [],
   "source": [
    "pd.DataFrame(semeval_data.df.title[semeval_data.df.title.str.len().between(120, max_title_length)])"
   ],
   "metadata": {
    "collapsed": false
   }
  },
  {
   "cell_type": "code",
   "execution_count": null,
   "outputs": [],
   "source": [
    "semeval_data.df.title[999000135]"
   ],
   "metadata": {
    "collapsed": false
   }
  },
  {
   "cell_type": "code",
   "execution_count": null,
   "outputs": [],
   "source": [
    "print(semeval_data.df.raw_text[999000135])"
   ],
   "metadata": {
    "collapsed": false
   }
  },
  {
   "cell_type": "code",
   "execution_count": null,
   "outputs": [],
   "source": [
    "semeval_data.df.title[999000133]"
   ],
   "metadata": {
    "collapsed": false
   }
  },
  {
   "cell_type": "code",
   "execution_count": null,
   "outputs": [],
   "source": [
    "print(semeval_data.df.raw_text[999000133])"
   ],
   "metadata": {
    "collapsed": false
   }
  },
  {
   "cell_type": "code",
   "execution_count": null,
   "outputs": [],
   "source": [
    "semeval_data.df.title[999001280]"
   ],
   "metadata": {
    "collapsed": false
   }
  },
  {
   "cell_type": "code",
   "execution_count": null,
   "outputs": [],
   "source": [
    "print(semeval_data.df.raw_text[999001280])"
   ],
   "metadata": {
    "collapsed": false
   }
  },
  {
   "cell_type": "markdown",
   "source": [
    "Everything seems ok"
   ],
   "metadata": {
    "collapsed": false
   }
  },
  {
   "cell_type": "markdown",
   "source": [
    "## Check for titles that contain breaklines (possibly badly parsed articles)"
   ],
   "metadata": {
    "collapsed": false
   }
  },
  {
   "cell_type": "code",
   "execution_count": null,
   "outputs": [],
   "source": [
    "semeval_data.df[semeval_data.df.title.str.contains('\\n')]"
   ],
   "metadata": {
    "collapsed": false
   }
  },
  {
   "cell_type": "markdown",
   "source": [
    "The only ones that have breaklines are the ones we had already identified"
   ],
   "metadata": {
    "collapsed": false
   }
  },
  {
   "cell_type": "markdown",
   "source": [
    "# Check if there is a pattern of paragraph structure"
   ],
   "metadata": {
    "collapsed": false
   }
  },
  {
   "cell_type": "markdown",
   "source": [
    "It seems like each breakline follows the paragraph structure of the source document and how it is presented in the website. However, there are some issues with this parsing and the pattern not always holds:"
   ],
   "metadata": {
    "collapsed": false
   }
  },
  {
   "cell_type": "markdown",
   "source": [
    "### Do breaklines identifyy separate paragraphs\n",
    "\n",
    "This seems to be the case for the following examples\n",
    "\n",
    "   * [765982381](https://www.newagebd.net/print/article/43964)\n",
    "   * [725276027](https://vdare.com/posts/kritarchs-patti-saris-and-mark-goldsmith-sabotage-immigration-enforcement)\n",
    "   * [738542398](https://theintercept.com/2017/02/02/trumps-cia-chief-selects-major-torture-operative-to-be-agencys-deputy-director/)\n",
    "   * Correct but first paragraph is not really a paragraph [765029945](https://bluntforcetruth.com/news/stop-comparing-immigration-enforcement-to-the-holocaust/)\n",
    "\n",
    "\n",
    "It is not the case for the following examples\n",
    "   * [765385479](https://www.wsws.org/en/articles/2018/06/19/john-j19.html)\n",
    "   * [832959523](https://www.moonofalabama.org/2019/03/how-theresa-may-botched-brexit.html): Again, a weird parsing or separation of sentences\n",
    "   * [999000878](https://investortimes.com/freedomoutpost/las-vegas-shooting-third-timeline-emerges/): Terrible parsing of sentences and paragraphs"
   ],
   "metadata": {
    "collapsed": false
   }
  },
  {
   "cell_type": "markdown",
   "source": [
    "A solution when we need the whole paragraph would be to merge the first two paragraphs when the first one is only one sentece long and that sentence is short."
   ],
   "metadata": {
    "collapsed": false
   }
  },
  {
   "cell_type": "markdown",
   "source": [
    "### Document has the wrong order\n",
    "\n",
    "Compare the document in the [website](https://vdare.com/posts/impeach-kritarch-patti-saris-for-illegally-trying-to-stop-deportations) and the one in the dataset."
   ],
   "metadata": {
    "collapsed": false
   }
  },
  {
   "cell_type": "code",
   "execution_count": null,
   "outputs": [],
   "source": [
    "print(semeval_data.df.loc[702111021].raw_text)"
   ],
   "metadata": {
    "collapsed": false
   }
  },
  {
   "cell_type": "markdown",
   "source": [
    "The paragraphs are clearly out of order and the title was not parsed. It is possible this website had a different structure resulting in the wrong parsing of the article. The same holds for all articles of that website:\n",
    "\n",
    " - [730019938](https://vdare.com/posts/suspect-in-westerville-oh-murder-of-two-white-cops-named-as-quentin-lamar-smith-apparently-black)\n",
    " - [725276027](https://vdare.com/posts/kritarchs-patti-saris-and-mark-goldsmith-sabotage-immigration-enforcement)\n",
    " - [711716996](https://vdare.com/posts/patti-saris-strikes-again-indonesian-illegals-who-have-been-here-since-the-90s-get-to-say)"
   ],
   "metadata": {
    "collapsed": false
   }
  },
  {
   "cell_type": "markdown",
   "source": [],
   "metadata": {
    "collapsed": false
   }
  }
 ],
 "metadata": {
  "kernelspec": {
   "display_name": "Python 3",
   "language": "python",
   "name": "python3"
  },
  "language_info": {
   "codemirror_mode": {
    "name": "ipython",
    "version": 2
   },
   "file_extension": ".py",
   "mimetype": "text/x-python",
   "name": "python",
   "nbconvert_exporter": "python",
   "pygments_lexer": "ipython2",
   "version": "2.7.6"
  }
 },
 "nbformat": 4,
 "nbformat_minor": 0
}
