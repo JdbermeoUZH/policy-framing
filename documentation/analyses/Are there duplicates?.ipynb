{
 "cells": [
  {
   "cell_type": "markdown",
   "source": [
    "# Are there duplicates?"
   ],
   "metadata": {
    "collapsed": false
   }
  },
  {
   "cell_type": "code",
   "execution_count": 16,
   "metadata": {
    "collapsed": true
   },
   "outputs": [
    {
     "name": "stderr",
     "output_type": "stream",
     "text": [
      "433it [00:00, 29436.81it/s]\n",
      "143it [00:00, 16141.06it/s]\n",
      "227it [00:00, 21674.26it/s]\n"
     ]
    }
   ],
   "source": [
    "import os\n",
    "\n",
    "from tqdm import tqdm\n",
    "import numpy as np\n",
    "import pandas as pd\n",
    "import matplotlib.pyplot as plt\n",
    "\n",
    "from InputDataset import BaseArticleDataset, FramingArticleDataset\n",
    "\n",
    "\n",
    "semeval_data_en = BaseArticleDataset(\n",
    "    data_dir=os.path.join('..', '..', 'data'),\n",
    "    language='en', subtask=2, split='train')\n",
    "semeval_data_en.separate_title_content()\n",
    "\n",
    "semeval_data_ru = BaseArticleDataset(\n",
    "    data_dir=os.path.join('..', '..', 'data'),\n",
    "    language='ru', subtask=2, split='train')\n",
    "semeval_data_ru.separate_title_content()\n",
    "\n",
    "semeval_data_it = BaseArticleDataset(\n",
    "    data_dir=os.path.join('..', '..', 'data'),\n",
    "    language='it', subtask=2, split='train')\n",
    "semeval_data_it.separate_title_content()"
   ]
  },
  {
   "cell_type": "markdown",
   "source": [
    "## Summary of findings\n",
    "\n",
    " * Exact duplicates exist only on the english train dataset and it occurs only for two couples of documents\n",
    "    * 698092698 and 999000878\n",
    "    * 832917532 (actual article) and 833032367 (comment on the article, probably best to remove this one)"
   ],
   "metadata": {
    "collapsed": false
   }
  },
  {
   "cell_type": "markdown",
   "source": [
    "## Check for duplicates in the datasets\n",
    "\n",
    "### Check for exact content or title duplicates\n",
    "#### English"
   ],
   "metadata": {
    "collapsed": false
   }
  },
  {
   "cell_type": "code",
   "execution_count": 10,
   "outputs": [
    {
     "data": {
      "text/plain": "Empty DataFrame\nColumns: [raw_text, title, content]\nIndex: []",
      "text/html": "<div>\n<style scoped>\n    .dataframe tbody tr th:only-of-type {\n        vertical-align: middle;\n    }\n\n    .dataframe tbody tr th {\n        vertical-align: top;\n    }\n\n    .dataframe thead th {\n        text-align: right;\n    }\n</style>\n<table border=\"1\" class=\"dataframe\">\n  <thead>\n    <tr style=\"text-align: right;\">\n      <th></th>\n      <th>raw_text</th>\n      <th>title</th>\n      <th>content</th>\n    </tr>\n    <tr>\n      <th>id</th>\n      <th></th>\n      <th></th>\n      <th></th>\n    </tr>\n  </thead>\n  <tbody>\n  </tbody>\n</table>\n</div>"
     },
     "execution_count": 10,
     "metadata": {},
     "output_type": "execute_result"
    }
   ],
   "source": [
    "semeval_data_en.df[semeval_data_en.df.content.duplicated(keep=False)]"
   ],
   "metadata": {
    "collapsed": false
   }
  },
  {
   "cell_type": "code",
   "execution_count": 11,
   "outputs": [
    {
     "data": {
      "text/plain": "                                                    raw_text  \\\nid                                                             \n765982381  Julian Assange\\n\\nDuring World War II Cardinal...   \n723793978  America's Immigration Voice.\\n\\nSwedish PM doe...   \n700461600  America's Immigration Voice.\\n\\nThe Kurds have...   \n999000878  Las Vegas Shooting: A THIRD Timeline Emerges E...   \n706661242  America's Immigration Voice.\\n\\nEver thought t...   \n765385479  Julian Assange\\n\\nThe persecution of Julian As...   \n730269378  America's Immigration Voice.\\n\\nThanks for pub...   \n706088110  America's Immigration Voice.\\n\\nYears ago nume...   \n698092698  Las Vegas Shooting: A THIRD Timeline Emerges E...   \n832917532  Robert Mueller Not Recommending Any More Indic...   \n730389374  America's Immigration Voice.\\n\\nCandidate Dona...   \n833032367  Robert Mueller Not Recommending Any More Indic...   \n730093263  America's Immigration Voice.\\n\\nEarlier, I blo...   \n702111021  America's Immigration Voice.\\n\\nKritarch Patti...   \n730019938  America's Immigration Voice.\\n\\nPolice identif...   \n725276027  America's Immigration Voice.\\n\\nKritarch Patti...   \n711716996  America's Immigration Voice.\\n\\nKritarch Patti...   \n723537899  America's Immigration Voice.\\n\\nThe war for do...   \n\n                                                       title  \\\nid                                                             \n765982381                                     Julian Assange   \n723793978                       America's Immigration Voice.   \n700461600                       America's Immigration Voice.   \n999000878  Las Vegas Shooting: A THIRD Timeline Emerges E...   \n706661242                       America's Immigration Voice.   \n765385479                                     Julian Assange   \n730269378                       America's Immigration Voice.   \n706088110                       America's Immigration Voice.   \n698092698  Las Vegas Shooting: A THIRD Timeline Emerges E...   \n832917532  Robert Mueller Not Recommending Any More Indic...   \n730389374                       America's Immigration Voice.   \n833032367  Robert Mueller Not Recommending Any More Indic...   \n730093263                       America's Immigration Voice.   \n702111021                       America's Immigration Voice.   \n730019938                       America's Immigration Voice.   \n725276027                       America's Immigration Voice.   \n711716996                       America's Immigration Voice.   \n723537899                       America's Immigration Voice.   \n\n                                                     content  \nid                                                            \n765982381  During World War II Cardinal Jozsef Mindszenty...  \n723793978  Swedish PM does not rule out use of army to en...  \n700461600  The Kurds have no friends but the mountains, i...  \n999000878                                               None  \n706661242  Ever thought that the academic discipline of h...  \n765385479  The persecution of Julian Assange must end. Or...  \n730269378  Thanks for publicizing the race of Quentin Lam...  \n706088110  Years ago numerous Indonesian Christians came ...  \n698092698                                                 \\n  \n832917532  Special counsel Robert Mueller will not recomm...  \n730389374  Candidate Donald Trump may have promised to ex...  \n833032367  But of course, this makes no difference to the...  \n730093263  Earlier, I blogged that the police had release...  \n702111021  Kritarch Patti Saris is in the news again. She...  \n730019938  Police identify suspect in death of 2 Ohio pol...  \n725276027  Kritarch Patti Saris, who thinks it is the job...  \n711716996  Kritarch Patti Saris thinks she runs immigrati...  \n723537899  The war for dominance in the Middle East, foll...  ",
      "text/html": "<div>\n<style scoped>\n    .dataframe tbody tr th:only-of-type {\n        vertical-align: middle;\n    }\n\n    .dataframe tbody tr th {\n        vertical-align: top;\n    }\n\n    .dataframe thead th {\n        text-align: right;\n    }\n</style>\n<table border=\"1\" class=\"dataframe\">\n  <thead>\n    <tr style=\"text-align: right;\">\n      <th></th>\n      <th>raw_text</th>\n      <th>title</th>\n      <th>content</th>\n    </tr>\n    <tr>\n      <th>id</th>\n      <th></th>\n      <th></th>\n      <th></th>\n    </tr>\n  </thead>\n  <tbody>\n    <tr>\n      <th>765982381</th>\n      <td>Julian Assange\\n\\nDuring World War II Cardinal...</td>\n      <td>Julian Assange</td>\n      <td>During World War II Cardinal Jozsef Mindszenty...</td>\n    </tr>\n    <tr>\n      <th>723793978</th>\n      <td>America's Immigration Voice.\\n\\nSwedish PM doe...</td>\n      <td>America's Immigration Voice.</td>\n      <td>Swedish PM does not rule out use of army to en...</td>\n    </tr>\n    <tr>\n      <th>700461600</th>\n      <td>America's Immigration Voice.\\n\\nThe Kurds have...</td>\n      <td>America's Immigration Voice.</td>\n      <td>The Kurds have no friends but the mountains, i...</td>\n    </tr>\n    <tr>\n      <th>999000878</th>\n      <td>Las Vegas Shooting: A THIRD Timeline Emerges E...</td>\n      <td>Las Vegas Shooting: A THIRD Timeline Emerges E...</td>\n      <td>None</td>\n    </tr>\n    <tr>\n      <th>706661242</th>\n      <td>America's Immigration Voice.\\n\\nEver thought t...</td>\n      <td>America's Immigration Voice.</td>\n      <td>Ever thought that the academic discipline of h...</td>\n    </tr>\n    <tr>\n      <th>765385479</th>\n      <td>Julian Assange\\n\\nThe persecution of Julian As...</td>\n      <td>Julian Assange</td>\n      <td>The persecution of Julian Assange must end. Or...</td>\n    </tr>\n    <tr>\n      <th>730269378</th>\n      <td>America's Immigration Voice.\\n\\nThanks for pub...</td>\n      <td>America's Immigration Voice.</td>\n      <td>Thanks for publicizing the race of Quentin Lam...</td>\n    </tr>\n    <tr>\n      <th>706088110</th>\n      <td>America's Immigration Voice.\\n\\nYears ago nume...</td>\n      <td>America's Immigration Voice.</td>\n      <td>Years ago numerous Indonesian Christians came ...</td>\n    </tr>\n    <tr>\n      <th>698092698</th>\n      <td>Las Vegas Shooting: A THIRD Timeline Emerges E...</td>\n      <td>Las Vegas Shooting: A THIRD Timeline Emerges E...</td>\n      <td>\\n</td>\n    </tr>\n    <tr>\n      <th>832917532</th>\n      <td>Robert Mueller Not Recommending Any More Indic...</td>\n      <td>Robert Mueller Not Recommending Any More Indic...</td>\n      <td>Special counsel Robert Mueller will not recomm...</td>\n    </tr>\n    <tr>\n      <th>730389374</th>\n      <td>America's Immigration Voice.\\n\\nCandidate Dona...</td>\n      <td>America's Immigration Voice.</td>\n      <td>Candidate Donald Trump may have promised to ex...</td>\n    </tr>\n    <tr>\n      <th>833032367</th>\n      <td>Robert Mueller Not Recommending Any More Indic...</td>\n      <td>Robert Mueller Not Recommending Any More Indic...</td>\n      <td>But of course, this makes no difference to the...</td>\n    </tr>\n    <tr>\n      <th>730093263</th>\n      <td>America's Immigration Voice.\\n\\nEarlier, I blo...</td>\n      <td>America's Immigration Voice.</td>\n      <td>Earlier, I blogged that the police had release...</td>\n    </tr>\n    <tr>\n      <th>702111021</th>\n      <td>America's Immigration Voice.\\n\\nKritarch Patti...</td>\n      <td>America's Immigration Voice.</td>\n      <td>Kritarch Patti Saris is in the news again. She...</td>\n    </tr>\n    <tr>\n      <th>730019938</th>\n      <td>America's Immigration Voice.\\n\\nPolice identif...</td>\n      <td>America's Immigration Voice.</td>\n      <td>Police identify suspect in death of 2 Ohio pol...</td>\n    </tr>\n    <tr>\n      <th>725276027</th>\n      <td>America's Immigration Voice.\\n\\nKritarch Patti...</td>\n      <td>America's Immigration Voice.</td>\n      <td>Kritarch Patti Saris, who thinks it is the job...</td>\n    </tr>\n    <tr>\n      <th>711716996</th>\n      <td>America's Immigration Voice.\\n\\nKritarch Patti...</td>\n      <td>America's Immigration Voice.</td>\n      <td>Kritarch Patti Saris thinks she runs immigrati...</td>\n    </tr>\n    <tr>\n      <th>723537899</th>\n      <td>America's Immigration Voice.\\n\\nThe war for do...</td>\n      <td>America's Immigration Voice.</td>\n      <td>The war for dominance in the Middle East, foll...</td>\n    </tr>\n  </tbody>\n</table>\n</div>"
     },
     "execution_count": 11,
     "metadata": {},
     "output_type": "execute_result"
    }
   ],
   "source": [
    "semeval_data_en.df[semeval_data_en.df.title.duplicated(keep=False)]"
   ],
   "metadata": {
    "collapsed": false
   }
  },
  {
   "cell_type": "markdown",
   "source": [
    "Some articles have the same titles because they proceed from the same blog or source, but their content is not the same.\n",
    "\n",
    "The only real duplicate seems to be:\n",
    "    - 698092698 and 999000878\n",
    "    - 832917532 (actual article) and 833032367 (comment on the article, probably best to remove this one)\n"
   ],
   "metadata": {
    "collapsed": false
   }
  },
  {
   "cell_type": "code",
   "execution_count": 14,
   "outputs": [
    {
     "name": "stdout",
     "output_type": "stream",
     "text": [
      "Special counsel Robert Mueller will not recommend any more indictments as part of his investigation, the Justice Department announced Friday evening.\n",
      "A senior Justice Department official announced the development shortly after the special counsel submitted its final report to U.S. Attorney General William Barr.\n",
      "Barr will now review the report and write his own report on Mueller’s findings and present them to Congress as soon as this weekend.\n",
      "“I am reviewing the report and anticipate that I may be in a position to advise you of the special counsel’s principal conclusions as soon as this weekend,” the attorney general wrote in a letter to Republican and Democrat leaders on the House and Senate Judiciary Committees.\n",
      "He also said at no time did the Justice Department prevent Mueller from any actions he sought to make during the course of his investigation.\n",
      "President Trump’s initial reaction to news of the report’s delivery is that he is “glad it’s over,” reported ABC News.\n",
      "In a separate statement, Trump lawyers Rudy Giuliani and Jay Sekulow said:“We’re pleased that the Office of Special Counsel has delivered its report to the Attorney General pursuant to the regulations.\n",
      "Attorney General Barr will determine the appropriate next steps.”\n",
      "Following confirmation of the report’s delivery, several top Democrat lawmakers demanded its immediate public release.\n",
      "Sen. Mark Warner (D-VA), the top Democrat on the Senate Intelligence Committee, said Mueller’s findings “must be provided to Congress immediately, and the Attorney General should swiftly prepare a declassified version for the public.\n",
      "Nothing short of that will suffice.”\n",
      "Senate Minority Leader Chuck Schumer (D-NY) and House Speaker Nancy Pelosi (D-CA) echoed Warner’s remarks, stating: “It is imperative for Mr. Barr to make the full report public and provide its underlying documentation and findings to Congress.”SSen. Chuck Grassley (R-IA), the former chair of the Senate’s Judiciary Committee, said in a statement “that we still haven’t seen any evidence of collusion.”“Republicans and Democrats have roundly praised Mueller’s reputation for integrity and thoroughness.\n",
      "Now that he’s wrapped up his investigation, Attorney General Barr must provide Congress and the American people with the findings to finally put an end to the speculation and innuendo that has loomed over this administration since its earliest days,” Grassley said.\n",
      "“Attempts to keep the collusion narrative alive, especially for political reasons, will only serve to further harm our political discourse and play into the hands of our foreign adversaries.”\n",
      "\n",
      "\n"
     ]
    }
   ],
   "source": [
    "print(semeval_data_en.df.content.loc[832917532])"
   ],
   "metadata": {
    "collapsed": false
   }
  },
  {
   "cell_type": "code",
   "execution_count": 13,
   "outputs": [
    {
     "name": "stdout",
     "output_type": "stream",
     "text": [
      "But of course, this makes no difference to the party of treason.\n",
      "The coup will continue.\n",
      "The New York Times instructs its goosestepping goons that:\n",
      "the delivery of a report late Friday afternoon from Robert S. Mueller III, the special counsel, to Attorney General William P. Barr might seem like the conclusion of a long-running drama , but it is only the end of the beginning.Two and half years and billions of dollars because these thumbsucking traitors lost the election.\n",
      "ROBERT MUELLER NOT RECOMMENDING ANY MORE INDICTMENTS IN RUSSIA PROBE take our poll - story continues below\n",
      "Do you think Democrats will push out Representative Ilhan Omar over her anti-Semitism?\n",
      "Do you think Democrats will push out Representative Ilhan Omar over her anti-Semitism?\n",
      "Do you think Democrats will push out Representative Ilhan Omar over her anti-Semitism?\n",
      "* Yes, they're supposedly the party against hate, so they have to.\n",
      "No, intersectional politics rule the Democrat party, so Omar wins.\n",
      "I don't really care what they do.\n",
      "The Democrat party is all bad anyway.\n",
      "Email *\n",
      "Email This field is for validation purposes and should be left unchanged.\n",
      "Completing this poll grants you access to Freedom Outpost updates free of charge.\n",
      "You may opt out at anytime.\n",
      "You also agree to this site's Privacy Policy and Terms of Use.\n",
      "By Joshua Caplan.\n",
      "March 22, 2019:\n",
      "SPECIAL COUNSEL ROBERT MUELLER WILL NOT RECOMMEND ANY MORE INDICTMENTS AS PART OF HIS INVESTIGATION, THE JUSTICE DEPARTMENT ANNOUNCED FRIDAY EVENING.\n",
      "A senior Justice Department official announced the development shortly after the special counsel submitted its final report to U.S. Attorney General William Barr.\n",
      "Barr will now review the report and write his own report on Mueller’s findings and present them to Congress as soon as this weekend.\n",
      "“I am reviewing the report and anticipate that I may be in a position to advise you of the special counsel’s principal conclusions as soon as this weekend,” the attorney general wrote in a letter to Republican and Democrat leaders on the House and Senate Judiciary Committees.\n",
      "He also said at no time did the Justice Department prevent Mueller from any actions he sought to make during the course of his investigation.\n",
      "President Trump’s initial reaction to news of the report’s delivery is that he is “glad it’s over,” reported ABC News.\n",
      "In a separate statement, Trump lawyers Rudy Giuliani and Jay Sekulow said:“We’re pleased that the Office of Special Counsel has delivered its report to the Attorney General pursuant to the regulations.\n",
      "Attorney General Barr will determine the appropriate next steps.”\n",
      "Following confirmation of the report’s delivery, several top Democrat lawmakers demanded its immediate public release.\n",
      "Sen. Mark Warner (D-VA), the top Democrat on the Senate Intelligence Committee, said Mueller’s findings “must be provided to Congress immediately, and the Attorney General should swiftly prepare a declassified version for the public.\n",
      "Nothing short of that will suffice.”\n",
      "Senate Minority Leader Chuck Schumer (D-NY) and House Speaker Nancy Pelosi (D-CA) echoed Warner’s remarks, stating: “It is imperative for Mr. Barr to make the full report public and provide its underlying documentation and findings to Congress.”\n",
      "Sen. Chuck Grassley (R-IA), the former chair of the Senate’s Judiciary Committee, said in a statement “that we still haven’t seen any evidence of collusion.”\n",
      "“Republicans and Democrats have roundly praised Mueller’s reputation for integrity and thoroughness.\n",
      "Now that he’s wrapped up his investigation, Attorney General Barr must provide Congress and the American people with the findings to finally put an end to the speculation and innuendo that has loomed over this administration since its earliest days,” Grassley said.\n",
      "“Attempts to keep the collusion narrative alive, especially for political reasons, will only serve to further harm our political discourse and play into the hands of our foreign adversaries.”\n",
      "\n",
      "\n"
     ]
    }
   ],
   "source": [
    "print(semeval_data_en.df.content.loc[833032367])"
   ],
   "metadata": {
    "collapsed": false
   }
  },
  {
   "cell_type": "markdown",
   "source": [
    "#### Italian"
   ],
   "metadata": {
    "collapsed": false
   }
  },
  {
   "cell_type": "code",
   "execution_count": 17,
   "outputs": [
    {
     "data": {
      "text/plain": "Empty DataFrame\nColumns: [raw_text, title, content]\nIndex: []",
      "text/html": "<div>\n<style scoped>\n    .dataframe tbody tr th:only-of-type {\n        vertical-align: middle;\n    }\n\n    .dataframe tbody tr th {\n        vertical-align: top;\n    }\n\n    .dataframe thead th {\n        text-align: right;\n    }\n</style>\n<table border=\"1\" class=\"dataframe\">\n  <thead>\n    <tr style=\"text-align: right;\">\n      <th></th>\n      <th>raw_text</th>\n      <th>title</th>\n      <th>content</th>\n    </tr>\n    <tr>\n      <th>id</th>\n      <th></th>\n      <th></th>\n      <th></th>\n    </tr>\n  </thead>\n  <tbody>\n  </tbody>\n</table>\n</div>"
     },
     "execution_count": 17,
     "metadata": {},
     "output_type": "execute_result"
    }
   ],
   "source": [
    "semeval_data_it.df[semeval_data_it.df.content.duplicated(keep=False)]"
   ],
   "metadata": {
    "collapsed": false
   }
  },
  {
   "cell_type": "code",
   "execution_count": 19,
   "outputs": [
    {
     "data": {
      "text/plain": "Empty DataFrame\nColumns: [raw_text, title, content]\nIndex: []",
      "text/html": "<div>\n<style scoped>\n    .dataframe tbody tr th:only-of-type {\n        vertical-align: middle;\n    }\n\n    .dataframe tbody tr th {\n        vertical-align: top;\n    }\n\n    .dataframe thead th {\n        text-align: right;\n    }\n</style>\n<table border=\"1\" class=\"dataframe\">\n  <thead>\n    <tr style=\"text-align: right;\">\n      <th></th>\n      <th>raw_text</th>\n      <th>title</th>\n      <th>content</th>\n    </tr>\n    <tr>\n      <th>id</th>\n      <th></th>\n      <th></th>\n      <th></th>\n    </tr>\n  </thead>\n  <tbody>\n  </tbody>\n</table>\n</div>"
     },
     "execution_count": 19,
     "metadata": {},
     "output_type": "execute_result"
    }
   ],
   "source": [
    "semeval_data_it.df[semeval_data_it.df.title.duplicated(keep=False)]"
   ],
   "metadata": {
    "collapsed": false
   }
  },
  {
   "cell_type": "markdown",
   "source": [
    "#### Russian"
   ],
   "metadata": {
    "collapsed": false
   }
  },
  {
   "cell_type": "code",
   "execution_count": 21,
   "outputs": [
    {
     "data": {
      "text/plain": "Empty DataFrame\nColumns: [raw_text, title, content]\nIndex: []",
      "text/html": "<div>\n<style scoped>\n    .dataframe tbody tr th:only-of-type {\n        vertical-align: middle;\n    }\n\n    .dataframe tbody tr th {\n        vertical-align: top;\n    }\n\n    .dataframe thead th {\n        text-align: right;\n    }\n</style>\n<table border=\"1\" class=\"dataframe\">\n  <thead>\n    <tr style=\"text-align: right;\">\n      <th></th>\n      <th>raw_text</th>\n      <th>title</th>\n      <th>content</th>\n    </tr>\n    <tr>\n      <th>id</th>\n      <th></th>\n      <th></th>\n      <th></th>\n    </tr>\n  </thead>\n  <tbody>\n  </tbody>\n</table>\n</div>"
     },
     "execution_count": 21,
     "metadata": {},
     "output_type": "execute_result"
    }
   ],
   "source": [
    "semeval_data_ru.df[semeval_data_ru.df.content.duplicated(keep=False)]"
   ],
   "metadata": {
    "collapsed": false
   }
  },
  {
   "cell_type": "code",
   "execution_count": 22,
   "outputs": [
    {
     "data": {
      "text/plain": "Empty DataFrame\nColumns: [raw_text, title, content]\nIndex: []",
      "text/html": "<div>\n<style scoped>\n    .dataframe tbody tr th:only-of-type {\n        vertical-align: middle;\n    }\n\n    .dataframe tbody tr th {\n        vertical-align: top;\n    }\n\n    .dataframe thead th {\n        text-align: right;\n    }\n</style>\n<table border=\"1\" class=\"dataframe\">\n  <thead>\n    <tr style=\"text-align: right;\">\n      <th></th>\n      <th>raw_text</th>\n      <th>title</th>\n      <th>content</th>\n    </tr>\n    <tr>\n      <th>id</th>\n      <th></th>\n      <th></th>\n      <th></th>\n    </tr>\n  </thead>\n  <tbody>\n  </tbody>\n</table>\n</div>"
     },
     "execution_count": 22,
     "metadata": {},
     "output_type": "execute_result"
    }
   ],
   "source": [
    "semeval_data_ru.df[semeval_data_ru.df.title.duplicated(keep=False)]"
   ],
   "metadata": {
    "collapsed": false
   }
  },
  {
   "cell_type": "markdown",
   "source": [
    "Seems other languages do not contain exact duplicates"
   ],
   "metadata": {
    "collapsed": false
   }
  },
  {
   "cell_type": "markdown",
   "source": [
    "## Let's look for duplicates with fuzzy matching"
   ],
   "metadata": {
    "collapsed": false
   }
  },
  {
   "cell_type": "code",
   "execution_count": 37,
   "outputs": [],
   "source": [
    "from fuzzywuzzy import fuzz\n",
    "\n",
    "def naive_pairwise_comparisson(df: pd.DataFrame, col_name: str, comp_fn: callable) -> pd.DataFrame:\n",
    "    duplicates = []\n",
    "    for row_i in df.iterrows():\n",
    "        for row_j in df.drop(row_i[0]).iterrows():\n",
    "            if comp_fn(row_i[1][col_name], row_j[1][col_name]):\n",
    "                duplicates.append(row_i[0], row_i[1], row_j[0], row_j[1])\n",
    "                print(duplicates)\n",
    "\n",
    "    return pd.DataFrame(duplicates, columns=['id_1', 'raw_text_1', 'id_2', 'raw_text_2'])\n",
    "\n"
   ],
   "metadata": {
    "collapsed": false
   }
  },
  {
   "cell_type": "code",
   "execution_count": 38,
   "outputs": [
    {
     "ename": "KeyboardInterrupt",
     "evalue": "",
     "output_type": "error",
     "traceback": [
      "\u001B[0;31m---------------------------------------------------------------------------\u001B[0m",
      "\u001B[0;31mKeyboardInterrupt\u001B[0m                         Traceback (most recent call last)",
      "Input \u001B[0;32mIn [38]\u001B[0m, in \u001B[0;36m<cell line: 1>\u001B[0;34m()\u001B[0m\n\u001B[0;32m----> 1\u001B[0m \u001B[43mnaive_pairwise_comparisson\u001B[49m\u001B[43m(\u001B[49m\u001B[43mdf\u001B[49m\u001B[38;5;241;43m=\u001B[39;49m\u001B[43msemeval_data\u001B[49m\u001B[38;5;241;43m.\u001B[39;49m\u001B[43mdf\u001B[49m\u001B[43m,\u001B[49m\u001B[43m \u001B[49m\u001B[43mcol_name\u001B[49m\u001B[38;5;241;43m=\u001B[39;49m\u001B[38;5;124;43m\"\u001B[39;49m\u001B[38;5;124;43mraw_text\u001B[39;49m\u001B[38;5;124;43m\"\u001B[39;49m\u001B[43m,\u001B[49m\n\u001B[1;32m      2\u001B[0m \u001B[43m                           \u001B[49m\u001B[43mcomp_fn\u001B[49m\u001B[38;5;241;43m=\u001B[39;49m\u001B[38;5;28;43;01mlambda\u001B[39;49;00m\u001B[43m \u001B[49m\u001B[43mstr1\u001B[49m\u001B[43m,\u001B[49m\u001B[43m \u001B[49m\u001B[43mstr2\u001B[49m\u001B[43m:\u001B[49m\u001B[43m \u001B[49m\u001B[43mfuzz\u001B[49m\u001B[38;5;241;43m.\u001B[39;49m\u001B[43mpartial_ratio\u001B[49m\u001B[43m(\u001B[49m\u001B[43mstr1\u001B[49m\u001B[43m,\u001B[49m\u001B[43m \u001B[49m\u001B[43mstr2\u001B[49m\u001B[43m)\u001B[49m\u001B[43m \u001B[49m\u001B[38;5;241;43m>\u001B[39;49m\u001B[43m \u001B[49m\u001B[38;5;241;43m90\u001B[39;49m\u001B[43m)\u001B[49m\n",
      "Input \u001B[0;32mIn [37]\u001B[0m, in \u001B[0;36mnaive_pairwise_comparisson\u001B[0;34m(df, col_name, comp_fn)\u001B[0m\n\u001B[1;32m      5\u001B[0m \u001B[38;5;28;01mfor\u001B[39;00m row_i \u001B[38;5;129;01min\u001B[39;00m df\u001B[38;5;241m.\u001B[39miterrows():\n\u001B[1;32m      6\u001B[0m     \u001B[38;5;28;01mfor\u001B[39;00m row_j \u001B[38;5;129;01min\u001B[39;00m df\u001B[38;5;241m.\u001B[39mdrop(row_i[\u001B[38;5;241m0\u001B[39m])\u001B[38;5;241m.\u001B[39miterrows():\n\u001B[0;32m----> 7\u001B[0m         \u001B[38;5;28;01mif\u001B[39;00m \u001B[43mcomp_fn\u001B[49m\u001B[43m(\u001B[49m\u001B[43mrow_i\u001B[49m\u001B[43m[\u001B[49m\u001B[38;5;241;43m1\u001B[39;49m\u001B[43m]\u001B[49m\u001B[43m[\u001B[49m\u001B[43mcol_name\u001B[49m\u001B[43m]\u001B[49m\u001B[43m,\u001B[49m\u001B[43m \u001B[49m\u001B[43mrow_j\u001B[49m\u001B[43m[\u001B[49m\u001B[38;5;241;43m1\u001B[39;49m\u001B[43m]\u001B[49m\u001B[43m[\u001B[49m\u001B[43mcol_name\u001B[49m\u001B[43m]\u001B[49m\u001B[43m)\u001B[49m:\n\u001B[1;32m      8\u001B[0m             duplicates\u001B[38;5;241m.\u001B[39mappend(row_i[\u001B[38;5;241m0\u001B[39m], row_i[\u001B[38;5;241m1\u001B[39m], row_j[\u001B[38;5;241m0\u001B[39m], row_j[\u001B[38;5;241m1\u001B[39m])\n\u001B[1;32m      9\u001B[0m             \u001B[38;5;28mprint\u001B[39m(duplicates)\n",
      "Input \u001B[0;32mIn [38]\u001B[0m, in \u001B[0;36m<lambda>\u001B[0;34m(str1, str2)\u001B[0m\n\u001B[1;32m      1\u001B[0m naive_pairwise_comparisson(df\u001B[38;5;241m=\u001B[39msemeval_data\u001B[38;5;241m.\u001B[39mdf, col_name\u001B[38;5;241m=\u001B[39m\u001B[38;5;124m\"\u001B[39m\u001B[38;5;124mraw_text\u001B[39m\u001B[38;5;124m\"\u001B[39m,\n\u001B[0;32m----> 2\u001B[0m                            comp_fn\u001B[38;5;241m=\u001B[39m\u001B[38;5;28;01mlambda\u001B[39;00m str1, str2: \u001B[43mfuzz\u001B[49m\u001B[38;5;241;43m.\u001B[39;49m\u001B[43mpartial_ratio\u001B[49m\u001B[43m(\u001B[49m\u001B[43mstr1\u001B[49m\u001B[43m,\u001B[49m\u001B[43m \u001B[49m\u001B[43mstr2\u001B[49m\u001B[43m)\u001B[49m \u001B[38;5;241m>\u001B[39m \u001B[38;5;241m90\u001B[39m)\n",
      "File \u001B[0;32m~/anaconda3/envs/Framing/lib/python3.9/site-packages/fuzzywuzzy/utils.py:38\u001B[0m, in \u001B[0;36mcheck_for_none.<locals>.decorator\u001B[0;34m(*args, **kwargs)\u001B[0m\n\u001B[1;32m     36\u001B[0m \u001B[38;5;28;01mif\u001B[39;00m args[\u001B[38;5;241m0\u001B[39m] \u001B[38;5;129;01mis\u001B[39;00m \u001B[38;5;28;01mNone\u001B[39;00m \u001B[38;5;129;01mor\u001B[39;00m args[\u001B[38;5;241m1\u001B[39m] \u001B[38;5;129;01mis\u001B[39;00m \u001B[38;5;28;01mNone\u001B[39;00m:\n\u001B[1;32m     37\u001B[0m     \u001B[38;5;28;01mreturn\u001B[39;00m \u001B[38;5;241m0\u001B[39m\n\u001B[0;32m---> 38\u001B[0m \u001B[38;5;28;01mreturn\u001B[39;00m \u001B[43mfunc\u001B[49m\u001B[43m(\u001B[49m\u001B[38;5;241;43m*\u001B[39;49m\u001B[43margs\u001B[49m\u001B[43m,\u001B[49m\u001B[43m \u001B[49m\u001B[38;5;241;43m*\u001B[39;49m\u001B[38;5;241;43m*\u001B[39;49m\u001B[43mkwargs\u001B[49m\u001B[43m)\u001B[49m\n",
      "File \u001B[0;32m~/anaconda3/envs/Framing/lib/python3.9/site-packages/fuzzywuzzy/utils.py:29\u001B[0m, in \u001B[0;36mcheck_for_equivalence.<locals>.decorator\u001B[0;34m(*args, **kwargs)\u001B[0m\n\u001B[1;32m     27\u001B[0m \u001B[38;5;28;01mif\u001B[39;00m args[\u001B[38;5;241m0\u001B[39m] \u001B[38;5;241m==\u001B[39m args[\u001B[38;5;241m1\u001B[39m]:\n\u001B[1;32m     28\u001B[0m     \u001B[38;5;28;01mreturn\u001B[39;00m \u001B[38;5;241m100\u001B[39m\n\u001B[0;32m---> 29\u001B[0m \u001B[38;5;28;01mreturn\u001B[39;00m \u001B[43mfunc\u001B[49m\u001B[43m(\u001B[49m\u001B[38;5;241;43m*\u001B[39;49m\u001B[43margs\u001B[49m\u001B[43m,\u001B[49m\u001B[43m \u001B[49m\u001B[38;5;241;43m*\u001B[39;49m\u001B[38;5;241;43m*\u001B[39;49m\u001B[43mkwargs\u001B[49m\u001B[43m)\u001B[49m\n",
      "File \u001B[0;32m~/anaconda3/envs/Framing/lib/python3.9/site-packages/fuzzywuzzy/utils.py:47\u001B[0m, in \u001B[0;36mcheck_empty_string.<locals>.decorator\u001B[0;34m(*args, **kwargs)\u001B[0m\n\u001B[1;32m     45\u001B[0m \u001B[38;5;28;01mif\u001B[39;00m \u001B[38;5;28mlen\u001B[39m(args[\u001B[38;5;241m0\u001B[39m]) \u001B[38;5;241m==\u001B[39m \u001B[38;5;241m0\u001B[39m \u001B[38;5;129;01mor\u001B[39;00m \u001B[38;5;28mlen\u001B[39m(args[\u001B[38;5;241m1\u001B[39m]) \u001B[38;5;241m==\u001B[39m \u001B[38;5;241m0\u001B[39m:\n\u001B[1;32m     46\u001B[0m     \u001B[38;5;28;01mreturn\u001B[39;00m \u001B[38;5;241m0\u001B[39m\n\u001B[0;32m---> 47\u001B[0m \u001B[38;5;28;01mreturn\u001B[39;00m \u001B[43mfunc\u001B[49m\u001B[43m(\u001B[49m\u001B[38;5;241;43m*\u001B[39;49m\u001B[43margs\u001B[49m\u001B[43m,\u001B[49m\u001B[43m \u001B[49m\u001B[38;5;241;43m*\u001B[39;49m\u001B[38;5;241;43m*\u001B[39;49m\u001B[43mkwargs\u001B[49m\u001B[43m)\u001B[49m\n",
      "File \u001B[0;32m~/anaconda3/envs/Framing/lib/python3.9/site-packages/fuzzywuzzy/fuzz.py:62\u001B[0m, in \u001B[0;36mpartial_ratio\u001B[0;34m(s1, s2)\u001B[0m\n\u001B[1;32m     59\u001B[0m long_substr \u001B[38;5;241m=\u001B[39m longer[long_start:long_end]\n\u001B[1;32m     61\u001B[0m m2 \u001B[38;5;241m=\u001B[39m SequenceMatcher(\u001B[38;5;28;01mNone\u001B[39;00m, shorter, long_substr)\n\u001B[0;32m---> 62\u001B[0m r \u001B[38;5;241m=\u001B[39m \u001B[43mm2\u001B[49m\u001B[38;5;241;43m.\u001B[39;49m\u001B[43mratio\u001B[49m\u001B[43m(\u001B[49m\u001B[43m)\u001B[49m\n\u001B[1;32m     63\u001B[0m \u001B[38;5;28;01mif\u001B[39;00m r \u001B[38;5;241m>\u001B[39m \u001B[38;5;241m.995\u001B[39m:\n\u001B[1;32m     64\u001B[0m     \u001B[38;5;28;01mreturn\u001B[39;00m \u001B[38;5;241m100\u001B[39m\n",
      "File \u001B[0;32m~/anaconda3/envs/Framing/lib/python3.9/site-packages/fuzzywuzzy/StringMatcher.py:64\u001B[0m, in \u001B[0;36mStringMatcher.ratio\u001B[0;34m(self)\u001B[0m\n\u001B[1;32m     62\u001B[0m \u001B[38;5;28;01mdef\u001B[39;00m \u001B[38;5;21mratio\u001B[39m(\u001B[38;5;28mself\u001B[39m):\n\u001B[1;32m     63\u001B[0m     \u001B[38;5;28;01mif\u001B[39;00m \u001B[38;5;129;01mnot\u001B[39;00m \u001B[38;5;28mself\u001B[39m\u001B[38;5;241m.\u001B[39m_ratio:\n\u001B[0;32m---> 64\u001B[0m         \u001B[38;5;28mself\u001B[39m\u001B[38;5;241m.\u001B[39m_ratio \u001B[38;5;241m=\u001B[39m \u001B[43mratio\u001B[49m\u001B[43m(\u001B[49m\u001B[38;5;28;43mself\u001B[39;49m\u001B[38;5;241;43m.\u001B[39;49m\u001B[43m_str1\u001B[49m\u001B[43m,\u001B[49m\u001B[43m \u001B[49m\u001B[38;5;28;43mself\u001B[39;49m\u001B[38;5;241;43m.\u001B[39;49m\u001B[43m_str2\u001B[49m\u001B[43m)\u001B[49m\n\u001B[1;32m     65\u001B[0m     \u001B[38;5;28;01mreturn\u001B[39;00m \u001B[38;5;28mself\u001B[39m\u001B[38;5;241m.\u001B[39m_ratio\n",
      "\u001B[0;31mKeyboardInterrupt\u001B[0m: "
     ]
    }
   ],
   "source": [
    "naive_pairwise_comparisson(df=semeval_data.df, col_name=\"raw_text\",\n",
    "                           comp_fn=lambda str1, str2: fuzz.partial_ratio(str1, str2) > 90)"
   ],
   "metadata": {
    "collapsed": false
   }
  },
  {
   "cell_type": "markdown",
   "source": [
    "Let's verify these with some fuzzy matching"
   ],
   "metadata": {
    "collapsed": false
   }
  },
  {
   "cell_type": "code",
   "execution_count": 37,
   "outputs": [],
   "source": [
    "from fuzzywuzzy import fuzz\n",
    "\n",
    "def naive_pairwise_comparisson(df: pd.DataFrame, col_name: str, comp_fn: callable) -> pd.DataFrame:\n",
    "    duplicates = []\n",
    "    for row_i in df.iterrows():\n",
    "        for row_j in df.drop(row_i[0]).iterrows():\n",
    "            if comp_fn(row_i[1][col_name], row_j[1][col_name]):\n",
    "                duplicates.append(row_i[0], row_i[1], row_j[0], row_j[1])\n",
    "                print(duplicates)\n",
    "\n",
    "    return pd.DataFrame(duplicates, columns=['id_1', 'raw_text_1', 'id_2', 'raw_text_2'])\n",
    "\n"
   ],
   "metadata": {
    "collapsed": false
   }
  },
  {
   "cell_type": "code",
   "execution_count": 38,
   "outputs": [
    {
     "ename": "KeyboardInterrupt",
     "evalue": "",
     "output_type": "error",
     "traceback": [
      "\u001B[0;31m---------------------------------------------------------------------------\u001B[0m",
      "\u001B[0;31mKeyboardInterrupt\u001B[0m                         Traceback (most recent call last)",
      "Input \u001B[0;32mIn [38]\u001B[0m, in \u001B[0;36m<cell line: 1>\u001B[0;34m()\u001B[0m\n\u001B[0;32m----> 1\u001B[0m \u001B[43mnaive_pairwise_comparisson\u001B[49m\u001B[43m(\u001B[49m\u001B[43mdf\u001B[49m\u001B[38;5;241;43m=\u001B[39;49m\u001B[43msemeval_data\u001B[49m\u001B[38;5;241;43m.\u001B[39;49m\u001B[43mdf\u001B[49m\u001B[43m,\u001B[49m\u001B[43m \u001B[49m\u001B[43mcol_name\u001B[49m\u001B[38;5;241;43m=\u001B[39;49m\u001B[38;5;124;43m\"\u001B[39;49m\u001B[38;5;124;43mraw_text\u001B[39;49m\u001B[38;5;124;43m\"\u001B[39;49m\u001B[43m,\u001B[49m\n\u001B[1;32m      2\u001B[0m \u001B[43m                           \u001B[49m\u001B[43mcomp_fn\u001B[49m\u001B[38;5;241;43m=\u001B[39;49m\u001B[38;5;28;43;01mlambda\u001B[39;49;00m\u001B[43m \u001B[49m\u001B[43mstr1\u001B[49m\u001B[43m,\u001B[49m\u001B[43m \u001B[49m\u001B[43mstr2\u001B[49m\u001B[43m:\u001B[49m\u001B[43m \u001B[49m\u001B[43mfuzz\u001B[49m\u001B[38;5;241;43m.\u001B[39;49m\u001B[43mpartial_ratio\u001B[49m\u001B[43m(\u001B[49m\u001B[43mstr1\u001B[49m\u001B[43m,\u001B[49m\u001B[43m \u001B[49m\u001B[43mstr2\u001B[49m\u001B[43m)\u001B[49m\u001B[43m \u001B[49m\u001B[38;5;241;43m>\u001B[39;49m\u001B[43m \u001B[49m\u001B[38;5;241;43m90\u001B[39;49m\u001B[43m)\u001B[49m\n",
      "Input \u001B[0;32mIn [37]\u001B[0m, in \u001B[0;36mnaive_pairwise_comparisson\u001B[0;34m(df, col_name, comp_fn)\u001B[0m\n\u001B[1;32m      5\u001B[0m \u001B[38;5;28;01mfor\u001B[39;00m row_i \u001B[38;5;129;01min\u001B[39;00m df\u001B[38;5;241m.\u001B[39miterrows():\n\u001B[1;32m      6\u001B[0m     \u001B[38;5;28;01mfor\u001B[39;00m row_j \u001B[38;5;129;01min\u001B[39;00m df\u001B[38;5;241m.\u001B[39mdrop(row_i[\u001B[38;5;241m0\u001B[39m])\u001B[38;5;241m.\u001B[39miterrows():\n\u001B[0;32m----> 7\u001B[0m         \u001B[38;5;28;01mif\u001B[39;00m \u001B[43mcomp_fn\u001B[49m\u001B[43m(\u001B[49m\u001B[43mrow_i\u001B[49m\u001B[43m[\u001B[49m\u001B[38;5;241;43m1\u001B[39;49m\u001B[43m]\u001B[49m\u001B[43m[\u001B[49m\u001B[43mcol_name\u001B[49m\u001B[43m]\u001B[49m\u001B[43m,\u001B[49m\u001B[43m \u001B[49m\u001B[43mrow_j\u001B[49m\u001B[43m[\u001B[49m\u001B[38;5;241;43m1\u001B[39;49m\u001B[43m]\u001B[49m\u001B[43m[\u001B[49m\u001B[43mcol_name\u001B[49m\u001B[43m]\u001B[49m\u001B[43m)\u001B[49m:\n\u001B[1;32m      8\u001B[0m             duplicates\u001B[38;5;241m.\u001B[39mappend(row_i[\u001B[38;5;241m0\u001B[39m], row_i[\u001B[38;5;241m1\u001B[39m], row_j[\u001B[38;5;241m0\u001B[39m], row_j[\u001B[38;5;241m1\u001B[39m])\n\u001B[1;32m      9\u001B[0m             \u001B[38;5;28mprint\u001B[39m(duplicates)\n",
      "Input \u001B[0;32mIn [38]\u001B[0m, in \u001B[0;36m<lambda>\u001B[0;34m(str1, str2)\u001B[0m\n\u001B[1;32m      1\u001B[0m naive_pairwise_comparisson(df\u001B[38;5;241m=\u001B[39msemeval_data\u001B[38;5;241m.\u001B[39mdf, col_name\u001B[38;5;241m=\u001B[39m\u001B[38;5;124m\"\u001B[39m\u001B[38;5;124mraw_text\u001B[39m\u001B[38;5;124m\"\u001B[39m,\n\u001B[0;32m----> 2\u001B[0m                            comp_fn\u001B[38;5;241m=\u001B[39m\u001B[38;5;28;01mlambda\u001B[39;00m str1, str2: \u001B[43mfuzz\u001B[49m\u001B[38;5;241;43m.\u001B[39;49m\u001B[43mpartial_ratio\u001B[49m\u001B[43m(\u001B[49m\u001B[43mstr1\u001B[49m\u001B[43m,\u001B[49m\u001B[43m \u001B[49m\u001B[43mstr2\u001B[49m\u001B[43m)\u001B[49m \u001B[38;5;241m>\u001B[39m \u001B[38;5;241m90\u001B[39m)\n",
      "File \u001B[0;32m~/anaconda3/envs/Framing/lib/python3.9/site-packages/fuzzywuzzy/utils.py:38\u001B[0m, in \u001B[0;36mcheck_for_none.<locals>.decorator\u001B[0;34m(*args, **kwargs)\u001B[0m\n\u001B[1;32m     36\u001B[0m \u001B[38;5;28;01mif\u001B[39;00m args[\u001B[38;5;241m0\u001B[39m] \u001B[38;5;129;01mis\u001B[39;00m \u001B[38;5;28;01mNone\u001B[39;00m \u001B[38;5;129;01mor\u001B[39;00m args[\u001B[38;5;241m1\u001B[39m] \u001B[38;5;129;01mis\u001B[39;00m \u001B[38;5;28;01mNone\u001B[39;00m:\n\u001B[1;32m     37\u001B[0m     \u001B[38;5;28;01mreturn\u001B[39;00m \u001B[38;5;241m0\u001B[39m\n\u001B[0;32m---> 38\u001B[0m \u001B[38;5;28;01mreturn\u001B[39;00m \u001B[43mfunc\u001B[49m\u001B[43m(\u001B[49m\u001B[38;5;241;43m*\u001B[39;49m\u001B[43margs\u001B[49m\u001B[43m,\u001B[49m\u001B[43m \u001B[49m\u001B[38;5;241;43m*\u001B[39;49m\u001B[38;5;241;43m*\u001B[39;49m\u001B[43mkwargs\u001B[49m\u001B[43m)\u001B[49m\n",
      "File \u001B[0;32m~/anaconda3/envs/Framing/lib/python3.9/site-packages/fuzzywuzzy/utils.py:29\u001B[0m, in \u001B[0;36mcheck_for_equivalence.<locals>.decorator\u001B[0;34m(*args, **kwargs)\u001B[0m\n\u001B[1;32m     27\u001B[0m \u001B[38;5;28;01mif\u001B[39;00m args[\u001B[38;5;241m0\u001B[39m] \u001B[38;5;241m==\u001B[39m args[\u001B[38;5;241m1\u001B[39m]:\n\u001B[1;32m     28\u001B[0m     \u001B[38;5;28;01mreturn\u001B[39;00m \u001B[38;5;241m100\u001B[39m\n\u001B[0;32m---> 29\u001B[0m \u001B[38;5;28;01mreturn\u001B[39;00m \u001B[43mfunc\u001B[49m\u001B[43m(\u001B[49m\u001B[38;5;241;43m*\u001B[39;49m\u001B[43margs\u001B[49m\u001B[43m,\u001B[49m\u001B[43m \u001B[49m\u001B[38;5;241;43m*\u001B[39;49m\u001B[38;5;241;43m*\u001B[39;49m\u001B[43mkwargs\u001B[49m\u001B[43m)\u001B[49m\n",
      "File \u001B[0;32m~/anaconda3/envs/Framing/lib/python3.9/site-packages/fuzzywuzzy/utils.py:47\u001B[0m, in \u001B[0;36mcheck_empty_string.<locals>.decorator\u001B[0;34m(*args, **kwargs)\u001B[0m\n\u001B[1;32m     45\u001B[0m \u001B[38;5;28;01mif\u001B[39;00m \u001B[38;5;28mlen\u001B[39m(args[\u001B[38;5;241m0\u001B[39m]) \u001B[38;5;241m==\u001B[39m \u001B[38;5;241m0\u001B[39m \u001B[38;5;129;01mor\u001B[39;00m \u001B[38;5;28mlen\u001B[39m(args[\u001B[38;5;241m1\u001B[39m]) \u001B[38;5;241m==\u001B[39m \u001B[38;5;241m0\u001B[39m:\n\u001B[1;32m     46\u001B[0m     \u001B[38;5;28;01mreturn\u001B[39;00m \u001B[38;5;241m0\u001B[39m\n\u001B[0;32m---> 47\u001B[0m \u001B[38;5;28;01mreturn\u001B[39;00m \u001B[43mfunc\u001B[49m\u001B[43m(\u001B[49m\u001B[38;5;241;43m*\u001B[39;49m\u001B[43margs\u001B[49m\u001B[43m,\u001B[49m\u001B[43m \u001B[49m\u001B[38;5;241;43m*\u001B[39;49m\u001B[38;5;241;43m*\u001B[39;49m\u001B[43mkwargs\u001B[49m\u001B[43m)\u001B[49m\n",
      "File \u001B[0;32m~/anaconda3/envs/Framing/lib/python3.9/site-packages/fuzzywuzzy/fuzz.py:62\u001B[0m, in \u001B[0;36mpartial_ratio\u001B[0;34m(s1, s2)\u001B[0m\n\u001B[1;32m     59\u001B[0m long_substr \u001B[38;5;241m=\u001B[39m longer[long_start:long_end]\n\u001B[1;32m     61\u001B[0m m2 \u001B[38;5;241m=\u001B[39m SequenceMatcher(\u001B[38;5;28;01mNone\u001B[39;00m, shorter, long_substr)\n\u001B[0;32m---> 62\u001B[0m r \u001B[38;5;241m=\u001B[39m \u001B[43mm2\u001B[49m\u001B[38;5;241;43m.\u001B[39;49m\u001B[43mratio\u001B[49m\u001B[43m(\u001B[49m\u001B[43m)\u001B[49m\n\u001B[1;32m     63\u001B[0m \u001B[38;5;28;01mif\u001B[39;00m r \u001B[38;5;241m>\u001B[39m \u001B[38;5;241m.995\u001B[39m:\n\u001B[1;32m     64\u001B[0m     \u001B[38;5;28;01mreturn\u001B[39;00m \u001B[38;5;241m100\u001B[39m\n",
      "File \u001B[0;32m~/anaconda3/envs/Framing/lib/python3.9/site-packages/fuzzywuzzy/StringMatcher.py:64\u001B[0m, in \u001B[0;36mStringMatcher.ratio\u001B[0;34m(self)\u001B[0m\n\u001B[1;32m     62\u001B[0m \u001B[38;5;28;01mdef\u001B[39;00m \u001B[38;5;21mratio\u001B[39m(\u001B[38;5;28mself\u001B[39m):\n\u001B[1;32m     63\u001B[0m     \u001B[38;5;28;01mif\u001B[39;00m \u001B[38;5;129;01mnot\u001B[39;00m \u001B[38;5;28mself\u001B[39m\u001B[38;5;241m.\u001B[39m_ratio:\n\u001B[0;32m---> 64\u001B[0m         \u001B[38;5;28mself\u001B[39m\u001B[38;5;241m.\u001B[39m_ratio \u001B[38;5;241m=\u001B[39m \u001B[43mratio\u001B[49m\u001B[43m(\u001B[49m\u001B[38;5;28;43mself\u001B[39;49m\u001B[38;5;241;43m.\u001B[39;49m\u001B[43m_str1\u001B[49m\u001B[43m,\u001B[49m\u001B[43m \u001B[49m\u001B[38;5;28;43mself\u001B[39;49m\u001B[38;5;241;43m.\u001B[39;49m\u001B[43m_str2\u001B[49m\u001B[43m)\u001B[49m\n\u001B[1;32m     65\u001B[0m     \u001B[38;5;28;01mreturn\u001B[39;00m \u001B[38;5;28mself\u001B[39m\u001B[38;5;241m.\u001B[39m_ratio\n",
      "\u001B[0;31mKeyboardInterrupt\u001B[0m: "
     ]
    }
   ],
   "source": [
    "naive_pairwise_comparisson(df=semeval_data.df, col_name=\"raw_text\",\n",
    "                           comp_fn=lambda str1, str2: fuzz.partial_ratio(str1, str2) > 90)"
   ],
   "metadata": {
    "collapsed": false
   }
  }
 ],
 "metadata": {
  "kernelspec": {
   "display_name": "Python 3",
   "language": "python",
   "name": "python3"
  },
  "language_info": {
   "codemirror_mode": {
    "name": "ipython",
    "version": 2
   },
   "file_extension": ".py",
   "mimetype": "text/x-python",
   "name": "python",
   "nbconvert_exporter": "python",
   "pygments_lexer": "ipython2",
   "version": "2.7.6"
  }
 },
 "nbformat": 4,
 "nbformat_minor": 0
}
