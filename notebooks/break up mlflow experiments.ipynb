{
 "cells": [
  {
   "cell_type": "code",
   "execution_count": 1,
   "metadata": {
    "collapsed": true
   },
   "outputs": [],
   "source": [
    "import os\n",
    "import mlflow\n",
    "from mlflow import log_metric, log_param"
   ]
  },
  {
   "cell_type": "code",
   "execution_count": 2,
   "outputs": [],
   "source": [
    "mlrun_dir = '../../cluster_runs (copy)/.'"
   ],
   "metadata": {
    "collapsed": false
   }
  },
  {
   "cell_type": "code",
   "execution_count": 3,
   "outputs": [],
   "source": [
    "os.chdir(mlrun_dir)"
   ],
   "metadata": {
    "collapsed": false
   }
  },
  {
   "cell_type": "code",
   "execution_count": 4,
   "outputs": [],
   "source": [
    "exp_names = ('it_tunning', 'fr_tunning', 'ru_tunning', 'ge_tunning', 'en_tunning_search_iters_100')\n",
    "model_list= ['LogisticRegression', 'LogisticRegressionRidge', 'LogisticRegressionRidgeDual', 'LogisticRegressionLasso', 'LogisticRegressionElasticNet', 'RidgeClassifier', 'SVM', 'LinearSVM', 'LinearSVMDual', 'RandomForest', 'XGBoost', 'RandomForestV2', 'ComplementNaiveBayes', 'NaiveBayes']\n",
    "model_list= ['LogisticRegression', 'LogisticRegressionRidgeDual', 'LogisticRegressionLasso', 'LogisticRegressionElasticNet', 'RidgeClassifier', 'SVM', 'LinearSVM', 'LinearSVMDual', 'RandomForest', 'XGBoost', 'RandomForestV2', 'ComplementNaiveBayes', 'NaiveBayes']"
   ],
   "metadata": {
    "collapsed": false
   }
  },
  {
   "cell_type": "markdown",
   "source": [
    "## Separate single runs into multiple experiments"
   ],
   "metadata": {
    "collapsed": false
   }
  },
  {
   "cell_type": "markdown",
   "source": [
    "### Get dictionary of experiment names to their codes"
   ],
   "metadata": {
    "collapsed": false
   }
  },
  {
   "cell_type": "code",
   "execution_count": 5,
   "outputs": [],
   "source": [
    "from mlflow import MlflowClient\n",
    "from mlflow.entities import ViewType"
   ],
   "metadata": {
    "collapsed": false
   }
  },
  {
   "cell_type": "code",
   "execution_count": 6,
   "outputs": [],
   "source": [
    "client =  MlflowClient()"
   ],
   "metadata": {
    "collapsed": false
   }
  },
  {
   "cell_type": "code",
   "execution_count": null,
   "outputs": [
    {
     "name": "stdout",
     "output_type": "stream",
     "text": [
      "it_tunning_LogisticRegression_inner_cv\n"
     ]
    }
   ],
   "source": [
    "analysis_level = 'inner_cv'\n",
    "query = \"params.analysis_level = '{analysis_level}' and params.model_name = '{model_name}'\"\n",
    "for exp_name in exp_names:\n",
    "    exp_id = client.search_experiments(filter_string=f\"name = '{exp_name}'\")[0].experiment_id\n",
    "    for model_name in model_list:\n",
    "        print(f\"{exp_name}_{model_name}_{analysis_level}\")\n",
    "        try:\n",
    "            new_exp_id = client.create_experiment(f\"{exp_name}_{model_name}_{analysis_level}\")\n",
    "\n",
    "            runs = client.search_runs(\n",
    "            experiment_ids=[exp_id],\n",
    "            filter_string=query.format(model_name=model_name, analysis_level=analysis_level),\n",
    "            run_view_type=ViewType.ACTIVE_ONLY)\n",
    "\n",
    "            # Store each of the runs\n",
    "            for run in runs:\n",
    "                with mlflow.start_run(experiment_id=new_exp_id):\n",
    "                    for metric_name, metric_value in run.data.metrics.items():\n",
    "                        log_metric(metric_name, metric_value)\n",
    "\n",
    "                    for param_name, param_value in run.data.params.items():\n",
    "                        log_param(param_name, param_value)\n",
    "\n",
    "                mlflow.end_run()\n",
    "        except Exception as e:\n",
    "            print(e)\n",
    "            pass"
   ],
   "metadata": {
    "collapsed": false,
    "pycharm": {
     "is_executing": true
    }
   }
  },
  {
   "cell_type": "code",
   "execution_count": 24,
   "outputs": [],
   "source": [
    "exp = client.search_experiments(filter_string=\"name = 'it_tunning'\").experiment_id"
   ],
   "metadata": {
    "collapsed": false
   }
  },
  {
   "cell_type": "code",
   "execution_count": 26,
   "outputs": [
    {
     "data": {
      "text/plain": "'/net/cephfs/data/jberme/policy-framing/mlruns/7'"
     },
     "execution_count": 26,
     "metadata": {},
     "output_type": "execute_result"
    }
   ],
   "source": [
    "exp[0].artifact_location"
   ],
   "metadata": {
    "collapsed": false
   }
  },
  {
   "cell_type": "code",
   "execution_count": 27,
   "outputs": [
    {
     "data": {
      "text/plain": "'7'"
     },
     "execution_count": 27,
     "metadata": {},
     "output_type": "execute_result"
    }
   ],
   "source": [
    "exp[0].experiment_id"
   ],
   "metadata": {
    "collapsed": false
   }
  },
  {
   "cell_type": "code",
   "execution_count": 28,
   "outputs": [],
   "source": [
    "query = \"params.analysis_level = 'outer_cv' and params.model_name = 'LogisticRegression'\"\n",
    "runs = client.search_runs(experiment_ids=[\"7\"], filter_string=query, run_view_type=ViewType.ACTIVE_ONLY)"
   ],
   "metadata": {
    "collapsed": false
   }
  },
  {
   "cell_type": "code",
   "execution_count": 30,
   "outputs": [
    {
     "data": {
      "text/plain": "mlflow.store.entities.paged_list.PagedList"
     },
     "execution_count": 30,
     "metadata": {},
     "output_type": "execute_result"
    }
   ],
   "source": [
    "type(runs)"
   ],
   "metadata": {
    "collapsed": false
   }
  },
  {
   "cell_type": "code",
   "execution_count": 44,
   "outputs": [
    {
     "name": "stdout",
     "output_type": "stream",
     "text": [
      "dict_items([('train_recall_macro', 1.0), ('train_accuracy', 1.0), ('train_f1_macro', 1.0), ('test_f1_macro', 0.3630890603603488), ('test_precision_macro', 0.39776440490726195), ('train_precision_micro', 1.0), ('train_precision_macro', 1.0), ('test_precision_micro', 0.46681929181929177), ('test_accuracy', 0.05063291139240506), ('test_recall_macro', 0.3604607876159601), ('train_recall_micro', 1.0), ('train_f1_micro', 1.0), ('test_recall_micro', 0.458041958041958), ('test_f1_micro', 0.4531988325418664)])\n"
     ]
    }
   ],
   "source": [
    "for run in runs:\n",
    "    print(run.data.metrics.items())\n",
    "    break"
   ],
   "metadata": {
    "collapsed": false
   }
  },
  {
   "cell_type": "code",
   "execution_count": 45,
   "outputs": [
    {
     "data": {
      "text/plain": "{'min_df': '0.05',\n 'multilabel_type': 'independent',\n 'base_estimator_name': \"LogisticRegression(penalty='none')\",\n 'model_name': 'LogisticRegression',\n 'min_var': '0.001',\n 'n_features': '295',\n 'tfidf': 'True',\n 'class_weight': 'balanced',\n 'language': 'it',\n 'corr_threshold': '0.9',\n 'analysis_level': 'outer_cv',\n 'spacy_model_used': 'it_core_news_sm',\n 'max_df': '0.95',\n 'vectorizer_max_features': '10000',\n 'max_iter': '29700',\n 'is_count_vectorizer': 'False',\n 'unit_of_analysis': 'title_and_10_sentences',\n 'n_gram_range_start': '1',\n 'n_gram_range_end': '1'}"
     },
     "execution_count": 45,
     "metadata": {},
     "output_type": "execute_result"
    }
   ],
   "source": [
    "runs[0].data.params"
   ],
   "metadata": {
    "collapsed": false
   }
  },
  {
   "cell_type": "code",
   "execution_count": null,
   "outputs": [],
   "source": [],
   "metadata": {
    "collapsed": false
   }
  }
 ],
 "metadata": {
  "kernelspec": {
   "display_name": "Python 3",
   "language": "python",
   "name": "python3"
  },
  "language_info": {
   "codemirror_mode": {
    "name": "ipython",
    "version": 2
   },
   "file_extension": ".py",
   "mimetype": "text/x-python",
   "name": "python",
   "nbconvert_exporter": "python",
   "pygments_lexer": "ipython2",
   "version": "2.7.6"
  }
 },
 "nbformat": 4,
 "nbformat_minor": 0
}
